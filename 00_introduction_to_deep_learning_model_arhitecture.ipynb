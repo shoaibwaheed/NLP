{
 "cells": [
  {
   "cell_type": "markdown",
   "metadata": {
    "slideshow": {
     "slide_type": "slide"
    }
   },
   "source": [
    " <div>\n",
    "<img src=\"https://edlitera-images.s3.amazonaws.com/new_edlitera_logo.png\" width=\"500\"/>\n",
    "</div>"
   ]
  },
  {
   "cell_type": "markdown",
   "metadata": {
    "slideshow": {
     "slide_type": "slide"
    }
   },
   "source": [
    "# Introduction to `Deep Learning`"
   ]
  },
  {
   "cell_type": "markdown",
   "metadata": {
    "slideshow": {
     "slide_type": "fragment"
    }
   },
   "source": [
    "* family of **`Machine Learning`** methods that use **`artificial neural networks`** to solve problems\n",
    "    * also known as **`Deep Structured Learning`**\n",
    "\n",
    "  \n"
   ]
  },
  {
   "cell_type": "markdown",
   "metadata": {
    "slideshow": {
     "slide_type": "fragment"
    }
   },
   "source": [
    "* most advanced **`Machine Learning`** models nowadays are **`artificial neural networks`**"
   ]
  },
  {
   "cell_type": "markdown",
   "metadata": {
    "slideshow": {
     "slide_type": "fragment"
    }
   },
   "source": [
    "* **`artificial neural networks`** gather their inspiration from the biological representation of a human brain"
   ]
  },
  {
   "cell_type": "markdown",
   "metadata": {
    "slideshow": {
     "slide_type": "slide"
    }
   },
   "source": [
    "* **`Deep Learning`** models outperform other models used for **`NLP`** by a a large margin\n",
    "    * processing language data is one of the most popular uses of **`Deep Learning`**\n",
    "    * a lot of research has been directed into perfecting **`Deep Learning`** models for **`NLP`** by a lot of big companies\n",
    "    * leveraging the power of **`transfer learning`** we can relatively easily get great results"
   ]
  },
  {
   "cell_type": "markdown",
   "metadata": {
    "slideshow": {
     "slide_type": "slide"
    }
   },
   "source": [
    "## Differences between `classic Machine Learning` and `Deep Learning`"
   ]
  },
  {
   "cell_type": "markdown",
   "metadata": {
    "slideshow": {
     "slide_type": "slide"
    }
   },
   "source": [
    "**Function**\n",
    "\n",
    "* `classic Machine Learning `\n",
    "    * takes data as input and trains an algorithm\n",
    "    * after training it, we can feed new examples to the algorithm and it will give us predictions\n",
    "    \n",
    "* `Deep Learning`\n",
    "    * takes data and **draws conclusions from it**\n",
    "    * this way of learning allows `Deep Learning` models to get to solutions we as humans would not think of\n",
    "    \n",
    "\n",
    "* e.g. `AlphaGo` and the move no human has ever played"
   ]
  },
  {
   "cell_type": "markdown",
   "metadata": {
    "slideshow": {
     "slide_type": "slide"
    }
   },
   "source": [
    "**Working with features**\n",
    "\n",
    "* `Deep Learning` models don't depend on hand-crafted features\n",
    "\n",
    "\n",
    "* `artificial neural networks` will perform `hierarchical feature extraction`\n",
    "    * neural networks will first extract low-level features in the initial layers, and higher and higher level features in subsequent layers"
   ]
  },
  {
   "cell_type": "markdown",
   "metadata": {
    "slideshow": {
     "slide_type": "fragment"
    }
   },
   "source": [
    "**Data dependency**\n",
    "\n",
    "\n",
    "* `Deep Learning` requires a lot more data than `classic Machine Learning`\n",
    "\n",
    "\n",
    "* the results we get using small amounts of data are terrible compared to those `classic Machine Learning` models can achieve with the same amount of data\n",
    "    * somewhat remedied today with `transfer learning`, synthetic data, etc."
   ]
  },
  {
   "cell_type": "markdown",
   "metadata": {
    "slideshow": {
     "slide_type": "slide"
    }
   },
   "source": [
    "**Time required for training and inference**\n",
    "\n",
    "* training time is very dependent on the amount of data we use to train our networks\n",
    "    * a lot of data = long training times\n",
    "\n",
    "* inference time also relatively long\n"
   ]
  },
  {
   "cell_type": "markdown",
   "metadata": {
    "slideshow": {
     "slide_type": "fragment"
    }
   },
   "source": [
    "**Interpretability**\n",
    "\n",
    "* `artificial neural networks` are black box algorithms\n",
    "\n",
    "* still no big advancements in the field of explainable AI\n",
    "\n"
   ]
  },
  {
   "cell_type": "markdown",
   "metadata": {
    "slideshow": {
     "slide_type": "slide"
    }
   },
   "source": [
    "**Output shape**\n",
    "\n",
    "* a lot of different output shapes available\n",
    "    * text\n",
    "    * sound\n",
    "    * images\n",
    "    * numbers\n",
    "    * etc."
   ]
  },
  {
   "cell_type": "markdown",
   "metadata": {
    "slideshow": {
     "slide_type": "slide"
    }
   },
   "source": [
    "# Introduction to `Artificial Neural Networks (ANN)`"
   ]
  },
  {
   "cell_type": "markdown",
   "metadata": {
    "slideshow": {
     "slide_type": "fragment"
    }
   },
   "source": [
    "* networks made up of artificial neurons, modeled after brain cells"
   ]
  },
  {
   "cell_type": "markdown",
   "metadata": {
    "slideshow": {
     "slide_type": "fragment"
    }
   },
   "source": [
    "* artificial neural networks leverage the idea of processing information in a parallel way \n",
    "    * each neuron processes the data that is fed into it on its own, and then sends it further into the next layer of the network\n",
    "    * every network is made of many artificial neurons that all do their own computations at the same time"
   ]
  },
  {
   "cell_type": "markdown",
   "metadata": {
    "slideshow": {
     "slide_type": "fragment"
    }
   },
   "source": [
    "* to understand neural networks, you first must understand how each neuron functions on its own"
   ]
  },
  {
   "cell_type": "markdown",
   "metadata": {
    "slideshow": {
     "slide_type": "fragment"
    }
   },
   "source": [
    "* the capacity of an ANN is defined by how many layers that network has"
   ]
  },
  {
   "cell_type": "markdown",
   "metadata": {
    "slideshow": {
     "slide_type": "slide"
    }
   },
   "source": [
    "**Types of layers in a simple neural network:**\n",
    "\n",
    "* input layers\n",
    "* hidden layers\n",
    "* output layers"
   ]
  },
  {
   "cell_type": "markdown",
   "metadata": {
    "slideshow": {
     "slide_type": "fragment"
    }
   },
   "source": [
    "<center><img src=\"https://edlitera-images.s3.amazonaws.com/ANN.png\" width=\"700\">\n",
    "source:\n",
    "<br>\n",
    "Lillicrap TP, Santoro A, Marris L, Akerman CJ, Hinton G. Backpropagation and the brain. Nat Rev Neurosci. 2020 Jun;21(6):335-346. doi: 10.1038/s41583-020-0277-3. Epub 2020 Apr 17. PMID: 32303713."
   ]
  },
  {
   "cell_type": "markdown",
   "metadata": {
    "slideshow": {
     "slide_type": "slide"
    }
   },
   "source": [
    "## `Perceptron`"
   ]
  },
  {
   "cell_type": "markdown",
   "metadata": {
    "slideshow": {
     "slide_type": "fragment"
    }
   },
   "source": [
    "\n",
    "* a mathematical model we use for explaining neurons is called a **`perceptron`**"
   ]
  },
  {
   "cell_type": "markdown",
   "metadata": {
    "slideshow": {
     "slide_type": "fragment"
    }
   },
   "source": [
    "<center><img src=\"https://edlitera-images.s3.amazonaws.com/perceptron.png\" width=\"700\">\n"
   ]
  },
  {
   "cell_type": "markdown",
   "metadata": {
    "slideshow": {
     "slide_type": "slide"
    }
   },
   "source": [
    "**Simplified mathematical formula:**\n",
    "\n",
    "<br>\n",
    "\n",
    "\n",
    "$\\phi(z) = w_0x_0 + w_1x_1 + ... + w_mx_m$\n",
    "\n",
    "<br>\n",
    "\n",
    "* $\\phi(z)$ is the decision function\n",
    "* $w_i$ are the weights \n",
    "* $x_i$ are the inputs\n",
    "* $w_0$ is the **`bias unit`**"
   ]
  },
  {
   "cell_type": "markdown",
   "metadata": {
    "slideshow": {
     "slide_type": "slide"
    }
   },
   "source": [
    "### How does a `perceptron` learn?"
   ]
  },
  {
   "cell_type": "markdown",
   "metadata": {
    "slideshow": {
     "slide_type": "fragment"
    }
   },
   "source": [
    "* initialize the weights to some small values to start training our **`perceptron`**"
   ]
  },
  {
   "cell_type": "markdown",
   "metadata": {
    "slideshow": {
     "slide_type": "fragment"
    }
   },
   "source": [
    "* compute the net input of $w_0x_0 + w_1x_1 + ... + w_mx_m$\n",
    "    <br>\n",
    "    \n",
    "    * if bigger than or equal to 0, predict the positive class\n",
    "    * if less than 0, predict the negative class \n",
    "    \n",
    "    "
   ]
  },
  {
   "cell_type": "markdown",
   "metadata": {
    "slideshow": {
     "slide_type": "fragment"
    }
   },
   "source": [
    "* compare the predicted result with the real result "
   ]
  },
  {
   "cell_type": "markdown",
   "metadata": {
    "slideshow": {
     "slide_type": "slide"
    }
   },
   "source": [
    "* using the difference between the real result, and the predicted result update the weights value\n",
    "    <br>\n",
    "    \n",
    "    * all weights are updated at the same time\n",
    "    * we control how fast that change in weights happens using the **`learning rate`** parameter ( $0 < \\eta < 1$)"
   ]
  },
  {
   "cell_type": "markdown",
   "metadata": {
    "slideshow": {
     "slide_type": "fragment"
    }
   },
   "source": [
    "* one such pass is called an **`epoch`**"
   ]
  },
  {
   "cell_type": "markdown",
   "metadata": {
    "slideshow": {
     "slide_type": "slide"
    }
   },
   "source": [
    "### Problem"
   ]
  },
  {
   "cell_type": "markdown",
   "metadata": {
    "slideshow": {
     "slide_type": "fragment"
    }
   },
   "source": [
    "* the **`perceptron`** cannot deal with non linearly separable data"
   ]
  },
  {
   "cell_type": "markdown",
   "metadata": {
    "slideshow": {
     "slide_type": "fragment"
    }
   },
   "source": [
    "* also, stringing multiple **`perceptrons`** together can always be represented as one bigger **`pereceptron`**\n",
    "    * we can't actually build **`deep neural networks`** this way"
   ]
  },
  {
   "cell_type": "markdown",
   "metadata": {
    "slideshow": {
     "slide_type": "slide"
    }
   },
   "source": [
    "### Solution to the problem"
   ]
  },
  {
   "cell_type": "markdown",
   "metadata": {
    "slideshow": {
     "slide_type": "fragment"
    }
   },
   "source": [
    "* pass the output through some type of function"
   ]
  },
  {
   "cell_type": "markdown",
   "metadata": {
    "slideshow": {
     "slide_type": "fragment"
    }
   },
   "source": [
    "* special types of functions:  **`activation functions`**"
   ]
  },
  {
   "cell_type": "markdown",
   "metadata": {
    "slideshow": {
     "slide_type": "slide"
    }
   },
   "source": [
    "## `ADALINE (ADAptive LInear NEurons)`"
   ]
  },
  {
   "cell_type": "markdown",
   "metadata": {
    "slideshow": {
     "slide_type": "fragment"
    }
   },
   "source": [
    "<center><img src=\"https://edlitera-images.s3.amazonaws.com/adaline.png\" width=\"800\">\n"
   ]
  },
  {
   "cell_type": "markdown",
   "metadata": {
    "slideshow": {
     "slide_type": "slide"
    }
   },
   "source": [
    "### Differences between `ADALINE` and a  `perceptron`"
   ]
  },
  {
   "cell_type": "markdown",
   "metadata": {
    "slideshow": {
     "slide_type": "fragment"
    }
   },
   "source": [
    "* after calculating the sum of inputs multiplied with the weights and the bias we pass that value through an **`activation function`**"
   ]
  },
  {
   "cell_type": "markdown",
   "metadata": {
    "slideshow": {
     "slide_type": "fragment"
    }
   },
   "source": [
    "* the activation function introduces non-linearity\n",
    "    <br>\n",
    "    \n",
    "    * allows the perceptron to deal with non-linearly separable data"
   ]
  },
  {
   "cell_type": "markdown",
   "metadata": {
    "slideshow": {
     "slide_type": "fragment"
    }
   },
   "source": [
    "* allows us to build **`neural networks`**"
   ]
  },
  {
   "cell_type": "markdown",
   "metadata": {
    "slideshow": {
     "slide_type": "slide"
    }
   },
   "source": [
    "# `Multilayer Perceptron (MLP)`"
   ]
  },
  {
   "cell_type": "markdown",
   "metadata": {
    "slideshow": {
     "slide_type": "fragment"
    }
   },
   "source": [
    "* tipically used as a name for a vanilla **`feed forward neural network`** with three layers:\n",
    "    <br>\n",
    "    \n",
    "    * an input layer\n",
    "    * a hidden layer\n",
    "    * an output layer"
   ]
  },
  {
   "cell_type": "markdown",
   "metadata": {
    "slideshow": {
     "slide_type": "fragment"
    }
   },
   "source": [
    "* training an **`MLP`** consists of two parts\n",
    "    <br>\n",
    "    \n",
    "    * **`forward propagation`**\n",
    "    * **`backpropagation`**"
   ]
  },
  {
   "cell_type": "markdown",
   "metadata": {
    "slideshow": {
     "slide_type": "fragment"
    }
   },
   "source": [
    "* performing forward propagation followed by backpropagation is considered one **`epoch`**"
   ]
  },
  {
   "cell_type": "markdown",
   "metadata": {
    "slideshow": {
     "slide_type": "slide"
    }
   },
   "source": [
    "## `Forward propagation`"
   ]
  },
  {
   "cell_type": "markdown",
   "metadata": {
    "slideshow": {
     "slide_type": "fragment"
    }
   },
   "source": [
    "<center><img src=\"https://edlitera-images.s3.amazonaws.com/MLP_forward_propagation.png\" width=\"700\">\n",
    "\n",
    "\n",
    "\n",
    "inspired by:\n",
    "<br>\n",
    "http://knightchen.com/2019/08/25/dl40/"
   ]
  },
  {
   "cell_type": "markdown",
   "metadata": {
    "slideshow": {
     "slide_type": "slide"
    }
   },
   "source": [
    "### The proces"
   ]
  },
  {
   "cell_type": "markdown",
   "metadata": {
    "slideshow": {
     "slide_type": "fragment"
    }
   },
   "source": [
    "**1. Input layer to hidden layer** \n",
    "\n",
    "* multiply the value $x_{i}$ of some neuron with some weights $w_{i}$ and add a bias value to that product\n",
    "\n",
    "\n",
    "* each input value needs to propagate to all neurons in the following layer (the hidden layer)\n",
    "    * the input value of the neurons stays the same, but the weights for each connection are unique\n",
    "\n",
    "\n",
    "* after you sum all the values that go into a particular neuron, pass the result through an activation function to get the value of that particular neuron in the hidden layer"
   ]
  },
  {
   "cell_type": "markdown",
   "metadata": {
    "slideshow": {
     "slide_type": "fragment"
    }
   },
   "source": [
    "**2. Hidden layer to output layer** \n",
    "\n",
    "* the same procedure from step 1 repeats, except that you use the values of the hidden neurons instead of input values\n",
    "\n",
    "\n",
    "* we get some final output result and then we perform backpropagation"
   ]
  },
  {
   "cell_type": "markdown",
   "metadata": {
    "slideshow": {
     "slide_type": "slide"
    }
   },
   "source": [
    "<center><img src=\"https://edlitera-images.s3.amazonaws.com/MLP_forward_propagation_formulas.png\" width=\"800\">\n"
   ]
  },
  {
   "cell_type": "markdown",
   "metadata": {
    "slideshow": {
     "slide_type": "slide"
    }
   },
   "source": [
    "## `Backpropagation`"
   ]
  },
  {
   "cell_type": "markdown",
   "metadata": {
    "slideshow": {
     "slide_type": "fragment"
    }
   },
   "source": [
    "* once we finish the process of forward propagation we will get some predicted result"
   ]
  },
  {
   "cell_type": "markdown",
   "metadata": {
    "slideshow": {
     "slide_type": "fragment"
    }
   },
   "source": [
    "* we can compare the predicted result to the real result to see how big our prediction error is \n",
    "    * we can use that to tune the weights of our network"
   ]
  },
  {
   "cell_type": "markdown",
   "metadata": {
    "slideshow": {
     "slide_type": "fragment"
    }
   },
   "source": [
    "* tuning the values of the weights is performed using an optimization algorithm\n",
    "    * we use a variant of the **gradient descent** algorithm"
   ]
  },
  {
   "cell_type": "markdown",
   "metadata": {
    "slideshow": {
     "slide_type": "slide"
    }
   },
   "source": [
    "**Short explanation:**\n",
    "\n",
    "* in backpropagation, we calculate the gradient of the loss function with respect to the weights of our network using the chain rule\n",
    "\n",
    "\n",
    "* the gradient gets computed one layer at a time, iterating from the last layer backwards\n",
    "\n",
    "\n",
    "* we won't go into the math of it during the course because it would take up too much time\n",
    "    * it gets handled by the modules we use for Deep Learning in Keras, so as long as you know what happens knowing the exact formulas is not necessary "
   ]
  },
  {
   "cell_type": "markdown",
   "metadata": {
    "slideshow": {
     "slide_type": "slide"
    }
   },
   "source": [
    "# `Choosing model parameters` "
   ]
  },
  {
   "cell_type": "markdown",
   "metadata": {
    "slideshow": {
     "slide_type": "fragment"
    }
   },
   "source": [
    "* in the models above we need to define the following:\n",
    "\n",
    "* number of layers\n",
    "* number of neurons inside each layer\n",
    "* the activation functions we want to use for each layer\n",
    "\n",
    "\n",
    "**Note:** there are other layers and parameters we can add to our network (e.g. regularization layers), but we will talk about them a bit later\n"
   ]
  },
  {
   "cell_type": "markdown",
   "metadata": {
    "slideshow": {
     "slide_type": "slide"
    }
   },
   "source": [
    "## `Layer number`"
   ]
  },
  {
   "cell_type": "markdown",
   "metadata": {
    "slideshow": {
     "slide_type": "fragment"
    }
   },
   "source": [
    "* for less complex data: one to two hidden layers"
   ]
  },
  {
   "cell_type": "markdown",
   "metadata": {
    "slideshow": {
     "slide_type": "fragment"
    }
   },
   "source": [
    "* for more complex data: we prefer to stay in the single digits for our number of layers"
   ]
  },
  {
   "cell_type": "markdown",
   "metadata": {
    "slideshow": {
     "slide_type": "fragment"
    }
   },
   "source": [
    "* it is very important **not to use too many layers**\n",
    "    * using to many hidden layers is the equivalent of using too many trees in a Random Forest or XGBoost model, it will lead to overfitting very fast"
   ]
  },
  {
   "cell_type": "markdown",
   "metadata": {
    "slideshow": {
     "slide_type": "slide"
    }
   },
   "source": [
    "**Rule of thumb for picking the number of hidden layers:**\n",
    "\n",
    "* start with 2 layers and modify that number based on model results\n",
    "    * overfitting: reduce number of layers\n",
    "    * underfitting: increase number of layers\n",
    "\n",
    "**Note:** the number of layers isn't the only thing that can contribute to model overfitting or underfitting: layer size (number of neurons in a layers) is also very important\n",
    "\n",
    "    "
   ]
  },
  {
   "cell_type": "markdown",
   "metadata": {
    "slideshow": {
     "slide_type": "slide"
    }
   },
   "source": [
    "## `Neuron number`"
   ]
  },
  {
   "cell_type": "markdown",
   "metadata": {
    "slideshow": {
     "slide_type": "fragment"
    }
   },
   "source": [
    "* the number of neurons we use heavily depends on the type of layer"
   ]
  },
  {
   "cell_type": "markdown",
   "metadata": {
    "slideshow": {
     "slide_type": "fragment"
    }
   },
   "source": [
    "* the number of neurons we want to use is a hyperparameter that we tune"
   ]
  },
  {
   "cell_type": "markdown",
   "metadata": {
    "slideshow": {
     "slide_type": "slide"
    }
   },
   "source": [
    "**`Input layer:`**\n",
    "\n",
    "* always the first layer\n",
    "* number of neurons is completely dependent on the shape of your data\n",
    "\n",
    "    * the first layer must have enough neurons to represent our data"
   ]
  },
  {
   "cell_type": "markdown",
   "metadata": {
    "slideshow": {
     "slide_type": "slide"
    }
   },
   "source": [
    "**`Hidden layers:`**\n",
    "\n",
    "\n",
    "* unfortunately there is no \"rule\", the number of hidden layer neurons is a hyperparameter that needs to be optimized\n",
    "\n",
    "\n",
    "\n",
    "* you will probably never pick the right number of neurons from the start\n",
    "    * **unless** you are working on a problem extremely similar to one you have already solved\n",
    "\n",
    "\n",
    "* some people abide by the following formula: **number of hidden neurons = (number of inputs + number of outputs) * 2/3**\n",
    "    \n",
    "  \n",
    "  \n",
    "* **DON'T follow this formula:** it doesn't take into account many factors such as whether we have included regularization or not, what kind of regularization, how big is our dataset, what type of network we are using, etc.\n",
    "\n",
    "\n",
    "\n",
    "* **General rules of thumbs to use:** \n",
    "    * the number of neurons should decrease with each following hidden layer (so that we get closer and closer to our wanted result)\n",
    "    * try and overfit your model, and work from there (it is always better to start with too many neurons than too little)\n",
    "    \n",
    "    \n"
   ]
  },
  {
   "cell_type": "markdown",
   "metadata": {
    "slideshow": {
     "slide_type": "slide"
    }
   },
   "source": [
    "**`Output layer:`**\n",
    "\n",
    "* number of neurons is completely dependent on your task\n",
    "\n",
    "\n",
    "* regression task: one neuron\n",
    "\n",
    "\n",
    "* classification task: depends on the number of classes you want to predict\n",
    "    <br>\n",
    "    \n",
    "    * **binary classification: one neuron**\n",
    "    * **multiclass classification: multiple neurons (one per class label)**"
   ]
  },
  {
   "cell_type": "markdown",
   "metadata": {
    "slideshow": {
     "slide_type": "slide"
    }
   },
   "source": [
    "## `Activation functions`"
   ]
  },
  {
   "cell_type": "markdown",
   "metadata": {
    "slideshow": {
     "slide_type": "fragment"
    }
   },
   "source": [
    "* added to the standard threshold model as a way of introducing non linearities\n",
    "\n",
    "\n",
    "* by squishing our net input function (the sum of values) within a certain range they allow complex computations\n",
    "    * the range depends on the activation function itself\n",
    "    \n",
    "    \n",
    "* **allow the creation of networks of neurons !!!**\n",
    "    * without introducing activation functions we could not create neural networks but would be stuck with a single perceptron\n",
    "    * a neural network without an activation function is basically a linear regression model"
   ]
  },
  {
   "cell_type": "markdown",
   "metadata": {},
   "source": [
    "<center><img src=\"https://edlitera-images.s3.amazonaws.com/all_activation_functions.png\" width=\"800\">"
   ]
  },
  {
   "cell_type": "markdown",
   "metadata": {
    "slideshow": {
     "slide_type": "slide"
    }
   },
   "source": [
    "**Most popular activation functions**\n",
    "\n",
    "* `Sigmoid `\n",
    "\n",
    "* `Tanh`\n",
    "\n",
    "* `ReLU`\n",
    "\n",
    "* `Leaky ReLU`\n",
    "\n",
    "* `Parametric ReLU(PReLU)`\n",
    "\n",
    "* `Exponential Linear Unit (ELU)`\n",
    "\n",
    "* `Softmax`\n",
    "\n",
    "\n",
    "**Honourable mentions:**\n",
    "\n",
    "* `SELU`\n",
    "* `RELU6`\n",
    "* `softplus`\n",
    "* `Swish` \n",
    "* `mish`"
   ]
  },
  {
   "cell_type": "markdown",
   "metadata": {
    "slideshow": {
     "slide_type": "slide"
    }
   },
   "source": [
    "### `Sigmoid`"
   ]
  },
  {
   "cell_type": "markdown",
   "metadata": {
    "slideshow": {
     "slide_type": "fragment"
    }
   },
   "source": [
    "<img src=\"https://edlitera-images.s3.amazonaws.com/sigmoid_activation_function.png\" width=\"1000\">"
   ]
  },
  {
   "cell_type": "markdown",
   "metadata": {
    "slideshow": {
     "slide_type": "slide"
    }
   },
   "source": [
    "**Characteristics**\n",
    "\n",
    "\n",
    "* widely used non-linear activation function\n",
    "\n",
    "\n",
    "* squishes the output in the **range from 0 to 1**\n",
    "\n",
    "\n",
    "* **often used for binary classification**"
   ]
  },
  {
   "cell_type": "markdown",
   "metadata": {
    "slideshow": {
     "slide_type": "fragment"
    }
   },
   "source": [
    "**Vanishing gradient problem**\n",
    "\n",
    "\n",
    "* reason why the sigmoid function (alongside tanh function) is sometimes avoided\n",
    "\n",
    "\n",
    "* when we look at the gradient values of this function, they are only significant for the range between -3 and 3\n",
    "\n",
    "\n",
    "* out of that range, the gradient values are too small for the network to learn"
   ]
  },
  {
   "cell_type": "markdown",
   "metadata": {
    "slideshow": {
     "slide_type": "slide"
    }
   },
   "source": [
    "### `Tanh`"
   ]
  },
  {
   "cell_type": "markdown",
   "metadata": {
    "slideshow": {
     "slide_type": "fragment"
    }
   },
   "source": [
    "<img src=\"https://edlitera-images.s3.amazonaws.com/tanh_activation_function.png\" width=\"1000\">"
   ]
  },
  {
   "cell_type": "markdown",
   "metadata": {
    "slideshow": {
     "slide_type": "slide"
    }
   },
   "source": [
    "**Characteristics**\n",
    "\n",
    "\n",
    "* commonly used non-linear activation function\n",
    "\n",
    "\n",
    "* squishes the output in the **range from -1 to 1**\n",
    "\n",
    "\n",
    "* **often used in RNNs**"
   ]
  },
  {
   "cell_type": "markdown",
   "metadata": {
    "slideshow": {
     "slide_type": "fragment"
    }
   },
   "source": [
    "**Vanishing gradient problem**\n",
    "\n",
    "\n",
    "* suffers the same problem as the sigmoid function\n",
    "\n",
    "\n",
    "* when we look at the gradient values of this function, they are only significant for the range between -2 and 2\n",
    "\n",
    "\n",
    "* out of that range, the gradient values are too small for the network to learn"
   ]
  },
  {
   "cell_type": "markdown",
   "metadata": {
    "slideshow": {
     "slide_type": "slide"
    }
   },
   "source": [
    "### `ReLU` "
   ]
  },
  {
   "cell_type": "markdown",
   "metadata": {
    "slideshow": {
     "slide_type": "fragment"
    }
   },
   "source": [
    "<img src=\"https://edlitera-images.s3.amazonaws.com/ReLU_activation_function.png\" width=\"1000\">"
   ]
  },
  {
   "cell_type": "markdown",
   "metadata": {
    "slideshow": {
     "slide_type": "slide"
    }
   },
   "source": [
    "**Characteristics of `ReLU`**\n",
    "\n",
    "* `ReLU` is **the most widely used activation function today**\n",
    "\n",
    "\n",
    "* squishes the output in the **range from 0 to infinity**\n",
    "\n",
    "\n",
    "* this range takes care of the vanishing gradient problem, but introduces a new one: **dying ReLU problem**"
   ]
  },
  {
   "cell_type": "markdown",
   "metadata": {
    "slideshow": {
     "slide_type": "fragment"
    }
   },
   "source": [
    "**The Dying ReLU problem**\n",
    "\n",
    "* because of the range, models become sparse (all inputs smaller than 0 are not taken into account)\n",
    "\n",
    "\n",
    "* the process of neurons \"dying off\"\n",
    "    * too many neurons with negative activation produce zeroes\n",
    "    * this stops the model from learning"
   ]
  },
  {
   "cell_type": "markdown",
   "metadata": {
    "slideshow": {
     "slide_type": "fragment"
    }
   },
   "source": [
    "* ReLU is the activation function used in most networks nowadays\n",
    "    * there are some modifications we can make that are designed to solve the dying ReLU problem"
   ]
  },
  {
   "cell_type": "markdown",
   "metadata": {
    "slideshow": {
     "slide_type": "slide"
    }
   },
   "source": [
    "## `Softmax`"
   ]
  },
  {
   "cell_type": "markdown",
   "metadata": {
    "slideshow": {
     "slide_type": "fragment"
    }
   },
   "source": [
    "* also called softargmax or normalized exponential function"
   ]
  },
  {
   "cell_type": "markdown",
   "metadata": {
    "slideshow": {
     "slide_type": "fragment"
    }
   },
   "source": [
    "* **used in output layers of neural networks for multiclass classification**"
   ]
  },
  {
   "cell_type": "markdown",
   "metadata": {
    "slideshow": {
     "slide_type": "fragment"
    }
   },
   "source": [
    "* extends the squashing concept of the sigomid function to allow for multiclass classification\n"
   ]
  },
  {
   "cell_type": "markdown",
   "metadata": {
    "slideshow": {
     "slide_type": "fragment"
    }
   },
   "source": [
    "* outputs one value for each node in the output layer\n",
    "    * the output is in the range between 0 and 1 \n",
    "    * the output of all nodes adds up to 1 and forms a probability distribution"
   ]
  },
  {
   "cell_type": "markdown",
   "metadata": {
    "slideshow": {
     "slide_type": "fragment"
    }
   },
   "source": [
    "* good because softmax normalization reduces the influence of outliers on the dataset"
   ]
  },
  {
   "cell_type": "markdown",
   "metadata": {
    "slideshow": {
     "slide_type": "slide"
    }
   },
   "source": [
    "# `Deep Learning in Python`"
   ]
  },
  {
   "cell_type": "markdown",
   "metadata": {
    "slideshow": {
     "slide_type": "fragment"
    }
   },
   "source": [
    "**Most popular `Deep Learning` libraries are:**\n",
    "\n",
    "* `Keras`\n",
    "\n",
    "* `Tensorflow`\n",
    "\n",
    "* `Pytorch`"
   ]
  },
  {
   "cell_type": "markdown",
   "metadata": {
    "slideshow": {
     "slide_type": "fragment"
    }
   },
   "source": [
    "* we will focus on **`Tensorflow`** and **`Keras`**\n",
    "    <br>\n",
    "    \n",
    "    * `Keras` is the easiest library to use\n",
    "    * uses `Tensorflow` (or `Theano`) as a 'backend'"
   ]
  },
  {
   "cell_type": "markdown",
   "metadata": {
    "slideshow": {
     "slide_type": "slide"
    }
   },
   "source": [
    "# <a href=\"https://keras.io/\">Keras</a> "
   ]
  },
  {
   "cell_type": "markdown",
   "metadata": {
    "slideshow": {
     "slide_type": "fragment"
    }
   },
   "source": [
    "* great library for **`Deep Learning`** algorithm"
   ]
  },
  {
   "cell_type": "markdown",
   "metadata": {
    "slideshow": {
     "slide_type": "fragment"
    }
   },
   "source": [
    " * many built-in neural networks algorithm"
   ]
  },
  {
   "cell_type": "markdown",
   "metadata": {
    "slideshow": {
     "slide_type": "fragment"
    }
   },
   "source": [
    "* great community"
   ]
  },
  {
   "cell_type": "markdown",
   "metadata": {
    "slideshow": {
     "slide_type": "fragment"
    }
   },
   "source": [
    "* lots of examples"
   ]
  },
  {
   "cell_type": "markdown",
   "metadata": {
    "slideshow": {
     "slide_type": "slide"
    }
   },
   "source": [
    "*  more readable code than with **`Tensorflow`** or **`PyTorch`**"
   ]
  },
  {
   "cell_type": "markdown",
   "metadata": {
    "slideshow": {
     "slide_type": "fragment"
    }
   },
   "source": [
    "* probably the most popular for **`Deep Learning`**"
   ]
  },
  {
   "cell_type": "markdown",
   "metadata": {
    "slideshow": {
     "slide_type": "fragment"
    }
   },
   "source": [
    "* uses **`Tensorflow`** or **`Theano`** as a 'backend'"
   ]
  },
  {
   "cell_type": "markdown",
   "metadata": {
    "slideshow": {
     "slide_type": "slide"
    }
   },
   "source": [
    "# <a href=\"https://www.tensorflow.org/\">TensorFlow</a>"
   ]
  },
  {
   "cell_type": "markdown",
   "metadata": {
    "slideshow": {
     "slide_type": "fragment"
    }
   },
   "source": [
    "* initially developed at Google"
   ]
  },
  {
   "cell_type": "markdown",
   "metadata": {
    "slideshow": {
     "slide_type": "fragment"
    }
   },
   "source": [
    "* also has APIs for **`JavaScript`** and **`Swift`**"
   ]
  },
  {
   "cell_type": "markdown",
   "metadata": {
    "slideshow": {
     "slide_type": "fragment"
    }
   },
   "source": [
    "* has low-level APIs (generally more low-level than **`Keras`**)"
   ]
  },
  {
   "cell_type": "markdown",
   "metadata": {
    "slideshow": {
     "slide_type": "fragment"
    }
   },
   "source": [
    "* we are not going to talk about it that much, but will instead focus on **`Keras`**"
   ]
  },
  {
   "cell_type": "markdown",
   "metadata": {
    "slideshow": {
     "slide_type": "slide"
    }
   },
   "source": [
    "# Why use `Keras` instead of `Tensorflow`"
   ]
  },
  {
   "cell_type": "markdown",
   "metadata": {
    "slideshow": {
     "slide_type": "fragment"
    }
   },
   "source": [
    "* there are multiple benefits to learning both **`Tensorflow`** and **`Keras`**\n",
    "    <br>\n",
    "    \n",
    "    * knowing both of them is all you need to solve any **`Deep Learning`** problem out there"
   ]
  },
  {
   "cell_type": "markdown",
   "metadata": {
    "slideshow": {
     "slide_type": "fragment"
    }
   },
   "source": [
    "* Tensorflow does have its advantages:\n",
    "    * it is more flexible\n",
    "    * allows user more detailed control of a network\n",
    "    * it has a built-in debugger \n",
    "    \n",
    "    \n",
    "* HOWEVER it has one big flaw: it is very  complex, so it is hard to use for beginners\n",
    "    "
   ]
  },
  {
   "cell_type": "markdown",
   "metadata": {
    "slideshow": {
     "slide_type": "slide"
    }
   },
   "source": [
    "* the best approach: start with **`Keras`** and transition into **`Tensorflow`**\n",
    "\n",
    "\n",
    "* **a lot of people will actually never need to transition because the models they build are not complex enough**"
   ]
  },
  {
   "cell_type": "markdown",
   "metadata": {
    "slideshow": {
     "slide_type": "fragment"
    }
   },
   "source": [
    "* in general you can follow the rules below:\n",
    "    \n",
    "    * Scientific research and extremely complicated networks - use **`Tensorflow`**\n",
    "    * Everything else - use **`Keras`**"
   ]
  },
  {
   "cell_type": "markdown",
   "metadata": {
    "slideshow": {
     "slide_type": "fragment"
    }
   },
   "source": [
    "* also take into account that **learning Tensorflow is useless without understanding `Deep Learning` in-depth**\n",
    "    * just knowing how neural networks work is not enough\n",
    "    * need to know more math to take advantage of it"
   ]
  },
  {
   "cell_type": "markdown",
   "metadata": {
    "slideshow": {
     "slide_type": "slide"
    }
   },
   "source": [
    "# `Basics of Keras`"
   ]
  },
  {
   "cell_type": "markdown",
   "metadata": {
    "slideshow": {
     "slide_type": "fragment"
    }
   },
   "source": [
    "\n",
    "<center><img src=\"https://edlitera-images.s3.amazonaws.com/Keras_API.png\" width=\"700\"/>\n",
    "\n",
    "source:\n",
    "<br>\n",
    "https://punchplatform.com/2019/07/08/tensorflow-keras-pml-pipeline/"
   ]
  },
  {
   "cell_type": "markdown",
   "metadata": {
    "slideshow": {
     "slide_type": "slide"
    }
   },
   "source": [
    "* the basic building blocks of **`Keras`** are so-called **layers**"
   ]
  },
  {
   "cell_type": "markdown",
   "metadata": {
    "slideshow": {
     "slide_type": "fragment"
    }
   },
   "source": [
    "* each of these layers provides a certain functionality\n",
    "    * everything that we have mentioned up to now is represented in **`Keras`** as one of these layers\n",
    "    * even **Dropout** and similar things can be represented as layers"
   ]
  },
  {
   "cell_type": "markdown",
   "metadata": {
    "slideshow": {
     "slide_type": "slide"
    }
   },
   "source": [
    "**Types of layers in Keras:**\n",
    "\n",
    "* Input layer\n",
    "* Dense layer\n",
    "* Activation layer\n",
    "* Normalization layer\n",
    "* Dropout layer\n",
    "* Embedding layer\n",
    "* Recurrent layer\n",
    "* etc.\n",
    "\n",
    "**Additional information:** https://keras.io/api/layers/"
   ]
  },
  {
   "cell_type": "markdown",
   "metadata": {
    "slideshow": {
     "slide_type": "fragment"
    }
   },
   "source": [
    "* don't try to remember everything by heart\n",
    "\n",
    "\n",
    "* once you understand how to create models using layers, you can easily find the layer you need in the documentation\n",
    "\n",
    "\n",
    "* also, we will go over all of the commonly used layers in this course"
   ]
  },
  {
   "cell_type": "markdown",
   "metadata": {
    "slideshow": {
     "slide_type": "slide"
    }
   },
   "source": [
    "# `Defining model arhitecture in Keras`"
   ]
  },
  {
   "cell_type": "markdown",
   "metadata": {
    "slideshow": {
     "slide_type": "fragment"
    }
   },
   "source": [
    "**Three ways to build models in Keras (three API styles):**\n",
    "\n",
    "* `The Sequential Model`\n",
    "* `The Functional Model`\n",
    "* `Model Subclassing`"
   ]
  },
  {
   "cell_type": "markdown",
   "metadata": {
    "slideshow": {
     "slide_type": "fragment"
    }
   },
   "source": [
    "* `Model Subclassing` is rarely used, so we will skip it"
   ]
  },
  {
   "cell_type": "markdown",
   "metadata": {
    "slideshow": {
     "slide_type": "slide"
    }
   },
   "source": [
    "**`The Sequential Model`**\n",
    "\n",
    "* extremely simple\n",
    "* can be used only for single I/O sequential layer stacks\n",
    "* can be used over 70 % of the time (most neural network arhitectures are simple enough to be created as a `Sequential Model`)"
   ]
  },
  {
   "cell_type": "code",
   "execution_count": 1,
   "metadata": {
    "slideshow": {
     "slide_type": "slide"
    }
   },
   "outputs": [
    {
     "name": "stdout",
     "output_type": "stream",
     "text": [
      "Model: \"sequential\"\n",
      "_________________________________________________________________\n",
      "Layer (type)                 Output Shape              Param #   \n",
      "=================================================================\n",
      "dense (Dense)                (None, 16)                528       \n",
      "_________________________________________________________________\n",
      "dense_1 (Dense)              (None, 8)                 136       \n",
      "_________________________________________________________________\n",
      "dropout (Dropout)            (None, 8)                 0         \n",
      "_________________________________________________________________\n",
      "dense_2 (Dense)              (None, 1)                 9         \n",
      "=================================================================\n",
      "Total params: 673\n",
      "Trainable params: 673\n",
      "Non-trainable params: 0\n",
      "_________________________________________________________________\n"
     ]
    }
   ],
   "source": [
    "# Example Sequential Model\n",
    "\n",
    "import keras\n",
    "from keras.models import Sequential\n",
    "from keras.layers import Dense, Dropout\n",
    "\n",
    "model = Sequential()\n",
    "\n",
    "model.add(Dense(16, activation=\"relu\", input_shape=(32,)))\n",
    "model.add(Dense(8, activation=\"relu\"))\n",
    "model.add(Dropout(0.5))\n",
    "model.add(Dense(1, activation=\"sigmoid\"))\n",
    "\n",
    "model.summary()"
   ]
  },
  {
   "cell_type": "markdown",
   "metadata": {
    "slideshow": {
     "slide_type": "slide"
    }
   },
   "source": [
    "**`The Functional Model`**\n",
    "\n",
    "* more complicated than the `Sequential Model`, but still relatively simple\n",
    "* consists of connecting layers like Lego bricks into whatever configuration we want\n",
    "* can be used to create multi I/O, arbitrarily structured models\n",
    "* can be used to solve 95 % problems (more flexible than the `Sequential API` so it can solve more problems)"
   ]
  },
  {
   "cell_type": "code",
   "execution_count": 2,
   "metadata": {
    "slideshow": {
     "slide_type": "slide"
    }
   },
   "outputs": [
    {
     "name": "stdout",
     "output_type": "stream",
     "text": [
      "Model: \"model\"\n",
      "_________________________________________________________________\n",
      "Layer (type)                 Output Shape              Param #   \n",
      "=================================================================\n",
      "input_1 (InputLayer)         [(None, 32)]              0         \n",
      "_________________________________________________________________\n",
      "dense_3 (Dense)              (None, 16)                528       \n",
      "_________________________________________________________________\n",
      "dense_4 (Dense)              (None, 8)                 136       \n",
      "_________________________________________________________________\n",
      "dense_5 (Dense)              (None, 1)                 9         \n",
      "=================================================================\n",
      "Total params: 673\n",
      "Trainable params: 673\n",
      "Non-trainable params: 0\n",
      "_________________________________________________________________\n"
     ]
    }
   ],
   "source": [
    "# Example Functional Model\n",
    "\n",
    "import keras\n",
    "from keras.models import Model\n",
    "from keras.layers import Input, Dense\n",
    "\n",
    "\n",
    "input_layer_1 = Input(shape=(32,))\n",
    "\n",
    "hidden_layer_1 = Dense(16, activation='relu')(input_layer_1)\n",
    "hidden_layer_2 = Dense(8, activation='relu')(hidden_layer_1)\n",
    "\n",
    "prediction_layer = Dense(1, activation='sigmoid')(hidden_layer_2)\n",
    "\n",
    "\n",
    "model = Model(\n",
    "    inputs=input_layer_1,\n",
    "    outputs=prediction_layer\n",
    ")\n",
    "\n",
    "model.summary()"
   ]
  },
  {
   "cell_type": "markdown",
   "metadata": {
    "slideshow": {
     "slide_type": "slide"
    }
   },
   "source": [
    "### `Bonus: Plotting keras models` "
   ]
  },
  {
   "cell_type": "markdown",
   "metadata": {
    "slideshow": {
     "slide_type": "fragment"
    }
   },
   "source": [
    "* we can also **plot models**\n",
    "    * very useful for seeing the structure of more complex models\n",
    "    * we use it for models constructed using the Functional API"
   ]
  },
  {
   "cell_type": "markdown",
   "metadata": {
    "slideshow": {
     "slide_type": "fragment"
    }
   },
   "source": [
    "* we do it using the `plot_model` function from `keras.utils.vis_utils`\n",
    "    * you can also save the model image using the **to_file** argument of the function\n",
    "    * you should also set the **show_shapes** and **show_layer_names** arguments to **True** to get a more detailed image\n"
   ]
  },
  {
   "cell_type": "code",
   "execution_count": 3,
   "metadata": {
    "slideshow": {
     "slide_type": "slide"
    }
   },
   "outputs": [
    {
     "data": {
      "image/png": "[encoded data removed]",
      "text/plain": [
       "<IPython.core.display.Image object>"
      ]
     },
     "execution_count": 3,
     "metadata": {},
     "output_type": "execute_result"
    }
   ],
   "source": [
    "# Example Functional Model\n",
    "\n",
    "import keras\n",
    "from keras.models import Model\n",
    "from keras.layers import Input, Dense\n",
    "from keras.utils.vis_utils import plot_model\n",
    "\n",
    "input_layer_1 = Input(shape=(784,))\n",
    "\n",
    "hidden_layer_1 = Dense(64, activation='relu')(input_layer_1)\n",
    "hidden_layer_2 = Dense(32, activation='relu')(hidden_layer_1)\n",
    "\n",
    "prediction_layer = Dense(10, activation='softmax')(hidden_layer_2)\n",
    "\n",
    "\n",
    "model = Model(\n",
    "    inputs=input_layer_1,\n",
    "    outputs=prediction_layer\n",
    ")\n",
    "\n",
    "plot_model(model, to_file='model_plot.png', show_shapes=True, show_layer_names=True)"
   ]
  },
  {
   "cell_type": "markdown",
   "metadata": {
    "slideshow": {
     "slide_type": "slide"
    }
   },
   "source": [
    "# `Exercise`"
   ]
  },
  {
   "cell_type": "markdown",
   "metadata": {
    "slideshow": {
     "slide_type": "fragment"
    }
   },
   "source": [
    "**Using both the sequential model API and the functional model API, create a model that would work with a tabular dataset that contains 65 columns. 64 of them represent independent features, and one represents dependent features. Use the ReLU activation function for the hidden layers. If the task is to perform binary classification use the appropriate activation function for the output layer, and the appropriate number of neurons in the output layer.**\n",
    "\n",
    "**Note:** when determining the number of layers and neurons try to follow the general rules of thumb that we mentioned before\n",
    "\n",
    "**For the model created using the Sequential API print out a model summary. Plot the model created using the Functional API.**"
   ]
  },
  {
   "cell_type": "markdown",
   "metadata": {
    "slideshow": {
     "slide_type": "slide"
    }
   },
   "source": [
    "## `Solution:`"
   ]
  },
  {
   "cell_type": "code",
   "execution_count": null,
   "metadata": {},
   "outputs": [],
   "source": [
    "import keras\n",
    "from keras.models import Sequential\n",
    "from keras.layers import Dense,Dropout\n",
    "\n",
    "\n",
    "model = Sequential()\n",
    "model.add(32,activation=\"relu\",input_shape=(64,))\n",
    "model.add(32,activation=\"relu\")\n",
    "model.add(Dropout(0.5))\n",
    "model.add(Dense(1,activation=\"sigmoid\"))\n",
    "\n",
    "model.summary()"
   ]
  },
  {
   "cell_type": "markdown",
   "metadata": {
    "slideshow": {
     "slide_type": "slide"
    }
   },
   "source": [
    " <div>\n",
    "<img src=\"https://edlitera-images.s3.amazonaws.com/new_edlitera_logo.png\" width=\"500\"/>\n",
    "</div>"
   ]
  }
 ],
 "metadata": {
  "celltoolbar": "Slideshow",
  "kernelspec": {
   "display_name": "Python 3 (ipykernel)",
   "language": "python",
   "name": "python3"
  },
  "language_info": {
   "codemirror_mode": {
    "name": "ipython",
    "version": 3
   },
   "file_extension": ".py",
   "mimetype": "text/x-python",
   "name": "python",
   "nbconvert_exporter": "python",
   "pygments_lexer": "ipython3",
   "version": "3.9.7"
  }
 },
 "nbformat": 4,
 "nbformat_minor": 4
}
