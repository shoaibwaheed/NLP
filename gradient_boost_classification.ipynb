{
 "cells": [
  {
   "cell_type": "markdown",
   "id": "64c57d42",
   "metadata": {},
   "source": [
    " <div>\n",
    "<img src=\"https://edlitera-images.s3.amazonaws.com/new_edlitera_logo.png\" width=\"500\"/>\n",
    "</div>"
   ]
  },
  {
   "cell_type": "markdown",
   "id": "db58dc41",
   "metadata": {},
   "source": [
    " "
   ]
  },
  {
   "cell_type": "markdown",
   "id": "38485a9d",
   "metadata": {},
   "source": [
    "# Gradient boosting detailed explanation"
   ]
  },
  {
   "cell_type": "markdown",
   "id": "ae448b4d",
   "metadata": {},
   "source": [
    " "
   ]
  },
  {
   "cell_type": "markdown",
   "id": "63ff5ce2",
   "metadata": {},
   "source": [
    "* let's explain in detail how gradient boost works"
   ]
  },
  {
   "cell_type": "markdown",
   "id": "45a4262d",
   "metadata": {},
   "source": [
    "* our goal in this example is to predict whether a person likes the movie \"The Conjuring\"\n",
    "    <br>\n",
    "    \n",
    "    * we are going to demonstrate on a toy dataset that I created, just to keep things simple"
   ]
  },
  {
   "cell_type": "markdown",
   "id": "919108cc",
   "metadata": {},
   "source": [
    " "
   ]
  },
  {
   "cell_type": "code",
   "execution_count": 1,
   "id": "93a341bc",
   "metadata": {},
   "outputs": [],
   "source": [
    "# Import the packages we will use\n",
    "# in this example\n",
    "\n",
    "import pandas as pd\n",
    "import math"
   ]
  },
  {
   "cell_type": "code",
   "execution_count": 2,
   "id": "ffe5f6ab",
   "metadata": {},
   "outputs": [],
   "source": [
    "# Create some example data\n",
    "# Store it in a DataFrame\n",
    "\n",
    "df = pd.DataFrame({\n",
    "    \"Likes horror movies\": [\"Yes\", \"Yes\", \"No\", \"Yes\", \"No\", \"No\"],\n",
    "    \"Optimal movie length\":[60, 90, 60, 120, 90, 60],\n",
    "    \"Age\": [15, 90, 45, 20, 32, 14],\n",
    "    \"Likes 'The Conjuring'\": [\"Yes\", \"Yes\", \"No\", \"No\", \"Yes\", \"Yes\"]    \n",
    "})"
   ]
  },
  {
   "cell_type": "code",
   "execution_count": 3,
   "id": "3f274c54",
   "metadata": {},
   "outputs": [
    {
     "data": {
      "text/html": [
       "<div>\n",
       "<style scoped>\n",
       "    .dataframe tbody tr th:only-of-type {\n",
       "        vertical-align: middle;\n",
       "    }\n",
       "\n",
       "    .dataframe tbody tr th {\n",
       "        vertical-align: top;\n",
       "    }\n",
       "\n",
       "    .dataframe thead th {\n",
       "        text-align: right;\n",
       "    }\n",
       "</style>\n",
       "<table border=\"1\" class=\"dataframe\">\n",
       "  <thead>\n",
       "    <tr style=\"text-align: right;\">\n",
       "      <th></th>\n",
       "      <th>Likes horror movies</th>\n",
       "      <th>Optimal movie length</th>\n",
       "      <th>Age</th>\n",
       "      <th>Likes 'The Conjuring'</th>\n",
       "    </tr>\n",
       "  </thead>\n",
       "  <tbody>\n",
       "    <tr>\n",
       "      <th>0</th>\n",
       "      <td>Yes</td>\n",
       "      <td>60</td>\n",
       "      <td>15</td>\n",
       "      <td>Yes</td>\n",
       "    </tr>\n",
       "    <tr>\n",
       "      <th>1</th>\n",
       "      <td>Yes</td>\n",
       "      <td>90</td>\n",
       "      <td>90</td>\n",
       "      <td>Yes</td>\n",
       "    </tr>\n",
       "    <tr>\n",
       "      <th>2</th>\n",
       "      <td>No</td>\n",
       "      <td>60</td>\n",
       "      <td>45</td>\n",
       "      <td>No</td>\n",
       "    </tr>\n",
       "    <tr>\n",
       "      <th>3</th>\n",
       "      <td>Yes</td>\n",
       "      <td>120</td>\n",
       "      <td>20</td>\n",
       "      <td>No</td>\n",
       "    </tr>\n",
       "    <tr>\n",
       "      <th>4</th>\n",
       "      <td>No</td>\n",
       "      <td>90</td>\n",
       "      <td>32</td>\n",
       "      <td>Yes</td>\n",
       "    </tr>\n",
       "    <tr>\n",
       "      <th>5</th>\n",
       "      <td>No</td>\n",
       "      <td>60</td>\n",
       "      <td>14</td>\n",
       "      <td>Yes</td>\n",
       "    </tr>\n",
       "  </tbody>\n",
       "</table>\n",
       "</div>"
      ],
      "text/plain": [
       "  Likes horror movies  Optimal movie length  Age Likes 'The Conjuring'\n",
       "0                 Yes                    60   15                   Yes\n",
       "1                 Yes                    90   90                   Yes\n",
       "2                  No                    60   45                    No\n",
       "3                 Yes                   120   20                    No\n",
       "4                  No                    90   32                   Yes\n",
       "5                  No                    60   14                   Yes"
      ]
     },
     "execution_count": 3,
     "metadata": {},
     "output_type": "execute_result"
    }
   ],
   "source": [
    "# Display the DataFrame\n",
    "\n",
    "df"
   ]
  },
  {
   "cell_type": "markdown",
   "id": "37a1b45a",
   "metadata": {},
   "source": [
    "<br><br>"
   ]
  },
  {
   "cell_type": "markdown",
   "id": "f627e906",
   "metadata": {},
   "source": [
    "## First step"
   ]
  },
  {
   "cell_type": "markdown",
   "id": "19f8aa40",
   "metadata": {},
   "source": [
    " "
   ]
  },
  {
   "cell_type": "markdown",
   "id": "42413e95",
   "metadata": {},
   "source": [
    "* in gradient boost, we start with just one leaf and then later on add predictors\n",
    "    <br>\n",
    "    \n",
    "    * the predictors we use in gradient boost are decision trees"
   ]
  },
  {
   "cell_type": "markdown",
   "id": "4aaa9df1",
   "metadata": {},
   "source": [
    "* create a leaf with an initial prediction for every person\n",
    "    <br>\n",
    "    \n",
    "    * the first leaf we create contains the **log(odds)** prediction\n",
    "    * **log(odds)** plays a very important role in Logistic Regression\n",
    "        <br>\n",
    "        \n",
    "        * the odds are defined as **probability_of_success/probability_of_failure**\n",
    "        * log(odds) is just the logarithm of the odds\n",
    "    "
   ]
  },
  {
   "cell_type": "markdown",
   "id": "8b7b7410",
   "metadata": {},
   "source": [
    "* we have two classes: \"Yes\" and \"No\"\n",
    "    <br>\n",
    "    \n",
    "    * \"Yes\" represents the probability of success, while \"No\" represents the probability of failure\n",
    "    * the odds in our case will be equal to 4/2 ---> we have 4 \"Yes\" values, and 2 \"No\" values\n",
    "    * that means: **log(odds) = log(4/2)** "
   ]
  },
  {
   "cell_type": "code",
   "execution_count": 4,
   "id": "c6a4331d",
   "metadata": {},
   "outputs": [
    {
     "data": {
      "text/plain": [
       "0.6931471805599453"
      ]
     },
     "execution_count": 4,
     "metadata": {},
     "output_type": "execute_result"
    }
   ],
   "source": [
    "# Calculate the initial log(odds)\n",
    "\n",
    "init_log_odds = math.log(4/2)\n",
    "\n",
    "init_log_odds"
   ]
  },
  {
   "cell_type": "markdown",
   "id": "76455176",
   "metadata": {},
   "source": [
    "* now that we have the initial log(odds) value, we need to convert it to something we can use to calculate the residuals\n",
    "\n",
    "* that something is a probability value\n",
    "\n",
    "* the easiest way to do that ---> **Logistic function**"
   ]
  },
  {
   "cell_type": "markdown",
   "id": "c5248eba",
   "metadata": {},
   "source": [
    "**Equation for calculating the probability from log(odds)**\n",
    "\n",
    "### $ \\frac {e^{log(odds)}}{1+e^{log(odds)}}$"
   ]
  },
  {
   "cell_type": "code",
   "execution_count": 5,
   "id": "f6259486",
   "metadata": {},
   "outputs": [
    {
     "data": {
      "text/plain": [
       "0.6666666666666666"
      ]
     },
     "execution_count": 5,
     "metadata": {},
     "output_type": "execute_result"
    }
   ],
   "source": [
    "# Calculate the initial probability\n",
    "# Since we are just starting we assign this probability \n",
    "# to all examples, i.e. to all rows in our DataFrame\n",
    "\n",
    "init_prob = (math.e**(init_log_odds))  /  (1 + math.e**(init_log_odds))\n",
    "\n",
    "init_prob"
   ]
  },
  {
   "cell_type": "markdown",
   "id": "2ee57683",
   "metadata": {},
   "source": [
    "* this probability is initially assigned to everyone\n",
    "    <br>\n",
    "    \n",
    "    * we don't have a decision tree, just one leaf, so we predict the same result for every row\n",
    "    * since the probability is larger than 0.5, we can classify everyone in the dataset as people who will like 'The Conjuring' (https://en.wikipedia.org/wiki/The_Conjuring)"
   ]
  },
  {
   "cell_type": "markdown",
   "id": "f8e68585",
   "metadata": {},
   "source": [
    "* because the prediction will be wrong for two people we can't leave it at that, but we instead calculate pseudo-residuals\n",
    "    <br>\n",
    "    \n",
    "    * ***`pseudo_residual = observed_value - predicted_value`***\n",
    "    <br>\n",
    "    * the **observed value** for a given person (row in the DataFrame) will be 1 if they liked the movie (100% probability they like the movie) and 0 if they don't (0% probability they would enjoy it)\n",
    "    <br>\n",
    "    * the **predicted_value** at this point is just the initial probabilty we assigned to everyone\n",
    "        <br>\n",
    "        \n",
    "        * **init_prob = 0.6666666666666666**"
   ]
  },
  {
   "cell_type": "markdown",
   "id": "49cb3142",
   "metadata": {},
   "source": [
    "* since our probability is a float, and the values in our \"Likes 'The Conjuring'\" columns are not, we need to one-hot encode the data stored in that column"
   ]
  },
  {
   "cell_type": "code",
   "execution_count": 6,
   "id": "63a3b085",
   "metadata": {},
   "outputs": [],
   "source": [
    "# Binary encode data so that we can calculate residuals\n",
    "# Yes to 1\n",
    "# No to 0\n",
    "\n",
    "df[\"Likes 'The Conjuring'\"] = df[\"Likes 'The Conjuring'\"].map({\"Yes\":1, \"No\":0})"
   ]
  },
  {
   "cell_type": "code",
   "execution_count": 7,
   "id": "7bb0350a",
   "metadata": {},
   "outputs": [],
   "source": [
    "# Calculate the pseudo-residuals.\n",
    "# Essentially, the difference between the real probability value and \n",
    "# the probability we calculated\n",
    "\n",
    "df[\"residuals\"] =  df[\"Likes 'The Conjuring'\"] - init_prob"
   ]
  },
  {
   "cell_type": "code",
   "execution_count": 8,
   "id": "b7ea9a31",
   "metadata": {},
   "outputs": [
    {
     "data": {
      "text/html": [
       "<div>\n",
       "<style scoped>\n",
       "    .dataframe tbody tr th:only-of-type {\n",
       "        vertical-align: middle;\n",
       "    }\n",
       "\n",
       "    .dataframe tbody tr th {\n",
       "        vertical-align: top;\n",
       "    }\n",
       "\n",
       "    .dataframe thead th {\n",
       "        text-align: right;\n",
       "    }\n",
       "</style>\n",
       "<table border=\"1\" class=\"dataframe\">\n",
       "  <thead>\n",
       "    <tr style=\"text-align: right;\">\n",
       "      <th></th>\n",
       "      <th>Likes horror movies</th>\n",
       "      <th>Optimal movie length</th>\n",
       "      <th>Age</th>\n",
       "      <th>Likes 'The Conjuring'</th>\n",
       "      <th>residuals</th>\n",
       "    </tr>\n",
       "  </thead>\n",
       "  <tbody>\n",
       "    <tr>\n",
       "      <th>0</th>\n",
       "      <td>Yes</td>\n",
       "      <td>60</td>\n",
       "      <td>15</td>\n",
       "      <td>1</td>\n",
       "      <td>0.333333</td>\n",
       "    </tr>\n",
       "    <tr>\n",
       "      <th>1</th>\n",
       "      <td>Yes</td>\n",
       "      <td>90</td>\n",
       "      <td>90</td>\n",
       "      <td>1</td>\n",
       "      <td>0.333333</td>\n",
       "    </tr>\n",
       "    <tr>\n",
       "      <th>2</th>\n",
       "      <td>No</td>\n",
       "      <td>60</td>\n",
       "      <td>45</td>\n",
       "      <td>0</td>\n",
       "      <td>-0.666667</td>\n",
       "    </tr>\n",
       "    <tr>\n",
       "      <th>3</th>\n",
       "      <td>Yes</td>\n",
       "      <td>120</td>\n",
       "      <td>20</td>\n",
       "      <td>0</td>\n",
       "      <td>-0.666667</td>\n",
       "    </tr>\n",
       "    <tr>\n",
       "      <th>4</th>\n",
       "      <td>No</td>\n",
       "      <td>90</td>\n",
       "      <td>32</td>\n",
       "      <td>1</td>\n",
       "      <td>0.333333</td>\n",
       "    </tr>\n",
       "    <tr>\n",
       "      <th>5</th>\n",
       "      <td>No</td>\n",
       "      <td>60</td>\n",
       "      <td>14</td>\n",
       "      <td>1</td>\n",
       "      <td>0.333333</td>\n",
       "    </tr>\n",
       "  </tbody>\n",
       "</table>\n",
       "</div>"
      ],
      "text/plain": [
       "  Likes horror movies  Optimal movie length  Age  Likes 'The Conjuring'  \\\n",
       "0                 Yes                    60   15                      1   \n",
       "1                 Yes                    90   90                      1   \n",
       "2                  No                    60   45                      0   \n",
       "3                 Yes                   120   20                      0   \n",
       "4                  No                    90   32                      1   \n",
       "5                  No                    60   14                      1   \n",
       "\n",
       "   residuals  \n",
       "0   0.333333  \n",
       "1   0.333333  \n",
       "2  -0.666667  \n",
       "3  -0.666667  \n",
       "4   0.333333  \n",
       "5   0.333333  "
      ]
     },
     "execution_count": 8,
     "metadata": {},
     "output_type": "execute_result"
    }
   ],
   "source": [
    "# Display dataframe with residuals\n",
    "\n",
    "df"
   ]
  },
  {
   "cell_type": "markdown",
   "id": "a453742c",
   "metadata": {},
   "source": [
    " "
   ]
  },
  {
   "cell_type": "markdown",
   "id": "242689ab",
   "metadata": {},
   "source": [
    " "
   ]
  },
  {
   "cell_type": "markdown",
   "id": "8141c3a6",
   "metadata": {},
   "source": [
    "## Second step: build first tree"
   ]
  },
  {
   "cell_type": "markdown",
   "id": "6e3fb04a",
   "metadata": {},
   "source": [
    " "
   ]
  },
  {
   "cell_type": "markdown",
   "id": "ef2bfd22",
   "metadata": {},
   "source": [
    "* create a tree based on the values we just calculated "
   ]
  },
  {
   "cell_type": "markdown",
   "id": "9569abbe",
   "metadata": {},
   "source": [
    "* essentially, go over each row in the DataFrame, get the corresponding residuals, and include those values in the correct leafs, based on the selected split    "
   ]
  },
  {
   "cell_type": "markdown",
   "id": "8aea13a5",
   "metadata": {},
   "source": [
    "* typically we also limit the number of leaves, in this case let's limit it to 3 (internal nodes are purple, and each leaf is orange)\n",
    "\n",
    "    <br>\n",
    "    \n",
    "    * in practice we actually use more leaves (e.g. a typical value is 8), but since we are working with a very small DataFrame and we are just trying to demonstrate how the procedure works we are going to keep things simple in this example"
   ]
  },
  {
   "cell_type": "markdown",
   "id": "164bbe62",
   "metadata": {},
   "source": [
    " "
   ]
  },
  {
   "cell_type": "markdown",
   "id": "fb5cc4d2",
   "metadata": {},
   "source": [
    "<img src=\"https://edlitera-images.s3.amazonaws.com/boosting_detailed_explanation_first_tree.png?v=1\" width=\"800\"/>\n"
   ]
  },
  {
   "cell_type": "markdown",
   "id": "e20c15bb",
   "metadata": {},
   "source": [
    "Here's the DataFrame again, to follow the tree above more easily:"
   ]
  },
  {
   "cell_type": "code",
   "execution_count": 9,
   "id": "b4cabb17",
   "metadata": {},
   "outputs": [
    {
     "data": {
      "text/html": [
       "<div>\n",
       "<style scoped>\n",
       "    .dataframe tbody tr th:only-of-type {\n",
       "        vertical-align: middle;\n",
       "    }\n",
       "\n",
       "    .dataframe tbody tr th {\n",
       "        vertical-align: top;\n",
       "    }\n",
       "\n",
       "    .dataframe thead th {\n",
       "        text-align: right;\n",
       "    }\n",
       "</style>\n",
       "<table border=\"1\" class=\"dataframe\">\n",
       "  <thead>\n",
       "    <tr style=\"text-align: right;\">\n",
       "      <th></th>\n",
       "      <th>Likes horror movies</th>\n",
       "      <th>Optimal movie length</th>\n",
       "      <th>Age</th>\n",
       "      <th>Likes 'The Conjuring'</th>\n",
       "      <th>residuals</th>\n",
       "    </tr>\n",
       "  </thead>\n",
       "  <tbody>\n",
       "    <tr>\n",
       "      <th>0</th>\n",
       "      <td>Yes</td>\n",
       "      <td>60</td>\n",
       "      <td>15</td>\n",
       "      <td>1</td>\n",
       "      <td>0.333333</td>\n",
       "    </tr>\n",
       "    <tr>\n",
       "      <th>1</th>\n",
       "      <td>Yes</td>\n",
       "      <td>90</td>\n",
       "      <td>90</td>\n",
       "      <td>1</td>\n",
       "      <td>0.333333</td>\n",
       "    </tr>\n",
       "    <tr>\n",
       "      <th>2</th>\n",
       "      <td>No</td>\n",
       "      <td>60</td>\n",
       "      <td>45</td>\n",
       "      <td>0</td>\n",
       "      <td>-0.666667</td>\n",
       "    </tr>\n",
       "    <tr>\n",
       "      <th>3</th>\n",
       "      <td>Yes</td>\n",
       "      <td>120</td>\n",
       "      <td>20</td>\n",
       "      <td>0</td>\n",
       "      <td>-0.666667</td>\n",
       "    </tr>\n",
       "    <tr>\n",
       "      <th>4</th>\n",
       "      <td>No</td>\n",
       "      <td>90</td>\n",
       "      <td>32</td>\n",
       "      <td>1</td>\n",
       "      <td>0.333333</td>\n",
       "    </tr>\n",
       "    <tr>\n",
       "      <th>5</th>\n",
       "      <td>No</td>\n",
       "      <td>60</td>\n",
       "      <td>14</td>\n",
       "      <td>1</td>\n",
       "      <td>0.333333</td>\n",
       "    </tr>\n",
       "  </tbody>\n",
       "</table>\n",
       "</div>"
      ],
      "text/plain": [
       "  Likes horror movies  Optimal movie length  Age  Likes 'The Conjuring'  \\\n",
       "0                 Yes                    60   15                      1   \n",
       "1                 Yes                    90   90                      1   \n",
       "2                  No                    60   45                      0   \n",
       "3                 Yes                   120   20                      0   \n",
       "4                  No                    90   32                      1   \n",
       "5                  No                    60   14                      1   \n",
       "\n",
       "   residuals  \n",
       "0   0.333333  \n",
       "1   0.333333  \n",
       "2  -0.666667  \n",
       "3  -0.666667  \n",
       "4   0.333333  \n",
       "5   0.333333  "
      ]
     },
     "execution_count": 9,
     "metadata": {},
     "output_type": "execute_result"
    }
   ],
   "source": [
    "df"
   ]
  },
  {
   "cell_type": "markdown",
   "id": "47a10bef",
   "metadata": {},
   "source": [
    "### Problem: leafs contain residuals"
   ]
  },
  {
   "cell_type": "markdown",
   "id": "bd016aa0",
   "metadata": {},
   "source": [
    "* we can't compare a residual with the values in our **Likes 'The Conjuring'** column, we can only compare probabilites with probabilites"
   ]
  },
  {
   "cell_type": "markdown",
   "id": "88b9a4d5",
   "metadata": {},
   "source": [
    "* the procedure of getting back to probability values from residuals is actually pretty complex (and uses some pretty complex math), so we are not going to go into that in detail"
   ]
  },
  {
   "cell_type": "markdown",
   "id": "b69b8275",
   "metadata": {},
   "source": [
    "* a simplified version would be that we can use the following equation to calculate the log(odds) value for some leaf:\n",
    "    <br>\n",
    "        \n",
    "               sum_of_residuals / [sum of (previous_probability  * (1 - previous_probability))]"
   ]
  },
  {
   "cell_type": "markdown",
   "id": "1a5f709b",
   "metadata": {},
   "source": [
    "* once we have the log(odds) value, we can easily convert it to a probability value"
   ]
  },
  {
   "cell_type": "markdown",
   "id": "56024f6a",
   "metadata": {},
   "source": [
    " "
   ]
  },
  {
   "cell_type": "markdown",
   "id": "d6deb0a7",
   "metadata": {},
   "source": [
    "#### Calculating log(odds) for first tree"
   ]
  },
  {
   "cell_type": "markdown",
   "id": "0ff88781",
   "metadata": {},
   "source": [
    " "
   ]
  },
  {
   "cell_type": "markdown",
   "id": "5ecf0403",
   "metadata": {},
   "source": [
    "* the equation we will use is the one we mentioned above"
   ]
  },
  {
   "cell_type": "markdown",
   "id": "f950f0da",
   "metadata": {},
   "source": [
    "* the sum of residuals will be the sum of all values that are in a leaf"
   ]
  },
  {
   "cell_type": "markdown",
   "id": "548adeca",
   "metadata": {},
   "source": [
    "* since this is the first tree we are building, the previous probability will be the same in all cases, and it will be the one we got by converting the original log odds value\n",
    "    <br>\n",
    "    \n",
    "    * rounded, the original probability is equal to ***0.666667***"
   ]
  },
  {
   "cell_type": "markdown",
   "id": "58fd334c",
   "metadata": {},
   "source": [
    "* we are going to round the values to a few decimal points to keep things simple, in practice values don't get rounded but are instead used as is"
   ]
  },
  {
   "cell_type": "markdown",
   "id": "04457e91",
   "metadata": {},
   "source": [
    "<br><br>"
   ]
  },
  {
   "cell_type": "code",
   "execution_count": 10,
   "id": "773488ff",
   "metadata": {},
   "outputs": [
    {
     "data": {
      "text/plain": [
       "-3.0000030000030002"
      ]
     },
     "execution_count": 10,
     "metadata": {},
     "output_type": "execute_result"
    }
   ],
   "source": [
    "# Calculate first leaf value\n",
    "# by plugging in values in \n",
    "# the equation we defined earlier\n",
    "\n",
    "first_calculation = -0.666667 / ((0.666667 )*(1-0.666667))\n",
    "\n",
    "first_calculation"
   ]
  },
  {
   "cell_type": "markdown",
   "id": "283a0467",
   "metadata": {},
   "source": [
    "<img src=\"https://edlitera-images.s3.amazonaws.com/boosting_detailed_explanation_first_tree_first_calculation.png\" width=\"600\"/>\n"
   ]
  },
  {
   "cell_type": "markdown",
   "id": "acf3a4d8",
   "metadata": {},
   "source": [
    "<br><br>"
   ]
  },
  {
   "cell_type": "code",
   "execution_count": 11,
   "id": "13d542a3",
   "metadata": {},
   "outputs": [
    {
     "data": {
      "text/plain": [
       "-0.7500018750013125"
      ]
     },
     "execution_count": 11,
     "metadata": {},
     "output_type": "execute_result"
    }
   ],
   "source": [
    "# Calculate second leaf value\n",
    "\n",
    "second_calculation = (0.333333 + (-0.666667)) / ((0.666667)*(1-0.666667) + (0.666667)*(1-0.666667))\n",
    "\n",
    "second_calculation "
   ]
  },
  {
   "cell_type": "markdown",
   "id": "366ab444",
   "metadata": {},
   "source": [
    "<img src=\"https://edlitera-images.s3.amazonaws.com/boosting_detailed_explanation_first_tree_second_calculation.png\" width=\"600\"/>\n"
   ]
  },
  {
   "cell_type": "markdown",
   "id": "aed0bd1e",
   "metadata": {},
   "source": [
    "<br><br>"
   ]
  },
  {
   "cell_type": "code",
   "execution_count": 12,
   "id": "7bdef39c",
   "metadata": {},
   "outputs": [
    {
     "data": {
      "text/plain": [
       "1.4999992500003752"
      ]
     },
     "execution_count": 12,
     "metadata": {},
     "output_type": "execute_result"
    }
   ],
   "source": [
    "# Calculate third leaf value\n",
    "\n",
    "third_calculation = (0.333333 + 0.333333 + 0.333333) / ((0.666667)*(1-0.666667) + (0.666667)*(1-0.666667) + (0.666667)*(1-0.666667))\n",
    "\n",
    "third_calculation"
   ]
  },
  {
   "cell_type": "markdown",
   "id": "2973b247",
   "metadata": {},
   "source": [
    "<img src=\"https://edlitera-images.s3.amazonaws.com/boosting_detailed_explanation_first_tree_third_calculation.png\" width=\"600\"/>\n"
   ]
  },
  {
   "cell_type": "markdown",
   "id": "1d7ae4ff",
   "metadata": {},
   "source": [
    "<br><br><br><br>"
   ]
  },
  {
   "cell_type": "markdown",
   "id": "1ed1e91f",
   "metadata": {},
   "source": [
    "## Third step: update values"
   ]
  },
  {
   "cell_type": "markdown",
   "id": "0099c402",
   "metadata": {},
   "source": [
    " "
   ]
  },
  {
   "cell_type": "markdown",
   "id": "ebe69235",
   "metadata": {},
   "source": [
    "* to get the new log(odds) value for a row of our DataFrame, we need to add to the initial log of odds value the newly calculated values multiplied by a learning rate\n",
    "    <br>\n",
    "    \n",
    "    * defines how fast the model is \"learning\"\n",
    "    * I use a large one for the purposes of demonstration (learning rate = 0.5), typically it is 0.1 or something similar\n",
    "    * larger rates lead to bigger initial increases in accuracy, but can quickly lead to overfitting"
   ]
  },
  {
   "cell_type": "markdown",
   "id": "ef983d49",
   "metadata": {},
   "source": [
    "* after we calculate the new log odds for a row, we can convert it to a probability and calculate a new residual to replace the old one"
   ]
  },
  {
   "cell_type": "markdown",
   "id": "63a360d3",
   "metadata": {},
   "source": [
    "<img src=\"https://edlitera-images.s3.amazonaws.com/full_first_calculation.png\" width=\"1200\"/>\n"
   ]
  },
  {
   "cell_type": "markdown",
   "id": "2ae38036",
   "metadata": {},
   "source": [
    " "
   ]
  },
  {
   "cell_type": "markdown",
   "id": "95e32dd4",
   "metadata": {},
   "source": [
    "* to calculate new log of odds value just follow the tree, and afterwards you can convert that to a new probability using the same Logistic Function equation we used when first converting log odds to probability"
   ]
  },
  {
   "cell_type": "markdown",
   "id": "6fa9e976",
   "metadata": {},
   "source": [
    "### Calculate new log(odds) values"
   ]
  },
  {
   "cell_type": "markdown",
   "id": "eb0027bf",
   "metadata": {},
   "source": [
    " "
   ]
  },
  {
   "cell_type": "code",
   "execution_count": 13,
   "id": "371a8588",
   "metadata": {},
   "outputs": [
    {
     "data": {
      "text/html": [
       "<div>\n",
       "<style scoped>\n",
       "    .dataframe tbody tr th:only-of-type {\n",
       "        vertical-align: middle;\n",
       "    }\n",
       "\n",
       "    .dataframe tbody tr th {\n",
       "        vertical-align: top;\n",
       "    }\n",
       "\n",
       "    .dataframe thead th {\n",
       "        text-align: right;\n",
       "    }\n",
       "</style>\n",
       "<table border=\"1\" class=\"dataframe\">\n",
       "  <thead>\n",
       "    <tr style=\"text-align: right;\">\n",
       "      <th></th>\n",
       "      <th>Likes horror movies</th>\n",
       "      <th>Optimal movie length</th>\n",
       "      <th>Age</th>\n",
       "      <th>Likes 'The Conjuring'</th>\n",
       "      <th>residuals</th>\n",
       "    </tr>\n",
       "  </thead>\n",
       "  <tbody>\n",
       "    <tr>\n",
       "      <th>0</th>\n",
       "      <td>Yes</td>\n",
       "      <td>60</td>\n",
       "      <td>15</td>\n",
       "      <td>1</td>\n",
       "      <td>0.333333</td>\n",
       "    </tr>\n",
       "  </tbody>\n",
       "</table>\n",
       "</div>"
      ],
      "text/plain": [
       "  Likes horror movies  Optimal movie length  Age  Likes 'The Conjuring'  \\\n",
       "0                 Yes                    60   15                      1   \n",
       "\n",
       "   residuals  \n",
       "0   0.333333  "
      ]
     },
     "execution_count": 13,
     "metadata": {},
     "output_type": "execute_result"
    }
   ],
   "source": [
    "# Display first row of DataFrame\n",
    "\n",
    "df.iloc[0:1]"
   ]
  },
  {
   "cell_type": "markdown",
   "id": "9577fd70",
   "metadata": {},
   "source": [
    "**How to update log(odds):**\n",
    "\n",
    "* since the person doesn't prefer movies that are 120 minutes in length we don't go to the leaf that is to the left, but instead move to the right\n",
    "\n",
    "\n",
    "* because the person is not older than 35, we move to the leaf that is furthest to the right (which means that we will use 1.49)\n",
    "\n",
    "\n",
    "* **final update: original log odds + learning rate * furthest right leaf value**"
   ]
  },
  {
   "cell_type": "code",
   "execution_count": 14,
   "id": "907f5512",
   "metadata": {},
   "outputs": [
    {
     "data": {
      "text/plain": [
       "1.4381471805599453"
      ]
     },
     "execution_count": 14,
     "metadata": {},
     "output_type": "execute_result"
    }
   ],
   "source": [
    "# Update log odds value\n",
    "\n",
    "learning_rate = 0.5\n",
    "\n",
    "updated_log_odds_value_first_row = init_log_odds + learning_rate * 1.49\n",
    "\n",
    "updated_log_odds_value_first_row "
   ]
  },
  {
   "cell_type": "markdown",
   "id": "c49aa988",
   "metadata": {},
   "source": [
    "### Calculate new probability and update residual for first row"
   ]
  },
  {
   "cell_type": "markdown",
   "id": "268239c2",
   "metadata": {},
   "source": [
    " "
   ]
  },
  {
   "cell_type": "code",
   "execution_count": 15,
   "id": "9adf7fad",
   "metadata": {},
   "outputs": [
    {
     "data": {
      "text/plain": [
       "0.8081675677459842"
      ]
     },
     "execution_count": 15,
     "metadata": {},
     "output_type": "execute_result"
    }
   ],
   "source": [
    "# Calculate new probability for first row\n",
    "\n",
    "new_probability_first_row = (math.e**(updated_log_odds_value_first_row))  /  (1 + math.e**(updated_log_odds_value_first_row))\n",
    "\n",
    "new_probability_first_row"
   ]
  },
  {
   "cell_type": "markdown",
   "id": "3daaf8ca",
   "metadata": {},
   "source": [
    "* as you can see the probability is bigger \n",
    "    <br>\n",
    "    \n",
    "    * since the value in the **Likes 'The Conjuring'** column is \"Yes\" the probability value we are trying to achieve for the first row is 1\n",
    "    * **essentially, WE ARE TRYING TO MINIMIZE THE RESIDUALS !**"
   ]
  },
  {
   "cell_type": "code",
   "execution_count": 16,
   "id": "fb040d03",
   "metadata": {},
   "outputs": [],
   "source": [
    "# Calculate new residual\n",
    "\n",
    "df.loc[0, \"residuals\"] = df.loc[0, \"Likes 'The Conjuring'\"] - new_probability_first_row"
   ]
  },
  {
   "cell_type": "code",
   "execution_count": 17,
   "id": "fc5c1d35",
   "metadata": {},
   "outputs": [
    {
     "data": {
      "text/html": [
       "<div>\n",
       "<style scoped>\n",
       "    .dataframe tbody tr th:only-of-type {\n",
       "        vertical-align: middle;\n",
       "    }\n",
       "\n",
       "    .dataframe tbody tr th {\n",
       "        vertical-align: top;\n",
       "    }\n",
       "\n",
       "    .dataframe thead th {\n",
       "        text-align: right;\n",
       "    }\n",
       "</style>\n",
       "<table border=\"1\" class=\"dataframe\">\n",
       "  <thead>\n",
       "    <tr style=\"text-align: right;\">\n",
       "      <th></th>\n",
       "      <th>Likes horror movies</th>\n",
       "      <th>Optimal movie length</th>\n",
       "      <th>Age</th>\n",
       "      <th>Likes 'The Conjuring'</th>\n",
       "      <th>residuals</th>\n",
       "    </tr>\n",
       "  </thead>\n",
       "  <tbody>\n",
       "    <tr>\n",
       "      <th>0</th>\n",
       "      <td>Yes</td>\n",
       "      <td>60</td>\n",
       "      <td>15</td>\n",
       "      <td>1</td>\n",
       "      <td>0.191832</td>\n",
       "    </tr>\n",
       "    <tr>\n",
       "      <th>1</th>\n",
       "      <td>Yes</td>\n",
       "      <td>90</td>\n",
       "      <td>90</td>\n",
       "      <td>1</td>\n",
       "      <td>0.333333</td>\n",
       "    </tr>\n",
       "    <tr>\n",
       "      <th>2</th>\n",
       "      <td>No</td>\n",
       "      <td>60</td>\n",
       "      <td>45</td>\n",
       "      <td>0</td>\n",
       "      <td>-0.666667</td>\n",
       "    </tr>\n",
       "    <tr>\n",
       "      <th>3</th>\n",
       "      <td>Yes</td>\n",
       "      <td>120</td>\n",
       "      <td>20</td>\n",
       "      <td>0</td>\n",
       "      <td>-0.666667</td>\n",
       "    </tr>\n",
       "    <tr>\n",
       "      <th>4</th>\n",
       "      <td>No</td>\n",
       "      <td>90</td>\n",
       "      <td>32</td>\n",
       "      <td>1</td>\n",
       "      <td>0.333333</td>\n",
       "    </tr>\n",
       "    <tr>\n",
       "      <th>5</th>\n",
       "      <td>No</td>\n",
       "      <td>60</td>\n",
       "      <td>14</td>\n",
       "      <td>1</td>\n",
       "      <td>0.333333</td>\n",
       "    </tr>\n",
       "  </tbody>\n",
       "</table>\n",
       "</div>"
      ],
      "text/plain": [
       "  Likes horror movies  Optimal movie length  Age  Likes 'The Conjuring'  \\\n",
       "0                 Yes                    60   15                      1   \n",
       "1                 Yes                    90   90                      1   \n",
       "2                  No                    60   45                      0   \n",
       "3                 Yes                   120   20                      0   \n",
       "4                  No                    90   32                      1   \n",
       "5                  No                    60   14                      1   \n",
       "\n",
       "   residuals  \n",
       "0   0.191832  \n",
       "1   0.333333  \n",
       "2  -0.666667  \n",
       "3  -0.666667  \n",
       "4   0.333333  \n",
       "5   0.333333  "
      ]
     },
     "execution_count": 17,
     "metadata": {},
     "output_type": "execute_result"
    }
   ],
   "source": [
    "# Display DataFrame\n",
    "# with the updated first residual\n",
    "\n",
    "df"
   ]
  },
  {
   "cell_type": "markdown",
   "id": "b0c62b9f",
   "metadata": {},
   "source": [
    " "
   ]
  },
  {
   "cell_type": "markdown",
   "id": "21f65c7f",
   "metadata": {},
   "source": [
    "**Our residual value decreased from 0.333333 to 0.191832 - our model is learning !**"
   ]
  },
  {
   "cell_type": "markdown",
   "id": "16477833",
   "metadata": {},
   "source": [
    "<br><br><br><br>"
   ]
  },
  {
   "cell_type": "markdown",
   "id": "9bc2b5c4",
   "metadata": {},
   "source": [
    "### We must update all the residuals in the same way as we did for the first row !"
   ]
  },
  {
   "cell_type": "markdown",
   "id": "e804bc85",
   "metadata": {},
   "source": [
    " "
   ]
  },
  {
   "cell_type": "markdown",
   "id": "e4a17398",
   "metadata": {},
   "source": [
    "**Second row**"
   ]
  },
  {
   "cell_type": "code",
   "execution_count": 18,
   "id": "d77e6f3d",
   "metadata": {},
   "outputs": [
    {
     "data": {
      "text/html": [
       "<div>\n",
       "<style scoped>\n",
       "    .dataframe tbody tr th:only-of-type {\n",
       "        vertical-align: middle;\n",
       "    }\n",
       "\n",
       "    .dataframe tbody tr th {\n",
       "        vertical-align: top;\n",
       "    }\n",
       "\n",
       "    .dataframe thead th {\n",
       "        text-align: right;\n",
       "    }\n",
       "</style>\n",
       "<table border=\"1\" class=\"dataframe\">\n",
       "  <thead>\n",
       "    <tr style=\"text-align: right;\">\n",
       "      <th></th>\n",
       "      <th>Likes horror movies</th>\n",
       "      <th>Optimal movie length</th>\n",
       "      <th>Age</th>\n",
       "      <th>Likes 'The Conjuring'</th>\n",
       "      <th>residuals</th>\n",
       "    </tr>\n",
       "  </thead>\n",
       "  <tbody>\n",
       "    <tr>\n",
       "      <th>1</th>\n",
       "      <td>Yes</td>\n",
       "      <td>90</td>\n",
       "      <td>90</td>\n",
       "      <td>1</td>\n",
       "      <td>0.333333</td>\n",
       "    </tr>\n",
       "  </tbody>\n",
       "</table>\n",
       "</div>"
      ],
      "text/plain": [
       "  Likes horror movies  Optimal movie length  Age  Likes 'The Conjuring'  \\\n",
       "1                 Yes                    90   90                      1   \n",
       "\n",
       "   residuals  \n",
       "1   0.333333  "
      ]
     },
     "execution_count": 18,
     "metadata": {},
     "output_type": "execute_result"
    }
   ],
   "source": [
    "# Display second row of DataFrame\n",
    "\n",
    "df.iloc[1:2]"
   ]
  },
  {
   "cell_type": "code",
   "execution_count": 19,
   "id": "d1392001",
   "metadata": {},
   "outputs": [
    {
     "data": {
      "text/plain": [
       "0.3181471805599453"
      ]
     },
     "execution_count": 19,
     "metadata": {},
     "output_type": "execute_result"
    }
   ],
   "source": [
    "# Update log odds value\n",
    "\n",
    "learning_rate = 0.5\n",
    "\n",
    "updated_log_odds_value_second_row = init_log_odds + learning_rate*(-0.75)\n",
    "\n",
    "updated_log_odds_value_second_row "
   ]
  },
  {
   "cell_type": "code",
   "execution_count": 20,
   "id": "4f61bfed",
   "metadata": {},
   "outputs": [
    {
     "data": {
      "text/plain": [
       "0.578872639607127"
      ]
     },
     "execution_count": 20,
     "metadata": {},
     "output_type": "execute_result"
    }
   ],
   "source": [
    "# Calculate new probability for second row\n",
    "\n",
    "new_probability_second_row = (math.e**(updated_log_odds_value_second_row))  /  (1 + math.e**(updated_log_odds_value_second_row))\n",
    "\n",
    "new_probability_second_row"
   ]
  },
  {
   "cell_type": "code",
   "execution_count": 21,
   "id": "93327c74",
   "metadata": {},
   "outputs": [],
   "source": [
    "# Calculate new residual\n",
    "\n",
    "df.loc[1, \"residuals\"] = df.loc[1, \"Likes 'The Conjuring'\"] - new_probability_second_row"
   ]
  },
  {
   "cell_type": "code",
   "execution_count": 22,
   "id": "7dc97014",
   "metadata": {},
   "outputs": [
    {
     "data": {
      "text/html": [
       "<div>\n",
       "<style scoped>\n",
       "    .dataframe tbody tr th:only-of-type {\n",
       "        vertical-align: middle;\n",
       "    }\n",
       "\n",
       "    .dataframe tbody tr th {\n",
       "        vertical-align: top;\n",
       "    }\n",
       "\n",
       "    .dataframe thead th {\n",
       "        text-align: right;\n",
       "    }\n",
       "</style>\n",
       "<table border=\"1\" class=\"dataframe\">\n",
       "  <thead>\n",
       "    <tr style=\"text-align: right;\">\n",
       "      <th></th>\n",
       "      <th>Likes horror movies</th>\n",
       "      <th>Optimal movie length</th>\n",
       "      <th>Age</th>\n",
       "      <th>Likes 'The Conjuring'</th>\n",
       "      <th>residuals</th>\n",
       "    </tr>\n",
       "  </thead>\n",
       "  <tbody>\n",
       "    <tr>\n",
       "      <th>0</th>\n",
       "      <td>Yes</td>\n",
       "      <td>60</td>\n",
       "      <td>15</td>\n",
       "      <td>1</td>\n",
       "      <td>0.191832</td>\n",
       "    </tr>\n",
       "    <tr>\n",
       "      <th>1</th>\n",
       "      <td>Yes</td>\n",
       "      <td>90</td>\n",
       "      <td>90</td>\n",
       "      <td>1</td>\n",
       "      <td>0.421127</td>\n",
       "    </tr>\n",
       "    <tr>\n",
       "      <th>2</th>\n",
       "      <td>No</td>\n",
       "      <td>60</td>\n",
       "      <td>45</td>\n",
       "      <td>0</td>\n",
       "      <td>-0.666667</td>\n",
       "    </tr>\n",
       "    <tr>\n",
       "      <th>3</th>\n",
       "      <td>Yes</td>\n",
       "      <td>120</td>\n",
       "      <td>20</td>\n",
       "      <td>0</td>\n",
       "      <td>-0.666667</td>\n",
       "    </tr>\n",
       "    <tr>\n",
       "      <th>4</th>\n",
       "      <td>No</td>\n",
       "      <td>90</td>\n",
       "      <td>32</td>\n",
       "      <td>1</td>\n",
       "      <td>0.333333</td>\n",
       "    </tr>\n",
       "    <tr>\n",
       "      <th>5</th>\n",
       "      <td>No</td>\n",
       "      <td>60</td>\n",
       "      <td>14</td>\n",
       "      <td>1</td>\n",
       "      <td>0.333333</td>\n",
       "    </tr>\n",
       "  </tbody>\n",
       "</table>\n",
       "</div>"
      ],
      "text/plain": [
       "  Likes horror movies  Optimal movie length  Age  Likes 'The Conjuring'  \\\n",
       "0                 Yes                    60   15                      1   \n",
       "1                 Yes                    90   90                      1   \n",
       "2                  No                    60   45                      0   \n",
       "3                 Yes                   120   20                      0   \n",
       "4                  No                    90   32                      1   \n",
       "5                  No                    60   14                      1   \n",
       "\n",
       "   residuals  \n",
       "0   0.191832  \n",
       "1   0.421127  \n",
       "2  -0.666667  \n",
       "3  -0.666667  \n",
       "4   0.333333  \n",
       "5   0.333333  "
      ]
     },
     "execution_count": 22,
     "metadata": {},
     "output_type": "execute_result"
    }
   ],
   "source": [
    "# Display DataFrame \n",
    "# with second residual updated\n",
    "\n",
    "df"
   ]
  },
  {
   "cell_type": "markdown",
   "id": "179c671b",
   "metadata": {},
   "source": [
    "* **as you can see, a model can improve the prediction in one case but make it worse in another case**\n",
    "    <br>\n",
    "    \n",
    "    * the residual in the first row became smaller, but in this second row it became bigger\n",
    "    * however, as long as most of the predictions improve we say that the model is learning"
   ]
  },
  {
   "cell_type": "markdown",
   "id": "bc829c84",
   "metadata": {},
   "source": [
    " "
   ]
  },
  {
   "cell_type": "markdown",
   "id": "70cc3298",
   "metadata": {},
   "source": [
    "**Third row**"
   ]
  },
  {
   "cell_type": "markdown",
   "id": "613a62ec",
   "metadata": {},
   "source": [
    " "
   ]
  },
  {
   "cell_type": "code",
   "execution_count": 23,
   "id": "564f3b3b",
   "metadata": {},
   "outputs": [
    {
     "data": {
      "text/html": [
       "<div>\n",
       "<style scoped>\n",
       "    .dataframe tbody tr th:only-of-type {\n",
       "        vertical-align: middle;\n",
       "    }\n",
       "\n",
       "    .dataframe tbody tr th {\n",
       "        vertical-align: top;\n",
       "    }\n",
       "\n",
       "    .dataframe thead th {\n",
       "        text-align: right;\n",
       "    }\n",
       "</style>\n",
       "<table border=\"1\" class=\"dataframe\">\n",
       "  <thead>\n",
       "    <tr style=\"text-align: right;\">\n",
       "      <th></th>\n",
       "      <th>Likes horror movies</th>\n",
       "      <th>Optimal movie length</th>\n",
       "      <th>Age</th>\n",
       "      <th>Likes 'The Conjuring'</th>\n",
       "      <th>residuals</th>\n",
       "    </tr>\n",
       "  </thead>\n",
       "  <tbody>\n",
       "    <tr>\n",
       "      <th>2</th>\n",
       "      <td>No</td>\n",
       "      <td>60</td>\n",
       "      <td>45</td>\n",
       "      <td>0</td>\n",
       "      <td>-0.666667</td>\n",
       "    </tr>\n",
       "  </tbody>\n",
       "</table>\n",
       "</div>"
      ],
      "text/plain": [
       "  Likes horror movies  Optimal movie length  Age  Likes 'The Conjuring'  \\\n",
       "2                  No                    60   45                      0   \n",
       "\n",
       "   residuals  \n",
       "2  -0.666667  "
      ]
     },
     "execution_count": 23,
     "metadata": {},
     "output_type": "execute_result"
    }
   ],
   "source": [
    "# Display third row of DataFrame\n",
    "\n",
    "df.iloc[2:3]"
   ]
  },
  {
   "cell_type": "markdown",
   "id": "e720762e",
   "metadata": {},
   "source": [
    "* goes to the same place in the tree as the second row ---> **the new probability that we will use to calculate the new residual is the same as the one for the second row because they are located in the same leaf**"
   ]
  },
  {
   "cell_type": "code",
   "execution_count": 24,
   "id": "091258c1",
   "metadata": {},
   "outputs": [
    {
     "data": {
      "text/plain": [
       "0.578872639607127"
      ]
     },
     "execution_count": 24,
     "metadata": {},
     "output_type": "execute_result"
    }
   ],
   "source": [
    "# Calculate new probability for the third row\n",
    "\n",
    "new_probability_third_row = new_probability_second_row\n",
    "\n",
    "new_probability_third_row"
   ]
  },
  {
   "cell_type": "code",
   "execution_count": 25,
   "id": "ae15c79b",
   "metadata": {},
   "outputs": [],
   "source": [
    "# Calculate new residual\n",
    "\n",
    "df.loc[2, \"residuals\"] = df.loc[2, \"Likes 'The Conjuring'\"] - new_probability_third_row"
   ]
  },
  {
   "cell_type": "code",
   "execution_count": 26,
   "id": "e161ba8f",
   "metadata": {},
   "outputs": [
    {
     "data": {
      "text/html": [
       "<div>\n",
       "<style scoped>\n",
       "    .dataframe tbody tr th:only-of-type {\n",
       "        vertical-align: middle;\n",
       "    }\n",
       "\n",
       "    .dataframe tbody tr th {\n",
       "        vertical-align: top;\n",
       "    }\n",
       "\n",
       "    .dataframe thead th {\n",
       "        text-align: right;\n",
       "    }\n",
       "</style>\n",
       "<table border=\"1\" class=\"dataframe\">\n",
       "  <thead>\n",
       "    <tr style=\"text-align: right;\">\n",
       "      <th></th>\n",
       "      <th>Likes horror movies</th>\n",
       "      <th>Optimal movie length</th>\n",
       "      <th>Age</th>\n",
       "      <th>Likes 'The Conjuring'</th>\n",
       "      <th>residuals</th>\n",
       "    </tr>\n",
       "  </thead>\n",
       "  <tbody>\n",
       "    <tr>\n",
       "      <th>0</th>\n",
       "      <td>Yes</td>\n",
       "      <td>60</td>\n",
       "      <td>15</td>\n",
       "      <td>1</td>\n",
       "      <td>0.191832</td>\n",
       "    </tr>\n",
       "    <tr>\n",
       "      <th>1</th>\n",
       "      <td>Yes</td>\n",
       "      <td>90</td>\n",
       "      <td>90</td>\n",
       "      <td>1</td>\n",
       "      <td>0.421127</td>\n",
       "    </tr>\n",
       "    <tr>\n",
       "      <th>2</th>\n",
       "      <td>No</td>\n",
       "      <td>60</td>\n",
       "      <td>45</td>\n",
       "      <td>0</td>\n",
       "      <td>-0.578873</td>\n",
       "    </tr>\n",
       "    <tr>\n",
       "      <th>3</th>\n",
       "      <td>Yes</td>\n",
       "      <td>120</td>\n",
       "      <td>20</td>\n",
       "      <td>0</td>\n",
       "      <td>-0.666667</td>\n",
       "    </tr>\n",
       "    <tr>\n",
       "      <th>4</th>\n",
       "      <td>No</td>\n",
       "      <td>90</td>\n",
       "      <td>32</td>\n",
       "      <td>1</td>\n",
       "      <td>0.333333</td>\n",
       "    </tr>\n",
       "    <tr>\n",
       "      <th>5</th>\n",
       "      <td>No</td>\n",
       "      <td>60</td>\n",
       "      <td>14</td>\n",
       "      <td>1</td>\n",
       "      <td>0.333333</td>\n",
       "    </tr>\n",
       "  </tbody>\n",
       "</table>\n",
       "</div>"
      ],
      "text/plain": [
       "  Likes horror movies  Optimal movie length  Age  Likes 'The Conjuring'  \\\n",
       "0                 Yes                    60   15                      1   \n",
       "1                 Yes                    90   90                      1   \n",
       "2                  No                    60   45                      0   \n",
       "3                 Yes                   120   20                      0   \n",
       "4                  No                    90   32                      1   \n",
       "5                  No                    60   14                      1   \n",
       "\n",
       "   residuals  \n",
       "0   0.191832  \n",
       "1   0.421127  \n",
       "2  -0.578873  \n",
       "3  -0.666667  \n",
       "4   0.333333  \n",
       "5   0.333333  "
      ]
     },
     "execution_count": 26,
     "metadata": {},
     "output_type": "execute_result"
    }
   ],
   "source": [
    "# Display DataFrame \n",
    "# with third residual updated\n",
    "\n",
    "df"
   ]
  },
  {
   "cell_type": "markdown",
   "id": "b82b4956",
   "metadata": {},
   "source": [
    " "
   ]
  },
  {
   "cell_type": "markdown",
   "id": "21394dee",
   "metadata": {},
   "source": [
    "**VERY IMPORTANT**\n",
    "\n",
    "* when we say we are trying to minimize the residual values **we are talking about them becoming as close to 0 as possible**\n",
    "* if a residual is negative, we actually want its value to increase until it becomes close to zero"
   ]
  },
  {
   "cell_type": "markdown",
   "id": "5c360b46",
   "metadata": {},
   "source": [
    " "
   ]
  },
  {
   "cell_type": "markdown",
   "id": "233f2ac5",
   "metadata": {},
   "source": [
    "**Fourth row**"
   ]
  },
  {
   "cell_type": "markdown",
   "id": "bf1479e4",
   "metadata": {},
   "source": [
    " "
   ]
  },
  {
   "cell_type": "code",
   "execution_count": 27,
   "id": "2c353cf7",
   "metadata": {},
   "outputs": [
    {
     "data": {
      "text/html": [
       "<div>\n",
       "<style scoped>\n",
       "    .dataframe tbody tr th:only-of-type {\n",
       "        vertical-align: middle;\n",
       "    }\n",
       "\n",
       "    .dataframe tbody tr th {\n",
       "        vertical-align: top;\n",
       "    }\n",
       "\n",
       "    .dataframe thead th {\n",
       "        text-align: right;\n",
       "    }\n",
       "</style>\n",
       "<table border=\"1\" class=\"dataframe\">\n",
       "  <thead>\n",
       "    <tr style=\"text-align: right;\">\n",
       "      <th></th>\n",
       "      <th>Likes horror movies</th>\n",
       "      <th>Optimal movie length</th>\n",
       "      <th>Age</th>\n",
       "      <th>Likes 'The Conjuring'</th>\n",
       "      <th>residuals</th>\n",
       "    </tr>\n",
       "  </thead>\n",
       "  <tbody>\n",
       "    <tr>\n",
       "      <th>3</th>\n",
       "      <td>Yes</td>\n",
       "      <td>120</td>\n",
       "      <td>20</td>\n",
       "      <td>0</td>\n",
       "      <td>-0.666667</td>\n",
       "    </tr>\n",
       "  </tbody>\n",
       "</table>\n",
       "</div>"
      ],
      "text/plain": [
       "  Likes horror movies  Optimal movie length  Age  Likes 'The Conjuring'  \\\n",
       "3                 Yes                   120   20                      0   \n",
       "\n",
       "   residuals  \n",
       "3  -0.666667  "
      ]
     },
     "execution_count": 27,
     "metadata": {},
     "output_type": "execute_result"
    }
   ],
   "source": [
    "# Display fourth row of DataFrame\n",
    "\n",
    "df.iloc[3:4]"
   ]
  },
  {
   "cell_type": "code",
   "execution_count": 28,
   "id": "49b3f62d",
   "metadata": {},
   "outputs": [
    {
     "data": {
      "text/plain": [
       "-0.8068528194400547"
      ]
     },
     "execution_count": 28,
     "metadata": {},
     "output_type": "execute_result"
    }
   ],
   "source": [
    "# Update log odds value\n",
    "\n",
    "learning_rate = 0.5\n",
    "\n",
    "updated_log_odds_value_fourth_row = init_log_odds + learning_rate * (-3)\n",
    "\n",
    "updated_log_odds_value_fourth_row "
   ]
  },
  {
   "cell_type": "code",
   "execution_count": 29,
   "id": "6a0f5584",
   "metadata": {},
   "outputs": [
    {
     "data": {
      "text/plain": [
       "0.3085615459637724"
      ]
     },
     "execution_count": 29,
     "metadata": {},
     "output_type": "execute_result"
    }
   ],
   "source": [
    "# Calculate new probability for the fourth row\n",
    "\n",
    "new_probability_fourth_row = (math.e**(updated_log_odds_value_fourth_row))  /  (1 + math.e**(updated_log_odds_value_fourth_row))\n",
    "\n",
    "new_probability_fourth_row"
   ]
  },
  {
   "cell_type": "code",
   "execution_count": 30,
   "id": "7caebe80",
   "metadata": {},
   "outputs": [],
   "source": [
    "# Calculate new residual\n",
    "\n",
    "df.loc[3, \"residuals\"] = df.loc[3, \"Likes 'The Conjuring'\"] - new_probability_fourth_row"
   ]
  },
  {
   "cell_type": "code",
   "execution_count": 31,
   "id": "68d71758",
   "metadata": {},
   "outputs": [
    {
     "data": {
      "text/html": [
       "<div>\n",
       "<style scoped>\n",
       "    .dataframe tbody tr th:only-of-type {\n",
       "        vertical-align: middle;\n",
       "    }\n",
       "\n",
       "    .dataframe tbody tr th {\n",
       "        vertical-align: top;\n",
       "    }\n",
       "\n",
       "    .dataframe thead th {\n",
       "        text-align: right;\n",
       "    }\n",
       "</style>\n",
       "<table border=\"1\" class=\"dataframe\">\n",
       "  <thead>\n",
       "    <tr style=\"text-align: right;\">\n",
       "      <th></th>\n",
       "      <th>Likes horror movies</th>\n",
       "      <th>Optimal movie length</th>\n",
       "      <th>Age</th>\n",
       "      <th>Likes 'The Conjuring'</th>\n",
       "      <th>residuals</th>\n",
       "    </tr>\n",
       "  </thead>\n",
       "  <tbody>\n",
       "    <tr>\n",
       "      <th>0</th>\n",
       "      <td>Yes</td>\n",
       "      <td>60</td>\n",
       "      <td>15</td>\n",
       "      <td>1</td>\n",
       "      <td>0.191832</td>\n",
       "    </tr>\n",
       "    <tr>\n",
       "      <th>1</th>\n",
       "      <td>Yes</td>\n",
       "      <td>90</td>\n",
       "      <td>90</td>\n",
       "      <td>1</td>\n",
       "      <td>0.421127</td>\n",
       "    </tr>\n",
       "    <tr>\n",
       "      <th>2</th>\n",
       "      <td>No</td>\n",
       "      <td>60</td>\n",
       "      <td>45</td>\n",
       "      <td>0</td>\n",
       "      <td>-0.578873</td>\n",
       "    </tr>\n",
       "    <tr>\n",
       "      <th>3</th>\n",
       "      <td>Yes</td>\n",
       "      <td>120</td>\n",
       "      <td>20</td>\n",
       "      <td>0</td>\n",
       "      <td>-0.308562</td>\n",
       "    </tr>\n",
       "    <tr>\n",
       "      <th>4</th>\n",
       "      <td>No</td>\n",
       "      <td>90</td>\n",
       "      <td>32</td>\n",
       "      <td>1</td>\n",
       "      <td>0.333333</td>\n",
       "    </tr>\n",
       "    <tr>\n",
       "      <th>5</th>\n",
       "      <td>No</td>\n",
       "      <td>60</td>\n",
       "      <td>14</td>\n",
       "      <td>1</td>\n",
       "      <td>0.333333</td>\n",
       "    </tr>\n",
       "  </tbody>\n",
       "</table>\n",
       "</div>"
      ],
      "text/plain": [
       "  Likes horror movies  Optimal movie length  Age  Likes 'The Conjuring'  \\\n",
       "0                 Yes                    60   15                      1   \n",
       "1                 Yes                    90   90                      1   \n",
       "2                  No                    60   45                      0   \n",
       "3                 Yes                   120   20                      0   \n",
       "4                  No                    90   32                      1   \n",
       "5                  No                    60   14                      1   \n",
       "\n",
       "   residuals  \n",
       "0   0.191832  \n",
       "1   0.421127  \n",
       "2  -0.578873  \n",
       "3  -0.308562  \n",
       "4   0.333333  \n",
       "5   0.333333  "
      ]
     },
     "execution_count": 31,
     "metadata": {},
     "output_type": "execute_result"
    }
   ],
   "source": [
    "# Display DataFrame \n",
    "# with fourth residual updated\n",
    "\n",
    "df"
   ]
  },
  {
   "cell_type": "markdown",
   "id": "fda8417a",
   "metadata": {},
   "source": [
    " "
   ]
  },
  {
   "cell_type": "markdown",
   "id": "1c0e62dd",
   "metadata": {},
   "source": [
    "**Fifth row**"
   ]
  },
  {
   "cell_type": "markdown",
   "id": "e37a470f",
   "metadata": {},
   "source": [
    " "
   ]
  },
  {
   "cell_type": "code",
   "execution_count": 32,
   "id": "1ae8d15d",
   "metadata": {},
   "outputs": [
    {
     "data": {
      "text/html": [
       "<div>\n",
       "<style scoped>\n",
       "    .dataframe tbody tr th:only-of-type {\n",
       "        vertical-align: middle;\n",
       "    }\n",
       "\n",
       "    .dataframe tbody tr th {\n",
       "        vertical-align: top;\n",
       "    }\n",
       "\n",
       "    .dataframe thead th {\n",
       "        text-align: right;\n",
       "    }\n",
       "</style>\n",
       "<table border=\"1\" class=\"dataframe\">\n",
       "  <thead>\n",
       "    <tr style=\"text-align: right;\">\n",
       "      <th></th>\n",
       "      <th>Likes horror movies</th>\n",
       "      <th>Optimal movie length</th>\n",
       "      <th>Age</th>\n",
       "      <th>Likes 'The Conjuring'</th>\n",
       "      <th>residuals</th>\n",
       "    </tr>\n",
       "  </thead>\n",
       "  <tbody>\n",
       "    <tr>\n",
       "      <th>4</th>\n",
       "      <td>No</td>\n",
       "      <td>90</td>\n",
       "      <td>32</td>\n",
       "      <td>1</td>\n",
       "      <td>0.333333</td>\n",
       "    </tr>\n",
       "  </tbody>\n",
       "</table>\n",
       "</div>"
      ],
      "text/plain": [
       "  Likes horror movies  Optimal movie length  Age  Likes 'The Conjuring'  \\\n",
       "4                  No                    90   32                      1   \n",
       "\n",
       "   residuals  \n",
       "4   0.333333  "
      ]
     },
     "execution_count": 32,
     "metadata": {},
     "output_type": "execute_result"
    }
   ],
   "source": [
    "# Display fifth row of DataFrame\n",
    "\n",
    "df.iloc[4:5]"
   ]
  },
  {
   "cell_type": "markdown",
   "id": "fece822b",
   "metadata": {},
   "source": [
    "* goes to the same place in the tree as the first row ---> **the new probability that we will use to calculate the new residual is the same as the one for the first row because they are located in the same leaf**"
   ]
  },
  {
   "cell_type": "code",
   "execution_count": 33,
   "id": "bbb860fd",
   "metadata": {},
   "outputs": [
    {
     "data": {
      "text/plain": [
       "0.8081675677459842"
      ]
     },
     "execution_count": 33,
     "metadata": {},
     "output_type": "execute_result"
    }
   ],
   "source": [
    "# Calculate new probability for the fifth row\n",
    "\n",
    "new_probability_fifth_row = new_probability_first_row\n",
    "\n",
    "new_probability_fifth_row"
   ]
  },
  {
   "cell_type": "code",
   "execution_count": 34,
   "id": "8424d628",
   "metadata": {},
   "outputs": [],
   "source": [
    "# Calculate new residual\n",
    "\n",
    "df.loc[4, \"residuals\"] = df.loc[4, \"Likes 'The Conjuring'\"] - new_probability_fifth_row"
   ]
  },
  {
   "cell_type": "code",
   "execution_count": 35,
   "id": "854d250e",
   "metadata": {},
   "outputs": [
    {
     "data": {
      "text/html": [
       "<div>\n",
       "<style scoped>\n",
       "    .dataframe tbody tr th:only-of-type {\n",
       "        vertical-align: middle;\n",
       "    }\n",
       "\n",
       "    .dataframe tbody tr th {\n",
       "        vertical-align: top;\n",
       "    }\n",
       "\n",
       "    .dataframe thead th {\n",
       "        text-align: right;\n",
       "    }\n",
       "</style>\n",
       "<table border=\"1\" class=\"dataframe\">\n",
       "  <thead>\n",
       "    <tr style=\"text-align: right;\">\n",
       "      <th></th>\n",
       "      <th>Likes horror movies</th>\n",
       "      <th>Optimal movie length</th>\n",
       "      <th>Age</th>\n",
       "      <th>Likes 'The Conjuring'</th>\n",
       "      <th>residuals</th>\n",
       "    </tr>\n",
       "  </thead>\n",
       "  <tbody>\n",
       "    <tr>\n",
       "      <th>0</th>\n",
       "      <td>Yes</td>\n",
       "      <td>60</td>\n",
       "      <td>15</td>\n",
       "      <td>1</td>\n",
       "      <td>0.191832</td>\n",
       "    </tr>\n",
       "    <tr>\n",
       "      <th>1</th>\n",
       "      <td>Yes</td>\n",
       "      <td>90</td>\n",
       "      <td>90</td>\n",
       "      <td>1</td>\n",
       "      <td>0.421127</td>\n",
       "    </tr>\n",
       "    <tr>\n",
       "      <th>2</th>\n",
       "      <td>No</td>\n",
       "      <td>60</td>\n",
       "      <td>45</td>\n",
       "      <td>0</td>\n",
       "      <td>-0.578873</td>\n",
       "    </tr>\n",
       "    <tr>\n",
       "      <th>3</th>\n",
       "      <td>Yes</td>\n",
       "      <td>120</td>\n",
       "      <td>20</td>\n",
       "      <td>0</td>\n",
       "      <td>-0.308562</td>\n",
       "    </tr>\n",
       "    <tr>\n",
       "      <th>4</th>\n",
       "      <td>No</td>\n",
       "      <td>90</td>\n",
       "      <td>32</td>\n",
       "      <td>1</td>\n",
       "      <td>0.191832</td>\n",
       "    </tr>\n",
       "    <tr>\n",
       "      <th>5</th>\n",
       "      <td>No</td>\n",
       "      <td>60</td>\n",
       "      <td>14</td>\n",
       "      <td>1</td>\n",
       "      <td>0.333333</td>\n",
       "    </tr>\n",
       "  </tbody>\n",
       "</table>\n",
       "</div>"
      ],
      "text/plain": [
       "  Likes horror movies  Optimal movie length  Age  Likes 'The Conjuring'  \\\n",
       "0                 Yes                    60   15                      1   \n",
       "1                 Yes                    90   90                      1   \n",
       "2                  No                    60   45                      0   \n",
       "3                 Yes                   120   20                      0   \n",
       "4                  No                    90   32                      1   \n",
       "5                  No                    60   14                      1   \n",
       "\n",
       "   residuals  \n",
       "0   0.191832  \n",
       "1   0.421127  \n",
       "2  -0.578873  \n",
       "3  -0.308562  \n",
       "4   0.191832  \n",
       "5   0.333333  "
      ]
     },
     "execution_count": 35,
     "metadata": {},
     "output_type": "execute_result"
    }
   ],
   "source": [
    "# Display DataFrame \n",
    "# with fifth residual updated\n",
    "\n",
    "df"
   ]
  },
  {
   "cell_type": "markdown",
   "id": "865effd2",
   "metadata": {},
   "source": [
    " "
   ]
  },
  {
   "cell_type": "markdown",
   "id": "608f644c",
   "metadata": {},
   "source": [
    "**Sixth row**"
   ]
  },
  {
   "cell_type": "markdown",
   "id": "e85ff9bb",
   "metadata": {},
   "source": [
    " "
   ]
  },
  {
   "cell_type": "code",
   "execution_count": 36,
   "id": "ace0172b",
   "metadata": {},
   "outputs": [
    {
     "data": {
      "text/html": [
       "<div>\n",
       "<style scoped>\n",
       "    .dataframe tbody tr th:only-of-type {\n",
       "        vertical-align: middle;\n",
       "    }\n",
       "\n",
       "    .dataframe tbody tr th {\n",
       "        vertical-align: top;\n",
       "    }\n",
       "\n",
       "    .dataframe thead th {\n",
       "        text-align: right;\n",
       "    }\n",
       "</style>\n",
       "<table border=\"1\" class=\"dataframe\">\n",
       "  <thead>\n",
       "    <tr style=\"text-align: right;\">\n",
       "      <th></th>\n",
       "      <th>Likes horror movies</th>\n",
       "      <th>Optimal movie length</th>\n",
       "      <th>Age</th>\n",
       "      <th>Likes 'The Conjuring'</th>\n",
       "      <th>residuals</th>\n",
       "    </tr>\n",
       "  </thead>\n",
       "  <tbody>\n",
       "    <tr>\n",
       "      <th>5</th>\n",
       "      <td>No</td>\n",
       "      <td>60</td>\n",
       "      <td>14</td>\n",
       "      <td>1</td>\n",
       "      <td>0.333333</td>\n",
       "    </tr>\n",
       "  </tbody>\n",
       "</table>\n",
       "</div>"
      ],
      "text/plain": [
       "  Likes horror movies  Optimal movie length  Age  Likes 'The Conjuring'  \\\n",
       "5                  No                    60   14                      1   \n",
       "\n",
       "   residuals  \n",
       "5   0.333333  "
      ]
     },
     "execution_count": 36,
     "metadata": {},
     "output_type": "execute_result"
    }
   ],
   "source": [
    "# Display sixth row of DataFrame\n",
    "\n",
    "df.iloc[5:]"
   ]
  },
  {
   "cell_type": "markdown",
   "id": "0d4002b9",
   "metadata": {},
   "source": [
    "* goes to the same place in the tree as the first row ---> **the new probability that we will use to calculate the new residual is the same as the one for the first row because they are located in the same leaf**"
   ]
  },
  {
   "cell_type": "code",
   "execution_count": 37,
   "id": "4ebe249a",
   "metadata": {},
   "outputs": [
    {
     "data": {
      "text/plain": [
       "0.8081675677459842"
      ]
     },
     "execution_count": 37,
     "metadata": {},
     "output_type": "execute_result"
    }
   ],
   "source": [
    "# Calculate new probability for the fifth row\n",
    "\n",
    "new_probability_sixth_row = new_probability_first_row\n",
    "\n",
    "new_probability_sixth_row"
   ]
  },
  {
   "cell_type": "code",
   "execution_count": 38,
   "id": "d6fd19be",
   "metadata": {},
   "outputs": [],
   "source": [
    "# Calculate new residual\n",
    "\n",
    "df.loc[5, \"residuals\"] = df.loc[5, \"Likes 'The Conjuring'\"] - new_probability_sixth_row"
   ]
  },
  {
   "cell_type": "code",
   "execution_count": 39,
   "id": "71ab772e",
   "metadata": {},
   "outputs": [
    {
     "data": {
      "text/html": [
       "<div>\n",
       "<style scoped>\n",
       "    .dataframe tbody tr th:only-of-type {\n",
       "        vertical-align: middle;\n",
       "    }\n",
       "\n",
       "    .dataframe tbody tr th {\n",
       "        vertical-align: top;\n",
       "    }\n",
       "\n",
       "    .dataframe thead th {\n",
       "        text-align: right;\n",
       "    }\n",
       "</style>\n",
       "<table border=\"1\" class=\"dataframe\">\n",
       "  <thead>\n",
       "    <tr style=\"text-align: right;\">\n",
       "      <th></th>\n",
       "      <th>Likes horror movies</th>\n",
       "      <th>Optimal movie length</th>\n",
       "      <th>Age</th>\n",
       "      <th>Likes 'The Conjuring'</th>\n",
       "      <th>residuals</th>\n",
       "    </tr>\n",
       "  </thead>\n",
       "  <tbody>\n",
       "    <tr>\n",
       "      <th>0</th>\n",
       "      <td>Yes</td>\n",
       "      <td>60</td>\n",
       "      <td>15</td>\n",
       "      <td>1</td>\n",
       "      <td>0.191832</td>\n",
       "    </tr>\n",
       "    <tr>\n",
       "      <th>1</th>\n",
       "      <td>Yes</td>\n",
       "      <td>90</td>\n",
       "      <td>90</td>\n",
       "      <td>1</td>\n",
       "      <td>0.421127</td>\n",
       "    </tr>\n",
       "    <tr>\n",
       "      <th>2</th>\n",
       "      <td>No</td>\n",
       "      <td>60</td>\n",
       "      <td>45</td>\n",
       "      <td>0</td>\n",
       "      <td>-0.578873</td>\n",
       "    </tr>\n",
       "    <tr>\n",
       "      <th>3</th>\n",
       "      <td>Yes</td>\n",
       "      <td>120</td>\n",
       "      <td>20</td>\n",
       "      <td>0</td>\n",
       "      <td>-0.308562</td>\n",
       "    </tr>\n",
       "    <tr>\n",
       "      <th>4</th>\n",
       "      <td>No</td>\n",
       "      <td>90</td>\n",
       "      <td>32</td>\n",
       "      <td>1</td>\n",
       "      <td>0.191832</td>\n",
       "    </tr>\n",
       "    <tr>\n",
       "      <th>5</th>\n",
       "      <td>No</td>\n",
       "      <td>60</td>\n",
       "      <td>14</td>\n",
       "      <td>1</td>\n",
       "      <td>0.191832</td>\n",
       "    </tr>\n",
       "  </tbody>\n",
       "</table>\n",
       "</div>"
      ],
      "text/plain": [
       "  Likes horror movies  Optimal movie length  Age  Likes 'The Conjuring'  \\\n",
       "0                 Yes                    60   15                      1   \n",
       "1                 Yes                    90   90                      1   \n",
       "2                  No                    60   45                      0   \n",
       "3                 Yes                   120   20                      0   \n",
       "4                  No                    90   32                      1   \n",
       "5                  No                    60   14                      1   \n",
       "\n",
       "   residuals  \n",
       "0   0.191832  \n",
       "1   0.421127  \n",
       "2  -0.578873  \n",
       "3  -0.308562  \n",
       "4   0.191832  \n",
       "5   0.191832  "
      ]
     },
     "execution_count": 39,
     "metadata": {},
     "output_type": "execute_result"
    }
   ],
   "source": [
    "# Display DataFrame \n",
    "# with sixth residual updated\n",
    "\n",
    "df"
   ]
  },
  {
   "cell_type": "markdown",
   "id": "8038749d",
   "metadata": {},
   "source": [
    " "
   ]
  },
  {
   "cell_type": "markdown",
   "id": "cb1b9696",
   "metadata": {},
   "source": [
    "**Add a column to the DataFrame that represents the probabilities that we used to calculate the new residuals**"
   ]
  },
  {
   "cell_type": "markdown",
   "id": "208d1514",
   "metadata": {},
   "source": [
    "* this is important for later, when we create the next tree\n",
    "    <br>\n",
    "    \n",
    "    * in the next tree we build, we will need to plug in these probabilites in the simplified equation that converts leaf residual values to log(odds) values"
   ]
  },
  {
   "cell_type": "code",
   "execution_count": 40,
   "id": "b4bd050d",
   "metadata": {},
   "outputs": [],
   "source": [
    "# Store all probabilities \n",
    "# in a list\n",
    "\n",
    "list_of_new_probabilites = [\n",
    "    new_probability_first_row,\n",
    "    new_probability_second_row,\n",
    "    new_probability_third_row,\n",
    "    new_probability_fourth_row,\n",
    "    new_probability_fifth_row,\n",
    "    new_probability_sixth_row,   \n",
    "]"
   ]
  },
  {
   "cell_type": "code",
   "execution_count": 41,
   "id": "2c987461",
   "metadata": {},
   "outputs": [],
   "source": [
    "# Create a Pandas Series\n",
    "# Out of the new probabilites\n",
    "\n",
    "new_probabilites_series = pd.Series(list_of_new_probabilites)"
   ]
  },
  {
   "cell_type": "code",
   "execution_count": 42,
   "id": "15e740ee",
   "metadata": {},
   "outputs": [],
   "source": [
    "# Add that Series as a column\n",
    "# to the DataFrame\n",
    "\n",
    "df[\"new probabilites\"] = new_probabilites_series"
   ]
  },
  {
   "cell_type": "code",
   "execution_count": 43,
   "id": "9d076a34",
   "metadata": {},
   "outputs": [],
   "source": [
    "# Reorder the columns in the DataFrame\n",
    "# Not necessary, but makes it easier to analyze\n",
    "# the DataFrame when we start creating \n",
    "# the second tree\n",
    "\n",
    "df = df[[\"Likes horror movies\", \"Optimal movie length\", \"Age\", \n",
    "         \"Likes 'The Conjuring'\", \"new probabilites\", \"residuals\"]]"
   ]
  },
  {
   "cell_type": "code",
   "execution_count": 44,
   "id": "5338d359",
   "metadata": {},
   "outputs": [
    {
     "data": {
      "text/html": [
       "<div>\n",
       "<style scoped>\n",
       "    .dataframe tbody tr th:only-of-type {\n",
       "        vertical-align: middle;\n",
       "    }\n",
       "\n",
       "    .dataframe tbody tr th {\n",
       "        vertical-align: top;\n",
       "    }\n",
       "\n",
       "    .dataframe thead th {\n",
       "        text-align: right;\n",
       "    }\n",
       "</style>\n",
       "<table border=\"1\" class=\"dataframe\">\n",
       "  <thead>\n",
       "    <tr style=\"text-align: right;\">\n",
       "      <th></th>\n",
       "      <th>Likes horror movies</th>\n",
       "      <th>Optimal movie length</th>\n",
       "      <th>Age</th>\n",
       "      <th>Likes 'The Conjuring'</th>\n",
       "      <th>new probabilites</th>\n",
       "      <th>residuals</th>\n",
       "    </tr>\n",
       "  </thead>\n",
       "  <tbody>\n",
       "    <tr>\n",
       "      <th>0</th>\n",
       "      <td>Yes</td>\n",
       "      <td>60</td>\n",
       "      <td>15</td>\n",
       "      <td>1</td>\n",
       "      <td>0.808168</td>\n",
       "      <td>0.191832</td>\n",
       "    </tr>\n",
       "    <tr>\n",
       "      <th>1</th>\n",
       "      <td>Yes</td>\n",
       "      <td>90</td>\n",
       "      <td>90</td>\n",
       "      <td>1</td>\n",
       "      <td>0.578873</td>\n",
       "      <td>0.421127</td>\n",
       "    </tr>\n",
       "    <tr>\n",
       "      <th>2</th>\n",
       "      <td>No</td>\n",
       "      <td>60</td>\n",
       "      <td>45</td>\n",
       "      <td>0</td>\n",
       "      <td>0.578873</td>\n",
       "      <td>-0.578873</td>\n",
       "    </tr>\n",
       "    <tr>\n",
       "      <th>3</th>\n",
       "      <td>Yes</td>\n",
       "      <td>120</td>\n",
       "      <td>20</td>\n",
       "      <td>0</td>\n",
       "      <td>0.308562</td>\n",
       "      <td>-0.308562</td>\n",
       "    </tr>\n",
       "    <tr>\n",
       "      <th>4</th>\n",
       "      <td>No</td>\n",
       "      <td>90</td>\n",
       "      <td>32</td>\n",
       "      <td>1</td>\n",
       "      <td>0.808168</td>\n",
       "      <td>0.191832</td>\n",
       "    </tr>\n",
       "    <tr>\n",
       "      <th>5</th>\n",
       "      <td>No</td>\n",
       "      <td>60</td>\n",
       "      <td>14</td>\n",
       "      <td>1</td>\n",
       "      <td>0.808168</td>\n",
       "      <td>0.191832</td>\n",
       "    </tr>\n",
       "  </tbody>\n",
       "</table>\n",
       "</div>"
      ],
      "text/plain": [
       "  Likes horror movies  Optimal movie length  Age  Likes 'The Conjuring'  \\\n",
       "0                 Yes                    60   15                      1   \n",
       "1                 Yes                    90   90                      1   \n",
       "2                  No                    60   45                      0   \n",
       "3                 Yes                   120   20                      0   \n",
       "4                  No                    90   32                      1   \n",
       "5                  No                    60   14                      1   \n",
       "\n",
       "   new probabilites  residuals  \n",
       "0          0.808168   0.191832  \n",
       "1          0.578873   0.421127  \n",
       "2          0.578873  -0.578873  \n",
       "3          0.308562  -0.308562  \n",
       "4          0.808168   0.191832  \n",
       "5          0.808168   0.191832  "
      ]
     },
     "execution_count": 44,
     "metadata": {},
     "output_type": "execute_result"
    }
   ],
   "source": [
    "# Display modified DataFrame\n",
    "# with the new probabilites\n",
    "# and new residuals\n",
    "\n",
    "df"
   ]
  },
  {
   "cell_type": "markdown",
   "id": "334ffd9d",
   "metadata": {},
   "source": [
    "<br>\n",
    "<br>\n",
    "<br>\n",
    "<br>"
   ]
  },
  {
   "cell_type": "markdown",
   "id": "889f587c",
   "metadata": {},
   "source": [
    "## Fourth step: build second tree"
   ]
  },
  {
   "cell_type": "markdown",
   "id": "ca032322",
   "metadata": {},
   "source": [
    " "
   ]
  },
  {
   "cell_type": "markdown",
   "id": "07ba52ac",
   "metadata": {},
   "source": [
    "* built the same way as the first tree with one key difference: this time the updated residuals are the values located inside the leafs of the tree"
   ]
  },
  {
   "cell_type": "markdown",
   "id": "294824e0",
   "metadata": {},
   "source": [
    "* this is how the second tree \"learns\" from the mistakes of the first tree"
   ]
  },
  {
   "cell_type": "markdown",
   "id": "1eafb95f",
   "metadata": {},
   "source": [
    " "
   ]
  },
  {
   "cell_type": "markdown",
   "id": "b056bf5b",
   "metadata": {},
   "source": [
    "<img src=\"https://edlitera-images.s3.amazonaws.com/boosting_detailed_explanation_second_tree.png\" width=\"600\"/>\n"
   ]
  },
  {
   "cell_type": "markdown",
   "id": "c1696030",
   "metadata": {},
   "source": [
    "* afterwards, we need to calculate the log(odds) values for each leaf, using the formula that we used before when we were calculating log(odds) leaf values for the first tree\n",
    "    <br>\n",
    "    \n",
    "    * this time the last predicted probability is not the same for every leaf, because we have predicted different probabilites for different leafs in the previous tree\n",
    "    * what were our \"new probabilities\" for the previous tree, are the last predicted probability values for the second tree\n",
    "    * once again, the equation we use is:\n",
    "    \n",
    "             sum of residuals / [sum of (previous probability  * (1 - previous probability))]\n"
   ]
  },
  {
   "cell_type": "markdown",
   "id": "39a088c0",
   "metadata": {},
   "source": [
    " "
   ]
  },
  {
   "cell_type": "markdown",
   "id": "c8269056",
   "metadata": {},
   "source": [
    "### Calculate leaf values for the second tree"
   ]
  },
  {
   "cell_type": "markdown",
   "id": "08d977c2",
   "metadata": {},
   "source": [
    " "
   ]
  },
  {
   "cell_type": "markdown",
   "id": "aa8774d2",
   "metadata": {},
   "source": [
    "* once again we will use rounded values for the sake of making the process easy to follow"
   ]
  },
  {
   "cell_type": "markdown",
   "id": "21e097c8",
   "metadata": {},
   "source": [
    " "
   ]
  },
  {
   "cell_type": "markdown",
   "id": "83144fd3",
   "metadata": {},
   "source": [
    "**First calculation**"
   ]
  },
  {
   "cell_type": "markdown",
   "id": "51de767e",
   "metadata": {},
   "source": [
    " "
   ]
  },
  {
   "cell_type": "code",
   "execution_count": 45,
   "id": "bf564ada",
   "metadata": {},
   "outputs": [
    {
     "data": {
      "text/plain": [
       "1.7274946318104316"
      ]
     },
     "execution_count": 45,
     "metadata": {},
     "output_type": "execute_result"
    }
   ],
   "source": [
    "# Do first calculation\n",
    "\n",
    "first_calculation_second_tree = 0.421127 / ((0.578873)*(1-0.578873))\n",
    "first_calculation_second_tree"
   ]
  },
  {
   "cell_type": "markdown",
   "id": "402eae36",
   "metadata": {},
   "source": [
    "<img src=\"https://edlitera-images.s3.amazonaws.com/boosting_detailed_explanation_second_tree_first_calculation.png\" width=\"600\"/>\n"
   ]
  },
  {
   "cell_type": "markdown",
   "id": "4f9646d6",
   "metadata": {},
   "source": [
    " "
   ]
  },
  {
   "cell_type": "markdown",
   "id": "b2f9461e",
   "metadata": {},
   "source": [
    "**Second calculation**"
   ]
  },
  {
   "cell_type": "markdown",
   "id": "2a47a100",
   "metadata": {},
   "source": [
    " "
   ]
  },
  {
   "cell_type": "code",
   "execution_count": 46,
   "id": "183d51be",
   "metadata": {},
   "outputs": [
    {
     "data": {
      "text/plain": [
       "-2.3745805897033434"
      ]
     },
     "execution_count": 46,
     "metadata": {},
     "output_type": "execute_result"
    }
   ],
   "source": [
    "# Do second calculation\n",
    "\n",
    "second_calculation_second_tree = (-0.578873) / ((0.578873)*(1-0.578873))\n",
    "second_calculation_second_tree "
   ]
  },
  {
   "cell_type": "markdown",
   "id": "28842109",
   "metadata": {},
   "source": [
    "<img src=\"https://edlitera-images.s3.amazonaws.com/boosting_detailed_explanation_second_tree_second_calculation.png\" width=\"600\"/>\n"
   ]
  },
  {
   "cell_type": "markdown",
   "id": "700fec98",
   "metadata": {},
   "source": [
    " "
   ]
  },
  {
   "cell_type": "markdown",
   "id": "1b9c7828",
   "metadata": {},
   "source": [
    "**Third calculation**"
   ]
  },
  {
   "cell_type": "markdown",
   "id": "0ef93162",
   "metadata": {},
   "source": [
    " "
   ]
  },
  {
   "cell_type": "code",
   "execution_count": 47,
   "id": "5a5826d2",
   "metadata": {},
   "outputs": [
    {
     "data": {
      "text/plain": [
       "0.3934474400228691"
      ]
     },
     "execution_count": 47,
     "metadata": {},
     "output_type": "execute_result"
    }
   ],
   "source": [
    "# Perform second calculation\n",
    "\n",
    "third_calculation_second_tree = (0.191832*3 + (-0.308562)) /((0.808168*(1-0.808168))*3 + (0.308562*(1-0.308562)))\n",
    "third_calculation_second_tree "
   ]
  },
  {
   "cell_type": "markdown",
   "id": "ef4f9dfc",
   "metadata": {},
   "source": [
    "<img src=\"https://edlitera-images.s3.amazonaws.com/boosting_detailed_explanation_second_tree_third_calculation.png\" width=\"600\"/>\n"
   ]
  },
  {
   "cell_type": "markdown",
   "id": "9049b7af",
   "metadata": {},
   "source": [
    " "
   ]
  },
  {
   "cell_type": "markdown",
   "id": "64156b5b",
   "metadata": {},
   "source": [
    "## Fifth step: update values again"
   ]
  },
  {
   "cell_type": "markdown",
   "id": "f5691d13",
   "metadata": {},
   "source": [
    " "
   ]
  },
  {
   "cell_type": "markdown",
   "id": "53d0bdac",
   "metadata": {},
   "source": [
    "* repeat the same process we had before when updating values"
   ]
  },
  {
   "cell_type": "markdown",
   "id": "756635da",
   "metadata": {},
   "source": [
    "* this time however to calculate the new probability we go through two trees instead of one"
   ]
  },
  {
   "cell_type": "markdown",
   "id": "33c4c77f",
   "metadata": {},
   "source": [
    "<img src=\"https://edlitera-images.s3.amazonaws.com/full_second_calculation.png\" width=\"1200\"/>\n"
   ]
  },
  {
   "cell_type": "markdown",
   "id": "cd336622",
   "metadata": {},
   "source": [
    "* for each row we can following the tree we calculate the new log(odds) value, convert it to a new probability prediction and then compare it to the real values (1 or 0 respectively) to get the newest residuals"
   ]
  },
  {
   "cell_type": "markdown",
   "id": "622f94c4",
   "metadata": {},
   "source": [
    "* now we have a new version of the DataFrame that contains the latest predictions and the latest residuals"
   ]
  },
  {
   "cell_type": "markdown",
   "id": "2e403c39",
   "metadata": {},
   "source": [
    "* this process repeats until the training is finished\n",
    "    <br>\n",
    "    \n",
    "    * e.g. until we reach a certain number of iterations (trees)"
   ]
  },
  {
   "cell_type": "markdown",
   "id": "fef89163",
   "metadata": {},
   "source": [
    " "
   ]
  },
  {
   "cell_type": "markdown",
   "id": "3f248093",
   "metadata": {},
   "source": [
    " <div>\n",
    "<img src=\"https://edlitera-images.s3.amazonaws.com/new_edlitera_logo.png\" width=\"500\"/>\n",
    "</div>"
   ]
  }
 ],
 "metadata": {
  "kernelspec": {
   "display_name": "Python 3 (ipykernel)",
   "language": "python",
   "name": "python3"
  },
  "language_info": {
   "codemirror_mode": {
    "name": "ipython",
    "version": 3
   },
   "file_extension": ".py",
   "mimetype": "text/x-python",
   "name": "python",
   "nbconvert_exporter": "python",
   "pygments_lexer": "ipython3",
   "version": "3.9.7"
  }
 },
 "nbformat": 4,
 "nbformat_minor": 5
}
