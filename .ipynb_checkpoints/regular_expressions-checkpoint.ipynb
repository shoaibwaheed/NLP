{
 "cells": [
  {
   "cell_type": "markdown",
   "id": "2e524bb4",
   "metadata": {},
   "source": [
    " <div>\n",
    "<img src=\"https://edlitera-images.s3.amazonaws.com/new_edlitera_logo.png\" width=\"500\"/>\n",
    "</div>"
   ]
  },
  {
   "cell_type": "markdown",
   "id": "6d76a932",
   "metadata": {},
   "source": [
    "# Basics of working with text in Python \n"
   ]
  },
  {
   "cell_type": "markdown",
   "id": "14351b54",
   "metadata": {},
   "source": [
    " "
   ]
  },
  {
   "cell_type": "markdown",
   "id": "79dee8f4",
   "metadata": {},
   "source": [
    "* tipically we use the **`print()`** function in Python to display some text "
   ]
  },
  {
   "cell_type": "markdown",
   "id": "eb62c679",
   "metadata": {},
   "source": [
    "* the **`print()`** function is used for many different things:\n",
    "    <br>\n",
    "    \n",
    "    * displaying results of some operation\n",
    "    * searching for bugs in code\n",
    "    * displaying the progress of some operation\n",
    "    * etc."
   ]
  },
  {
   "cell_type": "markdown",
   "id": "aa474901",
   "metadata": {},
   "source": [
    " "
   ]
  },
  {
   "cell_type": "markdown",
   "id": "aaa81748",
   "metadata": {},
   "source": [
    "## Escape characters"
   ]
  },
  {
   "cell_type": "markdown",
   "id": "d812296e",
   "metadata": {},
   "source": [
    " "
   ]
  },
  {
   "cell_type": "markdown",
   "id": "20801c85",
   "metadata": {},
   "source": [
    "* help format the output of the **`print()`** function"
   ]
  },
  {
   "cell_type": "markdown",
   "id": "ce77d5b0",
   "metadata": {},
   "source": [
    "* very useful when you want to create your own text files from some text data"
   ]
  },
  {
   "cell_type": "markdown",
   "id": "dd245aa3",
   "metadata": {},
   "source": [
    "### List of important escape characters"
   ]
  },
  {
   "cell_type": "markdown",
   "id": "fff572c3",
   "metadata": {},
   "source": [
    " "
   ]
  },
  {
   "cell_type": "markdown",
   "id": "6e3d2549",
   "metadata": {},
   "source": [
    "* **`\\n`** - newline\n",
    "* **`\\t`** - horizontal tab\n",
    "* **`\\v`** - vertical tab\n",
    "* **`\\r`** - carriage return (shift to the beginning of line and replace)\n",
    "* **`\\b`** - backspace\n",
    "* **`\\f`** - form feed (delimiter for a page break)\n",
    "* **`\\`** - backslash\n",
    "* **`\\N{character name}`** - display character using character name"
   ]
  },
  {
   "cell_type": "markdown",
   "id": "23b13091",
   "metadata": {},
   "source": [
    " "
   ]
  },
  {
   "cell_type": "markdown",
   "id": "193cf522",
   "metadata": {},
   "source": [
    "### Examples"
   ]
  },
  {
   "cell_type": "markdown",
   "id": "fa3a6870",
   "metadata": {},
   "source": [
    " "
   ]
  },
  {
   "cell_type": "code",
   "execution_count": 1,
   "id": "93f180a4",
   "metadata": {},
   "outputs": [
    {
     "name": "stdout",
     "output_type": "stream",
     "text": [
      "Hello \n",
      "World\n"
     ]
    }
   ],
   "source": [
    "# Newline example\n",
    "\n",
    "print(\"Hello \\nWorld\")"
   ]
  },
  {
   "cell_type": "code",
   "execution_count": 2,
   "id": "6f659276",
   "metadata": {},
   "outputs": [
    {
     "name": "stdout",
     "output_type": "stream",
     "text": [
      "Hello \tWorld\n"
     ]
    }
   ],
   "source": [
    "# Horizontal tab example\n",
    "\n",
    "print(\"Hello \\tWorld\")"
   ]
  },
  {
   "cell_type": "code",
   "execution_count": 3,
   "id": "d833853d",
   "metadata": {},
   "outputs": [
    {
     "name": "stdout",
     "output_type": "stream",
     "text": [
      "Hello\u000b",
      "\n",
      "World\n"
     ]
    }
   ],
   "source": [
    "# Vertical tab example\n",
    "\n",
    "print(\"Hello\\vWorld\")"
   ]
  },
  {
   "cell_type": "code",
   "execution_count": 4,
   "id": "03c0a683",
   "metadata": {},
   "outputs": [
    {
     "name": "stdout",
     "output_type": "stream",
     "text": [
      "abcdefgh\r\n",
      "987654\n"
     ]
    }
   ],
   "source": [
    "# Carriage return example\n",
    "\n",
    "print(\"abcdefgh\\r987654\")"
   ]
  },
  {
   "cell_type": "code",
   "execution_count": 5,
   "id": "c7d31b2b",
   "metadata": {},
   "outputs": [
    {
     "name": "stdout",
     "output_type": "stream",
     "text": [
      "Hello$\b World\n"
     ]
    }
   ],
   "source": [
    "# Backspace example\n",
    "\n",
    "print(\"Hello$\\b World\")"
   ]
  },
  {
   "cell_type": "code",
   "execution_count": 6,
   "id": "8c6dc366",
   "metadata": {},
   "outputs": [
    {
     "name": "stdout",
     "output_type": "stream",
     "text": [
      "Hello World\f",
      "\n",
      "\n"
     ]
    }
   ],
   "source": [
    "# Form feed example\n",
    "\n",
    "print(\"Hello World\\f\")"
   ]
  },
  {
   "cell_type": "code",
   "execution_count": 7,
   "id": "d3e547d5",
   "metadata": {},
   "outputs": [
    {
     "name": "stdout",
     "output_type": "stream",
     "text": [
      "Backslash example \\\n"
     ]
    }
   ],
   "source": [
    "# Backslash example\n",
    "\n",
    "print(\"Backslash example \\\\\")"
   ]
  },
  {
   "cell_type": "code",
   "execution_count": 8,
   "id": "954d594a",
   "metadata": {},
   "outputs": [
    {
     "name": "stdout",
     "output_type": "stream",
     "text": [
      "Γ\n"
     ]
    }
   ],
   "source": [
    "# Character name example\n",
    "\n",
    "print(\"\\N{GREEK CAPITAL LETTER GAMMA}\")"
   ]
  },
  {
   "cell_type": "markdown",
   "id": "0ab7b717",
   "metadata": {},
   "source": [
    " "
   ]
  },
  {
   "cell_type": "markdown",
   "id": "200e3191",
   "metadata": {},
   "source": [
    "## Raw strings"
   ]
  },
  {
   "cell_type": "markdown",
   "id": "9c762e7c",
   "metadata": {},
   "source": [
    " "
   ]
  },
  {
   "cell_type": "markdown",
   "id": "54d512e1",
   "metadata": {},
   "source": [
    "* using a **backslash( `\\` )** we can escape a character to make sure we print it as is\n",
    "    <br>\n",
    "    \n",
    "    * that way we can print characters that typically hold special meaning in Python as if they were just a part of a standard string"
   ]
  },
  {
   "cell_type": "markdown",
   "id": "91e4f0aa",
   "metadata": {},
   "source": [
    "* another (and perhaps more elegant way) of printing strings as they are, without taking into consideration special characters is using so called **raw strings**"
   ]
  },
  {
   "cell_type": "markdown",
   "id": "fbd6f8d0",
   "metadata": {},
   "source": [
    "* to use a raw string, we just put the lowercase letter **`r`** before a string, which signals to Python that we want to treat everything inside the string, even special characters, as standard characters\n",
    "    <br>\n",
    "    \n",
    "    * what happens is Python treats each character as its own separate literal character\n",
    "    * that means that something like \\n is treated as if we had a separate \\ character followed by a n character\n"
   ]
  },
  {
   "cell_type": "markdown",
   "id": "7737a128",
   "metadata": {},
   "source": [
    " "
   ]
  },
  {
   "cell_type": "markdown",
   "id": "7bbe166f",
   "metadata": {},
   "source": [
    "### Examples:"
   ]
  },
  {
   "cell_type": "markdown",
   "id": "ca6d379c",
   "metadata": {},
   "source": [
    " "
   ]
  },
  {
   "cell_type": "code",
   "execution_count": 9,
   "id": "771f9456",
   "metadata": {},
   "outputs": [
    {
     "name": "stdout",
     "output_type": "stream",
     "text": [
      "abcdefgh\\r987654\n"
     ]
    }
   ],
   "source": [
    "# Carriage return example\n",
    "# Raw string\n",
    "\n",
    "print(r\"abcdefgh\\r987654\")"
   ]
  },
  {
   "cell_type": "code",
   "execution_count": 10,
   "id": "4680a5c2",
   "metadata": {},
   "outputs": [
    {
     "name": "stdout",
     "output_type": "stream",
     "text": [
      "Hello \\nWorld\n"
     ]
    }
   ],
   "source": [
    "# Newline example\n",
    "# Raw string\n",
    "\n",
    "print(r\"Hello \\nWorld\")"
   ]
  },
  {
   "cell_type": "markdown",
   "id": "96cbd21e",
   "metadata": {},
   "source": [
    " "
   ]
  },
  {
   "cell_type": "markdown",
   "id": "f44629b0",
   "metadata": {},
   "source": [
    "## String Formatting"
   ]
  },
  {
   "cell_type": "markdown",
   "id": "8d6409ea",
   "metadata": {},
   "source": [
    " "
   ]
  },
  {
   "cell_type": "markdown",
   "id": "32c3c685",
   "metadata": {},
   "source": [
    "* there are several ways to do it"
   ]
  },
  {
   "cell_type": "markdown",
   "id": "077476a9",
   "metadata": {},
   "source": [
    "* the two most popular ways are:\n",
    "    <br>\n",
    "    \n",
    "    * using **`.format()`**\n",
    "    * using **`f strings`**"
   ]
  },
  {
   "cell_type": "markdown",
   "id": "1150b61a",
   "metadata": {},
   "source": [
    " "
   ]
  },
  {
   "cell_type": "markdown",
   "id": "d58de7ac",
   "metadata": {},
   "source": [
    "### Using `.format()`\n"
   ]
  },
  {
   "cell_type": "markdown",
   "id": "c003e437",
   "metadata": {},
   "source": [
    " "
   ]
  },
  {
   "cell_type": "code",
   "execution_count": 11,
   "id": "a700777c",
   "metadata": {},
   "outputs": [],
   "source": [
    "fav_num_1 = 22454325.879857349"
   ]
  },
  {
   "cell_type": "code",
   "execution_count": 12,
   "id": "26915a2a",
   "metadata": {},
   "outputs": [],
   "source": [
    "fav_num_2 = 224545"
   ]
  },
  {
   "cell_type": "code",
   "execution_count": 13,
   "id": "9943cba6",
   "metadata": {},
   "outputs": [
    {
     "data": {
      "text/plain": [
       "'My favorite number is 22,454,325.88. My other one is 224,545.'"
      ]
     },
     "execution_count": 13,
     "metadata": {},
     "output_type": "execute_result"
    }
   ],
   "source": [
    "'My favorite number is {:,.2f}. My other one is {:,d}.'.format(fav_num_1, fav_num_2)"
   ]
  },
  {
   "cell_type": "markdown",
   "id": "1d841242",
   "metadata": {},
   "source": [
    " "
   ]
  },
  {
   "cell_type": "markdown",
   "id": "d19b566b",
   "metadata": {},
   "source": [
    "### Using `f strings` (my favorite)"
   ]
  },
  {
   "cell_type": "markdown",
   "id": "993747be",
   "metadata": {},
   "source": [
    " "
   ]
  },
  {
   "cell_type": "markdown",
   "id": "0539ec94",
   "metadata": {},
   "source": [
    "* also the newest"
   ]
  },
  {
   "cell_type": "code",
   "execution_count": 14,
   "id": "204e6cba",
   "metadata": {},
   "outputs": [],
   "source": [
    "num = 11"
   ]
  },
  {
   "cell_type": "code",
   "execution_count": 15,
   "id": "fd530e8e",
   "metadata": {},
   "outputs": [
    {
     "name": "stdout",
     "output_type": "stream",
     "text": [
      "November is the 11th month of the year\n"
     ]
    }
   ],
   "source": [
    "print(f'November is the {num}th month of the year')"
   ]
  },
  {
   "cell_type": "markdown",
   "id": "34ff9c66",
   "metadata": {},
   "source": [
    "What if you want to format a large number?"
   ]
  },
  {
   "cell_type": "code",
   "execution_count": 16,
   "id": "5cd91e23",
   "metadata": {},
   "outputs": [],
   "source": [
    "num = 13936987629872"
   ]
  },
  {
   "cell_type": "code",
   "execution_count": 17,
   "id": "6de38380",
   "metadata": {},
   "outputs": [
    {
     "data": {
      "text/plain": [
       "'The size of the file is 13,936,987,629,872 bits.'"
      ]
     },
     "execution_count": 17,
     "metadata": {},
     "output_type": "execute_result"
    }
   ],
   "source": [
    "x = f'The size of the file is {num:,d} bits.'\n",
    "x"
   ]
  },
  {
   "cell_type": "markdown",
   "id": "1bb75a05",
   "metadata": {},
   "source": [
    "What's up with this `{num:,d}`?"
   ]
  },
  {
   "cell_type": "markdown",
   "id": "60c86beb",
   "metadata": {},
   "source": [
    "* `{}` tells Python we're about to specify a format for a variable\n",
    "* `num` is the name of the variable we're formatting\n",
    "* `d` tells Python the variable is an integer number\n",
    "* `,` tells Python we want it to add the commas to make the number more legible"
   ]
  },
  {
   "cell_type": "markdown",
   "id": "a585bb45",
   "metadata": {},
   "source": [
    "What if the number has decimals?"
   ]
  },
  {
   "cell_type": "code",
   "execution_count": 18,
   "id": "d5dde653",
   "metadata": {},
   "outputs": [],
   "source": [
    "fav_num = 22454325.879857349"
   ]
  },
  {
   "cell_type": "code",
   "execution_count": 19,
   "id": "aeed3228",
   "metadata": {},
   "outputs": [],
   "source": [
    "fav_num_str = f'My favorite number is {fav_num:,.4f}.'"
   ]
  },
  {
   "cell_type": "code",
   "execution_count": 20,
   "id": "b7bfc218",
   "metadata": {},
   "outputs": [
    {
     "name": "stdout",
     "output_type": "stream",
     "text": [
      "My favorite number is 22,454,325.8799.\n"
     ]
    }
   ],
   "source": [
    "print(fav_num_str)"
   ]
  },
  {
   "cell_type": "markdown",
   "id": "ed35ca30",
   "metadata": {},
   "source": [
    "What is this `{fav_num:,.4f}` sourcery?"
   ]
  },
  {
   "cell_type": "markdown",
   "id": "bd16c2d8",
   "metadata": {},
   "source": [
    "* `{}` tells Python we're about to specify a format for a variable\n",
    "* `fav_num` is the name of the variable we're formatting\n",
    "* `f` tells Python the variable is a float\n",
    "* `.4` tells Python we want 4 decimals of precision\n",
    "* `,` again tells Python we want it to add the commas to make the number more legible"
   ]
  },
  {
   "cell_type": "markdown",
   "id": "f6fbeb64",
   "metadata": {},
   "source": [
    "**CAUTION:** Formatting like this only works for `f` strings:"
   ]
  },
  {
   "cell_type": "code",
   "execution_count": 21,
   "id": "275608cf",
   "metadata": {},
   "outputs": [
    {
     "name": "stdout",
     "output_type": "stream",
     "text": [
      "My favorite number is {fav_num:,.2f}.\n"
     ]
    }
   ],
   "source": [
    "print('My favorite number is {fav_num:,.2f}.')"
   ]
  },
  {
   "cell_type": "markdown",
   "id": "6b8bf740",
   "metadata": {},
   "source": [
    "**NOTE:** Variables can be anything that can be converted to string:"
   ]
  },
  {
   "cell_type": "code",
   "execution_count": 22,
   "id": "373f8fb9",
   "metadata": {},
   "outputs": [],
   "source": [
    "name = 'Ciprian'"
   ]
  },
  {
   "cell_type": "code",
   "execution_count": 23,
   "id": "3a22121c",
   "metadata": {},
   "outputs": [
    {
     "name": "stdout",
     "output_type": "stream",
     "text": [
      "My name is Ciprian. My favorite number is 22454325.87985735.\n"
     ]
    }
   ],
   "source": [
    "print(f'My name is {name}. My favorite number is {fav_num}.')"
   ]
  },
  {
   "cell_type": "markdown",
   "id": "3fc4e451",
   "metadata": {},
   "source": [
    " "
   ]
  },
  {
   "cell_type": "markdown",
   "id": "91a85ca0",
   "metadata": {},
   "source": [
    " "
   ]
  },
  {
   "cell_type": "markdown",
   "id": "5e8afc4a",
   "metadata": {},
   "source": [
    "# Introduction to `Regular Expressions`"
   ]
  },
  {
   "cell_type": "markdown",
   "id": "7e6e1765",
   "metadata": {},
   "source": [
    " "
   ]
  },
  {
   "cell_type": "markdown",
   "id": "37641c83",
   "metadata": {},
   "source": [
    "* often shortened to just **`RegEx`**"
   ]
  },
  {
   "cell_type": "markdown",
   "id": "da3b8c0a",
   "metadata": {},
   "source": [
    "* sequences of characters that form various search patterns"
   ]
  },
  {
   "cell_type": "markdown",
   "id": "e76ae02f",
   "metadata": {},
   "source": [
    "* we can use them to chech whether a string contains a specific pattern"
   ]
  },
  {
   "cell_type": "markdown",
   "id": "e0f50561",
   "metadata": {},
   "source": [
    "* can also be used to extract a part of a string or even replace it"
   ]
  },
  {
   "cell_type": "markdown",
   "id": "3e9ed160",
   "metadata": {},
   "source": [
    "* very useful for reading and writing text data"
   ]
  },
  {
   "cell_type": "markdown",
   "id": "dc46e0d7",
   "metadata": {},
   "source": [
    "* **not unique to Python**\n",
    "    <br>\n",
    "    \n",
    "    * the concept of using regular expressions to search for various patterns in text data exists in other programming languages such as **Java** or **C++**"
   ]
  },
  {
   "cell_type": "markdown",
   "id": "f127e02c",
   "metadata": {},
   "source": [
    " "
   ]
  },
  {
   "cell_type": "markdown",
   "id": "6ea5fa50",
   "metadata": {},
   "source": [
    "## Advantages of using `RegEx`"
   ]
  },
  {
   "cell_type": "markdown",
   "id": "186f86c4",
   "metadata": {},
   "source": [
    "* use cases range from basic use cases (search for certain letters in text) to advanced uses (preparing text data for Machine Learning models)"
   ]
  },
  {
   "cell_type": "markdown",
   "id": "1968633b",
   "metadata": {},
   "source": [
    "* faster than standard Python operations such as \n",
    "    <br>\n",
    "    \n",
    "    * using the keyword **in** to search for the presence of some substring\n",
    "    * using **`find()`**  to find a certain part of a string\n",
    "    * using **`replace()`**  to replace a part of a string"
   ]
  },
  {
   "cell_type": "markdown",
   "id": "fc63a0b5",
   "metadata": {},
   "source": [
    "* one of the most useful libraries to learn if you plan to work in the field of **NLP (Natural Language Processing)**\n",
    "    "
   ]
  },
  {
   "cell_type": "markdown",
   "id": "76ead3e6",
   "metadata": {},
   "source": [
    " "
   ]
  },
  {
   "cell_type": "markdown",
   "id": "1aa4fbb2",
   "metadata": {},
   "source": [
    "## Disadvantages of using `RegEx`"
   ]
  },
  {
   "cell_type": "markdown",
   "id": "5b3742c4",
   "metadata": {},
   "source": [
    " "
   ]
  },
  {
   "cell_type": "markdown",
   "id": "9e990fbe",
   "metadata": {},
   "source": [
    "* takes some time to get really comfortable with them"
   ]
  },
  {
   "cell_type": "markdown",
   "id": "f4bba7d0",
   "metadata": {},
   "source": [
    "* they can lead to very subtle bugs"
   ]
  },
  {
   "cell_type": "markdown",
   "id": "97896967",
   "metadata": {},
   "source": [
    " "
   ]
  },
  {
   "cell_type": "markdown",
   "id": "c01f2fd8",
   "metadata": {},
   "source": [
    " "
   ]
  },
  {
   "cell_type": "markdown",
   "id": "8e0f5000",
   "metadata": {},
   "source": [
    "# Introduction to `RegEx` in Python"
   ]
  },
  {
   "cell_type": "markdown",
   "id": "e6c7e53b",
   "metadata": {},
   "source": [
    " "
   ]
  },
  {
   "cell_type": "markdown",
   "id": "c6cd0981",
   "metadata": {},
   "source": [
    "* available through the built-in module **`re`**\n",
    "    <br>\n",
    "    \n",
    "    * more functionality available in the third party **`regex`** module"
   ]
  },
  {
   "cell_type": "code",
   "execution_count": 24,
   "id": "979fce5f",
   "metadata": {},
   "outputs": [],
   "source": [
    "# Import the in-built Python module\n",
    "# For using Regular Expressions\n",
    "\n",
    "import re"
   ]
  },
  {
   "cell_type": "markdown",
   "id": "9bf519e8",
   "metadata": {},
   "source": [
    "* the module provides us with a set of functions we can use to manipulate strings"
   ]
  },
  {
   "cell_type": "markdown",
   "id": "a17b5ae0",
   "metadata": {},
   "source": [
    "* the syntax of a `RegEx` query consists of two parts:\n",
    "    <br>\n",
    "    \n",
    "    * **functions**\n",
    "    * **search patterns**"
   ]
  },
  {
   "cell_type": "markdown",
   "id": "381fc841",
   "metadata": {},
   "source": [
    " "
   ]
  },
  {
   "cell_type": "markdown",
   "id": "c9f993e2",
   "metadata": {},
   "source": [
    "## `RegEx` functions"
   ]
  },
  {
   "cell_type": "markdown",
   "id": "d63bd5e2",
   "metadata": {},
   "source": [
    " "
   ]
  },
  {
   "cell_type": "markdown",
   "id": "1a6e9297",
   "metadata": {},
   "source": [
    "* the most useful functions are:\n",
    "    <br>\n",
    "    \n",
    "    * **`findall()`** \n",
    "    * **`search()`** \n",
    "    * **`split()`** \n",
    "    * **`sub()`** "
   ]
  },
  {
   "cell_type": "markdown",
   "id": "60ef28b9",
   "metadata": {},
   "source": [
    "* we will use these functions in combination with search patterns to form `RegEx` queries"
   ]
  },
  {
   "cell_type": "markdown",
   "id": "142720ee",
   "metadata": {},
   "source": [
    " "
   ]
  },
  {
   "cell_type": "markdown",
   "id": "d27fe296",
   "metadata": {},
   "source": [
    "## Search patterns"
   ]
  },
  {
   "cell_type": "markdown",
   "id": "013be6c4",
   "metadata": {},
   "source": [
    " "
   ]
  },
  {
   "cell_type": "markdown",
   "id": "386639c9",
   "metadata": {},
   "source": [
    "* a search pattern consists of three parts:\n",
    "    <br>\n",
    "    \n",
    "    * **metacharacters**\n",
    "    * **special sequences**\n",
    "    * **sets**"
   ]
  },
  {
   "cell_type": "markdown",
   "id": "c53a8ecb",
   "metadata": {},
   "source": [
    "* using various combinations of these we can build a search pattern that we input into a **`RegEx`** function to achieve some result"
   ]
  },
  {
   "cell_type": "markdown",
   "id": "6562810c",
   "metadata": {},
   "source": [
    " "
   ]
  },
  {
   "cell_type": "markdown",
   "id": "db4d31c9",
   "metadata": {},
   "source": [
    " "
   ]
  },
  {
   "cell_type": "markdown",
   "id": "9a42ba11",
   "metadata": {},
   "source": [
    "# RegEx functions"
   ]
  },
  {
   "cell_type": "markdown",
   "id": "ab22c671",
   "metadata": {},
   "source": [
    " "
   ]
  },
  {
   "cell_type": "markdown",
   "id": "6774ac5c",
   "metadata": {},
   "source": [
    "* each of the four previously mentioned functions work on the same principle"
   ]
  },
  {
   "cell_type": "markdown",
   "id": "f10484bf",
   "metadata": {},
   "source": [
    "* the search a string, looking for a particular pattern that we entered into them as an argument, and follow that up with some particular operation:\n",
    "    <br>\n",
    "    \n",
    "    * **`findall()`** - returns a list containing all matches\n",
    "    * **`search()`** - returns a match if there is one \n",
    "    * **`split()`** - returns a list that consists of a string split at each match\n",
    "    * **`sub()`** - replace one or multiple matches with a new string"
   ]
  },
  {
   "cell_type": "markdown",
   "id": "81ee806c",
   "metadata": {},
   "source": [
    " "
   ]
  },
  {
   "cell_type": "markdown",
   "id": "c14e13b3",
   "metadata": {},
   "source": [
    "## Examples:"
   ]
  },
  {
   "cell_type": "markdown",
   "id": "c7e6659d",
   "metadata": {},
   "source": [
    " "
   ]
  },
  {
   "cell_type": "markdown",
   "id": "7b49bbfd",
   "metadata": {},
   "source": [
    "* let's take a look at a few simple examples, just to demonstrate how these functions work\n",
    "\n"
   ]
  },
  {
   "cell_type": "markdown",
   "id": "246e322f",
   "metadata": {},
   "source": [
    "* in practice we will use more complex queries that include metacharacters, special characters and sets\n",
    "    <br>\n",
    "    \n",
    "    * that will be demonstrated after we explain how metacharacters, special characters and sets work\n"
   ]
  },
  {
   "cell_type": "markdown",
   "id": "32dd14c7",
   "metadata": {},
   "source": [
    " "
   ]
  },
  {
   "cell_type": "code",
   "execution_count": 25,
   "id": "03d0e067",
   "metadata": {},
   "outputs": [],
   "source": [
    "# Import what we need\n",
    "\n",
    "import re"
   ]
  },
  {
   "cell_type": "markdown",
   "id": "e5d815df",
   "metadata": {},
   "source": [
    " "
   ]
  },
  {
   "cell_type": "markdown",
   "id": "9bb43db4",
   "metadata": {},
   "source": [
    "### `findall()` example"
   ]
  },
  {
   "cell_type": "markdown",
   "id": "5d24ffe8",
   "metadata": {},
   "source": [
    " "
   ]
  },
  {
   "cell_type": "code",
   "execution_count": 26,
   "id": "17f340c7",
   "metadata": {},
   "outputs": [],
   "source": [
    "# Define example text data \n",
    "\n",
    "text_data = \"\"\"In the advanced Python course we cover many different topics. \n",
    "We cover topics such as concurrency, asynchronous programming and web scrapping, but also topics such as modules, packages\n",
    "iterators and generators.\"\"\""
   ]
  },
  {
   "cell_type": "code",
   "execution_count": 27,
   "id": "facba7c6",
   "metadata": {},
   "outputs": [],
   "source": [
    "# Find how many times\n",
    "# the word \"topics\" appears in our text\n",
    "\n",
    "list_of_occurrences = re.findall(\"topics\", text_data)\n"
   ]
  },
  {
   "cell_type": "code",
   "execution_count": 28,
   "id": "9163a891",
   "metadata": {},
   "outputs": [
    {
     "name": "stdout",
     "output_type": "stream",
     "text": [
      "The word 'topics' appears 3 times in our example text data.\n"
     ]
    }
   ],
   "source": [
    "# Display result \n",
    "\n",
    "print(f\"The word 'topics' appears {len(list_of_occurrences)} times in our example text data.\")"
   ]
  },
  {
   "cell_type": "markdown",
   "id": "1cc4f6e2",
   "metadata": {},
   "source": [
    " "
   ]
  },
  {
   "cell_type": "markdown",
   "id": "1b7826d4",
   "metadata": {},
   "source": [
    "### `search()` example"
   ]
  },
  {
   "cell_type": "markdown",
   "id": "44d169c6",
   "metadata": {},
   "source": [
    " "
   ]
  },
  {
   "cell_type": "code",
   "execution_count": 29,
   "id": "3148c90b",
   "metadata": {},
   "outputs": [],
   "source": [
    "# Define example text data \n",
    "\n",
    "text_data = \"\"\"In the advanced Python course we cover many different topics. \n",
    "We cover topics such as concurrency, asynchronous programming and web scrapping, but also topics such as modules, packages\n",
    "iterators and generators.\"\"\""
   ]
  },
  {
   "cell_type": "code",
   "execution_count": 30,
   "id": "536ec8b7",
   "metadata": {},
   "outputs": [],
   "source": [
    "# Search for the first occurence\n",
    "# of the word \"cover\" in our text\n",
    "\n",
    "match = re.search(\"cover\", text_data)\n"
   ]
  },
  {
   "cell_type": "code",
   "execution_count": 31,
   "id": "87b77141",
   "metadata": {},
   "outputs": [
    {
     "name": "stdout",
     "output_type": "stream",
     "text": [
      "<re.Match object; span=(33, 38), match='cover'>\n"
     ]
    }
   ],
   "source": [
    "# display result\n",
    "\n",
    "print(match)"
   ]
  },
  {
   "cell_type": "markdown",
   "id": "1841dfde",
   "metadata": {},
   "source": [
    " "
   ]
  },
  {
   "cell_type": "markdown",
   "id": "2c56badd",
   "metadata": {},
   "source": [
    "* search creates a so-called **`Match object`**"
   ]
  },
  {
   "cell_type": "markdown",
   "id": "80b91697",
   "metadata": {},
   "source": [
    "* **`Match objects`** have certain properties and methods that allow us to access various information about the \"match\" that was found\n",
    "    <br>\n",
    "    \n",
    "    * when we search for a part of a string, if that part of a string is found that is considered a \"match\"\n",
    "    * even when a part of a string appears multiple times in our string, the **`search()`** will create a **`Match object`** that corresponds to only the first occurence "
   ]
  },
  {
   "cell_type": "markdown",
   "id": "ef8a4dad",
   "metadata": {},
   "source": [
    "* important property of the **`Match object`:**\n",
    "    <br>\n",
    "    \n",
    "    * **`.string`** - returns the string passed to the **`search()`** function"
   ]
  },
  {
   "cell_type": "markdown",
   "id": "c63f7b7f",
   "metadata": {},
   "source": [
    "* important methods of the **`Match object`**:\n",
    "    <br>\n",
    "    \n",
    "    * **`span()`** - returns a tuple that contains the start and end position of the match inside the original string\n",
    "    * **`group()`** - returns the part of the string where the match was"
   ]
  },
  {
   "cell_type": "markdown",
   "id": "142ee6db",
   "metadata": {},
   "source": [
    " "
   ]
  },
  {
   "cell_type": "code",
   "execution_count": 32,
   "id": "b3ec2c0d",
   "metadata": {},
   "outputs": [
    {
     "name": "stdout",
     "output_type": "stream",
     "text": [
      "The string that contains the term we are searching for: \n",
      "\n",
      "In the advanced Python course we cover many different topics. \n",
      "We cover topics such as concurrency, asynchronous programming and web scrapping, but also topics such as modules, packages\n",
      "iterators and generators.\n"
     ]
    }
   ],
   "source": [
    "# Demonstrate string property\n",
    "\n",
    "print(f\"The string that contains the term we are searching for: \\n\\n{match.string}\")"
   ]
  },
  {
   "cell_type": "markdown",
   "id": "2f590951",
   "metadata": {},
   "source": [
    " "
   ]
  },
  {
   "cell_type": "code",
   "execution_count": 33,
   "id": "9b4a20d6",
   "metadata": {},
   "outputs": [
    {
     "name": "stdout",
     "output_type": "stream",
     "text": [
      "The term we are searching for starts at index 33, and ends at index 38\n",
      "The term we are searching for is: cover\n"
     ]
    }
   ],
   "source": [
    "# Demonstrate span() \n",
    "\n",
    "print(f\"The term we are searching for starts at index {match.span()[0]}, and ends at index {match.span()[1]}\")\n",
    "\n",
    "print(f\"The term we are searching for is: {text_data[match.span()[0]:match.span()[1]]}\")"
   ]
  },
  {
   "cell_type": "markdown",
   "id": "7f769757",
   "metadata": {},
   "source": [
    " "
   ]
  },
  {
   "cell_type": "code",
   "execution_count": 34,
   "id": "2a98fa45",
   "metadata": {},
   "outputs": [
    {
     "name": "stdout",
     "output_type": "stream",
     "text": [
      "The part of the string we were search for is: cover\n"
     ]
    }
   ],
   "source": [
    "# Demonstrate group()\n",
    "\n",
    "print(f\"The part of the string we were search for is: {match.group()}\")"
   ]
  },
  {
   "cell_type": "markdown",
   "id": "04fdef29",
   "metadata": {},
   "source": [
    "  "
   ]
  },
  {
   "cell_type": "markdown",
   "id": "0798293c",
   "metadata": {},
   "source": [
    "### `split()` example"
   ]
  },
  {
   "cell_type": "markdown",
   "id": "05ea3c89",
   "metadata": {},
   "source": [
    " "
   ]
  },
  {
   "cell_type": "code",
   "execution_count": 35,
   "id": "ca7c3498",
   "metadata": {},
   "outputs": [],
   "source": [
    "# Define example text data \n",
    "\n",
    "text_data = \"\"\"In the advanced Python course we cover many different topics. \n",
    "We cover topics such as concurrency, asynchronous programming and web scrapping, but also topics such as modules, packages\n",
    "iterators and generators.\"\"\""
   ]
  },
  {
   "cell_type": "code",
   "execution_count": 36,
   "id": "08b721f3",
   "metadata": {},
   "outputs": [],
   "source": [
    "# Split on newline \n",
    "\n",
    "result_list = re.split(\"\\n\", text_data)\n"
   ]
  },
  {
   "cell_type": "code",
   "execution_count": 37,
   "id": "05550ca2",
   "metadata": {},
   "outputs": [
    {
     "name": "stdout",
     "output_type": "stream",
     "text": [
      "When we split our string on a newline, we get the following list: \n",
      "\n",
      "['In the advanced Python course we cover many different topics. ', 'We cover topics such as concurrency, asynchronous programming and web scrapping, but also topics such as modules, packages', 'iterators and generators.']\n"
     ]
    }
   ],
   "source": [
    "# Display result\n",
    "\n",
    "print(f\"When we split our string on a newline, we get the following list: \\n\\n{result_list}\")"
   ]
  },
  {
   "cell_type": "markdown",
   "id": "bb15c09c",
   "metadata": {},
   "source": [
    " "
   ]
  },
  {
   "cell_type": "code",
   "execution_count": 38,
   "id": "ce1b252f",
   "metadata": {},
   "outputs": [],
   "source": [
    "# Split on word example\n",
    "\n",
    "result_list = re.split(\"cover\", text_data)"
   ]
  },
  {
   "cell_type": "code",
   "execution_count": 39,
   "id": "e3b5b603",
   "metadata": {},
   "outputs": [
    {
     "name": "stdout",
     "output_type": "stream",
     "text": [
      "When we split our string on the substring 'cover', we get the following list: \n",
      "\n",
      "['In the advanced Python course we ', ' many different topics. \\nWe ', ' topics such as concurrency, asynchronous programming and web scrapping, but also topics such as modules, packages\\niterators and generators.']\n"
     ]
    }
   ],
   "source": [
    "# Display result\n",
    "\n",
    "print(f\"When we split our string on the substring 'cover', we get the following list: \\n\\n{result_list}\")"
   ]
  },
  {
   "cell_type": "markdown",
   "id": "dd6600fa",
   "metadata": {},
   "source": [
    " "
   ]
  },
  {
   "cell_type": "markdown",
   "id": "917cf45d",
   "metadata": {},
   "source": [
    "### `sub()` example"
   ]
  },
  {
   "cell_type": "markdown",
   "id": "dcc70b80",
   "metadata": {},
   "source": [
    " "
   ]
  },
  {
   "cell_type": "code",
   "execution_count": 40,
   "id": "8a87c0d6",
   "metadata": {},
   "outputs": [],
   "source": [
    "# Define example text data \n",
    "\n",
    "text_data = \"\"\"In the advanced Python course we cover many different topics. \n",
    "We cover topics such as concurrency, asynchronous programming and web scrapping, but also topics such as modules, packages\n",
    "iterators and generators.\"\"\""
   ]
  },
  {
   "cell_type": "code",
   "execution_count": 41,
   "id": "04b2d83c",
   "metadata": {},
   "outputs": [],
   "source": [
    "# Substitute the word \"topics\"\n",
    "# with the word \"concepts\"\n",
    "\n",
    "new_text_data = re.sub(\"topics\", \"concepts\", text_data)"
   ]
  },
  {
   "cell_type": "code",
   "execution_count": 42,
   "id": "ef373da6",
   "metadata": {},
   "outputs": [
    {
     "name": "stdout",
     "output_type": "stream",
     "text": [
      "The new version of our sentence is: \n",
      "\n",
      "In the advanced Python course we cover many different concepts. \n",
      "We cover concepts such as concurrency, asynchronous programming and web scrapping, but also concepts such as modules, packages\n",
      "iterators and generators.\n"
     ]
    }
   ],
   "source": [
    "# Display result\n",
    "\n",
    "print(f\"The new version of our sentence is: \\n\\n{new_text_data}\")"
   ]
  },
  {
   "cell_type": "markdown",
   "id": "c1b8cae7",
   "metadata": {},
   "source": [
    " "
   ]
  },
  {
   "cell_type": "markdown",
   "id": "4510304f",
   "metadata": {},
   "source": [
    " "
   ]
  },
  {
   "cell_type": "markdown",
   "id": "5168b964",
   "metadata": {},
   "source": [
    "# Metacharacters, special sequences and sets"
   ]
  },
  {
   "cell_type": "markdown",
   "id": "0c0b7db1",
   "metadata": {},
   "source": [
    " "
   ]
  },
  {
   "cell_type": "markdown",
   "id": "a6566966",
   "metadata": {},
   "source": [
    "* the second part of **`RegEx`** equations"
   ]
  },
  {
   "cell_type": "markdown",
   "id": "7482b9fc",
   "metadata": {},
   "source": [
    "* in combination with the previously mentioned functions allow us to easily (and quickly) process text"
   ]
  },
  {
   "cell_type": "markdown",
   "id": "6f31cda3",
   "metadata": {},
   "source": [
    "* the number of different combinations you can create is limitless\n",
    "    <br>\n",
    "    \n",
    "    * in practice since you will probably be working on similar problems in similar fields you will with create a \"database of formulas\" that you can reuse whenever you need to finish a certain task\n",
    "    * that being said, from time to time you will run into a situation where you need to do something new, so in that case it is important to understand how **`RegEx`** works (and not just blindly copy premade formulas)"
   ]
  },
  {
   "cell_type": "markdown",
   "id": "c253ba89",
   "metadata": {},
   "source": [
    "* we already covered functions, now it is time to cover:\n",
    "    <br>\n",
    "    \n",
    "    * **metacharacters**\n",
    "    * **special sequences**\n",
    "    * **sets**"
   ]
  },
  {
   "cell_type": "markdown",
   "id": "0380d7ed",
   "metadata": {},
   "source": [
    " "
   ]
  },
  {
   "cell_type": "markdown",
   "id": "8245b997",
   "metadata": {},
   "source": [
    "## Metacharacters"
   ]
  },
  {
   "cell_type": "markdown",
   "id": "cf86f48a",
   "metadata": {},
   "source": [
    " "
   ]
  },
  {
   "cell_type": "markdown",
   "id": "b0a02005",
   "metadata": {},
   "source": [
    "* characters that carry a special meaning in the syntax of regular expressions during pattern processing"
   ]
  },
  {
   "cell_type": "markdown",
   "id": "0e942c99",
   "metadata": {},
   "source": [
    "* we use them to define search criteria and other manipulations"
   ]
  },
  {
   "cell_type": "markdown",
   "id": "89a87a52",
   "metadata": {},
   "source": [
    "* the most important metacharacters are:\n",
    "    <br>\n",
    "    \n",
    "    * **`[]`** - used to form a set of characters\n",
    "    * **`\\`** - used as an escape sequence for escaping special characters (for example \\d for digits)\n",
    "    * **`.`** - any character except a newline\n",
    "    * **`^`** - starts with\n",
    "    * **`$`** - ends with\n",
    "    * **`*`** - zero of more occurrences of a character\n",
    "    * **`+`** - one of more occurrences of a character\n",
    "    * **`?`** - zero of one occurrence of a character\n",
    "    * **`{}`** - specified number of occurrences\n",
    "    * **`|`** - either or\n",
    "    * **`()`** - capture or group\n",
    "    \n",
    "   "
   ]
  },
  {
   "cell_type": "markdown",
   "id": "a62df3bd",
   "metadata": {},
   "source": [
    " "
   ]
  },
  {
   "cell_type": "markdown",
   "id": "f78c00c5",
   "metadata": {},
   "source": [
    "### Examples:"
   ]
  },
  {
   "cell_type": "markdown",
   "id": "0e705a05",
   "metadata": {},
   "source": [
    " "
   ]
  },
  {
   "cell_type": "code",
   "execution_count": 1,
   "id": "debc38af",
   "metadata": {},
   "outputs": [],
   "source": [
    "# Import what we need\n",
    "\n",
    "import re"
   ]
  },
  {
   "cell_type": "code",
   "execution_count": 18,
   "id": "0a0a8291",
   "metadata": {},
   "outputs": [],
   "source": [
    "# Define example text data\n",
    "\n",
    "\n",
    "text_data = \"Sensors XGB-100 and XGY-107 recorded value above the threshold.\""
   ]
  },
  {
   "cell_type": "code",
   "execution_count": 19,
   "id": "b923982f",
   "metadata": {},
   "outputs": [
    {
     "data": {
      "text/plain": [
       "['e',\n",
       " 'n',\n",
       " 'o',\n",
       " 'a',\n",
       " 'n',\n",
       " 'd',\n",
       " 'e',\n",
       " 'c',\n",
       " 'o',\n",
       " 'd',\n",
       " 'e',\n",
       " 'd',\n",
       " 'a',\n",
       " 'l',\n",
       " 'e',\n",
       " 'a',\n",
       " 'b',\n",
       " 'o',\n",
       " 'e',\n",
       " 'h',\n",
       " 'e',\n",
       " 'h',\n",
       " 'e',\n",
       " 'h',\n",
       " 'o',\n",
       " 'l',\n",
       " 'd']"
      ]
     },
     "execution_count": 19,
     "metadata": {},
     "output_type": "execute_result"
    }
   ],
   "source": [
    "# Example 1\n",
    "\n",
    "\n",
    "result = re.findall(\"[a-o]\", text_data)\n",
    "\n",
    "result"
   ]
  },
  {
   "cell_type": "code",
   "execution_count": 20,
   "id": "70b3c2c4",
   "metadata": {},
   "outputs": [
    {
     "data": {
      "text/plain": [
       "'Sensors XGB---- and XGY---- recorded value above the threshold.'"
      ]
     },
     "execution_count": 20,
     "metadata": {},
     "output_type": "execute_result"
    }
   ],
   "source": [
    "# Example 2\n",
    "\n",
    "\n",
    "result = re.sub(\"\\d\", \"-\",text_data)\n",
    "\n",
    "result"
   ]
  },
  {
   "cell_type": "code",
   "execution_count": 21,
   "id": "4cd4f569",
   "metadata": {},
   "outputs": [
    {
     "data": {
      "text/plain": [
       "['se']"
      ]
     },
     "execution_count": 21,
     "metadata": {},
     "output_type": "execute_result"
    }
   ],
   "source": [
    "# Example 3\n",
    "\n",
    "\n",
    "result = re.findall(\"^se\", text_data.lower())\n",
    "\n",
    "result"
   ]
  },
  {
   "cell_type": "code",
   "execution_count": 25,
   "id": "f1975fab",
   "metadata": {},
   "outputs": [
    {
     "data": {
      "text/plain": [
       "['XGB-100', 'XGY-107']"
      ]
     },
     "execution_count": 25,
     "metadata": {},
     "output_type": "execute_result"
    }
   ],
   "source": [
    "# Example 4\n",
    "\n",
    "\n",
    "result = re.findall(\"XG.{5}\", text_data)\n",
    "\n",
    "result"
   ]
  },
  {
   "cell_type": "code",
   "execution_count": 26,
   "id": "3656b6cb",
   "metadata": {},
   "outputs": [
    {
     "data": {
      "text/plain": [
       "'Sensors ASY-100 and ASY-107 recorded value above the threshold.'"
      ]
     },
     "execution_count": 26,
     "metadata": {},
     "output_type": "execute_result"
    }
   ],
   "source": [
    "# Example 5\n",
    "\n",
    "\n",
    "result = re.sub(\"XGB|XGY\", \"ASY\", text_data)\n",
    "\n",
    "\n",
    "\n",
    "result"
   ]
  },
  {
   "cell_type": "markdown",
   "id": "a886e734",
   "metadata": {},
   "source": [
    " "
   ]
  },
  {
   "cell_type": "markdown",
   "id": "a2ade9be",
   "metadata": {},
   "source": [
    "## Special sequences"
   ]
  },
  {
   "cell_type": "markdown",
   "id": "dcaf1531",
   "metadata": {},
   "source": [
    " "
   ]
  },
  {
   "cell_type": "markdown",
   "id": "bd657825",
   "metadata": {},
   "source": [
    "* formed by combining a backslash ( \\ ) character with a character that holds special meaning"
   ]
  },
  {
   "cell_type": "markdown",
   "id": "2f43c4d4",
   "metadata": {},
   "source": [
    "* depending on which character we attach to the backslash, we will get different results"
   ]
  },
  {
   "cell_type": "markdown",
   "id": "a58e962c",
   "metadata": {},
   "source": [
    "* the most commonly used combinations are:\n",
    "    <br>\n",
    "    \n",
    "    * **`\\A`** - returns a match if some character(or characters) are at the beginning of string\n",
    "    * **`\\b`** - returns a match if some characters are at the beginning or end of word\n",
    "    * **`\\B`** - returns a match if some characters are NOT at beginning or end of word\n",
    "    * **`\\d`** - returns a match if string contains digits \n",
    "    * **`\\D`** - returns a match if string does NOT contain digits\n",
    "    * **`\\s`** - returns a match if string contains a white space\n",
    "    * **`\\S`** - returns a match if string does NOT contain a white space\n",
    "    * **`\\w`** - returns a match if string contains any word characters (a to Z, digits 0-9, and underscore _)\n",
    "    * **`\\W`** - returns a match if string does NOT contain any word characters\n",
    "    * **`\\Z`** - returns a match if specified characters are at the end of the string "
   ]
  },
  {
   "cell_type": "markdown",
   "id": "5b2ab4f0",
   "metadata": {},
   "source": [
    " "
   ]
  },
  {
   "cell_type": "markdown",
   "id": "c946b1fa",
   "metadata": {},
   "source": [
    "### Examples:"
   ]
  },
  {
   "cell_type": "markdown",
   "id": "a12cf49b",
   "metadata": {},
   "source": [
    " "
   ]
  },
  {
   "cell_type": "code",
   "execution_count": 34,
   "id": "7c8dc5a8",
   "metadata": {},
   "outputs": [],
   "source": [
    "\n",
    "example_text = \"Sensors XGB-100 and XGY-107 recorded value above the threshold #?!%$.\""
   ]
  },
  {
   "cell_type": "code",
   "execution_count": 35,
   "id": "a44e1fba",
   "metadata": {},
   "outputs": [
    {
     "data": {
      "text/plain": [
       "['1', '0', '0', '1', '0', '7']"
      ]
     },
     "execution_count": 35,
     "metadata": {},
     "output_type": "execute_result"
    }
   ],
   "source": [
    "# Example 1\n",
    "\n",
    "result = re.findall(\"\\d\", example_text)\n",
    "\n",
    "result"
   ]
  },
  {
   "cell_type": "code",
   "execution_count": 36,
   "id": "4fa19507",
   "metadata": {},
   "outputs": [
    {
     "data": {
      "text/plain": [
       "[]"
      ]
     },
     "execution_count": 36,
     "metadata": {},
     "output_type": "execute_result"
    }
   ],
   "source": [
    "# Example 2\n",
    "\n",
    "result = re.findall(\"threshold\\Z\", example_text)\n",
    "\n",
    "result"
   ]
  },
  {
   "cell_type": "code",
   "execution_count": 37,
   "id": "6d957331",
   "metadata": {},
   "outputs": [
    {
     "data": {
      "text/plain": [
       "[' ',\n",
       " '-',\n",
       " ' ',\n",
       " ' ',\n",
       " '-',\n",
       " ' ',\n",
       " ' ',\n",
       " ' ',\n",
       " ' ',\n",
       " ' ',\n",
       " ' ',\n",
       " '#',\n",
       " '?',\n",
       " '!',\n",
       " '%',\n",
       " '$',\n",
       " '.']"
      ]
     },
     "execution_count": 37,
     "metadata": {},
     "output_type": "execute_result"
    }
   ],
   "source": [
    "# Example 3\n",
    "\n",
    "result = re.findall(\"\\W\", example_text)\n",
    "\n",
    "result"
   ]
  },
  {
   "cell_type": "markdown",
   "id": "86146fdd",
   "metadata": {},
   "source": [
    "## Sets"
   ]
  },
  {
   "cell_type": "markdown",
   "id": "09ad2efb",
   "metadata": {},
   "source": [
    " "
   ]
  },
  {
   "cell_type": "markdown",
   "id": "00d12025",
   "metadata": {},
   "source": [
    "* formed by placing characters inside a pair of square brackets"
   ]
  },
  {
   "cell_type": "markdown",
   "id": "bf4f878b",
   "metadata": {},
   "source": [
    "* what we place inside the brackets is the most important part"
   ]
  },
  {
   "cell_type": "markdown",
   "id": "d7a1dcec",
   "metadata": {},
   "source": [
    "* the most commonly used sets are:\n",
    "    <br>\n",
    "    \n",
    "    * **`[bwcd]`** - returns match if one of a group of the characters inside the square brackets is present\n",
    "    * **`[a-e]`** - returns match for any character, alphabetically between the first and second letter inside the square brackets\n",
    "    * **`[^asd]`** - returns match for any character except the ones in the square brackets\n",
    "    * **`[0123]`** - returns match if any of the digits  inside the square brackets are present\n",
    "    * **`[0-9]`** - returns match for any digit between the first mentioned digit and second mentioned digit inside the square brackets\n",
    "    * **`[0-7][0-1]`** - returns a match for any two-digit numbers from the first combination to the second (e.g. 00 and 71,\n",
    "    * **`[a-zA-Z]`** - returns a match for any character between a and z, lower case or upper case,\n",
    "    * **`[+]`** - no special meaning in a set, treated as a + character (returns a match for any + in a string, and this also applies to similar characters such as *, ., |, (), $ and {} )"
   ]
  },
  {
   "cell_type": "markdown",
   "id": "75a35080",
   "metadata": {},
   "source": [
    " "
   ]
  },
  {
   "cell_type": "markdown",
   "id": "7f298a7b",
   "metadata": {},
   "source": [
    "### Examples:"
   ]
  },
  {
   "cell_type": "markdown",
   "id": "b084d8a3",
   "metadata": {},
   "source": [
    " "
   ]
  },
  {
   "cell_type": "code",
   "execution_count": 38,
   "id": "8b6af4e3",
   "metadata": {},
   "outputs": [
    {
     "data": {
      "text/plain": [
       "['T', 'h', ' ', 'o', 'n', 'p', 't', 's', ' ', 'o', 'f']"
      ]
     },
     "execution_count": 38,
     "metadata": {},
     "output_type": "execute_result"
    }
   ],
   "source": [
    "# Example 1\n",
    "\n",
    "example_text = \"The concepts of digits(0123456789) is actually relatively easy for little kids to grasp.\"\n",
    "\n",
    "result = re.findall(\"[^cde.]\", example_text[0:15])\n",
    "\n",
    "result"
   ]
  },
  {
   "cell_type": "code",
   "execution_count": 39,
   "id": "92718f32",
   "metadata": {},
   "outputs": [
    {
     "data": {
      "text/plain": [
       "['e',\n",
       " 'c',\n",
       " 'c',\n",
       " 'e',\n",
       " 'f',\n",
       " 'd',\n",
       " 'g',\n",
       " 'a',\n",
       " 'c',\n",
       " 'a',\n",
       " 'e',\n",
       " 'a',\n",
       " 'e',\n",
       " 'e',\n",
       " 'a',\n",
       " 'f',\n",
       " 'e',\n",
       " 'd',\n",
       " 'g',\n",
       " 'a']"
      ]
     },
     "execution_count": 39,
     "metadata": {},
     "output_type": "execute_result"
    }
   ],
   "source": [
    "# Example 2\n",
    "\n",
    "example_text = \"The concepts of digits(0123456789) is actually relatively easy for little kids to grasp.\"\n",
    "\n",
    "result = re.findall(\"[a-g]\", example_text)\n",
    "\n",
    "result"
   ]
  },
  {
   "cell_type": "code",
   "execution_count": 57,
   "id": "b111667d",
   "metadata": {},
   "outputs": [
    {
     "data": {
      "text/plain": [
       "[' ',\n",
       " ' ',\n",
       " ' ',\n",
       " '(',\n",
       " '0',\n",
       " '1',\n",
       " '2',\n",
       " '3',\n",
       " '4',\n",
       " '5',\n",
       " '6',\n",
       " '7',\n",
       " '8',\n",
       " '9',\n",
       " ')',\n",
       " ' ',\n",
       " ' ',\n",
       " ' ',\n",
       " ' ',\n",
       " ' ',\n",
       " ' ',\n",
       " ' ',\n",
       " ' ',\n",
       " ' ',\n",
       " '.']"
      ]
     },
     "execution_count": 57,
     "metadata": {},
     "output_type": "execute_result"
    }
   ],
   "source": [
    "# Example 3\n",
    "\n",
    "example_text = \"The concepts of digits(0123456789) is actually relatively easy for little kids to grasp.\"\n",
    "\n",
    "result = re.findall(\"[^a-zA-Z]\", example_text)\n",
    "\n",
    "result"
   ]
  },
  {
   "cell_type": "code",
   "execution_count": 40,
   "id": "4e15c5e3",
   "metadata": {},
   "outputs": [
    {
     "data": {
      "text/plain": [
       "['23', '17', '10', '32']"
      ]
     },
     "execution_count": 40,
     "metadata": {},
     "output_type": "execute_result"
    }
   ],
   "source": [
    "# Example 4\n",
    "\n",
    "example_text = \"The winning lottery combination is: 23, 17, 1, 5, 10, 32.\"\n",
    "\n",
    "result = re.findall(\"[0-3][0-9]\", example_text)\n",
    "\n",
    "result"
   ]
  },
  {
   "cell_type": "markdown",
   "id": "61cacd19",
   "metadata": {},
   "source": [
    " "
   ]
  },
  {
   "cell_type": "markdown",
   "id": "43960373",
   "metadata": {},
   "source": [
    " "
   ]
  },
  {
   "cell_type": "markdown",
   "id": "983dd7a1",
   "metadata": {},
   "source": [
    "#  `RegEx` in practice"
   ]
  },
  {
   "cell_type": "markdown",
   "id": "f1cda31f",
   "metadata": {},
   "source": [
    " "
   ]
  },
  {
   "cell_type": "markdown",
   "id": "da6864c4",
   "metadata": {},
   "source": [
    "* given a string, extract and print all words that contain **`ea`** in the sentence\n",
    "\n",
    "        \"eat say ease sparrow please\""
   ]
  },
  {
   "cell_type": "markdown",
   "id": "b17e336c",
   "metadata": {},
   "source": [
    "* we will use the following pattern : \n",
    "\n",
    "     **`([^\\s]*ea[^\\s]*)`**"
   ]
  },
  {
   "cell_type": "markdown",
   "id": "6c562523",
   "metadata": {},
   "source": [
    "## The pattern explained:"
   ]
  },
  {
   "cell_type": "markdown",
   "id": "17872400",
   "metadata": {},
   "source": [
    " "
   ]
  },
  {
   "cell_type": "markdown",
   "id": "4dd86cb0",
   "metadata": {},
   "source": [
    "- `(`...`)` - this represents a group of characters that match the pattern\n",
    "  - use this when you want to keep track of multiple patterns / occurrences\n",
    "  - `(` represents the beginning of the group\n",
    "  - `)` represents the end of the group"
   ]
  },
  {
   "cell_type": "markdown",
   "id": "6ba143e1",
   "metadata": {},
   "source": [
    "- `[^\\s]` - this will match *any* character other than `\\s` (space)\n",
    "  - `[`, `]` are used to describe lists of characters\n",
    "  - `^` signals an exclusion (except)\n",
    "  - `\\s` is the character for space"
   ]
  },
  {
   "cell_type": "markdown",
   "id": "c84854fb",
   "metadata": {},
   "source": [
    "- `ea` - we want each character group to contain these letter group"
   ]
  },
  {
   "cell_type": "markdown",
   "id": "a5d89410",
   "metadata": {},
   "source": [
    "* `*` indicates that the character or group of characters immediately to the left should be matched 0 or more times"
   ]
  },
  {
   "cell_type": "markdown",
   "id": "57a3927b",
   "metadata": {},
   "source": [
    "* **matching is greedy! regular expressions will match as much as they can**"
   ]
  },
  {
   "cell_type": "markdown",
   "id": "28e8b549",
   "metadata": {},
   "source": [
    "## Demonstration"
   ]
  },
  {
   "cell_type": "code",
   "execution_count": 41,
   "id": "496702c7",
   "metadata": {},
   "outputs": [],
   "source": [
    "# Import what we need \n",
    "\n",
    "import re"
   ]
  },
  {
   "cell_type": "code",
   "execution_count": 42,
   "id": "7ee9e132",
   "metadata": {},
   "outputs": [],
   "source": [
    "# Define example text data\n",
    "\n",
    "text_data = \"eat say ease sparrow please\""
   ]
  },
  {
   "cell_type": "code",
   "execution_count": 43,
   "id": "fd0b85ef",
   "metadata": {},
   "outputs": [],
   "source": [
    "# Get words that contain \"ea\"\n",
    "\n",
    "words = re.findall(r\"[^\\s]*ea[^\\s]*\", text_data)"
   ]
  },
  {
   "cell_type": "code",
   "execution_count": 44,
   "id": "030f5080",
   "metadata": {},
   "outputs": [
    {
     "data": {
      "text/plain": [
       "['eat', 'ease', 'please']"
      ]
     },
     "execution_count": 44,
     "metadata": {},
     "output_type": "execute_result"
    }
   ],
   "source": [
    "# Display result\n",
    "\n",
    "words"
   ]
  },
  {
   "cell_type": "markdown",
   "id": "b4da93ea",
   "metadata": {},
   "source": [
    " "
   ]
  },
  {
   "cell_type": "markdown",
   "id": "6ad260b4",
   "metadata": {},
   "source": [
    " "
   ]
  },
  {
   "cell_type": "markdown",
   "id": "1ba41b63",
   "metadata": {},
   "source": [
    "# More examples"
   ]
  },
  {
   "cell_type": "markdown",
   "id": "444496cd",
   "metadata": {},
   "source": [
    " "
   ]
  },
  {
   "cell_type": "markdown",
   "id": "bbf61807",
   "metadata": {},
   "source": [
    "### Extracting numbers"
   ]
  },
  {
   "cell_type": "markdown",
   "id": "9f33f3a2",
   "metadata": {},
   "source": [
    " "
   ]
  },
  {
   "cell_type": "markdown",
   "id": "965d58ea",
   "metadata": {},
   "source": [
    "* in practice you want to avoid typing in a **`RegEx`** pattern multiple times"
   ]
  },
  {
   "cell_type": "markdown",
   "id": "dcb779dc",
   "metadata": {},
   "source": [
    "* to make sure you don't repeat your code, you can use the **`compile()`** method from **`re`**"
   ]
  },
  {
   "cell_type": "markdown",
   "id": "f758fa3f",
   "metadata": {},
   "source": [
    "* **`compile()`** allows us to create a pattern we can then utilize to search for a match inside different strings"
   ]
  },
  {
   "cell_type": "markdown",
   "id": "fb7edef2",
   "metadata": {},
   "source": [
    " "
   ]
  },
  {
   "cell_type": "code",
   "execution_count": 63,
   "id": "8ba23290",
   "metadata": {},
   "outputs": [],
   "source": [
    "# Import what we need\n",
    "\n",
    "import re"
   ]
  },
  {
   "cell_type": "code",
   "execution_count": 45,
   "id": "383050b7",
   "metadata": {},
   "outputs": [],
   "source": [
    "# Define example text data\n",
    "\n",
    "text_data = [\"My phone number is 5551234567\", \"You can call me at 5557214455\", \"Contact number: 5557615454\"]"
   ]
  },
  {
   "cell_type": "code",
   "execution_count": 46,
   "id": "bc3fb498",
   "metadata": {},
   "outputs": [],
   "source": [
    "# Recompile RegEx\n",
    "# By defining a search pattern\n",
    "\n",
    "regex = re.compile(r'[0123456789\\-]+')"
   ]
  },
  {
   "cell_type": "code",
   "execution_count": 47,
   "id": "c5b78d3c",
   "metadata": {},
   "outputs": [],
   "source": [
    "# Extract phone numbers\n",
    "\n",
    "numbers = regex.findall(\"\".join(text_data))"
   ]
  },
  {
   "cell_type": "code",
   "execution_count": 48,
   "id": "f3028b1d",
   "metadata": {},
   "outputs": [
    {
     "data": {
      "text/plain": [
       "['5551234567', '5557214455', '5557615454']"
      ]
     },
     "execution_count": 48,
     "metadata": {},
     "output_type": "execute_result"
    }
   ],
   "source": [
    "# Display result \n",
    "\n",
    "numbers"
   ]
  },
  {
   "cell_type": "markdown",
   "id": "9fccf214",
   "metadata": {},
   "source": [
    " "
   ]
  },
  {
   "cell_type": "markdown",
   "id": "4b11debd",
   "metadata": {},
   "source": [
    "* if you want to, you can also get the result in the form of an iterator using the **`finditer()`** function"
   ]
  },
  {
   "cell_type": "code",
   "execution_count": 49,
   "id": "8613de3c",
   "metadata": {},
   "outputs": [],
   "source": [
    "# Create an iterator\n",
    "\n",
    "numbers = regex.finditer(\"\".join(text_data))"
   ]
  },
  {
   "cell_type": "code",
   "execution_count": 50,
   "id": "fd8eb48c",
   "metadata": {},
   "outputs": [
    {
     "data": {
      "text/plain": [
       "<callable_iterator at 0x7fb508711d60>"
      ]
     },
     "execution_count": 50,
     "metadata": {},
     "output_type": "execute_result"
    }
   ],
   "source": [
    "numbers"
   ]
  },
  {
   "cell_type": "code",
   "execution_count": 51,
   "id": "6131f87c",
   "metadata": {},
   "outputs": [
    {
     "name": "stdout",
     "output_type": "stream",
     "text": [
      "5551234567\n",
      "5557214455\n",
      "5557615454\n"
     ]
    }
   ],
   "source": [
    "# Display numbers\n",
    "\n",
    "for num in numbers:\n",
    "    print(num.group())"
   ]
  },
  {
   "cell_type": "markdown",
   "id": "712c2e2d",
   "metadata": {},
   "source": [
    " "
   ]
  },
  {
   "cell_type": "markdown",
   "id": "c028f72e",
   "metadata": {},
   "source": [
    "### Cleaning data"
   ]
  },
  {
   "cell_type": "markdown",
   "id": "2357b1dc",
   "metadata": {},
   "source": [
    " "
   ]
  },
  {
   "cell_type": "markdown",
   "id": "0a6f97b2",
   "metadata": {},
   "source": [
    "* you will occasionally run into text data that has not been cleaned and contains weird characters / sequence of characters"
   ]
  },
  {
   "cell_type": "markdown",
   "id": "1f1cb9cf",
   "metadata": {},
   "source": [
    "* in those cases, the **`sub()`** function can be very useful to clean the data \n",
    "    <br>\n",
    "    \n",
    "    * after we clean the data we can push it further down a data pipeline, we can feed it to an ML model, etc."
   ]
  },
  {
   "cell_type": "markdown",
   "id": "96466036",
   "metadata": {},
   "source": [
    " "
   ]
  },
  {
   "cell_type": "code",
   "execution_count": 52,
   "id": "9b9b8c54",
   "metadata": {},
   "outputs": [],
   "source": [
    "# Import what we need\n",
    "\n",
    "import re"
   ]
  },
  {
   "cell_type": "code",
   "execution_count": 53,
   "id": "0105d68d",
   "metadata": {},
   "outputs": [],
   "source": [
    "# Define example corrupted text data\n",
    "\n",
    "corrupted_data = \"In this s3nt#nc!, the l5tt9r 3 was r0plac8d with random digits and sp$cial charact%rs.\""
   ]
  },
  {
   "cell_type": "code",
   "execution_count": 54,
   "id": "5d54edab",
   "metadata": {},
   "outputs": [],
   "source": [
    "# Clean data\n",
    "\n",
    "clean_data = re.sub(r\"[35908#!$%]\", \"e\", corrupted_data)"
   ]
  },
  {
   "cell_type": "code",
   "execution_count": 55,
   "id": "434884c7",
   "metadata": {},
   "outputs": [
    {
     "data": {
      "text/plain": [
       "'In this sentence, the letter e was replaced with random digits and special characters.'"
      ]
     },
     "execution_count": 55,
     "metadata": {},
     "output_type": "execute_result"
    }
   ],
   "source": [
    "# Display result\n",
    "\n",
    "clean_data"
   ]
  },
  {
   "cell_type": "markdown",
   "id": "8f45a3e8",
   "metadata": {},
   "source": [
    " "
   ]
  },
  {
   "cell_type": "markdown",
   "id": "8cee7087",
   "metadata": {},
   "source": [
    "### Find very specific patterns in data"
   ]
  },
  {
   "cell_type": "markdown",
   "id": "3d585152",
   "metadata": {},
   "source": [
    " "
   ]
  },
  {
   "cell_type": "markdown",
   "id": "58d94323",
   "metadata": {},
   "source": [
    "* when working with large amounts of text data sometimes you need to find when a particular pattern appears in that data for the first time"
   ]
  },
  {
   "cell_type": "markdown",
   "id": "5fdcf92f",
   "metadata": {},
   "source": [
    "* for example you might want to extract a particular IP adress"
   ]
  },
  {
   "cell_type": "markdown",
   "id": "a64e848f",
   "metadata": {},
   "source": [
    " "
   ]
  },
  {
   "cell_type": "code",
   "execution_count": 56,
   "id": "7a0a04e7",
   "metadata": {},
   "outputs": [],
   "source": [
    "# Import what we need\n",
    "\n",
    "import re"
   ]
  },
  {
   "cell_type": "code",
   "execution_count": 57,
   "id": "46b9b111",
   "metadata": {},
   "outputs": [],
   "source": [
    "# Define example text data\n",
    "\n",
    "log = \"127.0.0.1 AZW-183448-BWXU INFO -- : hi there\""
   ]
  },
  {
   "cell_type": "code",
   "execution_count": 58,
   "id": "7c0679f7",
   "metadata": {},
   "outputs": [],
   "source": [
    "# Define search pattern\n",
    "\n",
    "regex = re.compile(r\"\\d{1,3}\\.\\d{1,3}\\.\\d{1,3}\\.\\d{1,3}\")"
   ]
  },
  {
   "cell_type": "code",
   "execution_count": 59,
   "id": "7e6457d5",
   "metadata": {},
   "outputs": [],
   "source": [
    "# Extract IP adress\n",
    "\n",
    "\n",
    "ip_adress = regex.search(log).group()"
   ]
  },
  {
   "cell_type": "code",
   "execution_count": 60,
   "id": "ea6c3c28",
   "metadata": {},
   "outputs": [
    {
     "data": {
      "text/plain": [
       "'127.0.0.1'"
      ]
     },
     "execution_count": 60,
     "metadata": {},
     "output_type": "execute_result"
    }
   ],
   "source": [
    "# Display IP adress\n",
    "\n",
    "ip_adress"
   ]
  },
  {
   "cell_type": "markdown",
   "id": "027523c7",
   "metadata": {},
   "source": [
    " "
   ]
  },
  {
   "cell_type": "markdown",
   "id": "465689be",
   "metadata": {},
   "source": [
    " "
   ]
  }
 ],
 "metadata": {
  "kernelspec": {
   "display_name": "Python 3 (ipykernel)",
   "language": "python",
   "name": "python3"
  },
  "language_info": {
   "codemirror_mode": {
    "name": "ipython",
    "version": 3
   },
   "file_extension": ".py",
   "mimetype": "text/x-python",
   "name": "python",
   "nbconvert_exporter": "python",
   "pygments_lexer": "ipython3",
   "version": "3.9.7"
  },
  "vscode": {
   "interpreter": {
    "hash": "91205f5a27dbb94ccdccb361fa74a9acd4b59b5f9daac49b3f3b28b79fbdb451"
   }
  }
 },
 "nbformat": 4,
 "nbformat_minor": 5
}
