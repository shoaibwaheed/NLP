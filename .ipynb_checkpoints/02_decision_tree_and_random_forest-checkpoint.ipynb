{
 "cells": [
  {
   "cell_type": "markdown",
   "metadata": {
    "slideshow": {
     "slide_type": "slide"
    }
   },
   "source": [
    " <div>\n",
    "<img src=\"https://edlitera-images.s3.amazonaws.com/new_edlitera_logo.png\" width=\"500\"/>\n",
    "</div>"
   ]
  },
  {
   "cell_type": "markdown",
   "metadata": {
    "slideshow": {
     "slide_type": "slide"
    }
   },
   "source": [
    "# `Decision Trees`"
   ]
  },
  {
   "cell_type": "markdown",
   "metadata": {
    "slideshow": {
     "slide_type": "fragment"
    }
   },
   "source": [
    "* tree-like graph data structures"
   ]
  },
  {
   "cell_type": "markdown",
   "metadata": {
    "slideshow": {
     "slide_type": "fragment"
    }
   },
   "source": [
    "* think of them as a decision flowcharts \n",
    "  \n",
    "    * each internal node represents a test on a given **feature**\n",
    "\n",
    "        * each branch represents an **outcome** of the test\n",
    "\n",
    "            * each **leaf** represents a predicted class"
   ]
  },
  {
   "cell_type": "markdown",
   "metadata": {
    "slideshow": {
     "slide_type": "slide"
    }
   },
   "source": [
    "### Example"
   ]
  },
  {
   "cell_type": "markdown",
   "metadata": {
    "slideshow": {
     "slide_type": "fragment"
    }
   },
   "source": [
    "<center><img src=\"https://edlitera-images.s3.us-east-1.amazonaws.com/decision_tree_1.png\" width=\"900px\" />"
   ]
  },
  {
   "cell_type": "markdown",
   "metadata": {
    "slideshow": {
     "slide_type": "slide"
    }
   },
   "source": [
    "### In this example:"
   ]
  },
  {
   "cell_type": "markdown",
   "metadata": {
    "slideshow": {
     "slide_type": "fragment"
    }
   },
   "source": [
    "* white rectangles are **internal nodes**"
   ]
  },
  {
   "cell_type": "markdown",
   "metadata": {
    "slideshow": {
     "slide_type": "fragment"
    }
   },
   "source": [
    "* gray rectangles are **leafs**"
   ]
  },
  {
   "cell_type": "markdown",
   "metadata": {
    "slideshow": {
     "slide_type": "fragment"
    }
   },
   "source": [
    "* the blue and red arrows are **branches**"
   ]
  },
  {
   "cell_type": "markdown",
   "metadata": {
    "slideshow": {
     "slide_type": "fragment"
    }
   },
   "source": [
    "* this tree has a **depth** of 5"
   ]
  },
  {
   "cell_type": "markdown",
   "metadata": {
    "slideshow": {
     "slide_type": "slide"
    }
   },
   "source": [
    "## Advantages "
   ]
  },
  {
   "cell_type": "markdown",
   "metadata": {
    "slideshow": {
     "slide_type": "fragment"
    }
   },
   "source": [
    "* fairly easy to use and understand"
   ]
  },
  {
   "cell_type": "markdown",
   "metadata": {
    "slideshow": {
     "slide_type": "fragment"
    }
   },
   "source": [
    "* can handle **linear and non-linear** relationships\n",
    "\n",
    "* can be used for **both classification and regression** problems\n",
    "\n",
    "* can handle **categorical and numerical** data "
   ]
  },
  {
   "cell_type": "markdown",
   "metadata": {
    "slideshow": {
     "slide_type": "slide"
    }
   },
   "source": [
    "* they are explainable - **`white box models`**\n",
    "    * models such as neural networks where it is very hard to explain how the model ended up with a particular decision are called **`black box models`**"
   ]
  },
  {
   "cell_type": "markdown",
   "metadata": {
    "slideshow": {
     "slide_type": "fragment"
    }
   },
   "source": [
    "* require less data pre-processing\n",
    "    * scaling the data does not make a difference (so it's not required)\n",
    "    * we still need to deal with missing data and perform other preprocessing steps"
   ]
  },
  {
   "cell_type": "markdown",
   "metadata": {
    "slideshow": {
     "slide_type": "fragment"
    }
   },
   "source": [
    "* once trained, prediction is very fast\n",
    "    * **prediction time does not depend on the number of features**\n",
    "    \n",
    "    \n",
    "* they scale well (it's also pretty easy to add new features and re-train)"
   ]
  },
  {
   "cell_type": "markdown",
   "metadata": {
    "slideshow": {
     "slide_type": "fragment"
    }
   },
   "source": [
    "* form the basis of the best in class ML algorithms when it comes to structured / tabular data\n",
    "    * **`Random Forest`** and **`XGBoost`**\n",
    "    * they can actually outperform deep learning in accuracy (https://www.sciencedirect.com/science/article/abs/pii/S0957417417302397)"
   ]
  },
  {
   "cell_type": "markdown",
   "metadata": {
    "slideshow": {
     "slide_type": "slide"
    }
   },
   "source": [
    "## Disadvantages"
   ]
  },
  {
   "cell_type": "markdown",
   "metadata": {
    "slideshow": {
     "slide_type": "fragment"
    }
   },
   "source": [
    "* can easily overfit the data (can be dealt with by tuning hyperparameters)"
   ]
  },
  {
   "cell_type": "markdown",
   "metadata": {
    "slideshow": {
     "slide_type": "fragment"
    }
   },
   "source": [
    "* they can be unstable (small changes in the data can generate completely different trees)"
   ]
  },
  {
   "cell_type": "markdown",
   "metadata": {
    "slideshow": {
     "slide_type": "fragment"
    }
   },
   "source": [
    "* can be biased if some classes are over-represented in the training data\n",
    "    * this becomes a problem when training on unbalanced data\n",
    "        * solution: downsample / upsample, generate synthetic data through interpolation, etc. "
   ]
  },
  {
   "cell_type": "markdown",
   "metadata": {
    "slideshow": {
     "slide_type": "slide"
    }
   },
   "source": [
    "## How does the `Decision Tree` algorithm build a tree?"
   ]
  },
  {
   "cell_type": "markdown",
   "metadata": {
    "slideshow": {
     "slide_type": "fragment"
    }
   },
   "source": [
    "* tries out all possible splits"
   ]
  },
  {
   "cell_type": "markdown",
   "metadata": {
    "slideshow": {
     "slide_type": "fragment"
    }
   },
   "source": [
    "* for each possible split, measure how well the split divides the data instances into separate classes (as measured by the **`Gini impurity`** or by **`entropy`**)\n",
    "    * pick the split with the lowest **`Gini impurity`** or **`entropy`** \n",
    "        * such a split will mostly contain data instances of **the same class**"
   ]
  },
  {
   "cell_type": "markdown",
   "metadata": {
    "slideshow": {
     "slide_type": "fragment"
    }
   },
   "source": [
    "**The process repeats until:**\n",
    "    <br>\n",
    "    \n",
    "   * you reach a specified maximum tree depth\n",
    "    <br>\n",
    "    \n",
    "   * you cannot find a split that reduces the impurity\n",
    "    <br>\n",
    "    \n",
    "   * you reach a specified minimum number of data instances in the leaves"
   ]
  },
  {
   "cell_type": "markdown",
   "metadata": {
    "slideshow": {
     "slide_type": "slide"
    }
   },
   "source": [
    "**NOTE:**\n",
    "\n",
    "<br>\n",
    "\n",
    "* **we don't have to use all available features when building decision trees (when deciding splits)**\n",
    "\n",
    "\n",
    "* sometimes we get better results if we use only some of the available features (we do not need to decide this by ourselves, the algorithm itself will make that decision)"
   ]
  },
  {
   "cell_type": "markdown",
   "metadata": {
    "slideshow": {
     "slide_type": "slide"
    }
   },
   "source": [
    "## How do you use a trained `decision tree`?"
   ]
  },
  {
   "cell_type": "markdown",
   "metadata": {
    "slideshow": {
     "slide_type": "fragment"
    }
   },
   "source": [
    "**For a new data instance:**\n",
    "\n",
    "   * simply traverse the tree based on the values of the features in the new data instance\n",
    "   * until you arrive at a **leaf node**\n",
    "   * predict the most commonly occurring class at that **leaf node**"
   ]
  },
  {
   "cell_type": "markdown",
   "metadata": {
    "slideshow": {
     "slide_type": "slide"
    }
   },
   "source": [
    "### Example"
   ]
  },
  {
   "cell_type": "markdown",
   "metadata": {
    "slideshow": {
     "slide_type": "fragment"
    }
   },
   "source": [
    "#### This is a dataset we are working with:\n",
    "\n",
    "<table id=\"sheet0\" class=\"sheet0 gridlines\" cellspacing=\"0\" cellpadding=\"0\" border=\"0\">\n",
    "    <colgroup><col class=\"col0\">\n",
    "    <col class=\"col1\">\n",
    "    <col class=\"col2\">\n",
    "    <col class=\"col3\">\n",
    "    <col class=\"col4\">\n",
    "    <col class=\"col5\">\n",
    "    </colgroup><tbody>\n",
    "      <tr class=\"row1\">\n",
    "          <td class=\"column0 style0 s\"><b>Day</b></td>\n",
    "          <td class=\"column1 style0 s\"><b>Outlook</b></td>\n",
    "          <td class=\"column2 style0 s\"><b>Temperature</b></td>\n",
    "          <td class=\"column3 style0 s\"><b>Humidity</b></td>\n",
    "          <td class=\"column4 style0 s\"><b>Wind</b></td>\n",
    "          <td class=\"column5 style0 s\"><b>Play</b></td>\n",
    "      </tr>\n",
    "      <tr class=\"row2\">\n",
    "        <td class=\"column0 style0 s\">D1</td>\n",
    "        <td class=\"column1 style0 s\">Sunny</td>\n",
    "        <td class=\"column2 style0 s\">Hot</td>\n",
    "        <td class=\"column3 style0 s\">High</td>\n",
    "        <td class=\"column4 style0 s\">Weak</td>\n",
    "        <td class=\"column5 style0 s\">No</td>\n",
    "      </tr>\n",
    "      <tr class=\"row3\">\n",
    "        <td class=\"column0 style0 s\">D2</td>\n",
    "        <td class=\"column1 style0 s\">Sunny</td>\n",
    "        <td class=\"column2 style0 s\">Hot</td>\n",
    "        <td class=\"column3 style0 s\">High</td>\n",
    "        <td class=\"column4 style0 s\">Strong</td>\n",
    "        <td class=\"column5 style0 s\">No</td>\n",
    "      </tr>\n",
    "      <tr class=\"row4\">\n",
    "        <td class=\"column0 style0 s\">D3</td>\n",
    "        <td class=\"column1 style0 s\">Overcast</td>\n",
    "        <td class=\"column2 style0 s\">Hot</td>\n",
    "        <td class=\"column3 style0 s\">High</td>\n",
    "        <td class=\"column4 style0 s\">Weak</td>\n",
    "        <td class=\"column5 style0 s\">Yes</td>\n",
    "      </tr>\n",
    "      <tr class=\"row5\">\n",
    "        <td class=\"column0 style0 s\">D4</td>\n",
    "        <td class=\"column1 style0 s\">Rain</td>\n",
    "        <td class=\"column2 style0 s\">Mild</td>\n",
    "        <td class=\"column3 style0 s\">High</td>\n",
    "        <td class=\"column4 style0 s\">Weak</td>\n",
    "        <td class=\"column5 style0 s\">Yes</td>\n",
    "      </tr>\n",
    "      <tr class=\"row6\">\n",
    "        <td class=\"column0 style0 s\">D5</td>\n",
    "        <td class=\"column1 style0 s\">Rain</td>\n",
    "        <td class=\"column2 style0 s\">Cool</td>\n",
    "        <td class=\"column3 style0 s\">Normal</td>\n",
    "        <td class=\"column4 style0 s\">Weak</td>\n",
    "        <td class=\"column5 style0 s\">Yes</td>\n",
    "      </tr>\n",
    "      <tr class=\"row7\">\n",
    "        <td class=\"column0 style0 s\">D6</td>\n",
    "        <td class=\"column1 style0 s\">Rain</td>\n",
    "        <td class=\"column2 style0 s\">Cool</td>\n",
    "        <td class=\"column3 style0 s\">Normal</td>\n",
    "        <td class=\"column4 style0 s\">Strong</td>\n",
    "        <td class=\"column5 style0 s\">No</td>\n",
    "      </tr>\n",
    "      <tr class=\"row8\">\n",
    "        <td class=\"column0 style0 s\">D7</td>\n",
    "        <td class=\"column1 style0 s\">Overcast</td>\n",
    "        <td class=\"column2 style0 s\">Cool</td>\n",
    "        <td class=\"column3 style0 s\">Normal</td>\n",
    "        <td class=\"column4 style0 s\">Strong</td>\n",
    "        <td class=\"column5 style0 s\">Yes</td>\n",
    "      </tr>\n",
    "      <tr class=\"row9\">\n",
    "        <td class=\"column0 style0 s\">D8</td>\n",
    "        <td class=\"column1 style0 s\">Sunny</td>\n",
    "        <td class=\"column2 style0 s\">Mild</td>\n",
    "        <td class=\"column3 style0 s\">High</td>\n",
    "        <td class=\"column4 style0 s\">Weak</td>\n",
    "        <td class=\"column5 style0 s\">No</td>\n",
    "      </tr>\n",
    "      <tr class=\"row10\">\n",
    "        <td class=\"column0 style0 s\">D9</td>\n",
    "        <td class=\"column1 style0 s\">Sunny</td>\n",
    "        <td class=\"column2 style0 s\">Cool</td>\n",
    "        <td class=\"column3 style0 s\">Normal</td>\n",
    "        <td class=\"column4 style0 s\">Weak</td>\n",
    "        <td class=\"column5 style0 s\">Yes</td>\n",
    "      </tr>\n",
    "      <tr class=\"row11\">\n",
    "        <td class=\"column0 style0 s\">D10</td>\n",
    "        <td class=\"column1 style0 s\">Rain</td>\n",
    "        <td class=\"column2 style0 s\">Mild</td>\n",
    "        <td class=\"column3 style0 s\">Normal</td>\n",
    "        <td class=\"column4 style0 s\">Weak</td>\n",
    "        <td class=\"column5 style0 s\">Yes</td>\n",
    "      </tr>\n",
    "      <tr class=\"row12\">\n",
    "        <td class=\"column0 style0 s\">D11</td>\n",
    "        <td class=\"column1 style0 s\">Sunny</td>\n",
    "        <td class=\"column2 style0 s\">Mild</td>\n",
    "        <td class=\"column3 style0 s\">Normal</td>\n",
    "        <td class=\"column4 style0 s\">Strong</td>\n",
    "        <td class=\"column5 style0 s\">Yes</td>\n",
    "      </tr>\n",
    "      <tr class=\"row13\">\n",
    "        <td class=\"column0 style0 s\">D12</td>\n",
    "        <td class=\"column1 style0 s\">Overcast</td>\n",
    "        <td class=\"column2 style0 s\">Mild</td>\n",
    "        <td class=\"column3 style0 s\">High</td>\n",
    "        <td class=\"column4 style0 s\">Strong</td>\n",
    "        <td class=\"column5 style0 s\">Yes</td>\n",
    "      </tr>\n",
    "      <tr class=\"row14\">\n",
    "        <td class=\"column0 style0 s\">D13</td>\n",
    "        <td class=\"column1 style0 s\">Overcast</td>\n",
    "        <td class=\"column2 style0 s\">Hot</td>\n",
    "        <td class=\"column3 style0 s\">Normal</td>\n",
    "        <td class=\"column4 style0 s\">Weak</td>\n",
    "        <td class=\"column5 style0 s\">Yes</td>\n",
    "      </tr>\n",
    "      <tr class=\"row15\">\n",
    "        <td class=\"column0 style0 s\">D14</td>\n",
    "        <td class=\"column1 style0 s\">Rain</td>\n",
    "        <td class=\"column2 style0 s\">Mild</td>\n",
    "        <td class=\"column3 style0 s\">High</td>\n",
    "        <td class=\"column4 style0 s\">Strong</td>\n",
    "        <td class=\"column5 style0 s\">No</td>\n",
    "      </tr>\n",
    "    </tbody>\n",
    "</table>"
   ]
  },
  {
   "cell_type": "markdown",
   "metadata": {
    "slideshow": {
     "slide_type": "slide"
    }
   },
   "source": [
    "**For the example classification tree below, what would we predict if we got the following new data instance:**\n",
    "    <br>\n",
    "    <br>\n",
    "    <br>\n",
    "<table id=\"sheet0\" class=\"sheet0 gridlines\" cellspacing=\"0\" cellpadding=\"0\" border=\"0\">\n",
    "    <colgroup><col class=\"col0\">\n",
    "    <col class=\"col1\">\n",
    "    <col class=\"col2\">\n",
    "    <col class=\"col3\">\n",
    "    <col class=\"col4\">\n",
    "    <col class=\"col5\">\n",
    "    </colgroup><tbody>\n",
    "      <tr class=\"row1\">\n",
    "          <td class=\"column0 style0 s\"><b>Day</b></td>\n",
    "          <td class=\"column1 style0 s\"><b>Outlook</b></td>\n",
    "          <td class=\"column2 style0 s\"><b>Temperature</b></td>\n",
    "          <td class=\"column3 style0 s\"><b>Humidity</b></td>\n",
    "          <td class=\"column4 style0 s\"><b>Wind</b></td>\n",
    "          <td class=\"column5 style0 s\"><b>Play</b></td>\n",
    "      </tr>\n",
    "      <tr class=\"row2\">\n",
    "        <td class=\"column0 style0 s\">D1</td>\n",
    "        <td class=\"column1 style0 s\">Sunny</td>\n",
    "        <td class=\"column2 style0 s\">Mild</td>\n",
    "        <td class=\"column3 style0 s\">High</td>\n",
    "        <td class=\"column4 style0 s\">Strong</td>\n",
    "        <td class=\"column5 style0 s\">???</td>\n",
    "      </tr>\n",
    "    </tbody>\n",
    "</table>"
   ]
  },
  {
   "cell_type": "markdown",
   "metadata": {
    "slideshow": {
     "slide_type": "fragment"
    }
   },
   "source": [
    "<center><img src=\"https://edlitera-images.s3.us-east-1.amazonaws.com/decision_tree_2.png\" width=\"900px\" />"
   ]
  },
  {
   "cell_type": "markdown",
   "metadata": {
    "slideshow": {
     "slide_type": "fragment"
    }
   },
   "source": [
    "**We would predict** ***NO*** **playing.**"
   ]
  },
  {
   "cell_type": "markdown",
   "metadata": {
    "slideshow": {
     "slide_type": "slide"
    }
   },
   "source": [
    "# `Ensemble Methods`"
   ]
  },
  {
   "cell_type": "markdown",
   "metadata": {
    "slideshow": {
     "slide_type": "fragment"
    }
   },
   "source": [
    "* you could train a single classifier to predict whether a documents is a member of class A or B, but you can also train a number of classifiers (each on a subset of the training data)"
   ]
  },
  {
   "cell_type": "markdown",
   "metadata": {
    "slideshow": {
     "slide_type": "fragment"
    }
   },
   "source": [
    "* your final prediction will then be decided based on what the different models predicted"
   ]
  },
  {
   "cell_type": "markdown",
   "metadata": {
    "slideshow": {
     "slide_type": "fragment"
    }
   },
   "source": [
    "* **this approach will almost always be more accurate!**"
   ]
  },
  {
   "cell_type": "markdown",
   "metadata": {
    "slideshow": {
     "slide_type": "slide"
    }
   },
   "source": [
    "### Terminology"
   ]
  },
  {
   "cell_type": "markdown",
   "metadata": {
    "slideshow": {
     "slide_type": "fragment"
    }
   },
   "source": [
    "* a group of predictors (i.e. models) is called an **`ensemble`**"
   ]
  },
  {
   "cell_type": "markdown",
   "metadata": {
    "slideshow": {
     "slide_type": "fragment"
    }
   },
   "source": [
    "* using an **`ensemble`** of ML models is called **`ensemble learning`**"
   ]
  },
  {
   "cell_type": "markdown",
   "metadata": {
    "slideshow": {
     "slide_type": "fragment"
    }
   },
   "source": [
    "* an algorithm that uses an **`ensemble`** of predictors **(e.g. `RandomForest`)** is called an **`ensemble method`**"
   ]
  },
  {
   "cell_type": "markdown",
   "metadata": {
    "slideshow": {
     "slide_type": "slide"
    }
   },
   "source": [
    "## `Ensemble` characteristics"
   ]
  },
  {
   "cell_type": "markdown",
   "metadata": {
    "slideshow": {
     "slide_type": "fragment"
    }
   },
   "source": [
    "* an **`ensemble`** of **`weak learners`** can result in a **`strong learner`**\n",
    "    <br>\n",
    "    \n",
    "    * **`weak learner`** = a model that **barely** outperforms random guessing\n",
    "    <br>\n",
    "    \n",
    "    * **`strong learner`** = a model that **significantly** outperforms random guessing"
   ]
  },
  {
   "cell_type": "markdown",
   "metadata": {
    "slideshow": {
     "slide_type": "slide"
    }
   },
   "source": [
    "## `Ensemble` methods"
   ]
  },
  {
   "cell_type": "markdown",
   "metadata": {
    "slideshow": {
     "slide_type": "fragment"
    }
   },
   "source": [
    "* separated into:\n",
    "    \n",
    "    * **`Voting classifiers`**\n",
    "    * **`Bagging and pasting`**"
   ]
  },
  {
   "cell_type": "markdown",
   "metadata": {
    "slideshow": {
     "slide_type": "slide"
    }
   },
   "source": [
    "### `Voting classifiers`"
   ]
  },
  {
   "cell_type": "markdown",
   "metadata": {
    "slideshow": {
     "slide_type": "fragment"
    }
   },
   "source": [
    "* train multiple classifiers\n",
    "    * use completely different algorithms (e.g. **`SVM`** and **`DecisionTreeClassifier`**)"
   ]
  },
  {
   "cell_type": "markdown",
   "metadata": {
    "slideshow": {
     "slide_type": "fragment"
    }
   },
   "source": [
    "* each classifiers makes a prediction, and afterward those predictions get combined together\n",
    "    * we can use **hard voting** or **soft voting**"
   ]
  },
  {
   "cell_type": "markdown",
   "metadata": {
    "slideshow": {
     "slide_type": "fragment"
    }
   },
   "source": [
    "<center><img src=\"https://edlitera-images.s3.amazonaws.com/hard_voting_and_soft_voting.png\" width=\"1000px\"/>"
   ]
  },
  {
   "cell_type": "markdown",
   "metadata": {
    "slideshow": {
     "slide_type": "slide"
    }
   },
   "source": [
    "**`Bagging and pasting`**\n",
    "\n",
    "\n",
    "* rather than using different machine learning models, use the same model, but each instance of the model is trained on different subsets of the training data\n",
    "\n",
    "\n",
    "\n",
    "* **Bagging** - data sampled with replacement (data instances can be duplicated **within each predictor** when they are randomly selected)\n",
    "\n",
    "\n",
    "* **Pasting** - data sampled without replacement (data instances are **unique within each predictor** when they are randomly selected)"
   ]
  },
  {
   "cell_type": "markdown",
   "metadata": {
    "slideshow": {
     "slide_type": "fragment"
    }
   },
   "source": [
    "<center><img src=\"https://edlitera-images.s3.amazonaws.com/bagging_and_pasting.png\" width=\"800\"/>\n"
   ]
  },
  {
   "cell_type": "markdown",
   "metadata": {
    "slideshow": {
     "slide_type": "slide"
    }
   },
   "source": [
    "# `Random Forest`"
   ]
  },
  {
   "cell_type": "markdown",
   "metadata": {
    "slideshow": {
     "slide_type": "fragment"
    }
   },
   "source": [
    "* it's a **`bagging ensemble method`**"
   ]
  },
  {
   "cell_type": "markdown",
   "metadata": {
    "slideshow": {
     "slide_type": "fragment"
    }
   },
   "source": [
    "* the predictors are all **`decision trees`**"
   ]
  },
  {
   "cell_type": "markdown",
   "metadata": {
    "slideshow": {
     "slide_type": "fragment"
    }
   },
   "source": [
    "* a **hyper-parameter (`n_estimators`)** controls how many **predictors (`decision trees`)** to have in the **'forest'**"
   ]
  },
  {
   "cell_type": "markdown",
   "metadata": {
    "slideshow": {
     "slide_type": "fragment"
    }
   },
   "source": [
    "* **in addition, another hyper-parameter (`max_features`) controls how many features to actually consider for each of the `decision trees`**\n",
    "    <br>\n",
    "    \n",
    "    * by not using all features:\n",
    "        <br>\n",
    "        \n",
    "        * we introduce randomness (trees are different from one another - **leads to better results!**)\n",
    "        <br/><br/>\n",
    "        * we increase performance (if we have thousands or more features)"
   ]
  },
  {
   "cell_type": "markdown",
   "metadata": {
    "slideshow": {
     "slide_type": "slide"
    }
   },
   "source": [
    "* can do **multi-class classification** and **regression**"
   ]
  },
  {
   "cell_type": "markdown",
   "metadata": {
    "slideshow": {
     "slide_type": "fragment"
    }
   },
   "source": [
    "* can be parallelized - **`n_jobs`**"
   ]
  },
  {
   "cell_type": "markdown",
   "metadata": {
    "slideshow": {
     "slide_type": "slide"
    }
   },
   "source": [
    "<center><img src=\"https://edlitera-images.s3.us-east-1.amazonaws.com/random_forest.png\" width=\"900px\" />"
   ]
  },
  {
   "cell_type": "markdown",
   "metadata": {
    "slideshow": {
     "slide_type": "-"
    }
   },
   "source": [
    "<p style=\"text-align: center; font-size: 7px\">Source: https://commons.wikimedia.org/wiki/File:Random_forest_diagram_complete.png</p>"
   ]
  },
  {
   "cell_type": "markdown",
   "metadata": {
    "slideshow": {
     "slide_type": "slide"
    }
   },
   "source": [
    "## Advantages"
   ]
  },
  {
   "cell_type": "markdown",
   "metadata": {
    "slideshow": {
     "slide_type": "fragment"
    }
   },
   "source": [
    "* though they're **conceptually simple**, they perform really well"
   ]
  },
  {
   "cell_type": "markdown",
   "metadata": {
    "slideshow": {
     "slide_type": "fragment"
    }
   },
   "source": [
    "* **not as prone to overfitting** as `decision trees`"
   ]
  },
  {
   "cell_type": "markdown",
   "metadata": {
    "slideshow": {
     "slide_type": "fragment"
    }
   },
   "source": [
    "* **versatility**: can do both classification and regression"
   ]
  },
  {
   "cell_type": "markdown",
   "metadata": {
    "slideshow": {
     "slide_type": "fragment"
    }
   },
   "source": [
    "* **stability**: a new data instance won't significantly affect it (unlike decision trees)"
   ]
  },
  {
   "cell_type": "markdown",
   "metadata": {
    "slideshow": {
     "slide_type": "fragment"
    }
   },
   "source": [
    "* **one of the most powerful classic machine learning models**"
   ]
  },
  {
   "cell_type": "markdown",
   "metadata": {
    "slideshow": {
     "slide_type": "fragment"
    }
   },
   "source": [
    "* can tell us which features it considers relatively important"
   ]
  },
  {
   "cell_type": "markdown",
   "metadata": {
    "slideshow": {
     "slide_type": "slide"
    }
   },
   "source": [
    "## Disadvantages"
   ]
  },
  {
   "cell_type": "markdown",
   "metadata": {
    "slideshow": {
     "slide_type": "fragment"
    }
   },
   "source": [
    "* **longer training time:** if you have a lot of trees, it can be slow to train"
   ]
  },
  {
   "cell_type": "markdown",
   "metadata": {
    "slideshow": {
     "slide_type": "fragment"
    }
   },
   "source": [
    "* **complexity:** can require significant memory and CPU resources"
   ]
  },
  {
   "cell_type": "markdown",
   "metadata": {
    "slideshow": {
     "slide_type": "fragment"
    }
   },
   "source": [
    "* predictions cannot be easily explained because the model is complex\n",
    "    <br>\n",
    "    \n",
    "    * hundreds of **`decision trees`** making their own predictions"
   ]
  },
  {
   "cell_type": "markdown",
   "metadata": {
    "slideshow": {
     "slide_type": "slide"
    }
   },
   "source": [
    "## Tuning `Random Forests`"
   ]
  },
  {
   "cell_type": "markdown",
   "metadata": {
    "slideshow": {
     "slide_type": "fragment"
    }
   },
   "source": [
    "**It is a good idea to tune your hyperparameters:**\n",
    "\n",
    "   * reduces overfitting\n",
    "   <br>\n",
    "   \n",
    "   * improves model accuracy"
   ]
  },
  {
   "cell_type": "markdown",
   "metadata": {
    "slideshow": {
     "slide_type": "slide"
    }
   },
   "source": [
    "### Important hyperparameters"
   ]
  },
  {
   "cell_type": "markdown",
   "metadata": {
    "slideshow": {
     "slide_type": "fragment"
    }
   },
   "source": [
    "* **`n_estimators`** - the number of decision trees to be combined in the model"
   ]
  },
  {
   "cell_type": "markdown",
   "metadata": {
    "slideshow": {
     "slide_type": "fragment"
    }
   },
   "source": [
    "* **`max_depth`** - the maximum depth of any given decision tree in the model"
   ]
  },
  {
   "cell_type": "markdown",
   "metadata": {
    "slideshow": {
     "slide_type": "fragment"
    }
   },
   "source": [
    "* **`max_features`** - the maximum number of features considered at each split"
   ]
  },
  {
   "cell_type": "markdown",
   "metadata": {
    "slideshow": {
     "slide_type": "fragment"
    }
   },
   "source": [
    "* **`bootstrap`** - whether to perform **`bagging` (`bootstrap=True`)** or **`pasting`** (**`boostrap=False`)**"
   ]
  },
  {
   "cell_type": "markdown",
   "metadata": {
    "slideshow": {
     "slide_type": "slide"
    }
   },
   "source": [
    "# `Random Forest` example"
   ]
  },
  {
   "cell_type": "markdown",
   "metadata": {
    "slideshow": {
     "slide_type": "fragment"
    }
   },
   "source": [
    "We will use the **`iris`** dataset:\n",
    "    <br>\n",
    "    \n",
    "   * contains measurements of sepals and petals for three different types of iris plants\n",
    "    <br>\n",
    "    \n",
    "   * we will write a ML model that can identify the type of plant based on these measurements\n",
    "    <br>\n",
    "    \n",
    "   * this is a classic training dataset"
   ]
  },
  {
   "cell_type": "markdown",
   "metadata": {
    "slideshow": {
     "slide_type": "slide"
    }
   },
   "source": [
    "### Loading data"
   ]
  },
  {
   "cell_type": "code",
   "execution_count": 1,
   "metadata": {
    "slideshow": {
     "slide_type": "fragment"
    }
   },
   "outputs": [],
   "source": [
    "# Import necessary libraries\n",
    "\n",
    "from sklearn import datasets\n",
    "from sklearn.model_selection import train_test_split\n",
    "from sklearn.ensemble import RandomForestClassifier\n",
    "from sklearn.model_selection import cross_val_score, cross_val_predict\n",
    "from sklearn.metrics import confusion_matrix, classification_report\n",
    "import sklearn.metrics as metrics\n",
    "from sklearn.model_selection import GridSearchCV"
   ]
  },
  {
   "cell_type": "code",
   "execution_count": 2,
   "metadata": {
    "slideshow": {
     "slide_type": "fragment"
    }
   },
   "outputs": [],
   "source": [
    "# Load the data\n",
    "\n",
    "iris = datasets.load_iris()"
   ]
  },
  {
   "cell_type": "code",
   "execution_count": 3,
   "metadata": {
    "slideshow": {
     "slide_type": "fragment"
    }
   },
   "outputs": [
    {
     "name": "stdout",
     "output_type": "stream",
     "text": [
      "['sepal length (cm)', 'sepal width (cm)', 'petal length (cm)', 'petal width (cm)']\n",
      "['setosa' 'versicolor' 'virginica']\n"
     ]
    }
   ],
   "source": [
    "# List the independent features and the dependent feature\n",
    "\n",
    "print(iris.feature_names)\n",
    "print(iris.target_names)"
   ]
  },
  {
   "cell_type": "markdown",
   "metadata": {
    "slideshow": {
     "slide_type": "slide"
    }
   },
   "source": [
    "<center><img src=\"https://edlitera-images.s3.us-east-1.amazonaws.com/iris_plants.png\" width=\"900px\" />"
   ]
  },
  {
   "cell_type": "code",
   "execution_count": 4,
   "metadata": {
    "slideshow": {
     "slide_type": "slide"
    }
   },
   "outputs": [
    {
     "data": {
      "text/plain": [
       "array([0, 0, 0, 0, 0, 0, 0, 0, 0, 0, 0, 0, 0, 0, 0, 0, 0, 0, 0, 0, 0, 0,\n",
       "       0, 0, 0, 0, 0, 0, 0, 0, 0, 0, 0, 0, 0, 0, 0, 0, 0, 0, 0, 0, 0, 0,\n",
       "       0, 0, 0, 0, 0, 0, 1, 1, 1, 1, 1, 1, 1, 1, 1, 1, 1, 1, 1, 1, 1, 1,\n",
       "       1, 1, 1, 1, 1, 1, 1, 1, 1, 1, 1, 1, 1, 1, 1, 1, 1, 1, 1, 1, 1, 1,\n",
       "       1, 1, 1, 1, 1, 1, 1, 1, 1, 1, 1, 1, 2, 2, 2, 2, 2, 2, 2, 2, 2, 2,\n",
       "       2, 2, 2, 2, 2, 2, 2, 2, 2, 2, 2, 2, 2, 2, 2, 2, 2, 2, 2, 2, 2, 2,\n",
       "       2, 2, 2, 2, 2, 2, 2, 2, 2, 2, 2, 2, 2, 2, 2, 2, 2, 2])"
      ]
     },
     "execution_count": 4,
     "metadata": {},
     "output_type": "execute_result"
    }
   ],
   "source": [
    "# Take a look at our dependent feature\n",
    "\n",
    "iris.target"
   ]
  },
  {
   "cell_type": "markdown",
   "metadata": {
    "slideshow": {
     "slide_type": "fragment"
    }
   },
   "source": [
    "**NOTES:**\n",
    "\n",
    "* `0` is for `setosa`\n",
    "* `1` is for `versicolor`\n",
    "* `2` is for `virginica`\n",
    "\n",
    "**This is a multi-class classification problem !**"
   ]
  },
  {
   "cell_type": "code",
   "execution_count": 5,
   "metadata": {
    "slideshow": {
     "slide_type": "slide"
    }
   },
   "outputs": [],
   "source": [
    "# Separate data into training data and testing data\n",
    "\n",
    "X_train, X_test, y_train, y_test = train_test_split(\n",
    "    iris.data, \n",
    "    iris.target, \n",
    "    test_size=0.25\n",
    ")"
   ]
  },
  {
   "cell_type": "code",
   "execution_count": 6,
   "metadata": {
    "slideshow": {
     "slide_type": "fragment"
    }
   },
   "outputs": [],
   "source": [
    "# Define a simple Random Forest classifier\n",
    "\n",
    "classifier = RandomForestClassifier(\n",
    "    n_estimators=200, \n",
    "    random_state=7, \n",
    "    max_depth=5\n",
    ")"
   ]
  },
  {
   "cell_type": "code",
   "execution_count": 7,
   "metadata": {
    "slideshow": {
     "slide_type": "fragment"
    }
   },
   "outputs": [
    {
     "data": {
      "text/plain": [
       "RandomForestClassifier(max_depth=5, n_estimators=200, random_state=7)"
      ]
     },
     "execution_count": 7,
     "metadata": {},
     "output_type": "execute_result"
    }
   ],
   "source": [
    "# Train the model\n",
    "\n",
    "classifier.fit(X_train, y_train)"
   ]
  },
  {
   "cell_type": "code",
   "execution_count": 8,
   "metadata": {
    "slideshow": {
     "slide_type": "slide"
    }
   },
   "outputs": [],
   "source": [
    "# Predict values from the test dataset\n",
    "# using the trained model\n",
    "\n",
    "y_pred = classifier.predict(X_test)"
   ]
  },
  {
   "cell_type": "code",
   "execution_count": 9,
   "metadata": {
    "slideshow": {
     "slide_type": "fragment"
    }
   },
   "outputs": [
    {
     "name": "stdout",
     "output_type": "stream",
     "text": [
      "Accuracy: 1.0\n"
     ]
    }
   ],
   "source": [
    "# Print model accuracy by comparing predictions with real values\n",
    "\n",
    "accuracy_score = metrics.accuracy_score(y_test, y_pred)\n",
    "\n",
    "print(\"Accuracy:\", accuracy_score)"
   ]
  },
  {
   "cell_type": "code",
   "execution_count": 10,
   "metadata": {
    "slideshow": {
     "slide_type": "slide"
    }
   },
   "outputs": [
    {
     "name": "stdout",
     "output_type": "stream",
     "text": [
      "[[17  0  0]\n",
      " [ 0 12  0]\n",
      " [ 0  0  9]]\n"
     ]
    }
   ],
   "source": [
    "# As mentioned before, precision by itself is not a good enough measure\n",
    "# for our model, so we will create a confusion matrix\n",
    "\n",
    "cm = metrics.confusion_matrix(y_test, y_pred)\n",
    "\n",
    "print(cm)"
   ]
  },
  {
   "cell_type": "code",
   "execution_count": 20,
   "metadata": {
    "slideshow": {
     "slide_type": "slide"
    }
   },
   "outputs": [
    {
     "data": {
      "text/plain": [
       "Text(0.5, 1.0, 'Accuracy Score: 1.0')"
      ]
     },
     "execution_count": 20,
     "metadata": {},
     "output_type": "execute_result"
    },
    {
     "data": {
      "image/png": "[encoded data removed]",
      "text/plain": [
       "<Figure size 648x648 with 2 Axes>"
      ]
     },
     "metadata": {
      "needs_background": "light"
     },
     "output_type": "display_data"
    }
   ],
   "source": [
    "# Useful snippet of code \n",
    "# Used to construct a nicer looking confusion matrix\n",
    "\n",
    "import matplotlib.pyplot as plt\n",
    "%matplotlib inline\n",
    "import seaborn as sns\n",
    "\n",
    "plt.figure(figsize=(9,9))\n",
    "sns.heatmap(cm, annot=True, fmt=\".3f\", linewidths=.5, square=True, cmap=\"Reds\")\n",
    "plt.ylabel(\"True value\")\n",
    "plt.xlabel(\"Prediction\")\n",
    "all_sample_title = f\"Accuracy Score: {accuracy_score}\"\n",
    "plt.title(all_sample_title, size=20)"
   ]
  },
  {
   "cell_type": "code",
   "execution_count": 21,
   "metadata": {
    "slideshow": {
     "slide_type": "slide"
    }
   },
   "outputs": [
    {
     "name": "stdout",
     "output_type": "stream",
     "text": [
      "              precision    recall  f1-score   support\n",
      "\n",
      "           0       1.00      1.00      1.00        17\n",
      "           1       1.00      1.00      1.00        12\n",
      "           2       1.00      1.00      1.00         9\n",
      "\n",
      "    accuracy                           1.00        38\n",
      "   macro avg       1.00      1.00      1.00        38\n",
      "weighted avg       1.00      1.00      1.00        38\n",
      "\n"
     ]
    }
   ],
   "source": [
    "# Let's take a look at the classification report\n",
    "\n",
    "print(metrics.classification_report(y_test, y_pred, labels=[0, 1, 2]))"
   ]
  },
  {
   "cell_type": "markdown",
   "metadata": {
    "slideshow": {
     "slide_type": "slide"
    }
   },
   "source": [
    "## Model tuning"
   ]
  },
  {
   "cell_type": "markdown",
   "metadata": {
    "slideshow": {
     "slide_type": "fragment"
    }
   },
   "source": [
    "* we can use a **`grid search`** to tune the hyperparameters of our models"
   ]
  },
  {
   "cell_type": "code",
   "execution_count": 22,
   "metadata": {
    "slideshow": {
     "slide_type": "fragment"
    }
   },
   "outputs": [],
   "source": [
    "# Define the parameters we want to check\n",
    "\n",
    "parameters = {\n",
    "    'max_depth': range (2, 6, 8),\n",
    "    'n_estimators': range(100, 200, 500)\n",
    "}"
   ]
  },
  {
   "cell_type": "code",
   "execution_count": 23,
   "metadata": {
    "slideshow": {
     "slide_type": "slide"
    }
   },
   "outputs": [],
   "source": [
    "# Define the grid search \n",
    "\n",
    "classifier = RandomForestClassifier()"
   ]
  },
  {
   "cell_type": "code",
   "execution_count": 25,
   "metadata": {
    "slideshow": {
     "slide_type": "fragment"
    }
   },
   "outputs": [],
   "source": [
    "# Define the grid search\n",
    "\n",
    "grid_search = GridSearchCV(\n",
    "    classifier, \n",
    "    parameters, \n",
    "    cv=5, \n",
    "    scoring=\"accuracy\"\n",
    ")"
   ]
  },
  {
   "cell_type": "markdown",
   "metadata": {
    "slideshow": {
     "slide_type": "fragment"
    }
   },
   "source": [
    "**NOTE:** The code line below will take some time to run."
   ]
  },
  {
   "cell_type": "code",
   "execution_count": 26,
   "metadata": {
    "slideshow": {
     "slide_type": "slide"
    }
   },
   "outputs": [
    {
     "data": {
      "text/plain": [
       "GridSearchCV(cv=5, estimator=RandomForestClassifier(),\n",
       "             param_grid={'max_depth': range(2, 6, 8),\n",
       "                         'n_estimators': range(100, 200, 500)},\n",
       "             scoring='accuracy')"
      ]
     },
     "execution_count": 26,
     "metadata": {},
     "output_type": "execute_result"
    }
   ],
   "source": [
    "# Perform the grid search\n",
    "\n",
    "grid_search.fit(X_train, y_train)"
   ]
  },
  {
   "cell_type": "code",
   "execution_count": 27,
   "metadata": {
    "slideshow": {
     "slide_type": "slide"
    }
   },
   "outputs": [
    {
     "data": {
      "text/plain": [
       "{'max_depth': 2, 'n_estimators': 100}"
      ]
     },
     "execution_count": 27,
     "metadata": {},
     "output_type": "execute_result"
    }
   ],
   "source": [
    "# Print out the best parameters\n",
    "\n",
    "grid_search.best_params_"
   ]
  },
  {
   "cell_type": "code",
   "execution_count": 28,
   "metadata": {
    "slideshow": {
     "slide_type": "fragment"
    }
   },
   "outputs": [
    {
     "data": {
      "text/plain": [
       "RandomForestClassifier(max_depth=2)"
      ]
     },
     "execution_count": 28,
     "metadata": {},
     "output_type": "execute_result"
    }
   ],
   "source": [
    "# Define the best model\n",
    "\n",
    "best_model = grid_search.best_estimator_\n",
    "\n",
    "# Display the best model\n",
    "\n",
    "best_model"
   ]
  },
  {
   "cell_type": "code",
   "execution_count": 29,
   "metadata": {
    "slideshow": {
     "slide_type": "fragment"
    }
   },
   "outputs": [
    {
     "data": {
      "text/plain": [
       "RandomForestClassifier(max_depth=2)"
      ]
     },
     "execution_count": 29,
     "metadata": {},
     "output_type": "execute_result"
    }
   ],
   "source": [
    "# Train the model\n",
    "\n",
    "best_model.fit(X_train, y_train)"
   ]
  },
  {
   "cell_type": "code",
   "execution_count": 30,
   "metadata": {
    "slideshow": {
     "slide_type": "slide"
    }
   },
   "outputs": [],
   "source": [
    "# Predict values from the test dataset\n",
    "# using the trained model\n",
    "\n",
    "y_pred = best_model.predict(X_test)"
   ]
  },
  {
   "cell_type": "code",
   "execution_count": 31,
   "metadata": {
    "slideshow": {
     "slide_type": "fragment"
    }
   },
   "outputs": [
    {
     "name": "stdout",
     "output_type": "stream",
     "text": [
      "              precision    recall  f1-score   support\n",
      "\n",
      "           0       1.00      1.00      1.00        17\n",
      "           1       0.92      1.00      0.96        12\n",
      "           2       1.00      0.89      0.94         9\n",
      "\n",
      "    accuracy                           0.97        38\n",
      "   macro avg       0.97      0.96      0.97        38\n",
      "weighted avg       0.98      0.97      0.97        38\n",
      "\n"
     ]
    }
   ],
   "source": [
    "# Let's take a look at the classification report\n",
    "\n",
    "print(metrics.classification_report(y_test, y_pred, labels=[0, 1, 2]))"
   ]
  },
  {
   "cell_type": "markdown",
   "metadata": {
    "slideshow": {
     "slide_type": "fragment"
    }
   },
   "source": [
    "**Our results when performing grid search can end up being worse after tuning!** \n",
    "\n",
    "* one of the biggest traps of **grid search**\n",
    "\n",
    "* sometimes the parameters we originally used for the model are not included in the grid we are using, but they can end up being better than the ones we try to use for tuning\n",
    "\n",
    "* we need to be very careful when creating our grid for the **grid search**"
   ]
  },
  {
   "cell_type": "markdown",
   "metadata": {
    "slideshow": {
     "slide_type": "slide"
    }
   },
   "source": [
    "# `Random Forest` take-home exercise"
   ]
  },
  {
   "cell_type": "markdown",
   "metadata": {
    "slideshow": {
     "slide_type": "fragment"
    }
   },
   "source": [
    "**he dataset you will be working with in this exercise, available here https://edlitera-datasets.s3.amazonaws.com/students.csv, is a modified version of the `Students` dataset.**\n",
    "\n",
    "<br>\n",
    "\n",
    "**Create a `Random Forest Classifier` model that will predict whether a student will get a passing grade or not or not (the dependent feature is `passing_grade`).**\n",
    "\n",
    "<br>\n",
    "\n",
    "**The `Random Forest Classifier` should use 100 estimators with a maximum depth of 2, with a minimum of 2 samples per leaf and a minimum of 2 samples per each split.**\n",
    "\n",
    "<br>\n",
    "\n",
    "**You need to calculate the `accuracy`, create a `confusion matrix` and create a `classification report`.**"
   ]
  },
  {
   "cell_type": "markdown",
   "metadata": {},
   "source": [
    "## `Solution`"
   ]
  },
  {
   "cell_type": "markdown",
   "metadata": {},
   "source": [
    " <div>\n",
    "<img src=\"https://edlitera-images.s3.amazonaws.com/new_edlitera_logo.png\" width=\"500\"/>\n",
    "</div>"
   ]
  }
 ],
 "metadata": {
  "celltoolbar": "Slideshow",
  "kernelspec": {
   "display_name": "Python 3 (ipykernel)",
   "language": "python",
   "name": "python3"
  },
  "language_info": {
   "codemirror_mode": {
    "name": "ipython",
    "version": 3
   },
   "file_extension": ".py",
   "mimetype": "text/x-python",
   "name": "python",
   "nbconvert_exporter": "python",
   "pygments_lexer": "ipython3",
   "version": "3.9.7"
  }
 },
 "nbformat": 4,
 "nbformat_minor": 4
}
