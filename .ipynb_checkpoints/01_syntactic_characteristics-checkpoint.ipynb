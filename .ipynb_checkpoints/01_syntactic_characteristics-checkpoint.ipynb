{
 "cells": [
  {
   "cell_type": "markdown",
   "id": "711175b9",
   "metadata": {
    "slideshow": {
     "slide_type": "slide"
    }
   },
   "source": [
    " <div>\n",
    "<img src=\"https://edlitera-images.s3.amazonaws.com/new_edlitera_logo.png\" width=\"500\"/>\n",
    "</div>"
   ]
  },
  {
   "cell_type": "markdown",
   "id": "40b1a4e8",
   "metadata": {
    "slideshow": {
     "slide_type": "slide"
    }
   },
   "source": [
    "# `Syntactic characteristics`\n"
   ]
  },
  {
   "cell_type": "markdown",
   "id": "31e24a49",
   "metadata": {
    "slideshow": {
     "slide_type": "fragment"
    }
   },
   "source": [
    "* allows us to analyze the grammatical structure of languages\n",
    "    * we analyze the relationships between different words"
   ]
  },
  {
   "cell_type": "markdown",
   "id": "b774d588",
   "metadata": {
    "slideshow": {
     "slide_type": "fragment"
    }
   },
   "source": [
    "**Three ways to access the relationships that exist between words:**\n",
    "\n",
    "* `POS tagging`\n",
    "* ` parsing`\n",
    "* `chunking`"
   ]
  },
  {
   "cell_type": "markdown",
   "id": "647397dc",
   "metadata": {
    "slideshow": {
     "slide_type": "fragment"
    }
   },
   "source": [
    "* we won't go over `parsing` and `chunking`, and will instead focus on `POS tagging` \n",
    "    <br>\n",
    "    \n",
    "    * before we explain what `POS tagging` is, we need to explain what are `Treebanks`\n"
   ]
  },
  {
   "cell_type": "markdown",
   "id": "276faccc",
   "metadata": {
    "slideshow": {
     "slide_type": "slide"
    }
   },
   "source": [
    "## `Treebanks`"
   ]
  },
  {
   "cell_type": "markdown",
   "id": "bfa6016c",
   "metadata": {
    "slideshow": {
     "slide_type": "fragment"
    }
   },
   "source": [
    "* treebanks are special text collections which have been parsed and annotated for syntactic structure"
   ]
  },
  {
   "cell_type": "markdown",
   "id": "2c2b8d42",
   "metadata": {
    "slideshow": {
     "slide_type": "fragment"
    }
   },
   "source": [
    "* **`treebanks`** are usually built on top of **POS tagged corpora** (we will explain POS tagging in just a bit)"
   ]
  },
  {
   "cell_type": "markdown",
   "id": "0ba3d4e3",
   "metadata": {
    "slideshow": {
     "slide_type": "fragment"
    }
   },
   "source": [
    "**`Universal Dependencies`** is a collection of over 100 treebanks in 60 different languages\n",
    "\n",
    "* the **`Penn Treebank`** has become the standard nowadays"
   ]
  },
  {
   "cell_type": "markdown",
   "id": "5bb60bee",
   "metadata": {
    "slideshow": {
     "slide_type": "slide"
    }
   },
   "source": [
    "## `POS tagging`"
   ]
  },
  {
   "cell_type": "markdown",
   "id": "75e88880",
   "metadata": {
    "slideshow": {
     "slide_type": "fragment"
    }
   },
   "source": [
    "* assigning **`POS tags (Part-Of-Speech) tags`** to words"
   ]
  },
  {
   "cell_type": "markdown",
   "id": "c8a91ccd",
   "metadata": {
    "slideshow": {
     "slide_type": "fragment"
    }
   },
   "source": [
    "* a part of speech is a class of words that plays a similar syntactic role in some sentence"
   ]
  },
  {
   "cell_type": "markdown",
   "id": "6efdac66",
   "metadata": {
    "slideshow": {
     "slide_type": "slide"
    }
   },
   "source": [
    "**Basic POS tags:**\n",
    "\n",
    "* `N` - noun\n",
    "* `V` - verb\n",
    "* `A` - article\n",
    "* `ADJ` - adjective\n",
    "* `P` - preposition\n",
    "* `CON` - conjunction\n",
    "* `PRO` - Pronoun\n",
    "* `INT` - interjection"
   ]
  },
  {
   "cell_type": "markdown",
   "id": "e45bbd5f",
   "metadata": {
    "slideshow": {
     "slide_type": "slide"
    }
   },
   "source": [
    "**Example:** \"She sells dog food\"\n",
    "\n",
    "* She - `PRO` (pronoun)\n",
    "* sells - `V` (verb)\n",
    "* dog - `N` (noun)\n",
    "* food - `N` (noun)"
   ]
  },
  {
   "cell_type": "markdown",
   "id": "58ce5914",
   "metadata": {
    "slideshow": {
     "slide_type": "fragment"
    }
   },
   "source": [
    "* performing **`POS tagging`** is often hard because the language humans use is very ambiguous\n",
    "    * some words can have multiple meanings (e.g. the word \"object\" can be both a noun and a verb depending on the context)\n",
    "    * there are a lot of subcategories (e.g. singular nouns, plural nouns, etc.)\n",
    "    * different **`treebanks`** have different abbreviations for their **`POS tags`**"
   ]
  },
  {
   "cell_type": "markdown",
   "id": "408a5396",
   "metadata": {
    "slideshow": {
     "slide_type": "slide"
    }
   },
   "source": [
    "### `POS tagging algorithms:`"
   ]
  },
  {
   "cell_type": "markdown",
   "id": "0935d3bd",
   "metadata": {
    "slideshow": {
     "slide_type": "fragment"
    }
   },
   "source": [
    "* two types:\n",
    "    <br>\n",
    "    \n",
    "    * **`rule based algorithms`**\n",
    "    * **`statistical methods`**"
   ]
  },
  {
   "cell_type": "markdown",
   "id": "78e921f0",
   "metadata": {
    "slideshow": {
     "slide_type": "slide"
    }
   },
   "source": [
    "**`Rule based:`**\n",
    "\n",
    "* depend on dictionaries, lexicons, the usage of regular expressions etc. to predict **`POS tags`**\n",
    "* their accuracy is not great: \n",
    "    * the best rule based **`POS tagging`** algorithm managed to achieve an **accuracy of 77%** on the **`Brown corpus`** (standard corpus for testing **`POS tagging`** accuracy)"
   ]
  },
  {
   "cell_type": "markdown",
   "id": "2350e9f2",
   "metadata": {
    "slideshow": {
     "slide_type": "fragment"
    }
   },
   "source": [
    "**`Statistical methods:`**\n",
    "\n",
    "* the popularity of different statistical methods has risen through the years\n",
    "* maybe the best example are **`Hidden Markov models`** \n",
    "* these models predict the tags of ambiguous words much more accurately than standard rule-based systems"
   ]
  },
  {
   "cell_type": "markdown",
   "id": "0e4e4647",
   "metadata": {
    "slideshow": {
     "slide_type": "slide"
    }
   },
   "source": [
    "**Bonus: `Machine Learning`**\n",
    "\n",
    "* lately, various **`Machine Learning`** algorithms have became increasingly popular \n",
    "* most achieve **accuracy of over 97 %**\n",
    "* using **`Deep Learning`** for **`POS tagging`** shows even more promise than using classic **`Machine Learning`**"
   ]
  },
  {
   "cell_type": "markdown",
   "id": "c47037cd",
   "metadata": {
    "slideshow": {
     "slide_type": "slide"
    }
   },
   "source": [
    "# `POS tagging` in `NLTK`"
   ]
  },
  {
   "cell_type": "markdown",
   "id": "c3322b55",
   "metadata": {
    "slideshow": {
     "slide_type": "fragment"
    }
   },
   "source": [
    "* tagging each word in some text manually would be a very cumbersome procedure, thankfully **`NLTK`** can solve that problem for using a built-in **`POS tagger`**\n"
   ]
  },
  {
   "cell_type": "markdown",
   "id": "4c70e9dc",
   "metadata": {
    "slideshow": {
     "slide_type": "fragment"
    }
   },
   "source": [
    "* we call upon that **`POS tagger`** using  **`nltk.pos_tag()`** \n",
    "    <br>\n",
    "    \n",
    "    * **`pos_tag()`**  currently uses an averaged perceptron as the tagging algorithm\n",
    "    * the automatic POS tags generated using  **`pos_tag()`**  are based on the **`Penn Treebank tagset`**"
   ]
  },
  {
   "cell_type": "markdown",
   "id": "62997c6e",
   "metadata": {
    "slideshow": {
     "slide_type": "fragment"
    }
   },
   "source": [
    "* if you want to POS tag sentences, you can do it by using **`pos_tag_sents()`**"
   ]
  },
  {
   "cell_type": "markdown",
   "id": "87528a3c",
   "metadata": {
    "slideshow": {
     "slide_type": "slide"
    }
   },
   "source": [
    "**FYI:** If you don't have **`nltk`** installed:\n",
    "\n",
    "`conda install nltk` or `pip install nltk`"
   ]
  },
  {
   "cell_type": "code",
   "execution_count": 1,
   "id": "69f51b01",
   "metadata": {
    "slideshow": {
     "slide_type": "slide"
    }
   },
   "outputs": [],
   "source": [
    "# Import nltk so that we can use the POS-tagger\n",
    "\n",
    "import nltk\n",
    "from nltk import pos_tag\n",
    "from nltk import pos_tag_sents"
   ]
  },
  {
   "cell_type": "code",
   "execution_count": 2,
   "id": "2b96b2d7",
   "metadata": {},
   "outputs": [],
   "source": [
    "# Then we can create our data\n",
    "# in the form of a list of words\n",
    "# and a list of sentences\n",
    "\n",
    "words = ['Life', 'is', 'what', 'happens', 'when', 'you', 'are', 'busy', 'making', 'other', 'plans']\n",
    "sents = [[\"He\", \"is\", \"a\", \"baker\"], [\"She\", \"sells\", \"dog\", \"food\"]]"
   ]
  },
  {
   "cell_type": "code",
   "execution_count": 3,
   "id": "451aadee",
   "metadata": {},
   "outputs": [],
   "source": [
    "# Let's do some POS-tagging\n",
    "\n",
    "tagged_words = pos_tag(words)\n",
    "tagged_sentences = pos_tag_sents(sents)"
   ]
  },
  {
   "cell_type": "code",
   "execution_count": 4,
   "id": "ba831993",
   "metadata": {},
   "outputs": [
    {
     "data": {
      "text/plain": [
       "[('Life', 'NNP'),\n",
       " ('is', 'VBZ'),\n",
       " ('what', 'WP'),\n",
       " ('happens', 'VBZ'),\n",
       " ('when', 'WRB'),\n",
       " ('you', 'PRP'),\n",
       " ('are', 'VBP'),\n",
       " ('busy', 'JJ'),\n",
       " ('making', 'VBG'),\n",
       " ('other', 'JJ'),\n",
       " ('plans', 'NNS')]"
      ]
     },
     "execution_count": 4,
     "metadata": {},
     "output_type": "execute_result"
    }
   ],
   "source": [
    "# Take a look at the tagged text\n",
    "\n",
    "tagged_words"
   ]
  },
  {
   "cell_type": "code",
   "execution_count": 5,
   "id": "7ae6314f",
   "metadata": {},
   "outputs": [
    {
     "data": {
      "text/plain": [
       "[[('He', 'PRP'), ('is', 'VBZ'), ('a', 'DT'), ('baker', 'NN')],\n",
       " [('She', 'PRP'), ('sells', 'VBZ'), ('dog', 'NN'), ('food', 'NN')]]"
      ]
     },
     "execution_count": 5,
     "metadata": {},
     "output_type": "execute_result"
    }
   ],
   "source": [
    "# Take a look at the tagged text\n",
    "\n",
    "tagged_sentences"
   ]
  },
  {
   "cell_type": "markdown",
   "id": "cba4a6f5",
   "metadata": {},
   "source": [
    "**BONUS: display what a tag represents**\n",
    "    \n",
    "* we do it by loading in a tagset and checking what a certaing tag means"
   ]
  },
  {
   "cell_type": "code",
   "execution_count": 6,
   "id": "b48d5383",
   "metadata": {},
   "outputs": [],
   "source": [
    "# Load NTLK resource files \n",
    "\n",
    "from nltk.data import load\n",
    "\n",
    "tag_dict = load('help/tagsets/upenn_tagset.pickle')"
   ]
  },
  {
   "cell_type": "code",
   "execution_count": 7,
   "id": "cef09abb",
   "metadata": {},
   "outputs": [
    {
     "data": {
      "text/plain": [
       "'pronoun, personal'"
      ]
     },
     "execution_count": 7,
     "metadata": {},
     "output_type": "execute_result"
    }
   ],
   "source": [
    "# Display what a tag represents\n",
    "\n",
    "tag_dict['PRP'][0]"
   ]
  },
  {
   "cell_type": "markdown",
   "id": "08714406",
   "metadata": {},
   "source": [
    "# `Syntactic characteristics cheat sheet`"
   ]
  },
  {
   "cell_type": "markdown",
   "id": "21690c49",
   "metadata": {},
   "source": [
    "* these characteristics are directly connected to the grammar of some particular language"
   ]
  },
  {
   "cell_type": "markdown",
   "id": "5b6fa6a4",
   "metadata": {},
   "source": [
    "* the three procedures we perform are:\n",
    "\n",
    "    * POS tagging\n",
    "    * Parsing\n",
    "    * Chunking\n",
    "\n",
    "    "
   ]
  },
  {
   "cell_type": "markdown",
   "id": "8125261a",
   "metadata": {},
   "source": [
    "### `POS tagging`"
   ]
  },
  {
   "cell_type": "markdown",
   "id": "b2ec5b29",
   "metadata": {},
   "source": [
    "* assigning **`POS tags (Part-Of-Speech) tags`** to words using either **`rule based algorithms`** or **`statistical methods`** (in recent times we also use **`Machine Learning algorithms`**)"
   ]
  },
  {
   "cell_type": "markdown",
   "id": "3c2c129b",
   "metadata": {},
   "source": [
    "* **`NLTK`** has a built-in POS tagger that takes in words and outputs pairs of words and their POS tags\n",
    "    * the tags are based on the **`Treebank corpus`**"
   ]
  },
  {
   "cell_type": "markdown",
   "id": "aa7ae1f2",
   "metadata": {},
   "source": [
    " <div>\n",
    "<img src=\"https://edlitera-images.s3.amazonaws.com/new_edlitera_logo.png\" width=\"500\"/>\n",
    "</div>"
   ]
  }
 ],
 "metadata": {
  "celltoolbar": "Slideshow",
  "kernelspec": {
   "display_name": "Python 3 (ipykernel)",
   "language": "python",
   "name": "python3"
  },
  "language_info": {
   "codemirror_mode": {
    "name": "ipython",
    "version": 3
   },
   "file_extension": ".py",
   "mimetype": "text/x-python",
   "name": "python",
   "nbconvert_exporter": "python",
   "pygments_lexer": "ipython3",
   "version": "3.9.7"
  }
 },
 "nbformat": 4,
 "nbformat_minor": 5
}
