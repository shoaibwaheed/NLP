{
 "cells": [
  {
   "cell_type": "markdown",
   "metadata": {
    "slideshow": {
     "slide_type": "slide"
    }
   },
   "source": [
    " <div>\n",
    "<img src=\"https://edlitera-images.s3.amazonaws.com/new_edlitera_logo.png\" width=\"500\"/>\n",
    "</div>"
   ]
  },
  {
   "cell_type": "markdown",
   "metadata": {
    "slideshow": {
     "slide_type": "slide"
    }
   },
   "source": [
    "# `Boosting`"
   ]
  },
  {
   "cell_type": "markdown",
   "metadata": {
    "slideshow": {
     "slide_type": "fragment"
    }
   },
   "source": [
    "* **`ensemble method`** that combines several predictors with low accuracy (**`weak learners`**) into a model with high accuracy (**`strong learner`**)"
   ]
  },
  {
   "cell_type": "markdown",
   "metadata": {
    "slideshow": {
     "slide_type": "fragment"
    }
   },
   "source": [
    "* **the unit predictor is usually a decision tree (but can be any algorithm)**"
   ]
  },
  {
   "cell_type": "markdown",
   "metadata": {
    "slideshow": {
     "slide_type": "fragment"
    }
   },
   "source": [
    "* models are built **iteratively**"
   ]
  },
  {
   "cell_type": "markdown",
   "metadata": {},
   "source": [
    "## Different types of `boosting` algorithms"
   ]
  },
  {
   "cell_type": "markdown",
   "metadata": {},
   "source": [
    "* there are multiple different types of **`boosting`** algorithms"
   ]
  },
  {
   "cell_type": "markdown",
   "metadata": {},
   "source": [
    "**Important `boosting` algorithms:**\n",
    "  \n",
    "   * **`AdaBoost`**\n",
    "  <br/><br/>\n",
    "   * **`Gradient boosting (simple)`**\n",
    "    <br/><br/>\n",
    "   * **`XGBoost`**\n",
    "   <br/><br/>\n",
    "   * **`CatBoost`**"
   ]
  },
  {
   "cell_type": "markdown",
   "metadata": {},
   "source": [
    "* **`AdaBoost`** is an older technique, and the results we get using it tend to be worse than those we get using the other mentioned techniques"
   ]
  },
  {
   "cell_type": "markdown",
   "metadata": {},
   "source": [
    "* **`CatBoost`** is a newer technique, but doesn't enjoy the same amount of support as XGBoost, so we will skip it for now"
   ]
  },
  {
   "cell_type": "markdown",
   "metadata": {
    "slideshow": {
     "slide_type": "slide"
    }
   },
   "source": [
    "# How does ` boosting` work?"
   ]
  },
  {
   "cell_type": "markdown",
   "metadata": {
    "slideshow": {
     "slide_type": "fragment"
    }
   },
   "source": [
    "* starts with one predictor (one **`Decision Tree`**)"
   ]
  },
  {
   "cell_type": "markdown",
   "metadata": {
    "slideshow": {
     "slide_type": "fragment"
    }
   },
   "source": [
    "* creates the next predictor by improving on the previous predictor"
   ]
  },
  {
   "cell_type": "markdown",
   "metadata": {
    "slideshow": {
     "slide_type": "fragment"
    }
   },
   "source": [
    "* each new predictor tries to improve upon the previous predictor and so on\n",
    " <br/><br/>\n",
    "    * essentially each new predictor 'learns' from past mistakes"
   ]
  },
  {
   "cell_type": "markdown",
   "metadata": {
    "slideshow": {
     "slide_type": "fragment"
    }
   },
   "source": [
    "* keeps adding new predictors **sequentially** until:\n",
    "    <br/><br/>\n",
    "    * a perfect predictor is created **or** the specified number of estimators is created\n"
   ]
  },
  {
   "cell_type": "markdown",
   "metadata": {},
   "source": [
    "# `Gradient Boosting`"
   ]
  },
  {
   "cell_type": "markdown",
   "metadata": {},
   "source": [
    "* achieves better results than basic boosting"
   ]
  },
  {
   "cell_type": "markdown",
   "metadata": {},
   "source": [
    "* the training process is a bit more complex"
   ]
  },
  {
   "cell_type": "markdown",
   "metadata": {},
   "source": [
    "* let's go through it step by step\n",
    "    * math gets complicated, so we will avoid it as much as we possibly can"
   ]
  },
  {
   "cell_type": "markdown",
   "metadata": {},
   "source": [
    "## Training a `gradient boosting` model"
   ]
  },
  {
   "cell_type": "markdown",
   "metadata": {},
   "source": [
    "<img src=\"https://edlitera-images.s3.us-east-1.amazonaws.com/gradient_boost.png\" width=\"70%\" />"
   ]
  },
  {
   "cell_type": "markdown",
   "metadata": {},
   "source": [
    "**NOTE:**\n",
    "\n",
    "\n",
    "* $y$ is the actual value\n",
    "* $\\hat{y}$ is the predicted value\n",
    "* $r = y - \\hat{y}$ is the residual\n",
    "* $f(r)$ is the loss function that each predictor tries to minimize"
   ]
  },
  {
   "cell_type": "markdown",
   "metadata": {},
   "source": [
    "* the first predictor is trained **on the training data set** and it predicts the average for all observations\n",
    "    \n",
    "    <br>\n",
    "    \n",
    "    * can use a variety of models as the unit predictor, but we tipically use decision trees: **`Gradient Tree Boosting`**\n",
    "\n"
   ]
  },
  {
   "cell_type": "markdown",
   "metadata": {},
   "source": [
    "* next, the _residual errors_ are computed\n",
    "    * **for classification:**\n",
    "        * calculate the true probability distribution for the classes that need to be predicted\n",
    "        * calculate the predicted probability distribution for the classes that need to be predicted\n",
    "        * use the <a href='https://en.wikipedia.org/wiki/Kullback%E2%80%93Leibler_divergence'>Kullback-Leibler divergence</a> to see how different the two probability distributions are"
   ]
  },
  {
   "cell_type": "markdown",
   "metadata": {},
   "source": [
    "* next, add another predictor (decision tree) that attempts to minimize the _residuals_ computed above"
   ]
  },
  {
   "cell_type": "markdown",
   "metadata": {},
   "source": [
    "* the procedure gets repeated until the residuals become zero or the specified number of predictors are created"
   ]
  },
  {
   "cell_type": "markdown",
   "metadata": {},
   "source": [
    "* **to make a prediction, you need to sum up all the values / probabilities predicted by each predictor**"
   ]
  },
  {
   "cell_type": "markdown",
   "metadata": {},
   "source": [
    "<img src=\"https://edlitera-images.s3.us-east-1.amazonaws.com/gradient_boost_2.png\" width=\"100%\" />"
   ]
  },
  {
   "cell_type": "markdown",
   "metadata": {},
   "source": [
    "## Why is it called `gradient boosting`?"
   ]
  },
  {
   "cell_type": "markdown",
   "metadata": {},
   "source": [
    "* with each predictor, we attempt to reduce the prediction errors\n",
    "    <br>\n",
    "    \n",
    "    * i.e. we have a **loss function** we aim to minimize\n",
    "    <br>\n",
    "    \n",
    "    * this is done in a manner similar to **gradient descent**\n",
    "    <br>\n",
    "    \n",
    "    * the **'gradient'** is the **partial derivative of the loss function**\n",
    "        <br>\n",
    "        \n",
    "        * allows the model to find the **\"direction\"** in which to change the parameters in order to minimize the **loss function** as much as possible"
   ]
  },
  {
   "cell_type": "markdown",
   "metadata": {},
   "source": [
    "* it's **boosting** because each new predictor aims to reduce the errors made by the previous predictor\n",
    "    <br>\n",
    "    \n",
    "    * i.e. **each predictor 'boosts' the accuracy of the predecesors**"
   ]
  },
  {
   "cell_type": "markdown",
   "metadata": {},
   "source": [
    "### Hyperparameters of `gradient boosting` machines"
   ]
  },
  {
   "cell_type": "markdown",
   "metadata": {},
   "source": [
    "* loss function"
   ]
  },
  {
   "cell_type": "markdown",
   "metadata": {},
   "source": [
    "* learning rate\n",
    "    <br>\n",
    "    \n",
    "    * the amount by which to 'shrink' (reduce) the contribution of additional predictors / features"
   ]
  },
  {
   "cell_type": "markdown",
   "metadata": {},
   "source": [
    "* number of estimators (predictors)"
   ]
  },
  {
   "cell_type": "markdown",
   "metadata": {},
   "source": [
    "* minimum number of observations in each leaf node, in each decision tree"
   ]
  },
  {
   "cell_type": "markdown",
   "metadata": {},
   "source": [
    "* maximum depth of each decision tree"
   ]
  },
  {
   "cell_type": "markdown",
   "metadata": {},
   "source": [
    "* etc."
   ]
  },
  {
   "cell_type": "markdown",
   "metadata": {
    "slideshow": {
     "slide_type": "slide"
    }
   },
   "source": [
    "## Advantages of `gradient boosting` algorithms"
   ]
  },
  {
   "cell_type": "markdown",
   "metadata": {
    "slideshow": {
     "slide_type": "fragment"
    }
   },
   "source": [
    "* achieve excellent accuracy (often the best out of all supervised models)"
   ]
  },
  {
   "cell_type": "markdown",
   "metadata": {
    "slideshow": {
     "slide_type": "fragment"
    }
   },
   "source": [
    "* no data preprocessing necessary"
   ]
  },
  {
   "cell_type": "markdown",
   "metadata": {
    "slideshow": {
     "slide_type": "fragment"
    }
   },
   "source": [
    "* flexible (many hyperparameters can be tuned to adapt the model to every problem)"
   ]
  },
  {
   "cell_type": "markdown",
   "metadata": {
    "slideshow": {
     "slide_type": "slide"
    }
   },
   "source": [
    "## Disadvantages of `gradient boosting` algorithms"
   ]
  },
  {
   "cell_type": "markdown",
   "metadata": {
    "slideshow": {
     "slide_type": "fragment"
    }
   },
   "source": [
    "* computationally expensive and relatively slow to train"
   ]
  },
  {
   "cell_type": "markdown",
   "metadata": {
    "slideshow": {
     "slide_type": "fragment"
    }
   },
   "source": [
    "* prone to overfitting"
   ]
  },
  {
   "cell_type": "markdown",
   "metadata": {
    "slideshow": {
     "slide_type": "fragment"
    }
   },
   "source": [
    "* hard to tune (a lot of different hyperparameters need to be tuned for the model to work optimally)"
   ]
  },
  {
   "cell_type": "markdown",
   "metadata": {
    "slideshow": {
     "slide_type": "fragment"
    }
   },
   "source": [
    "* can be hard to interpret in comparison to other classifiers"
   ]
  },
  {
   "cell_type": "markdown",
   "metadata": {
    "slideshow": {
     "slide_type": "slide"
    }
   },
   "source": [
    "## In `Scikit-Learn`"
   ]
  },
  {
   "cell_type": "markdown",
   "metadata": {
    "slideshow": {
     "slide_type": "fragment"
    }
   },
   "source": [
    "* **`GradientBoostingClassifier`:** https://scikit-learn.org/stable/modules/generated/sklearn.ensemble.GradientBoostingClassifier.html"
   ]
  },
  {
   "cell_type": "markdown",
   "metadata": {},
   "source": [
    "* we won't use it: XGBoost is an improved version of **`gradient boosting`**"
   ]
  },
  {
   "cell_type": "markdown",
   "metadata": {
    "slideshow": {
     "slide_type": "slide"
    }
   },
   "source": [
    "# `XGBoost`"
   ]
  },
  {
   "cell_type": "markdown",
   "metadata": {},
   "source": [
    "* specific implementation of **`gradient boosting machines`** that uses more accurate approximations to find the best tree model"
   ]
  },
  {
   "cell_type": "markdown",
   "metadata": {},
   "source": [
    "### Improvements of `XGBoost` over standard `gradient boosting machines`:"
   ]
  },
  {
   "cell_type": "markdown",
   "metadata": {},
   "source": [
    "*  uses second partial derivatives, which give it more information about the **gradient**\n",
    "<br>\n",
    "\n",
    "   * improves **loss function optimization**\n",
    "    \n",
    "\n"
   ]
  },
  {
   "cell_type": "markdown",
   "metadata": {},
   "source": [
    "*  advanced regularization (such as **L1 and L2 regularization**)\n",
    "\n",
    "    <br>\n",
    "    \n",
    "   * **improves model generalization**"
   ]
  },
  {
   "cell_type": "markdown",
   "metadata": {
    "slideshow": {
     "slide_type": "fragment"
    }
   },
   "source": [
    "* **parallelization**\n",
    "    <br>\n",
    "    \n",
    "    * trees are **NOT** built in parallel\n",
    "    <br>\n",
    "    \n",
    "    * the building of each tree **IS** parallelized\n",
    "        \n",
    "        * building of tree branches happen in parallel"
   ]
  },
  {
   "cell_type": "markdown",
   "metadata": {
    "slideshow": {
     "slide_type": "fragment"
    }
   },
   "source": [
    "* includes **hardware optimization**\n",
    "    * improved performance\n",
    "    * can handle data that is too larget to fit in memory (**`out-of-core learning`**)"
   ]
  },
  {
   "cell_type": "markdown",
   "metadata": {
    "slideshow": {
     "slide_type": "slide"
    }
   },
   "source": [
    "## Tuning `XGBoost` models"
   ]
  },
  {
   "cell_type": "markdown",
   "metadata": {
    "slideshow": {
     "slide_type": "fragment"
    }
   },
   "source": [
    "* **full hyper-parameter list: https://xgboost.readthedocs.io/en/stable/index.html**"
   ]
  },
  {
   "cell_type": "markdown",
   "metadata": {
    "slideshow": {
     "slide_type": "slide"
    }
   },
   "source": [
    "* **`booster`** - the unit predictor to use\n",
    "    <br>\n",
    "    \n",
    "    * **`gbtree`** - gradient boosted tree (the default)\n",
    "    <br>\n",
    "    \n",
    "    * other options: **`gblinear`**, etc."
   ]
  },
  {
   "cell_type": "markdown",
   "metadata": {
    "slideshow": {
     "slide_type": "slide"
    }
   },
   "source": [
    "* **`nthread`** - number of threads to use when building tree branches\n",
    "    <br>\n",
    "    \n",
    "    * defaults to maximum available"
   ]
  },
  {
   "cell_type": "markdown",
   "metadata": {
    "slideshow": {
     "slide_type": "slide"
    }
   },
   "source": [
    "* **`eta`** or **`learning_rate`**\n",
    "    <br>\n",
    "    \n",
    "    * a number between 0 and 1\n",
    "    <br>\n",
    "    \n",
    "    * prevents overfitting\n",
    "    <br>\n",
    "    \n",
    "    * lower values will lead to better models, but will take longer\n",
    "    <br>\n",
    "    \n",
    "    * higher values will lead to worse models, but will take less time"
   ]
  },
  {
   "cell_type": "markdown",
   "metadata": {
    "slideshow": {
     "slide_type": "slide"
    }
   },
   "source": [
    "* **`max_depth`** - maximum depth of each **`Decision Tree`**\n",
    "    <br>\n",
    "    \n",
    "    * number greater than 0, defaults to 6\n",
    "    <br>\n",
    "    \n",
    "    * higher values create more complex models\n",
    "        * slower\n",
    "        * more prone to **overfitting**"
   ]
  },
  {
   "cell_type": "markdown",
   "metadata": {
    "slideshow": {
     "slide_type": "slide"
    }
   },
   "source": [
    "* **`n_estimators`** - number of predictors (**`Decision Trees`**)"
   ]
  },
  {
   "cell_type": "markdown",
   "metadata": {
    "slideshow": {
     "slide_type": "slide"
    }
   },
   "source": [
    "* **`gamma`** - minimum loss reduction required to make a further partition on a leaf node of the tree\n",
    " <br>\n",
    "    \n",
    "    * the larger gamma is, the more conservative the algorithm will be\n",
    "     <br>\n",
    "    \n",
    "    * number greater than or equal to 0"
   ]
  },
  {
   "cell_type": "markdown",
   "metadata": {
    "slideshow": {
     "slide_type": "slide"
    }
   },
   "source": [
    "* **`subsample`** - what portion of training instances to sample at each boosting step\n",
    " <br>\n",
    "    \n",
    "    * default 1 (i.e. use all instances for each predictor)\n",
    "     <br>\n",
    "    \n",
    "    * value between 0 and 1\n",
    "     <br>\n",
    "    \n",
    "    * values lower than 1 can reduce overfitting"
   ]
  },
  {
   "cell_type": "markdown",
   "metadata": {
    "slideshow": {
     "slide_type": "slide"
    }
   },
   "source": [
    "* **`colsample_bytree`** - what portion of features (columns) to use at each boosting step\n",
    " <br>\n",
    "    \n",
    "    * default 1 (i.e. use all features for each predictor)\n",
    "     <br>\n",
    "    \n",
    "    * value between 0 and 1\n",
    "     <br>\n",
    "    \n",
    "    * values lower than 1 can reduce overfitting, increase speed"
   ]
  },
  {
   "cell_type": "markdown",
   "metadata": {
    "slideshow": {
     "slide_type": "slide"
    }
   },
   "source": [
    "* **`colsample_bylevel`** - what portion of features (columns) to use at each boosting step\n",
    " <br>\n",
    "    \n",
    "    * default 1 (i.e. use all features that are available for a predictor)\n",
    "     <br>\n",
    "    \n",
    "    * value between 0 and 1"
   ]
  },
  {
   "cell_type": "markdown",
   "metadata": {
    "slideshow": {
     "slide_type": "slide"
    }
   },
   "source": [
    "* **`alpha`** and **`lambda`** - regularization terms\n",
    " <br>\n",
    "    \n",
    "    * default 1\n",
    "     <br>\n",
    "    \n",
    "    * can be any value\n",
    "     <br>\n",
    "    \n",
    "    * increasing the value will make the model more conservative (reduce overfitting)"
   ]
  },
  {
   "cell_type": "markdown",
   "metadata": {
    "slideshow": {
     "slide_type": "slide"
    }
   },
   "source": [
    "* **`predictor`** - allows you to use CPU or GPU\n",
    " <br>\n",
    "    \n",
    "    * **`cpu_predictor`** - multicore CPU predictor\n",
    "     <br>\n",
    "    \n",
    "    * **`gpu_predictor`** - use GPU for prediction"
   ]
  },
  {
   "cell_type": "markdown",
   "metadata": {
    "slideshow": {
     "slide_type": "slide"
    }
   },
   "source": [
    "* **`objective`** - specify the learning task\n",
    "    <br>\n",
    "    \n",
    "    * default **`reg:linear` (`Linear Regression`)**\n",
    "    <br>\n",
    "    \n",
    "    * can also be:\n",
    "        <br>\n",
    "        \n",
    "        * **`reg:logistic`** - **`Logistic regression`**\n",
    "        <br>\n",
    "    \n",
    "        * **`binary:logistic`** - **`Logistic regression`** for binary classification, output probability\n",
    "        <br>\n",
    "    \n",
    "        * **`multi:softmax`** - multiclass classification\n",
    "        <br>\n",
    "    \n",
    "            * need to also set **`num_class`** - number of classes in your dataset\n",
    "            <br>\n",
    "    \n",
    "            * outputs the predicted class\n",
    "            <br>\n",
    "    \n",
    "        * **`multi:softprob`** - multiclass classification\n",
    "            * outputs the predicted probability of each data point belonging to each class"
   ]
  },
  {
   "cell_type": "markdown",
   "metadata": {
    "slideshow": {
     "slide_type": "slide"
    }
   },
   "source": [
    "# `XGBoost` example"
   ]
  },
  {
   "cell_type": "markdown",
   "metadata": {},
   "source": [
    "* for the purposes of demonstrating XGBoost we will use a modified version of the publicly available dataset called **\"Water Quality\"**\n",
    "\n",
    "* it can be found on Kaggle: https://www.kaggle.com/adityakadiwal/water-potability\n",
    "* we need to create a model that will predict whether some water sample is potable (safe to drink) or not"
   ]
  },
  {
   "cell_type": "code",
   "execution_count": 1,
   "metadata": {},
   "outputs": [],
   "source": [
    "# Import necessary libraries\n",
    "\n",
    "import pandas as pd\n",
    "from sklearn.model_selection import train_test_split\n",
    "import xgboost\n",
    "from xgboost import XGBClassifier\n",
    "from sklearn import metrics \n",
    "from sklearn.model_selection import KFold\n",
    "from sklearn.model_selection import cross_val_score\n",
    "from sklearn.model_selection import GridSearchCV"
   ]
  },
  {
   "cell_type": "code",
   "execution_count": 2,
   "metadata": {},
   "outputs": [],
   "source": [
    "# Load in our data and create a Dataframe\n",
    "\n",
    "df = pd.read_csv(\"https://edlitera-datasets.s3.amazonaws.com/water_safety.csv\")"
   ]
  },
  {
   "cell_type": "code",
   "execution_count": 4,
   "metadata": {},
   "outputs": [
    {
     "data": {
      "text/html": [
       "<div>\n",
       "<style scoped>\n",
       "    .dataframe tbody tr th:only-of-type {\n",
       "        vertical-align: middle;\n",
       "    }\n",
       "\n",
       "    .dataframe tbody tr th {\n",
       "        vertical-align: top;\n",
       "    }\n",
       "\n",
       "    .dataframe thead th {\n",
       "        text-align: right;\n",
       "    }\n",
       "</style>\n",
       "<table border=\"1\" class=\"dataframe\">\n",
       "  <thead>\n",
       "    <tr style=\"text-align: right;\">\n",
       "      <th></th>\n",
       "      <th>ph</th>\n",
       "      <th>Hardness</th>\n",
       "      <th>Solids</th>\n",
       "      <th>Chloramines</th>\n",
       "      <th>Sulfate</th>\n",
       "      <th>Conductivity</th>\n",
       "      <th>Organic_carbon</th>\n",
       "      <th>Trihalomethanes</th>\n",
       "      <th>Turbidity</th>\n",
       "      <th>Potability</th>\n",
       "    </tr>\n",
       "  </thead>\n",
       "  <tbody>\n",
       "    <tr>\n",
       "      <th>0</th>\n",
       "      <td>7.085378</td>\n",
       "      <td>204.890455</td>\n",
       "      <td>20791.318981</td>\n",
       "      <td>7.300212</td>\n",
       "      <td>368.516441</td>\n",
       "      <td>564.308654</td>\n",
       "      <td>10.379783</td>\n",
       "      <td>86.990970</td>\n",
       "      <td>2.963135</td>\n",
       "      <td>0</td>\n",
       "    </tr>\n",
       "    <tr>\n",
       "      <th>1</th>\n",
       "      <td>3.716080</td>\n",
       "      <td>129.422921</td>\n",
       "      <td>18630.057858</td>\n",
       "      <td>6.635246</td>\n",
       "      <td>334.564290</td>\n",
       "      <td>592.885359</td>\n",
       "      <td>15.180013</td>\n",
       "      <td>56.329076</td>\n",
       "      <td>4.500656</td>\n",
       "      <td>0</td>\n",
       "    </tr>\n",
       "    <tr>\n",
       "      <th>2</th>\n",
       "      <td>8.099124</td>\n",
       "      <td>224.236259</td>\n",
       "      <td>19909.541732</td>\n",
       "      <td>9.275884</td>\n",
       "      <td>334.564290</td>\n",
       "      <td>418.606213</td>\n",
       "      <td>16.868637</td>\n",
       "      <td>66.420093</td>\n",
       "      <td>3.055934</td>\n",
       "      <td>0</td>\n",
       "    </tr>\n",
       "    <tr>\n",
       "      <th>3</th>\n",
       "      <td>8.316766</td>\n",
       "      <td>214.373394</td>\n",
       "      <td>22018.417441</td>\n",
       "      <td>8.059332</td>\n",
       "      <td>356.886136</td>\n",
       "      <td>363.266516</td>\n",
       "      <td>18.436524</td>\n",
       "      <td>100.341674</td>\n",
       "      <td>4.628771</td>\n",
       "      <td>0</td>\n",
       "    </tr>\n",
       "    <tr>\n",
       "      <th>4</th>\n",
       "      <td>9.092223</td>\n",
       "      <td>181.101509</td>\n",
       "      <td>17978.986339</td>\n",
       "      <td>6.546600</td>\n",
       "      <td>310.135738</td>\n",
       "      <td>398.410813</td>\n",
       "      <td>11.558279</td>\n",
       "      <td>31.997993</td>\n",
       "      <td>4.075075</td>\n",
       "      <td>0</td>\n",
       "    </tr>\n",
       "  </tbody>\n",
       "</table>\n",
       "</div>"
      ],
      "text/plain": [
       "         ph    Hardness        Solids  Chloramines     Sulfate  Conductivity  \\\n",
       "0  7.085378  204.890455  20791.318981     7.300212  368.516441    564.308654   \n",
       "1  3.716080  129.422921  18630.057858     6.635246  334.564290    592.885359   \n",
       "2  8.099124  224.236259  19909.541732     9.275884  334.564290    418.606213   \n",
       "3  8.316766  214.373394  22018.417441     8.059332  356.886136    363.266516   \n",
       "4  9.092223  181.101509  17978.986339     6.546600  310.135738    398.410813   \n",
       "\n",
       "   Organic_carbon  Trihalomethanes  Turbidity  Potability  \n",
       "0       10.379783        86.990970   2.963135           0  \n",
       "1       15.180013        56.329076   4.500656           0  \n",
       "2       16.868637        66.420093   3.055934           0  \n",
       "3       18.436524       100.341674   4.628771           0  \n",
       "4       11.558279        31.997993   4.075075           0  "
      ]
     },
     "execution_count": 4,
     "metadata": {},
     "output_type": "execute_result"
    }
   ],
   "source": [
    "# Take a look at the first five rows of our Dataframe\n",
    "\n",
    "df.head()"
   ]
  },
  {
   "cell_type": "code",
   "execution_count": 5,
   "metadata": {},
   "outputs": [],
   "source": [
    "# Shuffle dataset\n",
    "\n",
    "df = df.sample(frac=1).reset_index(drop=True)"
   ]
  },
  {
   "cell_type": "code",
   "execution_count": 8,
   "metadata": {},
   "outputs": [],
   "source": [
    "# Select independent features\n",
    "\n",
    "X = df.drop(\"Potability\", axis=1)"
   ]
  },
  {
   "cell_type": "code",
   "execution_count": 9,
   "metadata": {},
   "outputs": [],
   "source": [
    "# Select dependent feature (target)\n",
    "\n",
    "y = df[\"Potability\"]"
   ]
  },
  {
   "cell_type": "code",
   "execution_count": 10,
   "metadata": {},
   "outputs": [
    {
     "data": {
      "text/html": [
       "<div>\n",
       "<style scoped>\n",
       "    .dataframe tbody tr th:only-of-type {\n",
       "        vertical-align: middle;\n",
       "    }\n",
       "\n",
       "    .dataframe tbody tr th {\n",
       "        vertical-align: top;\n",
       "    }\n",
       "\n",
       "    .dataframe thead th {\n",
       "        text-align: right;\n",
       "    }\n",
       "</style>\n",
       "<table border=\"1\" class=\"dataframe\">\n",
       "  <thead>\n",
       "    <tr style=\"text-align: right;\">\n",
       "      <th></th>\n",
       "      <th>ph</th>\n",
       "      <th>Hardness</th>\n",
       "      <th>Solids</th>\n",
       "      <th>Chloramines</th>\n",
       "      <th>Sulfate</th>\n",
       "      <th>Conductivity</th>\n",
       "      <th>Organic_carbon</th>\n",
       "      <th>Trihalomethanes</th>\n",
       "      <th>Turbidity</th>\n",
       "    </tr>\n",
       "  </thead>\n",
       "  <tbody>\n",
       "    <tr>\n",
       "      <th>0</th>\n",
       "      <td>7.333003</td>\n",
       "      <td>189.447965</td>\n",
       "      <td>32358.538595</td>\n",
       "      <td>6.346378</td>\n",
       "      <td>341.346443</td>\n",
       "      <td>490.625291</td>\n",
       "      <td>12.537466</td>\n",
       "      <td>61.581378</td>\n",
       "      <td>2.642004</td>\n",
       "    </tr>\n",
       "    <tr>\n",
       "      <th>1</th>\n",
       "      <td>5.455599</td>\n",
       "      <td>152.386735</td>\n",
       "      <td>37620.248469</td>\n",
       "      <td>5.783580</td>\n",
       "      <td>334.564290</td>\n",
       "      <td>343.417588</td>\n",
       "      <td>14.401654</td>\n",
       "      <td>41.109869</td>\n",
       "      <td>4.476349</td>\n",
       "    </tr>\n",
       "    <tr>\n",
       "      <th>2</th>\n",
       "      <td>7.610673</td>\n",
       "      <td>193.661870</td>\n",
       "      <td>20511.620832</td>\n",
       "      <td>6.654332</td>\n",
       "      <td>332.566990</td>\n",
       "      <td>394.595406</td>\n",
       "      <td>14.319384</td>\n",
       "      <td>39.497264</td>\n",
       "      <td>5.404818</td>\n",
       "    </tr>\n",
       "    <tr>\n",
       "      <th>3</th>\n",
       "      <td>8.170588</td>\n",
       "      <td>208.279181</td>\n",
       "      <td>12806.832327</td>\n",
       "      <td>5.489259</td>\n",
       "      <td>322.923998</td>\n",
       "      <td>472.028286</td>\n",
       "      <td>13.389549</td>\n",
       "      <td>28.566364</td>\n",
       "      <td>3.995857</td>\n",
       "    </tr>\n",
       "    <tr>\n",
       "      <th>4</th>\n",
       "      <td>8.114665</td>\n",
       "      <td>236.493275</td>\n",
       "      <td>26631.212874</td>\n",
       "      <td>6.266782</td>\n",
       "      <td>275.090870</td>\n",
       "      <td>496.989792</td>\n",
       "      <td>18.588534</td>\n",
       "      <td>58.313345</td>\n",
       "      <td>2.654594</td>\n",
       "    </tr>\n",
       "    <tr>\n",
       "      <th>...</th>\n",
       "      <td>...</td>\n",
       "      <td>...</td>\n",
       "      <td>...</td>\n",
       "      <td>...</td>\n",
       "      <td>...</td>\n",
       "      <td>...</td>\n",
       "      <td>...</td>\n",
       "      <td>...</td>\n",
       "      <td>...</td>\n",
       "    </tr>\n",
       "    <tr>\n",
       "      <th>3271</th>\n",
       "      <td>5.970036</td>\n",
       "      <td>230.449329</td>\n",
       "      <td>16324.115196</td>\n",
       "      <td>5.293919</td>\n",
       "      <td>315.186121</td>\n",
       "      <td>327.786642</td>\n",
       "      <td>13.325987</td>\n",
       "      <td>39.554249</td>\n",
       "      <td>5.428674</td>\n",
       "    </tr>\n",
       "    <tr>\n",
       "      <th>3272</th>\n",
       "      <td>8.558389</td>\n",
       "      <td>198.888868</td>\n",
       "      <td>8535.402956</td>\n",
       "      <td>4.796666</td>\n",
       "      <td>321.403477</td>\n",
       "      <td>453.571163</td>\n",
       "      <td>14.351624</td>\n",
       "      <td>74.326204</td>\n",
       "      <td>3.946228</td>\n",
       "    </tr>\n",
       "    <tr>\n",
       "      <th>3273</th>\n",
       "      <td>6.571099</td>\n",
       "      <td>207.741025</td>\n",
       "      <td>23372.882654</td>\n",
       "      <td>6.280195</td>\n",
       "      <td>313.846972</td>\n",
       "      <td>497.902320</td>\n",
       "      <td>12.874805</td>\n",
       "      <td>75.416710</td>\n",
       "      <td>4.555949</td>\n",
       "    </tr>\n",
       "    <tr>\n",
       "      <th>3274</th>\n",
       "      <td>7.689358</td>\n",
       "      <td>221.356885</td>\n",
       "      <td>30253.851103</td>\n",
       "      <td>6.269309</td>\n",
       "      <td>320.478106</td>\n",
       "      <td>529.746529</td>\n",
       "      <td>17.973277</td>\n",
       "      <td>84.696366</td>\n",
       "      <td>4.978556</td>\n",
       "    </tr>\n",
       "    <tr>\n",
       "      <th>3275</th>\n",
       "      <td>7.283914</td>\n",
       "      <td>197.602125</td>\n",
       "      <td>23112.504435</td>\n",
       "      <td>9.502809</td>\n",
       "      <td>332.331985</td>\n",
       "      <td>449.361679</td>\n",
       "      <td>14.458591</td>\n",
       "      <td>70.000219</td>\n",
       "      <td>3.571863</td>\n",
       "    </tr>\n",
       "  </tbody>\n",
       "</table>\n",
       "<p>3276 rows × 9 columns</p>\n",
       "</div>"
      ],
      "text/plain": [
       "            ph    Hardness        Solids  Chloramines     Sulfate  \\\n",
       "0     7.333003  189.447965  32358.538595     6.346378  341.346443   \n",
       "1     5.455599  152.386735  37620.248469     5.783580  334.564290   \n",
       "2     7.610673  193.661870  20511.620832     6.654332  332.566990   \n",
       "3     8.170588  208.279181  12806.832327     5.489259  322.923998   \n",
       "4     8.114665  236.493275  26631.212874     6.266782  275.090870   \n",
       "...        ...         ...           ...          ...         ...   \n",
       "3271  5.970036  230.449329  16324.115196     5.293919  315.186121   \n",
       "3272  8.558389  198.888868   8535.402956     4.796666  321.403477   \n",
       "3273  6.571099  207.741025  23372.882654     6.280195  313.846972   \n",
       "3274  7.689358  221.356885  30253.851103     6.269309  320.478106   \n",
       "3275  7.283914  197.602125  23112.504435     9.502809  332.331985   \n",
       "\n",
       "      Conductivity  Organic_carbon  Trihalomethanes  Turbidity  \n",
       "0       490.625291       12.537466        61.581378   2.642004  \n",
       "1       343.417588       14.401654        41.109869   4.476349  \n",
       "2       394.595406       14.319384        39.497264   5.404818  \n",
       "3       472.028286       13.389549        28.566364   3.995857  \n",
       "4       496.989792       18.588534        58.313345   2.654594  \n",
       "...            ...             ...              ...        ...  \n",
       "3271    327.786642       13.325987        39.554249   5.428674  \n",
       "3272    453.571163       14.351624        74.326204   3.946228  \n",
       "3273    497.902320       12.874805        75.416710   4.555949  \n",
       "3274    529.746529       17.973277        84.696366   4.978556  \n",
       "3275    449.361679       14.458591        70.000219   3.571863  \n",
       "\n",
       "[3276 rows x 9 columns]"
      ]
     },
     "execution_count": 10,
     "metadata": {},
     "output_type": "execute_result"
    }
   ],
   "source": [
    "# Let's take a look at our independent features\n",
    "\n",
    "X"
   ]
  },
  {
   "cell_type": "code",
   "execution_count": 11,
   "metadata": {},
   "outputs": [
    {
     "data": {
      "text/plain": [
       "0       0\n",
       "1       0\n",
       "2       1\n",
       "3       0\n",
       "4       0\n",
       "       ..\n",
       "3271    0\n",
       "3272    0\n",
       "3273    0\n",
       "3274    0\n",
       "3275    0\n",
       "Name: Potability, Length: 3276, dtype: int64"
      ]
     },
     "execution_count": 11,
     "metadata": {},
     "output_type": "execute_result"
    }
   ],
   "source": [
    "# Let's take a look at our dependent feature\n",
    "\n",
    "y "
   ]
  },
  {
   "cell_type": "code",
   "execution_count": 15,
   "metadata": {},
   "outputs": [],
   "source": [
    "# Separate data into training data and testing data\n",
    "\n",
    "X_train, X_test, y_train, y_test = train_test_split(\n",
    "    X, y, \n",
    "    test_size=0.3, \n",
    "    random_state=41\n",
    ")"
   ]
  },
  {
   "cell_type": "code",
   "execution_count": 16,
   "metadata": {},
   "outputs": [],
   "source": [
    "# Define a simple XGBoost classifier\n",
    "\n",
    "classifier = XGBClassifier()"
   ]
  },
  {
   "cell_type": "code",
   "execution_count": 17,
   "metadata": {},
   "outputs": [
    {
     "data": {
      "text/plain": [
       "XGBClassifier(base_score=0.5, booster=None, colsample_bylevel=1,\n",
       "              colsample_bynode=1, colsample_bytree=1, gamma=0, gpu_id=-1,\n",
       "              importance_type='gain', interaction_constraints=None,\n",
       "              learning_rate=0.300000012, max_delta_step=0, max_depth=6,\n",
       "              min_child_weight=1, missing=nan, monotone_constraints=None,\n",
       "              n_estimators=100, n_jobs=0, num_parallel_tree=1, random_state=0,\n",
       "              reg_alpha=0, reg_lambda=1, scale_pos_weight=1, subsample=1,\n",
       "              tree_method=None, validate_parameters=False, verbosity=None)"
      ]
     },
     "execution_count": 17,
     "metadata": {},
     "output_type": "execute_result"
    }
   ],
   "source": [
    "# Train the classifier\n",
    "\n",
    "classifier.fit(X_train, y_train)"
   ]
  },
  {
   "cell_type": "code",
   "execution_count": 18,
   "metadata": {},
   "outputs": [],
   "source": [
    "# Predict values from the test dataset\n",
    "# using the trained model\n",
    "\n",
    "y_pred = classifier.predict(X_test)"
   ]
  },
  {
   "cell_type": "code",
   "execution_count": 19,
   "metadata": {},
   "outputs": [
    {
     "name": "stdout",
     "output_type": "stream",
     "text": [
      "Accuracy: 0.7822990844354019\n"
     ]
    }
   ],
   "source": [
    "# Print model accuracy by comparing predictions with real values\n",
    "\n",
    "accuracy_score = metrics.accuracy_score(y_test, y_pred)\n",
    "\n",
    "print(\"Accuracy:\", accuracy_score)\n"
   ]
  },
  {
   "cell_type": "code",
   "execution_count": 20,
   "metadata": {},
   "outputs": [
    {
     "name": "stdout",
     "output_type": "stream",
     "text": [
      "[[526  82]\n",
      " [132 243]]\n"
     ]
    }
   ],
   "source": [
    "# As mentioned before, presicion by itself is not a good enough measure\n",
    "# for our model, so we will create a confusion matrix\n",
    "\n",
    "cm = metrics.confusion_matrix(y_test, y_pred)\n",
    "\n",
    "print(cm)"
   ]
  },
  {
   "cell_type": "code",
   "execution_count": 21,
   "metadata": {},
   "outputs": [
    {
     "data": {
      "text/plain": [
       "Text(0.5, 1.0, 'Accuracy Score: 0.7822990844354019')"
      ]
     },
     "execution_count": 21,
     "metadata": {},
     "output_type": "execute_result"
    },
    {
     "data": {
      "image/png": "[encoded data removed]",
      "text/plain": [
       "<Figure size 648x648 with 2 Axes>"
      ]
     },
     "metadata": {
      "needs_background": "light"
     },
     "output_type": "display_data"
    }
   ],
   "source": [
    "import matplotlib.pyplot as plt\n",
    "import seaborn as sns\n",
    "\n",
    "plt.figure(figsize=(9,9))\n",
    "sns.heatmap(cm, annot=True, fmt=\".3f\", linewidths=.5, square=True, cmap='Reds')\n",
    "plt.ylabel(\"True value\")\n",
    "plt.xlabel(\"Prediction\")\n",
    "all_sample_title = f\"Accuracy Score: {accuracy_score}\"\n",
    "plt.title(all_sample_title, size=20)"
   ]
  },
  {
   "cell_type": "code",
   "execution_count": 22,
   "metadata": {},
   "outputs": [
    {
     "name": "stdout",
     "output_type": "stream",
     "text": [
      "              precision    recall  f1-score   support\n",
      "\n",
      "           0       0.80      0.87      0.83       608\n",
      "           1       0.75      0.65      0.69       375\n",
      "\n",
      "    accuracy                           0.78       983\n",
      "   macro avg       0.77      0.76      0.76       983\n",
      "weighted avg       0.78      0.78      0.78       983\n",
      "\n"
     ]
    }
   ],
   "source": [
    "# Let's take a look at the classification report\n",
    "\n",
    "print(metrics.classification_report(y_test, y_pred, labels=[0, 1]))"
   ]
  },
  {
   "cell_type": "markdown",
   "metadata": {},
   "source": [
    "## Model tuning"
   ]
  },
  {
   "cell_type": "markdown",
   "metadata": {},
   "source": [
    "* we will try to find the best possible hyperparameters using a **grid search**"
   ]
  },
  {
   "cell_type": "code",
   "execution_count": 23,
   "metadata": {},
   "outputs": [],
   "source": [
    "# Define the parameters we want to check\n",
    "\n",
    "parameters = {\n",
    "    'max_depth': range (2, 10, 1),\n",
    "    'n_estimators': range(60, 220, 40),\n",
    "    'learning_rate': [0.1, 0.01, 0.05]\n",
    "}"
   ]
  },
  {
   "cell_type": "code",
   "execution_count": 24,
   "metadata": {},
   "outputs": [],
   "source": [
    "# Define the grid search \n",
    "\n",
    "grid_search = GridSearchCV(\n",
    "    estimator=classifier,\n",
    "    param_grid=parameters,\n",
    "    scoring='roc_auc',\n",
    "    n_jobs=10,\n",
    "    cv=5,\n",
    "    verbose=True\n",
    ")"
   ]
  },
  {
   "cell_type": "code",
   "execution_count": 25,
   "metadata": {},
   "outputs": [
    {
     "name": "stdout",
     "output_type": "stream",
     "text": [
      "Fitting 5 folds for each of 96 candidates, totalling 480 fits\n"
     ]
    },
    {
     "name": "stderr",
     "output_type": "stream",
     "text": [
      "[Parallel(n_jobs=10)]: Using backend LokyBackend with 10 concurrent workers.\n",
      "[Parallel(n_jobs=10)]: Done  30 tasks      | elapsed:    2.4s\n",
      "[Parallel(n_jobs=10)]: Done 180 tasks      | elapsed:   11.6s\n",
      "[Parallel(n_jobs=10)]: Done 430 tasks      | elapsed:   26.8s\n",
      "[Parallel(n_jobs=10)]: Done 480 out of 480 | elapsed:   31.3s finished\n"
     ]
    },
    {
     "data": {
      "text/plain": [
       "GridSearchCV(cv=5,\n",
       "             estimator=XGBClassifier(base_score=0.5, booster=None,\n",
       "                                     colsample_bylevel=1, colsample_bynode=1,\n",
       "                                     colsample_bytree=1, gamma=0, gpu_id=-1,\n",
       "                                     importance_type='gain',\n",
       "                                     interaction_constraints=None,\n",
       "                                     learning_rate=0.300000012,\n",
       "                                     max_delta_step=0, max_depth=6,\n",
       "                                     min_child_weight=1, missing=nan,\n",
       "                                     monotone_constraints=None,\n",
       "                                     n_estimators=100, n_jobs=0,\n",
       "                                     num_parallel_tree=1, random_state=0,\n",
       "                                     reg_alpha=0, reg_lambda=1,\n",
       "                                     scale_pos_weight=1, subsample=1,\n",
       "                                     tree_method=None,\n",
       "                                     validate_parameters=False,\n",
       "                                     verbosity=None),\n",
       "             n_jobs=10,\n",
       "             param_grid={'learning_rate': [0.1, 0.01, 0.05],\n",
       "                         'max_depth': range(2, 10),\n",
       "                         'n_estimators': range(60, 220, 40)},\n",
       "             scoring='roc_auc', verbose=True)"
      ]
     },
     "execution_count": 25,
     "metadata": {},
     "output_type": "execute_result"
    }
   ],
   "source": [
    "# Perform the grid search \n",
    "\n",
    "grid_search.fit(X, y)"
   ]
  },
  {
   "cell_type": "code",
   "execution_count": 26,
   "metadata": {},
   "outputs": [
    {
     "data": {
      "text/plain": [
       "XGBClassifier(base_score=0.5, booster=None, colsample_bylevel=1,\n",
       "              colsample_bynode=1, colsample_bytree=1, gamma=0, gpu_id=-1,\n",
       "              importance_type='gain', interaction_constraints=None,\n",
       "              learning_rate=0.05, max_delta_step=0, max_depth=7,\n",
       "              min_child_weight=1, missing=nan, monotone_constraints=None,\n",
       "              n_estimators=100, n_jobs=0, num_parallel_tree=1, random_state=0,\n",
       "              reg_alpha=0, reg_lambda=1, scale_pos_weight=1, subsample=1,\n",
       "              tree_method=None, validate_parameters=False, verbosity=None)"
      ]
     },
     "execution_count": 26,
     "metadata": {},
     "output_type": "execute_result"
    }
   ],
   "source": [
    "# Take a look at the optimized model\n",
    "\n",
    "grid_search.best_estimator_"
   ]
  },
  {
   "cell_type": "code",
   "execution_count": 27,
   "metadata": {},
   "outputs": [
    {
     "data": {
      "text/plain": [
       "XGBClassifier(base_score=0.5, booster=None, colsample_bylevel=1,\n",
       "              colsample_bynode=1, colsample_bytree=1, gamma=0, gpu_id=-1,\n",
       "              importance_type='gain', interaction_constraints=None,\n",
       "              learning_rate=0.05, max_delta_step=0, max_depth=7,\n",
       "              min_child_weight=1, missing=nan, monotone_constraints=None,\n",
       "              n_estimators=100, n_jobs=0, num_parallel_tree=1, random_state=0,\n",
       "              reg_alpha=0, reg_lambda=1, scale_pos_weight=1, subsample=1,\n",
       "              tree_method=None, validate_parameters=False, verbosity=None)"
      ]
     },
     "execution_count": 27,
     "metadata": {},
     "output_type": "execute_result"
    }
   ],
   "source": [
    "# Define the optimized classifier \n",
    "\n",
    "optimized_classifier = grid_search.best_estimator_\n",
    "\n",
    "# Train the optimized classifier\n",
    "\n",
    "optimized_classifier.fit(X_train, y_train)"
   ]
  },
  {
   "cell_type": "code",
   "execution_count": 28,
   "metadata": {},
   "outputs": [],
   "source": [
    "# Predict values from the test dataset\n",
    "# using the trained model\n",
    "\n",
    "y_pred = optimized_classifier.predict(X_test)"
   ]
  },
  {
   "cell_type": "code",
   "execution_count": 29,
   "metadata": {},
   "outputs": [
    {
     "name": "stdout",
     "output_type": "stream",
     "text": [
      "Accuracy: 0.7772126144455748\n"
     ]
    }
   ],
   "source": [
    "# Print model accuracy by comparing predictions with real values\n",
    "\n",
    "accuracy_score = metrics.accuracy_score(y_test, y_pred)\n",
    "\n",
    "print(\"Accuracy:\", accuracy_score)"
   ]
  },
  {
   "cell_type": "code",
   "execution_count": 30,
   "metadata": {},
   "outputs": [
    {
     "name": "stdout",
     "output_type": "stream",
     "text": [
      "              precision    recall  f1-score   support\n",
      "\n",
      "           0       0.79      0.88      0.83       608\n",
      "           1       0.75      0.62      0.68       375\n",
      "\n",
      "    accuracy                           0.78       983\n",
      "   macro avg       0.77      0.75      0.75       983\n",
      "weighted avg       0.77      0.78      0.77       983\n",
      "\n"
     ]
    }
   ],
   "source": [
    "# Let's take a look at the classification report\n",
    "\n",
    "print(metrics.classification_report(y_test, y_pred, labels=[0, 1]))"
   ]
  },
  {
   "cell_type": "markdown",
   "metadata": {},
   "source": [
    "# `XGBoost` take-home exercise"
   ]
  },
  {
   "cell_type": "markdown",
   "metadata": {},
   "source": [
    "**The dataset you will be working with in this exercise, available here `https://edlitera-datasets.s3.amazonaws.com/hotel_booking_data.csv`, is a modified version of the `Hotel Booking` dataset. It contains information about hotel guests and their stays.**\n",
    "\n",
    "<br>\n",
    "\n",
    "**Create an `XGBoost` model that will predict whether a potential guest is going to cancel their reservation or not (the dependent feature is `canceled`). You will need to use the available 24 independent features.**\n",
    "\n",
    "<br>\n",
    "\n",
    "**You will also need to calculate the `accuracy`, create a `confusion matrix` and create a `classification report` in order to evaluate your classification model.**"
   ]
  },
  {
   "cell_type": "markdown",
   "metadata": {},
   "source": [
    "## `Solution` "
   ]
  },
  {
   "cell_type": "markdown",
   "metadata": {},
   "source": [
    " <div>\n",
    "<img src=\"https://edlitera-images.s3.amazonaws.com/new_edlitera_logo.png\" width=\"500\"/>\n",
    "</div>"
   ]
  }
 ],
 "metadata": {
  "celltoolbar": "Slideshow",
  "kernelspec": {
   "display_name": "Python 3 (ipykernel)",
   "language": "python",
   "name": "python3"
  },
  "language_info": {
   "codemirror_mode": {
    "name": "ipython",
    "version": 3
   },
   "file_extension": ".py",
   "mimetype": "text/x-python",
   "name": "python",
   "nbconvert_exporter": "python",
   "pygments_lexer": "ipython3",
   "version": "3.9.7"
  }
 },
 "nbformat": 4,
 "nbformat_minor": 4
}
