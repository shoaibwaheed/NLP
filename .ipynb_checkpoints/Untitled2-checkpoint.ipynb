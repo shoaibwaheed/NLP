{
 "cells": [
  {
   "cell_type": "code",
   "execution_count": 1,
   "id": "425f6794",
   "metadata": {},
   "outputs": [],
   "source": [
    "import nltk\n",
    "from nltk import pos_tag\n",
    "from nltk import pos_tag_sents"
   ]
  },
  {
   "cell_type": "code",
   "execution_count": 2,
   "id": "e0d6600d",
   "metadata": {},
   "outputs": [],
   "source": [
    "words = ['Life', 'is', 'what', 'happens', 'when', 'you', 'are', 'busy', 'making', 'other', 'plans']\n",
    "sents = [[\"He\", \"is\", \"a\", \"baker\"], [\"She\", \"sells\", \"dog\", \"food\"]]"
   ]
  },
  {
   "cell_type": "code",
   "execution_count": 3,
   "id": "ccf60c2e",
   "metadata": {},
   "outputs": [],
   "source": [
    "tagged_words = pos_tag(words)\n",
    "tagged_sentences = pos_tag_sents(sents)"
   ]
  },
  {
   "cell_type": "code",
   "execution_count": 4,
   "id": "2152af84",
   "metadata": {},
   "outputs": [
    {
     "data": {
      "text/plain": [
       "[[('He', 'PRP'), ('is', 'VBZ'), ('a', 'DT'), ('baker', 'NN')],\n",
       " [('She', 'PRP'), ('sells', 'VBZ'), ('dog', 'NN'), ('food', 'NN')]]"
      ]
     },
     "execution_count": 4,
     "metadata": {},
     "output_type": "execute_result"
    }
   ],
   "source": [
    "tagged_sentences"
   ]
  },
  {
   "cell_type": "code",
   "execution_count": 5,
   "id": "79e5790b",
   "metadata": {},
   "outputs": [],
   "source": [
    "from nltk.stem import WordNetLemmatizer"
   ]
  },
  {
   "cell_type": "code",
   "execution_count": 6,
   "id": "4df80571",
   "metadata": {},
   "outputs": [],
   "source": [
    "from nltk.corpus import wordnet"
   ]
  },
  {
   "cell_type": "code",
   "execution_count": 7,
   "id": "45f70052",
   "metadata": {},
   "outputs": [],
   "source": [
    "lemmatizer =  WordNetLemmatizer()"
   ]
  },
  {
   "cell_type": "code",
   "execution_count": 8,
   "id": "4afcc60a",
   "metadata": {},
   "outputs": [],
   "source": [
    "text = ['Life', 'is', 'what', 'happens', 'when', 'you', 'are', 'busy', 'making', 'other', 'plans']"
   ]
  },
  {
   "cell_type": "code",
   "execution_count": 9,
   "id": "a10f5074",
   "metadata": {},
   "outputs": [],
   "source": [
    "tagged_text = nltk.pos_tag(text)"
   ]
  },
  {
   "cell_type": "code",
   "execution_count": 10,
   "id": "fedaec63",
   "metadata": {},
   "outputs": [
    {
     "data": {
      "text/plain": [
       "'n'"
      ]
     },
     "execution_count": 10,
     "metadata": {},
     "output_type": "execute_result"
    }
   ],
   "source": [
    "wordnet.NOUN"
   ]
  },
  {
   "cell_type": "code",
   "execution_count": 11,
   "id": "0d0278f0",
   "metadata": {},
   "outputs": [
    {
     "name": "stdout",
     "output_type": "stream",
     "text": [
      "[('killer', 'NN')]\n"
     ]
    }
   ],
   "source": [
    "word = ['killer']\n",
    "tag_text = nltk.pos_tag(word)\n",
    "print(tag_text)"
   ]
  },
  {
   "cell_type": "code",
   "execution_count": 12,
   "id": "782bab4c",
   "metadata": {},
   "outputs": [],
   "source": [
    "def convert_pos_tags(tag):\n",
    "\n",
    "    if tag.startswith('J'):\n",
    "        return wordnet.ADJ\n",
    "    elif tag.startswith('V'):\n",
    "        return wordnet.VERB\n",
    "    elif tag.startswith('N'):\n",
    "        return wordnet.NOUN\n",
    "    elif tag.startswith('R'):\n",
    "        return wordnet.ADV\n",
    "    else:\n",
    "        return None  "
   ]
  },
  {
   "cell_type": "code",
   "execution_count": 13,
   "id": "f6434e35",
   "metadata": {},
   "outputs": [
    {
     "name": "stdout",
     "output_type": "stream",
     "text": [
      "[('killer', 'n')]\n"
     ]
    }
   ],
   "source": [
    "for word,txt in tag_text:\n",
    "    wordnet_tag = convert_pos_tags(txt)\n",
    "    print([(word,wordnet_tag)])"
   ]
  },
  {
   "cell_type": "code",
   "execution_count": 14,
   "id": "f75c7627",
   "metadata": {},
   "outputs": [
    {
     "data": {
      "text/plain": [
       "'killer'"
      ]
     },
     "execution_count": 14,
     "metadata": {},
     "output_type": "execute_result"
    }
   ],
   "source": [
    "lemmatizer.lemmatize(word, pos=wordnet_tag)"
   ]
  },
  {
   "cell_type": "code",
   "execution_count": 15,
   "id": "a301ea6b",
   "metadata": {},
   "outputs": [],
   "source": [
    "from nltk.tokenize import word_tokenize"
   ]
  },
  {
   "cell_type": "code",
   "execution_count": 16,
   "id": "31a8a41e",
   "metadata": {},
   "outputs": [],
   "source": [
    "text = \"The dog sits on the porch.\""
   ]
  },
  {
   "cell_type": "code",
   "execution_count": 17,
   "id": "23574ee7",
   "metadata": {},
   "outputs": [],
   "source": [
    "tokenized_text = word_tokenize(text)"
   ]
  },
  {
   "cell_type": "code",
   "execution_count": 18,
   "id": "240a3618",
   "metadata": {},
   "outputs": [
    {
     "name": "stdout",
     "output_type": "stream",
     "text": [
      "['The', 'dog', 'sits', 'on', 'the', 'porch', '.']\n"
     ]
    }
   ],
   "source": [
    "print(tokenized_text)"
   ]
  },
  {
   "cell_type": "code",
   "execution_count": 19,
   "id": "1c9a8f7b",
   "metadata": {},
   "outputs": [],
   "source": [
    "from nltk.tokenize import RegexpTokenizer"
   ]
  },
  {
   "cell_type": "code",
   "execution_count": 21,
   "id": "c3a2b77f",
   "metadata": {},
   "outputs": [],
   "source": [
    "tokenizer = RegexpTokenizer(\"[\\w']+\")"
   ]
  },
  {
   "cell_type": "code",
   "execution_count": 23,
   "id": "e8eb5fcf",
   "metadata": {},
   "outputs": [
    {
     "name": "stdout",
     "output_type": "stream",
     "text": [
      "['The', 'dog', 'sits', 'on', 'the', 'porch']\n"
     ]
    }
   ],
   "source": [
    "print(tokenizer.tokenize(text))"
   ]
  },
  {
   "cell_type": "code",
   "execution_count": 25,
   "id": "697471e9",
   "metadata": {},
   "outputs": [],
   "source": [
    "from nltk.tokenize import ToktokTokenizer"
   ]
  },
  {
   "cell_type": "code",
   "execution_count": null,
   "id": "82bfa894",
   "metadata": {},
   "outputs": [],
   "source": [
    "text = \"Do not go where the path may lead, go instead where there is no path and leave a trail.\""
   ]
  },
  {
   "cell_type": "code",
   "execution_count": 30,
   "id": "0ac4688d",
   "metadata": {},
   "outputs": [
    {
     "data": {
      "text/plain": [
       "['The', 'dog', 'sits', 'on', 'the', 'porch', '.']"
      ]
     },
     "execution_count": 30,
     "metadata": {},
     "output_type": "execute_result"
    }
   ],
   "source": [
    "tok_tok_tokenizer = ToktokTokenizer()\n",
    "tok_tok_tokenizer.tokenize(text)"
   ]
  },
  {
   "cell_type": "code",
   "execution_count": 31,
   "id": "650b2c2d",
   "metadata": {},
   "outputs": [],
   "source": [
    "from nltk.corpus import stopwords\n",
    "from nltk.tokenize import word_tokenize"
   ]
  },
  {
   "cell_type": "code",
   "execution_count": 32,
   "id": "1e833e7b",
   "metadata": {},
   "outputs": [],
   "source": [
    "stops_words = stopwords.words(\"english\")"
   ]
  },
  {
   "cell_type": "code",
   "execution_count": 33,
   "id": "15b0b74d",
   "metadata": {},
   "outputs": [
    {
     "name": "stdout",
     "output_type": "stream",
     "text": [
      "['i', 'me', 'my', 'myself', 'we', 'our', 'ours', 'ourselves', 'you', \"you're\", \"you've\", \"you'll\", \"you'd\", 'your', 'yours', 'yourself', 'yourselves', 'he', 'him', 'his', 'himself', 'she', \"she's\", 'her', 'hers', 'herself', 'it', \"it's\", 'its', 'itself', 'they', 'them', 'their', 'theirs', 'themselves', 'what', 'which', 'who', 'whom', 'this', 'that', \"that'll\", 'these', 'those', 'am', 'is', 'are', 'was', 'were', 'be', 'been', 'being', 'have', 'has', 'had', 'having', 'do', 'does', 'did', 'doing', 'a', 'an', 'the', 'and', 'but', 'if', 'or', 'because', 'as', 'until', 'while', 'of', 'at', 'by', 'for', 'with', 'about', 'against', 'between', 'into', 'through', 'during', 'before', 'after', 'above', 'below', 'to', 'from', 'up', 'down', 'in', 'out', 'on', 'off', 'over', 'under', 'again', 'further', 'then', 'once', 'here', 'there', 'when', 'where', 'why', 'how', 'all', 'any', 'both', 'each', 'few', 'more', 'most', 'other', 'some', 'such', 'no', 'nor', 'not', 'only', 'own', 'same', 'so', 'than', 'too', 'very', 's', 't', 'can', 'will', 'just', 'don', \"don't\", 'should', \"should've\", 'now', 'd', 'll', 'm', 'o', 're', 've', 'y', 'ain', 'aren', \"aren't\", 'couldn', \"couldn't\", 'didn', \"didn't\", 'doesn', \"doesn't\", 'hadn', \"hadn't\", 'hasn', \"hasn't\", 'haven', \"haven't\", 'isn', \"isn't\", 'ma', 'mightn', \"mightn't\", 'mustn', \"mustn't\", 'needn', \"needn't\", 'shan', \"shan't\", 'shouldn', \"shouldn't\", 'wasn', \"wasn't\", 'weren', \"weren't\", 'won', \"won't\", 'wouldn', \"wouldn't\"]\n"
     ]
    }
   ],
   "source": [
    "print(stops_words)"
   ]
  },
  {
   "cell_type": "code",
   "execution_count": 35,
   "id": "734216b5",
   "metadata": {},
   "outputs": [],
   "source": [
    "tokenized_text = word_tokenize(text.lower())"
   ]
  },
  {
   "cell_type": "code",
   "execution_count": 36,
   "id": "bf6ee7bc",
   "metadata": {},
   "outputs": [],
   "source": [
    "from nltk.tokenize import sent_tokenize"
   ]
  },
  {
   "cell_type": "code",
   "execution_count": 37,
   "id": "c7f1ca6b",
   "metadata": {},
   "outputs": [],
   "source": [
    "text = \"\"\"Machine Learning can usually be divided into classic Machine Learning and Deep Learning. \n",
    "Classic Machine Learning is relatively easy to understand. Deep Learning on the other hand is a bit more complex.\"\"\""
   ]
  },
  {
   "cell_type": "code",
   "execution_count": 38,
   "id": "30bcf707",
   "metadata": {},
   "outputs": [],
   "source": [
    "tokenized_text = sent_tokenize(text)"
   ]
  },
  {
   "cell_type": "code",
   "execution_count": 39,
   "id": "170b08d1",
   "metadata": {},
   "outputs": [
    {
     "name": "stdout",
     "output_type": "stream",
     "text": [
      "['Machine Learning can usually be divided into classic Machine Learning and Deep Learning.', 'Classic Machine Learning is relatively easy to understand.', 'Deep Learning on the other hand is a bit more complex.']\n"
     ]
    }
   ],
   "source": [
    "print(tokenized_text)"
   ]
  },
  {
   "cell_type": "code",
   "execution_count": 40,
   "id": "023a9754",
   "metadata": {},
   "outputs": [],
   "source": [
    "from nltk import ngrams"
   ]
  },
  {
   "cell_type": "code",
   "execution_count": 62,
   "id": "8f876d9b",
   "metadata": {},
   "outputs": [
    {
     "name": "stdout",
     "output_type": "stream",
     "text": [
      "[[('Machine', 'Learning', 'can'), ('Learning', 'can', 'usually'), ('can', 'usually', 'be'), ('usually', 'be', 'divided'), ('be', 'divided', 'into'), ('divided', 'into', 'classic'), ('into', 'classic', 'Machine'), ('classic', 'Machine', 'Learning'), ('Machine', 'Learning', 'and'), ('Learning', 'and', 'Deep'), ('and', 'Deep', 'Learning'), ('Deep', 'Learning', '.')]]\n",
      "[[('Machine', 'Learning', 'can'), ('Learning', 'can', 'usually'), ('can', 'usually', 'be'), ('usually', 'be', 'divided'), ('be', 'divided', 'into'), ('divided', 'into', 'classic'), ('into', 'classic', 'Machine'), ('classic', 'Machine', 'Learning'), ('Machine', 'Learning', 'and'), ('Learning', 'and', 'Deep'), ('and', 'Deep', 'Learning'), ('Deep', 'Learning', '.')], [('Classic', 'Machine', 'Learning'), ('Machine', 'Learning', 'is'), ('Learning', 'is', 'relatively'), ('is', 'relatively', 'easy'), ('relatively', 'easy', 'to'), ('easy', 'to', 'understand'), ('to', 'understand', '.')]]\n",
      "[[('Machine', 'Learning', 'can'), ('Learning', 'can', 'usually'), ('can', 'usually', 'be'), ('usually', 'be', 'divided'), ('be', 'divided', 'into'), ('divided', 'into', 'classic'), ('into', 'classic', 'Machine'), ('classic', 'Machine', 'Learning'), ('Machine', 'Learning', 'and'), ('Learning', 'and', 'Deep'), ('and', 'Deep', 'Learning'), ('Deep', 'Learning', '.')], [('Classic', 'Machine', 'Learning'), ('Machine', 'Learning', 'is'), ('Learning', 'is', 'relatively'), ('is', 'relatively', 'easy'), ('relatively', 'easy', 'to'), ('easy', 'to', 'understand'), ('to', 'understand', '.')], [('Deep', 'Learning', 'on'), ('Learning', 'on', 'the'), ('on', 'the', 'other'), ('the', 'other', 'hand'), ('other', 'hand', 'is'), ('hand', 'is', 'a'), ('is', 'a', 'bit'), ('a', 'bit', 'more'), ('bit', 'more', 'complex'), ('more', 'complex', '.')]]\n"
     ]
    }
   ],
   "source": [
    "trigram_list = []\n",
    "for sentence in tokenized_text:\n",
    "    t1 = tok_tok_tokenizer.tokenize(sentence)\n",
    "    trigram = ngrams(t1,n)\n",
    "    trigram_list.append(list(trigram))\n",
    "    print(trigram_list)\n",
    "    \n",
    "    "
   ]
  },
  {
   "cell_type": "code",
   "execution_count": 53,
   "id": "560c7cf5",
   "metadata": {},
   "outputs": [],
   "source": [
    "n = 3\n",
    "example_sentence = [\"Deep\", \"Learning\", \"on\", \"the\", \"other\", \"hand\", \"is\", \"a\", \"bit\", \"more\", \"complex\"]\n",
    "trigram = ngrams(example_sentence,n)"
   ]
  },
  {
   "cell_type": "code",
   "execution_count": 54,
   "id": "a31fd0eb",
   "metadata": {},
   "outputs": [],
   "source": [
    "list_is = []\n",
    "for phrazes in trigram:\n",
    "    list_is.append(phrazes)"
   ]
  },
  {
   "cell_type": "code",
   "execution_count": 55,
   "id": "c45f8f84",
   "metadata": {},
   "outputs": [
    {
     "name": "stdout",
     "output_type": "stream",
     "text": [
      "[('Deep', 'Learning', 'on'), ('Learning', 'on', 'the'), ('on', 'the', 'other'), ('the', 'other', 'hand'), ('other', 'hand', 'is'), ('hand', 'is', 'a'), ('is', 'a', 'bit'), ('a', 'bit', 'more'), ('bit', 'more', 'complex')]\n"
     ]
    }
   ],
   "source": [
    "print(list_is)"
   ]
  },
  {
   "cell_type": "code",
   "execution_count": 60,
   "id": "4a89e09d",
   "metadata": {},
   "outputs": [],
   "source": [
    "from sklearn.feature_extraction.text import CountVectorizer\n",
    "import pandas as pd"
   ]
  },
  {
   "cell_type": "code",
   "execution_count": 63,
   "id": "60919f85",
   "metadata": {},
   "outputs": [],
   "source": [
    "count = CountVectorizer()"
   ]
  },
  {
   "cell_type": "code",
   "execution_count": 79,
   "id": "efd48919",
   "metadata": {},
   "outputs": [
    {
     "name": "stdout",
     "output_type": "stream",
     "text": [
      "  (0, 1)\t1\n",
      "  (1, 0)\t1\n",
      "  (2, 2)\t1\n",
      "['can', 'learning', 'usually']\n",
      "[[0 1 0]\n",
      " [1 0 0]\n",
      " [0 0 1]]\n"
     ]
    },
    {
     "data": {
      "text/html": [
       "<div>\n",
       "<style scoped>\n",
       "    .dataframe tbody tr th:only-of-type {\n",
       "        vertical-align: middle;\n",
       "    }\n",
       "\n",
       "    .dataframe tbody tr th {\n",
       "        vertical-align: top;\n",
       "    }\n",
       "\n",
       "    .dataframe thead th {\n",
       "        text-align: right;\n",
       "    }\n",
       "</style>\n",
       "<table border=\"1\" class=\"dataframe\">\n",
       "  <thead>\n",
       "    <tr style=\"text-align: right;\">\n",
       "      <th></th>\n",
       "      <th>Machine</th>\n",
       "      <th>Learning</th>\n",
       "      <th>can</th>\n",
       "    </tr>\n",
       "  </thead>\n",
       "  <tbody>\n",
       "    <tr>\n",
       "      <th>can</th>\n",
       "      <td>0</td>\n",
       "      <td>1</td>\n",
       "      <td>0</td>\n",
       "    </tr>\n",
       "    <tr>\n",
       "      <th>learning</th>\n",
       "      <td>1</td>\n",
       "      <td>0</td>\n",
       "      <td>0</td>\n",
       "    </tr>\n",
       "    <tr>\n",
       "      <th>usually</th>\n",
       "      <td>0</td>\n",
       "      <td>0</td>\n",
       "      <td>1</td>\n",
       "    </tr>\n",
       "  </tbody>\n",
       "</table>\n",
       "</div>"
      ],
      "text/plain": [
       "          Machine  Learning  can\n",
       "can             0         1    0\n",
       "learning        1         0    0\n",
       "usually         0         0    1"
      ]
     },
     "execution_count": 79,
     "metadata": {},
     "output_type": "execute_result"
    }
   ],
   "source": [
    "features = count.fit_transform(trigram_list[0][1])\n",
    "print(features)\n",
    "dense_features = features.todense()\n",
    "column_names = count.get_feature_names()\n",
    "index = trigram_list[0][0]\n",
    "print(column_names)\n",
    "print(dense_features)\n",
    "\n",
    "pd.DataFrame(\n",
    "    dense_features,\n",
    "    column_names,\n",
    "    index\n",
    ")"
   ]
  },
  {
   "cell_type": "code",
   "execution_count": 80,
   "id": "06759376",
   "metadata": {},
   "outputs": [],
   "source": [
    "from sklearn.datasets import make_blobs"
   ]
  },
  {
   "cell_type": "code",
   "execution_count": 81,
   "id": "7aa0eb72",
   "metadata": {},
   "outputs": [],
   "source": [
    "import matplotlib.pyplot as plt"
   ]
  },
  {
   "cell_type": "code",
   "execution_count": 173,
   "id": "520734a3",
   "metadata": {},
   "outputs": [],
   "source": [
    "X,y = make_blobs(\n",
    "    n_samples = 500,\n",
    "    centers = 10,\n",
    "    random_state = 0,\n",
    "    cluster_std = 0.60)"
   ]
  },
  {
   "cell_type": "code",
   "execution_count": 174,
   "id": "3d9c27c8",
   "metadata": {},
   "outputs": [
    {
     "data": {
      "image/png": "[encoded data removed]",
      "text/plain": [
       "<Figure size 432x288 with 1 Axes>"
      ]
     },
     "metadata": {
      "needs_background": "light"
     },
     "output_type": "display_data"
    }
   ],
   "source": [
    "plt.scatter(X[:,0],X[:,1], c = y,s=50,cmap='autumn')\n",
    "plt.show()"
   ]
  },
  {
   "cell_type": "code",
   "execution_count": 175,
   "id": "9e5dcc49",
   "metadata": {},
   "outputs": [
    {
     "data": {
      "text/plain": [
       "array([[-8.26185169e+00, -8.00383683e+00],\n",
       "       [-1.67107594e+00,  8.40141645e+00],\n",
       "       [-2.31082012e+00,  3.91276067e+00],\n",
       "       [ 9.47659769e+00, -1.11854349e+00],\n",
       "       [-1.25766504e+00,  7.93201692e+00],\n",
       "       [-1.35928798e+00,  7.35087092e+00],\n",
       "       [-8.88249383e+00, -8.74688893e+00],\n",
       "       [ 1.66909648e+00, -4.36378231e-01],\n",
       "       [ 5.16837936e+00,  7.98157255e+00],\n",
       "       [-1.11064012e+00,  2.82213820e+00],\n",
       "       [ 5.39707397e+00,  6.95832835e-01],\n",
       "       [ 9.48511800e-01,  8.44144804e+00],\n",
       "       [ 2.24592863e-01,  4.77028154e+00],\n",
       "       [ 9.37938410e-01,  8.91991767e+00],\n",
       "       [ 1.08272576e+00,  4.06271877e+00],\n",
       "       [ 7.67522789e-01,  4.39759671e+00],\n",
       "       [ 1.26572308e+00,  6.20712897e-01],\n",
       "       [ 1.13580295e+00,  7.77621505e+00],\n",
       "       [ 1.61152972e+00,  1.82347242e+00],\n",
       "       [ 5.74117492e+00,  7.89823466e+00],\n",
       "       [ 5.47698731e+00,  7.17102770e+00],\n",
       "       [ 1.36678633e+00,  6.34971633e-01],\n",
       "       [ 9.79463330e+00, -2.16504648e+00],\n",
       "       [-8.11566193e+00, -9.25437298e+00],\n",
       "       [ 6.04735538e+00,  9.48030328e-01],\n",
       "       [ 3.48515439e+00,  1.46435135e+00],\n",
       "       [ 9.06478482e+00, -2.67993071e+00],\n",
       "       [ 8.97156519e+00, -8.83697416e-01],\n",
       "       [ 7.90008319e+00, -2.18027897e+00],\n",
       "       [ 2.52706430e+00,  6.17812202e-01],\n",
       "       [ 9.73609878e+00, -1.71350633e+00],\n",
       "       [-1.21855879e+00,  8.13176208e+00],\n",
       "       [ 1.59331788e+00,  1.22121317e+00],\n",
       "       [ 1.68353782e+00,  4.19583243e+00],\n",
       "       [ 5.77482498e+00,  7.30857831e+00],\n",
       "       [ 4.59453280e-01,  7.44533259e+00],\n",
       "       [ 1.47967160e+00,  9.16109390e+00],\n",
       "       [ 2.11993792e+00,  8.63883097e+00],\n",
       "       [-2.22061347e+00,  3.38660112e+00],\n",
       "       [ 1.99619601e+00,  4.99576688e-01],\n",
       "       [-9.74043473e+00,  6.12548271e+00],\n",
       "       [-1.01071836e+01,  6.66617276e+00],\n",
       "       [-9.01142876e-01,  8.04525269e+00],\n",
       "       [ 4.99092301e+00,  2.23863808e-01],\n",
       "       [-9.11771939e+00, -7.46993179e+00],\n",
       "       [ 1.58361793e-01,  8.73805868e+00],\n",
       "       [-8.21212252e+00, -9.06231204e+00],\n",
       "       [-7.68566526e+00, -7.94463176e+00],\n",
       "       [ 5.44409568e+00,  7.45675835e+00],\n",
       "       [-2.30179012e+00,  8.10602069e+00],\n",
       "       [-7.59543881e-01,  7.87081537e+00],\n",
       "       [-1.12707416e+00,  2.64145039e+00],\n",
       "       [ 9.22169675e+00, -2.21459386e+00],\n",
       "       [-1.88529365e+00,  2.77512922e+00],\n",
       "       [ 2.13003529e+00,  5.19209620e+00],\n",
       "       [ 1.48859977e+00,  6.51633844e-01],\n",
       "       [-1.60744814e+00,  7.16592182e+00],\n",
       "       [-1.60663236e+00,  2.73920773e+00],\n",
       "       [ 4.82576983e+00,  4.45155802e-02],\n",
       "       [-8.97736909e+00,  5.42400274e+00],\n",
       "       [ 5.50191499e+00,  2.95515800e-01],\n",
       "       [ 1.55118760e+00,  8.82395713e+00],\n",
       "       [-1.01066696e+01,  7.74603107e+00],\n",
       "       [-4.29536666e-01,  7.42179050e+00],\n",
       "       [ 2.60778282e+00,  1.08890025e+00],\n",
       "       [ 2.03169783e+00,  1.96807561e-01],\n",
       "       [ 9.50289467e+00, -2.35171499e+00],\n",
       "       [-1.76657343e+00,  3.13991579e+00],\n",
       "       [ 2.22322228e+00,  8.38773426e-01],\n",
       "       [ 8.87812343e+00, -2.63971000e+00],\n",
       "       [ 8.66243008e+00, -2.37788248e+00],\n",
       "       [-2.35409750e+00,  7.54867561e+00],\n",
       "       [ 9.59360742e-01,  4.56078645e+00],\n",
       "       [ 5.70093735e+00,  3.00508642e-02],\n",
       "       [-1.83956222e+00,  6.95235901e+00],\n",
       "       [ 8.69059247e+00, -2.14227930e+00],\n",
       "       [-1.11453100e+01,  5.96002669e+00],\n",
       "       [ 2.33812285e+00,  3.43116792e+00],\n",
       "       [-1.94266893e+00,  7.64808466e+00],\n",
       "       [-9.01211058e+00,  7.93271786e+00],\n",
       "       [-1.00529008e+01,  6.11972883e+00],\n",
       "       [ 5.42768529e+00,  1.35660587e+00],\n",
       "       [-9.80440916e+00,  5.84036360e+00],\n",
       "       [ 9.55113341e+00, -2.16371216e+00],\n",
       "       [-1.01095616e+01,  5.72744447e+00],\n",
       "       [ 2.73124907e+00,  2.49704755e-01],\n",
       "       [ 1.86922139e+00,  5.44132083e+00],\n",
       "       [ 6.39998163e+00,  4.17341547e-01],\n",
       "       [ 9.76620664e+00, -2.32799404e+00],\n",
       "       [ 6.77157111e+00,  7.21618350e+00],\n",
       "       [ 5.72793810e-01,  4.08805543e+00],\n",
       "       [ 2.23421043e+00,  1.69349520e+00],\n",
       "       [ 1.76676766e+00,  8.28272739e+00],\n",
       "       [-8.77303865e+00,  6.34649097e+00],\n",
       "       [ 8.06341123e+00, -2.65484240e+00],\n",
       "       [ 8.01246675e-01,  7.75409176e+00],\n",
       "       [-2.68867190e+00,  3.03114942e+00],\n",
       "       [ 2.21468132e+00,  8.74958472e+00],\n",
       "       [-1.23065895e+00,  2.84821990e+00],\n",
       "       [ 5.72849542e+00,  8.26127260e+00],\n",
       "       [-8.79831197e+00, -9.33221053e+00],\n",
       "       [ 5.69996701e+00,  7.52113093e+00],\n",
       "       [ 1.05241733e+00,  4.54498095e+00],\n",
       "       [-2.45138222e+00,  2.95583946e+00],\n",
       "       [-2.20299950e+00,  2.47947561e+00],\n",
       "       [ 1.01812521e+01, -1.99929038e+00],\n",
       "       [-9.56468709e+00,  7.17276289e+00],\n",
       "       [ 6.39429195e+00,  7.21838401e+00],\n",
       "       [ 5.68928886e+00,  1.48885510e+00],\n",
       "       [ 4.78392299e+00,  8.16588817e+00],\n",
       "       [ 5.52992349e+00,  7.24188056e+00],\n",
       "       [ 6.18842865e+00,  3.59583109e-01],\n",
       "       [-1.22507744e+00,  6.84143095e+00],\n",
       "       [ 1.39263752e+00,  9.28962707e-01],\n",
       "       [ 2.72396035e-01,  5.46996004e+00],\n",
       "       [ 1.53303391e+00,  7.11957620e+00],\n",
       "       [-2.01492257e+00,  2.03802766e+00],\n",
       "       [-1.59322841e+00,  3.52998589e+00],\n",
       "       [-1.51280935e+00,  7.66724672e+00],\n",
       "       [-9.01921601e+00,  7.44983462e+00],\n",
       "       [-8.89877279e+00, -7.87038084e+00],\n",
       "       [-8.55541880e+00, -9.19761083e+00],\n",
       "       [-2.26711927e+00,  8.06782830e+00],\n",
       "       [-7.73257560e+00, -7.78593171e+00],\n",
       "       [ 4.41274862e+00,  1.09632978e+00],\n",
       "       [-9.14218788e+00,  6.32891733e+00],\n",
       "       [ 4.78908704e+00, -2.04047257e-01],\n",
       "       [ 1.71444449e+00,  5.02521524e+00],\n",
       "       [-2.60159431e+00,  7.22195591e+00],\n",
       "       [-1.91834916e+00,  2.68331024e+00],\n",
       "       [ 3.47138300e-01,  3.45177657e+00],\n",
       "       [ 5.86747839e+00,  7.33050514e+00],\n",
       "       [-6.07150135e-01,  7.56342853e+00],\n",
       "       [-1.37239798e+00,  8.36356736e+00],\n",
       "       [ 6.00506856e+00,  1.62349966e+00],\n",
       "       [ 8.29367449e+00, -3.27183026e+00],\n",
       "       [ 2.43934644e+00, -7.25099666e-02],\n",
       "       [ 4.43598630e-01,  3.11530945e+00],\n",
       "       [-7.52628714e+00, -8.33720706e+00],\n",
       "       [-8.64029720e+00, -8.24584638e+00],\n",
       "       [-1.01046244e+01,  6.45699523e+00],\n",
       "       [ 5.73660732e+00,  7.64796546e+00],\n",
       "       [ 4.95903597e+00,  8.40918899e+00],\n",
       "       [ 1.63852681e+00,  8.07882936e-01],\n",
       "       [ 5.31956998e+00,  7.83486407e+00],\n",
       "       [-1.80506160e+00,  3.20677115e+00],\n",
       "       [-8.01472827e+00, -8.01429156e+00],\n",
       "       [-9.72911826e+00,  6.13704497e+00],\n",
       "       [-8.31036167e+00, -7.23970506e+00],\n",
       "       [-1.28747621e+00,  1.25432661e+00],\n",
       "       [ 1.50178414e+00,  9.79122481e+00],\n",
       "       [ 4.90424315e+00,  8.28289688e-01],\n",
       "       [ 1.00604962e+00,  9.18658428e+00],\n",
       "       [-9.17600376e+00,  6.01566354e+00],\n",
       "       [ 1.32000621e+00,  1.40428145e+00],\n",
       "       [ 1.19008992e+00,  4.72773123e+00],\n",
       "       [ 5.77883766e+00,  7.31350287e+00],\n",
       "       [-9.39761098e+00,  7.98796351e+00],\n",
       "       [-9.03738695e+00,  6.54720707e+00],\n",
       "       [ 9.19519104e+00, -2.27479769e+00],\n",
       "       [ 2.36923352e+00,  7.94735861e-01],\n",
       "       [ 7.89338559e-01,  4.33748653e+00],\n",
       "       [ 1.67375987e+00,  1.30352364e+00],\n",
       "       [ 9.93106332e+00, -2.47169910e+00],\n",
       "       [ 1.32052586e+00,  7.72089524e+00],\n",
       "       [ 1.22633586e+00,  8.33058293e+00],\n",
       "       [ 5.39727531e+00,  7.24449678e+00],\n",
       "       [ 5.51833423e+00,  7.55547283e+00],\n",
       "       [ 2.62361870e+00,  8.04657604e-01],\n",
       "       [-1.60712495e+00,  3.56452854e+00],\n",
       "       [-2.10047101e+00,  2.71029320e+00],\n",
       "       [-1.00454463e+01,  6.67208216e+00],\n",
       "       [-1.90375655e+00,  2.62926599e+00],\n",
       "       [-9.13895226e+00, -7.51142238e+00],\n",
       "       [-8.62267096e-01,  6.89308597e+00],\n",
       "       [ 1.32721141e+00,  8.51110174e+00],\n",
       "       [ 2.71506328e+00,  1.29082190e+00],\n",
       "       [-1.04487840e+01,  7.85117056e+00],\n",
       "       [ 5.37594935e+00,  6.89606873e+00],\n",
       "       [-7.33501420e-01,  8.52012114e+00],\n",
       "       [-1.00982389e+01,  6.29768705e+00],\n",
       "       [-8.29313981e+00, -8.16834426e+00],\n",
       "       [ 9.79081282e+00, -3.92454108e+00],\n",
       "       [ 1.41372442e+00,  4.38117707e+00],\n",
       "       [-9.59221685e+00, -8.32489360e+00],\n",
       "       [ 1.83375842e+00,  7.54036153e-01],\n",
       "       [-8.29824770e+00, -7.21588661e+00],\n",
       "       [-1.05814112e+01,  6.40875383e+00],\n",
       "       [ 5.00040688e+00,  7.66010774e+00],\n",
       "       [ 6.56942310e+00,  6.16812059e-01],\n",
       "       [ 9.83095828e+00, -1.98183487e+00],\n",
       "       [-2.15405603e+00,  3.64456944e+00],\n",
       "       [ 2.04067185e+00,  4.54845114e-01],\n",
       "       [-8.09167441e+00, -7.90505838e+00],\n",
       "       [ 6.35814345e+00,  7.52344250e+00],\n",
       "       [ 5.53354058e+00,  7.54366313e+00],\n",
       "       [-1.40889590e+00,  7.15865322e+00],\n",
       "       [ 1.64059108e+00,  8.28978730e+00],\n",
       "       [-9.31337216e+00,  6.83926515e+00],\n",
       "       [-1.63963193e+00,  7.52274643e+00],\n",
       "       [ 1.81412864e+00,  9.03237721e+00],\n",
       "       [ 5.75586835e+00,  1.25774632e+00],\n",
       "       [ 5.83967750e+00,  8.94100920e-01],\n",
       "       [ 5.60371351e+00,  3.11596739e-01],\n",
       "       [-8.61376055e+00, -8.49214424e+00],\n",
       "       [-1.43300009e+00,  3.05719088e+00],\n",
       "       [ 5.76820712e+00, -4.18521492e-01],\n",
       "       [-4.74920358e-02,  5.47425256e+00],\n",
       "       [-9.99625968e+00,  7.66154996e+00],\n",
       "       [-9.40071028e+00,  7.25066770e+00],\n",
       "       [-2.38134056e+00,  2.62189033e+00],\n",
       "       [ 7.97502278e-01,  9.12214536e+00],\n",
       "       [ 5.31935314e+00,  6.88181597e+00],\n",
       "       [ 9.83908286e+00, -3.97497592e+00],\n",
       "       [ 9.03611782e+00, -3.02682193e+00],\n",
       "       [ 1.16411070e+00,  3.79132988e+00],\n",
       "       [-9.13074690e+00, -8.14176170e+00],\n",
       "       [ 5.78264429e+00,  8.17893813e+00],\n",
       "       [ 2.76808540e+00,  1.08782923e+00],\n",
       "       [ 6.30128115e-01,  8.32895458e+00],\n",
       "       [-9.98394091e+00,  6.93574520e+00],\n",
       "       [ 1.15314155e+00,  8.03515097e+00],\n",
       "       [ 4.49073833e+00,  8.18797828e-01],\n",
       "       [-1.66095834e+00,  7.10701357e+00],\n",
       "       [-1.46826903e+00,  3.26765447e+00],\n",
       "       [ 3.33818506e-01,  4.93645836e+00],\n",
       "       [-1.46031482e+00,  6.86557550e+00],\n",
       "       [ 5.27640686e+00,  4.70744940e-01],\n",
       "       [ 5.69848402e+00,  8.23373015e+00],\n",
       "       [-9.45919639e+00,  6.04235372e+00],\n",
       "       [ 6.04556883e+00,  8.05439715e-01],\n",
       "       [ 1.50757419e+00,  1.56787343e+00],\n",
       "       [ 9.81041137e+00, -1.50619118e+00],\n",
       "       [ 5.02574551e+00,  1.20954362e-01],\n",
       "       [-9.91679415e+00,  6.66764004e+00],\n",
       "       [-8.90312163e+00,  6.75589956e+00],\n",
       "       [-1.28523162e+00,  7.77107685e+00],\n",
       "       [ 5.08882121e+00,  6.85586289e+00],\n",
       "       [ 2.42371514e+00,  1.45098766e+00],\n",
       "       [-8.24087371e+00, -9.02814538e+00],\n",
       "       [ 9.93342581e+00, -1.55235644e+00],\n",
       "       [-8.61443077e+00, -8.44793986e+00],\n",
       "       [ 8.47392822e+00, -3.51234444e+00],\n",
       "       [ 1.97825252e+00,  8.46856056e+00],\n",
       "       [ 4.66341830e+00,  1.81963357e-01],\n",
       "       [ 6.48141914e+00, -9.57612405e-01],\n",
       "       [ 2.28112284e+00,  2.38023186e-01],\n",
       "       [-1.96226244e+00,  2.08786389e+00],\n",
       "       [ 6.70478769e-01,  4.04094275e+00],\n",
       "       [ 1.55923728e+00,  9.08148065e+00],\n",
       "       [ 5.88759917e+00,  6.30939639e+00],\n",
       "       [-1.44553995e-01,  2.28187277e+00],\n",
       "       [-2.84375912e+00,  8.19925173e+00],\n",
       "       [ 1.00049669e+00,  9.44327867e+00],\n",
       "       [-8.81140134e+00, -8.56358965e+00],\n",
       "       [-1.42335819e+00,  7.37856469e+00],\n",
       "       [ 7.93137001e-03,  4.17614316e+00],\n",
       "       [ 5.74813377e+00,  6.57339288e+00],\n",
       "       [-7.88257866e-01,  8.04923571e+00],\n",
       "       [-2.24021957e+00,  2.61379245e+00],\n",
       "       [ 8.15468056e-01,  4.78526116e+00],\n",
       "       [-9.06116367e+00, -8.53601662e+00],\n",
       "       [ 1.79417539e+00,  2.00722190e+00],\n",
       "       [ 6.19757281e+00,  1.11523199e+00],\n",
       "       [-8.83407682e+00, -8.75539276e+00],\n",
       "       [-9.56505948e+00,  5.57585935e+00],\n",
       "       [ 6.16048790e+00,  8.41324170e-01],\n",
       "       [ 6.08124681e+00,  6.91739072e+00],\n",
       "       [-1.21426509e+00,  2.57240948e+00],\n",
       "       [ 4.59534668e-01,  5.44982630e+00],\n",
       "       [ 8.99193670e+00, -3.65203439e+00],\n",
       "       [-9.66449725e+00,  6.83764766e+00],\n",
       "       [-2.08623063e-01,  8.24616068e+00],\n",
       "       [-1.02152179e+01,  6.39034791e+00],\n",
       "       [ 9.00974150e+00, -2.22236657e+00],\n",
       "       [ 2.62492001e+00,  9.50194405e-01],\n",
       "       [ 4.31891060e-01,  4.33495456e+00],\n",
       "       [ 1.49625641e+00,  8.78176003e+00],\n",
       "       [ 9.75359409e+00, -2.28421352e+00],\n",
       "       [-1.27114877e+00,  3.32402708e+00],\n",
       "       [-8.58819346e+00, -7.76457044e+00],\n",
       "       [-3.68308545e-01,  8.34699118e+00],\n",
       "       [ 1.34683736e+00,  9.15944960e+00],\n",
       "       [-1.07999075e+00,  7.23958585e+00],\n",
       "       [ 9.43095230e-01,  8.33769451e+00],\n",
       "       [-8.57306925e+00, -7.82539375e+00],\n",
       "       [ 4.96293681e+00,  8.40463439e+00],\n",
       "       [-1.88469244e+00,  2.88634188e+00],\n",
       "       [-1.27355865e+00,  7.66332770e+00],\n",
       "       [ 5.59906736e+00, -1.24978744e+00],\n",
       "       [-1.43372444e+00,  7.69538002e+00],\n",
       "       [ 9.82570091e-01,  5.37530962e+00],\n",
       "       [-7.43277016e-01,  7.68578487e+00],\n",
       "       [ 1.30666202e+00,  9.33249111e+00],\n",
       "       [ 8.56576045e+00, -1.55031278e+00],\n",
       "       [-7.96620448e+00, -8.58893841e+00],\n",
       "       [-8.64188493e+00, -8.85021517e+00],\n",
       "       [ 8.93166798e+00, -2.16922701e+00],\n",
       "       [ 2.60137487e+00,  1.08799459e+00],\n",
       "       [ 1.45513831e+00, -2.91989981e-02],\n",
       "       [ 1.75644805e+00,  2.05538289e+00],\n",
       "       [-1.71343572e+00,  2.97632236e+00],\n",
       "       [ 6.51879747e+00,  7.24509939e+00],\n",
       "       [-9.60231942e+00,  6.65929625e+00],\n",
       "       [ 9.95041165e+00, -2.03356906e+00],\n",
       "       [ 2.63096583e+00,  7.54540572e+00],\n",
       "       [-9.09466227e+00, -8.79677930e+00],\n",
       "       [-9.45188240e+00,  6.43051621e+00],\n",
       "       [ 7.28098690e-01,  3.85531444e+00],\n",
       "       [-1.21256940e+00,  2.97093551e+00],\n",
       "       [-1.53604926e+00,  8.20767499e+00],\n",
       "       [-7.97217338e+00, -8.65218463e+00],\n",
       "       [ 2.77180174e-01,  4.84428322e+00],\n",
       "       [ 5.34380437e+00,  7.96309849e+00],\n",
       "       [-2.59374815e-01,  7.93399667e+00],\n",
       "       [-1.94213392e+00,  3.83970849e+00],\n",
       "       [ 1.49259696e+00,  8.74777053e+00],\n",
       "       [ 5.85180409e+00,  9.05585603e+00],\n",
       "       [-1.04180880e+01,  7.17178866e+00],\n",
       "       [ 2.51834185e+00,  1.39176615e+00],\n",
       "       [ 6.97112324e+00,  6.63274630e+00],\n",
       "       [ 1.43472182e+00,  1.30662037e+00],\n",
       "       [ 8.01649337e+00, -2.25693647e+00],\n",
       "       [ 2.45864438e+00,  1.14214076e+00],\n",
       "       [ 2.01432256e+00,  1.92566929e+00],\n",
       "       [-8.28044739e+00, -8.27312935e+00],\n",
       "       [-9.37510511e+00,  6.76658385e+00],\n",
       "       [-7.08095860e+00, -9.60460699e+00],\n",
       "       [ 1.98153715e+00,  7.91420518e+00],\n",
       "       [ 7.43873988e-01,  4.12240568e+00],\n",
       "       [-1.90936623e+00,  2.67951917e+00],\n",
       "       [ 1.49493180e+00,  3.85848832e+00],\n",
       "       [ 1.92275866e+00,  8.49087566e+00],\n",
       "       [ 1.47089474e+00,  9.51449859e+00],\n",
       "       [-9.28585621e+00, -8.94153179e+00],\n",
       "       [ 5.08348158e+00,  7.54471547e+00],\n",
       "       [-7.99942774e-01,  7.12209304e+00],\n",
       "       [-1.53711626e+00,  3.14537330e+00],\n",
       "       [ 8.87689669e-01,  9.16871579e+00],\n",
       "       [ 9.39283533e+00, -2.36153175e+00],\n",
       "       [-2.11617659e+00,  8.31563879e+00],\n",
       "       [-5.55523811e-01,  4.69595848e+00],\n",
       "       [ 6.69786996e-01,  3.59540802e+00],\n",
       "       [ 1.03165788e+01, -1.73453299e+00],\n",
       "       [ 9.49575021e+00, -2.24593254e+00],\n",
       "       [ 1.93469372e-01,  7.96426267e+00],\n",
       "       [-1.35509780e+00,  3.28318856e+00],\n",
       "       [-1.04726717e+01,  6.24233305e+00],\n",
       "       [ 5.67751349e+00,  4.68551525e-01],\n",
       "       [ 2.09680545e+00,  4.84741412e+00],\n",
       "       [ 5.90358949e+00,  3.50409857e-01],\n",
       "       [ 5.93285791e+00,  6.35691209e-01],\n",
       "       [-2.30937885e+00,  8.04874909e+00],\n",
       "       [-1.36264787e+00,  7.59855031e+00],\n",
       "       [-1.71231179e+00,  1.91227998e+00],\n",
       "       [-8.14728860e+00, -8.91915773e+00],\n",
       "       [ 4.38990142e-01,  4.53592883e+00],\n",
       "       [ 8.65529404e+00, -2.54113564e+00],\n",
       "       [ 9.79875487e+00, -2.40023410e+00],\n",
       "       [-1.59780244e+00,  2.50977534e+00],\n",
       "       [ 8.99314788e+00, -3.18131329e+00],\n",
       "       [ 1.10123507e+00,  4.88977075e+00],\n",
       "       [-2.32745910e+00,  2.10985176e+00],\n",
       "       [-1.71318643e-01,  2.89252797e+00],\n",
       "       [ 8.96274378e+00, -2.91846754e+00],\n",
       "       [ 2.15527162e+00,  1.27868252e+00],\n",
       "       [ 5.95676822e-01,  4.08614263e+00],\n",
       "       [-9.35178275e+00,  6.53649089e+00],\n",
       "       [ 9.10785289e+00, -2.75700640e+00],\n",
       "       [ 3.35320909e+00,  1.69958043e+00],\n",
       "       [-8.53452699e+00, -8.90367345e+00],\n",
       "       [ 1.87271752e+00,  4.18069237e+00],\n",
       "       [ 5.97977154e+00,  4.46662406e-02],\n",
       "       [-8.35505074e-01,  3.56565342e+00],\n",
       "       [ 9.24583283e+00, -2.19886503e+00],\n",
       "       [-8.29181485e-01,  7.83772255e+00],\n",
       "       [ 1.49519736e+00,  8.70970656e+00],\n",
       "       [ 2.15756084e+00,  8.45116387e+00],\n",
       "       [-3.53356628e-01,  3.15193825e+00],\n",
       "       [ 5.06668726e+00,  2.26639672e-01],\n",
       "       [-8.79975507e+00,  6.07363306e+00],\n",
       "       [ 4.53791789e-01,  3.95647753e+00],\n",
       "       [-1.85262090e+00,  3.16751229e+00],\n",
       "       [-6.30213287e-01,  1.67589125e+00],\n",
       "       [ 8.72799726e+00, -2.58576020e+00],\n",
       "       [ 1.78194802e+00,  9.08151155e-01],\n",
       "       [ 9.67013017e-01,  6.81120006e+00],\n",
       "       [ 2.56936589e+00,  5.07048304e-01],\n",
       "       [ 5.66007058e+00,  8.33828581e+00],\n",
       "       [ 5.08776302e+00,  7.08127942e+00],\n",
       "       [ 4.99464186e+00,  7.54690904e+00],\n",
       "       [ 1.00372519e+00,  4.19147702e+00],\n",
       "       [-1.03316050e+01,  7.23286460e+00],\n",
       "       [-9.39514727e+00, -8.28225449e+00],\n",
       "       [ 5.78182377e+00,  8.28303614e+00],\n",
       "       [ 1.33943038e+00,  9.94037998e+00],\n",
       "       [-7.46952409e+00, -8.38591400e+00],\n",
       "       [-9.03379293e+00,  6.33701256e+00],\n",
       "       [ 5.26787967e+00,  7.20760284e-01],\n",
       "       [ 1.08860880e+00,  8.75389149e+00],\n",
       "       [-9.57727096e+00,  6.61061196e+00],\n",
       "       [-9.67383283e+00, -8.07525166e+00],\n",
       "       [ 5.15061929e+00,  1.04887291e+00],\n",
       "       [ 5.30974612e+00,  7.46307138e+00],\n",
       "       [ 5.26547362e+00,  7.35535998e+00],\n",
       "       [-9.55969524e+00,  6.52488308e+00],\n",
       "       [ 5.96258879e+00, -1.47245797e-01],\n",
       "       [-1.75783190e+00,  2.97449321e+00],\n",
       "       [-9.03400135e+00, -8.28746446e+00],\n",
       "       [-1.68001841e+00,  7.34766422e+00],\n",
       "       [ 1.65991049e+00,  3.56289184e+00],\n",
       "       [ 1.08909896e+01, -2.37552442e+00],\n",
       "       [ 5.70433102e+00,  8.45134346e-01],\n",
       "       [-2.47666705e+00,  3.28410989e+00],\n",
       "       [-9.07881608e-01,  7.70185496e+00],\n",
       "       [ 2.29287155e+00,  2.41826755e-01],\n",
       "       [ 8.80367772e+00, -2.39740320e+00],\n",
       "       [ 2.40122201e+00,  7.72684407e-01],\n",
       "       [ 6.39654624e+00,  1.42529502e+00],\n",
       "       [-8.17693657e+00, -8.68191742e+00],\n",
       "       [-8.94680643e+00,  6.27357132e+00],\n",
       "       [ 1.89593761e+00,  5.18540259e+00],\n",
       "       [ 5.88050119e+00,  7.54793164e+00],\n",
       "       [ 1.09199200e+00,  8.12233001e+00],\n",
       "       [ 1.27955338e+00,  1.05789418e+00],\n",
       "       [ 1.01852521e+01, -1.29941604e+00],\n",
       "       [ 5.89671263e+00,  7.93572730e+00],\n",
       "       [-8.46892354e+00, -8.48870786e+00],\n",
       "       [ 1.25566754e+00,  3.38204112e+00],\n",
       "       [-1.70674213e+00,  6.97278513e+00],\n",
       "       [-9.90857986e+00,  5.94158496e+00],\n",
       "       [ 7.04125477e+00,  5.51141139e-01],\n",
       "       [-9.54038047e+00, -8.78972257e+00],\n",
       "       [ 2.43040639e+00, -6.35709334e-02],\n",
       "       [-1.46707190e+00,  7.92948233e+00],\n",
       "       [ 1.06923853e+00,  4.53068484e+00],\n",
       "       [ 8.64047813e+00, -1.83902092e+00],\n",
       "       [-9.03870015e+00, -7.92394183e+00],\n",
       "       [-1.65866231e+00,  8.83119049e+00],\n",
       "       [ 7.34363910e-01,  5.03725437e+00],\n",
       "       [ 8.87722142e+00, -2.22567825e+00],\n",
       "       [ 5.82775476e+00,  7.50751868e+00],\n",
       "       [-8.85006066e+00, -8.09800122e+00],\n",
       "       [-2.74531469e+00,  4.15657798e+00],\n",
       "       [-8.87868882e+00, -8.24460327e+00],\n",
       "       [-6.89146750e-01,  8.03943901e+00],\n",
       "       [-1.84892963e-03,  4.58145668e+00],\n",
       "       [ 1.04126955e+00,  9.16638261e+00],\n",
       "       [-1.44173212e+00,  2.72628521e+00],\n",
       "       [ 8.10088360e-01,  8.66343074e+00],\n",
       "       [-1.08354596e+00,  7.30091097e+00],\n",
       "       [ 5.59021543e+00,  8.80401785e+00],\n",
       "       [ 2.10616050e+00,  3.49513189e+00],\n",
       "       [ 1.65066793e+00,  9.16761995e-01],\n",
       "       [ 1.03346404e+00,  7.38118126e+00],\n",
       "       [-7.84303988e-01,  7.12513163e+00],\n",
       "       [-1.60847383e+00,  3.60001708e+00],\n",
       "       [ 1.21767506e+00,  3.89290127e+00],\n",
       "       [ 1.16051297e+00,  1.16129868e+00],\n",
       "       [ 6.54332792e+00,  1.98756140e-01],\n",
       "       [ 1.84287117e+00,  7.26928839e-02],\n",
       "       [ 6.13371493e+00,  1.20668169e+00],\n",
       "       [ 6.40394192e+00,  7.15401389e+00],\n",
       "       [ 8.69695258e+00, -2.80704004e+00],\n",
       "       [ 5.71276266e+00,  5.11968727e-01],\n",
       "       [-1.11301311e+00,  3.69899000e+00],\n",
       "       [-9.43292994e+00,  6.17149878e+00],\n",
       "       [ 5.95154258e+00, -4.91039318e-01],\n",
       "       [ 4.93927102e-01,  7.78560697e+00],\n",
       "       [ 5.35112486e+00, -9.30887595e-02],\n",
       "       [-9.58299484e+00,  6.71206959e+00],\n",
       "       [ 2.13248163e+00,  7.60773373e+00],\n",
       "       [ 1.60841463e+00,  4.01800537e-01],\n",
       "       [-8.03897730e+00,  6.40997753e+00],\n",
       "       [ 6.10676991e+00, -5.19945852e-01],\n",
       "       [ 5.85670419e+00,  1.03863984e+00],\n",
       "       [ 1.13846882e+00,  7.94456329e+00],\n",
       "       [ 5.70277614e+00, -7.25235773e-02],\n",
       "       [ 5.55248103e+00,  4.47859513e-01],\n",
       "       [ 4.88382309e-01,  3.26801777e+00],\n",
       "       [-9.99626422e+00,  6.84857447e+00],\n",
       "       [ 9.54770457e+00, -2.90993683e+00],\n",
       "       [-8.88378940e+00, -8.88854207e+00],\n",
       "       [-1.34285598e+00,  9.18949411e+00],\n",
       "       [ 2.13979079e-01,  4.88542535e+00],\n",
       "       [ 1.00647373e+01, -2.86062091e+00],\n",
       "       [-8.14541854e+00, -8.24264673e+00],\n",
       "       [-1.00861279e+01,  5.81158854e+00],\n",
       "       [ 5.34617545e+00,  8.03899405e+00],\n",
       "       [ 1.57322172e+00,  4.83933793e-01],\n",
       "       [ 4.87456845e+00,  7.18537452e+00],\n",
       "       [ 4.41599647e+00,  5.90098904e-01],\n",
       "       [ 5.97739243e+00,  7.87824623e+00],\n",
       "       [-1.11198076e+00,  3.33473175e+00],\n",
       "       [ 5.57047421e+00,  8.34179873e+00],\n",
       "       [ 1.01618041e+00,  4.48527047e+00],\n",
       "       [ 1.63238468e+00,  8.57067045e+00],\n",
       "       [ 5.75535558e+00,  8.20755482e-01],\n",
       "       [-9.55873282e+00, -8.29769450e+00],\n",
       "       [ 1.85308430e+00,  9.32790189e+00]])"
      ]
     },
     "execution_count": 175,
     "metadata": {},
     "output_type": "execute_result"
    }
   ],
   "source": [
    "X"
   ]
  },
  {
   "cell_type": "code",
   "execution_count": null,
   "id": "3b025bb9",
   "metadata": {},
   "outputs": [],
   "source": []
  },
  {
   "cell_type": "code",
   "execution_count": 176,
   "id": "54f602d5",
   "metadata": {},
   "outputs": [
    {
     "data": {
      "text/plain": [
       "array([7, 3, 2, 4, 3, 3, 7, 1, 9, 2, 5, 6, 0, 6, 0, 0, 1, 6, 1, 9, 9, 1,\n",
       "       4, 7, 5, 1, 4, 4, 4, 1, 4, 3, 1, 0, 9, 6, 6, 6, 2, 1, 8, 8, 3, 5,\n",
       "       7, 6, 7, 7, 9, 3, 3, 2, 4, 2, 0, 1, 3, 2, 5, 8, 5, 6, 8, 3, 1, 1,\n",
       "       4, 2, 1, 4, 4, 3, 0, 5, 3, 4, 8, 0, 3, 8, 8, 5, 8, 4, 8, 1, 0, 5,\n",
       "       4, 9, 0, 1, 6, 8, 4, 6, 2, 6, 2, 9, 7, 9, 0, 2, 2, 4, 8, 9, 5, 9,\n",
       "       9, 5, 3, 1, 0, 6, 2, 2, 3, 8, 7, 7, 3, 7, 5, 8, 5, 0, 3, 2, 0, 9,\n",
       "       3, 3, 5, 4, 1, 0, 7, 7, 8, 9, 9, 1, 9, 2, 7, 8, 7, 2, 6, 5, 6, 8,\n",
       "       1, 0, 9, 8, 8, 4, 1, 0, 1, 4, 6, 6, 9, 9, 1, 2, 2, 8, 2, 7, 3, 6,\n",
       "       1, 8, 9, 3, 8, 7, 4, 0, 7, 1, 7, 8, 9, 5, 4, 2, 1, 7, 9, 9, 3, 6,\n",
       "       8, 3, 6, 5, 5, 5, 7, 2, 5, 0, 8, 8, 2, 6, 9, 4, 4, 0, 7, 9, 1, 6,\n",
       "       8, 6, 5, 3, 2, 0, 3, 5, 9, 8, 5, 1, 4, 5, 8, 8, 3, 9, 1, 7, 4, 7,\n",
       "       4, 6, 5, 5, 1, 2, 0, 6, 9, 2, 3, 6, 7, 3, 0, 9, 3, 2, 0, 7, 1, 5,\n",
       "       7, 8, 5, 9, 2, 0, 4, 8, 3, 8, 4, 1, 0, 6, 4, 2, 7, 3, 6, 3, 6, 7,\n",
       "       9, 2, 3, 5, 3, 0, 3, 6, 4, 7, 7, 4, 1, 1, 1, 2, 9, 8, 4, 6, 7, 8,\n",
       "       0, 2, 3, 7, 0, 9, 3, 2, 6, 9, 8, 1, 9, 1, 4, 1, 1, 7, 8, 7, 6, 0,\n",
       "       2, 0, 6, 6, 7, 9, 3, 2, 6, 4, 3, 0, 0, 4, 4, 6, 2, 8, 5, 0, 5, 5,\n",
       "       3, 3, 2, 7, 0, 4, 4, 2, 4, 0, 2, 2, 4, 1, 0, 8, 4, 1, 7, 0, 5, 2,\n",
       "       4, 3, 6, 6, 2, 5, 8, 0, 2, 2, 4, 1, 6, 1, 9, 9, 9, 0, 8, 7, 9, 6,\n",
       "       7, 8, 5, 6, 8, 7, 5, 9, 9, 8, 5, 2, 7, 3, 0, 4, 5, 2, 3, 1, 4, 1,\n",
       "       5, 7, 8, 0, 9, 6, 1, 4, 9, 7, 0, 3, 8, 5, 7, 1, 3, 0, 4, 7, 3, 0,\n",
       "       4, 9, 7, 2, 7, 3, 0, 6, 2, 6, 3, 9, 0, 1, 6, 3, 2, 0, 1, 5, 1, 5,\n",
       "       9, 4, 5, 2, 8, 5, 6, 5, 8, 6, 1, 8, 5, 5, 6, 5, 5, 0, 8, 4, 7, 3,\n",
       "       0, 4, 7, 8, 9, 1, 9, 5, 9, 2, 9, 0, 6, 5, 7, 6])"
      ]
     },
     "execution_count": 176,
     "metadata": {},
     "output_type": "execute_result"
    }
   ],
   "source": [
    "y"
   ]
  },
  {
   "cell_type": "code",
   "execution_count": 177,
   "id": "98cf1a23",
   "metadata": {},
   "outputs": [],
   "source": [
    "X_train = X[:-10]\n",
    "X_test = X[-10:]\n",
    "y_train = y[:-10]\n",
    "y_test = y[-10:]"
   ]
  },
  {
   "cell_type": "code",
   "execution_count": 220,
   "id": "39243923",
   "metadata": {},
   "outputs": [],
   "source": [
    "from sklearn import svm\n",
    "classifier = svm.LinearSVC()"
   ]
  },
  {
   "cell_type": "code",
   "execution_count": 221,
   "id": "d39b9ddd",
   "metadata": {},
   "outputs": [],
   "source": [
    "from sklearn.model_selection import train_test_split"
   ]
  },
  {
   "cell_type": "code",
   "execution_count": 273,
   "id": "071e222b",
   "metadata": {},
   "outputs": [
    {
     "data": {
      "text/plain": [
       "<matplotlib.collections.PathCollection at 0x25f440b3610>"
      ]
     },
     "execution_count": 273,
     "metadata": {},
     "output_type": "execute_result"
    },
    {
     "data": {
      "image/png": "[encoded data removed]",
      "text/plain": [
       "<Figure size 432x288 with 1 Axes>"
      ]
     },
     "metadata": {
      "needs_background": "light"
     },
     "output_type": "display_data"
    }
   ],
   "source": [
    "X,y = make_blobs(n_samples = 50000,centers = 100,random_state = 0, cluster_std = 0.60)\n",
    "plt.scatter(X[:,0],X[:,1],c=y,s=50,cmap='autumn')"
   ]
  },
  {
   "cell_type": "code",
   "execution_count": 274,
   "id": "b92e3474",
   "metadata": {},
   "outputs": [
    {
     "data": {
      "text/plain": [
       "array([[ 1.89195493, -4.00647883],\n",
       "       [ 6.11741556,  1.17631615],\n",
       "       [ 6.30390574, -6.56490638],\n",
       "       ...,\n",
       "       [ 5.90323509,  3.20274811],\n",
       "       [ 9.58855052,  5.68104558],\n",
       "       [ 9.74915132, -8.20599307]])"
      ]
     },
     "execution_count": 274,
     "metadata": {},
     "output_type": "execute_result"
    }
   ],
   "source": [
    "X"
   ]
  },
  {
   "cell_type": "code",
   "execution_count": 234,
   "id": "53e0fe56",
   "metadata": {},
   "outputs": [],
   "source": [
    "X_train,X_test,y_train,y_test = train_test_split(X,y,test_size=0.3)"
   ]
  },
  {
   "cell_type": "code",
   "execution_count": 235,
   "id": "bc0fb49d",
   "metadata": {},
   "outputs": [],
   "source": [
    "classifier = svm.LinearSVC()"
   ]
  },
  {
   "cell_type": "raw",
   "id": "ac59efda",
   "metadata": {},
   "source": []
  },
  {
   "cell_type": "code",
   "execution_count": null,
   "id": "112d86c6",
   "metadata": {},
   "outputs": [],
   "source": []
  },
  {
   "cell_type": "code",
   "execution_count": 240,
   "id": "015e6ff4",
   "metadata": {},
   "outputs": [
    {
     "name": "stderr",
     "output_type": "stream",
     "text": [
      "C:\\Users\\swaheed\\Anaconda3\\lib\\site-packages\\sklearn\\svm\\_base.py:985: ConvergenceWarning: Liblinear failed to converge, increase the number of iterations.\n",
      "  warnings.warn(\"Liblinear failed to converge, increase \"\n"
     ]
    },
    {
     "data": {
      "text/plain": [
       "LinearSVC()"
      ]
     },
     "execution_count": 240,
     "metadata": {},
     "output_type": "execute_result"
    }
   ],
   "source": [
    "classifier.fit(X_train,y_train)"
   ]
  },
  {
   "cell_type": "code",
   "execution_count": 241,
   "id": "bfc97de7",
   "metadata": {},
   "outputs": [],
   "source": [
    "y_pred = classifier.predict(X_test)"
   ]
  },
  {
   "cell_type": "code",
   "execution_count": 242,
   "id": "2500872d",
   "metadata": {},
   "outputs": [
    {
     "name": "stdout",
     "output_type": "stream",
     "text": [
      "[56  6 17 ... 65 50 21]\n"
     ]
    }
   ],
   "source": [
    "print(y_test)"
   ]
  },
  {
   "cell_type": "code",
   "execution_count": 243,
   "id": "78157338",
   "metadata": {},
   "outputs": [],
   "source": [
    "from sklearn import metrics"
   ]
  },
  {
   "cell_type": "code",
   "execution_count": 244,
   "id": "b0ecdf7a",
   "metadata": {},
   "outputs": [],
   "source": [
    "accuracy_score = metrics.accuracy_score(y_test,y_pred)"
   ]
  },
  {
   "cell_type": "code",
   "execution_count": 245,
   "id": "e0d21680",
   "metadata": {},
   "outputs": [
    {
     "data": {
      "text/plain": [
       "0.275"
      ]
     },
     "execution_count": 245,
     "metadata": {},
     "output_type": "execute_result"
    }
   ],
   "source": [
    "accuracy_score"
   ]
  },
  {
   "cell_type": "code",
   "execution_count": 246,
   "id": "a71607c6",
   "metadata": {},
   "outputs": [],
   "source": [
    "cm = metrics.confusion_matrix(y_test,y_pred)"
   ]
  },
  {
   "cell_type": "code",
   "execution_count": 247,
   "id": "516ce525",
   "metadata": {},
   "outputs": [
    {
     "name": "stdout",
     "output_type": "stream",
     "text": [
      "              precision    recall  f1-score   support\n",
      "\n",
      "           0       0.01      0.06      0.02       133\n",
      "           1       0.00      0.00      0.00       150\n",
      "           2       0.00      0.00      0.00       142\n",
      "           3       0.17      0.45      0.24       139\n",
      "           4       0.49      0.88      0.63       141\n",
      "           5       0.00      0.00      0.00       155\n",
      "           6       0.32      0.52      0.39       147\n",
      "           7       0.85      0.96      0.90       166\n",
      "           8       0.59      0.95      0.73       153\n",
      "           9       0.50      0.76      0.60       156\n",
      "          10       0.33      0.32      0.32       149\n",
      "          11       0.09      0.14      0.11       138\n",
      "          12       0.12      0.06      0.08       142\n",
      "          13       0.36      0.73      0.48       154\n",
      "          14       0.89      0.05      0.10       146\n",
      "          15       0.22      0.57      0.31       132\n",
      "          16       0.00      0.00      0.00       161\n",
      "          17       0.73      0.66      0.69       167\n",
      "          18       0.00      0.00      0.00       153\n",
      "          19       0.12      0.09      0.10       136\n",
      "          20       0.00      0.00      0.00       156\n",
      "          21       0.18      0.28      0.22       150\n",
      "          22       0.04      0.03      0.03       155\n",
      "          23       0.12      0.34      0.18       146\n",
      "          24       0.00      0.00      0.00       166\n",
      "          25       0.00      0.00      0.00       174\n",
      "          26       0.88      0.99      0.93       148\n",
      "          27       0.13      0.14      0.13       148\n",
      "          28       0.11      0.23      0.15       135\n",
      "          29       0.00      0.00      0.00       142\n",
      "          30       0.35      0.68      0.46       159\n",
      "          31       0.10      0.05      0.07       170\n",
      "          32       0.03      0.05      0.03       148\n",
      "          33       0.10      0.12      0.11       152\n",
      "          34       0.50      0.86      0.63       159\n",
      "          35       0.67      0.64      0.65       141\n",
      "          36       0.35      0.59      0.44       153\n",
      "          37       0.36      0.50      0.42       153\n",
      "          38       0.16      0.07      0.10       148\n",
      "          39       0.00      0.00      0.00       160\n",
      "          40       0.07      0.03      0.04       152\n",
      "          41       0.25      0.62      0.36       128\n",
      "          42       0.00      0.00      0.00       148\n",
      "          43       0.74      0.36      0.49       148\n",
      "          44       0.46      0.14      0.22       166\n",
      "          45       0.00      0.00      0.00       150\n",
      "          46       0.14      0.39      0.21       139\n",
      "          47       0.13      0.10      0.11       157\n",
      "          48       0.35      0.83      0.49       144\n",
      "          49       0.53      0.94      0.68       143\n",
      "          50       0.00      0.00      0.00       178\n",
      "          51       0.25      0.32      0.28       146\n",
      "          52       0.07      0.02      0.03       151\n",
      "          53       0.00      0.00      0.00       156\n",
      "          54       0.14      0.10      0.12       154\n",
      "          55       0.04      0.01      0.01       163\n",
      "          56       0.08      0.23      0.12       132\n",
      "          57       0.36      0.13      0.19       159\n",
      "          58       0.05      0.10      0.07       146\n",
      "          59       0.17      0.20      0.19       147\n",
      "          60       0.02      0.06      0.03       139\n",
      "          61       0.15      0.27      0.19       127\n",
      "          62       0.00      0.00      0.00       154\n",
      "          63       0.65      0.88      0.74       161\n",
      "          64       0.00      0.00      0.00       164\n",
      "          65       0.00      0.00      0.00       157\n",
      "          66       0.30      0.71      0.42       129\n",
      "          67       0.00      0.00      0.00       154\n",
      "          68       0.00      0.00      0.00       146\n",
      "          69       0.00      0.00      0.00       160\n",
      "          70       0.49      0.43      0.46       159\n",
      "          71       0.00      0.00      0.00       146\n",
      "          72       0.07      0.10      0.08       146\n",
      "          73       0.59      0.44      0.50       160\n",
      "          74       0.51      0.97      0.67       134\n",
      "          75       0.41      0.72      0.52       142\n",
      "          76       0.02      0.01      0.02       148\n",
      "          77       0.49      0.10      0.17       163\n",
      "          78       0.01      0.02      0.01       139\n",
      "          79       0.73      0.58      0.65       147\n",
      "          80       0.00      0.00      0.00       149\n",
      "          81       0.56      0.12      0.20       144\n",
      "          82       0.56      0.96      0.71       138\n",
      "          83       0.52      0.44      0.48       147\n",
      "          84       0.10      0.29      0.15       163\n",
      "          85       0.47      0.22      0.30       152\n",
      "          86       0.70      0.95      0.80       146\n",
      "          87       0.26      0.53      0.35       156\n",
      "          88       0.62      0.43      0.51       172\n",
      "          89       0.00      0.00      0.00       156\n",
      "          90       0.00      0.00      0.00       148\n",
      "          91       0.00      0.00      0.00       149\n",
      "          92       0.07      0.05      0.06       149\n",
      "          93       0.00      0.00      0.00       127\n",
      "          94       0.00      0.00      0.00       161\n",
      "          95       0.08      0.11      0.09       140\n",
      "          96       0.35      0.34      0.34       150\n",
      "          97       0.00      0.00      0.00       147\n",
      "          98       0.15      0.15      0.15       148\n",
      "          99       0.62      0.62      0.62       153\n",
      "\n",
      "    accuracy                           0.28     15000\n",
      "   macro avg       0.23      0.28      0.23     15000\n",
      "weighted avg       0.23      0.28      0.23     15000\n",
      "\n"
     ]
    },
    {
     "name": "stderr",
     "output_type": "stream",
     "text": [
      "C:\\Users\\swaheed\\Anaconda3\\lib\\site-packages\\sklearn\\metrics\\_classification.py:1248: UndefinedMetricWarning: Precision and F-score are ill-defined and being set to 0.0 in labels with no predicted samples. Use `zero_division` parameter to control this behavior.\n",
      "  _warn_prf(average, modifier, msg_start, len(result))\n",
      "C:\\Users\\swaheed\\Anaconda3\\lib\\site-packages\\sklearn\\metrics\\_classification.py:1248: UndefinedMetricWarning: Precision and F-score are ill-defined and being set to 0.0 in labels with no predicted samples. Use `zero_division` parameter to control this behavior.\n",
      "  _warn_prf(average, modifier, msg_start, len(result))\n",
      "C:\\Users\\swaheed\\Anaconda3\\lib\\site-packages\\sklearn\\metrics\\_classification.py:1248: UndefinedMetricWarning: Precision and F-score are ill-defined and being set to 0.0 in labels with no predicted samples. Use `zero_division` parameter to control this behavior.\n",
      "  _warn_prf(average, modifier, msg_start, len(result))\n"
     ]
    }
   ],
   "source": [
    "print(metrics.classification_report(y_test,y_pred))"
   ]
  },
  {
   "cell_type": "code",
   "execution_count": null,
   "id": "c3cf8afb",
   "metadata": {},
   "outputs": [],
   "source": []
  },
  {
   "cell_type": "code",
   "execution_count": 248,
   "id": "1d19e396",
   "metadata": {},
   "outputs": [
    {
     "name": "stderr",
     "output_type": "stream",
     "text": [
      "C:\\Users\\swaheed\\Anaconda3\\lib\\site-packages\\sklearn\\linear_model\\_logistic.py:763: ConvergenceWarning: lbfgs failed to converge (status=1):\n",
      "STOP: TOTAL NO. of ITERATIONS REACHED LIMIT.\n",
      "\n",
      "Increase the number of iterations (max_iter) or scale the data as shown in:\n",
      "    https://scikit-learn.org/stable/modules/preprocessing.html\n",
      "Please also refer to the documentation for alternative solver options:\n",
      "    https://scikit-learn.org/stable/modules/linear_model.html#logistic-regression\n",
      "  n_iter_i = _check_optimize_result(\n"
     ]
    },
    {
     "data": {
      "text/plain": [
       "LogisticRegression()"
      ]
     },
     "execution_count": 248,
     "metadata": {},
     "output_type": "execute_result"
    }
   ],
   "source": [
    "from sklearn.linear_model import LogisticRegression\n",
    "\n",
    "classifier = LogisticRegression()\n",
    "classifier.fit(X_train,y_train)"
   ]
  },
  {
   "cell_type": "code",
   "execution_count": 249,
   "id": "8bbfcc13",
   "metadata": {},
   "outputs": [],
   "source": [
    "y_pred = classifier.predict_proba(X_test)"
   ]
  },
  {
   "cell_type": "code",
   "execution_count": 250,
   "id": "71cd03e3",
   "metadata": {},
   "outputs": [
    {
     "data": {
      "text/plain": [
       "array([[5.81865772e-37, 1.10967712e-14, 1.66186082e-38, ...,\n",
       "        5.92324357e-08, 5.35809152e-27, 4.61805092e-44],\n",
       "       [4.43895336e-03, 3.97814911e-23, 2.68057606e-14, ...,\n",
       "        1.53553125e-38, 1.15307597e-69, 1.63245505e-56],\n",
       "       [1.72358501e-50, 4.01222043e-65, 7.36801469e-21, ...,\n",
       "        6.98255783e-90, 5.02537408e-20, 8.91901882e-04],\n",
       "       ...,\n",
       "       [7.59271826e-19, 1.09092485e-05, 3.86651690e-19, ...,\n",
       "        9.27741038e-05, 4.95616161e-18, 5.36359868e-28],\n",
       "       [1.01030808e-38, 8.82130637e-16, 1.92968142e-39, ...,\n",
       "        6.47456123e-09, 4.45389863e-26, 1.70243949e-43],\n",
       "       [2.86010538e-68, 1.50038575e-34, 3.45874196e-62, ...,\n",
       "        2.22022682e-23, 1.41007028e-26, 6.30624463e-51]])"
      ]
     },
     "execution_count": 250,
     "metadata": {},
     "output_type": "execute_result"
    }
   ],
   "source": [
    "y_pred"
   ]
  },
  {
   "cell_type": "code",
   "execution_count": 252,
   "id": "b319b9a6",
   "metadata": {},
   "outputs": [],
   "source": [
    "from sklearn.preprocessing import StandardScaler"
   ]
  },
  {
   "cell_type": "raw",
   "id": "2cf2ab31",
   "metadata": {},
   "source": []
  },
  {
   "cell_type": "code",
   "execution_count": 253,
   "id": "2ca96698",
   "metadata": {},
   "outputs": [],
   "source": [
    "scaler =StandardScaler()"
   ]
  },
  {
   "cell_type": "code",
   "execution_count": 275,
   "id": "2eef01aa",
   "metadata": {},
   "outputs": [],
   "source": [
    "X,y = make_blobs(n_samples = 50000,centers = 100,random_state = 0, cluster_std = 0.60)\n",
    "X_train,X_test,y_train,y_test = train_test_split(X,y,test_size=0.3)"
   ]
  },
  {
   "cell_type": "code",
   "execution_count": 276,
   "id": "ada7212a",
   "metadata": {},
   "outputs": [
    {
     "data": {
      "text/plain": [
       "array([[ 1.89195493, -4.00647883],\n",
       "       [ 6.11741556,  1.17631615],\n",
       "       [ 6.30390574, -6.56490638],\n",
       "       ...,\n",
       "       [ 5.90323509,  3.20274811],\n",
       "       [ 9.58855052,  5.68104558],\n",
       "       [ 9.74915132, -8.20599307]])"
      ]
     },
     "execution_count": 276,
     "metadata": {},
     "output_type": "execute_result"
    }
   ],
   "source": [
    "X"
   ]
  },
  {
   "cell_type": "code",
   "execution_count": 277,
   "id": "b88390c1",
   "metadata": {},
   "outputs": [],
   "source": [
    "data1 = scaler.fit(X_train,y_train).transform(X_train)"
   ]
  },
  {
   "cell_type": "code",
   "execution_count": 278,
   "id": "4910fbe7",
   "metadata": {},
   "outputs": [],
   "source": [
    "data2 = scaler.transform(X_train)"
   ]
  },
  {
   "cell_type": "code",
   "execution_count": 279,
   "id": "81db1179",
   "metadata": {},
   "outputs": [
    {
     "name": "stdout",
     "output_type": "stream",
     "text": [
      "[[-1.32761819  0.89692974]\n",
      " [ 0.18393777 -0.75403824]\n",
      " [-1.82309807  0.49262515]\n",
      " ...\n",
      " [-0.68420479 -1.26288341]\n",
      " [-1.03732419 -1.11896728]\n",
      " [-1.5072141   0.64775317]]\n"
     ]
    }
   ],
   "source": [
    "print(data1)"
   ]
  },
  {
   "cell_type": "code",
   "execution_count": 280,
   "id": "0297ab64",
   "metadata": {},
   "outputs": [
    {
     "name": "stdout",
     "output_type": "stream",
     "text": [
      "[[-1.32761819  0.89692974]\n",
      " [ 0.18393777 -0.75403824]\n",
      " [-1.82309807  0.49262515]\n",
      " ...\n",
      " [-0.68420479 -1.26288341]\n",
      " [-1.03732419 -1.11896728]\n",
      " [-1.5072141   0.64775317]]\n"
     ]
    }
   ],
   "source": [
    "print(data2)"
   ]
  },
  {
   "cell_type": "code",
   "execution_count": 281,
   "id": "bc62b8e6",
   "metadata": {},
   "outputs": [],
   "source": [
    "scaler = StandardScaler()"
   ]
  },
  {
   "cell_type": "code",
   "execution_count": 282,
   "id": "4af10bba",
   "metadata": {},
   "outputs": [],
   "source": [
    "data = scaler.fit_transform(X_train)"
   ]
  },
  {
   "cell_type": "code",
   "execution_count": 283,
   "id": "fe9966d6",
   "metadata": {},
   "outputs": [
    {
     "data": {
      "text/plain": [
       "array([[-1.32761819,  0.89692974],\n",
       "       [ 0.18393777, -0.75403824],\n",
       "       [-1.82309807,  0.49262515],\n",
       "       ...,\n",
       "       [-0.68420479, -1.26288341],\n",
       "       [-1.03732419, -1.11896728],\n",
       "       [-1.5072141 ,  0.64775317]])"
      ]
     },
     "execution_count": 283,
     "metadata": {},
     "output_type": "execute_result"
    }
   ],
   "source": [
    "data"
   ]
  },
  {
   "cell_type": "code",
   "execution_count": 343,
   "id": "5d7b32a4",
   "metadata": {},
   "outputs": [],
   "source": [
    "from sklearn import datasets\n",
    "from sklearn.model_selection import train_test_split\n",
    "from sklearn.ensemble import RandomForestClassifier\n",
    "from sklearn.model_selection import cross_val_score,cross_val_predict\n",
    "from sklearn.metrics import confusion_matrix,classification_report\n",
    "import sklearn.metrics as metrics\n",
    "from sklearn.model_selection import GridSearchCV"
   ]
  },
  {
   "cell_type": "code",
   "execution_count": 286,
   "id": "a3a17f90",
   "metadata": {},
   "outputs": [],
   "source": [
    "iris = datasets.load_iris()"
   ]
  },
  {
   "cell_type": "code",
   "execution_count": 330,
   "id": "c8e66985",
   "metadata": {},
   "outputs": [],
   "source": [
    "X_train,X_test,y_train,y_test = train_test_split(\n",
    "            iris.data,\n",
    "            iris.target,\n",
    "            test_size = 0.25\n",
    ")"
   ]
  },
  {
   "cell_type": "code",
   "execution_count": 331,
   "id": "85295237",
   "metadata": {},
   "outputs": [],
   "source": [
    "classifier = RandomForestClassifier(\n",
    "        n_estimators = 200,\n",
    "        random_state = 7,\n",
    "        max_depth = 5\n",
    ")"
   ]
  },
  {
   "cell_type": "code",
   "execution_count": 332,
   "id": "f209f2b1",
   "metadata": {},
   "outputs": [
    {
     "data": {
      "text/plain": [
       "RandomForestClassifier(max_depth=5, n_estimators=200, random_state=7)"
      ]
     },
     "execution_count": 332,
     "metadata": {},
     "output_type": "execute_result"
    }
   ],
   "source": [
    "classifier.fit(X_train,y_train)"
   ]
  },
  {
   "cell_type": "code",
   "execution_count": 333,
   "id": "c03fe500",
   "metadata": {},
   "outputs": [],
   "source": [
    "y_pred = classifier.predict(X_test)"
   ]
  },
  {
   "cell_type": "code",
   "execution_count": 334,
   "id": "8362021c",
   "metadata": {},
   "outputs": [],
   "source": [
    "accuracy_score = metrics.accuracy_score(y_test,y_pred)"
   ]
  },
  {
   "cell_type": "code",
   "execution_count": 335,
   "id": "483fbd20",
   "metadata": {},
   "outputs": [
    {
     "name": "stdout",
     "output_type": "stream",
     "text": [
      "0.9210526315789473\n"
     ]
    }
   ],
   "source": [
    "print(accuracy_score)"
   ]
  },
  {
   "cell_type": "code",
   "execution_count": 336,
   "id": "0ea5f52e",
   "metadata": {},
   "outputs": [],
   "source": [
    "cm = metrics.confusion_matrix(y_test,y_pred)"
   ]
  },
  {
   "cell_type": "code",
   "execution_count": 337,
   "id": "9f35120a",
   "metadata": {},
   "outputs": [
    {
     "name": "stdout",
     "output_type": "stream",
     "text": [
      "[[12  0  0]\n",
      " [ 0  9  1]\n",
      " [ 0  2 14]]\n"
     ]
    }
   ],
   "source": [
    "print(cm)"
   ]
  },
  {
   "cell_type": "code",
   "execution_count": 339,
   "id": "12a4f36d",
   "metadata": {},
   "outputs": [
    {
     "data": {
      "text/plain": [
       "Text(0.5, 1.0, 'Accuracy score: 0.9210526315789473')"
      ]
     },
     "execution_count": 339,
     "metadata": {},
     "output_type": "execute_result"
    },
    {
     "data": {
      "image/png": "[encoded data removed]",
      "text/plain": [
       "<Figure size 648x648 with 2 Axes>"
      ]
     },
     "metadata": {
      "needs_background": "light"
     },
     "output_type": "display_data"
    }
   ],
   "source": [
    "import matplotlib.pyplot as plt\n",
    "%matplotlib inline\n",
    "import seaborn as sns\n",
    "plt.figure(figsize=(9,9))\n",
    "sns.heatmap(cm,annot=True,fmt=\".3f\",linewidths=.5,square=True,cmap=\"Reds\")\n",
    "plt.ylabel('True Value')\n",
    "plt.xlabel(\"prediction\")\n",
    "title = f\"Accuracy score: {accuracy_score}\"\n",
    "plt.title(title,size =20)"
   ]
  },
  {
   "cell_type": "code",
   "execution_count": 340,
   "id": "fbc68e2f",
   "metadata": {},
   "outputs": [
    {
     "name": "stdout",
     "output_type": "stream",
     "text": [
      "              precision    recall  f1-score   support\n",
      "\n",
      "           0       1.00      1.00      1.00        12\n",
      "           1       0.82      0.90      0.86        10\n",
      "           2       0.93      0.88      0.90        16\n",
      "\n",
      "    accuracy                           0.92        38\n",
      "   macro avg       0.92      0.92      0.92        38\n",
      "weighted avg       0.92      0.92      0.92        38\n",
      "\n"
     ]
    }
   ],
   "source": [
    "print(metrics.classification_report(y_test,y_pred,labels=[0,1,2]))"
   ]
  },
  {
   "cell_type": "code",
   "execution_count": 366,
   "id": "4dda7e30",
   "metadata": {},
   "outputs": [],
   "source": [
    "parameters = {\n",
    "    'max_depth': range(2,6,2),\n",
    "    'n_estimators' : range(100,500,100)\n",
    "}"
   ]
  },
  {
   "cell_type": "code",
   "execution_count": 367,
   "id": "21b6644e",
   "metadata": {},
   "outputs": [],
   "source": [
    "classifier = RandomForestClassifier()"
   ]
  },
  {
   "cell_type": "code",
   "execution_count": 368,
   "id": "a046db40",
   "metadata": {},
   "outputs": [],
   "source": [
    "grid_search = GridSearchCV(\n",
    "    classifier,\n",
    "    parameters,\n",
    "    cv = 5,\n",
    "    scoring = \"accuracy\"\n",
    ")"
   ]
  },
  {
   "cell_type": "code",
   "execution_count": 369,
   "id": "0f755954",
   "metadata": {},
   "outputs": [
    {
     "data": {
      "text/plain": [
       "GridSearchCV(cv=5, estimator=RandomForestClassifier(),\n",
       "             param_grid={'max_depth': range(2, 6, 2),\n",
       "                         'n_estimators': range(100, 500, 100)},\n",
       "             scoring='accuracy')"
      ]
     },
     "execution_count": 369,
     "metadata": {},
     "output_type": "execute_result"
    }
   ],
   "source": [
    "grid_search.fit(X_train,y_train)"
   ]
  },
  {
   "cell_type": "markdown",
   "id": "1a457683",
   "metadata": {},
   "source": [
    "## grid_search.fit(X_train,y_train)"
   ]
  },
  {
   "cell_type": "code",
   "execution_count": 370,
   "id": "d52b7c8a",
   "metadata": {},
   "outputs": [
    {
     "data": {
      "text/plain": [
       "{'max_depth': 4, 'n_estimators': 100}"
      ]
     },
     "execution_count": 370,
     "metadata": {},
     "output_type": "execute_result"
    }
   ],
   "source": [
    "grid_search.best_params_"
   ]
  },
  {
   "cell_type": "code",
   "execution_count": 371,
   "id": "23bdba07",
   "metadata": {},
   "outputs": [],
   "source": [
    "best_model = grid_search.best_estimator_"
   ]
  },
  {
   "cell_type": "code",
   "execution_count": 372,
   "id": "9d27ad58",
   "metadata": {},
   "outputs": [
    {
     "data": {
      "text/plain": [
       "RandomForestClassifier(max_depth=4)"
      ]
     },
     "execution_count": 372,
     "metadata": {},
     "output_type": "execute_result"
    }
   ],
   "source": [
    "best_model.fit(X_train,y_train)"
   ]
  },
  {
   "cell_type": "code",
   "execution_count": 373,
   "id": "f7bb952d",
   "metadata": {},
   "outputs": [],
   "source": [
    "y_pred = best_model.predict(X_test)"
   ]
  },
  {
   "cell_type": "code",
   "execution_count": 374,
   "id": "8ccb9fb9",
   "metadata": {},
   "outputs": [
    {
     "name": "stdout",
     "output_type": "stream",
     "text": [
      "              precision    recall  f1-score   support\n",
      "\n",
      "           0       1.00      1.00      1.00        12\n",
      "           1       0.82      0.90      0.86        10\n",
      "           2       0.93      0.88      0.90        16\n",
      "\n",
      "    accuracy                           0.92        38\n",
      "   macro avg       0.92      0.92      0.92        38\n",
      "weighted avg       0.92      0.92      0.92        38\n",
      "\n"
     ]
    }
   ],
   "source": [
    "print(metrics.classification_report(y_test,y_pred,labels=[0,1,2]))"
   ]
  },
  {
   "cell_type": "code",
   "execution_count": 358,
   "id": "46e90022",
   "metadata": {},
   "outputs": [
    {
     "data": {
      "text/plain": [
       "[2, 4]"
      ]
     },
     "execution_count": 358,
     "metadata": {},
     "output_type": "execute_result"
    }
   ],
   "source": [
    "list(range(2, 6, 2))"
   ]
  },
  {
   "cell_type": "code",
   "execution_count": 376,
   "id": "f3abd1e9",
   "metadata": {},
   "outputs": [],
   "source": [
    "df = pd.read_csv('https://edlitera-datasets.s3.amazonaws.com/students.csv')"
   ]
  },
  {
   "cell_type": "code",
   "execution_count": 377,
   "id": "326b30aa",
   "metadata": {},
   "outputs": [
    {
     "data": {
      "text/html": [
       "<div>\n",
       "<style scoped>\n",
       "    .dataframe tbody tr th:only-of-type {\n",
       "        vertical-align: middle;\n",
       "    }\n",
       "\n",
       "    .dataframe tbody tr th {\n",
       "        vertical-align: top;\n",
       "    }\n",
       "\n",
       "    .dataframe thead th {\n",
       "        text-align: right;\n",
       "    }\n",
       "</style>\n",
       "<table border=\"1\" class=\"dataframe\">\n",
       "  <thead>\n",
       "    <tr style=\"text-align: right;\">\n",
       "      <th></th>\n",
       "      <th>daily_study</th>\n",
       "      <th>monthly_tuition</th>\n",
       "      <th>passing_grade</th>\n",
       "    </tr>\n",
       "  </thead>\n",
       "  <tbody>\n",
       "    <tr>\n",
       "      <th>0</th>\n",
       "      <td>7</td>\n",
       "      <td>27</td>\n",
       "      <td>1</td>\n",
       "    </tr>\n",
       "    <tr>\n",
       "      <th>1</th>\n",
       "      <td>2</td>\n",
       "      <td>43</td>\n",
       "      <td>0</td>\n",
       "    </tr>\n",
       "    <tr>\n",
       "      <th>2</th>\n",
       "      <td>7</td>\n",
       "      <td>26</td>\n",
       "      <td>1</td>\n",
       "    </tr>\n",
       "    <tr>\n",
       "      <th>3</th>\n",
       "      <td>8</td>\n",
       "      <td>29</td>\n",
       "      <td>1</td>\n",
       "    </tr>\n",
       "    <tr>\n",
       "      <th>4</th>\n",
       "      <td>3</td>\n",
       "      <td>42</td>\n",
       "      <td>0</td>\n",
       "    </tr>\n",
       "  </tbody>\n",
       "</table>\n",
       "</div>"
      ],
      "text/plain": [
       "   daily_study  monthly_tuition  passing_grade\n",
       "0            7               27              1\n",
       "1            2               43              0\n",
       "2            7               26              1\n",
       "3            8               29              1\n",
       "4            3               42              0"
      ]
     },
     "execution_count": 377,
     "metadata": {},
     "output_type": "execute_result"
    }
   ],
   "source": [
    "df.head()"
   ]
  },
  {
   "cell_type": "code",
   "execution_count": 383,
   "id": "b1a0b237",
   "metadata": {},
   "outputs": [],
   "source": [
    "X_train,X_test,y_train,y_test = train_test_split(\n",
    "            df[['daily_study','monthly_tuition']],\n",
    "            df['passing_grade'],\n",
    "            test_size = 0.25\n",
    ")"
   ]
  },
  {
   "cell_type": "code",
   "execution_count": 380,
   "id": "79480758",
   "metadata": {},
   "outputs": [],
   "source": [
    "parameters = {\n",
    "    'max_depth' : range(2,6,2),\n",
    "    'n_estimators' : range(100,500,100)  \n",
    "}"
   ]
  },
  {
   "cell_type": "code",
   "execution_count": 381,
   "id": "3d33eb0c",
   "metadata": {},
   "outputs": [],
   "source": [
    "classifier = RandomForestClassifier()"
   ]
  },
  {
   "cell_type": "code",
   "execution_count": 382,
   "id": "de24d7e5",
   "metadata": {},
   "outputs": [],
   "source": [
    "grid_search = GridSearchCV(\n",
    "    classifier,\n",
    "    parameters,\n",
    "    cv = 5,\n",
    "    scoring = \"accuracy\"\n",
    ")"
   ]
  },
  {
   "cell_type": "code",
   "execution_count": 384,
   "id": "9a712b1f",
   "metadata": {},
   "outputs": [
    {
     "data": {
      "text/plain": [
       "GridSearchCV(cv=5, estimator=RandomForestClassifier(),\n",
       "             param_grid={'max_depth': range(2, 6, 2),\n",
       "                         'n_estimators': range(100, 500, 100)},\n",
       "             scoring='accuracy')"
      ]
     },
     "execution_count": 384,
     "metadata": {},
     "output_type": "execute_result"
    }
   ],
   "source": [
    "grid_search.fit(X_train,y_train)"
   ]
  },
  {
   "cell_type": "code",
   "execution_count": 385,
   "id": "08d06237",
   "metadata": {},
   "outputs": [
    {
     "data": {
      "text/plain": [
       "{'max_depth': 4, 'n_estimators': 100}"
      ]
     },
     "execution_count": 385,
     "metadata": {},
     "output_type": "execute_result"
    }
   ],
   "source": [
    "grid_search.best_params_"
   ]
  },
  {
   "cell_type": "code",
   "execution_count": 386,
   "id": "cb1fcab6",
   "metadata": {},
   "outputs": [],
   "source": [
    "best_model = grid_search.best_estimator_"
   ]
  },
  {
   "cell_type": "code",
   "execution_count": 387,
   "id": "5e65ac5e",
   "metadata": {},
   "outputs": [
    {
     "data": {
      "text/plain": [
       "RandomForestClassifier(max_depth=4)"
      ]
     },
     "execution_count": 387,
     "metadata": {},
     "output_type": "execute_result"
    }
   ],
   "source": [
    "best_model.fit(X_train,y_train)"
   ]
  },
  {
   "cell_type": "code",
   "execution_count": 388,
   "id": "5fd76aa9",
   "metadata": {},
   "outputs": [],
   "source": [
    "y_pred = best_model.predict(X_test)"
   ]
  },
  {
   "cell_type": "code",
   "execution_count": 390,
   "id": "cd982669",
   "metadata": {},
   "outputs": [
    {
     "name": "stdout",
     "output_type": "stream",
     "text": [
      "              precision    recall  f1-score   support\n",
      "\n",
      "           0       1.00      0.98      0.99       125\n",
      "           1       0.98      1.00      0.99       125\n",
      "\n",
      "    accuracy                           0.99       250\n",
      "   macro avg       0.99      0.99      0.99       250\n",
      "weighted avg       0.99      0.99      0.99       250\n",
      "\n"
     ]
    }
   ],
   "source": [
    "print(metrics.classification_report(y_test,y_pred,labels=[0,1]))"
   ]
  },
  {
   "cell_type": "code",
   "execution_count": 396,
   "id": "bdd8b112",
   "metadata": {},
   "outputs": [],
   "source": [
    "import pandas as pd\n",
    "from sklearn.model_selection import train_test_split\n",
    "import xgboost\n",
    "\n",
    "from xgboost import XGBClassifier\n",
    "from sklearn import metrics\n",
    "from sklearn.model_selection import KFold\n",
    "from sklearn.model_selection import cross_val_score\n",
    "from sklearn.model_selection import GridSearchCV"
   ]
  },
  {
   "cell_type": "code",
   "execution_count": 397,
   "id": "231f3b73",
   "metadata": {},
   "outputs": [],
   "source": [
    "df = pd.read_csv(\"https://edlitera-datasets.s3.amazonaws.com/water_safety.csv\")"
   ]
  },
  {
   "cell_type": "code",
   "execution_count": 398,
   "id": "38f3402c",
   "metadata": {},
   "outputs": [
    {
     "data": {
      "text/html": [
       "<div>\n",
       "<style scoped>\n",
       "    .dataframe tbody tr th:only-of-type {\n",
       "        vertical-align: middle;\n",
       "    }\n",
       "\n",
       "    .dataframe tbody tr th {\n",
       "        vertical-align: top;\n",
       "    }\n",
       "\n",
       "    .dataframe thead th {\n",
       "        text-align: right;\n",
       "    }\n",
       "</style>\n",
       "<table border=\"1\" class=\"dataframe\">\n",
       "  <thead>\n",
       "    <tr style=\"text-align: right;\">\n",
       "      <th></th>\n",
       "      <th>ph</th>\n",
       "      <th>Hardness</th>\n",
       "      <th>Solids</th>\n",
       "      <th>Chloramines</th>\n",
       "      <th>Sulfate</th>\n",
       "      <th>Conductivity</th>\n",
       "      <th>Organic_carbon</th>\n",
       "      <th>Trihalomethanes</th>\n",
       "      <th>Turbidity</th>\n",
       "      <th>Potability</th>\n",
       "    </tr>\n",
       "  </thead>\n",
       "  <tbody>\n",
       "    <tr>\n",
       "      <th>0</th>\n",
       "      <td>7.085378</td>\n",
       "      <td>204.890455</td>\n",
       "      <td>20791.318981</td>\n",
       "      <td>7.300212</td>\n",
       "      <td>368.516441</td>\n",
       "      <td>564.308654</td>\n",
       "      <td>10.379783</td>\n",
       "      <td>86.990970</td>\n",
       "      <td>2.963135</td>\n",
       "      <td>0</td>\n",
       "    </tr>\n",
       "    <tr>\n",
       "      <th>1</th>\n",
       "      <td>3.716080</td>\n",
       "      <td>129.422921</td>\n",
       "      <td>18630.057858</td>\n",
       "      <td>6.635246</td>\n",
       "      <td>334.564290</td>\n",
       "      <td>592.885359</td>\n",
       "      <td>15.180013</td>\n",
       "      <td>56.329076</td>\n",
       "      <td>4.500656</td>\n",
       "      <td>0</td>\n",
       "    </tr>\n",
       "    <tr>\n",
       "      <th>2</th>\n",
       "      <td>8.099124</td>\n",
       "      <td>224.236259</td>\n",
       "      <td>19909.541732</td>\n",
       "      <td>9.275884</td>\n",
       "      <td>334.564290</td>\n",
       "      <td>418.606213</td>\n",
       "      <td>16.868637</td>\n",
       "      <td>66.420093</td>\n",
       "      <td>3.055934</td>\n",
       "      <td>0</td>\n",
       "    </tr>\n",
       "    <tr>\n",
       "      <th>3</th>\n",
       "      <td>8.316766</td>\n",
       "      <td>214.373394</td>\n",
       "      <td>22018.417441</td>\n",
       "      <td>8.059332</td>\n",
       "      <td>356.886136</td>\n",
       "      <td>363.266516</td>\n",
       "      <td>18.436524</td>\n",
       "      <td>100.341674</td>\n",
       "      <td>4.628771</td>\n",
       "      <td>0</td>\n",
       "    </tr>\n",
       "    <tr>\n",
       "      <th>4</th>\n",
       "      <td>9.092223</td>\n",
       "      <td>181.101509</td>\n",
       "      <td>17978.986339</td>\n",
       "      <td>6.546600</td>\n",
       "      <td>310.135738</td>\n",
       "      <td>398.410813</td>\n",
       "      <td>11.558279</td>\n",
       "      <td>31.997993</td>\n",
       "      <td>4.075075</td>\n",
       "      <td>0</td>\n",
       "    </tr>\n",
       "  </tbody>\n",
       "</table>\n",
       "</div>"
      ],
      "text/plain": [
       "         ph    Hardness        Solids  Chloramines     Sulfate  Conductivity  \\\n",
       "0  7.085378  204.890455  20791.318981     7.300212  368.516441    564.308654   \n",
       "1  3.716080  129.422921  18630.057858     6.635246  334.564290    592.885359   \n",
       "2  8.099124  224.236259  19909.541732     9.275884  334.564290    418.606213   \n",
       "3  8.316766  214.373394  22018.417441     8.059332  356.886136    363.266516   \n",
       "4  9.092223  181.101509  17978.986339     6.546600  310.135738    398.410813   \n",
       "\n",
       "   Organic_carbon  Trihalomethanes  Turbidity  Potability  \n",
       "0       10.379783        86.990970   2.963135           0  \n",
       "1       15.180013        56.329076   4.500656           0  \n",
       "2       16.868637        66.420093   3.055934           0  \n",
       "3       18.436524       100.341674   4.628771           0  \n",
       "4       11.558279        31.997993   4.075075           0  "
      ]
     },
     "execution_count": 398,
     "metadata": {},
     "output_type": "execute_result"
    }
   ],
   "source": [
    "df.head()"
   ]
  },
  {
   "cell_type": "code",
   "execution_count": 399,
   "id": "d5788785",
   "metadata": {},
   "outputs": [],
   "source": [
    "df = df.sample(frac=1).reset_index(drop=True)"
   ]
  },
  {
   "cell_type": "code",
   "execution_count": 400,
   "id": "affa251b",
   "metadata": {},
   "outputs": [],
   "source": [
    "X = df.drop(\"Potability\",axis = 1)"
   ]
  },
  {
   "cell_type": "code",
   "execution_count": 401,
   "id": "fe22e6cb",
   "metadata": {},
   "outputs": [],
   "source": [
    "y = df[\"Potability\"]"
   ]
  },
  {
   "cell_type": "code",
   "execution_count": 406,
   "id": "32d70371",
   "metadata": {},
   "outputs": [],
   "source": [
    "X_train,X_test,y_train,y_test = train_test_split(X,y,test_size = 0.3,random_state = 41)"
   ]
  },
  {
   "cell_type": "code",
   "execution_count": 407,
   "id": "e68fcda3",
   "metadata": {},
   "outputs": [],
   "source": [
    "classifier = XGBClassifier()"
   ]
  },
  {
   "cell_type": "code",
   "execution_count": 408,
   "id": "df7ff84e",
   "metadata": {},
   "outputs": [
    {
     "data": {
      "text/plain": [
       "XGBClassifier(base_score=0.5, booster='gbtree', callbacks=None,\n",
       "              colsample_bylevel=1, colsample_bynode=1, colsample_bytree=1,\n",
       "              early_stopping_rounds=None, enable_categorical=False,\n",
       "              eval_metric=None, gamma=0, gpu_id=-1, grow_policy='depthwise',\n",
       "              importance_type=None, interaction_constraints='',\n",
       "              learning_rate=0.300000012, max_bin=256, max_cat_to_onehot=4,\n",
       "              max_delta_step=0, max_depth=6, max_leaves=0, min_child_weight=1,\n",
       "              missing=nan, monotone_constraints='()', n_estimators=100,\n",
       "              n_jobs=0, num_parallel_tree=1, predictor='auto', random_state=0,\n",
       "              reg_alpha=0, reg_lambda=1, ...)"
      ]
     },
     "execution_count": 408,
     "metadata": {},
     "output_type": "execute_result"
    }
   ],
   "source": [
    "classifier.fit(X_train,y_train)"
   ]
  },
  {
   "cell_type": "code",
   "execution_count": 409,
   "id": "d91834ad",
   "metadata": {},
   "outputs": [],
   "source": [
    "y_pred = classifier.predict(X_test)"
   ]
  },
  {
   "cell_type": "code",
   "execution_count": 410,
   "id": "7b0f0f0e",
   "metadata": {},
   "outputs": [
    {
     "name": "stdout",
     "output_type": "stream",
     "text": [
      "accurcy: 0.7731434384537131\n"
     ]
    }
   ],
   "source": [
    "accuracy_score = metrics.accuracy_score(y_test,y_pred)\n",
    "print(f\"accurcy: {accuracy_score}\")"
   ]
  },
  {
   "cell_type": "code",
   "execution_count": 411,
   "id": "9652de7b",
   "metadata": {},
   "outputs": [],
   "source": [
    "cm = metrics.confusion_matrix(y_test,y_pred)"
   ]
  },
  {
   "cell_type": "code",
   "execution_count": 412,
   "id": "93417272",
   "metadata": {},
   "outputs": [
    {
     "name": "stdout",
     "output_type": "stream",
     "text": [
      "[[518  89]\n",
      " [134 242]]\n"
     ]
    }
   ],
   "source": [
    "print(cm)"
   ]
  },
  {
   "cell_type": "code",
   "execution_count": 417,
   "id": "3dd9af8c",
   "metadata": {},
   "outputs": [
    {
     "data": {
      "text/plain": [
       "Text(0.5, 1.0, 'accuracy:0.7731434384537131')"
      ]
     },
     "execution_count": 417,
     "metadata": {},
     "output_type": "execute_result"
    },
    {
     "data": {
      "image/png": "[encoded data removed]",
      "text/plain": [
       "<Figure size 648x648 with 2 Axes>"
      ]
     },
     "metadata": {
      "needs_background": "light"
     },
     "output_type": "display_data"
    }
   ],
   "source": [
    "import matplotlib.pyplot as plt\n",
    "import seaborn as sns\n",
    "\n",
    "plt.figure(figsize=(9,9))\n",
    "sns.heatmap(cm,annot = True,fmt=\".3f\",linewidths = 0.5,square= True,cmap = \"Reds\")\n",
    "\n",
    "plt.ylabel(\" True value\")\n",
    "plt.xlabel(\"Predictions\")\n",
    "\n",
    "title = f\"accuracy:{accuracy_score}\"\n",
    "plt.title(title,size = 20)"
   ]
  },
  {
   "cell_type": "code",
   "execution_count": 419,
   "id": "be5acd50",
   "metadata": {},
   "outputs": [
    {
     "name": "stdout",
     "output_type": "stream",
     "text": [
      "              precision    recall  f1-score   support\n",
      "\n",
      "           0       0.79      0.85      0.82       607\n",
      "           1       0.73      0.64      0.68       376\n",
      "\n",
      "    accuracy                           0.77       983\n",
      "   macro avg       0.76      0.75      0.75       983\n",
      "weighted avg       0.77      0.77      0.77       983\n",
      "\n"
     ]
    }
   ],
   "source": [
    "print(metrics.classification_report(y_test,y_pred,labels=[0,1]))"
   ]
  },
  {
   "cell_type": "code",
   "execution_count": 420,
   "id": "cee4b33e",
   "metadata": {},
   "outputs": [],
   "source": [
    "parameters = {\n",
    "    'max_depth' : range(2,10,1),\n",
    "    'n_estimators' : range(60,220,40),\n",
    "    'learning_rate': [0.1,0.01,0.05]\n",
    "}"
   ]
  },
  {
   "cell_type": "code",
   "execution_count": 421,
   "id": "8308c215",
   "metadata": {},
   "outputs": [],
   "source": [
    "grid_search = GridSearchCV(\n",
    "    estimator = classifier,\n",
    "    param_grid = parameters,\n",
    "    scoring='roc_auc',\n",
    "    n_jobs= 10,\n",
    "    cv=5,\n",
    "    verbose = True\n",
    ")"
   ]
  },
  {
   "cell_type": "code",
   "execution_count": 422,
   "id": "3e3cf51f",
   "metadata": {},
   "outputs": [
    {
     "name": "stdout",
     "output_type": "stream",
     "text": [
      "Fitting 5 folds for each of 96 candidates, totalling 480 fits\n"
     ]
    },
    {
     "data": {
      "text/plain": [
       "GridSearchCV(cv=5,\n",
       "             estimator=XGBClassifier(base_score=0.5, booster='gbtree',\n",
       "                                     callbacks=None, colsample_bylevel=1,\n",
       "                                     colsample_bynode=1, colsample_bytree=1,\n",
       "                                     early_stopping_rounds=None,\n",
       "                                     enable_categorical=False, eval_metric=None,\n",
       "                                     gamma=0, gpu_id=-1,\n",
       "                                     grow_policy='depthwise',\n",
       "                                     importance_type=None,\n",
       "                                     interaction_constraints='',\n",
       "                                     learning_rate=0.300000012, max_bin=256,\n",
       "                                     max_ca..., max_delta_step=0,\n",
       "                                     max_depth=6, max_leaves=0,\n",
       "                                     min_child_weight=1, missing=nan,\n",
       "                                     monotone_constraints='()',\n",
       "                                     n_estimators=100, n_jobs=0,\n",
       "                                     num_parallel_tree=1, predictor='auto',\n",
       "                                     random_state=0, reg_alpha=0, reg_lambda=1, ...),\n",
       "             n_jobs=10,\n",
       "             param_grid={'learning_rate': [0.1, 0.01, 0.05],\n",
       "                         'max_depth': range(2, 10),\n",
       "                         'n_estimators': range(60, 220, 40)},\n",
       "             scoring='roc_auc', verbose=True)"
      ]
     },
     "execution_count": 422,
     "metadata": {},
     "output_type": "execute_result"
    }
   ],
   "source": [
    "grid_search.fit(X,y)"
   ]
  },
  {
   "cell_type": "code",
   "execution_count": 423,
   "id": "14b71089",
   "metadata": {},
   "outputs": [
    {
     "data": {
      "text/plain": [
       "XGBClassifier(base_score=0.5, booster='gbtree', callbacks=None,\n",
       "              colsample_bylevel=1, colsample_bynode=1, colsample_bytree=1,\n",
       "              early_stopping_rounds=None, enable_categorical=False,\n",
       "              eval_metric=None, gamma=0, gpu_id=-1, grow_policy='depthwise',\n",
       "              importance_type=None, interaction_constraints='',\n",
       "              learning_rate=0.05, max_bin=256, max_cat_to_onehot=4,\n",
       "              max_delta_step=0, max_depth=6, max_leaves=0, min_child_weight=1,\n",
       "              missing=nan, monotone_constraints='()', n_estimators=100,\n",
       "              n_jobs=0, num_parallel_tree=1, predictor='auto', random_state=0,\n",
       "              reg_alpha=0, reg_lambda=1, ...)"
      ]
     },
     "execution_count": 423,
     "metadata": {},
     "output_type": "execute_result"
    }
   ],
   "source": [
    "grid_search.best_estimator_"
   ]
  },
  {
   "cell_type": "code",
   "execution_count": 424,
   "id": "492491ef",
   "metadata": {},
   "outputs": [],
   "source": [
    "optimized_classifier  = grid_search.best_estimator_"
   ]
  },
  {
   "cell_type": "code",
   "execution_count": 425,
   "id": "d4182b49",
   "metadata": {},
   "outputs": [
    {
     "data": {
      "text/plain": [
       "XGBClassifier(base_score=0.5, booster='gbtree', callbacks=None,\n",
       "              colsample_bylevel=1, colsample_bynode=1, colsample_bytree=1,\n",
       "              early_stopping_rounds=None, enable_categorical=False,\n",
       "              eval_metric=None, gamma=0, gpu_id=-1, grow_policy='depthwise',\n",
       "              importance_type=None, interaction_constraints='',\n",
       "              learning_rate=0.05, max_bin=256, max_cat_to_onehot=4,\n",
       "              max_delta_step=0, max_depth=6, max_leaves=0, min_child_weight=1,\n",
       "              missing=nan, monotone_constraints='()', n_estimators=100,\n",
       "              n_jobs=0, num_parallel_tree=1, predictor='auto', random_state=0,\n",
       "              reg_alpha=0, reg_lambda=1, ...)"
      ]
     },
     "execution_count": 425,
     "metadata": {},
     "output_type": "execute_result"
    }
   ],
   "source": [
    "optimized_classifier.fit(X_train,y_train)"
   ]
  },
  {
   "cell_type": "code",
   "execution_count": 426,
   "id": "1a341d5a",
   "metadata": {},
   "outputs": [],
   "source": [
    "y_pred = optimized_classifier.predict(X_test)"
   ]
  },
  {
   "cell_type": "code",
   "execution_count": 427,
   "id": "dbe9eddb",
   "metadata": {},
   "outputs": [],
   "source": [
    "accuracy_score = metrics.accuracy_score(y_test,y_pred)"
   ]
  },
  {
   "cell_type": "code",
   "execution_count": 429,
   "id": "3069caa7",
   "metadata": {},
   "outputs": [
    {
     "name": "stdout",
     "output_type": "stream",
     "text": [
      "faccuracy : 0.7761953204476093\n"
     ]
    }
   ],
   "source": [
    "print(f\"faccuracy : {accuracy_score}\")"
   ]
  },
  {
   "cell_type": "code",
   "execution_count": 432,
   "id": "552cc6d0",
   "metadata": {},
   "outputs": [],
   "source": [
    "df = pd.read_csv(\"https://edlitera-datasets.s3.amazonaws.com/hotel_booking_data.csv\")"
   ]
  },
  {
   "cell_type": "code",
   "execution_count": 433,
   "id": "18fdf965",
   "metadata": {},
   "outputs": [
    {
     "data": {
      "text/html": [
       "<div>\n",
       "<style scoped>\n",
       "    .dataframe tbody tr th:only-of-type {\n",
       "        vertical-align: middle;\n",
       "    }\n",
       "\n",
       "    .dataframe tbody tr th {\n",
       "        vertical-align: top;\n",
       "    }\n",
       "\n",
       "    .dataframe thead th {\n",
       "        text-align: right;\n",
       "    }\n",
       "</style>\n",
       "<table border=\"1\" class=\"dataframe\">\n",
       "  <thead>\n",
       "    <tr style=\"text-align: right;\">\n",
       "      <th></th>\n",
       "      <th>hotel</th>\n",
       "      <th>meal</th>\n",
       "      <th>market_segment</th>\n",
       "      <th>distribution_channel</th>\n",
       "      <th>reserved_room_type</th>\n",
       "      <th>deposit_type</th>\n",
       "      <th>customer_type</th>\n",
       "      <th>year</th>\n",
       "      <th>month</th>\n",
       "      <th>day</th>\n",
       "      <th>...</th>\n",
       "      <th>adults</th>\n",
       "      <th>children</th>\n",
       "      <th>babies</th>\n",
       "      <th>is_repeated_guest</th>\n",
       "      <th>previous_cancellations</th>\n",
       "      <th>previous_bookings_not_canceled</th>\n",
       "      <th>adr</th>\n",
       "      <th>required_car_parking_spaces</th>\n",
       "      <th>total_of_special_requests</th>\n",
       "      <th>canceled</th>\n",
       "    </tr>\n",
       "  </thead>\n",
       "  <tbody>\n",
       "    <tr>\n",
       "      <th>0</th>\n",
       "      <td>1</td>\n",
       "      <td>0</td>\n",
       "      <td>3</td>\n",
       "      <td>2</td>\n",
       "      <td>1.0</td>\n",
       "      <td>0</td>\n",
       "      <td>2</td>\n",
       "      <td>0</td>\n",
       "      <td>9</td>\n",
       "      <td>23</td>\n",
       "      <td>...</td>\n",
       "      <td>2</td>\n",
       "      <td>0.0</td>\n",
       "      <td>0</td>\n",
       "      <td>0</td>\n",
       "      <td>0</td>\n",
       "      <td>0</td>\n",
       "      <td>4.189655</td>\n",
       "      <td>0</td>\n",
       "      <td>0</td>\n",
       "      <td>0</td>\n",
       "    </tr>\n",
       "    <tr>\n",
       "      <th>1</th>\n",
       "      <td>1</td>\n",
       "      <td>2</td>\n",
       "      <td>3</td>\n",
       "      <td>2</td>\n",
       "      <td>1.0</td>\n",
       "      <td>0</td>\n",
       "      <td>2</td>\n",
       "      <td>2</td>\n",
       "      <td>5</td>\n",
       "      <td>6</td>\n",
       "      <td>...</td>\n",
       "      <td>2</td>\n",
       "      <td>0.0</td>\n",
       "      <td>0</td>\n",
       "      <td>0</td>\n",
       "      <td>0</td>\n",
       "      <td>0</td>\n",
       "      <td>4.770685</td>\n",
       "      <td>0</td>\n",
       "      <td>1</td>\n",
       "      <td>0</td>\n",
       "    </tr>\n",
       "    <tr>\n",
       "      <th>2</th>\n",
       "      <td>0</td>\n",
       "      <td>0</td>\n",
       "      <td>5</td>\n",
       "      <td>2</td>\n",
       "      <td>1.0</td>\n",
       "      <td>0</td>\n",
       "      <td>2</td>\n",
       "      <td>3</td>\n",
       "      <td>3</td>\n",
       "      <td>7</td>\n",
       "      <td>...</td>\n",
       "      <td>2</td>\n",
       "      <td>0.0</td>\n",
       "      <td>0</td>\n",
       "      <td>0</td>\n",
       "      <td>0</td>\n",
       "      <td>0</td>\n",
       "      <td>3.555348</td>\n",
       "      <td>0</td>\n",
       "      <td>0</td>\n",
       "      <td>1</td>\n",
       "    </tr>\n",
       "    <tr>\n",
       "      <th>3</th>\n",
       "      <td>0</td>\n",
       "      <td>0</td>\n",
       "      <td>4</td>\n",
       "      <td>2</td>\n",
       "      <td>3.0</td>\n",
       "      <td>0</td>\n",
       "      <td>0</td>\n",
       "      <td>2</td>\n",
       "      <td>2</td>\n",
       "      <td>25</td>\n",
       "      <td>...</td>\n",
       "      <td>1</td>\n",
       "      <td>0.0</td>\n",
       "      <td>0</td>\n",
       "      <td>0</td>\n",
       "      <td>0</td>\n",
       "      <td>0</td>\n",
       "      <td>0.000000</td>\n",
       "      <td>0</td>\n",
       "      <td>0</td>\n",
       "      <td>0</td>\n",
       "    </tr>\n",
       "    <tr>\n",
       "      <th>4</th>\n",
       "      <td>0</td>\n",
       "      <td>2</td>\n",
       "      <td>5</td>\n",
       "      <td>2</td>\n",
       "      <td>1.0</td>\n",
       "      <td>3</td>\n",
       "      <td>0</td>\n",
       "      <td>2</td>\n",
       "      <td>12</td>\n",
       "      <td>15</td>\n",
       "      <td>...</td>\n",
       "      <td>2</td>\n",
       "      <td>0.0</td>\n",
       "      <td>0</td>\n",
       "      <td>0</td>\n",
       "      <td>0</td>\n",
       "      <td>0</td>\n",
       "      <td>4.007333</td>\n",
       "      <td>0</td>\n",
       "      <td>0</td>\n",
       "      <td>1</td>\n",
       "    </tr>\n",
       "  </tbody>\n",
       "</table>\n",
       "<p>5 rows × 25 columns</p>\n",
       "</div>"
      ],
      "text/plain": [
       "   hotel  meal  market_segment  distribution_channel  reserved_room_type  \\\n",
       "0      1     0               3                     2                 1.0   \n",
       "1      1     2               3                     2                 1.0   \n",
       "2      0     0               5                     2                 1.0   \n",
       "3      0     0               4                     2                 3.0   \n",
       "4      0     2               5                     2                 1.0   \n",
       "\n",
       "   deposit_type  customer_type  year  month  day  ...  adults  children  \\\n",
       "0             0              2     0      9   23  ...       2       0.0   \n",
       "1             0              2     2      5    6  ...       2       0.0   \n",
       "2             0              2     3      3    7  ...       2       0.0   \n",
       "3             0              0     2      2   25  ...       1       0.0   \n",
       "4             3              0     2     12   15  ...       2       0.0   \n",
       "\n",
       "   babies  is_repeated_guest  previous_cancellations  \\\n",
       "0       0                  0                       0   \n",
       "1       0                  0                       0   \n",
       "2       0                  0                       0   \n",
       "3       0                  0                       0   \n",
       "4       0                  0                       0   \n",
       "\n",
       "   previous_bookings_not_canceled       adr  required_car_parking_spaces  \\\n",
       "0                               0  4.189655                            0   \n",
       "1                               0  4.770685                            0   \n",
       "2                               0  3.555348                            0   \n",
       "3                               0  0.000000                            0   \n",
       "4                               0  4.007333                            0   \n",
       "\n",
       "   total_of_special_requests  canceled  \n",
       "0                          0         0  \n",
       "1                          1         0  \n",
       "2                          0         1  \n",
       "3                          0         0  \n",
       "4                          0         1  \n",
       "\n",
       "[5 rows x 25 columns]"
      ]
     },
     "execution_count": 433,
     "metadata": {},
     "output_type": "execute_result"
    }
   ],
   "source": [
    "df.head()"
   ]
  },
  {
   "cell_type": "code",
   "execution_count": 435,
   "id": "25205e8f",
   "metadata": {},
   "outputs": [],
   "source": [
    "df = df.sample(frac=1).reset_index(drop=True)"
   ]
  },
  {
   "cell_type": "code",
   "execution_count": 448,
   "id": "2f5879ef",
   "metadata": {},
   "outputs": [],
   "source": [
    "X = df.drop(\"canceled\",axis = 1)\n",
    "y = df['canceled']"
   ]
  },
  {
   "cell_type": "code",
   "execution_count": 449,
   "id": "7f43fda5",
   "metadata": {},
   "outputs": [
    {
     "data": {
      "text/html": [
       "<div>\n",
       "<style scoped>\n",
       "    .dataframe tbody tr th:only-of-type {\n",
       "        vertical-align: middle;\n",
       "    }\n",
       "\n",
       "    .dataframe tbody tr th {\n",
       "        vertical-align: top;\n",
       "    }\n",
       "\n",
       "    .dataframe thead th {\n",
       "        text-align: right;\n",
       "    }\n",
       "</style>\n",
       "<table border=\"1\" class=\"dataframe\">\n",
       "  <thead>\n",
       "    <tr style=\"text-align: right;\">\n",
       "      <th></th>\n",
       "      <th>hotel</th>\n",
       "      <th>meal</th>\n",
       "      <th>market_segment</th>\n",
       "      <th>distribution_channel</th>\n",
       "      <th>reserved_room_type</th>\n",
       "      <th>deposit_type</th>\n",
       "      <th>customer_type</th>\n",
       "      <th>year</th>\n",
       "      <th>month</th>\n",
       "      <th>day</th>\n",
       "      <th>...</th>\n",
       "      <th>stays_in_week_nights</th>\n",
       "      <th>adults</th>\n",
       "      <th>children</th>\n",
       "      <th>babies</th>\n",
       "      <th>is_repeated_guest</th>\n",
       "      <th>previous_cancellations</th>\n",
       "      <th>previous_bookings_not_canceled</th>\n",
       "      <th>adr</th>\n",
       "      <th>required_car_parking_spaces</th>\n",
       "      <th>total_of_special_requests</th>\n",
       "    </tr>\n",
       "  </thead>\n",
       "  <tbody>\n",
       "    <tr>\n",
       "      <th>0</th>\n",
       "      <td>1</td>\n",
       "      <td>0</td>\n",
       "      <td>3</td>\n",
       "      <td>2</td>\n",
       "      <td>1.0</td>\n",
       "      <td>3</td>\n",
       "      <td>0</td>\n",
       "      <td>0</td>\n",
       "      <td>5</td>\n",
       "      <td>14</td>\n",
       "      <td>...</td>\n",
       "      <td>1</td>\n",
       "      <td>2</td>\n",
       "      <td>0.0</td>\n",
       "      <td>0</td>\n",
       "      <td>0</td>\n",
       "      <td>1</td>\n",
       "      <td>0</td>\n",
       "      <td>4.454347</td>\n",
       "      <td>0</td>\n",
       "      <td>0</td>\n",
       "    </tr>\n",
       "    <tr>\n",
       "      <th>1</th>\n",
       "      <td>1</td>\n",
       "      <td>0</td>\n",
       "      <td>3</td>\n",
       "      <td>2</td>\n",
       "      <td>1.0</td>\n",
       "      <td>0</td>\n",
       "      <td>0</td>\n",
       "      <td>2</td>\n",
       "      <td>12</td>\n",
       "      <td>7</td>\n",
       "      <td>...</td>\n",
       "      <td>2</td>\n",
       "      <td>1</td>\n",
       "      <td>0.0</td>\n",
       "      <td>0</td>\n",
       "      <td>0</td>\n",
       "      <td>0</td>\n",
       "      <td>0</td>\n",
       "      <td>4.170534</td>\n",
       "      <td>0</td>\n",
       "      <td>0</td>\n",
       "    </tr>\n",
       "    <tr>\n",
       "      <th>2</th>\n",
       "      <td>1</td>\n",
       "      <td>0</td>\n",
       "      <td>3</td>\n",
       "      <td>2</td>\n",
       "      <td>1.0</td>\n",
       "      <td>3</td>\n",
       "      <td>0</td>\n",
       "      <td>0</td>\n",
       "      <td>11</td>\n",
       "      <td>4</td>\n",
       "      <td>...</td>\n",
       "      <td>1</td>\n",
       "      <td>2</td>\n",
       "      <td>0.0</td>\n",
       "      <td>0</td>\n",
       "      <td>0</td>\n",
       "      <td>0</td>\n",
       "      <td>0</td>\n",
       "      <td>4.189655</td>\n",
       "      <td>0</td>\n",
       "      <td>0</td>\n",
       "    </tr>\n",
       "    <tr>\n",
       "      <th>3</th>\n",
       "      <td>1</td>\n",
       "      <td>2</td>\n",
       "      <td>5</td>\n",
       "      <td>2</td>\n",
       "      <td>1.0</td>\n",
       "      <td>3</td>\n",
       "      <td>0</td>\n",
       "      <td>2</td>\n",
       "      <td>3</td>\n",
       "      <td>16</td>\n",
       "      <td>...</td>\n",
       "      <td>2</td>\n",
       "      <td>2</td>\n",
       "      <td>0.0</td>\n",
       "      <td>0</td>\n",
       "      <td>0</td>\n",
       "      <td>0</td>\n",
       "      <td>0</td>\n",
       "      <td>4.574711</td>\n",
       "      <td>0</td>\n",
       "      <td>0</td>\n",
       "    </tr>\n",
       "    <tr>\n",
       "      <th>4</th>\n",
       "      <td>1</td>\n",
       "      <td>0</td>\n",
       "      <td>5</td>\n",
       "      <td>2</td>\n",
       "      <td>1.0</td>\n",
       "      <td>3</td>\n",
       "      <td>0</td>\n",
       "      <td>0</td>\n",
       "      <td>10</td>\n",
       "      <td>21</td>\n",
       "      <td>...</td>\n",
       "      <td>2</td>\n",
       "      <td>2</td>\n",
       "      <td>0.0</td>\n",
       "      <td>0</td>\n",
       "      <td>0</td>\n",
       "      <td>0</td>\n",
       "      <td>0</td>\n",
       "      <td>4.143135</td>\n",
       "      <td>0</td>\n",
       "      <td>0</td>\n",
       "    </tr>\n",
       "    <tr>\n",
       "      <th>...</th>\n",
       "      <td>...</td>\n",
       "      <td>...</td>\n",
       "      <td>...</td>\n",
       "      <td>...</td>\n",
       "      <td>...</td>\n",
       "      <td>...</td>\n",
       "      <td>...</td>\n",
       "      <td>...</td>\n",
       "      <td>...</td>\n",
       "      <td>...</td>\n",
       "      <td>...</td>\n",
       "      <td>...</td>\n",
       "      <td>...</td>\n",
       "      <td>...</td>\n",
       "      <td>...</td>\n",
       "      <td>...</td>\n",
       "      <td>...</td>\n",
       "      <td>...</td>\n",
       "      <td>...</td>\n",
       "      <td>...</td>\n",
       "      <td>...</td>\n",
       "    </tr>\n",
       "    <tr>\n",
       "      <th>119369</th>\n",
       "      <td>1</td>\n",
       "      <td>0</td>\n",
       "      <td>2</td>\n",
       "      <td>2</td>\n",
       "      <td>1.0</td>\n",
       "      <td>0</td>\n",
       "      <td>0</td>\n",
       "      <td>2</td>\n",
       "      <td>12</td>\n",
       "      <td>7</td>\n",
       "      <td>...</td>\n",
       "      <td>4</td>\n",
       "      <td>1</td>\n",
       "      <td>0.0</td>\n",
       "      <td>0</td>\n",
       "      <td>0</td>\n",
       "      <td>0</td>\n",
       "      <td>0</td>\n",
       "      <td>4.224203</td>\n",
       "      <td>0</td>\n",
       "      <td>0</td>\n",
       "    </tr>\n",
       "    <tr>\n",
       "      <th>119370</th>\n",
       "      <td>1</td>\n",
       "      <td>3</td>\n",
       "      <td>2</td>\n",
       "      <td>2</td>\n",
       "      <td>1.0</td>\n",
       "      <td>0</td>\n",
       "      <td>0</td>\n",
       "      <td>3</td>\n",
       "      <td>3</td>\n",
       "      <td>1</td>\n",
       "      <td>...</td>\n",
       "      <td>0</td>\n",
       "      <td>2</td>\n",
       "      <td>0.0</td>\n",
       "      <td>0</td>\n",
       "      <td>0</td>\n",
       "      <td>0</td>\n",
       "      <td>0</td>\n",
       "      <td>4.691348</td>\n",
       "      <td>0</td>\n",
       "      <td>0</td>\n",
       "    </tr>\n",
       "    <tr>\n",
       "      <th>119371</th>\n",
       "      <td>1</td>\n",
       "      <td>0</td>\n",
       "      <td>5</td>\n",
       "      <td>2</td>\n",
       "      <td>1.0</td>\n",
       "      <td>0</td>\n",
       "      <td>2</td>\n",
       "      <td>3</td>\n",
       "      <td>4</td>\n",
       "      <td>4</td>\n",
       "      <td>...</td>\n",
       "      <td>1</td>\n",
       "      <td>2</td>\n",
       "      <td>0.0</td>\n",
       "      <td>0</td>\n",
       "      <td>0</td>\n",
       "      <td>0</td>\n",
       "      <td>0</td>\n",
       "      <td>4.490881</td>\n",
       "      <td>0</td>\n",
       "      <td>0</td>\n",
       "    </tr>\n",
       "    <tr>\n",
       "      <th>119372</th>\n",
       "      <td>0</td>\n",
       "      <td>0</td>\n",
       "      <td>1</td>\n",
       "      <td>1</td>\n",
       "      <td>1.0</td>\n",
       "      <td>0</td>\n",
       "      <td>0</td>\n",
       "      <td>2</td>\n",
       "      <td>12</td>\n",
       "      <td>15</td>\n",
       "      <td>...</td>\n",
       "      <td>2</td>\n",
       "      <td>1</td>\n",
       "      <td>0.0</td>\n",
       "      <td>0</td>\n",
       "      <td>1</td>\n",
       "      <td>0</td>\n",
       "      <td>7</td>\n",
       "      <td>3.433987</td>\n",
       "      <td>0</td>\n",
       "      <td>0</td>\n",
       "    </tr>\n",
       "    <tr>\n",
       "      <th>119373</th>\n",
       "      <td>1</td>\n",
       "      <td>0</td>\n",
       "      <td>5</td>\n",
       "      <td>1</td>\n",
       "      <td>1.0</td>\n",
       "      <td>0</td>\n",
       "      <td>0</td>\n",
       "      <td>2</td>\n",
       "      <td>11</td>\n",
       "      <td>23</td>\n",
       "      <td>...</td>\n",
       "      <td>1</td>\n",
       "      <td>1</td>\n",
       "      <td>0.0</td>\n",
       "      <td>0</td>\n",
       "      <td>0</td>\n",
       "      <td>0</td>\n",
       "      <td>0</td>\n",
       "      <td>4.330733</td>\n",
       "      <td>0</td>\n",
       "      <td>0</td>\n",
       "    </tr>\n",
       "  </tbody>\n",
       "</table>\n",
       "<p>119374 rows × 24 columns</p>\n",
       "</div>"
      ],
      "text/plain": [
       "        hotel  meal  market_segment  distribution_channel  reserved_room_type  \\\n",
       "0           1     0               3                     2                 1.0   \n",
       "1           1     0               3                     2                 1.0   \n",
       "2           1     0               3                     2                 1.0   \n",
       "3           1     2               5                     2                 1.0   \n",
       "4           1     0               5                     2                 1.0   \n",
       "...       ...   ...             ...                   ...                 ...   \n",
       "119369      1     0               2                     2                 1.0   \n",
       "119370      1     3               2                     2                 1.0   \n",
       "119371      1     0               5                     2                 1.0   \n",
       "119372      0     0               1                     1                 1.0   \n",
       "119373      1     0               5                     1                 1.0   \n",
       "\n",
       "        deposit_type  customer_type  year  month  day  ...  \\\n",
       "0                  3              0     0      5   14  ...   \n",
       "1                  0              0     2     12    7  ...   \n",
       "2                  3              0     0     11    4  ...   \n",
       "3                  3              0     2      3   16  ...   \n",
       "4                  3              0     0     10   21  ...   \n",
       "...              ...            ...   ...    ...  ...  ...   \n",
       "119369             0              0     2     12    7  ...   \n",
       "119370             0              0     3      3    1  ...   \n",
       "119371             0              2     3      4    4  ...   \n",
       "119372             0              0     2     12   15  ...   \n",
       "119373             0              0     2     11   23  ...   \n",
       "\n",
       "        stays_in_week_nights  adults  children  babies  is_repeated_guest  \\\n",
       "0                          1       2       0.0       0                  0   \n",
       "1                          2       1       0.0       0                  0   \n",
       "2                          1       2       0.0       0                  0   \n",
       "3                          2       2       0.0       0                  0   \n",
       "4                          2       2       0.0       0                  0   \n",
       "...                      ...     ...       ...     ...                ...   \n",
       "119369                     4       1       0.0       0                  0   \n",
       "119370                     0       2       0.0       0                  0   \n",
       "119371                     1       2       0.0       0                  0   \n",
       "119372                     2       1       0.0       0                  1   \n",
       "119373                     1       1       0.0       0                  0   \n",
       "\n",
       "        previous_cancellations  previous_bookings_not_canceled       adr  \\\n",
       "0                            1                               0  4.454347   \n",
       "1                            0                               0  4.170534   \n",
       "2                            0                               0  4.189655   \n",
       "3                            0                               0  4.574711   \n",
       "4                            0                               0  4.143135   \n",
       "...                        ...                             ...       ...   \n",
       "119369                       0                               0  4.224203   \n",
       "119370                       0                               0  4.691348   \n",
       "119371                       0                               0  4.490881   \n",
       "119372                       0                               7  3.433987   \n",
       "119373                       0                               0  4.330733   \n",
       "\n",
       "        required_car_parking_spaces  total_of_special_requests  \n",
       "0                                 0                          0  \n",
       "1                                 0                          0  \n",
       "2                                 0                          0  \n",
       "3                                 0                          0  \n",
       "4                                 0                          0  \n",
       "...                             ...                        ...  \n",
       "119369                            0                          0  \n",
       "119370                            0                          0  \n",
       "119371                            0                          0  \n",
       "119372                            0                          0  \n",
       "119373                            0                          0  \n",
       "\n",
       "[119374 rows x 24 columns]"
      ]
     },
     "execution_count": 449,
     "metadata": {},
     "output_type": "execute_result"
    }
   ],
   "source": [
    "X"
   ]
  },
  {
   "cell_type": "code",
   "execution_count": 450,
   "id": "9552052b",
   "metadata": {},
   "outputs": [],
   "source": [
    "X_train,X_test,y_train,y_test = train_test_split(X,y,test_size = 0.3, random_state= 41)"
   ]
  },
  {
   "cell_type": "code",
   "execution_count": 451,
   "id": "fecd0a7f",
   "metadata": {},
   "outputs": [
    {
     "data": {
      "text/plain": [
       "XGBClassifier(base_score=0.5, booster='gbtree', callbacks=None,\n",
       "              colsample_bylevel=1, colsample_bynode=1, colsample_bytree=1,\n",
       "              early_stopping_rounds=None, enable_categorical=False,\n",
       "              eval_metric=None, gamma=0, gpu_id=-1, grow_policy='depthwise',\n",
       "              importance_type=None, interaction_constraints='',\n",
       "              learning_rate=0.300000012, max_bin=256, max_cat_to_onehot=4,\n",
       "              max_delta_step=0, max_depth=6, max_leaves=0, min_child_weight=1,\n",
       "              missing=nan, monotone_constraints='()', n_estimators=100,\n",
       "              n_jobs=0, num_parallel_tree=1, predictor='auto', random_state=0,\n",
       "              reg_alpha=0, reg_lambda=1, ...)"
      ]
     },
     "execution_count": 451,
     "metadata": {},
     "output_type": "execute_result"
    }
   ],
   "source": [
    "classifier.fit(X_train,y_train)"
   ]
  },
  {
   "cell_type": "code",
   "execution_count": 452,
   "id": "eb31e2a6",
   "metadata": {},
   "outputs": [],
   "source": [
    "y_pred = classifier.predict(X_test)"
   ]
  },
  {
   "cell_type": "code",
   "execution_count": 463,
   "id": "7b687873",
   "metadata": {},
   "outputs": [
    {
     "name": "stdout",
     "output_type": "stream",
     "text": [
      "0.9981850166140787\n"
     ]
    }
   ],
   "source": [
    "print(metrics.accuracy_score(y_test,y_pred))\n",
    "acc = metrics.accuracy_score(y_test,y_pred)"
   ]
  },
  {
   "cell_type": "code",
   "execution_count": 455,
   "id": "664184d7",
   "metadata": {},
   "outputs": [],
   "source": [
    "cm = metrics.confusion_matrix(y_test,y_pred)"
   ]
  },
  {
   "cell_type": "code",
   "execution_count": 456,
   "id": "4a5b74e0",
   "metadata": {},
   "outputs": [
    {
     "name": "stdout",
     "output_type": "stream",
     "text": [
      "[[22578    13]\n",
      " [   52 13170]]\n"
     ]
    }
   ],
   "source": [
    "print(cm)"
   ]
  },
  {
   "cell_type": "code",
   "execution_count": 465,
   "id": "9616a981",
   "metadata": {},
   "outputs": [
    {
     "data": {
      "text/plain": [
       "Text(0.5, 1.0, 'accuracy : 0.9981850166140787 ')"
      ]
     },
     "execution_count": 465,
     "metadata": {},
     "output_type": "execute_result"
    },
    {
     "data": {
      "image/png": "[encoded data removed]",
      "text/plain": [
       "<Figure size 648x648 with 2 Axes>"
      ]
     },
     "metadata": {
      "needs_background": "light"
     },
     "output_type": "display_data"
    }
   ],
   "source": [
    "plt.figure(figsize=(9,9))\n",
    "sns.heatmap(cm,annot=True,fmt = \".3f\",linewidths=0.5,square=True,cmap=\"Reds\")\n",
    "plt.ylabel(\"True values\")\n",
    "plt.xlabel(\"Predicted values\")\n",
    "plt.title(f\"accuracy : {acc} \")"
   ]
  },
  {
   "cell_type": "code",
   "execution_count": 470,
   "id": "3d2d0cc5",
   "metadata": {},
   "outputs": [
    {
     "name": "stdout",
     "output_type": "stream",
     "text": [
      "              precision    recall  f1-score   support\n",
      "\n",
      "           0       1.00      1.00      1.00     22591\n",
      "           1       1.00      1.00      1.00     13222\n",
      "\n",
      "    accuracy                           1.00     35813\n",
      "   macro avg       1.00      1.00      1.00     35813\n",
      "weighted avg       1.00      1.00      1.00     35813\n",
      "\n"
     ]
    }
   ],
   "source": [
    "print(metrics.classification_report(y_test,y_pred))"
   ]
  },
  {
   "cell_type": "code",
   "execution_count": null,
   "id": "50158c40",
   "metadata": {},
   "outputs": [],
   "source": []
  },
  {
   "cell_type": "code",
   "execution_count": null,
   "id": "e183c81f",
   "metadata": {},
   "outputs": [],
   "source": []
  },
  {
   "cell_type": "code",
   "execution_count": null,
   "id": "12392432",
   "metadata": {},
   "outputs": [],
   "source": []
  },
  {
   "cell_type": "markdown",
   "id": "af1f2986",
   "metadata": {},
   "source": [
    "## Mini project"
   ]
  },
  {
   "cell_type": "code",
   "execution_count": 291,
   "id": "e656f55e",
   "metadata": {},
   "outputs": [],
   "source": [
    "import os\n",
    "import sys\n",
    "import pandas as pd\n",
    "from sklearn.feature_extraction.text import CountVectorizer\n",
    "import pickle\n",
    "import pandas as pd\n",
    "from sklearn.model_selection import train_test_split\n",
    "import xgboost\n",
    "from xgboost import XGBClassifier\n",
    "from sklearn import metrics\n",
    "from sklearn.model_selection import KFold\n",
    "from sklearn.model_selection import cross_val_score\n",
    "from sklearn.model_selection import GridSearchCV\n",
    "from sklearn.linear_model import LogisticRegression\n",
    "from sklearn import tree\n",
    "from sklearn.ensemble import RandomForestClassifier\n",
    "from sklearn import tree\n",
    "from sklearn.metrics import fbeta_score, make_scorer,accuracy_score\n",
    "from sklearn import metrics\n",
    "from sklearn.model_selection import RandomizedSearchCV"
   ]
  },
  {
   "cell_type": "code",
   "execution_count": 238,
   "id": "9c39968a",
   "metadata": {},
   "outputs": [],
   "source": [
    "def load_data(data_file,cols_to_use):\n",
    "    \"\"\"\n",
    "    Loads a CSV file and creates a DataFrame from it.\n",
    "\n",
    "    :param data_file: The file you want to load and create a DataFrame from.\n",
    "    :param cols_to_use: Which file columns to use.\n",
    "    :return: DataFrame \n",
    "    \"\"\"\n",
    "    \n",
    "\n",
    "    df = pd.read_csv(data_file,usecols=cols_to_use)\n",
    "    return df\n",
    "\n",
    "         \n",
    "    "
   ]
  },
  {
   "cell_type": "code",
   "execution_count": 239,
   "id": "13b62953",
   "metadata": {},
   "outputs": [],
   "source": [
    "col_to_use = [\"hotel\",\"meal\",\"market_segment\",\"distribution_channel\",\"reserved_room_type\",\"deposit_type\",\"customer_type\",\"year\",\"month\",\"day\",\"lead_time\",\"arrival_date_week_number\",\"arrival_date_day_of_month\",\"stays_in_weekend_nights\",\"stays_in_week_nights\",\"adults\",\"children\",\"babies\",\"is_repeated_guest\",\"previous_cancellations\",\"previous_bookings_not_canceled\",\"adr\",\"required_car_parking_spaces\",\"total_of_special_requests\",\"canceled\"]"
   ]
  },
  {
   "cell_type": "code",
   "execution_count": 240,
   "id": "df4d0139",
   "metadata": {},
   "outputs": [],
   "source": [
    "#df = pd.read_csv(\"hotel_booking_data.csv\",usecols=col_to_use)"
   ]
  },
  {
   "cell_type": "code",
   "execution_count": 241,
   "id": "68132e07",
   "metadata": {},
   "outputs": [],
   "source": [
    "#df = load_data(\"https://edlitera-datasets.s3.amazonaws.com/wine_data_classification.csv\")"
   ]
  },
  {
   "cell_type": "code",
   "execution_count": 242,
   "id": "b196b331",
   "metadata": {},
   "outputs": [],
   "source": [
    "df = load_data(\"https://edlitera-datasets.s3.amazonaws.com/hotel_booking_data.csv\",col_to_use)"
   ]
  },
  {
   "cell_type": "code",
   "execution_count": 243,
   "id": "c391b119",
   "metadata": {},
   "outputs": [],
   "source": [
    "def handle_missing_data(data,label,cut_off_value):\n",
    "    \"\"\"\n",
    "    Function that handles missing data by removing rows/columns that contain missing values.\n",
    "\n",
    "    :param data: DataFrame you want to remove missing values from.\n",
    "    :param label: The dependent variable of the data.\n",
    "    :param cut_off_value: The percentage of data a column must be missing to be dropped completely.\n",
    "    :return: Data without missing values.\n",
    "    \"\"\"\n",
    "    \n",
    "    data_without_nan = data.dropna(subset=[label])\n",
    "    \n",
    "    data_without_nan = data_without_nan.dropna(thresh=cut_off_value,axis =1 )\n",
    "    \n",
    "    data_without_nan = data_without_nan.dropna()\n",
    "    \n",
    "    return data_without_nan\n",
    "\n",
    "  \n",
    "\n",
    "    \n",
    "    \n",
    "    \n",
    "    "
   ]
  },
  {
   "cell_type": "code",
   "execution_count": 244,
   "id": "a28645dc",
   "metadata": {},
   "outputs": [],
   "source": [
    "data = handle_missing_data(df,'canceled',0.35)"
   ]
  },
  {
   "cell_type": "code",
   "execution_count": 245,
   "id": "e1d4db50",
   "metadata": {},
   "outputs": [
    {
     "data": {
      "text/html": [
       "<div>\n",
       "<style scoped>\n",
       "    .dataframe tbody tr th:only-of-type {\n",
       "        vertical-align: middle;\n",
       "    }\n",
       "\n",
       "    .dataframe tbody tr th {\n",
       "        vertical-align: top;\n",
       "    }\n",
       "\n",
       "    .dataframe thead th {\n",
       "        text-align: right;\n",
       "    }\n",
       "</style>\n",
       "<table border=\"1\" class=\"dataframe\">\n",
       "  <thead>\n",
       "    <tr style=\"text-align: right;\">\n",
       "      <th></th>\n",
       "      <th>hotel</th>\n",
       "      <th>meal</th>\n",
       "      <th>market_segment</th>\n",
       "      <th>distribution_channel</th>\n",
       "      <th>reserved_room_type</th>\n",
       "      <th>deposit_type</th>\n",
       "      <th>customer_type</th>\n",
       "      <th>year</th>\n",
       "      <th>month</th>\n",
       "      <th>day</th>\n",
       "      <th>...</th>\n",
       "      <th>adults</th>\n",
       "      <th>children</th>\n",
       "      <th>babies</th>\n",
       "      <th>is_repeated_guest</th>\n",
       "      <th>previous_cancellations</th>\n",
       "      <th>previous_bookings_not_canceled</th>\n",
       "      <th>adr</th>\n",
       "      <th>required_car_parking_spaces</th>\n",
       "      <th>total_of_special_requests</th>\n",
       "      <th>canceled</th>\n",
       "    </tr>\n",
       "  </thead>\n",
       "  <tbody>\n",
       "    <tr>\n",
       "      <th>0</th>\n",
       "      <td>1</td>\n",
       "      <td>0</td>\n",
       "      <td>3</td>\n",
       "      <td>2</td>\n",
       "      <td>1.0</td>\n",
       "      <td>0</td>\n",
       "      <td>2</td>\n",
       "      <td>0</td>\n",
       "      <td>9</td>\n",
       "      <td>23</td>\n",
       "      <td>...</td>\n",
       "      <td>2</td>\n",
       "      <td>0.0</td>\n",
       "      <td>0</td>\n",
       "      <td>0</td>\n",
       "      <td>0</td>\n",
       "      <td>0</td>\n",
       "      <td>4.189655</td>\n",
       "      <td>0</td>\n",
       "      <td>0</td>\n",
       "      <td>0</td>\n",
       "    </tr>\n",
       "    <tr>\n",
       "      <th>1</th>\n",
       "      <td>1</td>\n",
       "      <td>2</td>\n",
       "      <td>3</td>\n",
       "      <td>2</td>\n",
       "      <td>1.0</td>\n",
       "      <td>0</td>\n",
       "      <td>2</td>\n",
       "      <td>2</td>\n",
       "      <td>5</td>\n",
       "      <td>6</td>\n",
       "      <td>...</td>\n",
       "      <td>2</td>\n",
       "      <td>0.0</td>\n",
       "      <td>0</td>\n",
       "      <td>0</td>\n",
       "      <td>0</td>\n",
       "      <td>0</td>\n",
       "      <td>4.770685</td>\n",
       "      <td>0</td>\n",
       "      <td>1</td>\n",
       "      <td>0</td>\n",
       "    </tr>\n",
       "    <tr>\n",
       "      <th>2</th>\n",
       "      <td>0</td>\n",
       "      <td>0</td>\n",
       "      <td>5</td>\n",
       "      <td>2</td>\n",
       "      <td>1.0</td>\n",
       "      <td>0</td>\n",
       "      <td>2</td>\n",
       "      <td>3</td>\n",
       "      <td>3</td>\n",
       "      <td>7</td>\n",
       "      <td>...</td>\n",
       "      <td>2</td>\n",
       "      <td>0.0</td>\n",
       "      <td>0</td>\n",
       "      <td>0</td>\n",
       "      <td>0</td>\n",
       "      <td>0</td>\n",
       "      <td>3.555348</td>\n",
       "      <td>0</td>\n",
       "      <td>0</td>\n",
       "      <td>1</td>\n",
       "    </tr>\n",
       "    <tr>\n",
       "      <th>3</th>\n",
       "      <td>0</td>\n",
       "      <td>0</td>\n",
       "      <td>4</td>\n",
       "      <td>2</td>\n",
       "      <td>3.0</td>\n",
       "      <td>0</td>\n",
       "      <td>0</td>\n",
       "      <td>2</td>\n",
       "      <td>2</td>\n",
       "      <td>25</td>\n",
       "      <td>...</td>\n",
       "      <td>1</td>\n",
       "      <td>0.0</td>\n",
       "      <td>0</td>\n",
       "      <td>0</td>\n",
       "      <td>0</td>\n",
       "      <td>0</td>\n",
       "      <td>0.000000</td>\n",
       "      <td>0</td>\n",
       "      <td>0</td>\n",
       "      <td>0</td>\n",
       "    </tr>\n",
       "    <tr>\n",
       "      <th>4</th>\n",
       "      <td>0</td>\n",
       "      <td>2</td>\n",
       "      <td>5</td>\n",
       "      <td>2</td>\n",
       "      <td>1.0</td>\n",
       "      <td>3</td>\n",
       "      <td>0</td>\n",
       "      <td>2</td>\n",
       "      <td>12</td>\n",
       "      <td>15</td>\n",
       "      <td>...</td>\n",
       "      <td>2</td>\n",
       "      <td>0.0</td>\n",
       "      <td>0</td>\n",
       "      <td>0</td>\n",
       "      <td>0</td>\n",
       "      <td>0</td>\n",
       "      <td>4.007333</td>\n",
       "      <td>0</td>\n",
       "      <td>0</td>\n",
       "      <td>1</td>\n",
       "    </tr>\n",
       "    <tr>\n",
       "      <th>...</th>\n",
       "      <td>...</td>\n",
       "      <td>...</td>\n",
       "      <td>...</td>\n",
       "      <td>...</td>\n",
       "      <td>...</td>\n",
       "      <td>...</td>\n",
       "      <td>...</td>\n",
       "      <td>...</td>\n",
       "      <td>...</td>\n",
       "      <td>...</td>\n",
       "      <td>...</td>\n",
       "      <td>...</td>\n",
       "      <td>...</td>\n",
       "      <td>...</td>\n",
       "      <td>...</td>\n",
       "      <td>...</td>\n",
       "      <td>...</td>\n",
       "      <td>...</td>\n",
       "      <td>...</td>\n",
       "      <td>...</td>\n",
       "      <td>...</td>\n",
       "    </tr>\n",
       "    <tr>\n",
       "      <th>119369</th>\n",
       "      <td>1</td>\n",
       "      <td>0</td>\n",
       "      <td>5</td>\n",
       "      <td>2</td>\n",
       "      <td>1.0</td>\n",
       "      <td>0</td>\n",
       "      <td>2</td>\n",
       "      <td>3</td>\n",
       "      <td>8</td>\n",
       "      <td>29</td>\n",
       "      <td>...</td>\n",
       "      <td>1</td>\n",
       "      <td>0.0</td>\n",
       "      <td>0</td>\n",
       "      <td>0</td>\n",
       "      <td>0</td>\n",
       "      <td>0</td>\n",
       "      <td>0.000000</td>\n",
       "      <td>0</td>\n",
       "      <td>0</td>\n",
       "      <td>0</td>\n",
       "    </tr>\n",
       "    <tr>\n",
       "      <th>119370</th>\n",
       "      <td>1</td>\n",
       "      <td>0</td>\n",
       "      <td>2</td>\n",
       "      <td>2</td>\n",
       "      <td>1.0</td>\n",
       "      <td>0</td>\n",
       "      <td>0</td>\n",
       "      <td>2</td>\n",
       "      <td>10</td>\n",
       "      <td>2</td>\n",
       "      <td>...</td>\n",
       "      <td>2</td>\n",
       "      <td>0.0</td>\n",
       "      <td>0</td>\n",
       "      <td>0</td>\n",
       "      <td>0</td>\n",
       "      <td>0</td>\n",
       "      <td>4.745628</td>\n",
       "      <td>0</td>\n",
       "      <td>0</td>\n",
       "      <td>1</td>\n",
       "    </tr>\n",
       "    <tr>\n",
       "      <th>119371</th>\n",
       "      <td>1</td>\n",
       "      <td>0</td>\n",
       "      <td>2</td>\n",
       "      <td>2</td>\n",
       "      <td>1.0</td>\n",
       "      <td>0</td>\n",
       "      <td>1</td>\n",
       "      <td>0</td>\n",
       "      <td>9</td>\n",
       "      <td>13</td>\n",
       "      <td>...</td>\n",
       "      <td>2</td>\n",
       "      <td>0.0</td>\n",
       "      <td>0</td>\n",
       "      <td>0</td>\n",
       "      <td>0</td>\n",
       "      <td>0</td>\n",
       "      <td>5.030438</td>\n",
       "      <td>0</td>\n",
       "      <td>3</td>\n",
       "      <td>0</td>\n",
       "    </tr>\n",
       "    <tr>\n",
       "      <th>119372</th>\n",
       "      <td>1</td>\n",
       "      <td>0</td>\n",
       "      <td>5</td>\n",
       "      <td>2</td>\n",
       "      <td>1.0</td>\n",
       "      <td>3</td>\n",
       "      <td>0</td>\n",
       "      <td>2</td>\n",
       "      <td>11</td>\n",
       "      <td>25</td>\n",
       "      <td>...</td>\n",
       "      <td>2</td>\n",
       "      <td>0.0</td>\n",
       "      <td>0</td>\n",
       "      <td>0</td>\n",
       "      <td>0</td>\n",
       "      <td>0</td>\n",
       "      <td>4.394449</td>\n",
       "      <td>0</td>\n",
       "      <td>0</td>\n",
       "      <td>1</td>\n",
       "    </tr>\n",
       "    <tr>\n",
       "      <th>119373</th>\n",
       "      <td>1</td>\n",
       "      <td>0</td>\n",
       "      <td>2</td>\n",
       "      <td>2</td>\n",
       "      <td>8.0</td>\n",
       "      <td>0</td>\n",
       "      <td>0</td>\n",
       "      <td>0</td>\n",
       "      <td>12</td>\n",
       "      <td>24</td>\n",
       "      <td>...</td>\n",
       "      <td>2</td>\n",
       "      <td>0.0</td>\n",
       "      <td>0</td>\n",
       "      <td>0</td>\n",
       "      <td>0</td>\n",
       "      <td>0</td>\n",
       "      <td>4.359909</td>\n",
       "      <td>0</td>\n",
       "      <td>1</td>\n",
       "      <td>0</td>\n",
       "    </tr>\n",
       "  </tbody>\n",
       "</table>\n",
       "<p>119374 rows × 25 columns</p>\n",
       "</div>"
      ],
      "text/plain": [
       "        hotel  meal  market_segment  distribution_channel  reserved_room_type  \\\n",
       "0           1     0               3                     2                 1.0   \n",
       "1           1     2               3                     2                 1.0   \n",
       "2           0     0               5                     2                 1.0   \n",
       "3           0     0               4                     2                 3.0   \n",
       "4           0     2               5                     2                 1.0   \n",
       "...       ...   ...             ...                   ...                 ...   \n",
       "119369      1     0               5                     2                 1.0   \n",
       "119370      1     0               2                     2                 1.0   \n",
       "119371      1     0               2                     2                 1.0   \n",
       "119372      1     0               5                     2                 1.0   \n",
       "119373      1     0               2                     2                 8.0   \n",
       "\n",
       "        deposit_type  customer_type  year  month  day  ...  adults  children  \\\n",
       "0                  0              2     0      9   23  ...       2       0.0   \n",
       "1                  0              2     2      5    6  ...       2       0.0   \n",
       "2                  0              2     3      3    7  ...       2       0.0   \n",
       "3                  0              0     2      2   25  ...       1       0.0   \n",
       "4                  3              0     2     12   15  ...       2       0.0   \n",
       "...              ...            ...   ...    ...  ...  ...     ...       ...   \n",
       "119369             0              2     3      8   29  ...       1       0.0   \n",
       "119370             0              0     2     10    2  ...       2       0.0   \n",
       "119371             0              1     0      9   13  ...       2       0.0   \n",
       "119372             3              0     2     11   25  ...       2       0.0   \n",
       "119373             0              0     0     12   24  ...       2       0.0   \n",
       "\n",
       "        babies  is_repeated_guest  previous_cancellations  \\\n",
       "0            0                  0                       0   \n",
       "1            0                  0                       0   \n",
       "2            0                  0                       0   \n",
       "3            0                  0                       0   \n",
       "4            0                  0                       0   \n",
       "...        ...                ...                     ...   \n",
       "119369       0                  0                       0   \n",
       "119370       0                  0                       0   \n",
       "119371       0                  0                       0   \n",
       "119372       0                  0                       0   \n",
       "119373       0                  0                       0   \n",
       "\n",
       "        previous_bookings_not_canceled       adr  required_car_parking_spaces  \\\n",
       "0                                    0  4.189655                            0   \n",
       "1                                    0  4.770685                            0   \n",
       "2                                    0  3.555348                            0   \n",
       "3                                    0  0.000000                            0   \n",
       "4                                    0  4.007333                            0   \n",
       "...                                ...       ...                          ...   \n",
       "119369                               0  0.000000                            0   \n",
       "119370                               0  4.745628                            0   \n",
       "119371                               0  5.030438                            0   \n",
       "119372                               0  4.394449                            0   \n",
       "119373                               0  4.359909                            0   \n",
       "\n",
       "        total_of_special_requests  canceled  \n",
       "0                               0         0  \n",
       "1                               1         0  \n",
       "2                               0         1  \n",
       "3                               0         0  \n",
       "4                               0         1  \n",
       "...                           ...       ...  \n",
       "119369                          0         0  \n",
       "119370                          0         1  \n",
       "119371                          3         0  \n",
       "119372                          0         1  \n",
       "119373                          1         0  \n",
       "\n",
       "[119374 rows x 25 columns]"
      ]
     },
     "execution_count": 245,
     "metadata": {},
     "output_type": "execute_result"
    }
   ],
   "source": [
    "data"
   ]
  },
  {
   "cell_type": "code",
   "execution_count": 246,
   "id": "89d48da9",
   "metadata": {},
   "outputs": [],
   "source": [
    "def handle_duplicates(data,col_to_process=None):\n",
    "    \"\"\"\n",
    "    Function that removes duplicates from a given column.\n",
    "\n",
    "    :param data: DataFrame that contains the data.\n",
    "    :param col_to_process: Column you want to remove duplicates from.\n",
    "    :return: Cleaned data\n",
    "    \"\"\"\n",
    "    \n",
    "    if col_to_process is not None:\n",
    "        data_without_duplicates = data.drop_duplicates(subset=col_to_process)\n",
    "        return data_without_duplicates\n",
    "    \n",
    "    return data\n",
    "    \n",
    "    \n",
    "    "
   ]
  },
  {
   "cell_type": "code",
   "execution_count": 247,
   "id": "d29147bb",
   "metadata": {},
   "outputs": [
    {
     "data": {
      "text/plain": [
       "array(['hotel', 'meal', 'market_segment', 'distribution_channel',\n",
       "       'reserved_room_type', 'deposit_type', 'customer_type', 'year',\n",
       "       'month', 'day', 'lead_time', 'arrival_date_week_number',\n",
       "       'arrival_date_day_of_month', 'stays_in_weekend_nights',\n",
       "       'stays_in_week_nights', 'adults', 'children', 'babies',\n",
       "       'is_repeated_guest', 'previous_cancellations',\n",
       "       'previous_bookings_not_canceled', 'adr',\n",
       "       'required_car_parking_spaces', 'total_of_special_requests',\n",
       "       'canceled'], dtype='<U30')"
      ]
     },
     "execution_count": 247,
     "metadata": {},
     "output_type": "execute_result"
    }
   ],
   "source": [
    "import numpy as np\n",
    "np.squeeze(col_to_use)"
   ]
  },
  {
   "cell_type": "code",
   "execution_count": 248,
   "id": "4ac10abd",
   "metadata": {},
   "outputs": [],
   "source": [
    "data = handle_duplicate(data,col_to_use)"
   ]
  },
  {
   "cell_type": "code",
   "execution_count": 249,
   "id": "e55ba398",
   "metadata": {},
   "outputs": [
    {
     "data": {
      "text/html": [
       "<div>\n",
       "<style scoped>\n",
       "    .dataframe tbody tr th:only-of-type {\n",
       "        vertical-align: middle;\n",
       "    }\n",
       "\n",
       "    .dataframe tbody tr th {\n",
       "        vertical-align: top;\n",
       "    }\n",
       "\n",
       "    .dataframe thead th {\n",
       "        text-align: right;\n",
       "    }\n",
       "</style>\n",
       "<table border=\"1\" class=\"dataframe\">\n",
       "  <thead>\n",
       "    <tr style=\"text-align: right;\">\n",
       "      <th></th>\n",
       "      <th>hotel</th>\n",
       "      <th>meal</th>\n",
       "      <th>market_segment</th>\n",
       "      <th>distribution_channel</th>\n",
       "      <th>reserved_room_type</th>\n",
       "      <th>deposit_type</th>\n",
       "      <th>customer_type</th>\n",
       "      <th>year</th>\n",
       "      <th>month</th>\n",
       "      <th>day</th>\n",
       "      <th>...</th>\n",
       "      <th>adults</th>\n",
       "      <th>children</th>\n",
       "      <th>babies</th>\n",
       "      <th>is_repeated_guest</th>\n",
       "      <th>previous_cancellations</th>\n",
       "      <th>previous_bookings_not_canceled</th>\n",
       "      <th>adr</th>\n",
       "      <th>required_car_parking_spaces</th>\n",
       "      <th>total_of_special_requests</th>\n",
       "      <th>canceled</th>\n",
       "    </tr>\n",
       "  </thead>\n",
       "  <tbody>\n",
       "    <tr>\n",
       "      <th>0</th>\n",
       "      <td>1</td>\n",
       "      <td>0</td>\n",
       "      <td>3</td>\n",
       "      <td>2</td>\n",
       "      <td>1.0</td>\n",
       "      <td>0</td>\n",
       "      <td>2</td>\n",
       "      <td>0</td>\n",
       "      <td>9</td>\n",
       "      <td>23</td>\n",
       "      <td>...</td>\n",
       "      <td>2</td>\n",
       "      <td>0.0</td>\n",
       "      <td>0</td>\n",
       "      <td>0</td>\n",
       "      <td>0</td>\n",
       "      <td>0</td>\n",
       "      <td>4.189655</td>\n",
       "      <td>0</td>\n",
       "      <td>0</td>\n",
       "      <td>0</td>\n",
       "    </tr>\n",
       "    <tr>\n",
       "      <th>1</th>\n",
       "      <td>1</td>\n",
       "      <td>2</td>\n",
       "      <td>3</td>\n",
       "      <td>2</td>\n",
       "      <td>1.0</td>\n",
       "      <td>0</td>\n",
       "      <td>2</td>\n",
       "      <td>2</td>\n",
       "      <td>5</td>\n",
       "      <td>6</td>\n",
       "      <td>...</td>\n",
       "      <td>2</td>\n",
       "      <td>0.0</td>\n",
       "      <td>0</td>\n",
       "      <td>0</td>\n",
       "      <td>0</td>\n",
       "      <td>0</td>\n",
       "      <td>4.770685</td>\n",
       "      <td>0</td>\n",
       "      <td>1</td>\n",
       "      <td>0</td>\n",
       "    </tr>\n",
       "    <tr>\n",
       "      <th>2</th>\n",
       "      <td>0</td>\n",
       "      <td>0</td>\n",
       "      <td>5</td>\n",
       "      <td>2</td>\n",
       "      <td>1.0</td>\n",
       "      <td>0</td>\n",
       "      <td>2</td>\n",
       "      <td>3</td>\n",
       "      <td>3</td>\n",
       "      <td>7</td>\n",
       "      <td>...</td>\n",
       "      <td>2</td>\n",
       "      <td>0.0</td>\n",
       "      <td>0</td>\n",
       "      <td>0</td>\n",
       "      <td>0</td>\n",
       "      <td>0</td>\n",
       "      <td>3.555348</td>\n",
       "      <td>0</td>\n",
       "      <td>0</td>\n",
       "      <td>1</td>\n",
       "    </tr>\n",
       "    <tr>\n",
       "      <th>3</th>\n",
       "      <td>0</td>\n",
       "      <td>0</td>\n",
       "      <td>4</td>\n",
       "      <td>2</td>\n",
       "      <td>3.0</td>\n",
       "      <td>0</td>\n",
       "      <td>0</td>\n",
       "      <td>2</td>\n",
       "      <td>2</td>\n",
       "      <td>25</td>\n",
       "      <td>...</td>\n",
       "      <td>1</td>\n",
       "      <td>0.0</td>\n",
       "      <td>0</td>\n",
       "      <td>0</td>\n",
       "      <td>0</td>\n",
       "      <td>0</td>\n",
       "      <td>0.000000</td>\n",
       "      <td>0</td>\n",
       "      <td>0</td>\n",
       "      <td>0</td>\n",
       "    </tr>\n",
       "    <tr>\n",
       "      <th>4</th>\n",
       "      <td>0</td>\n",
       "      <td>2</td>\n",
       "      <td>5</td>\n",
       "      <td>2</td>\n",
       "      <td>1.0</td>\n",
       "      <td>3</td>\n",
       "      <td>0</td>\n",
       "      <td>2</td>\n",
       "      <td>12</td>\n",
       "      <td>15</td>\n",
       "      <td>...</td>\n",
       "      <td>2</td>\n",
       "      <td>0.0</td>\n",
       "      <td>0</td>\n",
       "      <td>0</td>\n",
       "      <td>0</td>\n",
       "      <td>0</td>\n",
       "      <td>4.007333</td>\n",
       "      <td>0</td>\n",
       "      <td>0</td>\n",
       "      <td>1</td>\n",
       "    </tr>\n",
       "    <tr>\n",
       "      <th>...</th>\n",
       "      <td>...</td>\n",
       "      <td>...</td>\n",
       "      <td>...</td>\n",
       "      <td>...</td>\n",
       "      <td>...</td>\n",
       "      <td>...</td>\n",
       "      <td>...</td>\n",
       "      <td>...</td>\n",
       "      <td>...</td>\n",
       "      <td>...</td>\n",
       "      <td>...</td>\n",
       "      <td>...</td>\n",
       "      <td>...</td>\n",
       "      <td>...</td>\n",
       "      <td>...</td>\n",
       "      <td>...</td>\n",
       "      <td>...</td>\n",
       "      <td>...</td>\n",
       "      <td>...</td>\n",
       "      <td>...</td>\n",
       "      <td>...</td>\n",
       "    </tr>\n",
       "    <tr>\n",
       "      <th>119367</th>\n",
       "      <td>0</td>\n",
       "      <td>0</td>\n",
       "      <td>2</td>\n",
       "      <td>2</td>\n",
       "      <td>1.0</td>\n",
       "      <td>0</td>\n",
       "      <td>2</td>\n",
       "      <td>3</td>\n",
       "      <td>3</td>\n",
       "      <td>9</td>\n",
       "      <td>...</td>\n",
       "      <td>1</td>\n",
       "      <td>0.0</td>\n",
       "      <td>0</td>\n",
       "      <td>1</td>\n",
       "      <td>0</td>\n",
       "      <td>3</td>\n",
       "      <td>4.025352</td>\n",
       "      <td>1</td>\n",
       "      <td>2</td>\n",
       "      <td>0</td>\n",
       "    </tr>\n",
       "    <tr>\n",
       "      <th>119368</th>\n",
       "      <td>1</td>\n",
       "      <td>0</td>\n",
       "      <td>2</td>\n",
       "      <td>2</td>\n",
       "      <td>2.0</td>\n",
       "      <td>0</td>\n",
       "      <td>0</td>\n",
       "      <td>2</td>\n",
       "      <td>2</td>\n",
       "      <td>27</td>\n",
       "      <td>...</td>\n",
       "      <td>2</td>\n",
       "      <td>0.0</td>\n",
       "      <td>0</td>\n",
       "      <td>0</td>\n",
       "      <td>0</td>\n",
       "      <td>0</td>\n",
       "      <td>4.683057</td>\n",
       "      <td>0</td>\n",
       "      <td>0</td>\n",
       "      <td>1</td>\n",
       "    </tr>\n",
       "    <tr>\n",
       "      <th>119369</th>\n",
       "      <td>1</td>\n",
       "      <td>0</td>\n",
       "      <td>5</td>\n",
       "      <td>2</td>\n",
       "      <td>1.0</td>\n",
       "      <td>0</td>\n",
       "      <td>2</td>\n",
       "      <td>3</td>\n",
       "      <td>8</td>\n",
       "      <td>29</td>\n",
       "      <td>...</td>\n",
       "      <td>1</td>\n",
       "      <td>0.0</td>\n",
       "      <td>0</td>\n",
       "      <td>0</td>\n",
       "      <td>0</td>\n",
       "      <td>0</td>\n",
       "      <td>0.000000</td>\n",
       "      <td>0</td>\n",
       "      <td>0</td>\n",
       "      <td>0</td>\n",
       "    </tr>\n",
       "    <tr>\n",
       "      <th>119370</th>\n",
       "      <td>1</td>\n",
       "      <td>0</td>\n",
       "      <td>2</td>\n",
       "      <td>2</td>\n",
       "      <td>1.0</td>\n",
       "      <td>0</td>\n",
       "      <td>0</td>\n",
       "      <td>2</td>\n",
       "      <td>10</td>\n",
       "      <td>2</td>\n",
       "      <td>...</td>\n",
       "      <td>2</td>\n",
       "      <td>0.0</td>\n",
       "      <td>0</td>\n",
       "      <td>0</td>\n",
       "      <td>0</td>\n",
       "      <td>0</td>\n",
       "      <td>4.745628</td>\n",
       "      <td>0</td>\n",
       "      <td>0</td>\n",
       "      <td>1</td>\n",
       "    </tr>\n",
       "    <tr>\n",
       "      <th>119371</th>\n",
       "      <td>1</td>\n",
       "      <td>0</td>\n",
       "      <td>2</td>\n",
       "      <td>2</td>\n",
       "      <td>1.0</td>\n",
       "      <td>0</td>\n",
       "      <td>1</td>\n",
       "      <td>0</td>\n",
       "      <td>9</td>\n",
       "      <td>13</td>\n",
       "      <td>...</td>\n",
       "      <td>2</td>\n",
       "      <td>0.0</td>\n",
       "      <td>0</td>\n",
       "      <td>0</td>\n",
       "      <td>0</td>\n",
       "      <td>0</td>\n",
       "      <td>5.030438</td>\n",
       "      <td>0</td>\n",
       "      <td>3</td>\n",
       "      <td>0</td>\n",
       "    </tr>\n",
       "  </tbody>\n",
       "</table>\n",
       "<p>83628 rows × 25 columns</p>\n",
       "</div>"
      ],
      "text/plain": [
       "        hotel  meal  market_segment  distribution_channel  reserved_room_type  \\\n",
       "0           1     0               3                     2                 1.0   \n",
       "1           1     2               3                     2                 1.0   \n",
       "2           0     0               5                     2                 1.0   \n",
       "3           0     0               4                     2                 3.0   \n",
       "4           0     2               5                     2                 1.0   \n",
       "...       ...   ...             ...                   ...                 ...   \n",
       "119367      0     0               2                     2                 1.0   \n",
       "119368      1     0               2                     2                 2.0   \n",
       "119369      1     0               5                     2                 1.0   \n",
       "119370      1     0               2                     2                 1.0   \n",
       "119371      1     0               2                     2                 1.0   \n",
       "\n",
       "        deposit_type  customer_type  year  month  day  ...  adults  children  \\\n",
       "0                  0              2     0      9   23  ...       2       0.0   \n",
       "1                  0              2     2      5    6  ...       2       0.0   \n",
       "2                  0              2     3      3    7  ...       2       0.0   \n",
       "3                  0              0     2      2   25  ...       1       0.0   \n",
       "4                  3              0     2     12   15  ...       2       0.0   \n",
       "...              ...            ...   ...    ...  ...  ...     ...       ...   \n",
       "119367             0              2     3      3    9  ...       1       0.0   \n",
       "119368             0              0     2      2   27  ...       2       0.0   \n",
       "119369             0              2     3      8   29  ...       1       0.0   \n",
       "119370             0              0     2     10    2  ...       2       0.0   \n",
       "119371             0              1     0      9   13  ...       2       0.0   \n",
       "\n",
       "        babies  is_repeated_guest  previous_cancellations  \\\n",
       "0            0                  0                       0   \n",
       "1            0                  0                       0   \n",
       "2            0                  0                       0   \n",
       "3            0                  0                       0   \n",
       "4            0                  0                       0   \n",
       "...        ...                ...                     ...   \n",
       "119367       0                  1                       0   \n",
       "119368       0                  0                       0   \n",
       "119369       0                  0                       0   \n",
       "119370       0                  0                       0   \n",
       "119371       0                  0                       0   \n",
       "\n",
       "        previous_bookings_not_canceled       adr  required_car_parking_spaces  \\\n",
       "0                                    0  4.189655                            0   \n",
       "1                                    0  4.770685                            0   \n",
       "2                                    0  3.555348                            0   \n",
       "3                                    0  0.000000                            0   \n",
       "4                                    0  4.007333                            0   \n",
       "...                                ...       ...                          ...   \n",
       "119367                               3  4.025352                            1   \n",
       "119368                               0  4.683057                            0   \n",
       "119369                               0  0.000000                            0   \n",
       "119370                               0  4.745628                            0   \n",
       "119371                               0  5.030438                            0   \n",
       "\n",
       "        total_of_special_requests  canceled  \n",
       "0                               0         0  \n",
       "1                               1         0  \n",
       "2                               0         1  \n",
       "3                               0         0  \n",
       "4                               0         1  \n",
       "...                           ...       ...  \n",
       "119367                          2         0  \n",
       "119368                          0         1  \n",
       "119369                          0         0  \n",
       "119370                          0         1  \n",
       "119371                          3         0  \n",
       "\n",
       "[83628 rows x 25 columns]"
      ]
     },
     "execution_count": 249,
     "metadata": {},
     "output_type": "execute_result"
    }
   ],
   "source": [
    "data"
   ]
  },
  {
   "cell_type": "code",
   "execution_count": 250,
   "id": "ac6fa0ce",
   "metadata": {},
   "outputs": [],
   "source": [
    "from sklearn.preprocessing import OneHotEncoder\n",
    "\n",
    "def one_hot_encode(data,label_column):\n",
    "    \"\"\"\n",
    "    Function that one-hot encodes the label column.\n",
    "\n",
    "    :param data: The DataFrame that contains the data.\n",
    "    :param label_column: The column to one hot encode.\n",
    "    :return: DataFrame with one hot encoded label column.\n",
    "    \"\"\"\n",
    "    sorted_counts = (\n",
    "        data[label_column]\n",
    "        .value_counts()\n",
    "        .sort_values(ascending=False)\n",
    "    )\n",
    "    print(sorted_counts)\n",
    "    \n",
    "    one_hot_data = data.copy()\n",
    "    one_hot_data[label_column] = one_hot_data[label_column].map({\n",
    "        sorted_counts.index[0]:0,\n",
    "        sorted_counts.index[1]:1\n",
    "    })\n",
    "    print(one_hot_data[label_column])\n",
    "    return one_hot_data\n",
    "    "
   ]
  },
  {
   "cell_type": "code",
   "execution_count": 251,
   "id": "5486ca49",
   "metadata": {},
   "outputs": [
    {
     "data": {
      "text/plain": [
       "0         0\n",
       "1         0\n",
       "2         1\n",
       "3         0\n",
       "4         1\n",
       "         ..\n",
       "119367    0\n",
       "119368    1\n",
       "119369    0\n",
       "119370    1\n",
       "119371    0\n",
       "Name: canceled, Length: 83628, dtype: int64"
      ]
     },
     "execution_count": 251,
     "metadata": {},
     "output_type": "execute_result"
    }
   ],
   "source": [
    "data['canceled']"
   ]
  },
  {
   "cell_type": "code",
   "execution_count": 252,
   "id": "e7662e37",
   "metadata": {},
   "outputs": [
    {
     "name": "stdout",
     "output_type": "stream",
     "text": [
      "0    59789\n",
      "1    23839\n",
      "Name: canceled, dtype: int64\n",
      "0         0\n",
      "1         0\n",
      "2         1\n",
      "3         0\n",
      "4         1\n",
      "         ..\n",
      "119367    0\n",
      "119368    1\n",
      "119369    0\n",
      "119370    1\n",
      "119371    0\n",
      "Name: canceled, Length: 83628, dtype: int64\n"
     ]
    },
    {
     "data": {
      "text/html": [
       "<div>\n",
       "<style scoped>\n",
       "    .dataframe tbody tr th:only-of-type {\n",
       "        vertical-align: middle;\n",
       "    }\n",
       "\n",
       "    .dataframe tbody tr th {\n",
       "        vertical-align: top;\n",
       "    }\n",
       "\n",
       "    .dataframe thead th {\n",
       "        text-align: right;\n",
       "    }\n",
       "</style>\n",
       "<table border=\"1\" class=\"dataframe\">\n",
       "  <thead>\n",
       "    <tr style=\"text-align: right;\">\n",
       "      <th></th>\n",
       "      <th>hotel</th>\n",
       "      <th>meal</th>\n",
       "      <th>market_segment</th>\n",
       "      <th>distribution_channel</th>\n",
       "      <th>reserved_room_type</th>\n",
       "      <th>deposit_type</th>\n",
       "      <th>customer_type</th>\n",
       "      <th>year</th>\n",
       "      <th>month</th>\n",
       "      <th>day</th>\n",
       "      <th>...</th>\n",
       "      <th>adults</th>\n",
       "      <th>children</th>\n",
       "      <th>babies</th>\n",
       "      <th>is_repeated_guest</th>\n",
       "      <th>previous_cancellations</th>\n",
       "      <th>previous_bookings_not_canceled</th>\n",
       "      <th>adr</th>\n",
       "      <th>required_car_parking_spaces</th>\n",
       "      <th>total_of_special_requests</th>\n",
       "      <th>canceled</th>\n",
       "    </tr>\n",
       "  </thead>\n",
       "  <tbody>\n",
       "    <tr>\n",
       "      <th>0</th>\n",
       "      <td>1</td>\n",
       "      <td>0</td>\n",
       "      <td>3</td>\n",
       "      <td>2</td>\n",
       "      <td>1.0</td>\n",
       "      <td>0</td>\n",
       "      <td>2</td>\n",
       "      <td>0</td>\n",
       "      <td>9</td>\n",
       "      <td>23</td>\n",
       "      <td>...</td>\n",
       "      <td>2</td>\n",
       "      <td>0.0</td>\n",
       "      <td>0</td>\n",
       "      <td>0</td>\n",
       "      <td>0</td>\n",
       "      <td>0</td>\n",
       "      <td>4.189655</td>\n",
       "      <td>0</td>\n",
       "      <td>0</td>\n",
       "      <td>0</td>\n",
       "    </tr>\n",
       "    <tr>\n",
       "      <th>1</th>\n",
       "      <td>1</td>\n",
       "      <td>2</td>\n",
       "      <td>3</td>\n",
       "      <td>2</td>\n",
       "      <td>1.0</td>\n",
       "      <td>0</td>\n",
       "      <td>2</td>\n",
       "      <td>2</td>\n",
       "      <td>5</td>\n",
       "      <td>6</td>\n",
       "      <td>...</td>\n",
       "      <td>2</td>\n",
       "      <td>0.0</td>\n",
       "      <td>0</td>\n",
       "      <td>0</td>\n",
       "      <td>0</td>\n",
       "      <td>0</td>\n",
       "      <td>4.770685</td>\n",
       "      <td>0</td>\n",
       "      <td>1</td>\n",
       "      <td>0</td>\n",
       "    </tr>\n",
       "    <tr>\n",
       "      <th>2</th>\n",
       "      <td>0</td>\n",
       "      <td>0</td>\n",
       "      <td>5</td>\n",
       "      <td>2</td>\n",
       "      <td>1.0</td>\n",
       "      <td>0</td>\n",
       "      <td>2</td>\n",
       "      <td>3</td>\n",
       "      <td>3</td>\n",
       "      <td>7</td>\n",
       "      <td>...</td>\n",
       "      <td>2</td>\n",
       "      <td>0.0</td>\n",
       "      <td>0</td>\n",
       "      <td>0</td>\n",
       "      <td>0</td>\n",
       "      <td>0</td>\n",
       "      <td>3.555348</td>\n",
       "      <td>0</td>\n",
       "      <td>0</td>\n",
       "      <td>1</td>\n",
       "    </tr>\n",
       "    <tr>\n",
       "      <th>3</th>\n",
       "      <td>0</td>\n",
       "      <td>0</td>\n",
       "      <td>4</td>\n",
       "      <td>2</td>\n",
       "      <td>3.0</td>\n",
       "      <td>0</td>\n",
       "      <td>0</td>\n",
       "      <td>2</td>\n",
       "      <td>2</td>\n",
       "      <td>25</td>\n",
       "      <td>...</td>\n",
       "      <td>1</td>\n",
       "      <td>0.0</td>\n",
       "      <td>0</td>\n",
       "      <td>0</td>\n",
       "      <td>0</td>\n",
       "      <td>0</td>\n",
       "      <td>0.000000</td>\n",
       "      <td>0</td>\n",
       "      <td>0</td>\n",
       "      <td>0</td>\n",
       "    </tr>\n",
       "    <tr>\n",
       "      <th>4</th>\n",
       "      <td>0</td>\n",
       "      <td>2</td>\n",
       "      <td>5</td>\n",
       "      <td>2</td>\n",
       "      <td>1.0</td>\n",
       "      <td>3</td>\n",
       "      <td>0</td>\n",
       "      <td>2</td>\n",
       "      <td>12</td>\n",
       "      <td>15</td>\n",
       "      <td>...</td>\n",
       "      <td>2</td>\n",
       "      <td>0.0</td>\n",
       "      <td>0</td>\n",
       "      <td>0</td>\n",
       "      <td>0</td>\n",
       "      <td>0</td>\n",
       "      <td>4.007333</td>\n",
       "      <td>0</td>\n",
       "      <td>0</td>\n",
       "      <td>1</td>\n",
       "    </tr>\n",
       "    <tr>\n",
       "      <th>...</th>\n",
       "      <td>...</td>\n",
       "      <td>...</td>\n",
       "      <td>...</td>\n",
       "      <td>...</td>\n",
       "      <td>...</td>\n",
       "      <td>...</td>\n",
       "      <td>...</td>\n",
       "      <td>...</td>\n",
       "      <td>...</td>\n",
       "      <td>...</td>\n",
       "      <td>...</td>\n",
       "      <td>...</td>\n",
       "      <td>...</td>\n",
       "      <td>...</td>\n",
       "      <td>...</td>\n",
       "      <td>...</td>\n",
       "      <td>...</td>\n",
       "      <td>...</td>\n",
       "      <td>...</td>\n",
       "      <td>...</td>\n",
       "      <td>...</td>\n",
       "    </tr>\n",
       "    <tr>\n",
       "      <th>119367</th>\n",
       "      <td>0</td>\n",
       "      <td>0</td>\n",
       "      <td>2</td>\n",
       "      <td>2</td>\n",
       "      <td>1.0</td>\n",
       "      <td>0</td>\n",
       "      <td>2</td>\n",
       "      <td>3</td>\n",
       "      <td>3</td>\n",
       "      <td>9</td>\n",
       "      <td>...</td>\n",
       "      <td>1</td>\n",
       "      <td>0.0</td>\n",
       "      <td>0</td>\n",
       "      <td>1</td>\n",
       "      <td>0</td>\n",
       "      <td>3</td>\n",
       "      <td>4.025352</td>\n",
       "      <td>1</td>\n",
       "      <td>2</td>\n",
       "      <td>0</td>\n",
       "    </tr>\n",
       "    <tr>\n",
       "      <th>119368</th>\n",
       "      <td>1</td>\n",
       "      <td>0</td>\n",
       "      <td>2</td>\n",
       "      <td>2</td>\n",
       "      <td>2.0</td>\n",
       "      <td>0</td>\n",
       "      <td>0</td>\n",
       "      <td>2</td>\n",
       "      <td>2</td>\n",
       "      <td>27</td>\n",
       "      <td>...</td>\n",
       "      <td>2</td>\n",
       "      <td>0.0</td>\n",
       "      <td>0</td>\n",
       "      <td>0</td>\n",
       "      <td>0</td>\n",
       "      <td>0</td>\n",
       "      <td>4.683057</td>\n",
       "      <td>0</td>\n",
       "      <td>0</td>\n",
       "      <td>1</td>\n",
       "    </tr>\n",
       "    <tr>\n",
       "      <th>119369</th>\n",
       "      <td>1</td>\n",
       "      <td>0</td>\n",
       "      <td>5</td>\n",
       "      <td>2</td>\n",
       "      <td>1.0</td>\n",
       "      <td>0</td>\n",
       "      <td>2</td>\n",
       "      <td>3</td>\n",
       "      <td>8</td>\n",
       "      <td>29</td>\n",
       "      <td>...</td>\n",
       "      <td>1</td>\n",
       "      <td>0.0</td>\n",
       "      <td>0</td>\n",
       "      <td>0</td>\n",
       "      <td>0</td>\n",
       "      <td>0</td>\n",
       "      <td>0.000000</td>\n",
       "      <td>0</td>\n",
       "      <td>0</td>\n",
       "      <td>0</td>\n",
       "    </tr>\n",
       "    <tr>\n",
       "      <th>119370</th>\n",
       "      <td>1</td>\n",
       "      <td>0</td>\n",
       "      <td>2</td>\n",
       "      <td>2</td>\n",
       "      <td>1.0</td>\n",
       "      <td>0</td>\n",
       "      <td>0</td>\n",
       "      <td>2</td>\n",
       "      <td>10</td>\n",
       "      <td>2</td>\n",
       "      <td>...</td>\n",
       "      <td>2</td>\n",
       "      <td>0.0</td>\n",
       "      <td>0</td>\n",
       "      <td>0</td>\n",
       "      <td>0</td>\n",
       "      <td>0</td>\n",
       "      <td>4.745628</td>\n",
       "      <td>0</td>\n",
       "      <td>0</td>\n",
       "      <td>1</td>\n",
       "    </tr>\n",
       "    <tr>\n",
       "      <th>119371</th>\n",
       "      <td>1</td>\n",
       "      <td>0</td>\n",
       "      <td>2</td>\n",
       "      <td>2</td>\n",
       "      <td>1.0</td>\n",
       "      <td>0</td>\n",
       "      <td>1</td>\n",
       "      <td>0</td>\n",
       "      <td>9</td>\n",
       "      <td>13</td>\n",
       "      <td>...</td>\n",
       "      <td>2</td>\n",
       "      <td>0.0</td>\n",
       "      <td>0</td>\n",
       "      <td>0</td>\n",
       "      <td>0</td>\n",
       "      <td>0</td>\n",
       "      <td>5.030438</td>\n",
       "      <td>0</td>\n",
       "      <td>3</td>\n",
       "      <td>0</td>\n",
       "    </tr>\n",
       "  </tbody>\n",
       "</table>\n",
       "<p>83628 rows × 25 columns</p>\n",
       "</div>"
      ],
      "text/plain": [
       "        hotel  meal  market_segment  distribution_channel  reserved_room_type  \\\n",
       "0           1     0               3                     2                 1.0   \n",
       "1           1     2               3                     2                 1.0   \n",
       "2           0     0               5                     2                 1.0   \n",
       "3           0     0               4                     2                 3.0   \n",
       "4           0     2               5                     2                 1.0   \n",
       "...       ...   ...             ...                   ...                 ...   \n",
       "119367      0     0               2                     2                 1.0   \n",
       "119368      1     0               2                     2                 2.0   \n",
       "119369      1     0               5                     2                 1.0   \n",
       "119370      1     0               2                     2                 1.0   \n",
       "119371      1     0               2                     2                 1.0   \n",
       "\n",
       "        deposit_type  customer_type  year  month  day  ...  adults  children  \\\n",
       "0                  0              2     0      9   23  ...       2       0.0   \n",
       "1                  0              2     2      5    6  ...       2       0.0   \n",
       "2                  0              2     3      3    7  ...       2       0.0   \n",
       "3                  0              0     2      2   25  ...       1       0.0   \n",
       "4                  3              0     2     12   15  ...       2       0.0   \n",
       "...              ...            ...   ...    ...  ...  ...     ...       ...   \n",
       "119367             0              2     3      3    9  ...       1       0.0   \n",
       "119368             0              0     2      2   27  ...       2       0.0   \n",
       "119369             0              2     3      8   29  ...       1       0.0   \n",
       "119370             0              0     2     10    2  ...       2       0.0   \n",
       "119371             0              1     0      9   13  ...       2       0.0   \n",
       "\n",
       "        babies  is_repeated_guest  previous_cancellations  \\\n",
       "0            0                  0                       0   \n",
       "1            0                  0                       0   \n",
       "2            0                  0                       0   \n",
       "3            0                  0                       0   \n",
       "4            0                  0                       0   \n",
       "...        ...                ...                     ...   \n",
       "119367       0                  1                       0   \n",
       "119368       0                  0                       0   \n",
       "119369       0                  0                       0   \n",
       "119370       0                  0                       0   \n",
       "119371       0                  0                       0   \n",
       "\n",
       "        previous_bookings_not_canceled       adr  required_car_parking_spaces  \\\n",
       "0                                    0  4.189655                            0   \n",
       "1                                    0  4.770685                            0   \n",
       "2                                    0  3.555348                            0   \n",
       "3                                    0  0.000000                            0   \n",
       "4                                    0  4.007333                            0   \n",
       "...                                ...       ...                          ...   \n",
       "119367                               3  4.025352                            1   \n",
       "119368                               0  4.683057                            0   \n",
       "119369                               0  0.000000                            0   \n",
       "119370                               0  4.745628                            0   \n",
       "119371                               0  5.030438                            0   \n",
       "\n",
       "        total_of_special_requests  canceled  \n",
       "0                               0         0  \n",
       "1                               1         0  \n",
       "2                               0         1  \n",
       "3                               0         0  \n",
       "4                               0         1  \n",
       "...                           ...       ...  \n",
       "119367                          2         0  \n",
       "119368                          0         1  \n",
       "119369                          0         0  \n",
       "119370                          0         1  \n",
       "119371                          3         0  \n",
       "\n",
       "[83628 rows x 25 columns]"
      ]
     },
     "execution_count": 252,
     "metadata": {},
     "output_type": "execute_result"
    }
   ],
   "source": [
    "one_hot_encode(data,'canceled')"
   ]
  },
  {
   "cell_type": "code",
   "execution_count": 253,
   "id": "b01ed67e",
   "metadata": {},
   "outputs": [],
   "source": [
    "def handle_data_imbalance(data,label):\n",
    "    \"\"\"\n",
    "    Function that balances data in a DataFrame.\n",
    "\n",
    "    :param data: DataFrame to balance.\n",
    "    :param label: Label column of the DataFrame.\n",
    "    :return: Data with classes that are equally represented.\n",
    "    \"\"\"\n",
    "    \n",
    "    sorted_counts = (\n",
    "        data[label]\n",
    "        .value_counts()\n",
    "        .sort_values(ascending=False)\n",
    "    )\n",
    "    \n",
    "    majority_class = data[data[label] == sorted_counts.index[0]]\n",
    "    minority_class = data[data[label] == sorted_counts.index[1]]\n",
    "    \n",
    "    majority_class_undersampled = majority_class.sample(sorted_counts[1])\n",
    "    \n",
    "    new_data = pd.concat(\n",
    "        [majority_class_undersampled,minority_class],\n",
    "        axis = 0\n",
    "    )\n",
    "    \n",
    "    return new_data\n",
    "    \n",
    "    \n",
    "    \n",
    "    \n",
    "    "
   ]
  },
  {
   "cell_type": "code",
   "execution_count": 254,
   "id": "b247d1be",
   "metadata": {},
   "outputs": [
    {
     "data": {
      "text/html": [
       "<div>\n",
       "<style scoped>\n",
       "    .dataframe tbody tr th:only-of-type {\n",
       "        vertical-align: middle;\n",
       "    }\n",
       "\n",
       "    .dataframe tbody tr th {\n",
       "        vertical-align: top;\n",
       "    }\n",
       "\n",
       "    .dataframe thead th {\n",
       "        text-align: right;\n",
       "    }\n",
       "</style>\n",
       "<table border=\"1\" class=\"dataframe\">\n",
       "  <thead>\n",
       "    <tr style=\"text-align: right;\">\n",
       "      <th></th>\n",
       "      <th>hotel</th>\n",
       "      <th>meal</th>\n",
       "      <th>market_segment</th>\n",
       "      <th>distribution_channel</th>\n",
       "      <th>reserved_room_type</th>\n",
       "      <th>deposit_type</th>\n",
       "      <th>customer_type</th>\n",
       "      <th>year</th>\n",
       "      <th>month</th>\n",
       "      <th>day</th>\n",
       "      <th>...</th>\n",
       "      <th>adults</th>\n",
       "      <th>children</th>\n",
       "      <th>babies</th>\n",
       "      <th>is_repeated_guest</th>\n",
       "      <th>previous_cancellations</th>\n",
       "      <th>previous_bookings_not_canceled</th>\n",
       "      <th>adr</th>\n",
       "      <th>required_car_parking_spaces</th>\n",
       "      <th>total_of_special_requests</th>\n",
       "      <th>canceled</th>\n",
       "    </tr>\n",
       "  </thead>\n",
       "  <tbody>\n",
       "    <tr>\n",
       "      <th>18537</th>\n",
       "      <td>1</td>\n",
       "      <td>0</td>\n",
       "      <td>2</td>\n",
       "      <td>2</td>\n",
       "      <td>2.0</td>\n",
       "      <td>0</td>\n",
       "      <td>0</td>\n",
       "      <td>2</td>\n",
       "      <td>8</td>\n",
       "      <td>30</td>\n",
       "      <td>...</td>\n",
       "      <td>3</td>\n",
       "      <td>0.0</td>\n",
       "      <td>0</td>\n",
       "      <td>0</td>\n",
       "      <td>0</td>\n",
       "      <td>0</td>\n",
       "      <td>5.096813</td>\n",
       "      <td>0</td>\n",
       "      <td>2</td>\n",
       "      <td>0</td>\n",
       "    </tr>\n",
       "    <tr>\n",
       "      <th>12983</th>\n",
       "      <td>0</td>\n",
       "      <td>0</td>\n",
       "      <td>2</td>\n",
       "      <td>2</td>\n",
       "      <td>1.0</td>\n",
       "      <td>0</td>\n",
       "      <td>0</td>\n",
       "      <td>3</td>\n",
       "      <td>4</td>\n",
       "      <td>4</td>\n",
       "      <td>...</td>\n",
       "      <td>1</td>\n",
       "      <td>0.0</td>\n",
       "      <td>0</td>\n",
       "      <td>1</td>\n",
       "      <td>0</td>\n",
       "      <td>1</td>\n",
       "      <td>3.996180</td>\n",
       "      <td>0</td>\n",
       "      <td>3</td>\n",
       "      <td>0</td>\n",
       "    </tr>\n",
       "    <tr>\n",
       "      <th>24554</th>\n",
       "      <td>1</td>\n",
       "      <td>0</td>\n",
       "      <td>2</td>\n",
       "      <td>2</td>\n",
       "      <td>1.0</td>\n",
       "      <td>0</td>\n",
       "      <td>1</td>\n",
       "      <td>0</td>\n",
       "      <td>11</td>\n",
       "      <td>8</td>\n",
       "      <td>...</td>\n",
       "      <td>1</td>\n",
       "      <td>0.0</td>\n",
       "      <td>0</td>\n",
       "      <td>0</td>\n",
       "      <td>0</td>\n",
       "      <td>0</td>\n",
       "      <td>4.406719</td>\n",
       "      <td>0</td>\n",
       "      <td>1</td>\n",
       "      <td>0</td>\n",
       "    </tr>\n",
       "    <tr>\n",
       "      <th>90173</th>\n",
       "      <td>1</td>\n",
       "      <td>0</td>\n",
       "      <td>2</td>\n",
       "      <td>2</td>\n",
       "      <td>1.0</td>\n",
       "      <td>0</td>\n",
       "      <td>0</td>\n",
       "      <td>3</td>\n",
       "      <td>5</td>\n",
       "      <td>24</td>\n",
       "      <td>...</td>\n",
       "      <td>2</td>\n",
       "      <td>0.0</td>\n",
       "      <td>0</td>\n",
       "      <td>0</td>\n",
       "      <td>0</td>\n",
       "      <td>0</td>\n",
       "      <td>5.093750</td>\n",
       "      <td>0</td>\n",
       "      <td>2</td>\n",
       "      <td>0</td>\n",
       "    </tr>\n",
       "    <tr>\n",
       "      <th>66968</th>\n",
       "      <td>1</td>\n",
       "      <td>0</td>\n",
       "      <td>2</td>\n",
       "      <td>2</td>\n",
       "      <td>2.0</td>\n",
       "      <td>0</td>\n",
       "      <td>0</td>\n",
       "      <td>3</td>\n",
       "      <td>4</td>\n",
       "      <td>30</td>\n",
       "      <td>...</td>\n",
       "      <td>2</td>\n",
       "      <td>0.0</td>\n",
       "      <td>0</td>\n",
       "      <td>0</td>\n",
       "      <td>0</td>\n",
       "      <td>0</td>\n",
       "      <td>4.569128</td>\n",
       "      <td>0</td>\n",
       "      <td>1</td>\n",
       "      <td>0</td>\n",
       "    </tr>\n",
       "    <tr>\n",
       "      <th>...</th>\n",
       "      <td>...</td>\n",
       "      <td>...</td>\n",
       "      <td>...</td>\n",
       "      <td>...</td>\n",
       "      <td>...</td>\n",
       "      <td>...</td>\n",
       "      <td>...</td>\n",
       "      <td>...</td>\n",
       "      <td>...</td>\n",
       "      <td>...</td>\n",
       "      <td>...</td>\n",
       "      <td>...</td>\n",
       "      <td>...</td>\n",
       "      <td>...</td>\n",
       "      <td>...</td>\n",
       "      <td>...</td>\n",
       "      <td>...</td>\n",
       "      <td>...</td>\n",
       "      <td>...</td>\n",
       "      <td>...</td>\n",
       "      <td>...</td>\n",
       "    </tr>\n",
       "    <tr>\n",
       "      <th>119353</th>\n",
       "      <td>1</td>\n",
       "      <td>0</td>\n",
       "      <td>2</td>\n",
       "      <td>2</td>\n",
       "      <td>2.0</td>\n",
       "      <td>0</td>\n",
       "      <td>0</td>\n",
       "      <td>3</td>\n",
       "      <td>5</td>\n",
       "      <td>18</td>\n",
       "      <td>...</td>\n",
       "      <td>2</td>\n",
       "      <td>0.0</td>\n",
       "      <td>0</td>\n",
       "      <td>0</td>\n",
       "      <td>0</td>\n",
       "      <td>0</td>\n",
       "      <td>4.945207</td>\n",
       "      <td>0</td>\n",
       "      <td>0</td>\n",
       "      <td>1</td>\n",
       "    </tr>\n",
       "    <tr>\n",
       "      <th>119355</th>\n",
       "      <td>1</td>\n",
       "      <td>0</td>\n",
       "      <td>2</td>\n",
       "      <td>2</td>\n",
       "      <td>1.0</td>\n",
       "      <td>0</td>\n",
       "      <td>0</td>\n",
       "      <td>2</td>\n",
       "      <td>10</td>\n",
       "      <td>18</td>\n",
       "      <td>...</td>\n",
       "      <td>2</td>\n",
       "      <td>1.0</td>\n",
       "      <td>0</td>\n",
       "      <td>0</td>\n",
       "      <td>0</td>\n",
       "      <td>0</td>\n",
       "      <td>4.651099</td>\n",
       "      <td>0</td>\n",
       "      <td>2</td>\n",
       "      <td>1</td>\n",
       "    </tr>\n",
       "    <tr>\n",
       "      <th>119357</th>\n",
       "      <td>1</td>\n",
       "      <td>0</td>\n",
       "      <td>2</td>\n",
       "      <td>2</td>\n",
       "      <td>2.0</td>\n",
       "      <td>0</td>\n",
       "      <td>0</td>\n",
       "      <td>3</td>\n",
       "      <td>5</td>\n",
       "      <td>7</td>\n",
       "      <td>...</td>\n",
       "      <td>3</td>\n",
       "      <td>0.0</td>\n",
       "      <td>0</td>\n",
       "      <td>0</td>\n",
       "      <td>0</td>\n",
       "      <td>0</td>\n",
       "      <td>5.064176</td>\n",
       "      <td>0</td>\n",
       "      <td>0</td>\n",
       "      <td>1</td>\n",
       "    </tr>\n",
       "    <tr>\n",
       "      <th>119368</th>\n",
       "      <td>1</td>\n",
       "      <td>0</td>\n",
       "      <td>2</td>\n",
       "      <td>2</td>\n",
       "      <td>2.0</td>\n",
       "      <td>0</td>\n",
       "      <td>0</td>\n",
       "      <td>2</td>\n",
       "      <td>2</td>\n",
       "      <td>27</td>\n",
       "      <td>...</td>\n",
       "      <td>2</td>\n",
       "      <td>0.0</td>\n",
       "      <td>0</td>\n",
       "      <td>0</td>\n",
       "      <td>0</td>\n",
       "      <td>0</td>\n",
       "      <td>4.683057</td>\n",
       "      <td>0</td>\n",
       "      <td>0</td>\n",
       "      <td>1</td>\n",
       "    </tr>\n",
       "    <tr>\n",
       "      <th>119370</th>\n",
       "      <td>1</td>\n",
       "      <td>0</td>\n",
       "      <td>2</td>\n",
       "      <td>2</td>\n",
       "      <td>1.0</td>\n",
       "      <td>0</td>\n",
       "      <td>0</td>\n",
       "      <td>2</td>\n",
       "      <td>10</td>\n",
       "      <td>2</td>\n",
       "      <td>...</td>\n",
       "      <td>2</td>\n",
       "      <td>0.0</td>\n",
       "      <td>0</td>\n",
       "      <td>0</td>\n",
       "      <td>0</td>\n",
       "      <td>0</td>\n",
       "      <td>4.745628</td>\n",
       "      <td>0</td>\n",
       "      <td>0</td>\n",
       "      <td>1</td>\n",
       "    </tr>\n",
       "  </tbody>\n",
       "</table>\n",
       "<p>47678 rows × 25 columns</p>\n",
       "</div>"
      ],
      "text/plain": [
       "        hotel  meal  market_segment  distribution_channel  reserved_room_type  \\\n",
       "18537       1     0               2                     2                 2.0   \n",
       "12983       0     0               2                     2                 1.0   \n",
       "24554       1     0               2                     2                 1.0   \n",
       "90173       1     0               2                     2                 1.0   \n",
       "66968       1     0               2                     2                 2.0   \n",
       "...       ...   ...             ...                   ...                 ...   \n",
       "119353      1     0               2                     2                 2.0   \n",
       "119355      1     0               2                     2                 1.0   \n",
       "119357      1     0               2                     2                 2.0   \n",
       "119368      1     0               2                     2                 2.0   \n",
       "119370      1     0               2                     2                 1.0   \n",
       "\n",
       "        deposit_type  customer_type  year  month  day  ...  adults  children  \\\n",
       "18537              0              0     2      8   30  ...       3       0.0   \n",
       "12983              0              0     3      4    4  ...       1       0.0   \n",
       "24554              0              1     0     11    8  ...       1       0.0   \n",
       "90173              0              0     3      5   24  ...       2       0.0   \n",
       "66968              0              0     3      4   30  ...       2       0.0   \n",
       "...              ...            ...   ...    ...  ...  ...     ...       ...   \n",
       "119353             0              0     3      5   18  ...       2       0.0   \n",
       "119355             0              0     2     10   18  ...       2       1.0   \n",
       "119357             0              0     3      5    7  ...       3       0.0   \n",
       "119368             0              0     2      2   27  ...       2       0.0   \n",
       "119370             0              0     2     10    2  ...       2       0.0   \n",
       "\n",
       "        babies  is_repeated_guest  previous_cancellations  \\\n",
       "18537        0                  0                       0   \n",
       "12983        0                  1                       0   \n",
       "24554        0                  0                       0   \n",
       "90173        0                  0                       0   \n",
       "66968        0                  0                       0   \n",
       "...        ...                ...                     ...   \n",
       "119353       0                  0                       0   \n",
       "119355       0                  0                       0   \n",
       "119357       0                  0                       0   \n",
       "119368       0                  0                       0   \n",
       "119370       0                  0                       0   \n",
       "\n",
       "        previous_bookings_not_canceled       adr  required_car_parking_spaces  \\\n",
       "18537                                0  5.096813                            0   \n",
       "12983                                1  3.996180                            0   \n",
       "24554                                0  4.406719                            0   \n",
       "90173                                0  5.093750                            0   \n",
       "66968                                0  4.569128                            0   \n",
       "...                                ...       ...                          ...   \n",
       "119353                               0  4.945207                            0   \n",
       "119355                               0  4.651099                            0   \n",
       "119357                               0  5.064176                            0   \n",
       "119368                               0  4.683057                            0   \n",
       "119370                               0  4.745628                            0   \n",
       "\n",
       "        total_of_special_requests  canceled  \n",
       "18537                           2         0  \n",
       "12983                           3         0  \n",
       "24554                           1         0  \n",
       "90173                           2         0  \n",
       "66968                           1         0  \n",
       "...                           ...       ...  \n",
       "119353                          0         1  \n",
       "119355                          2         1  \n",
       "119357                          0         1  \n",
       "119368                          0         1  \n",
       "119370                          0         1  \n",
       "\n",
       "[47678 rows x 25 columns]"
      ]
     },
     "execution_count": 254,
     "metadata": {},
     "output_type": "execute_result"
    }
   ],
   "source": [
    "handle_data_imbalance(data,'canceled')"
   ]
  },
  {
   "cell_type": "code",
   "execution_count": 255,
   "id": "9f476db5",
   "metadata": {},
   "outputs": [],
   "source": [
    "def initial_preprocessing(data,cols_to_use,label_column,miss_cut_off,col_to_process,handle_imbalance):\n",
    "    \"\"\"\n",
    "    Function that performs typical non NLP specific data preprocessing.\n",
    "\n",
    "    :param data: CSV file to create a DataFrame from.\n",
    "    :param cols_to_use: Columns to use from your CSV file.\n",
    "    :param label_column: The column that contains the dependent variable.\n",
    "    :param miss_cut_off: Percentage of data a column must be missing to be removed completely.\n",
    "    :param col_to_process: Column to check for duplicates.\n",
    "    :param handle_imbalance: Whether to handle data imbalance or not.\n",
    "    :return: DataFrame preprocessed with basic non NLP specific techniques.\n",
    "    \"\"\"\n",
    "    \n",
    "    df = load_data(data,cols_to_use)\n",
    "    \n",
    "    df_without_nan = handle_missing_data(df,label_column,miss_cut_off)\n",
    "    \n",
    "    df_without_duplictes = handle_duplicates(df_without_nan,col_to_process)\n",
    "    \n",
    "    one_hot_encoded_df = one_hot_encode(df_without_duplictes,label_column)\n",
    "    \n",
    "    if handle_imbalance:\n",
    "        balanced_df = handle_data_imbalance(one_hot_encoded_df,label_column)\n",
    "        return balanced_df\n",
    "    \n",
    "    return one_hot_encoded_df\n",
    "    \n",
    "    \n",
    "    \n",
    "    \n",
    "    \n",
    "    "
   ]
  },
  {
   "cell_type": "code",
   "execution_count": 256,
   "id": "e05769a0",
   "metadata": {},
   "outputs": [],
   "source": [
    "test_dataset = \"https://edlitera-datasets.s3.amazonaws.com/wine_data_classification.csv\""
   ]
  },
  {
   "cell_type": "code",
   "execution_count": 257,
   "id": "f55e2ae9",
   "metadata": {},
   "outputs": [
    {
     "name": "stdout",
     "output_type": "stream",
     "text": [
      "great_wine       88262\n",
      "superior_wine    31693\n",
      "Name: wine_type, dtype: int64\n",
      "0         0\n",
      "1         0\n",
      "2         0\n",
      "3         0\n",
      "4         0\n",
      "         ..\n",
      "129966    0\n",
      "129967    0\n",
      "129968    0\n",
      "129969    0\n",
      "129970    0\n",
      "Name: wine_type, Length: 119955, dtype: int64\n"
     ]
    }
   ],
   "source": [
    "df_after_initial_preprocessing = initial_preprocessing(\n",
    "    data = test_dataset,\n",
    "    cols_to_use = [\"description\",\"wine_type\"],\n",
    "    label_column = \"wine_type\",\n",
    "    col_to_process = \"description\",\n",
    "    miss_cut_off = 0.35,\n",
    "    handle_imbalance = True\n",
    ")"
   ]
  },
  {
   "cell_type": "code",
   "execution_count": 258,
   "id": "d75465f5",
   "metadata": {},
   "outputs": [
    {
     "data": {
      "text/html": [
       "<div>\n",
       "<style scoped>\n",
       "    .dataframe tbody tr th:only-of-type {\n",
       "        vertical-align: middle;\n",
       "    }\n",
       "\n",
       "    .dataframe tbody tr th {\n",
       "        vertical-align: top;\n",
       "    }\n",
       "\n",
       "    .dataframe thead th {\n",
       "        text-align: right;\n",
       "    }\n",
       "</style>\n",
       "<table border=\"1\" class=\"dataframe\">\n",
       "  <thead>\n",
       "    <tr style=\"text-align: right;\">\n",
       "      <th></th>\n",
       "      <th>description</th>\n",
       "      <th>wine_type</th>\n",
       "    </tr>\n",
       "  </thead>\n",
       "  <tbody>\n",
       "    <tr>\n",
       "      <th>97676</th>\n",
       "      <td>This wine combines opulent, ripe, almost sweet...</td>\n",
       "      <td>0</td>\n",
       "    </tr>\n",
       "    <tr>\n",
       "      <th>49624</th>\n",
       "      <td>A sweet, soft, clean wine, anonymous almost. Y...</td>\n",
       "      <td>0</td>\n",
       "    </tr>\n",
       "    <tr>\n",
       "      <th>1804</th>\n",
       "      <td>This wine is light, fruity and with only a sli...</td>\n",
       "      <td>0</td>\n",
       "    </tr>\n",
       "    <tr>\n",
       "      <th>96083</th>\n",
       "      <td>This offers a core of dense, rich fruit that's...</td>\n",
       "      <td>0</td>\n",
       "    </tr>\n",
       "    <tr>\n",
       "      <th>1316</th>\n",
       "      <td>Radiant and elegant, this offers enticing whit...</td>\n",
       "      <td>0</td>\n",
       "    </tr>\n",
       "    <tr>\n",
       "      <th>...</th>\n",
       "      <td>...</td>\n",
       "      <td>...</td>\n",
       "    </tr>\n",
       "    <tr>\n",
       "      <th>129936</th>\n",
       "      <td>A blend from several premier cru vineyards in ...</td>\n",
       "      <td>1</td>\n",
       "    </tr>\n",
       "    <tr>\n",
       "      <th>129937</th>\n",
       "      <td>Smooth, creamy aromas are followed by a rich, ...</td>\n",
       "      <td>1</td>\n",
       "    </tr>\n",
       "    <tr>\n",
       "      <th>129938</th>\n",
       "      <td>Compared to the regular 2006 Malbec from Chaka...</td>\n",
       "      <td>1</td>\n",
       "    </tr>\n",
       "    <tr>\n",
       "      <th>129939</th>\n",
       "      <td>A true TBA, its very rich, toffee-flavored, in...</td>\n",
       "      <td>1</td>\n",
       "    </tr>\n",
       "    <tr>\n",
       "      <th>129940</th>\n",
       "      <td>This is the winery's bells and whistles Chardo...</td>\n",
       "      <td>1</td>\n",
       "    </tr>\n",
       "  </tbody>\n",
       "</table>\n",
       "<p>63386 rows × 2 columns</p>\n",
       "</div>"
      ],
      "text/plain": [
       "                                              description  wine_type\n",
       "97676   This wine combines opulent, ripe, almost sweet...          0\n",
       "49624   A sweet, soft, clean wine, anonymous almost. Y...          0\n",
       "1804    This wine is light, fruity and with only a sli...          0\n",
       "96083   This offers a core of dense, rich fruit that's...          0\n",
       "1316    Radiant and elegant, this offers enticing whit...          0\n",
       "...                                                   ...        ...\n",
       "129936  A blend from several premier cru vineyards in ...          1\n",
       "129937  Smooth, creamy aromas are followed by a rich, ...          1\n",
       "129938  Compared to the regular 2006 Malbec from Chaka...          1\n",
       "129939  A true TBA, its very rich, toffee-flavored, in...          1\n",
       "129940  This is the winery's bells and whistles Chardo...          1\n",
       "\n",
       "[63386 rows x 2 columns]"
      ]
     },
     "execution_count": 258,
     "metadata": {},
     "output_type": "execute_result"
    }
   ],
   "source": [
    "df_after_initial_preprocessing"
   ]
  },
  {
   "cell_type": "code",
   "execution_count": 355,
   "id": "418eec7d",
   "metadata": {},
   "outputs": [],
   "source": [
    "from nltk.tokenize import RegexpTokenizer\n",
    "\n",
    "def lowercase_and_tokenizer(data,tokenizer='Regexp'):   \n",
    "    \"\"\"\n",
    "    Function that lowercases and tokenizes text.\n",
    "    Can tokenize both a Series of strings or a single string.\n",
    "\n",
    "    :param data: Input text data\n",
    "    :param tokenizer: The tokenizer to use\n",
    "    :return: Tokenized version of the text data in the form of a list of strings or a Series of strings.\n",
    "    \"\"\"\n",
    "    \n",
    "    if tokenizer == \"Regexp\":\n",
    "        tokenizer = RegexpTokenizer(\"[\\w']+\")\n",
    "    else: \n",
    "        tokenizer = ToktokTokenizer()\n",
    "        \n",
    "    \n",
    "    if isinstance(data,str):\n",
    "        words = tokenizer.tokenize(data.lower())\n",
    "        return words\n",
    "    else:\n",
    "        data = data.str.lower()\n",
    "        words = data.apply(tokenizer.tokenize)\n",
    "        return words\n",
    "    \n",
    "    \n",
    "    \n",
    "    "
   ]
  },
  {
   "cell_type": "code",
   "execution_count": 357,
   "id": "ab84ac59",
   "metadata": {},
   "outputs": [],
   "source": [
    "from nltk.corpus import stopwords\n",
    "def remove_stopwords(data,stopwords=stopwords.words(\"english\")):\n",
    "    \"\"\"\n",
    "    Function that removes stopwords from some text data.\n",
    "    Can remove stopwords from both a Pandas Series containing lists of strings or a list of strings.\n",
    "\n",
    "    :param data: A Pandas Series or a list of strings\n",
    "    :param stopwords: The list of stopwords to remove from the text data\n",
    "    :return: Text data without stopwords\n",
    "    \"\"\"\n",
    "    #stopswords = stopwords.words(\"english\") \n",
    "    stopwords.extend([\".\",\",\",\":\",\";\",\"!\",\"?\"])\n",
    "    stopwords = set(stopwords)\n",
    "    \n",
    "    if isinstance(data,list):\n",
    "        text_without_stopwords = [word for word in data if not word in stopwords]\n",
    "        return text_without_stopwords\n",
    "    else:\n",
    "        text_without_stopwords = data.apply(lambda x: [word for word in x if not word in stopwords])\n",
    "        return text_without_stopwords\n",
    "    "
   ]
  },
  {
   "cell_type": "code",
   "execution_count": 261,
   "id": "6e617eb8",
   "metadata": {},
   "outputs": [],
   "source": [
    "from nltk.stem import PorterStemmer\n",
    "from nltk.stem.snowball import SnowballStemmer\n",
    "from nltk.stem import LancasterStemmer\n",
    "from nltk.stem import WordNetLemmatizer\n",
    "\n",
    "def stemming(data,stemmer=\"SnowballStemmer\",stemmer_language = \"english\" ):\n",
    "    \"\"\"\n",
    "    Function that stems text data.\n",
    "    Can stem both a Pandas Series containing lists of strings or a list of strings.\n",
    "\n",
    "    :param data: Series containing lists of strings or a list of strings.\n",
    "    :param stemmer: The stemmer to use to stem your data.\n",
    "    :param stemmer_language: The language of the stemmer if using the Snowball Stemmer\n",
    "    :return: Stemmed text data.\n",
    "    \"\"\" \n",
    "    if stemmer == \"PorterStemmer\":\n",
    "        stemmer = PorterStemmer()\n",
    "    else:\n",
    "        stemmer = SnowballStemmer(language = stemmer_language)\n",
    "        \n",
    "    if isinstance(data,list):\n",
    "        words_stemmed = [stemmer.stem(token) for token in data]\n",
    "        return words_stemmed\n",
    "    else:\n",
    "        words_stemmed = data.apply(lambda x: [stemmer.stem(token) for token in x])\n",
    "        return words_stemmed\n",
    "    \n",
    "    \n",
    "        \n",
    "        \n",
    "    \n",
    "        \n",
    "    "
   ]
  },
  {
   "cell_type": "code",
   "execution_count": 262,
   "id": "57b9dd67",
   "metadata": {},
   "outputs": [],
   "source": [
    "def convert_pos_tags(tag):\n",
    "    \"\"\"\n",
    "    Converts POS tags from the Treebank format to the Wordnet format.\n",
    "\n",
    "    :param tag: The tag to convert from one format to another.\n",
    "    :return: POS tag in the Wordnet format.\n",
    "    \"\"\"\n",
    "    \n",
    "    if tag.startswith('J'):\n",
    "        return wordnet.ADJ\n",
    "    elif tag.startwith('V'):\n",
    "        return wordnet.VERB\n",
    "    elif tag.startwith('N'):\n",
    "        return wordnet.NOUN\n",
    "    elif ag.startwith('R'):\n",
    "        return wordnet.ADV\n",
    "    else:\n",
    "        return None\n",
    "    \n",
    "    \n",
    "    \n",
    "    \n",
    "    "
   ]
  },
  {
   "cell_type": "code",
   "execution_count": 263,
   "id": "adbb2893",
   "metadata": {},
   "outputs": [],
   "source": [
    "def lemmatization(data):\n",
    "    \"\"\"\n",
    "    Function that lemmatizes text data.\n",
    "    Can lemmatize both a list of strings or a Pandas Series containing lists of strings.\n",
    "\n",
    "    :param data: The text data to lemmatize, either as a list of strings or a Pandas Series containing lists of strings.\n",
    "    :return: Lemmatized text data.\n",
    "    \"\"\"\n",
    "    lemmatizer = WordNetLemmatizer()\n",
    "    \n",
    "    if isinstance(data,list):\n",
    "        lemmatized_words =  [lemmatizer.lemmatize(token,pos = convert_pos_tags(tag)) if convert_pos_tag(tag) != None \\\n",
    "                             else lemmatizer.lemmatize(token) for token ,tag in pos_tag(data)]\n",
    "        \n",
    "        return lemmatized_words\n",
    "    else:\n",
    "        lemmatized_words = data.apply(\n",
    "            lambda x: [lemmatizer.lemmatize(token,pos=covert_pos_tags(tag)) if convert_pos_tags(tag) != None \\\n",
    "                       else lemmatizer.lemmatize(token) for token,tag in post_tag(x)])\n",
    "        return lemmatized_words\n",
    "        \n",
    "    "
   ]
  },
  {
   "cell_type": "code",
   "execution_count": 361,
   "id": "c7c7cfe7",
   "metadata": {},
   "outputs": [],
   "source": [
    "def nlp_specific_preprocessing(data,\n",
    "                               col_to_process = None,\n",
    "                               new_col_name = None,\n",
    "                               label_column = None,\n",
    "                               stop_words = stopwords.words(\"english\"),\n",
    "                               tokenizer = \"Regexp\",\n",
    "                               stemmer = \"SnowballStemmer\"):\n",
    "    \"\"\"\n",
    "    Function that performs NLP specific preprocessing.\n",
    "    Lowercases and tokenizes data.\n",
    "    Removes stopwords.\n",
    "    Performs lemmatization or stemming.\n",
    "\n",
    "    :param data: Input text data, either as a list of strings or a Pandas Series containing lists of strings.\n",
    "    :param col_to_process: The column to preprocess, if preprocessing a column of a DataFrame.\n",
    "    :param new_col_name: Name of a column to add which will contain clean text data.\n",
    "    :param label_column: Column that contains the dependent variable.\n",
    "    :param stop_words: List of stopwords to remove from the text data.\n",
    "    :param tokenizer: The tokenizer to use.\n",
    "    :param stemmer: The stemmer to use (if none provided, lemmatization will be performed)\n",
    "    :return: Preprocessed text data.\n",
    "    \"\"\"\n",
    "    \n",
    "    if isinstance(data,str):\n",
    "        processed_words = lowercase_and_tokenizer(data)\n",
    "        processed_words = remove_stopwords(processed_words,stopwords=stop_words)\n",
    "    else:\n",
    "        col_to_preprocess = data.drop(columns=[label_column]).iloc[:,0]\n",
    "        \n",
    "        processed_words = lowercase_and_tokenizer(col_to_preprocess)\n",
    "        processed_words = remove_stopwords(processed_words,stopwords=stop_words)\n",
    "    \n",
    "    #perform stemming or lematization\n",
    "    if stemmer == \"SnowballStemmer\":\n",
    "        processed_words = stemming(processed_words,stemmer=stemmer,stemmer_language=\"english\")\n",
    "    elif stemmer == \"PorterStemmer\":\n",
    "        processed_words = stemming(processed_words,stmmer=stemmer,stemmer_language=\"english\")\n",
    "    else:\n",
    "        processed_words = lemmatization(processed_words)\n",
    "        \n",
    "    if isinstance(data,str):\n",
    "        clean_words = [\" \".join(processed_words)]\n",
    "        return clean_words\n",
    "    else:\n",
    "        clean_data = data[[label_column]].copy()\n",
    "        clean_data[new_col_name] = processed_words.apply(lambda x: \" \".join(x))\n",
    "        return clean_data\n",
    "        \n",
    "        \n",
    "        \n",
    "        \n",
    "        \n",
    "    \n",
    "    \n",
    "    \n",
    "    \n",
    "    \n",
    "    \n",
    "    "
   ]
  },
  {
   "cell_type": "code",
   "execution_count": 265,
   "id": "558e325b",
   "metadata": {},
   "outputs": [],
   "source": [
    "df_after_nlp_preprocessing = nlp_specific_preprocessing(\n",
    "    data =df_after_initial_preprocessing,\n",
    "    new_col_name = \"clean_description\",\n",
    "    label_column = \"wine_type\"\n",
    ")"
   ]
  },
  {
   "cell_type": "code",
   "execution_count": 266,
   "id": "85ba0bab",
   "metadata": {},
   "outputs": [
    {
     "data": {
      "text/html": [
       "<div>\n",
       "<style scoped>\n",
       "    .dataframe tbody tr th:only-of-type {\n",
       "        vertical-align: middle;\n",
       "    }\n",
       "\n",
       "    .dataframe tbody tr th {\n",
       "        vertical-align: top;\n",
       "    }\n",
       "\n",
       "    .dataframe thead th {\n",
       "        text-align: right;\n",
       "    }\n",
       "</style>\n",
       "<table border=\"1\" class=\"dataframe\">\n",
       "  <thead>\n",
       "    <tr style=\"text-align: right;\">\n",
       "      <th></th>\n",
       "      <th>wine_type</th>\n",
       "      <th>clean_description</th>\n",
       "    </tr>\n",
       "  </thead>\n",
       "  <tbody>\n",
       "    <tr>\n",
       "      <th>97676</th>\n",
       "      <td>0</td>\n",
       "      <td>wine combin opul ripe almost sweet fruit flavo...</td>\n",
       "    </tr>\n",
       "    <tr>\n",
       "      <th>49624</th>\n",
       "      <td>0</td>\n",
       "      <td>sweet soft clean wine anonym almost yes fresh ...</td>\n",
       "    </tr>\n",
       "    <tr>\n",
       "      <th>1804</th>\n",
       "      <td>0</td>\n",
       "      <td>wine light fruiti slight tannic charact aromat...</td>\n",
       "    </tr>\n",
       "    <tr>\n",
       "      <th>96083</th>\n",
       "      <td>0</td>\n",
       "      <td>offer core dens rich fruit that fair intens sw...</td>\n",
       "    </tr>\n",
       "    <tr>\n",
       "      <th>1316</th>\n",
       "      <td>0</td>\n",
       "      <td>radiant eleg offer entic white stone fruit med...</td>\n",
       "    </tr>\n",
       "    <tr>\n",
       "      <th>...</th>\n",
       "      <td>...</td>\n",
       "      <td>...</td>\n",
       "    </tr>\n",
       "    <tr>\n",
       "      <th>129936</th>\n",
       "      <td>1</td>\n",
       "      <td>blend sever premier cru vineyard pommard wine ...</td>\n",
       "    </tr>\n",
       "    <tr>\n",
       "      <th>129937</th>\n",
       "      <td>1</td>\n",
       "      <td>smooth creami aroma follow rich concentr mouth...</td>\n",
       "    </tr>\n",
       "    <tr>\n",
       "      <th>129938</th>\n",
       "      <td>1</td>\n",
       "      <td>compar regular 2006 malbec chakana wine step w...</td>\n",
       "    </tr>\n",
       "    <tr>\n",
       "      <th>129939</th>\n",
       "      <td>1</td>\n",
       "      <td>true tba rich toffe flavor intens sweet overpo...</td>\n",
       "    </tr>\n",
       "    <tr>\n",
       "      <th>129940</th>\n",
       "      <td>1</td>\n",
       "      <td>wineri bell whistl chardonnay grown inland fru...</td>\n",
       "    </tr>\n",
       "  </tbody>\n",
       "</table>\n",
       "<p>63386 rows × 2 columns</p>\n",
       "</div>"
      ],
      "text/plain": [
       "        wine_type                                  clean_description\n",
       "97676           0  wine combin opul ripe almost sweet fruit flavo...\n",
       "49624           0  sweet soft clean wine anonym almost yes fresh ...\n",
       "1804            0  wine light fruiti slight tannic charact aromat...\n",
       "96083           0  offer core dens rich fruit that fair intens sw...\n",
       "1316            0  radiant eleg offer entic white stone fruit med...\n",
       "...           ...                                                ...\n",
       "129936          1  blend sever premier cru vineyard pommard wine ...\n",
       "129937          1  smooth creami aroma follow rich concentr mouth...\n",
       "129938          1  compar regular 2006 malbec chakana wine step w...\n",
       "129939          1  true tba rich toffe flavor intens sweet overpo...\n",
       "129940          1  wineri bell whistl chardonnay grown inland fru...\n",
       "\n",
       "[63386 rows x 2 columns]"
      ]
     },
     "execution_count": 266,
     "metadata": {},
     "output_type": "execute_result"
    }
   ],
   "source": [
    "df_after_nlp_preprocessing"
   ]
  },
  {
   "cell_type": "code",
   "execution_count": 267,
   "id": "859403f8",
   "metadata": {},
   "outputs": [],
   "source": [
    "from sklearn.feature_extraction.text import TfidfVectorizer\n",
    "def create_document_term_matrix_for_cross_validation(data,label_column,vectorizer=\"tfidf\",max_features=500):\n",
    "    \"\"\"\n",
    "    Creates document term matrix you can use to perform cross validation.\n",
    "\n",
    "    :param data: Text data to create the document term matrix from.\n",
    "    :param label_column: Column that contains the dependent variable.\n",
    "    :param vectorizer: The vectorizer to use to create a document term matrix.\n",
    "    :param max_features: The maximum number of most frequent words to use when creating the document term matrix.\n",
    "    :return: Document term matrix for cross validation\n",
    "    \"\"\"\n",
    "    \n",
    "    if vectorizer.lower == \"tfidf\":\n",
    "        vectorizer = TfidfVectorizer(analyzer=\"word\" ,token_pattern=r\"\\w+\",max_features=max_features)\n",
    "    else:\n",
    "        vectorizer = CountVectorizer(analyzer=\"word\",token_pattern=r\"\\w+\",max_features=max_features)\n",
    "    \n",
    "    # shuffle data\n",
    "    shuffled_df = data.sample(frac=1).reset_index(drop=True)\n",
    "    \n",
    "    #independent data\n",
    "    X = shuffled_df.drop(columns=[label_column]).iloc[:,0]\n",
    "    \n",
    "    #define label\n",
    "    y = shuffled_df[label_column]\n",
    "    \n",
    "    #create document term matrix\n",
    "    vectorized_X = vectorizer.fit_transform(X).toarray()\n",
    "    vectorized_X = pd.DataFrame(vectorized_X)\n",
    "    pickle.dump(vectorizer,open(\"vectorizer_cross_valid.pickle\",\"wb\"))\n",
    "    \n",
    "    return vectorized_X,y"
   ]
  },
  {
   "cell_type": "code",
   "execution_count": 389,
   "id": "5bdcaedf",
   "metadata": {},
   "outputs": [],
   "source": [
    "def create_document_term_matrix_for_model_training(data,label_column,vectorizer=\"tfidf\",max_features=500):\n",
    "    \"\"\"\n",
    "    Create document term matrix needed to train an ML model.\n",
    "\n",
    "    :param data: Text data to train the model on.\n",
    "    :param label_column: The column that contains the dependent variable.\n",
    "    :param max_features: The maximum number of most frequent words to use to create a document term matrix.\n",
    "    :param vectorizer: The vectorizer to use to create a document term matrix.\n",
    "    :return: Document term matrix for both training and testing data.\n",
    "    \"\"\"\n",
    "    \n",
    "    if vectorizer.lower == \"tfidf\":\n",
    "        vectorizer = TfidfVectorizer(analyzer=\"word\" ,token_pattern=r\"\\w+\",max_features=max_features)\n",
    "    else:\n",
    "        vectorizer = CountVectorizer(analyzer=\"word\",token_pattern=r\"\\w+\",max_features=max_features)\n",
    "    \n",
    "    # shuffle data\n",
    "    shuffled_df = data.sample(frac=1).reset_index(drop=True)\n",
    "    \n",
    "    #independent data\n",
    "    X = shuffled_df.drop(columns=[label_column]).iloc[:,0]\n",
    "    \n",
    "    #define label\n",
    "    y = shuffled_df[label_column]\n",
    "    \n",
    "    X_train,X_test,y_train,y_test = train_test_split(\n",
    "        X,y,\n",
    "        test_size=0.3,\n",
    "        random_state=41\n",
    "    )\n",
    "    \n",
    "    vectorized_train_X = vectorizer.fit_transform(X_train).toarray()\n",
    "    vectorized_train_X = pd.DataFrame(vectorized_train_X)\n",
    "    vectorized_test_X = vectorizer.fit_transform(X_test).toarray()\n",
    "    vectorized_test_X = pd.DataFrame(vectorized_test_X)\n",
    "    \n",
    "    pickle.dump(vectorizer,open(\"vectorizer_training.pickle\",\"wb\"))\n",
    "    \n",
    "    return vectorized_train_X,vectorized_test_X,y_train,y_test\n",
    "    \n",
    "    "
   ]
  },
  {
   "cell_type": "code",
   "execution_count": 394,
   "id": "7102b0a5",
   "metadata": {},
   "outputs": [],
   "source": [
    "def create_document_term_matrix_for_making_prediction(data,vectorizer):\n",
    "    \"\"\"\n",
    "    Function that creates a document term matrix for text data to use in predictions.\n",
    "\n",
    "    :param data: Text data to create a document term matrix from.\n",
    "    :param vectorizer: The vectorizer to use to create a document term matrix.\n",
    "    :return: Document term matrix.\n",
    "    \"\"\"\n",
    "    \n",
    "    vectorizer = pickle.load(open(vectorizer,\"rb\"))\n",
    "    \n",
    "    text_to_preprocess = vectorizer.transform(data)\n",
    "    \n",
    "    vectorized_test = pd.DataFrame(text_to_preprocess.toarray())\n",
    "    \n",
    "    return vectorized_test\n",
    "    \n",
    "    \n",
    "    "
   ]
  },
  {
   "cell_type": "code",
   "execution_count": 384,
   "id": "128357c3",
   "metadata": {},
   "outputs": [],
   "source": [
    "cross_valid_X,cross_valid_y = create_document_term_matrix_for_cross_validation(\n",
    "    df_after_nlp_preprocessing,\n",
    "    \"wine_type\",\n",
    "    max_features=500\n",
    ")"
   ]
  },
  {
   "cell_type": "code",
   "execution_count": 385,
   "id": "ee5562db",
   "metadata": {},
   "outputs": [],
   "source": [
    "vectorized_train_X,vectorized_test_X,y_train,y_test = create_document_term_matrix_for_model_training(\n",
    "    df_after_nlp_preprocessing,\n",
    "    \"wine_type\",\n",
    "    max_features = 500\n",
    ")"
   ]
  },
  {
   "cell_type": "code",
   "execution_count": 386,
   "id": "926516e3",
   "metadata": {},
   "outputs": [],
   "source": [
    "def cross_validation_on_sample(document_term_matrix,label,models_to_use,sample_size=0.5,cv=3):\n",
    "    \"\"\"\n",
    "    Function that tests a number of models using cross validation.\n",
    "\n",
    "    :param document_term_matrix: The document term matrix to use for cross validation.\n",
    "    :param label: The column that contains the dependent variable.\n",
    "    :param models_to_use: The models to try out/perform cross validation for.\n",
    "    :param sample_size: Percentage of total data to use for cross validation.\n",
    "    :param cv: Determines the cross-validation splitting strategy.\n",
    "    :return: List of cross-validation results for different models.\n",
    "    \"\"\"\n",
    "    \n",
    "    possible_models = {\n",
    "        \"Logistic Regression\" : LogisticRegression(),\n",
    "        \"Decision Tree\": tree.DecisionTreeClassifier(),\n",
    "        \"Random Forest\": RandomForestClassifier()\n",
    "            }\n",
    "    \n",
    "    models_to_test = [(model_name,possible_models[model_name])\n",
    "                     for model_name \n",
    "                     in models_to_use\n",
    "                     if model_name in possible_models.keys()]\n",
    "    \n",
    "    sample_num = int(label.shape[0] * sample_size)\n",
    "    \n",
    "    document_term_matrix_sample,label_sample = document_term_matrix[:sample_num],label[:sample_num]\n",
    "    \n",
    "    results = [(model_name,cross_val_score(model,document_term_matrix_sample,label_sample,cv=cv))\n",
    "              for model_name,model in models_to_test]\n",
    "    \n",
    "    return results"
   ]
  },
  {
   "cell_type": "code",
   "execution_count": 387,
   "id": "43208887",
   "metadata": {},
   "outputs": [],
   "source": [
    "models_to_try = [\"Logistic Regression\",\"Decision Tree\",\"Random Forest\"]\n",
    "results_on_sample = cross_validation_on_sample(cross_valid_X,cross_valid_y,models_to_try)"
   ]
  },
  {
   "cell_type": "code",
   "execution_count": 388,
   "id": "25dd7beb",
   "metadata": {},
   "outputs": [
    {
     "data": {
      "text/plain": [
       "[('Logistic Regression', array([0.80208235, 0.80215827, 0.801117  ])),\n",
       " ('Decision Tree', array([0.67013725, 0.67190458, 0.67086331])),\n",
       " ('Random Forest', array([0.784761  , 0.7887164 , 0.78464597]))]"
      ]
     },
     "execution_count": 388,
     "metadata": {},
     "output_type": "execute_result"
    }
   ],
   "source": [
    "results_on_sample"
   ]
  },
  {
   "cell_type": "code",
   "execution_count": 275,
   "id": "d7d25edf",
   "metadata": {},
   "outputs": [],
   "source": [
    "def cross_validation_xgboost_sample(document_term_matrix,label,sample_size=0.5,num_splits=3):\n",
    "    \"\"\"\n",
    "    Function that tests a number of models using cross validation.\n",
    "\n",
    "    :param document_term_matrix: The document term matrix to use for cross validation.\n",
    "    :param label: The column that contains the dependent variable.\n",
    "    :param models_to_use: The models to try out/perform cross validation for.\n",
    "    :param sample_size: Percentage of total data to use for cross validation.\n",
    "    :param cv: Determines the cross-validation splitting strategy.\n",
    "    :return: List of cross-validation results for different models.\n",
    "    \"\"\"\n",
    "    xgboost_classifier = XGBClassifier(eval_metric=\"logloss\",user_label_encoder=False)\n",
    "    kfold=KFold(n_splits=num_splits)\n",
    "\n",
    "    \n",
    "    sample_num = int(label.shape[0] * sample_size)\n",
    "    \n",
    "    document_term_matrix_sample,label_sample = document_term_matrix[:sample_num],label[:sample_num]\n",
    "    \n",
    "    results = cross_val_score(\n",
    "        xgboost_classifier,\n",
    "        document_term_matrix_sample,\n",
    "        label_sample,\n",
    "        cv=kfold\n",
    "    )\n",
    "    \n",
    "    return results"
   ]
  },
  {
   "cell_type": "code",
   "execution_count": 276,
   "id": "418986d8",
   "metadata": {},
   "outputs": [
    {
     "name": "stdout",
     "output_type": "stream",
     "text": [
      "[14:37:44] WARNING: C:/Users/administrator/workspace/xgboost-win64_release_1.6.0/src/learner.cc:627: \n",
      "Parameters: { \"user_label_encoder\" } might not be used.\n",
      "\n",
      "  This could be a false alarm, with some parameters getting used by language bindings but\n",
      "  then being mistakenly passed down to XGBoost core, or some parameter actually being used\n",
      "  but getting flagged wrongly here. Please open an issue if you find any such cases.\n",
      "\n",
      "\n",
      "[14:37:50] WARNING: C:/Users/administrator/workspace/xgboost-win64_release_1.6.0/src/learner.cc:627: \n",
      "Parameters: { \"user_label_encoder\" } might not be used.\n",
      "\n",
      "  This could be a false alarm, with some parameters getting used by language bindings but\n",
      "  then being mistakenly passed down to XGBoost core, or some parameter actually being used\n",
      "  but getting flagged wrongly here. Please open an issue if you find any such cases.\n",
      "\n",
      "\n",
      "[14:37:57] WARNING: C:/Users/administrator/workspace/xgboost-win64_release_1.6.0/src/learner.cc:627: \n",
      "Parameters: { \"user_label_encoder\" } might not be used.\n",
      "\n",
      "  This could be a false alarm, with some parameters getting used by language bindings but\n",
      "  then being mistakenly passed down to XGBoost core, or some parameter actually being used\n",
      "  but getting flagged wrongly here. Please open an issue if you find any such cases.\n",
      "\n",
      "\n"
     ]
    }
   ],
   "source": [
    "xgboost_results = cross_validation_xgboost_sample(cross_valid_X,cross_valid_y)"
   ]
  },
  {
   "cell_type": "code",
   "execution_count": 277,
   "id": "9356eae5",
   "metadata": {},
   "outputs": [
    {
     "data": {
      "text/plain": [
       "array([0.78939896, 0.7960053 , 0.8040515 ])"
      ]
     },
     "execution_count": 277,
     "metadata": {},
     "output_type": "execute_result"
    }
   ],
   "source": [
    "xgboost_results"
   ]
  },
  {
   "cell_type": "code",
   "execution_count": 295,
   "id": "2492cded",
   "metadata": {},
   "outputs": [],
   "source": [
    "def tune_XGBoost_model(document_term_matrix,label,search_space,search_type= \"Random Search\",cv=5):\n",
    "    \"\"\"\n",
    "    Function that tunes an XGBoost model either via random search or grid search.\n",
    "\n",
    "    :param document_term_matrix: The document term matrix to use for model tuning.\n",
    "    :param label: The column that contains the dependent variable.\n",
    "    :param search_space: The parameters to try while tuning the model.\n",
    "    :param search_type: Specifies whether to use Random Search or Grid Search.\n",
    "    :param cv: Determines the cross-validation splitting strategy.\n",
    "    :return: Fitted estimator. We can access the best estimator itself or the parameters of the best estimator.\n",
    "    \"\"\"\n",
    "    \n",
    "    \n",
    "    if search_type == \"Random Search\":\n",
    "        random_search_model = RandomizedSearchCV(\n",
    "            XGBClassifier(objective='binary:logistic'),\n",
    "            search_space,\n",
    "            cv=cv,\n",
    "            scoring={\"accuracy\":make_scorer(accuracy_score)},\n",
    "            refit='accuracy',\n",
    "            verbose = 1,\n",
    "            n_jobs = 1)\n",
    "\n",
    "        random_search_model.fit(document_term_matrix,label)\n",
    "        \n",
    "        return random_search_model\n",
    "    \n",
    "    elif search_type == \"Grid Search\":\n",
    "        grid_search_model = GridSearchCV(\n",
    "            XGBClassifier(objective='binary:logistic'),\n",
    "            search_space,\n",
    "            cv=cv,\n",
    "            scoring={'accuracy':make_scorer(accuracy_score)},\n",
    "            refit='accuracy',\n",
    "            verbose=1,\n",
    "            n_jobs =-1)\n",
    "        \n",
    "        grid_search_model.fit(document_term_matrix,label)\n",
    "        return grid_search_model\n",
    "    \n",
    "    \n",
    "    \n",
    "    \n",
    "    "
   ]
  },
  {
   "cell_type": "code",
   "execution_count": 339,
   "id": "bee66894",
   "metadata": {},
   "outputs": [
    {
     "name": "stdout",
     "output_type": "stream",
     "text": [
      "Fitting 5 folds for each of 10 candidates, totalling 50 fits\n"
     ]
    }
   ],
   "source": [
    "best_model_random_search = tune_XGBoost_model(cross_valid_X,cross_valid_y,random_search_parameters)"
   ]
  },
  {
   "cell_type": "code",
   "execution_count": 341,
   "id": "b7a36c4f",
   "metadata": {},
   "outputs": [],
   "source": [
    "save_tuned_model(best_model_random_search,'tune_XGBoost_model_random_search')"
   ]
  },
  {
   "cell_type": "code",
   "execution_count": 343,
   "id": "bf2552b7",
   "metadata": {},
   "outputs": [
    {
     "name": "stdout",
     "output_type": "stream",
     "text": [
      "Fitting 5 folds for each of 27 candidates, totalling 135 fits\n"
     ]
    }
   ],
   "source": [
    "best_model_grid_search = tune_XGBoost_model(cross_valid_X,cross_valid_y,grid_search_parameters,search_type=\"Grid Search\")"
   ]
  },
  {
   "cell_type": "code",
   "execution_count": 344,
   "id": "a203a379",
   "metadata": {},
   "outputs": [],
   "source": [
    "save_tuned_model(best_model_random_search,'tune_XGBoost_model_grid_search')"
   ]
  },
  {
   "cell_type": "code",
   "execution_count": 290,
   "id": "462ba5e8",
   "metadata": {},
   "outputs": [],
   "source": [
    "def save_tuned_model(model,model_name):\n",
    "    \"\"\"\n",
    "    Function that saves a tuned XGBoost model.\n",
    "\n",
    "    :param model: The tuned model to save.\n",
    "    :param model_name: The model name to use.\n",
    "    :return: None\n",
    "    \"\"\"\n",
    "    \n",
    "    best_model = model.best_estimator_\n",
    "    pickle.dump(best_model,open(f'{model_name}.pickle','wb'))\n",
    "    "
   ]
  },
  {
   "cell_type": "code",
   "execution_count": 297,
   "id": "e07aaef4",
   "metadata": {},
   "outputs": [],
   "source": [
    "def train_model(model,X_train,y_train):\n",
    "    \"\"\"\n",
    "    Function that fits a model on some data.\n",
    "\n",
    "    :param model: The model to fit.\n",
    "    :param X_train: Vectorized version of the independent variable that will be used to train the model.\n",
    "    :param y_train: Dependent variable to predict during training.\n",
    "    :return: Fitted model.\n",
    "    \"\"\"\n",
    "    model.fit(X_train,y_train)\n",
    "    return model\n",
    "    \n",
    "    "
   ]
  },
  {
   "cell_type": "code",
   "execution_count": 323,
   "id": "9a05bce6",
   "metadata": {},
   "outputs": [],
   "source": [
    "def evaluate_model_accuracy(model,X_test,y_test):\n",
    "    \"\"\"\n",
    "    Function that evaluates the performance of a model on some data.\n",
    "\n",
    "    :param model: The model to evaluate.\n",
    "    :param X_test: Vectorized version of the independent variable that will be used to evaluate the model.\n",
    "    :param y_test: Dependent variable to predict during evaluation.\n",
    "    :return: None.\n",
    "    \"\"\"\n",
    "    print(X_test.shape)\n",
    "    print(y_test.shape)\n",
    "    y_pred = model.predict(X_test)\n",
    "    print(metrics.classification_report(y_test,y_pred,labels=[0,1]))\n",
    "    "
   ]
  },
  {
   "cell_type": "code",
   "execution_count": 334,
   "id": "2ec85228",
   "metadata": {},
   "outputs": [],
   "source": [
    "def save_model(model,model_name):\n",
    "    \"\"\"\n",
    "    Function that saves a trained model.\n",
    "\n",
    "    :param model: The  model you want to save.\n",
    "    :param model_name: Name under which you want to save the model.\n",
    "    :return: None\n",
    "    \"\"\"\n",
    "    pickle.dump(model,open(f'{model_name}.pickle','wb'))\n",
    "    "
   ]
  },
  {
   "cell_type": "code",
   "execution_count": 309,
   "id": "541610bd",
   "metadata": {},
   "outputs": [],
   "source": [
    "def train_and_evaluate_model(X_train,X_test,y_train,y_test,pre_tune=False,model_name = None, pretrained_model = None):\n",
    "    \"\"\"\n",
    "    Function that fits a given ML model on some data and evaluates the performance of that model.\n",
    "\n",
    "    :param X_train: Vectorized version of the independent variable that will be used to train the model.\n",
    "    :param X_test: Vectorized version of the independent variable that will be used to evaluate the model.\n",
    "    :param y_train: Dependent variable to predict during training.\n",
    "    :param y_test: Dependent variable to predict during evaluation.\n",
    "    :param pre_tune: Defines whether to use a pretuned model or not.\n",
    "    :param model_name: Name of the model to use if not using a pretuned model.\n",
    "    :param pretrained_model: Name of the pretuned model to use.\n",
    "    :return: Fitted model.\n",
    "    \"\"\"\n",
    "    \n",
    "    if not pre_tune:\n",
    "        \n",
    "            possible_models = {\n",
    "                \"Logistic Regression\" : LogisticRegression(),\n",
    "                \"Decision Tree\": tree.DecisionTreeClassifier(),\n",
    "                \"Random Forest\": RandomForestClassifier()\n",
    "                    }\n",
    "            model_to_use = possible_models.get(model_name,XGBClassifier())\n",
    "\n",
    "            print(f'training {model_to_use} model')\n",
    "\n",
    "            trained_model= train_model(model_to_use,X_train,y_train)\n",
    "\n",
    "            evaluate_model_accuracy(trained_model,X_test,y_test)\n",
    "\n",
    "            return trained_model\n",
    "\n",
    "    else:\n",
    "        \n",
    "            trained_model= train_model(pretrained_model,X_train,y_train)\n",
    "\n",
    "            print(f'Training {trained_model} model')\n",
    "\n",
    "            evaluate_model_accuracy(trained_model,X_test,y_test)\n",
    "\n",
    "            return trained_model\n",
    "    \n",
    "\n",
    "\n",
    "        \n",
    "    \n",
    "    "
   ]
  },
  {
   "cell_type": "code",
   "execution_count": 325,
   "id": "4b339f55",
   "metadata": {},
   "outputs": [
    {
     "name": "stdout",
     "output_type": "stream",
     "text": [
      "(44370, 500)\n",
      "(44370, 500)\n"
     ]
    }
   ],
   "source": [
    "print(vectorized_train_X.shape)\n",
    "print(vectorized_test_X.shape)"
   ]
  },
  {
   "cell_type": "code",
   "execution_count": 328,
   "id": "afea307a",
   "metadata": {},
   "outputs": [
    {
     "name": "stdout",
     "output_type": "stream",
     "text": [
      "training LogisticRegression() model\n",
      "(19016, 500)\n",
      "(19016,)\n",
      "              precision    recall  f1-score   support\n",
      "\n",
      "           0       0.65      0.64      0.65      9563\n",
      "           1       0.64      0.66      0.65      9453\n",
      "\n",
      "    accuracy                           0.65     19016\n",
      "   macro avg       0.65      0.65      0.65     19016\n",
      "weighted avg       0.65      0.65      0.65     19016\n",
      "\n"
     ]
    }
   ],
   "source": [
    "log_reg_model = train_and_evaluate_model(\n",
    "    vectorized_train_X,\n",
    "    vectorized_test_X,\n",
    "    y_train,\n",
    "    y_test,\n",
    "    model_name = 'Logistic Regression'\n",
    ")"
   ]
  },
  {
   "cell_type": "code",
   "execution_count": 329,
   "id": "723a892d",
   "metadata": {},
   "outputs": [
    {
     "name": "stdout",
     "output_type": "stream",
     "text": [
      "training DecisionTreeClassifier() model\n",
      "(19016, 500)\n",
      "(19016,)\n",
      "              precision    recall  f1-score   support\n",
      "\n",
      "           0       0.57      0.56      0.57      9563\n",
      "           1       0.56      0.57      0.57      9453\n",
      "\n",
      "    accuracy                           0.57     19016\n",
      "   macro avg       0.57      0.57      0.57     19016\n",
      "weighted avg       0.57      0.57      0.57     19016\n",
      "\n"
     ]
    }
   ],
   "source": [
    "dec_tree_model = train_and_evaluate_model(\n",
    "    vectorized_train_X,\n",
    "    vectorized_test_X,\n",
    "    y_train,\n",
    "    y_test,\n",
    "    model_name = 'Decision Tree'\n",
    ")"
   ]
  },
  {
   "cell_type": "code",
   "execution_count": 330,
   "id": "b497258f",
   "metadata": {},
   "outputs": [
    {
     "name": "stdout",
     "output_type": "stream",
     "text": [
      "training RandomForestClassifier() model\n",
      "(19016, 500)\n",
      "(19016,)\n",
      "              precision    recall  f1-score   support\n",
      "\n",
      "           0       0.61      0.66      0.63      9563\n",
      "           1       0.62      0.56      0.59      9453\n",
      "\n",
      "    accuracy                           0.61     19016\n",
      "   macro avg       0.61      0.61      0.61     19016\n",
      "weighted avg       0.61      0.61      0.61     19016\n",
      "\n"
     ]
    }
   ],
   "source": [
    "dec_tree_model = train_and_evaluate_model(\n",
    "    vectorized_train_X,\n",
    "    vectorized_test_X,\n",
    "    y_train,\n",
    "    y_test,\n",
    "    model_name = 'Random Forest'\n",
    ")"
   ]
  },
  {
   "cell_type": "code",
   "execution_count": 331,
   "id": "5d6341ce",
   "metadata": {},
   "outputs": [
    {
     "name": "stdout",
     "output_type": "stream",
     "text": [
      "training XGBClassifier(base_score=None, booster=None, callbacks=None,\n",
      "              colsample_bylevel=None, colsample_bynode=None,\n",
      "              colsample_bytree=None, early_stopping_rounds=None,\n",
      "              enable_categorical=False, eval_metric=None, gamma=None,\n",
      "              gpu_id=None, grow_policy=None, importance_type=None,\n",
      "              interaction_constraints=None, learning_rate=None, max_bin=None,\n",
      "              max_cat_to_onehot=None, max_delta_step=None, max_depth=None,\n",
      "              max_leaves=None, min_child_weight=None, missing=nan,\n",
      "              monotone_constraints=None, n_estimators=100, n_jobs=None,\n",
      "              num_parallel_tree=None, predictor=None, random_state=None,\n",
      "              reg_alpha=None, reg_lambda=None, ...) model\n",
      "(19016, 500)\n",
      "(19016,)\n",
      "              precision    recall  f1-score   support\n",
      "\n",
      "           0       0.62      0.66      0.64      9563\n",
      "           1       0.63      0.59      0.61      9453\n",
      "\n",
      "    accuracy                           0.62     19016\n",
      "   macro avg       0.62      0.62      0.62     19016\n",
      "weighted avg       0.62      0.62      0.62     19016\n",
      "\n"
     ]
    }
   ],
   "source": [
    "xgboot_standard_model =  train_and_evaluate_model(\n",
    "     vectorized_train_X,\n",
    "     vectorized_test_X,\n",
    "     y_train,\n",
    "     y_test)"
   ]
  },
  {
   "cell_type": "code",
   "execution_count": 335,
   "id": "6cfe3af3",
   "metadata": {},
   "outputs": [],
   "source": [
    "save_model(xgboot_standard_model,'xgboost_standard_untunned')"
   ]
  },
  {
   "cell_type": "code",
   "execution_count": 345,
   "id": "267789e8",
   "metadata": {},
   "outputs": [
    {
     "name": "stdout",
     "output_type": "stream",
     "text": [
      "Training XGBClassifier(alpha=0, base_score=0.5, booster='gbtree', callbacks=None,\n",
      "              colsample_bylevel=1, colsample_bynode=1, colsample_bytree=0.1,\n",
      "              early_stopping_rounds=None, enable_categorical=False,\n",
      "              eval_metric=None, gamma=0, gpu_id=-1, grow_policy='depthwise',\n",
      "              importance_type=None, interaction_constraints='', lambda=5,\n",
      "              learning_rate=0.2, max_bin=256, max_cat_to_onehot=4,\n",
      "              max_delta_step=0, max_depth=8, max_leaves=0, min_child_weight=1,\n",
      "              missing=nan, monotone_constraints='()', n_estimators=150,\n",
      "              n_jobs=0, num_parallel_tree=1, predictor='auto', random_state=0, ...) model\n",
      "(19016, 500)\n",
      "(19016,)\n",
      "              precision    recall  f1-score   support\n",
      "\n",
      "           0       0.63      0.66      0.64      9563\n",
      "           1       0.64      0.61      0.62      9453\n",
      "\n",
      "    accuracy                           0.63     19016\n",
      "   macro avg       0.63      0.63      0.63     19016\n",
      "weighted avg       0.63      0.63      0.63     19016\n",
      "\n"
     ]
    }
   ],
   "source": [
    "pre_tuned_model = pickle.load(open(\"tune_XGBoost_model_grid_search.pickle\",'rb'))\n",
    "\n",
    "xgboost_random_search_tuned_model = train_and_evaluate_model(\n",
    "    vectorized_train_X,\n",
    "    vectorized_test_X,\n",
    "    y_train,\n",
    "    y_test,\n",
    "    pre_tune = True,\n",
    "    pretrained_model=pre_tuned_model\n",
    ")"
   ]
  },
  {
   "cell_type": "code",
   "execution_count": 379,
   "id": "d752d878",
   "metadata": {},
   "outputs": [],
   "source": [
    "def make_prediction(text,model,vectorizer):\n",
    "    \"\"\"\n",
    "    Function that predicts whether a given review indicates either a good or a superior wine.\n",
    "\n",
    "    :param text: The review to use for prediction.\n",
    "    :param model: The trained model to use when making predictions.\n",
    "    :param vectorizer: The vectorizer used to create the document term matrix we base our prediction on.\n",
    "    :return: Encoded model prediction as an int.\n",
    "    \"\"\"\n",
    "    \n",
    "    sentence_after_nlp_preprocessing = nlp_specific_preprocessing(data=text)\n",
    "                          \n",
    "    vectorized_sentence = create_document_term_matrix_for_making_prediction(\n",
    "        sentence_after_nlp_preprocessing,\n",
    "        vectorizer)\n",
    "    \n",
    "    prediction = model.predict(vectorized_sentence)\n",
    "    \n",
    "    return prediction"
   ]
  },
  {
   "cell_type": "code",
   "execution_count": 380,
   "id": "0f6f80b8",
   "metadata": {},
   "outputs": [],
   "source": [
    "def decode_prediction(initial_data,label,prediction):\n",
    "    \"\"\"\n",
    "    Function that converts the one-hot encoded prediction into the original class.\n",
    "\n",
    "    :param initial_data: The original CSV file used for training the model.\n",
    "    :param label: The column that contains the dependent variable.\n",
    "    :param prediction: The prediction made by the model, as an int.\n",
    "    :return: Model prediction as a string.\n",
    "    \"\"\"\n",
    "    \n",
    "    df = pd.read_csv(initial_data,usecols=[label])\n",
    "    \n",
    "    sorted_counts = df.value_counts().sort_values(ascending=False)\n",
    "    encoding_dict = {0:sorted_counts.index[0],1:sorted_counts.index[1]}\n",
    "    \n",
    "    return encoding_dict.get(prediction[0])[0]\n",
    "    \n",
    "    "
   ]
  },
  {
   "cell_type": "code",
   "execution_count": 406,
   "id": "9427780a",
   "metadata": {},
   "outputs": [],
   "source": [
    "#text_sentence = \"the wine is pretty good,but not one of the bext i ever tasted\"\n",
    "text_sentence = \"best of the best\""
   ]
  },
  {
   "cell_type": "code",
   "execution_count": 407,
   "id": "b4b03613",
   "metadata": {},
   "outputs": [],
   "source": [
    "my_model = pickle.load(open(\"tune_XGBoost_model_grid_search.pickle\",\"rb\"))\n",
    "vectorizer = \"vectorizer_training.pickle\"\n",
    "\n",
    "result = make_prediction(text_sentence,my_model,vectorizer)"
   ]
  },
  {
   "cell_type": "code",
   "execution_count": 408,
   "id": "25259cc6",
   "metadata": {},
   "outputs": [
    {
     "name": "stdout",
     "output_type": "stream",
     "text": [
      "[0]\n"
     ]
    }
   ],
   "source": [
    "print(result)"
   ]
  },
  {
   "cell_type": "code",
   "execution_count": null,
   "id": "b0cd7d21",
   "metadata": {},
   "outputs": [],
   "source": []
  },
  {
   "cell_type": "code",
   "execution_count": 409,
   "id": "d244447e",
   "metadata": {},
   "outputs": [
    {
     "data": {
      "text/plain": [
       "'great_wine'"
      ]
     },
     "execution_count": 409,
     "metadata": {},
     "output_type": "execute_result"
    }
   ],
   "source": [
    "decode_prediction(test_dataset,'wine_type',result)"
   ]
  },
  {
   "cell_type": "code",
   "execution_count": null,
   "id": "b35d3f43",
   "metadata": {},
   "outputs": [],
   "source": []
  },
  {
   "cell_type": "code",
   "execution_count": null,
   "id": "3347eafc",
   "metadata": {},
   "outputs": [],
   "source": []
  },
  {
   "cell_type": "code",
   "execution_count": null,
   "id": "f9f97cf2",
   "metadata": {},
   "outputs": [],
   "source": []
  },
  {
   "cell_type": "code",
   "execution_count": null,
   "id": "6be6b96e",
   "metadata": {},
   "outputs": [],
   "source": []
  },
  {
   "cell_type": "code",
   "execution_count": null,
   "id": "c1598dc0",
   "metadata": {},
   "outputs": [],
   "source": []
  },
  {
   "cell_type": "code",
   "execution_count": null,
   "id": "783f39f3",
   "metadata": {},
   "outputs": [],
   "source": []
  },
  {
   "cell_type": "code",
   "execution_count": null,
   "id": "96c6810d",
   "metadata": {},
   "outputs": [],
   "source": []
  },
  {
   "cell_type": "code",
   "execution_count": 412,
   "id": "a9a9637f",
   "metadata": {},
   "outputs": [
    {
     "name": "stdout",
     "output_type": "stream",
     "text": [
      "Model: \"sequential_1\"\n",
      "_________________________________________________________________\n",
      " Layer (type)                Output Shape              Param #   \n",
      "=================================================================\n",
      " dense_2 (Dense)             (None, 16)                528       \n",
      "                                                                 \n",
      " dense_3 (Dense)             (None, 8)                 136       \n",
      "                                                                 \n",
      " dropout_1 (Dropout)         (None, 8)                 0         \n",
      "                                                                 \n",
      " dense_4 (Dense)             (None, 1)                 9         \n",
      "                                                                 \n",
      "=================================================================\n",
      "Total params: 673\n",
      "Trainable params: 673\n",
      "Non-trainable params: 0\n",
      "_________________________________________________________________\n"
     ]
    }
   ],
   "source": [
    "import keras\n",
    "from keras.models import Sequential\n",
    "from keras.layers import Dense,Dropout\n",
    "\n",
    "model = Sequential()\n",
    "model.add(Dense(16,activation=\"relu\",input_shape=(32,)))\n",
    "model.add(Dense(8,activation=\"relu\"))\n",
    "model.add(Dropout(0.5))\n",
    "model.add(Dense(1,activation=\"sigmoid\"))\n",
    "\n",
    "model.summary()\n",
    "\n",
    "## (32,) we not sure of the batch size so left blank\n"
   ]
  },
  {
   "cell_type": "markdown",
   "id": "7496b722",
   "metadata": {},
   "source": [
    "## functional model"
   ]
  },
  {
   "cell_type": "code",
   "execution_count": 414,
   "id": "e1ae8a22",
   "metadata": {},
   "outputs": [
    {
     "name": "stdout",
     "output_type": "stream",
     "text": [
      "Model: \"model\"\n",
      "_________________________________________________________________\n",
      " Layer (type)                Output Shape              Param #   \n",
      "=================================================================\n",
      " input_1 (InputLayer)        [(None, 32)]              0         \n",
      "                                                                 \n",
      " dense_5 (Dense)             (None, 16)                528       \n",
      "                                                                 \n",
      " dense_6 (Dense)             (None, 8)                 136       \n",
      "                                                                 \n",
      " dense_7 (Dense)             (None, 1)                 9         \n",
      "                                                                 \n",
      "=================================================================\n",
      "Total params: 673\n",
      "Trainable params: 673\n",
      "Non-trainable params: 0\n",
      "_________________________________________________________________\n"
     ]
    }
   ],
   "source": [
    "import keras\n",
    "from keras.models import Model\n",
    "from keras.layers import Input,Dense\n",
    "\n",
    "input_layer_1 = Input(shape=(32,))\n",
    "\n",
    "hidden_layer_1 = Dense(16,activation='relu')(input_layer_1)\n",
    "hidden_layer_2 = Dense(8,activation = 'relu')(hidden_layer_1)\n",
    "\n",
    "prediction_layer = Dense(1,activation='sigmoid')(hidden_layer_2)\n",
    "\n",
    "model = Model(\n",
    "    inputs = input_layer_1,\n",
    "    outputs = prediction_layer\n",
    ")\n",
    "\n",
    "model.summary()"
   ]
  },
  {
   "cell_type": "code",
   "execution_count": 415,
   "id": "0fabb17e",
   "metadata": {},
   "outputs": [],
   "source": [
    "from keras.utils.vis_utils import plot_model"
   ]
  },
  {
   "cell_type": "code",
   "execution_count": 419,
   "id": "cef8f8ad",
   "metadata": {},
   "outputs": [
    {
     "name": "stdout",
     "output_type": "stream",
     "text": [
      "You must install pydot (`pip install pydot`) and install graphviz (see instructions at https://graphviz.gitlab.io/download/) for plot_model/model_to_dot to work.\n"
     ]
    }
   ],
   "source": [
    "plot_model(model,to_file='model_plot.png',show_shapes=True,show_layer_names=True)"
   ]
  },
  {
   "cell_type": "code",
   "execution_count": 422,
   "id": "09ad0d3b",
   "metadata": {},
   "outputs": [
    {
     "name": "stdout",
     "output_type": "stream",
     "text": [
      "Model: \"sequential_4\"\n",
      "_________________________________________________________________\n",
      " Layer (type)                Output Shape              Param #   \n",
      "=================================================================\n",
      " dense_11 (Dense)            (None, 42)                2730      \n",
      "                                                                 \n",
      " dropout_3 (Dropout)         (None, 42)                0         \n",
      "                                                                 \n",
      " dense_12 (Dense)            (None, 28)                1204      \n",
      "                                                                 \n",
      " dropout_4 (Dropout)         (None, 28)                0         \n",
      "                                                                 \n",
      " dense_13 (Dense)            (None, 19)                551       \n",
      "                                                                 \n",
      " dropout_5 (Dropout)         (None, 19)                0         \n",
      "                                                                 \n",
      " dense_14 (Dense)            (None, 1)                 20        \n",
      "                                                                 \n",
      "=================================================================\n",
      "Total params: 4,505\n",
      "Trainable params: 4,505\n",
      "Non-trainable params: 0\n",
      "_________________________________________________________________\n"
     ]
    }
   ],
   "source": [
    "import keras\n",
    "from keras.models import Sequential\n",
    "from keras.layers import Dense,Dropout\n",
    "\n",
    "\n",
    "model = Sequential()\n",
    "model.add(Dense(42,activation=\"relu\",input_shape=(64,)))\n",
    "model.add(Dropout(0.5))\n",
    "model.add(Dense(28,activation=\"relu\"))\n",
    "model.add(Dropout(0.5))\n",
    "model.add(Dense(19,activation=\"relu\"))\n",
    "model.add(Dropout(0.5))\n",
    "model.add(Dense(1,activation=\"sigmoid\"))\n",
    "\n",
    "model.summary()"
   ]
  },
  {
   "cell_type": "code",
   "execution_count": 452,
   "id": "63593ea8",
   "metadata": {},
   "outputs": [
    {
     "name": "stdout",
     "output_type": "stream",
     "text": [
      "Model: \"model_4\"\n",
      "_________________________________________________________________\n",
      " Layer (type)                Output Shape              Param #   \n",
      "=================================================================\n",
      " input_5 (InputLayer)        [(None, 2)]               0         \n",
      "                                                                 \n",
      " dense_27 (Dense)            (None, 42)                126       \n",
      "                                                                 \n",
      " dropout_9 (Dropout)         (None, 42)                0         \n",
      "                                                                 \n",
      " dense_28 (Dense)            (None, 28)                1204      \n",
      "                                                                 \n",
      " dropout_10 (Dropout)        (None, 28)                0         \n",
      "                                                                 \n",
      " dense_29 (Dense)            (None, 19)                551       \n",
      "                                                                 \n",
      " dense_30 (Dense)            (None, 1)                 20        \n",
      "                                                                 \n",
      "=================================================================\n",
      "Total params: 1,901\n",
      "Trainable params: 1,901\n",
      "Non-trainable params: 0\n",
      "_________________________________________________________________\n"
     ]
    }
   ],
   "source": [
    "import keras\n",
    "from keras.models import Model\n",
    "from keras.layers import Input,Dense,Dropout\n",
    "\n",
    "\n",
    "input_layer_1 = Input(shape=(2,))\n",
    "hidden_layer_1 = Dense(42,activation=\"relu\")(input_layer_1)\n",
    "drop_out_layer_1 = Dropout(0.5)(hidden_layer_1)\n",
    "hidden_layer_2 = Dense(28,activation=\"relu\")(drop_out_layer_1)\n",
    "drop_out_layer_2 = Dropout(0.5)(hidden_layer_2)\n",
    "hidden_layer_3 = Dense(19,activation=\"relu\")(drop_out_layer_2)\n",
    "prediction_layer = Dense(1,activation='sigmoid')(hidden_layer_3)\n",
    "\n",
    "model = Model(\n",
    "    inputs = input_layer_1,\n",
    "    outputs = prediction_layer   \n",
    ")\n",
    "\n",
    "model.summary()"
   ]
  },
  {
   "cell_type": "code",
   "execution_count": 453,
   "id": "2e1d04ce",
   "metadata": {},
   "outputs": [],
   "source": [
    "from tensorflow.keras.optimizers import Adam\n",
    "from keras.losses import CategoricalCrossentropy\n",
    "from keras.losses import BinaryCrossentropy\n",
    "from keras.metrics import SparseCategoricalAccuracy\n",
    "from keras.metrics import BinaryAccuracy\n",
    "\n",
    "#loss_function = SparseCategoricalAccuracy()\n",
    "\n",
    "loss_function = BinaryCrossentropy()\n",
    "\n",
    "#metric  = SparseCategoricalAccuracy()\n",
    "metric = BinaryAccuracy()\n",
    "\n",
    "optim = Adam()\n",
    "\n",
    "model.compile(loss=loss_function,optimizer=optim,metrics=[metric])"
   ]
  },
  {
   "cell_type": "code",
   "execution_count": 454,
   "id": "8fce772e",
   "metadata": {},
   "outputs": [],
   "source": [
    "from sklearn.model_selection import train_test_split\n",
    "from sklearn.preprocessing import StandardScaler\n",
    "from sklearn.metrics import classification_report"
   ]
  },
  {
   "cell_type": "code",
   "execution_count": 455,
   "id": "fde71bdc",
   "metadata": {},
   "outputs": [],
   "source": [
    "df = pd.read_csv(\"https://edlitera-datasets.s3.amazonaws.com/students.csv\")"
   ]
  },
  {
   "cell_type": "code",
   "execution_count": 456,
   "id": "441e7c55",
   "metadata": {},
   "outputs": [],
   "source": [
    "df = df.sample(frac=1).reset_index(drop=True)"
   ]
  },
  {
   "cell_type": "code",
   "execution_count": 457,
   "id": "04e24f36",
   "metadata": {},
   "outputs": [
    {
     "data": {
      "text/html": [
       "<div>\n",
       "<style scoped>\n",
       "    .dataframe tbody tr th:only-of-type {\n",
       "        vertical-align: middle;\n",
       "    }\n",
       "\n",
       "    .dataframe tbody tr th {\n",
       "        vertical-align: top;\n",
       "    }\n",
       "\n",
       "    .dataframe thead th {\n",
       "        text-align: right;\n",
       "    }\n",
       "</style>\n",
       "<table border=\"1\" class=\"dataframe\">\n",
       "  <thead>\n",
       "    <tr style=\"text-align: right;\">\n",
       "      <th></th>\n",
       "      <th>daily_study</th>\n",
       "      <th>monthly_tuition</th>\n",
       "      <th>passing_grade</th>\n",
       "    </tr>\n",
       "  </thead>\n",
       "  <tbody>\n",
       "    <tr>\n",
       "      <th>0</th>\n",
       "      <td>6</td>\n",
       "      <td>22</td>\n",
       "      <td>1</td>\n",
       "    </tr>\n",
       "    <tr>\n",
       "      <th>1</th>\n",
       "      <td>7</td>\n",
       "      <td>25</td>\n",
       "      <td>1</td>\n",
       "    </tr>\n",
       "    <tr>\n",
       "      <th>2</th>\n",
       "      <td>8</td>\n",
       "      <td>28</td>\n",
       "      <td>1</td>\n",
       "    </tr>\n",
       "    <tr>\n",
       "      <th>3</th>\n",
       "      <td>3</td>\n",
       "      <td>40</td>\n",
       "      <td>0</td>\n",
       "    </tr>\n",
       "    <tr>\n",
       "      <th>4</th>\n",
       "      <td>7</td>\n",
       "      <td>26</td>\n",
       "      <td>1</td>\n",
       "    </tr>\n",
       "    <tr>\n",
       "      <th>...</th>\n",
       "      <td>...</td>\n",
       "      <td>...</td>\n",
       "      <td>...</td>\n",
       "    </tr>\n",
       "    <tr>\n",
       "      <th>995</th>\n",
       "      <td>4</td>\n",
       "      <td>30</td>\n",
       "      <td>0</td>\n",
       "    </tr>\n",
       "    <tr>\n",
       "      <th>996</th>\n",
       "      <td>2</td>\n",
       "      <td>39</td>\n",
       "      <td>0</td>\n",
       "    </tr>\n",
       "    <tr>\n",
       "      <th>997</th>\n",
       "      <td>5</td>\n",
       "      <td>35</td>\n",
       "      <td>0</td>\n",
       "    </tr>\n",
       "    <tr>\n",
       "      <th>998</th>\n",
       "      <td>3</td>\n",
       "      <td>42</td>\n",
       "      <td>0</td>\n",
       "    </tr>\n",
       "    <tr>\n",
       "      <th>999</th>\n",
       "      <td>8</td>\n",
       "      <td>28</td>\n",
       "      <td>1</td>\n",
       "    </tr>\n",
       "  </tbody>\n",
       "</table>\n",
       "<p>1000 rows × 3 columns</p>\n",
       "</div>"
      ],
      "text/plain": [
       "     daily_study  monthly_tuition  passing_grade\n",
       "0              6               22              1\n",
       "1              7               25              1\n",
       "2              8               28              1\n",
       "3              3               40              0\n",
       "4              7               26              1\n",
       "..           ...              ...            ...\n",
       "995            4               30              0\n",
       "996            2               39              0\n",
       "997            5               35              0\n",
       "998            3               42              0\n",
       "999            8               28              1\n",
       "\n",
       "[1000 rows x 3 columns]"
      ]
     },
     "execution_count": 457,
     "metadata": {},
     "output_type": "execute_result"
    }
   ],
   "source": [
    "df"
   ]
  },
  {
   "cell_type": "code",
   "execution_count": 458,
   "id": "d22ebc6b",
   "metadata": {},
   "outputs": [],
   "source": [
    "loss_function = BinaryCrossentropy()\n",
    "\n",
    "# Define metric we will track \n",
    "\n",
    "metric = BinaryAccuracy()\n"
   ]
  },
  {
   "cell_type": "code",
   "execution_count": 459,
   "id": "d5f544b4",
   "metadata": {},
   "outputs": [],
   "source": [
    "# Separate features from the label\n",
    "\n",
    "X = df[[\"daily_study\", \"monthly_tuition\"]]\n",
    "\n",
    "# Flatten data\n",
    "\n",
    "y = df[\"passing_grade\"]\n",
    "y = y.values.flatten()"
   ]
  },
  {
   "cell_type": "code",
   "execution_count": 460,
   "id": "5480c866",
   "metadata": {},
   "outputs": [],
   "source": [
    "X_train, X_test, y_train, y_test = train_test_split(\n",
    "    X, y, \n",
    "    test_size=0.3, \n",
    "    random_state=42\n",
    ")\n",
    "\n",
    "# Split train data into train and validation data\n",
    "\n",
    "X_train, X_valid, y_train, y_valid = train_test_split(\n",
    "    X_train, y_train, \n",
    "    test_size=0.3, \n",
    "    random_state=42\n",
    ")"
   ]
  },
  {
   "cell_type": "code",
   "execution_count": 461,
   "id": "103fc1ff",
   "metadata": {},
   "outputs": [],
   "source": [
    "# Define scaler and scale data\n",
    "\n",
    "scaler = StandardScaler()\n",
    "\n",
    "X_train = scaler.fit_transform(X_train)\n",
    "X_valid = scaler.transform(X_valid)\n",
    "X_test = scaler.transform(X_test)"
   ]
  },
  {
   "cell_type": "code",
   "execution_count": 462,
   "id": "daad25ba",
   "metadata": {},
   "outputs": [],
   "source": [
    "model.compile(\n",
    "    loss=loss_function,\n",
    "    optimizer=optim,\n",
    "    metrics=[metric]\n",
    ")"
   ]
  },
  {
   "cell_type": "code",
   "execution_count": 463,
   "id": "dba93823",
   "metadata": {},
   "outputs": [
    {
     "name": "stdout",
     "output_type": "stream",
     "text": [
      "Epoch 1/100\n",
      "16/16 [==============================] - 1s 14ms/step - loss: 0.6576 - binary_accuracy: 0.6224 - val_loss: 0.5632 - val_binary_accuracy: 0.8857\n",
      "Epoch 2/100\n",
      "16/16 [==============================] - 0s 3ms/step - loss: 0.5599 - binary_accuracy: 0.7959 - val_loss: 0.4382 - val_binary_accuracy: 0.9524\n",
      "Epoch 3/100\n",
      "16/16 [==============================] - 0s 3ms/step - loss: 0.4748 - binary_accuracy: 0.8510 - val_loss: 0.3292 - val_binary_accuracy: 0.9429\n",
      "Epoch 4/100\n",
      "16/16 [==============================] - 0s 3ms/step - loss: 0.3758 - binary_accuracy: 0.8837 - val_loss: 0.2361 - val_binary_accuracy: 0.9429\n",
      "Epoch 5/100\n",
      "16/16 [==============================] - 0s 2ms/step - loss: 0.3084 - binary_accuracy: 0.9000 - val_loss: 0.1788 - val_binary_accuracy: 0.9429\n",
      "Epoch 6/100\n",
      "16/16 [==============================] - 0s 2ms/step - loss: 0.2665 - binary_accuracy: 0.9184 - val_loss: 0.1485 - val_binary_accuracy: 0.9524\n",
      "Epoch 7/100\n",
      "16/16 [==============================] - 0s 2ms/step - loss: 0.2464 - binary_accuracy: 0.9122 - val_loss: 0.1296 - val_binary_accuracy: 0.9524\n",
      "Epoch 8/100\n",
      "16/16 [==============================] - 0s 4ms/step - loss: 0.2156 - binary_accuracy: 0.9449 - val_loss: 0.1156 - val_binary_accuracy: 0.9619\n",
      "Epoch 9/100\n",
      "16/16 [==============================] - 0s 2ms/step - loss: 0.2133 - binary_accuracy: 0.9408 - val_loss: 0.1031 - val_binary_accuracy: 0.9714\n",
      "Epoch 10/100\n",
      "16/16 [==============================] - 0s 2ms/step - loss: 0.1747 - binary_accuracy: 0.9571 - val_loss: 0.0952 - val_binary_accuracy: 0.9762\n",
      "Epoch 11/100\n",
      "16/16 [==============================] - 0s 3ms/step - loss: 0.1538 - binary_accuracy: 0.9469 - val_loss: 0.0887 - val_binary_accuracy: 0.9762\n",
      "Epoch 12/100\n",
      "16/16 [==============================] - 0s 2ms/step - loss: 0.1535 - binary_accuracy: 0.9531 - val_loss: 0.0828 - val_binary_accuracy: 0.9810\n",
      "Epoch 13/100\n",
      "16/16 [==============================] - 0s 2ms/step - loss: 0.1502 - binary_accuracy: 0.9551 - val_loss: 0.0792 - val_binary_accuracy: 0.9810\n",
      "Epoch 14/100\n",
      "16/16 [==============================] - 0s 2ms/step - loss: 0.1566 - binary_accuracy: 0.9653 - val_loss: 0.0767 - val_binary_accuracy: 0.9810\n",
      "Epoch 15/100\n",
      "16/16 [==============================] - 0s 3ms/step - loss: 0.1476 - binary_accuracy: 0.9592 - val_loss: 0.0750 - val_binary_accuracy: 0.9810\n",
      "Epoch 16/100\n",
      "16/16 [==============================] - 0s 2ms/step - loss: 0.1347 - binary_accuracy: 0.9633 - val_loss: 0.0730 - val_binary_accuracy: 0.9810\n",
      "Epoch 17/100\n",
      "16/16 [==============================] - 0s 2ms/step - loss: 0.1165 - binary_accuracy: 0.9694 - val_loss: 0.0722 - val_binary_accuracy: 0.9810\n",
      "Epoch 18/100\n",
      "16/16 [==============================] - 0s 2ms/step - loss: 0.1228 - binary_accuracy: 0.9673 - val_loss: 0.0710 - val_binary_accuracy: 0.9810\n",
      "Epoch 19/100\n",
      "16/16 [==============================] - 0s 2ms/step - loss: 0.1280 - binary_accuracy: 0.9735 - val_loss: 0.0695 - val_binary_accuracy: 0.9810\n",
      "Epoch 20/100\n",
      "16/16 [==============================] - 0s 2ms/step - loss: 0.1449 - binary_accuracy: 0.9571 - val_loss: 0.0686 - val_binary_accuracy: 0.9810\n",
      "Epoch 21/100\n",
      "16/16 [==============================] - 0s 2ms/step - loss: 0.1229 - binary_accuracy: 0.9612 - val_loss: 0.0681 - val_binary_accuracy: 0.9810\n",
      "Epoch 22/100\n",
      "16/16 [==============================] - 0s 2ms/step - loss: 0.1063 - binary_accuracy: 0.9714 - val_loss: 0.0694 - val_binary_accuracy: 0.9810\n",
      "Epoch 23/100\n",
      "16/16 [==============================] - 0s 2ms/step - loss: 0.1216 - binary_accuracy: 0.9694 - val_loss: 0.0679 - val_binary_accuracy: 0.9810\n",
      "Epoch 24/100\n",
      "16/16 [==============================] - 0s 2ms/step - loss: 0.1230 - binary_accuracy: 0.9673 - val_loss: 0.0672 - val_binary_accuracy: 0.9810\n",
      "Epoch 25/100\n",
      "16/16 [==============================] - 0s 2ms/step - loss: 0.1031 - binary_accuracy: 0.9796 - val_loss: 0.0672 - val_binary_accuracy: 0.9810\n",
      "Epoch 26/100\n",
      "16/16 [==============================] - 0s 2ms/step - loss: 0.1068 - binary_accuracy: 0.9673 - val_loss: 0.0647 - val_binary_accuracy: 0.9810\n",
      "Epoch 27/100\n",
      "16/16 [==============================] - 0s 3ms/step - loss: 0.1186 - binary_accuracy: 0.9592 - val_loss: 0.0636 - val_binary_accuracy: 0.9810\n",
      "Epoch 28/100\n",
      "16/16 [==============================] - 0s 3ms/step - loss: 0.1118 - binary_accuracy: 0.9633 - val_loss: 0.0639 - val_binary_accuracy: 0.9810\n",
      "Epoch 29/100\n",
      "16/16 [==============================] - 0s 2ms/step - loss: 0.1018 - binary_accuracy: 0.9714 - val_loss: 0.0638 - val_binary_accuracy: 0.9810\n",
      "Epoch 30/100\n",
      "16/16 [==============================] - 0s 2ms/step - loss: 0.0955 - binary_accuracy: 0.9694 - val_loss: 0.0643 - val_binary_accuracy: 0.9810\n",
      "Epoch 31/100\n",
      "16/16 [==============================] - 0s 2ms/step - loss: 0.0956 - binary_accuracy: 0.9776 - val_loss: 0.0635 - val_binary_accuracy: 0.9810\n",
      "Epoch 32/100\n",
      "16/16 [==============================] - 0s 2ms/step - loss: 0.0915 - binary_accuracy: 0.9714 - val_loss: 0.0647 - val_binary_accuracy: 0.9810\n",
      "Epoch 33/100\n",
      "16/16 [==============================] - 0s 2ms/step - loss: 0.0937 - binary_accuracy: 0.9735 - val_loss: 0.0607 - val_binary_accuracy: 0.9857\n",
      "Epoch 34/100\n",
      "16/16 [==============================] - 0s 2ms/step - loss: 0.0976 - binary_accuracy: 0.9735 - val_loss: 0.0608 - val_binary_accuracy: 0.9857\n",
      "Epoch 35/100\n",
      "16/16 [==============================] - 0s 2ms/step - loss: 0.0738 - binary_accuracy: 0.9796 - val_loss: 0.0603 - val_binary_accuracy: 0.9857\n",
      "Epoch 36/100\n",
      "16/16 [==============================] - 0s 2ms/step - loss: 0.0878 - binary_accuracy: 0.9755 - val_loss: 0.0614 - val_binary_accuracy: 0.9857\n",
      "Epoch 37/100\n",
      "16/16 [==============================] - 0s 2ms/step - loss: 0.1051 - binary_accuracy: 0.9776 - val_loss: 0.0592 - val_binary_accuracy: 0.9857\n",
      "Epoch 38/100\n",
      "16/16 [==============================] - 0s 2ms/step - loss: 0.0950 - binary_accuracy: 0.9837 - val_loss: 0.0587 - val_binary_accuracy: 0.9857\n",
      "Epoch 39/100\n",
      "16/16 [==============================] - 0s 2ms/step - loss: 0.0781 - binary_accuracy: 0.9714 - val_loss: 0.0604 - val_binary_accuracy: 0.9857\n",
      "Epoch 40/100\n",
      "16/16 [==============================] - 0s 2ms/step - loss: 0.0898 - binary_accuracy: 0.9837 - val_loss: 0.0575 - val_binary_accuracy: 0.9857\n",
      "Epoch 41/100\n",
      "16/16 [==============================] - 0s 2ms/step - loss: 0.0784 - binary_accuracy: 0.9816 - val_loss: 0.0557 - val_binary_accuracy: 0.9857\n",
      "Epoch 42/100\n",
      "16/16 [==============================] - 0s 2ms/step - loss: 0.0890 - binary_accuracy: 0.9755 - val_loss: 0.0558 - val_binary_accuracy: 0.9857\n",
      "Epoch 43/100\n",
      "16/16 [==============================] - 0s 2ms/step - loss: 0.0819 - binary_accuracy: 0.9776 - val_loss: 0.0571 - val_binary_accuracy: 0.9857\n",
      "Epoch 44/100\n",
      "16/16 [==============================] - 0s 2ms/step - loss: 0.0840 - binary_accuracy: 0.9796 - val_loss: 0.0587 - val_binary_accuracy: 0.9857\n",
      "Epoch 45/100\n",
      "16/16 [==============================] - 0s 2ms/step - loss: 0.1062 - binary_accuracy: 0.9735 - val_loss: 0.0566 - val_binary_accuracy: 0.9857\n",
      "Epoch 46/100\n",
      "16/16 [==============================] - 0s 2ms/step - loss: 0.0772 - binary_accuracy: 0.9796 - val_loss: 0.0553 - val_binary_accuracy: 0.9857\n",
      "Epoch 47/100\n",
      "16/16 [==============================] - 0s 2ms/step - loss: 0.0768 - binary_accuracy: 0.9837 - val_loss: 0.0542 - val_binary_accuracy: 0.9857\n",
      "Epoch 48/100\n",
      "16/16 [==============================] - 0s 2ms/step - loss: 0.0826 - binary_accuracy: 0.9796 - val_loss: 0.0556 - val_binary_accuracy: 0.9857\n",
      "Epoch 49/100\n",
      "16/16 [==============================] - 0s 2ms/step - loss: 0.0692 - binary_accuracy: 0.9837 - val_loss: 0.0550 - val_binary_accuracy: 0.9857\n",
      "Epoch 50/100\n",
      "16/16 [==============================] - 0s 2ms/step - loss: 0.0549 - binary_accuracy: 0.9857 - val_loss: 0.0556 - val_binary_accuracy: 0.9857\n",
      "Epoch 51/100\n",
      "16/16 [==============================] - 0s 2ms/step - loss: 0.0713 - binary_accuracy: 0.9796 - val_loss: 0.0582 - val_binary_accuracy: 0.9857\n",
      "Epoch 52/100\n",
      "16/16 [==============================] - 0s 2ms/step - loss: 0.0734 - binary_accuracy: 0.9796 - val_loss: 0.0611 - val_binary_accuracy: 0.9857\n",
      "Epoch 53/100\n"
     ]
    },
    {
     "name": "stdout",
     "output_type": "stream",
     "text": [
      "16/16 [==============================] - 0s 2ms/step - loss: 0.0809 - binary_accuracy: 0.9796 - val_loss: 0.0579 - val_binary_accuracy: 0.9857\n",
      "Epoch 54/100\n",
      "16/16 [==============================] - 0s 2ms/step - loss: 0.0666 - binary_accuracy: 0.9776 - val_loss: 0.0563 - val_binary_accuracy: 0.9857\n",
      "Epoch 55/100\n",
      "16/16 [==============================] - 0s 2ms/step - loss: 0.0749 - binary_accuracy: 0.9878 - val_loss: 0.0560 - val_binary_accuracy: 0.9857\n",
      "Epoch 56/100\n",
      "16/16 [==============================] - 0s 2ms/step - loss: 0.0794 - binary_accuracy: 0.9796 - val_loss: 0.0550 - val_binary_accuracy: 0.9857\n",
      "Epoch 57/100\n",
      "16/16 [==============================] - 0s 2ms/step - loss: 0.0654 - binary_accuracy: 0.9816 - val_loss: 0.0531 - val_binary_accuracy: 0.9857\n",
      "Epoch 58/100\n",
      "16/16 [==============================] - 0s 2ms/step - loss: 0.0662 - binary_accuracy: 0.9878 - val_loss: 0.0531 - val_binary_accuracy: 0.9857\n",
      "Epoch 59/100\n",
      "16/16 [==============================] - 0s 2ms/step - loss: 0.0786 - binary_accuracy: 0.9837 - val_loss: 0.0526 - val_binary_accuracy: 0.9857\n",
      "Epoch 60/100\n",
      "16/16 [==============================] - 0s 2ms/step - loss: 0.0655 - binary_accuracy: 0.9837 - val_loss: 0.0525 - val_binary_accuracy: 0.9857\n",
      "Epoch 61/100\n",
      "16/16 [==============================] - 0s 2ms/step - loss: 0.0675 - binary_accuracy: 0.9857 - val_loss: 0.0522 - val_binary_accuracy: 0.9857\n",
      "Epoch 62/100\n",
      "16/16 [==============================] - 0s 2ms/step - loss: 0.0723 - binary_accuracy: 0.9776 - val_loss: 0.0508 - val_binary_accuracy: 0.9905\n",
      "Epoch 63/100\n",
      "16/16 [==============================] - 0s 2ms/step - loss: 0.0633 - binary_accuracy: 0.9857 - val_loss: 0.0513 - val_binary_accuracy: 0.9905\n",
      "Epoch 64/100\n",
      "16/16 [==============================] - 0s 2ms/step - loss: 0.0512 - binary_accuracy: 0.9857 - val_loss: 0.0517 - val_binary_accuracy: 0.9905\n",
      "Epoch 65/100\n",
      "16/16 [==============================] - 0s 3ms/step - loss: 0.0604 - binary_accuracy: 0.9898 - val_loss: 0.0517 - val_binary_accuracy: 0.9905\n",
      "Epoch 66/100\n",
      "16/16 [==============================] - 0s 2ms/step - loss: 0.0713 - binary_accuracy: 0.9755 - val_loss: 0.0526 - val_binary_accuracy: 0.9905\n",
      "Epoch 67/100\n",
      "16/16 [==============================] - 0s 2ms/step - loss: 0.0599 - binary_accuracy: 0.9857 - val_loss: 0.0551 - val_binary_accuracy: 0.9857\n",
      "Epoch 68/100\n",
      "16/16 [==============================] - 0s 2ms/step - loss: 0.0680 - binary_accuracy: 0.9837 - val_loss: 0.0530 - val_binary_accuracy: 0.9905\n",
      "Epoch 69/100\n",
      "16/16 [==============================] - 0s 2ms/step - loss: 0.0607 - binary_accuracy: 0.9878 - val_loss: 0.0529 - val_binary_accuracy: 0.9905\n",
      "Epoch 70/100\n",
      "16/16 [==============================] - 0s 2ms/step - loss: 0.0643 - binary_accuracy: 0.9857 - val_loss: 0.0522 - val_binary_accuracy: 0.9905\n",
      "Epoch 71/100\n",
      "16/16 [==============================] - 0s 2ms/step - loss: 0.0594 - binary_accuracy: 0.9878 - val_loss: 0.0537 - val_binary_accuracy: 0.9857\n",
      "Epoch 72/100\n",
      "16/16 [==============================] - 0s 2ms/step - loss: 0.0575 - binary_accuracy: 0.9878 - val_loss: 0.0534 - val_binary_accuracy: 0.9905\n",
      "Epoch 73/100\n",
      "16/16 [==============================] - 0s 2ms/step - loss: 0.0570 - binary_accuracy: 0.9878 - val_loss: 0.0517 - val_binary_accuracy: 0.9905\n",
      "Epoch 74/100\n",
      "16/16 [==============================] - 0s 2ms/step - loss: 0.0477 - binary_accuracy: 0.9878 - val_loss: 0.0522 - val_binary_accuracy: 0.9905\n",
      "Epoch 75/100\n",
      "16/16 [==============================] - 0s 2ms/step - loss: 0.0570 - binary_accuracy: 0.9837 - val_loss: 0.0520 - val_binary_accuracy: 0.9905\n",
      "Epoch 76/100\n",
      "16/16 [==============================] - 0s 2ms/step - loss: 0.0477 - binary_accuracy: 0.9878 - val_loss: 0.0513 - val_binary_accuracy: 0.9905\n",
      "Epoch 77/100\n",
      "16/16 [==============================] - 0s 2ms/step - loss: 0.0593 - binary_accuracy: 0.9898 - val_loss: 0.0531 - val_binary_accuracy: 0.9905\n",
      "Epoch 78/100\n",
      "16/16 [==============================] - 0s 2ms/step - loss: 0.0503 - binary_accuracy: 0.9878 - val_loss: 0.0519 - val_binary_accuracy: 0.9905\n",
      "Epoch 79/100\n",
      "16/16 [==============================] - 0s 2ms/step - loss: 0.0651 - binary_accuracy: 0.9898 - val_loss: 0.0501 - val_binary_accuracy: 0.9905\n",
      "Epoch 80/100\n",
      "16/16 [==============================] - 0s 2ms/step - loss: 0.0619 - binary_accuracy: 0.9837 - val_loss: 0.0498 - val_binary_accuracy: 0.9905\n",
      "Epoch 81/100\n",
      "16/16 [==============================] - 0s 2ms/step - loss: 0.0554 - binary_accuracy: 0.9857 - val_loss: 0.0498 - val_binary_accuracy: 0.9905\n",
      "Epoch 82/100\n",
      "16/16 [==============================] - 0s 2ms/step - loss: 0.0473 - binary_accuracy: 0.9898 - val_loss: 0.0498 - val_binary_accuracy: 0.9905\n",
      "Epoch 83/100\n",
      "16/16 [==============================] - 0s 2ms/step - loss: 0.0605 - binary_accuracy: 0.9898 - val_loss: 0.0500 - val_binary_accuracy: 0.9905\n",
      "Epoch 84/100\n",
      "16/16 [==============================] - 0s 2ms/step - loss: 0.0529 - binary_accuracy: 0.9878 - val_loss: 0.0519 - val_binary_accuracy: 0.9905\n",
      "Epoch 85/100\n",
      "16/16 [==============================] - 0s 2ms/step - loss: 0.0501 - binary_accuracy: 0.9898 - val_loss: 0.0526 - val_binary_accuracy: 0.9905\n",
      "Epoch 86/100\n",
      "16/16 [==============================] - 0s 2ms/step - loss: 0.0708 - binary_accuracy: 0.9837 - val_loss: 0.0523 - val_binary_accuracy: 0.9905\n",
      "Epoch 87/100\n",
      "16/16 [==============================] - 0s 2ms/step - loss: 0.0619 - binary_accuracy: 0.9898 - val_loss: 0.0533 - val_binary_accuracy: 0.9905\n",
      "Epoch 88/100\n",
      "16/16 [==============================] - 0s 2ms/step - loss: 0.0576 - binary_accuracy: 0.9898 - val_loss: 0.0515 - val_binary_accuracy: 0.9905\n",
      "Epoch 89/100\n",
      "16/16 [==============================] - 0s 2ms/step - loss: 0.0639 - binary_accuracy: 0.9878 - val_loss: 0.0523 - val_binary_accuracy: 0.9905\n",
      "Epoch 90/100\n",
      "16/16 [==============================] - 0s 2ms/step - loss: 0.0494 - binary_accuracy: 0.9918 - val_loss: 0.0519 - val_binary_accuracy: 0.9905\n",
      "Epoch 91/100\n",
      "16/16 [==============================] - 0s 2ms/step - loss: 0.0529 - binary_accuracy: 0.9878 - val_loss: 0.0520 - val_binary_accuracy: 0.9905\n",
      "Epoch 92/100\n",
      "16/16 [==============================] - 0s 2ms/step - loss: 0.0508 - binary_accuracy: 0.9898 - val_loss: 0.0522 - val_binary_accuracy: 0.9905\n",
      "Epoch 93/100\n",
      "16/16 [==============================] - 0s 2ms/step - loss: 0.0587 - binary_accuracy: 0.9898 - val_loss: 0.0530 - val_binary_accuracy: 0.9905\n",
      "Epoch 94/100\n",
      "16/16 [==============================] - 0s 2ms/step - loss: 0.0540 - binary_accuracy: 0.9878 - val_loss: 0.0519 - val_binary_accuracy: 0.9905\n",
      "Epoch 95/100\n",
      "16/16 [==============================] - 0s 2ms/step - loss: 0.0539 - binary_accuracy: 0.9918 - val_loss: 0.0524 - val_binary_accuracy: 0.9905\n",
      "Epoch 96/100\n",
      "16/16 [==============================] - 0s 2ms/step - loss: 0.0598 - binary_accuracy: 0.9898 - val_loss: 0.0525 - val_binary_accuracy: 0.9905\n",
      "Epoch 97/100\n",
      "16/16 [==============================] - 0s 2ms/step - loss: 0.0512 - binary_accuracy: 0.9898 - val_loss: 0.0529 - val_binary_accuracy: 0.9905\n",
      "Epoch 98/100\n",
      "16/16 [==============================] - 0s 2ms/step - loss: 0.0566 - binary_accuracy: 0.9878 - val_loss: 0.0532 - val_binary_accuracy: 0.9905\n",
      "Epoch 99/100\n",
      "16/16 [==============================] - 0s 2ms/step - loss: 0.0606 - binary_accuracy: 0.9878 - val_loss: 0.0525 - val_binary_accuracy: 0.9905\n",
      "Epoch 100/100\n",
      "16/16 [==============================] - 0s 2ms/step - loss: 0.0557 - binary_accuracy: 0.9898 - val_loss: 0.0531 - val_binary_accuracy: 0.9905\n"
     ]
    },
    {
     "data": {
      "text/plain": [
       "<keras.callbacks.History at 0x1c005b08bb0>"
      ]
     },
     "execution_count": 463,
     "metadata": {},
     "output_type": "execute_result"
    }
   ],
   "source": [
    "# Fit model\n",
    "\n",
    "model.fit(\n",
    "    X_train, \n",
    "    y_train, \n",
    "    epochs=100, \n",
    "    batch_size=32, \n",
    "    validation_data=(X_valid, y_valid), \n",
    "    verbose=1\n",
    ")"
   ]
  },
  {
   "cell_type": "code",
   "execution_count": 464,
   "id": "3ba50d8d",
   "metadata": {},
   "outputs": [],
   "source": [
    "df = pd.read_csv(\"https://edlitera-datasets.s3.amazonaws.com/breast_cancer_data.csv\")"
   ]
  },
  {
   "cell_type": "code",
   "execution_count": 467,
   "id": "20d5de9c",
   "metadata": {},
   "outputs": [
    {
     "data": {
      "text/plain": [
       "(569, 31)"
      ]
     },
     "execution_count": 467,
     "metadata": {},
     "output_type": "execute_result"
    }
   ],
   "source": [
    "df.shape"
   ]
  },
  {
   "cell_type": "code",
   "execution_count": 468,
   "id": "4fcda03f",
   "metadata": {},
   "outputs": [],
   "source": [
    "df = df.sample(frac=1).reset_index(drop=True)"
   ]
  },
  {
   "cell_type": "code",
   "execution_count": 471,
   "id": "8b19e9fc",
   "metadata": {},
   "outputs": [],
   "source": [
    "X = df.drop(columns=['diagnosis']).iloc[:,0]\n",
    "y=df['diagnosis']"
   ]
  },
  {
   "cell_type": "code",
   "execution_count": 473,
   "id": "b7fa26a7",
   "metadata": {},
   "outputs": [],
   "source": [
    "X_train,X_test,y_train,y_test = train_test_split(X,y,test_size=0.3,random_state=42)"
   ]
  },
  {
   "cell_type": "code",
   "execution_count": null,
   "id": "990d07e2",
   "metadata": {},
   "outputs": [],
   "source": []
  }
 ],
 "metadata": {
  "kernelspec": {
   "display_name": "Python 3 (ipykernel)",
   "language": "python",
   "name": "python3"
  },
  "language_info": {
   "codemirror_mode": {
    "name": "ipython",
    "version": 3
   },
   "file_extension": ".py",
   "mimetype": "text/x-python",
   "name": "python",
   "nbconvert_exporter": "python",
   "pygments_lexer": "ipython3",
   "version": "3.9.7"
  }
 },
 "nbformat": 4,
 "nbformat_minor": 5
}
