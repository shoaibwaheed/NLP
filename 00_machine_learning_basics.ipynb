{
 "cells": [
  {
   "cell_type": "markdown",
   "id": "e37f8db7",
   "metadata": {
    "slideshow": {
     "slide_type": "slide"
    }
   },
   "source": [
    " <div>\n",
    "<img src=\"https://edlitera-images.s3.amazonaws.com/new_edlitera_logo.png\" width=\"500\"/>\n",
    "</div>"
   ]
  },
  {
   "cell_type": "markdown",
   "id": "40b1a4e8",
   "metadata": {
    "slideshow": {
     "slide_type": "slide"
    }
   },
   "source": [
    "# Machine Learning basics"
   ]
  },
  {
   "cell_type": "markdown",
   "id": "c2b19507",
   "metadata": {
    "slideshow": {
     "slide_type": "fragment"
    }
   },
   "source": [
    "* Machine Learning is the computer science branch that studies the ability of computers to learn without explicitely being programmed."
   ]
  },
  {
   "cell_type": "markdown",
   "id": "41764ec6",
   "metadata": {
    "slideshow": {
     "slide_type": "fragment"
    }
   },
   "source": [
    "* has been around for a while; used for spam detection since the 1990s."
   ]
  },
  {
   "cell_type": "markdown",
   "id": "54db941a",
   "metadata": {
    "slideshow": {
     "slide_type": "fragment"
    }
   },
   "source": [
    "* Paper by Geoffrey Hinton in 2006 showed that **deep neural networks can be trained to recognize handwritten digits with a precision of over 98%**\n",
    "    * this was previously thought to be impossible"
   ]
  },
  {
   "cell_type": "markdown",
   "id": "d46fe464",
   "metadata": {
    "slideshow": {
     "slide_type": "fragment"
    }
   },
   "source": [
    "* Since then, there's been a renewed interest in Machine Learning"
   ]
  },
  {
   "cell_type": "markdown",
   "id": "dffc4673",
   "metadata": {
    "slideshow": {
     "slide_type": "slide"
    }
   },
   "source": [
    "### Two branches "
   ]
  },
  {
   "cell_type": "markdown",
   "id": "6364b7c4",
   "metadata": {
    "slideshow": {
     "slide_type": "fragment"
    }
   },
   "source": [
    "* `Classic Machine Learning`"
   ]
  },
  {
   "cell_type": "markdown",
   "id": "9dd6efcf",
   "metadata": {
    "slideshow": {
     "slide_type": "fragment"
    }
   },
   "source": [
    "* `Deep Learning`"
   ]
  },
  {
   "cell_type": "markdown",
   "id": "7646509a",
   "metadata": {
    "slideshow": {
     "slide_type": "slide"
    }
   },
   "source": [
    "### `Classic Machine Learning` models"
   ]
  },
  {
   "cell_type": "markdown",
   "id": "a4da5c57",
   "metadata": {
    "slideshow": {
     "slide_type": "fragment"
    }
   },
   "source": [
    "* collection of parameters that describe an object able to recognize patterns."
   ]
  },
  {
   "cell_type": "markdown",
   "id": "44405bba",
   "metadata": {
    "slideshow": {
     "slide_type": "fragment"
    }
   },
   "source": [
    "* algorithms that rely more on statistics and math"
   ]
  },
  {
   "cell_type": "markdown",
   "id": "1921f590",
   "metadata": {
    "slideshow": {
     "slide_type": "slide"
    }
   },
   "source": [
    "**Most common learning algorithms:**\n",
    "    <br>\n",
    "    \n",
    " * `Linear and Logistic Regression`\n",
    "    <br>\n",
    "    \n",
    " * `Naïve Bayes`\n",
    "    <br>\n",
    "    \n",
    " * `Support Vector Machines`\n",
    "    <br>\n",
    "    \n",
    " * `Decision Trees`\n",
    "    <br>\n",
    "    \n",
    " * `Random Forests`\n",
    "    <br>\n",
    "    \n",
    " * `Boosting algorithms`\n",
    "    \n",
    "    \n",
    "    "
   ]
  },
  {
   "cell_type": "markdown",
   "id": "0fc8187c",
   "metadata": {
    "slideshow": {
     "slide_type": "slide"
    }
   },
   "source": [
    "**We will focus on:**\n",
    "    <br>\n",
    "    \n",
    "   * `Support Vector Machines`\n",
    "   <br>\n",
    "    \n",
    "   * `Random Forests`\n",
    "   <br>\n",
    "    \n",
    "   * `XGBoost`"
   ]
  },
  {
   "cell_type": "markdown",
   "id": "a5afa9f8",
   "metadata": {
    "slideshow": {
     "slide_type": "slide"
    }
   },
   "source": [
    "## Advantages"
   ]
  },
  {
   "cell_type": "markdown",
   "id": "f5baca83",
   "metadata": {
    "slideshow": {
     "slide_type": "slide"
    }
   },
   "source": [
    "### Require less resources"
   ]
  },
  {
   "cell_type": "markdown",
   "id": "9bd6bb96",
   "metadata": {
    "slideshow": {
     "slide_type": "fragment"
    }
   },
   "source": [
    "* **outperforms** Deep Learning on smaller data sets"
   ]
  },
  {
   "cell_type": "markdown",
   "id": "b1594c4b",
   "metadata": {
    "slideshow": {
     "slide_type": "fragment"
    }
   },
   "source": [
    "* **computationally inexpensive**; can iterate faster"
   ]
  },
  {
   "cell_type": "markdown",
   "id": "8baba346",
   "metadata": {
    "slideshow": {
     "slide_type": "fragment"
    }
   },
   "source": [
    " * much cheaper than Deep Learning to run (often good-enough for tabular data)"
   ]
  },
  {
   "cell_type": "markdown",
   "id": "71125e89",
   "metadata": {
    "slideshow": {
     "slide_type": "slide"
    }
   },
   "source": [
    "### Interpretability"
   ]
  },
  {
   "cell_type": "markdown",
   "id": "86564b20",
   "metadata": {
    "slideshow": {
     "slide_type": "fragment"
    }
   },
   "source": [
    "* easier to interpret"
   ]
  },
  {
   "cell_type": "markdown",
   "id": "5c9624eb",
   "metadata": {
    "slideshow": {
     "slide_type": "fragment"
    }
   },
   "source": [
    "* easier to explain to people not familiar with Machine Learning or Deep Learning"
   ]
  },
  {
   "cell_type": "markdown",
   "id": "b999eb49",
   "metadata": {
    "slideshow": {
     "slide_type": "slide"
    }
   },
   "source": [
    "## Disadvantages"
   ]
  },
  {
   "cell_type": "markdown",
   "id": "ed3922fa",
   "metadata": {
    "slideshow": {
     "slide_type": "slide"
    }
   },
   "source": [
    "### Requires __feature engineering__\n",
    " "
   ]
  },
  {
   "cell_type": "markdown",
   "id": "5a1df1a8",
   "metadata": {
    "slideshow": {
     "slide_type": "fragment"
    }
   },
   "source": [
    "* a feature is an individually measurable property or characteristic (in statistics, it's also called a **variable**)"
   ]
  },
  {
   "cell_type": "markdown",
   "id": "80d16506",
   "metadata": {
    "slideshow": {
     "slide_type": "fragment"
    }
   },
   "source": [
    "**Types of features:**\n",
    "   <br> \n",
    "   \n",
    "   * **categorical features -**  non-numeric values from a finite number of categories\n",
    "   <br> \n",
    "   \n",
    "   * **discrete features -**  numeric values from a set of integer values\n",
    "   <br> \n",
    "   \n",
    "   * **continuous features -** either numeric or date/time (values are usually from the set of rational numbers or timestamps)"
   ]
  },
  {
   "cell_type": "markdown",
   "id": "a70905b1",
   "metadata": {
    "slideshow": {
     "slide_type": "slide"
    }
   },
   "source": [
    "### Limited functionality"
   ]
  },
  {
   "cell_type": "markdown",
   "id": "0b5296e1",
   "metadata": {
    "slideshow": {
     "slide_type": "fragment"
    }
   },
   "source": [
    "* performs poorly on complex and abstract problems:\n",
    "   <br> \n",
    "   \n",
    "   * image recognition\n",
    "   <br> \n",
    "   \n",
    "   * playing games\n",
    "   <br> \n",
    "   \n",
    "   * speech recognition\n",
    "    <br> \n",
    "   \n",
    "   * etc."
   ]
  },
  {
   "cell_type": "markdown",
   "id": "6e231c26",
   "metadata": {
    "slideshow": {
     "slide_type": "slide"
    }
   },
   "source": [
    "# Parts of a typical ML algorithm"
   ]
  },
  {
   "cell_type": "markdown",
   "id": "54371757",
   "metadata": {
    "slideshow": {
     "slide_type": "fragment"
    }
   },
   "source": [
    "**Key parts of a typical algorithm:**\n",
    "    <br>\n",
    "    \n",
    "   * task\n",
    "    <br>\n",
    "    \n",
    "   * experience\n",
    "    <br>\n",
    "    \n",
    "   * performance"
   ]
  },
  {
   "cell_type": "markdown",
   "id": "5468b857",
   "metadata": {
    "slideshow": {
     "slide_type": "slide"
    }
   },
   "source": [
    "## Task"
   ]
  },
  {
   "cell_type": "markdown",
   "id": "c29655d5",
   "metadata": {
    "slideshow": {
     "slide_type": "fragment"
    }
   },
   "source": [
    "* problem we want to solve using an algorithm"
   ]
  },
  {
   "cell_type": "markdown",
   "id": "9a15a0d7",
   "metadata": {
    "slideshow": {
     "slide_type": "fragment"
    }
   },
   "source": [
    "* different tasks require different algorithms - **\"no free lunch\" theorem** tells us there is no \"best algorithm\""
   ]
  },
  {
   "cell_type": "markdown",
   "id": "919da781",
   "metadata": {
    "slideshow": {
     "slide_type": "slide"
    }
   },
   "source": [
    "**Different types of tasks:**\n",
    "    <br>\n",
    "    \n",
    "   * `Classification`\n",
    "    <br>\n",
    "    \n",
    "   * `Regression`\n",
    "    <br>\n",
    "    \n",
    "   * `Density estimation`\n",
    "    <br>\n",
    "    \n",
    "   * `Anomaly detection`\n",
    "    <br>\n",
    "    \n",
    "   * `Synthesis and sampling`\n",
    "    <br>\n",
    "    \n",
    "   * etc."
   ]
  },
  {
   "cell_type": "markdown",
   "id": "1536bab9",
   "metadata": {
    "slideshow": {
     "slide_type": "slide"
    }
   },
   "source": [
    "## Experience"
   ]
  },
  {
   "cell_type": "markdown",
   "id": "e761d4c5",
   "metadata": {
    "slideshow": {
     "slide_type": "fragment"
    }
   },
   "source": [
    "* encompasses the examples we give the algorithm to observe"
   ]
  },
  {
   "cell_type": "markdown",
   "id": "819f046d",
   "metadata": {
    "slideshow": {
     "slide_type": "fragment"
    }
   },
   "source": [
    "* each of those examples is called a **sample** or a **training instance**"
   ]
  },
  {
   "cell_type": "markdown",
   "id": "0bd51bf1",
   "metadata": {
    "slideshow": {
     "slide_type": "fragment"
    }
   },
   "source": [
    "* a dataset made up of training instances is called a **training set**"
   ]
  },
  {
   "cell_type": "markdown",
   "id": "0b6ad509",
   "metadata": {
    "slideshow": {
     "slide_type": "fragment"
    }
   },
   "source": [
    "* **special cases:**\n",
    "    <br>\n",
    "    \n",
    "    * active learning\n",
    "    <br>\n",
    "    \n",
    "    * reinforcement learning\n",
    "    <br>\n",
    "    \n",
    "    * etc."
   ]
  },
  {
   "cell_type": "markdown",
   "id": "32895498",
   "metadata": {
    "slideshow": {
     "slide_type": "slide"
    }
   },
   "source": [
    "## Performance"
   ]
  },
  {
   "cell_type": "markdown",
   "id": "233c3fc5",
   "metadata": {
    "slideshow": {
     "slide_type": "fragment"
    }
   },
   "source": [
    "* we need to measure how well our algorithm is working - **quantitative measure of performance**"
   ]
  },
  {
   "cell_type": "markdown",
   "id": "14a16f32",
   "metadata": {
    "slideshow": {
     "slide_type": "fragment"
    }
   },
   "source": [
    "* performance is measured differently depending on the task"
   ]
  },
  {
   "cell_type": "markdown",
   "id": "0d5c9105",
   "metadata": {
    "slideshow": {
     "slide_type": "fragment"
    }
   },
   "source": [
    "* standard ways of measuring performance:\n",
    "    <br>\n",
    "    \n",
    "    * **accuracy** for **classification** (even though there are better alternatives we will mention later)\n",
    "    <br>\n",
    "    \n",
    "    * **mean squared error** for **regression**\n",
    "    "
   ]
  },
  {
   "cell_type": "markdown",
   "id": "c10dbe60",
   "metadata": {
    "slideshow": {
     "slide_type": "fragment"
    }
   },
   "source": [
    "* by tracking performance we can improve how our model performs on unseen data"
   ]
  },
  {
   "cell_type": "markdown",
   "id": "126a1e3a",
   "metadata": {
    "slideshow": {
     "slide_type": "slide"
    }
   },
   "source": [
    "# Training with and without supervision"
   ]
  },
  {
   "cell_type": "markdown",
   "id": "8cb13850",
   "metadata": {
    "slideshow": {
     "slide_type": "fragment"
    }
   },
   "source": [
    "**Different types of training:**\n",
    "    <br>\n",
    "    \n",
    "   * `Supervised learning`\n",
    "    <br>\n",
    "   * `Unsupervised learning`\n",
    "    <br>\n",
    "    \n",
    "   * `Semisupervised learning`\n",
    "    <br>\n",
    "    \n",
    "   * `Reinforcement learning`"
   ]
  },
  {
   "cell_type": "markdown",
   "id": "31d48a75",
   "metadata": {
    "slideshow": {
     "slide_type": "fragment"
    }
   },
   "source": [
    "* we will mostly focus on supervised learning (and a little bit on unsupervised learning), and will skip going in-depth about semisupervised learning and reinforcement learning"
   ]
  },
  {
   "cell_type": "markdown",
   "id": "15204a09",
   "metadata": {
    "slideshow": {
     "slide_type": "slide"
    }
   },
   "source": [
    "## `Supervised learning`"
   ]
  },
  {
   "cell_type": "markdown",
   "id": "995588f5",
   "metadata": {
    "slideshow": {
     "slide_type": "fragment"
    }
   },
   "source": [
    "* training data **includes labels**"
   ]
  },
  {
   "cell_type": "markdown",
   "id": "6d3b4287",
   "metadata": {
    "slideshow": {
     "slide_type": "fragment"
    }
   },
   "source": [
    "* each example is a pair that consists of an **input object** and a **desired output value**"
   ]
  },
  {
   "cell_type": "markdown",
   "id": "cdfe406b",
   "metadata": {
    "slideshow": {
     "slide_type": "fragment"
    }
   },
   "source": [
    "* by learning how to connect the input values with the desired output values, the algorithm learns how to predict the output value given an input value"
   ]
  },
  {
   "cell_type": "markdown",
   "id": "17e39cdf",
   "metadata": {
    "slideshow": {
     "slide_type": "slide"
    }
   },
   "source": [
    "**Supervised learning algorithms:**\n",
    "    <br>\n",
    "    \n",
    "   * `Linear Regression`\n",
    "    <br>\n",
    "    \n",
    "   * `Logistic Regression`\n",
    "    <br>\n",
    "    \n",
    "   * `Support Vector Machines`\n",
    "    <br>\n",
    "    \n",
    "   * `Decision Trees`\n",
    "    <br>\n",
    "    \n",
    "   * `Random Forests`\n",
    "    <br>\n",
    "    \n",
    "   * `Boosting algorithms`\n",
    "    <br>\n",
    "    \n",
    "   * `k-Nearest Neighbors`"
   ]
  },
  {
   "cell_type": "markdown",
   "id": "bd5f625b",
   "metadata": {
    "slideshow": {
     "slide_type": "slide"
    }
   },
   "source": [
    "## `Unsupervised learning`"
   ]
  },
  {
   "cell_type": "markdown",
   "id": "6e5f2f70",
   "metadata": {
    "slideshow": {
     "slide_type": "fragment"
    }
   },
   "source": [
    "* training data is **not labeled**"
   ]
  },
  {
   "cell_type": "markdown",
   "id": "0cfaadfe",
   "metadata": {
    "slideshow": {
     "slide_type": "fragment"
    }
   },
   "source": [
    "* requires **A LOT** of data"
   ]
  },
  {
   "cell_type": "markdown",
   "id": "5b93d3eb",
   "metadata": {
    "slideshow": {
     "slide_type": "fragment"
    }
   },
   "source": [
    "* we will not use unsupervised classic Machine Learning methods, but we will go over a few of them in the Deep Learning chapter"
   ]
  },
  {
   "cell_type": "markdown",
   "id": "4c058cb8",
   "metadata": {
    "slideshow": {
     "slide_type": "slide"
    }
   },
   "source": [
    "# Typical Steps of a Machine Learning Project"
   ]
  },
  {
   "cell_type": "markdown",
   "id": "7b66743a",
   "metadata": {
    "slideshow": {
     "slide_type": "slide"
    }
   },
   "source": [
    "## Think about the problem\n"
   ]
  },
  {
   "cell_type": "markdown",
   "id": "e33ba76d",
   "metadata": {
    "slideshow": {
     "slide_type": "fragment"
    }
   },
   "source": [
    "* describe exactly what problem are you trying to solve"
   ]
  },
  {
   "cell_type": "markdown",
   "id": "a9d398ce",
   "metadata": {
    "slideshow": {
     "slide_type": "fragment"
    }
   },
   "source": [
    "* understand how your solution will be used (e.g. scheduled to run automatically, an ad-hoc script, etc.)"
   ]
  },
  {
   "cell_type": "markdown",
   "id": "376fc646",
   "metadata": {
    "slideshow": {
     "slide_type": "fragment"
    }
   },
   "source": [
    "* figure out how to measure performance"
   ]
  },
  {
   "cell_type": "markdown",
   "id": "b98e7c9b",
   "metadata": {
    "slideshow": {
     "slide_type": "fragment"
    }
   },
   "source": [
    "* figure out what is the performance threshold you need to pass to have a useful solution"
   ]
  },
  {
   "cell_type": "markdown",
   "id": "4b0f7784",
   "metadata": {
    "slideshow": {
     "slide_type": "slide"
    }
   },
   "source": [
    "## Get the data\n",
    "\n"
   ]
  },
  {
   "cell_type": "markdown",
   "id": "2d2e26f3",
   "metadata": {
    "slideshow": {
     "slide_type": "fragment"
    }
   },
   "source": [
    "* understand what kind of data do you need and where you can find this data"
   ]
  },
  {
   "cell_type": "markdown",
   "id": "6dfb680f",
   "metadata": {
    "slideshow": {
     "slide_type": "fragment"
    }
   },
   "source": [
    "* create a workspace for your training needs:\n",
    "    <br>\n",
    "    \n",
    "  * make sure you either have enough space to hold the data OR you build data pipelines to get data from your data lake, as needed\n",
    "      <br>\n",
    "    \n",
    "  * install required software and packages "
   ]
  },
  {
   "cell_type": "markdown",
   "id": "f3ac6183",
   "metadata": {
    "slideshow": {
     "slide_type": "slide"
    }
   },
   "source": [
    "**Problems we run into when working with data:**\n",
    "   \n",
    "   <br>\n",
    "   \n",
    "   * **insufficient quantity of training data** - training models to solve complex problems usually requires datasets with millions of examples (for simple problems we are usually talking about thousands of examples)\n",
    "       <br>\n",
    "    \n",
    "   * **nonrepresentative training data** - your data must adequately represent the problem you want to solve and must not be biased\n",
    "       <br>\n",
    "    \n",
    "   * **poor-quality data** - don't use data that contains  too many errors, outliers and noise (cleaning data helps only up to a certain point)\n",
    "\n",
    " "
   ]
  },
  {
   "cell_type": "markdown",
   "id": "1dbe06f1",
   "metadata": {
    "slideshow": {
     "slide_type": "slide"
    }
   },
   "source": [
    "**Build data pipelines:**\n",
    "\n",
    "   * data pipelines can be used to manipulate and transform data\n",
    "\n",
    "   * when building data pipelines aim for the simplest possible solution\n",
    "        * the more complicated the system, the more you risk failure\n",
    "        * if possible, opt for hosted or cloud solutions\n",
    "\n",
    "\n",
    "   * something to remember: \n",
    "        * feeding data to classic Machine Learning models is simple\n",
    "        * however feeding data to Deep Learning models is more complex"
   ]
  },
  {
   "cell_type": "markdown",
   "id": "93da9f02",
   "metadata": {
    "slideshow": {
     "slide_type": "slide"
    }
   },
   "source": [
    "## Explore and visualize some of the data to get insights"
   ]
  },
  {
   "cell_type": "markdown",
   "id": "a3b56016",
   "metadata": {
    "slideshow": {
     "slide_type": "fragment"
    }
   },
   "source": [
    "* explore the data to understand:\n",
    "    <br>\n",
    "    \n",
    "  * what are your data attributes?\n",
    "      <br>\n",
    "    \n",
    "  * what are your data types\n",
    "      <br>\n",
    "    \n",
    "  * do you have gaps in the data? how large are they?\n",
    "      <br>\n",
    "    \n",
    "  * is your data noisy? (e.g. lots of outliers, rounding errors, etc.)"
   ]
  },
  {
   "cell_type": "markdown",
   "id": "65649380",
   "metadata": {
    "slideshow": {
     "slide_type": "slide"
    }
   },
   "source": [
    "## Cleanup the data and prepare it for ML algorithms\n",
    "\n"
   ]
  },
  {
   "cell_type": "markdown",
   "id": "662d4947",
   "metadata": {
    "slideshow": {
     "slide_type": "fragment"
    }
   },
   "source": [
    "* some advice:\n",
    "    <br>\n",
    "    \n",
    "  * generally good to not modify original data - you may need it in the future!\n",
    "      <br>\n",
    "    \n",
    "  * rather than ad-hoc code, prefer to write functions for transformations (more modular, more reusable)"
   ]
  },
  {
   "cell_type": "markdown",
   "id": "9ead5a03",
   "metadata": {
    "slideshow": {
     "slide_type": "fragment"
    }
   },
   "source": [
    "* clean the data:\n",
    "    <br>\n",
    "    \n",
    "  * remove outliners, if needed\n",
    "      <br>\n",
    "    \n",
    "  * fill in or remove missing values\n",
    "      <br>\n",
    "    \n",
    "  * remove duplicates"
   ]
  },
  {
   "cell_type": "markdown",
   "id": "91b046f2",
   "metadata": {
    "slideshow": {
     "slide_type": "slide"
    }
   },
   "source": [
    "* analyze and modify data:\n",
    "\n",
    "    <br>\n",
    "    \n",
    "    * **feature selection** - choose which features you want to use for training\n",
    "     \n",
    "     <br>\n",
    "    \n",
    "    * **feature engineering** - combine multiple features to get new ones\n",
    "     \n",
    "     <br>\n",
    "    \n",
    "    * **feature scaling** - perform standardization or normalization (necessary for only some models)\n"
   ]
  },
  {
   "cell_type": "markdown",
   "id": "40f4a9dc",
   "metadata": {
    "slideshow": {
     "slide_type": "fragment"
    }
   },
   "source": [
    "* separate data that you will use for training from data that you will use for testing"
   ]
  },
  {
   "cell_type": "markdown",
   "id": "bdb524f5",
   "metadata": {
    "slideshow": {
     "slide_type": "slide"
    }
   },
   "source": [
    "## Select a few training models and train them\n",
    "\n"
   ]
  },
  {
   "cell_type": "markdown",
   "id": "ebc63aaa",
   "metadata": {
    "slideshow": {
     "slide_type": "fragment"
    }
   },
   "source": [
    "* if you have lots of data: **sample smaller training sets so you can test many different models faster**\n",
    "    <br>\n",
    "    \n",
    "  * note that this may put neural networks or random forests algorithm at a disadvantages (they need more data)"
   ]
  },
  {
   "cell_type": "markdown",
   "id": "0137ef8e",
   "metadata": {
    "slideshow": {
     "slide_type": "fragment"
    }
   },
   "source": [
    "* train many models from different categories (e.g. linear, tree-based etc.)"
   ]
  },
  {
   "cell_type": "markdown",
   "id": "9cfc131f",
   "metadata": {
    "slideshow": {
     "slide_type": "slide"
    }
   },
   "source": [
    "## Compare the models and pick one model to use in production\n"
   ]
  },
  {
   "cell_type": "markdown",
   "id": "58d83475",
   "metadata": {
    "slideshow": {
     "slide_type": "fragment"
    }
   },
   "source": [
    "\n",
    "* measure and compare the performance of the various trained models"
   ]
  },
  {
   "cell_type": "markdown",
   "id": "02ec2db4",
   "metadata": {
    "slideshow": {
     "slide_type": "fragment"
    }
   },
   "source": [
    "* find the most significant variables for each algorithm"
   ]
  },
  {
   "cell_type": "markdown",
   "id": "d2e04e9d",
   "metadata": {
    "slideshow": {
     "slide_type": "fragment"
    }
   },
   "source": [
    "* analyze the errors made - is there any data that you could feed the system to train it to avoid these errors?"
   ]
  },
  {
   "cell_type": "markdown",
   "id": "d6a3d3b4",
   "metadata": {
    "slideshow": {
     "slide_type": "fragment"
    }
   },
   "source": [
    "* select the top couple of models that look promising"
   ]
  },
  {
   "cell_type": "markdown",
   "id": "bf2af2a1",
   "metadata": {
    "slideshow": {
     "slide_type": "slide"
    }
   },
   "source": [
    "## Fine-tune the final model(s)\n",
    "\n"
   ]
  },
  {
   "cell_type": "markdown",
   "id": "983a0668",
   "metadata": {
    "slideshow": {
     "slide_type": "fragment"
    }
   },
   "source": [
    "* fine-tune hyperparameters\n",
    "    * hyperparameters control the **learning process**\n",
    "    * by fine-tuning them, you can improve your model training"
   ]
  },
  {
   "cell_type": "markdown",
   "id": "bb70afd3",
   "metadata": {
    "slideshow": {
     "slide_type": "fragment"
    }
   },
   "source": [
    "* treat data transformations as hyperparameters that you can switch on / off or whose values you can change\n",
    "    <br>\n",
    "    \n",
    "    * e.g. one hyperparameter can be the way you handle missing data: fill in with zero, fill in with average, drop completely etc."
   ]
  },
  {
   "cell_type": "markdown",
   "id": "07427341",
   "metadata": {
    "slideshow": {
     "slide_type": "fragment"
    }
   },
   "source": [
    "* try ensemble methods"
   ]
  },
  {
   "cell_type": "markdown",
   "id": "37b0ad08",
   "metadata": {
    "slideshow": {
     "slide_type": "fragment"
    }
   },
   "source": [
    "* finally, measure the performance of the model on a test dataset - estimate the generalization error"
   ]
  },
  {
   "cell_type": "markdown",
   "id": "c755b042",
   "metadata": {
    "slideshow": {
     "slide_type": "slide"
    }
   },
   "source": [
    "## Deploy, monitor, maintain the model in production"
   ]
  },
  {
   "cell_type": "markdown",
   "id": "1e928f70",
   "metadata": {
    "slideshow": {
     "slide_type": "fragment"
    }
   },
   "source": [
    "* automate your solution as much as possible"
   ]
  },
  {
   "cell_type": "markdown",
   "id": "11aa0d5b",
   "metadata": {
    "slideshow": {
     "slide_type": "fragment"
    }
   },
   "source": [
    "* automate the deployment"
   ]
  },
  {
   "cell_type": "markdown",
   "id": "8e4932a3",
   "metadata": {
    "slideshow": {
     "slide_type": "fragment"
    }
   },
   "source": [
    "* create a system that will monitor the performance of your model in production\n",
    "    <br>\n",
    "    \n",
    "  * **over time, models can experience degradation in performance, due to new data**\n",
    "      <br>\n",
    "    \n",
    "  * need to alert when the performance goes below a certain threshold\n",
    "      <br>\n",
    "    \n",
    "  * at that point, you can re-train the model"
   ]
  },
  {
   "cell_type": "markdown",
   "id": "1ce66974",
   "metadata": {
    "slideshow": {
     "slide_type": "slide"
    }
   },
   "source": [
    "# Machine Learning in Python"
   ]
  },
  {
   "cell_type": "markdown",
   "id": "c88156c6",
   "metadata": {
    "slideshow": {
     "slide_type": "fragment"
    }
   },
   "source": [
    "* Python has excellent packages for Machine Learning"
   ]
  },
  {
   "cell_type": "markdown",
   "id": "c0a92aa2",
   "metadata": {
    "slideshow": {
     "slide_type": "fragment"
    }
   },
   "source": [
    "* some are used for classic Machine Learning, some are used for Deep Learning (even though there is a bit of overlap)"
   ]
  },
  {
   "cell_type": "markdown",
   "id": "cd8d82d3",
   "metadata": {
    "slideshow": {
     "slide_type": "fragment"
    }
   },
   "source": [
    "* in this chapter, we will focus on those that are important for classic Machine Learning (the ones we use for Deep Learning will be covered in the next chapter)"
   ]
  },
  {
   "cell_type": "markdown",
   "id": "c2612a6b",
   "metadata": {
    "slideshow": {
     "slide_type": "fragment"
    }
   },
   "source": [
    "* by far the most popular library for classic Machine Learning is **`Scikit-Learn`**\n",
    "    * there are other libraries such as **`CatBoost`**\n",
    "    * however, **`Scikit-Learn`** still enjoys much more support than the newer libraries"
   ]
  },
  {
   "cell_type": "markdown",
   "id": "31a3726a",
   "metadata": {
    "slideshow": {
     "slide_type": "slide"
    }
   },
   "source": [
    " <div>\n",
    "<img src=\"https://edlitera-images.s3.amazonaws.com/new_edlitera_logo.png\" width=\"500\"/>\n",
    "</div>"
   ]
  }
 ],
 "metadata": {
  "celltoolbar": "Slideshow",
  "kernelspec": {
   "display_name": "Python 3 (ipykernel)",
   "language": "python",
   "name": "python3"
  },
  "language_info": {
   "codemirror_mode": {
    "name": "ipython",
    "version": 3
   },
   "file_extension": ".py",
   "mimetype": "text/x-python",
   "name": "python",
   "nbconvert_exporter": "python",
   "pygments_lexer": "ipython3",
   "version": "3.9.7"
  }
 },
 "nbformat": 4,
 "nbformat_minor": 5
}
