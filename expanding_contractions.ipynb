{
 "cells": [
  {
   "cell_type": "markdown",
   "id": "c3fe9a7c",
   "metadata": {},
   "source": [
    " <div>\n",
    "<img src=\"https://edlitera-images.s3.amazonaws.com/new_edlitera_logo.png\" width=\"500\"/>\n",
    "</div>"
   ]
  },
  {
   "cell_type": "markdown",
   "id": "104b1702",
   "metadata": {},
   "source": [
    " "
   ]
  },
  {
   "cell_type": "markdown",
   "id": "7969263e",
   "metadata": {},
   "source": [
    "# Expanding contractions"
   ]
  },
  {
   "cell_type": "markdown",
   "id": "1b500988",
   "metadata": {},
   "source": [
    " "
   ]
  },
  {
   "cell_type": "markdown",
   "id": "704d13bf",
   "metadata": {},
   "source": [
    "* there are several ways we can expand contractions\n",
    "    <br>\n",
    "    \n",
    "    * using RegEx\n",
    "    * using word vector similarity"
   ]
  },
  {
   "cell_type": "markdown",
   "id": "d13241e9",
   "metadata": {},
   "source": [
    "* the second solution requires knowledge of Deep Learning\n",
    "    <br>\n",
    "    \n",
    "    * I won't go over it now since it is immposible to explain without properly introducing libraries such as Gensim and topics such as dense representations and word vectors\n",
    "    <br>\n",
    "    \n",
    "    * in a few words, we convert words into vectors and then take a look at a large premade dataset of vectors to see which vector from this dataset is most similar to our vector \n",
    "    <br>\n",
    "    \n",
    "    * since they are used in similar contexts, this typically allows us to replace contractions with their expanded version (because the coefficient of similarity we get between the contraction and the expanded version is usually big)\n",
    "    <br>\n",
    "    \n",
    "    * more on this later"
   ]
  },
  {
   "cell_type": "markdown",
   "id": "f12f1051",
   "metadata": {},
   "source": [
    "* for now, let's focus on demonstrating how to catch all contractions using RegEx"
   ]
  },
  {
   "cell_type": "markdown",
   "id": "e61d958b",
   "metadata": {},
   "source": [
    " "
   ]
  },
  {
   "cell_type": "markdown",
   "id": "d441ea34",
   "metadata": {},
   "source": [
    "## _Using RegEx_"
   ]
  },
  {
   "cell_type": "markdown",
   "id": "81852bf9",
   "metadata": {},
   "source": [
    " "
   ]
  },
  {
   "cell_type": "markdown",
   "id": "c0161e7c",
   "metadata": {},
   "source": [
    "* the idea is to create a dictionary where:\n",
    "    <br>\n",
    "    \n",
    "    * keys = contractions\n",
    "    * values = expanded versions"
   ]
  },
  {
   "cell_type": "markdown",
   "id": "eb16c20f",
   "metadata": {},
   "source": [
    "* relatively simple approach since the English language has a limited number of contractions in it\n",
    "    "
   ]
  },
  {
   "cell_type": "markdown",
   "id": "2ba42741",
   "metadata": {},
   "source": [
    "* the process is simple:\n",
    "    <br>\n",
    "    \n",
    "    * create the dictionary of contractions in lowercase\n",
    "    * create a function that can find contractions in some text using RegEx\n",
    "    * create a function that replaces contractions with their expanded versions based on the created dictionary\n",
    "    * use the function on **lowercased** text data\n",
    "    * use **Advanced Sentence Segmentation** from NLTK to separate the lowercased string with no contractions into sentences - this will automatically separate sentences from each other and capitalize the beginning of each sentence"
   ]
  },
  {
   "cell_type": "markdown",
   "id": "d8ad8e62",
   "metadata": {},
   "source": [
    " "
   ]
  },
  {
   "cell_type": "markdown",
   "id": "f767c40f",
   "metadata": {},
   "source": [
    "### Code example:"
   ]
  },
  {
   "cell_type": "markdown",
   "id": "8250217a",
   "metadata": {},
   "source": [
    " "
   ]
  },
  {
   "cell_type": "code",
   "execution_count": 1,
   "id": "ade1b6d8",
   "metadata": {},
   "outputs": [],
   "source": [
    "# Import what we need\n",
    "\n",
    "import re\n",
    "from nltk import sent_tokenize"
   ]
  },
  {
   "cell_type": "code",
   "execution_count": 2,
   "id": "cece9a95",
   "metadata": {},
   "outputs": [],
   "source": [
    "# Create a dictionary of the most common contractions\n",
    "# that appear in the English language\n",
    "\n",
    "contractions = {\n",
    "    \"ain't\": 'are not',\n",
    "    \"'s\": ' is',\n",
    "    \"aren't\": 'are not',\n",
    "    \"can't\": 'cannot',\n",
    "    \"can't've\": 'cannot have',\n",
    "    \"'cause\": 'because',\n",
    "    \"could've\": 'could have',\n",
    "    \"couldn't\": 'could not',\n",
    "    \"couldn't've\": 'could not have',\n",
    "    \"didn't\": 'did not',\n",
    "    \"doesn't\": 'does not',\n",
    "    \"don't\": 'do not',\n",
    "    \"hadn't\": 'had not',\n",
    "    \"hadn't've\": 'had not have',\n",
    "    \"hasn't\": 'has not',\n",
    "    \"haven't\": 'have not',\n",
    "    \"he'd\": 'he would',\n",
    "    \"he'd've\": 'he would have',\n",
    "    \"he'll\": 'he will',\n",
    "    \"he'll've\": 'he will have',\n",
    "    \"how'd\": 'how did',\n",
    "    \"how'd'y\": 'how do you',\n",
    "    \"how'll\": 'how will',\n",
    "    \"i'd\": 'i would',\n",
    "    \"i'd've\": 'i would have',\n",
    "    \"i'll\": 'i will',\n",
    "    \"i'll've\": 'i will have',\n",
    "    \"i'm\": 'i am',\n",
    "    \"i've\": 'i have',\n",
    "    \"isn't\": 'is not',\n",
    "    \"it'd\": 'it would',\n",
    "    \"it'd've\": 'it would have',\n",
    "    \"it'll\": 'it will',\n",
    "    \"it'll've\": 'it will have',\n",
    "    \"let's\": 'let us',\n",
    "    \"ma'am\": 'madam',\n",
    "    \"mayn't\": 'may not',\n",
    "    \"might've\": 'might have',\n",
    "    \"mightn't\": 'might not',\n",
    "    \"mightn't've\": 'might not have',\n",
    "    \"must've\": 'must have',\n",
    "    \"mustn't\": 'must not',\n",
    "    \"mustn't've\": 'must not have',\n",
    "    \"needn't\": 'need not',\n",
    "    \"needn't've\": 'need not have',\n",
    "    \"o'clock\": 'of the clock',\n",
    "    \"oughtn't\": 'ought not',\n",
    "    \"oughtn't've\": 'ought not have',\n",
    "    \"shan't\": 'shall not',\n",
    "    \"sha'n't\": 'shall not',\n",
    "    \"shan't've\": 'shall not have',\n",
    "    \"she'd\": 'she would',\n",
    "    \"she'd've\": 'she would have',\n",
    "    \"she'll\": 'she will',\n",
    "    \"she'll've\": 'she will have',\n",
    "    \"should've\": 'should have',\n",
    "    \"shouldn't\": 'should not',\n",
    "    \"shouldn't've\": 'should not have',\n",
    "    \"so've\": 'so have',\n",
    "    \"that'd\": 'that would',\n",
    "    \"that'd've\": 'that would have',\n",
    "    \"there'd\": 'there would',\n",
    "    \"there'd've\": 'there would have',\n",
    "    \"they'd\": 'they would',\n",
    "    \"they'd've\": 'they would have',\n",
    "    \"they'll\": 'they will',\n",
    "    \"they'll've\": 'they will have',\n",
    "    \"they're\": 'they are',\n",
    "    \"they've\": 'they have',\n",
    "    \"to've\": 'to have',\n",
    "    \"wasn't\": 'was not',\n",
    "    \"we'd\": 'we would',\n",
    "    \"we'd've\": 'we would have',\n",
    "    \"we'll\": 'we will',\n",
    "    \"we'll've\": 'we will have',\n",
    "    \"we're\": 'we are',\n",
    "    \"we've\": 'we have',\n",
    "    \"weren't\": 'were not',\n",
    "    \"what'll\": 'what will',\n",
    "    \"what'll've\": 'what will have',\n",
    "    \"what're\": 'what are',\n",
    "    \"what've\": 'what have',\n",
    "    \"when've\": 'when have',\n",
    "    \"where'd\": 'where did',\n",
    "    \"where've\": 'where have',\n",
    "    \"who'll\": 'who will',\n",
    "    \"who'll've\": 'who will have',\n",
    "    \"who've\": 'who have',\n",
    "    \"why've\": 'why have',\n",
    "    \"will've\": 'will have',\n",
    "    \"won't\": 'will not',\n",
    "    \"won't've\": 'will not have',\n",
    "    \"would've\": 'would have',\n",
    "    \"wouldn't\": 'would not',\n",
    "    \"wouldn't've\": 'would not have',\n",
    "    \"y'all\": 'you all',\n",
    "    \"y'all'd\": 'you all would',\n",
    "    \"y'all'd've\": 'you all would have',\n",
    "    \"y'all're\": 'you all are',\n",
    "    \"y'all've\": 'you all have',\n",
    "    \"you'd\": 'you would',\n",
    "    \"you'd've\": 'you would have',\n",
    "    \"you'll\": 'you will',\n",
    "    \"you'll've\": 'you will have',\n",
    "    \"you're\": 'you are',\n",
    "    \"you've\": 'you have'\n",
    "}"
   ]
  },
  {
   "cell_type": "code",
   "execution_count": 3,
   "id": "cc175146",
   "metadata": {},
   "outputs": [],
   "source": [
    "# Create function for replacing contractions\n",
    "\n",
    "def replace_contractions(text, contractions_map):\n",
    "    contractions_re = re.compile(\"(%s)\" % \"|\".join(contractions_map.keys()))\n",
    "\n",
    "    def expand(matched):\n",
    "        return contractions_map[matched.group(0)]\n",
    "    \n",
    "    return contractions_re.sub(expand, text)"
   ]
  },
  {
   "cell_type": "code",
   "execution_count": 4,
   "id": "3d5bdaf9",
   "metadata": {},
   "outputs": [],
   "source": [
    "# Example text data\n",
    "\n",
    "text = \"I'm only going to ask one more time, who'll look into it? Don't make me choose.\""
   ]
  },
  {
   "cell_type": "code",
   "execution_count": 5,
   "id": "e7725390",
   "metadata": {},
   "outputs": [
    {
     "data": {
      "text/plain": [
       "\"i'm only going to ask one more time, who'll look into it? don't make me choose.\""
      ]
     },
     "execution_count": 5,
     "metadata": {},
     "output_type": "execute_result"
    }
   ],
   "source": [
    "# Lowercase text data\n",
    "\n",
    "text_lowercased = text.lower()\n",
    "text_lowercased"
   ]
  },
  {
   "cell_type": "code",
   "execution_count": 6,
   "id": "27f2c010",
   "metadata": {},
   "outputs": [
    {
     "name": "stdout",
     "output_type": "stream",
     "text": [
      "i am only going to ask one more time, who will look into it? do not make me choose.\n"
     ]
    }
   ],
   "source": [
    "# Example of replacing contractions\n",
    "\n",
    "clean_text_lowercased = replace_contractions(\n",
    "    text_lowercased, \n",
    "    contractions\n",
    ")\n",
    "\n",
    "print(clean_text_lowercased)"
   ]
  },
  {
   "cell_type": "code",
   "execution_count": 7,
   "id": "a2bb32d3",
   "metadata": {},
   "outputs": [
    {
     "data": {
      "text/plain": [
       "['I am only going to ask one more time, who will look into it?',\n",
       " 'Do not make me choose.']"
      ]
     },
     "execution_count": 7,
     "metadata": {},
     "output_type": "execute_result"
    }
   ],
   "source": [
    "# Advanced Sentence Segmentation\n",
    "\n",
    "# Makes sure that we not only separate sentences\n",
    "# but that we also try to uppercase where necessary\n",
    "\n",
    "\n",
    "# Separate text into sentences and capitalize\n",
    "sentences = [sent.capitalize() \n",
    "             for sent in sent_tokenize(clean_text_lowercased)]\n",
    "\n",
    "sentences"
   ]
  },
  {
   "cell_type": "code",
   "execution_count": 8,
   "id": "32592e56",
   "metadata": {},
   "outputs": [
    {
     "name": "stdout",
     "output_type": "stream",
     "text": [
      "I am only going to ask one more time, who will look into it? Do not make me choose.\n"
     ]
    }
   ],
   "source": [
    "# If you want to join them back into one string\n",
    "# you can use the .join() method\n",
    "\n",
    "sentences_as_string = \" \".join(sentences)\n",
    "print(sentences_as_string)"
   ]
  },
  {
   "cell_type": "markdown",
   "id": "e95f0f02",
   "metadata": {},
   "source": [
    " "
   ]
  },
  {
   "cell_type": "markdown",
   "id": "18cd28cd",
   "metadata": {},
   "source": [
    "**NOTE:**\n",
    "    \n",
    "* the function `replace_contractions()` can be applied to a column of a Pandas dataframe very easily\n",
    "    <br>\n",
    "    <br>\n",
    "    \n",
    "    \n",
    "```\n",
    "df[\"my_column\"] = df[\"my_column\"].apply(replace_contractions)\n",
    "```\n",
    "* you can turn the code above into a module and reuse it across projects, so you don't have to replicate all this code"
   ]
  },
  {
   "cell_type": "markdown",
   "id": "79e61a34",
   "metadata": {},
   "source": [
    " "
   ]
  },
  {
   "cell_type": "markdown",
   "id": "1fd8a570",
   "metadata": {},
   "source": [
    "## Honorable mention: _smaller specialized libraries_"
   ]
  },
  {
   "cell_type": "markdown",
   "id": "d420b1da",
   "metadata": {},
   "source": [
    " "
   ]
  },
  {
   "cell_type": "markdown",
   "id": "9c367cc9",
   "metadata": {},
   "source": [
    "* smaller, more obscure libraries that enjoy less support than more popular libraries"
   ]
  },
  {
   "cell_type": "markdown",
   "id": "a1e187f3",
   "metadata": {},
   "source": [
    "* for example, the **contractions** library\n",
    "    <br>\n",
    "    \n",
    "    * very big problem with it and similar libraries: **they typically don't support the newest version of Python**\n",
    "    * e.g. the **contractions** package supports up to Python 3.6."
   ]
  },
  {
   "cell_type": "markdown",
   "id": "9fc4c80d",
   "metadata": {},
   "source": [
    "* if that is not a deal breaker for you, you can find more about it on the following link: https://snyk.io/advisor/python/contractions"
   ]
  },
  {
   "cell_type": "markdown",
   "id": "c8c8173b",
   "metadata": {},
   "source": [
    " "
   ]
  },
  {
   "cell_type": "markdown",
   "id": "c2ebf95e",
   "metadata": {},
   "source": [
    " <div>\n",
    "<img src=\"https://edlitera-images.s3.amazonaws.com/new_edlitera_logo.png\" width=\"500\"/>\n",
    "</div>"
   ]
  }
 ],
 "metadata": {
  "kernelspec": {
   "display_name": "Python 3 (ipykernel)",
   "language": "python",
   "name": "python3"
  },
  "language_info": {
   "codemirror_mode": {
    "name": "ipython",
    "version": 3
   },
   "file_extension": ".py",
   "mimetype": "text/x-python",
   "name": "python",
   "nbconvert_exporter": "python",
   "pygments_lexer": "ipython3",
   "version": "3.9.7"
  }
 },
 "nbformat": 4,
 "nbformat_minor": 5
}
