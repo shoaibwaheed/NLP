{
 "cells": [
  {
   "cell_type": "markdown",
   "id": "487c372e",
   "metadata": {},
   "source": [
    " <div>\n",
    "<img src=\"https://edlitera-images.s3.amazonaws.com/new_edlitera_logo.png\" width=\"500\"/>\n",
    "</div>"
   ]
  },
  {
   "cell_type": "markdown",
   "id": "684ed7a8",
   "metadata": {},
   "source": [
    " "
   ]
  },
  {
   "cell_type": "markdown",
   "id": "4d11be67",
   "metadata": {},
   "source": [
    "# Classification measures (visual example)"
   ]
  },
  {
   "cell_type": "markdown",
   "id": "9291fa49",
   "metadata": {},
   "source": [
    " "
   ]
  },
  {
   "cell_type": "markdown",
   "id": "c90ee0c1",
   "metadata": {},
   "source": [
    "## Dataset"
   ]
  },
  {
   "cell_type": "markdown",
   "id": "4cf09da1",
   "metadata": {},
   "source": [
    " "
   ]
  },
  {
   "cell_type": "markdown",
   "id": "47c76d18",
   "metadata": {},
   "source": [
    "* we have five data points of one class and five data points of another class displayed on the image below\n",
    "\n",
    "    <br>\n",
    "    \n",
    "    * one class is represented with the color blue\n",
    "    * one class is represented with the color red"
   ]
  },
  {
   "cell_type": "markdown",
   "id": "328203d5",
   "metadata": {},
   "source": [
    "\n",
    "<img src=\"https://edlitera-images.s3.amazonaws.com/binary_classification_starting_image.png\" width=\"350\">\n",
    "<p><center><b>Image 1</b></center></p>"
   ]
  },
  {
   "cell_type": "markdown",
   "id": "79d512a0",
   "metadata": {},
   "source": [
    "<Br>"
   ]
  },
  {
   "cell_type": "markdown",
   "id": "b4fcd15a",
   "metadata": {},
   "source": [
    "* we want to train our model to classify data into one of these two classes\n",
    "    <br>\n",
    "    \n",
    "    * this is a binary classification problem\n",
    "    * the model is basically being trained to draw a line that will separate the two classes in the image"
   ]
  },
  {
   "cell_type": "markdown",
   "id": "49f00fdd",
   "metadata": {},
   "source": [
    "* to measure how well our model performs, we will use:\n",
    "    <br>\n",
    "    \n",
    "    * precision\n",
    "    * recall\n",
    "    * F1 score"
   ]
  },
  {
   "cell_type": "markdown",
   "id": "af38224e",
   "metadata": {},
   "source": [
    " "
   ]
  },
  {
   "cell_type": "markdown",
   "id": "0f8c07f7",
   "metadata": {},
   "source": [
    "## _Example 1: good model_"
   ]
  },
  {
   "cell_type": "markdown",
   "id": "f918b3f3",
   "metadata": {},
   "source": [
    " "
   ]
  },
  {
   "cell_type": "markdown",
   "id": "8bac9cc5",
   "metadata": {},
   "source": [
    "\n",
    "<img src=\"https://edlitera-images.s3.amazonaws.com/binary_classification_example_1.png\" width=\"350\">\n",
    "<p><center><b>Image 2</b></center></p>"
   ]
  },
  {
   "cell_type": "markdown",
   "id": "f6974bf8",
   "metadata": {},
   "source": [
    "## Blue"
   ]
  },
  {
   "cell_type": "markdown",
   "id": "c03531fc",
   "metadata": {},
   "source": [
    " "
   ]
  },
  {
   "cell_type": "markdown",
   "id": "6557d12a",
   "metadata": {},
   "source": [
    "### $Recall = \\frac{5}{5} = 1$\n",
    "\n",
    "* 5 blue dots exist in the dataset\n",
    "* our model managed to draw a line that will include all of the blue dots in the blue dot class\n",
    "* therefore, the recall is equal to the number of blue dots we classified correctly (5), divided by the actual number of blue dots in the dataset (5)\n",
    "* that is how we get a recall of 100%\n"
   ]
  },
  {
   "cell_type": "markdown",
   "id": "9bf132f2",
   "metadata": {},
   "source": [
    "### $Precision = \\frac{5}{6} ≈ 0.83 $\n",
    "\n",
    "* the line divides our data so that 6 dots were assigned the blue class label\n",
    "* however, out of those 6 only 5 are actually blue dots - there is one impostor red dot\n",
    "* therefore, the precision is equal to the number of correctly classified dots (5), divided by the total number of dots assigned to that label (6)\n",
    "* we are going to round it to 83 %\n"
   ]
  },
  {
   "cell_type": "markdown",
   "id": "dffdc884",
   "metadata": {},
   "source": [
    "### $F1 = \\frac{2}{\\frac{1}{1} + \\frac{1}{0.83}} = \\frac{2}{1 + 1.2} = 0.91 $\n",
    "\n",
    "* following the formula for F1, and inserting the values we calculated for precision and recall we get an F1 score of 0.91"
   ]
  },
  {
   "cell_type": "markdown",
   "id": "3193ed19",
   "metadata": {},
   "source": [
    " "
   ]
  },
  {
   "cell_type": "markdown",
   "id": "ff7b1b23",
   "metadata": {},
   "source": [
    "## Red"
   ]
  },
  {
   "cell_type": "markdown",
   "id": "8f329210",
   "metadata": {},
   "source": [
    " "
   ]
  },
  {
   "cell_type": "markdown",
   "id": "efb42958",
   "metadata": {},
   "source": [
    "### $Recall = \\frac{4}{5} = 0.8$\n",
    "\n",
    "* 5 red dots exist in the dataset\n",
    "* our model drew a line that will NOT include all of the red dots in the red dot class\n",
    "* therefore, the recall is equal to the number of red dots we classified correctly (4), divided by the actual number of red dots in the dataset (5)\n",
    "* that is how we get a recall of 80%\n"
   ]
  },
  {
   "cell_type": "markdown",
   "id": "e8e9adc2",
   "metadata": {},
   "source": [
    "### $Precision = \\frac{4}{4} = 1 $\n",
    "\n",
    "* the line divides our data so that 4 dots were assigned the red class label\n",
    "* out of those 4 all 4 are red dots \n",
    "* therefore, the precision is equal to the number of correctly classified dots (4), divided by the total number of dots assigned to that label (also 4)\n",
    "* this is how we get a precision of 100 %\n"
   ]
  },
  {
   "cell_type": "markdown",
   "id": "216c2d25",
   "metadata": {},
   "source": [
    "### $F1 = \\frac{2}{\\frac{1}{0.8} + \\frac{1}{1}} = \\frac{2}{1 + 1.25} ≈ 0.89 $\n",
    "\n",
    "* following the formula for F1, and inserting the values we calculated for precision and recall we get an F1 score of approximately 0.89"
   ]
  },
  {
   "cell_type": "markdown",
   "id": "23ea19c3",
   "metadata": {},
   "source": [
    " "
   ]
  },
  {
   "cell_type": "markdown",
   "id": "5495a7d8",
   "metadata": {},
   "source": [
    "## _Example 2: bad model_"
   ]
  },
  {
   "cell_type": "markdown",
   "id": "f6c6d114",
   "metadata": {},
   "source": [
    " "
   ]
  },
  {
   "cell_type": "markdown",
   "id": "b8d05f5a",
   "metadata": {},
   "source": [
    "\n",
    "<img src=\"https://edlitera-images.s3.amazonaws.com/binary_classification_example_2.png\" width=\"350\">\n",
    "<p><center><b>Image 3</b></center></p>"
   ]
  },
  {
   "cell_type": "markdown",
   "id": "3c7db869",
   "metadata": {},
   "source": [
    "## Blue"
   ]
  },
  {
   "cell_type": "markdown",
   "id": "fc236998",
   "metadata": {},
   "source": [
    " "
   ]
  },
  {
   "cell_type": "markdown",
   "id": "0449cf98",
   "metadata": {},
   "source": [
    "### $Recall = \\frac{2}{5} = 0.4$\n",
    "\n",
    "* 5 blue dots exist in the actual dataset\n",
    "* our model drew a line that will include only 2 blue dots in the blue dot class\n",
    "* therefore, the recall is equal to the number of blue dots we classified correctly (2), divided by the actual number of blue dots in the dataset (5)\n",
    "* that is how we get a recall of 40%\n"
   ]
  },
  {
   "cell_type": "markdown",
   "id": "76dadc2e",
   "metadata": {},
   "source": [
    "### $Precision = \\frac{2}{2} = 1 $\n",
    "\n",
    "* the line divides our data so that 2 dots were assigned the blue class label\n",
    "* both dots are blue dots \n",
    "* therefore, the precision is equal to the number of correctly classified dots (2), divided by the total number of dots assigned to that label (2)\n",
    "* this is how we get a precision of 100 %\n"
   ]
  },
  {
   "cell_type": "markdown",
   "id": "5865887e",
   "metadata": {},
   "source": [
    "### $F1 = \\frac{2}{\\frac{1}{0.4} + \\frac{1}{1}} = \\frac{2}{2.5 + 1} = 0.57 $\n",
    "\n",
    "* following the formula for F1, and inserting the values we calculated for precision and recall we get an F1 score of 0.57"
   ]
  },
  {
   "cell_type": "markdown",
   "id": "d432dec0",
   "metadata": {},
   "source": [
    " "
   ]
  },
  {
   "cell_type": "markdown",
   "id": "4ac6d7f3",
   "metadata": {},
   "source": [
    "## Red"
   ]
  },
  {
   "cell_type": "markdown",
   "id": "5d080912",
   "metadata": {},
   "source": [
    " "
   ]
  },
  {
   "cell_type": "markdown",
   "id": "aa01b928",
   "metadata": {},
   "source": [
    "### $Recall = \\frac{5}{5} = 1$\n",
    "\n",
    "* 5 red dots exist in the actual dataset\n",
    "* our model drew a line that will include all of them in the red dot class\n",
    "* therefore, the recall is equal to the number of red dots we classified correctly (5), divided by the actual number of red dots in the dataset (also 5)\n",
    "* that is how we get a recall of 100%\n"
   ]
  },
  {
   "cell_type": "markdown",
   "id": "20bec022",
   "metadata": {},
   "source": [
    "### $Precision = \\frac{5}{8} = 0.625 $\n",
    "\n",
    "* the line divides our data so that 8 dots were assigned the red class label\n",
    "* there are 5 red dots and 3 blue dots \n",
    "* therefore, the precision is equal to the number of correctly classified dots (5), divided by the total number of dots assigned to that label (8)\n",
    "* this is how we get a precision of 62.5%\n"
   ]
  },
  {
   "cell_type": "markdown",
   "id": "04bb6f81",
   "metadata": {},
   "source": [
    "### $F1 = \\frac{2}{\\frac{1}{1} + \\frac{1}{0.625}} = \\frac{2}{1 + 1.6} = 0.77 $\n",
    "\n",
    "* following the formula for F1, and inserting the values we calculated for precision and recall we get an F1 score of 0.77"
   ]
  },
  {
   "cell_type": "markdown",
   "id": "816f9566",
   "metadata": {},
   "source": [
    " "
   ]
  },
  {
   "cell_type": "markdown",
   "id": "13b60650",
   "metadata": {},
   "source": [
    "<br>\n",
    "<br>\n",
    "<br>\n",
    "<br>\n",
    "<br>\n",
    "<br>\n",
    "<br>"
   ]
  },
  {
   "cell_type": "markdown",
   "id": "fd69e9cf",
   "metadata": {},
   "source": [
    "# Classification scores in multiclass classification"
   ]
  },
  {
   "cell_type": "markdown",
   "id": "c49c524b",
   "metadata": {},
   "source": [
    " "
   ]
  },
  {
   "cell_type": "markdown",
   "id": "9ecf8fcf",
   "metadata": {},
   "source": [
    "* calculating classification measures for multiclass classification is not very different from calculating them for binary classification"
   ]
  },
  {
   "cell_type": "markdown",
   "id": "018ea63e",
   "metadata": {},
   "source": [
    "* the change in the number of classes changes the confusion matrix somewhat, and calculating the F1 score for the whole model is a bit different"
   ]
  },
  {
   "cell_type": "markdown",
   "id": "2d86766f",
   "metadata": {},
   "source": [
    "* in terms of visualization, a new axis gets added\n",
    "    <br>\n",
    "    \n",
    "    * the dimensionality increases by one dimension each time we add a class"
   ]
  },
  {
   "cell_type": "markdown",
   "id": "57825c1b",
   "metadata": {},
   "source": [
    "**Example:**\n",
    "\n",
    "* for a multiclass problem with 3 classes we will have our data stored in 3D space\n",
    "* instead of finding a line that separates data, the model tries to find a plane that will separate the data"
   ]
  },
  {
   "cell_type": "markdown",
   "id": "858ac8eb",
   "metadata": {},
   "source": [
    " "
   ]
  },
  {
   "cell_type": "markdown",
   "id": "2e45ff28",
   "metadata": {},
   "source": [
    "## _Confusion matrix changes_"
   ]
  },
  {
   "cell_type": "markdown",
   "id": "2b58b8e9",
   "metadata": {},
   "source": [
    " "
   ]
  },
  {
   "cell_type": "markdown",
   "id": "35da7862",
   "metadata": {},
   "source": [
    "* the main difference is in the size of the matrix itself"
   ]
  },
  {
   "cell_type": "markdown",
   "id": "211eb89e",
   "metadata": {},
   "source": [
    "* each new class adds another row and column to the matrix"
   ]
  },
  {
   "cell_type": "markdown",
   "id": "2583ef4e",
   "metadata": {},
   "source": [
    "* the procedure we go through is very simple:\n",
    "    <br>\n",
    "    \n",
    "    * calculate the precision and recall of each class separately\n",
    "    * calculate the F1 score of each class separately\n",
    "    * **then we calculate an averaged F1 score to get the overall F1 score of the whole model**"
   ]
  },
  {
   "cell_type": "markdown",
   "id": "abb770da",
   "metadata": {},
   "source": [
    " "
   ]
  },
  {
   "cell_type": "markdown",
   "id": "c60427ef",
   "metadata": {},
   "source": [
    "### Multiclass confusion matrix"
   ]
  },
  {
   "cell_type": "markdown",
   "id": "f0545fc9",
   "metadata": {},
   "source": [
    " "
   ]
  },
  {
   "cell_type": "markdown",
   "id": "2958660b",
   "metadata": {},
   "source": [
    "\n",
    "<img src=\"https://edlitera-images.s3.amazonaws.com/multiclass_confusion_matrix.png\" width=\"400\">\n",
    "<p><center><b>Image 4</b></center></p>"
   ]
  },
  {
   "cell_type": "markdown",
   "id": "cb542692",
   "metadata": {},
   "source": [
    " "
   ]
  },
  {
   "cell_type": "markdown",
   "id": "547dfa07",
   "metadata": {},
   "source": [
    "**Precision and recall made simple:**\n",
    "\n",
    "* you can use the values in the multiclass confusion matrix to calculate the precision / recall for each class (see below)"
   ]
  },
  {
   "cell_type": "markdown",
   "id": "ea411224",
   "metadata": {},
   "source": [
    " "
   ]
  },
  {
   "cell_type": "markdown",
   "id": "1f12528b",
   "metadata": {},
   "source": [
    "## Class A"
   ]
  },
  {
   "cell_type": "markdown",
   "id": "679ae681",
   "metadata": {},
   "source": [
    " "
   ]
  },
  {
   "cell_type": "markdown",
   "id": "361c9eec",
   "metadata": {},
   "source": [
    "\n",
    "<img src=\"https://edlitera-images.s3.amazonaws.com/class_A_precision_and_recall.png\" width=\"400\">\n",
    "<p><center><b>Image 5</b></center></p>"
   ]
  },
  {
   "cell_type": "markdown",
   "id": "f4e0a8f5",
   "metadata": {},
   "source": [
    " "
   ]
  },
  {
   "cell_type": "markdown",
   "id": "451f9597",
   "metadata": {},
   "source": [
    "### $Precision = \\frac{20}{20+3+0} = 0.87 $\n",
    "\n",
    "\n",
    " "
   ]
  },
  {
   "cell_type": "markdown",
   "id": "2474a55e",
   "metadata": {},
   "source": [
    "### $Recall = \\frac{20}{20+26+20} = 0.3 $\n",
    "\n",
    "\n",
    " "
   ]
  },
  {
   "cell_type": "markdown",
   "id": "e4258f53",
   "metadata": {},
   "source": [
    "### $F1 = \\frac{2}{1.15+3.3} = 0.45 $\n",
    "\n",
    "\n",
    " "
   ]
  },
  {
   "cell_type": "markdown",
   "id": "662715b9",
   "metadata": {},
   "source": [
    " "
   ]
  },
  {
   "cell_type": "markdown",
   "id": "ff2f86e7",
   "metadata": {},
   "source": [
    "## Class B"
   ]
  },
  {
   "cell_type": "markdown",
   "id": "8d30a95e",
   "metadata": {},
   "source": [
    " "
   ]
  },
  {
   "cell_type": "markdown",
   "id": "1795bcd8",
   "metadata": {},
   "source": [
    "\n",
    "<img src=\"https://edlitera-images.s3.amazonaws.com/class_B_precision_and_recall.png\" width=\"400\">\n",
    "<p><center><b>Image 6</b></center></p>"
   ]
  },
  {
   "cell_type": "markdown",
   "id": "2368c7f9",
   "metadata": {},
   "source": [
    " "
   ]
  },
  {
   "cell_type": "markdown",
   "id": "e35d6c47",
   "metadata": {},
   "source": [
    "### $Precision = \\frac{7}{26+7+0} = 0.21 $\n",
    "\n",
    "\n",
    " "
   ]
  },
  {
   "cell_type": "markdown",
   "id": "7ebd75e4",
   "metadata": {},
   "source": [
    "### $Recall = \\frac{7}{3+7+2} = 0.58 $\n",
    "\n",
    "\n",
    " "
   ]
  },
  {
   "cell_type": "markdown",
   "id": "8585f78e",
   "metadata": {},
   "source": [
    "### $F1 = \\frac{2}{4.76 + 1.72} = 0.31 $\n",
    "\n",
    "\n",
    " "
   ]
  },
  {
   "cell_type": "markdown",
   "id": "464c4064",
   "metadata": {},
   "source": [
    " "
   ]
  },
  {
   "cell_type": "markdown",
   "id": "73b6ae35",
   "metadata": {},
   "source": [
    "## Class C"
   ]
  },
  {
   "cell_type": "markdown",
   "id": "1a41688c",
   "metadata": {},
   "source": [
    " "
   ]
  },
  {
   "cell_type": "markdown",
   "id": "15a16a70",
   "metadata": {},
   "source": [
    "\n",
    "<img src=\"https://edlitera-images.s3.amazonaws.com/class_C_precision_and_recall.png\" width=\"400\">\n",
    "<p><center><b>Image 7</b></center></p>"
   ]
  },
  {
   "cell_type": "markdown",
   "id": "93b20dc1",
   "metadata": {},
   "source": [
    " "
   ]
  },
  {
   "cell_type": "markdown",
   "id": "7a40f305",
   "metadata": {},
   "source": [
    " ### $Precision = \\frac{5}{20+2+5} = 0.19 $\n",
    "\n",
    "\n",
    " "
   ]
  },
  {
   "cell_type": "markdown",
   "id": "ee6671e4",
   "metadata": {},
   "source": [
    "### $Recall = \\frac{5}{5 + 0 + 0} = 1 $\n",
    "\n",
    "\n",
    " "
   ]
  },
  {
   "cell_type": "markdown",
   "id": "d17598ee",
   "metadata": {},
   "source": [
    "### $F1 = \\frac{2}{5.26 + 1} = 0.32 $\n",
    "\n",
    "\n",
    " "
   ]
  },
  {
   "cell_type": "markdown",
   "id": "d3e7f81c",
   "metadata": {},
   "source": [
    " "
   ]
  },
  {
   "cell_type": "markdown",
   "id": "71d18014",
   "metadata": {},
   "source": [
    " "
   ]
  },
  {
   "cell_type": "markdown",
   "id": "9ffcf467",
   "metadata": {},
   "source": [
    " "
   ]
  },
  {
   "cell_type": "markdown",
   "id": "c504de9f",
   "metadata": {},
   "source": [
    "## _Averaged F1 scores_"
   ]
  },
  {
   "cell_type": "markdown",
   "id": "7d7afd17",
   "metadata": {},
   "source": [
    " "
   ]
  },
  {
   "cell_type": "markdown",
   "id": "95cd7e75",
   "metadata": {},
   "source": [
    "* once we have calculated the per-class F1-scores we can combine them to get the overall F1 score of the model"
   ]
  },
  {
   "cell_type": "markdown",
   "id": "280b88e6",
   "metadata": {},
   "source": [
    "* there are a few variants of the averaged F1 score, but the two most popular are:\n",
    "    <br>\n",
    "    \n",
    "    * ***macro averaged F1 score***\n",
    "    * ***weighted average F1 score***"
   ]
  },
  {
   "cell_type": "markdown",
   "id": "b4247f63",
   "metadata": {},
   "source": [
    " "
   ]
  },
  {
   "cell_type": "markdown",
   "id": "1bbd0bf9",
   "metadata": {},
   "source": [
    "### Macro-averaged F1 score"
   ]
  },
  {
   "cell_type": "markdown",
   "id": "662816c4",
   "metadata": {},
   "source": [
    " "
   ]
  },
  {
   "cell_type": "markdown",
   "id": "0a25cf17",
   "metadata": {},
   "source": [
    "* basically the arithmetic mean of the F1 scores"
   ]
  },
  {
   "cell_type": "markdown",
   "id": "2df2ae22",
   "metadata": {},
   "source": [
    "### $\\text {Macro averaged F1} = \\frac{0.45+0.31+0.32}{3} = 0.36 = 36\\text{%}$"
   ]
  },
  {
   "cell_type": "markdown",
   "id": "418b6df9",
   "metadata": {},
   "source": [
    " "
   ]
  },
  {
   "cell_type": "markdown",
   "id": "a9cf2f49",
   "metadata": {},
   "source": [
    "### Weighted average F1 score"
   ]
  },
  {
   "cell_type": "markdown",
   "id": "7022efe1",
   "metadata": {},
   "source": [
    " "
   ]
  },
  {
   "cell_type": "markdown",
   "id": "88f8c04a",
   "metadata": {},
   "source": [
    "* we don't need to assign equal weights to each class\n",
    "    <br>\n",
    "    \n",
    "    * this is what we do when we calculate the Macro averaged F1 score"
   ]
  },
  {
   "cell_type": "markdown",
   "id": "003ff76a",
   "metadata": {},
   "source": [
    "* in the case of the weighted average F1 score, we weigh the individually calculated F1 scores based on the number of samples in each class"
   ]
  },
  {
   "cell_type": "markdown",
   "id": "b7b90ea9",
   "metadata": {},
   "source": [
    "* in our case we have a total of 83 samples\n",
    "    <br>\n",
    "    \n",
    "    * you get the number of samples per class by summing up the values in the columns\n",
    "        <br>\n",
    "        \n",
    "        * we have 66 samples of class A\n",
    "        * we have 12 samples of class B\n",
    "        * we have 5 samples of class C"
   ]
  },
  {
   "cell_type": "markdown",
   "id": "17d4355f",
   "metadata": {},
   "source": [
    "* finally, to get the weighted F1 score we multiply the F1 score of each class with the number of samples we have from that class, sum the results of all the classes and divide by the total number of samples"
   ]
  },
  {
   "cell_type": "markdown",
   "id": "4d37cf26",
   "metadata": {},
   "source": [
    "### $\\text {Weighted average F1} = \\frac{66*0.45+0.31*12+0.32*5}{83} = \\frac{29.7+3.72+1.6}{83} = 0.42 = 42\\text{%}$"
   ]
  },
  {
   "cell_type": "markdown",
   "id": "2a65f171",
   "metadata": {},
   "source": [
    " "
   ]
  },
  {
   "cell_type": "markdown",
   "id": "e4392c9f",
   "metadata": {},
   "source": [
    " <div>\n",
    "<img src=\"https://edlitera-images.s3.amazonaws.com/new_edlitera_logo.png\" width=\"500\"/>\n",
    "</div>"
   ]
  },
  {
   "cell_type": "code",
   "execution_count": null,
   "id": "e00e7e92",
   "metadata": {},
   "outputs": [],
   "source": []
  }
 ],
 "metadata": {
  "kernelspec": {
   "display_name": "Python 3 (ipykernel)",
   "language": "python",
   "name": "python3"
  },
  "language_info": {
   "codemirror_mode": {
    "name": "ipython",
    "version": 3
   },
   "file_extension": ".py",
   "mimetype": "text/x-python",
   "name": "python",
   "nbconvert_exporter": "python",
   "pygments_lexer": "ipython3",
   "version": "3.9.7"
  }
 },
 "nbformat": 4,
 "nbformat_minor": 5
}
