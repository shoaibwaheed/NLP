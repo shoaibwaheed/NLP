{
 "cells": [
  {
   "cell_type": "markdown",
   "id": "711175b9",
   "metadata": {
    "slideshow": {
     "slide_type": "slide"
    }
   },
   "source": [
    " <div>\n",
    "<img src=\"https://edlitera-images.s3.amazonaws.com/new_edlitera_logo.png\" width=\"500\"/>\n",
    "</div>"
   ]
  },
  {
   "cell_type": "markdown",
   "id": "40b1a4e8",
   "metadata": {
    "slideshow": {
     "slide_type": "slide"
    }
   },
   "source": [
    "# Natural Language Processing \n"
   ]
  },
  {
   "cell_type": "markdown",
   "id": "b84889b1",
   "metadata": {
    "slideshow": {
     "slide_type": "slide"
    }
   },
   "source": [
    "## About us "
   ]
  },
  {
   "cell_type": "markdown",
   "id": "0c3dff8c",
   "metadata": {
    "slideshow": {
     "slide_type": "fragment"
    }
   },
   "source": [
    "#### Boris Delovski\n",
    "\n",
    "* data science trainer and consultant at Edlitera\n",
    "* before Edlitera applied his skills in several industries, including neuroimaging and metallurgy\n",
    "* LinkedIn: https://www.linkedin.com/in/boris-delovski/\n",
    "* email: boris@edlitera.com"
   ]
  },
  {
   "cell_type": "markdown",
   "id": "de69ae82",
   "metadata": {
    "slideshow": {
     "slide_type": "fragment"
    }
   },
   "source": [
    "#### Ciprian Stratulat\n",
    "\n",
    "* software and data engineer at Edlitera (https://www.edlitera.com)\n",
    "* before Edlitera worked as a Software Engineer in finance, biotech, genomics and consumer web\n",
    "\n",
    "* LinkedIn: https://www.linkedin.com/in/ciprian-stratulat/\n",
    "* email: ciprian@edlitera.com"
   ]
  },
  {
   "cell_type": "markdown",
   "id": "ebec47f7",
   "metadata": {
    "slideshow": {
     "slide_type": "slide"
    }
   },
   "source": [
    "## About Edlitera\n",
    "\n",
    "- Hands-on, in-depth courses on the latest programming, data science, machine learning and data engineering topics.\n",
    "- Other Edlitera courses at Qualcomm:\n",
    "    - Classic ML using Python\n",
    "    - Introduction to Python\n",
    "    - Intermediate Python\n",
    "    - A Whirlwind Tour of Apache Spark\n",
    "    - Building Data Pipelines with AWS and Python\n",
    "- Get in touch: contact@edlitera.com "
   ]
  },
  {
   "cell_type": "markdown",
   "id": "9e90239b",
   "metadata": {
    "slideshow": {
     "slide_type": "slide"
    }
   },
   "source": [
    "## Logistics\n"
   ]
  },
  {
   "cell_type": "markdown",
   "id": "7dbe8d11",
   "metadata": {
    "slideshow": {
     "slide_type": "fragment"
    }
   },
   "source": [
    "* 8 two-hour long sessions (16 hours total)\n",
    "* we will upload recordings to the Edlitera dashboard\n",
    "* please do the in-class exercises - they will help you learn the material!\n",
    "* at the end of the class we will share our solutions to all in-class exercises\n",
    "* stay in touch and ask questions: boris@edlitera.com"
   ]
  },
  {
   "cell_type": "markdown",
   "id": "7508eb63",
   "metadata": {
    "slideshow": {
     "slide_type": "fragment"
    }
   },
   "source": [
    "## Goals\n",
    "\n",
    "* learn the basics of NLP in Python\n",
    "* learn the basics of classic ML and deep learning as they apply to NLP\n",
    "* practice the topics learned\n",
    "* work on an end-to-end NLP project\n",
    "\n",
    "**NOTE: Python programming experience is required for this class!**"
   ]
  },
  {
   "cell_type": "markdown",
   "id": "572cfdcb",
   "metadata": {
    "slideshow": {
     "slide_type": "fragment"
    }
   },
   "source": [
    "## Non-goals and caveats\n",
    "\n",
    "* because of time constraints we won't be able to get into a lot of detail on some topics\n",
    "    * **we strongly recommend our dedicated Classic ML with Python and Deep Learning with Python if you want to get deeper into the ML part of the material**\n",
    "* this is primarily an engineering course, not a theoretical course\n",
    "    * we will use images and code instead of equations and theorems\n",
    "* becoming an expert will take time and individual-practice\n",
    "* we're here to help, please stay in touch!"
   ]
  },
  {
   "cell_type": "markdown",
   "id": "6127a500",
   "metadata": {
    "slideshow": {
     "slide_type": "slide"
    }
   },
   "source": [
    "## Agenda"
   ]
  },
  {
   "cell_type": "markdown",
   "id": "ed434342",
   "metadata": {
    "slideshow": {
     "slide_type": "fragment"
    }
   },
   "source": [
    "* **NLP basics in Python**\n",
    "    * introduction to NLP\n",
    "    * NLP Python libraries\n",
    "    * morphological analysis\n",
    "    * lexical representations\n",
    "    * document representations\n",
    "    * distributed representations\n",
    "\n",
    "\n",
    "* **Machine learning basics**\n",
    "    * introduction to machine learning\n",
    "    * implementing classication models in Python\n",
    "    * training and evaluating classification models\n",
    "    * introduction to popular classification models\n",
    "\n",
    "\n",
    "* **Deep learning basics**\n",
    "    * introduction to deep learning\n",
    "    * training and evaluating neural networks\n",
    "    * deep learning with Keras\n",
    "    * modern neural networks\n",
    "    * NLP in Keras\n",
    "    * popular modern neural networks for NLP\n",
    "\n",
    "\n",
    "* **Final project**"
   ]
  },
  {
   "cell_type": "markdown",
   "id": "13bff946",
   "metadata": {
    "slideshow": {
     "slide_type": "slide"
    }
   },
   "source": [
    "# Introduction to `Natural Language Processing (NLP)`"
   ]
  },
  {
   "cell_type": "markdown",
   "id": "33237e85",
   "metadata": {
    "slideshow": {
     "slide_type": "fragment"
    }
   },
   "source": [
    "* often interchangeably used with the term **`computational linguistics`**, but there are slight differences between them\n",
    "    <br>\n",
    "    \n",
    "    * **`computational linguistics`** - applying statistical methods to better understand human language\n",
    "        <br>\n",
    "    \n",
    "    * **`NLP`** - extracting information from human language using computational methods"
   ]
  },
  {
   "cell_type": "markdown",
   "id": "b8861751",
   "metadata": {
    "slideshow": {
     "slide_type": "fragment"
    }
   },
   "source": [
    "* computational linguistics, aside from **computer science** and **linguistics**, also encompases fields such as:\n",
    "    \n",
    "    <br>\n",
    "    \n",
    "    * **psychology**\n",
    "    <br>\n",
    "    \n",
    "    * **neuroscience**\n",
    "    <br>\n",
    "    \n",
    "    * **philosophy**\n",
    "    <br>\n",
    "    \n",
    "    * **etc.**"
   ]
  },
  {
   "cell_type": "markdown",
   "id": "83d4764f",
   "metadata": {
    "slideshow": {
     "slide_type": "fragment"
    }
   },
   "source": [
    "* using **`NLP`** we can extract information from written text, and also from spoken language\n",
    "\n",
    "    <br>\n",
    "    \n",
    "    * **`text analytics`** - analyzing text\n",
    "    <br>\n",
    "    \n",
    "    * **`speech analytics`** - analyzing spoken language (we won't deal with this part in this course)"
   ]
  },
  {
   "cell_type": "markdown",
   "id": "b03c1156",
   "metadata": {
    "slideshow": {
     "slide_type": "slide"
    }
   },
   "source": [
    "# Natural Language Processing in Python"
   ]
  },
  {
   "cell_type": "markdown",
   "id": "2e43d4e7",
   "metadata": {
    "slideshow": {
     "slide_type": "fragment"
    }
   },
   "source": [
    "* there are many libraries designed for processing natural language in Python"
   ]
  },
  {
   "cell_type": "markdown",
   "id": "c2a99fe5",
   "metadata": {
    "slideshow": {
     "slide_type": "fragment"
    }
   },
   "source": [
    "* try to use popular libraries"
   ]
  },
  {
   "cell_type": "markdown",
   "id": "6f42c84f",
   "metadata": {
    "slideshow": {
     "slide_type": "slide"
    }
   },
   "source": [
    "* advantages of popular libraries:\n",
    "  <br>\n",
    "    \n",
    "    * their code has already been tested on countless problems\n",
    "      <br>\n",
    "    \n",
    "    * there is a lot of support for them\n",
    "      <br>\n",
    "    \n",
    "    * they are often simpler than some more obscure libraries"
   ]
  },
  {
   "cell_type": "markdown",
   "id": "e848a414",
   "metadata": {
    "slideshow": {
     "slide_type": "slide"
    }
   },
   "source": [
    "* strictly processing text is usually only the first step of projects involving human language"
   ]
  },
  {
   "cell_type": "markdown",
   "id": "be80e06d",
   "metadata": {
    "slideshow": {
     "slide_type": "fragment"
    }
   },
   "source": [
    "* usually, we want to also train **`Machine Learning (ML)`** models to automatically classify, summarize, tag, or otherwise extract meaning from processed human text"
   ]
  },
  {
   "cell_type": "markdown",
   "id": "23f36285",
   "metadata": {
    "slideshow": {
     "slide_type": "slide"
    }
   },
   "source": [
    "**We can divide libraries that we use for NLP into:**\n",
    "\n",
    "   * libraries specifically designed for language processing (e.g. `nltk`, `TextBlob`, etc.)\n",
    "\n",
    "\n",
    "   * libraries used for creating ML models (models don't need to necessarily be used for **`NLP`**)"
   ]
  },
  {
   "cell_type": "markdown",
   "id": "2264c67d",
   "metadata": {
    "slideshow": {
     "slide_type": "fragment"
    }
   },
   "source": [
    "* first, we will focus on NLP libraries\n",
    "\n",
    "\n",
    "* then, we will cover ML libraries"
   ]
  },
  {
   "cell_type": "markdown",
   "id": "957a8ac9",
   "metadata": {
    "slideshow": {
     "slide_type": "slide"
    }
   },
   "source": [
    "# Most popular NLP libraries"
   ]
  },
  {
   "cell_type": "markdown",
   "id": "32e54d4f",
   "metadata": {
    "slideshow": {
     "slide_type": "fragment"
    }
   },
   "source": [
    "* for now, we will focus on **`NLTK`**\n",
    "  <br>\n",
    "    \n",
    "    * **`TextBlob`** is a higher level library built on top of **`NLTK`**, but is somewhat limited so we are not going to cover it \n",
    "      <br>  \n",
    "      <br>\n",
    "* we will cover libraries such as **`Scikit-Learn`**, **`Keras`**, etc. in subsequent chapters "
   ]
  },
  {
   "cell_type": "markdown",
   "id": "fca28a2b",
   "metadata": {
    "slideshow": {
     "slide_type": "fragment"
    }
   },
   "source": [
    "* we will also talk about **`Gensim`**, and **`spaCy`**  later on\n",
    "  <br>\n",
    "    \n",
    "    * some libraries are much easier to understand and work with once you know the basics of **`Deep Learning`**\n",
    "      <br>\n",
    "    \n",
    "    * also, libraries such as **`Gensim`** are not necessary for performing **`NLP`** using classic **`Machine Learning`** algorithms"
   ]
  },
  {
   "cell_type": "markdown",
   "id": "24b6aa0c",
   "metadata": {
    "slideshow": {
     "slide_type": "slide"
    }
   },
   "source": [
    "# `NLTK`"
   ]
  },
  {
   "cell_type": "markdown",
   "id": "415e4169",
   "metadata": {
    "slideshow": {
     "slide_type": "fragment"
    }
   },
   "source": [
    "* developed by **Team NLTK** and first released 20 years ago"
   ]
  },
  {
   "cell_type": "markdown",
   "id": "b2e92e04",
   "metadata": {
    "slideshow": {
     "slide_type": "fragment"
    }
   },
   "source": [
    "* **documentation:** https://www.nltk.org/"
   ]
  },
  {
   "cell_type": "markdown",
   "id": "bd2d2270",
   "metadata": {
    "slideshow": {
     "slide_type": "fragment"
    }
   },
   "source": [
    "* **GitHub repository:** https://github.com/nltk/nltk"
   ]
  },
  {
   "cell_type": "markdown",
   "id": "ee183478",
   "metadata": {
    "slideshow": {
     "slide_type": "fragment"
    }
   },
   "source": [
    "* one of the leading platforms for building Python programs that analyze, process and work with data that represents human language"
   ]
  },
  {
   "cell_type": "markdown",
   "id": "ca876080",
   "metadata": {
    "slideshow": {
     "slide_type": "slide"
    }
   },
   "source": [
    "* it can serve as a practical introduction to many **`NLP`** concepts\n",
    "  <br>\n",
    "    \n",
    "* it is accompanied by a book that explains the basic concepts of the different operations we can perform using **`NLTK`**\n",
    "  <br>"
   ]
  },
  {
   "cell_type": "markdown",
   "id": "a7117824",
   "metadata": {
    "slideshow": {
     "slide_type": "slide"
    }
   },
   "source": [
    "**It has everything we need to completely preprocess our text data and prepare it for models !**"
   ]
  },
  {
   "cell_type": "markdown",
   "id": "00727a29",
   "metadata": {
    "slideshow": {
     "slide_type": "fragment"
    }
   },
   "source": [
    "* **`NLTK`** includes more than 50 corpora\n",
    "    <br>\n",
    "    \n",
    "    * a **corpus** is collection of machine-readable texts, finite in size, that provides a quality representation of some language\n",
    "      <br>\n",
    "    \n",
    "    * nowadays a corpus can contain millions of words (e.g. **The Bank of English Corpus** contains 650 million words)"
   ]
  },
  {
   "cell_type": "markdown",
   "id": "89a48482",
   "metadata": {
    "slideshow": {
     "slide_type": "slide"
    }
   },
   "source": [
    "* as a platform, **NLTK** comes with a number of different libraries that we can use for:\n",
    "    <br>\n",
    "    \n",
    "    * **parsing text data**\n",
    "        <br>\n",
    "    \n",
    "    * **chunking text data**\n",
    "        <br>\n",
    "    \n",
    "    * **sentence detection**\n",
    "        <br>\n",
    "    \n",
    "    * **stemming**\n",
    "        <br>\n",
    "    \n",
    "    * **lemmatization**\n",
    "        <br>\n",
    "    \n",
    "    * **tokenization**\n",
    "        <br>\n",
    "    \n",
    "    * **etc.**"
   ]
  },
  {
   "cell_type": "markdown",
   "id": "e2dd1536",
   "metadata": {
    "slideshow": {
     "slide_type": "slide"
    }
   },
   "source": [
    "* we will focus on:\n",
    "    <br>\n",
    "    \n",
    "    * **stemming**\n",
    "    <br>\n",
    "    \n",
    "    * **lemmatization**\n",
    "    <br>\n",
    "    \n",
    "    * **POS tagging**\n",
    "    <br>\n",
    "    \n",
    "    * **tokenization**\n",
    "    <br>\n",
    "    \n",
    "    * **stopword removal**"
   ]
  },
  {
   "cell_type": "markdown",
   "id": "8828f559",
   "metadata": {
    "slideshow": {
     "slide_type": "fragment"
    }
   },
   "source": [
    "* as we explain the most important concepts of natural language, we will also demonstrate how we perform the aforementioned operations in Python using NLTK"
   ]
  },
  {
   "cell_type": "markdown",
   "id": "32be9f4f",
   "metadata": {
    "slideshow": {
     "slide_type": "slide"
    }
   },
   "source": [
    "# Natural Language"
   ]
  },
  {
   "cell_type": "markdown",
   "id": "d9d835c0",
   "metadata": {
    "slideshow": {
     "slide_type": "fragment"
    }
   },
   "source": [
    "* includes both spoken and signed languages"
   ]
  },
  {
   "cell_type": "markdown",
   "id": "54b7ab64",
   "metadata": {
    "slideshow": {
     "slide_type": "fragment"
    }
   },
   "source": [
    "* the goal is to map language to representations"
   ]
  },
  {
   "cell_type": "markdown",
   "id": "c3c1f2ee",
   "metadata": {
    "slideshow": {
     "slide_type": "fragment"
    }
   },
   "source": [
    "**The biggest problem with human language is that it is ambiguous by nature !**"
   ]
  },
  {
   "cell_type": "markdown",
   "id": "bc87aa5e",
   "metadata": {
    "slideshow": {
     "slide_type": "slide"
    }
   },
   "source": [
    "* there are currently over 7000 human languages\n",
    "    <br>\n",
    "    \n",
    "    * however, 10 of them represent what almost 50 % of population uses\n",
    "        <br>\n",
    "        \n",
    "        * **English**\n",
    "        * **Mandarin**\n",
    "        * **Russian**\n",
    "        * **Spanish**\n",
    "        * **Hindi**\n",
    "        * **Arabic**\n",
    "        * **Portuguese**\n",
    "        * **Bengali**\n",
    "        * **Japanese**\n",
    "        * **Punjabi**"
   ]
  },
  {
   "cell_type": "markdown",
   "id": "3e277631",
   "metadata": {
    "slideshow": {
     "slide_type": "fragment"
    }
   },
   "source": [
    "**Two types of language models:**\n",
    "    <br>\n",
    "    \n",
    "   * **`Synchronic model`** - modeling a language as a hierarchical collection of language characteristics\n",
    "      <br>\n",
    "    \n",
    "   * **`Diachronic model`** - modern adaptable models"
   ]
  },
  {
   "cell_type": "markdown",
   "id": "d642dc31",
   "metadata": {
    "slideshow": {
     "slide_type": "fragment"
    }
   },
   "source": [
    "* we usually use synchronic models because diachronic models are often too complex to handle in code"
   ]
  },
  {
   "cell_type": "markdown",
   "id": "689e3fdd",
   "metadata": {
    "slideshow": {
     "slide_type": "slide"
    }
   },
   "source": [
    "# Language characteristics"
   ]
  },
  {
   "cell_type": "markdown",
   "id": "7b845eab",
   "metadata": {
    "slideshow": {
     "slide_type": "fragment"
    }
   },
   "source": [
    "* there are several ways to look at some text:\n",
    "    * you can just analyze the shape and structure of words alone (**morphological analysis**)\n",
    "    * you can break sentences into words (**lexical analysis**)\n",
    "    * you can analyze how words fit together in a sentence (**syntactical analysis**)\n",
    "    * etc."
   ]
  },
  {
   "cell_type": "markdown",
   "id": "d4f31dd3",
   "metadata": {
    "slideshow": {
     "slide_type": "slide"
    }
   },
   "source": [
    "* we tend to group these characteristics of a language into **categories**\n",
    "    * using these **categories** we can extract a set of representations useful for ML model training"
   ]
  },
  {
   "cell_type": "markdown",
   "id": "125fdad6",
   "metadata": {
    "slideshow": {
     "slide_type": "fragment"
    }
   },
   "source": [
    "**NOTE: extracting language representations is crucial for NLP. This is the equivalent of data cleaning, standardization, etc. steps that you might perform when training ML models.**"
   ]
  },
  {
   "cell_type": "markdown",
   "id": "414d3c3b",
   "metadata": {
    "slideshow": {
     "slide_type": "slide"
    }
   },
   "source": [
    "<img src=\"https://edlitera-images.s3.amazonaws.com/language_characteristics.png\" width=\"400\">"
   ]
  },
  {
   "cell_type": "markdown",
   "id": "8c6df64f",
   "metadata": {
    "slideshow": {
     "slide_type": "slide"
    }
   },
   "source": [
    "**Most important text characteristics are:**\n",
    "    <br>\n",
    "    \n",
    "    \n",
    "   * `syntactic characteristics`\n",
    "      <br>\n",
    "      \n",
    "   * `morphological characteristics`\n",
    "      <br>\n",
    "    \n",
    "   * `lexical characteristics`\n",
    "      <br>\n",
    "    \n",
    "   * `semantic characteristics`\n",
    "   <br>\n",
    "    \n",
    "   * `discourse characteristics`"
   ]
  },
  {
   "cell_type": "markdown",
   "id": "09afb74f",
   "metadata": {
    "slideshow": {
     "slide_type": "fragment"
    }
   },
   "source": [
    "In this course, we will go over **`syntactic characteristics`**, **`morphological characteristics`** and **`lexical characteristics`** one by one and learn how to use Python code to process human language according to these characteristics."
   ]
  },
  {
   "cell_type": "markdown",
   "id": "f1edf743",
   "metadata": {
    "slideshow": {
     "slide_type": "slide"
    }
   },
   "source": [
    "**A note about `semantic characteristics` and `discourse characteristics`**    \n",
    "\n",
    "* tasks that take advantage of semantic relationships between words are very specific\n",
    "    * usually involve very custom code\n",
    "\n",
    "\n",
    "* **`Deep Learning`** models have their own way of learning relationships between words\n",
    "    * we will talk about this later in the course "
   ]
  },
  {
   "cell_type": "markdown",
   "id": "3df9d54f",
   "metadata": {
    "slideshow": {
     "slide_type": "slide"
    }
   },
   "source": [
    "# `Introduction to NLP and NLTK Cheat Sheet`"
   ]
  },
  {
   "cell_type": "markdown",
   "id": "3cd798af",
   "metadata": {
    "slideshow": {
     "slide_type": "fragment"
    }
   },
   "source": [
    "* **`NLP`** - extracting information from human language (both written and spoken) using computational methods"
   ]
  },
  {
   "cell_type": "markdown",
   "id": "f974d612",
   "metadata": {
    "slideshow": {
     "slide_type": "fragment"
    }
   },
   "source": [
    "* human language is very complex and ambiguous\n",
    "\n",
    "\n",
    "* to model it we use **`synchronic models`** and **`diachronic models`**"
   ]
  },
  {
   "cell_type": "markdown",
   "id": "2bf5f800",
   "metadata": {
    "slideshow": {
     "slide_type": "slide"
    }
   },
   "source": [
    "**Most important text characteristics are:**\n",
    "    <br>\n",
    "    \n",
    "    \n",
    "   * `syntactic characteristics`\n",
    "      <br>\n",
    "      \n",
    "   * `morphological characteristics`\n",
    "      <br>\n",
    "    \n",
    "   * `lexical characteristics`\n",
    "      <br>\n",
    "    \n",
    "   * `semantic characteristics`\n",
    "   <br>\n",
    "    \n",
    "   * `discourse characteristics`"
   ]
  },
  {
   "cell_type": "markdown",
   "id": "a32b3f84",
   "metadata": {
    "slideshow": {
     "slide_type": "fragment"
    }
   },
   "source": [
    "* there are Python libraries that focus mostly on **`NLP`**, and those that focus on **`Machine Learning`** (but we can use them for the purposes of **`NLP`**)"
   ]
  },
  {
   "cell_type": "markdown",
   "id": "7d55c385",
   "metadata": {
    "slideshow": {
     "slide_type": "slide"
    }
   },
   "source": [
    "* popular **`NLP`** libraries:\n",
    "  <br>\n",
    "    \n",
    "    * **`NLTK`**\n",
    "      <br>\n",
    "    \n",
    "    * **`TextBlob`**\n",
    "      <br>  \n",
    "      \n",
    "    * **`Gensim`**  \n",
    "      <br>  \n",
    "      \n",
    "    * **`spaCy`**  \n",
    "      <br>  \n",
    "      \n",
    "* popular **`Machine Learning`** libraries:\n",
    "<br>\n",
    "    \n",
    "    *  **`Keras`** \n",
    "<br>\n",
    "    \n",
    "    * **`Tensorflow`** \n",
    "    <br>\n",
    "    \n",
    "    * **`Scikit-Learn`** "
   ]
  },
  {
   "cell_type": "markdown",
   "id": "4227140f",
   "metadata": {
    "slideshow": {
     "slide_type": "slide"
    }
   },
   "source": [
    "### `NLTK`"
   ]
  },
  {
   "cell_type": "markdown",
   "id": "fcb2dbb6",
   "metadata": {
    "slideshow": {
     "slide_type": "fragment"
    }
   },
   "source": [
    "* **documentation:** https://www.nltk.org/"
   ]
  },
  {
   "cell_type": "markdown",
   "id": "f8be0830",
   "metadata": {
    "slideshow": {
     "slide_type": "fragment"
    }
   },
   "source": [
    "* one of the leading platforms for building Python programs that analyze, process and work with data that represents human language"
   ]
  },
  {
   "cell_type": "markdown",
   "id": "693cfe6e",
   "metadata": {
    "slideshow": {
     "slide_type": "slide"
    }
   },
   "source": [
    "* we will focus on using **`NLTK`** for:\n",
    "    <br>\n",
    "    \n",
    "    * **stemming**\n",
    "    <br>\n",
    "    \n",
    "    * **lemmatization**\n",
    "    <br>\n",
    "    \n",
    "    * **POS tagging**\n",
    "    <br>\n",
    "    \n",
    "    * **tokenization**\n",
    "    <br>\n",
    "    \n",
    "    * **stopword removal**"
   ]
  },
  {
   "cell_type": "markdown",
   "id": "db7f057d",
   "metadata": {
    "slideshow": {
     "slide_type": "slide"
    }
   },
   "source": [
    " <div>\n",
    "<img src=\"https://edlitera-images.s3.amazonaws.com/new_edlitera_logo.png\" width=\"500\"/>\n",
    "</div>"
   ]
  }
 ],
 "metadata": {
  "celltoolbar": "Slideshow",
  "kernelspec": {
   "display_name": "Python 3 (ipykernel)",
   "language": "python",
   "name": "python3"
  },
  "language_info": {
   "codemirror_mode": {
    "name": "ipython",
    "version": 3
   },
   "file_extension": ".py",
   "mimetype": "text/x-python",
   "name": "python",
   "nbconvert_exporter": "python",
   "pygments_lexer": "ipython3",
   "version": "3.9.7"
  }
 },
 "nbformat": 4,
 "nbformat_minor": 5
}
