{
 "cells": [
  {
   "cell_type": "code",
   "execution_count": 1,
   "metadata": {},
   "outputs": [
    {
     "data": {
      "text/html": [
       "<style>.CodeMirror{min-height:100% !important;}</style>"
      ],
      "text/plain": [
       "<IPython.core.display.HTML object>"
      ]
     },
     "execution_count": 1,
     "metadata": {},
     "output_type": "execute_result"
    }
   ],
   "source": [
    "from IPython.core.display import display,HTML\n",
    "HTML('''<style>.CodeMirror{min-height:100% !important;}</style>''')"
   ]
  },
  {
   "cell_type": "markdown",
   "metadata": {},
   "source": [
    " <div>\n",
    "<img src=\"https://edlitera-images.s3.amazonaws.com/new_edlitera_logo.png\" width=\"500\"/>\n",
    "</div>"
   ]
  },
  {
   "cell_type": "markdown",
   "metadata": {
    "slideshow": {
     "slide_type": "slide"
    }
   },
   "source": [
    "# `Data Preprocessing - classic Machine Learning`"
   ]
  },
  {
   "cell_type": "markdown",
   "metadata": {
    "slideshow": {
     "slide_type": "fragment"
    }
   },
   "source": [
    "* already talked about it in the previous chapter\n",
    "\n"
   ]
  },
  {
   "cell_type": "markdown",
   "metadata": {
    "slideshow": {
     "slide_type": "fragment"
    }
   },
   "source": [
    "* let's refresh our memory while also preparing the data that we will be training our different `Machine Learning` models on"
   ]
  },
  {
   "cell_type": "markdown",
   "metadata": {
    "slideshow": {
     "slide_type": "fragment"
    }
   },
   "source": [
    "* preprocessing data for Deep Learning is a little bit different\n",
    "    * we only talked about **sparse representations (bag of words, TFIDF)** \n",
    "    * we will explain **dense representations** later"
   ]
  },
  {
   "cell_type": "markdown",
   "metadata": {
    "slideshow": {
     "slide_type": "slide"
    }
   },
   "source": [
    "## `NLP data preprocessing steps`\n",
    "\n"
   ]
  },
  {
   "cell_type": "markdown",
   "metadata": {
    "slideshow": {
     "slide_type": "slide"
    }
   },
   "source": [
    "**`Preliminary steps`**\n",
    "\n",
    "* **deal with missing data and duplicates** - when working on different tasks always make sure that you are not missing any data, and be careful when there are duplicates (sometimes you can remove them, sometimes you can't)\n",
    "    * the decision to remove duplicates or leave them in mostly depends on your data (if it is supposed to contain duplicates or not)\n",
    "\n",
    "\n",
    "* **check spelling** - doesn't apply always, some types of text data do not need to necessarily follow standard rules ( e.g. slang)\n",
    "\n",
    "\n",
    "* **remove contractions** - different `NLP` libraries that we use for preprocessing work much better when we don't have any contractions, which is why we prefer text that contains phrases such as \"do not\" instead of \"don't\"\n",
    "\n",
    "\n",
    "* **other steps (sometimes optional, sometimes necessary) -** one-hot encoding, dealing with data imbalance, etc."
   ]
  },
  {
   "cell_type": "markdown",
   "metadata": {
    "slideshow": {
     "slide_type": "slide"
    }
   },
   "source": [
    "**`Standard data preprocessing`**\n",
    "\n",
    "* **tokenization** - separating documents into sentences and sentences into words\n",
    "\n",
    "\n",
    "* **lowercase data and remove stopwords** - lowercase data to make sure that you will preprocess \"My\" and \"my\" the same (this is especially important for removing stopwords because stopwords corpora that we use to remove stopwords are in lowercase)\n",
    "\n",
    "\n",
    "* **stemming or lemmatization -** performing both is usually redundant, you can decide on one of them by first performing `stemming`, checking your results (e.g. F1 score) and then doing the same for `lemmatization` (take into account that performing `lemmatization` is more complex because you need to supply a `POS tag` for each word you want to preprocess)"
   ]
  },
  {
   "cell_type": "markdown",
   "metadata": {
    "slideshow": {
     "slide_type": "slide"
    }
   },
   "source": [
    "**`Sparse representations`**\n",
    "\n",
    "\n",
    "* create a **Document Term Matrix**\n",
    "* **pick between Bag-of-words and TFIDF -** we can pick any of these two representations\n",
    "    * however do keep in mind that in most cases `Machine Learning` models that use `TFIDF` will perform better than those that use `Bag-of-words`"
   ]
  },
  {
   "cell_type": "markdown",
   "metadata": {
    "slideshow": {
     "slide_type": "slide"
    }
   },
   "source": [
    "# `Data acquisition`"
   ]
  },
  {
   "cell_type": "markdown",
   "metadata": {
    "slideshow": {
     "slide_type": "fragment"
    }
   },
   "source": [
    "* nowadays there is plenty of data available for training models even taking into consideration that **`Machine Learning`** models require A LOT of data (**`Deep Learning`** models even more)"
   ]
  },
  {
   "cell_type": "markdown",
   "metadata": {
    "slideshow": {
     "slide_type": "fragment"
    }
   },
   "source": [
    "* one caveat - data must be of high quality\n",
    "     * models do not tolerate bad data, it is not only useless but counterproductive"
   ]
  },
  {
   "cell_type": "markdown",
   "metadata": {
    "slideshow": {
     "slide_type": "fragment"
    }
   },
   "source": [
    "* lack of data can be somewhat remedied using **`transfer learning`** (more on that in the **`Deep Learning`** chapter of this course)"
   ]
  },
  {
   "cell_type": "markdown",
   "metadata": {
    "slideshow": {
     "slide_type": "slide"
    }
   },
   "source": [
    "# `Preliminary steps`"
   ]
  },
  {
   "cell_type": "markdown",
   "metadata": {
    "slideshow": {
     "slide_type": "fragment"
    }
   },
   "source": [
    "* for the purposes of this example, we will use a modified version of the publicly available \"Wine Reviews\" dataset\n",
    "\n",
    "\n",
    "* original dataset: https://www.kaggle.com/zynicide/wine-reviews\n",
    "\n",
    "\n",
    "* we want to create an ML model that can classify a wine as either good or bad based on the text review of the wine"
   ]
  },
  {
   "cell_type": "code",
   "execution_count": 2,
   "metadata": {
    "slideshow": {
     "slide_type": "slide"
    }
   },
   "outputs": [],
   "source": [
    "# Let's first import the libraries we will use\n",
    "\n",
    "import pandas as pd"
   ]
  },
  {
   "cell_type": "code",
   "execution_count": 3,
   "metadata": {
    "slideshow": {
     "slide_type": "fragment"
    }
   },
   "outputs": [],
   "source": [
    "# Create a DataFrame\n",
    "\n",
    "df = pd.read_csv(\"https://edlitera-datasets.s3.amazonaws.com/wine_data_classification.csv\")"
   ]
  },
  {
   "cell_type": "code",
   "execution_count": 4,
   "metadata": {
    "slideshow": {
     "slide_type": "fragment"
    }
   },
   "outputs": [
    {
     "data": {
      "text/html": [
       "<div>\n",
       "<style scoped>\n",
       "    .dataframe tbody tr th:only-of-type {\n",
       "        vertical-align: middle;\n",
       "    }\n",
       "\n",
       "    .dataframe tbody tr th {\n",
       "        vertical-align: top;\n",
       "    }\n",
       "\n",
       "    .dataframe thead th {\n",
       "        text-align: right;\n",
       "    }\n",
       "</style>\n",
       "<table border=\"1\" class=\"dataframe\">\n",
       "  <thead>\n",
       "    <tr style=\"text-align: right;\">\n",
       "      <th></th>\n",
       "      <th>description</th>\n",
       "      <th>wine_type</th>\n",
       "    </tr>\n",
       "  </thead>\n",
       "  <tbody>\n",
       "    <tr>\n",
       "      <th>0</th>\n",
       "      <td>Aromas include tropical fruit, broom, brimston...</td>\n",
       "      <td>great_wine</td>\n",
       "    </tr>\n",
       "    <tr>\n",
       "      <th>1</th>\n",
       "      <td>This is ripe and fruity, a wine that is smooth...</td>\n",
       "      <td>great_wine</td>\n",
       "    </tr>\n",
       "    <tr>\n",
       "      <th>2</th>\n",
       "      <td>Tart and snappy, the flavors of lime flesh and...</td>\n",
       "      <td>great_wine</td>\n",
       "    </tr>\n",
       "    <tr>\n",
       "      <th>3</th>\n",
       "      <td>Pineapple rind, lemon pith and orange blossom ...</td>\n",
       "      <td>great_wine</td>\n",
       "    </tr>\n",
       "    <tr>\n",
       "      <th>4</th>\n",
       "      <td>Much like the regular bottling from 2012, this...</td>\n",
       "      <td>great_wine</td>\n",
       "    </tr>\n",
       "  </tbody>\n",
       "</table>\n",
       "</div>"
      ],
      "text/plain": [
       "                                         description   wine_type\n",
       "0  Aromas include tropical fruit, broom, brimston...  great_wine\n",
       "1  This is ripe and fruity, a wine that is smooth...  great_wine\n",
       "2  Tart and snappy, the flavors of lime flesh and...  great_wine\n",
       "3  Pineapple rind, lemon pith and orange blossom ...  great_wine\n",
       "4  Much like the regular bottling from 2012, this...  great_wine"
      ]
     },
     "execution_count": 4,
     "metadata": {},
     "output_type": "execute_result"
    }
   ],
   "source": [
    "# Take a look at the first five rows of our dataframe\n",
    "\n",
    "df.head()"
   ]
  },
  {
   "cell_type": "markdown",
   "metadata": {
    "slideshow": {
     "slide_type": "slide"
    }
   },
   "source": [
    "* we will for now ignore **\"wine_type\"** which is our label, and focus on our actual data which is inside the **\"description\"** column"
   ]
  },
  {
   "cell_type": "markdown",
   "metadata": {
    "slideshow": {
     "slide_type": "fragment"
    }
   },
   "source": [
    "* first we will check for missing data"
   ]
  },
  {
   "cell_type": "code",
   "execution_count": 5,
   "metadata": {
    "slideshow": {
     "slide_type": "slide"
    }
   },
   "outputs": [
    {
     "name": "stdout",
     "output_type": "stream",
     "text": [
      "<class 'pandas.core.frame.DataFrame'>\n",
      "RangeIndex: 129971 entries, 0 to 129970\n",
      "Data columns (total 2 columns):\n",
      " #   Column       Non-Null Count   Dtype \n",
      "---  ------       --------------   ----- \n",
      " 0   description  129971 non-null  object\n",
      " 1   wine_type    129971 non-null  object\n",
      "dtypes: object(2)\n",
      "memory usage: 2.0+ MB\n"
     ]
    }
   ],
   "source": [
    "df.info()"
   ]
  },
  {
   "cell_type": "markdown",
   "metadata": {
    "slideshow": {
     "slide_type": "fragment"
    }
   },
   "source": [
    "* it seems that our dataset isn't missing any data"
   ]
  },
  {
   "cell_type": "markdown",
   "metadata": {
    "slideshow": {
     "slide_type": "slide"
    }
   },
   "source": [
    "* in this case, having duplicates is not good\n",
    "    * there shouldn't be any two descriptions that are completely the same\n",
    "\n",
    "\n",
    "* let's check for duplicates"
   ]
  },
  {
   "cell_type": "code",
   "execution_count": 6,
   "metadata": {
    "slideshow": {
     "slide_type": "fragment"
    }
   },
   "outputs": [
    {
     "data": {
      "text/plain": [
       "True"
      ]
     },
     "execution_count": 6,
     "metadata": {},
     "output_type": "execute_result"
    }
   ],
   "source": [
    "# Check for duplicates\n",
    "\n",
    "df.duplicated(subset=[\"description\"]).any()"
   ]
  },
  {
   "cell_type": "markdown",
   "metadata": {
    "slideshow": {
     "slide_type": "slide"
    }
   },
   "source": [
    "* there seem to be some duplicates - let's get rid of them"
   ]
  },
  {
   "cell_type": "code",
   "execution_count": 7,
   "metadata": {
    "slideshow": {
     "slide_type": "fragment"
    }
   },
   "outputs": [
    {
     "data": {
      "text/plain": [
       "False"
      ]
     },
     "execution_count": 7,
     "metadata": {},
     "output_type": "execute_result"
    }
   ],
   "source": [
    "# Get rid of duplicates\n",
    "\n",
    "df.drop_duplicates(subset=[\"description\"], inplace=True)\n",
    "\n",
    "# Check if you successfully removed the duplicates\n",
    "\n",
    "df.duplicated(subset=[\"description\"]).any()"
   ]
  },
  {
   "cell_type": "code",
   "execution_count": 8,
   "metadata": {
    "slideshow": {
     "slide_type": "slide"
    }
   },
   "outputs": [
    {
     "data": {
      "text/html": [
       "<div>\n",
       "<style scoped>\n",
       "    .dataframe tbody tr th:only-of-type {\n",
       "        vertical-align: middle;\n",
       "    }\n",
       "\n",
       "    .dataframe tbody tr th {\n",
       "        vertical-align: top;\n",
       "    }\n",
       "\n",
       "    .dataframe thead th {\n",
       "        text-align: right;\n",
       "    }\n",
       "</style>\n",
       "<table border=\"1\" class=\"dataframe\">\n",
       "  <thead>\n",
       "    <tr style=\"text-align: right;\">\n",
       "      <th></th>\n",
       "      <th>description</th>\n",
       "      <th>wine_type</th>\n",
       "    </tr>\n",
       "  </thead>\n",
       "  <tbody>\n",
       "    <tr>\n",
       "      <th>129966</th>\n",
       "      <td>Notes of honeysuckle and cantaloupe sweeten th...</td>\n",
       "      <td>great_wine</td>\n",
       "    </tr>\n",
       "    <tr>\n",
       "      <th>129967</th>\n",
       "      <td>Citation is given as much as a decade of bottl...</td>\n",
       "      <td>great_wine</td>\n",
       "    </tr>\n",
       "    <tr>\n",
       "      <th>129968</th>\n",
       "      <td>Well-drained gravel soil gives this wine its c...</td>\n",
       "      <td>great_wine</td>\n",
       "    </tr>\n",
       "    <tr>\n",
       "      <th>129969</th>\n",
       "      <td>A dry style of Pinot Gris, this is crisp with ...</td>\n",
       "      <td>great_wine</td>\n",
       "    </tr>\n",
       "    <tr>\n",
       "      <th>129970</th>\n",
       "      <td>Big, rich and off-dry, this is powered by inte...</td>\n",
       "      <td>great_wine</td>\n",
       "    </tr>\n",
       "  </tbody>\n",
       "</table>\n",
       "</div>"
      ],
      "text/plain": [
       "                                              description   wine_type\n",
       "129966  Notes of honeysuckle and cantaloupe sweeten th...  great_wine\n",
       "129967  Citation is given as much as a decade of bottl...  great_wine\n",
       "129968  Well-drained gravel soil gives this wine its c...  great_wine\n",
       "129969  A dry style of Pinot Gris, this is crisp with ...  great_wine\n",
       "129970  Big, rich and off-dry, this is powered by inte...  great_wine"
      ]
     },
     "execution_count": 8,
     "metadata": {},
     "output_type": "execute_result"
    }
   ],
   "source": [
    "# Take a look at the last five rows of our dataframe\n",
    "\n",
    "df.tail()"
   ]
  },
  {
   "cell_type": "markdown",
   "metadata": {
    "slideshow": {
     "slide_type": "fragment"
    }
   },
   "source": [
    "* we could check if the words are spelled correctly right now, but we'll skip this for now"
   ]
  },
  {
   "cell_type": "markdown",
   "metadata": {
    "slideshow": {
     "slide_type": "slide"
    }
   },
   "source": [
    "* let's see if we can remove the contractions present in the text"
   ]
  },
  {
   "cell_type": "code",
   "execution_count": 9,
   "metadata": {
    "slideshow": {
     "slide_type": "fragment"
    }
   },
   "outputs": [],
   "source": [
    "# Import RegEx\n",
    "\n",
    "import re\n",
    "\n",
    "# Create a function that deals with contractions\n",
    "# Very useful snippet of code\n",
    "\n",
    "def decontracted(phrase):\n",
    "    phrase = re.sub(r\"won\\'t\", \"will not\", phrase)\n",
    "    phrase = re.sub(r\"can\\'t\", \"can not\", phrase)\n",
    "    phrase = re.sub(r\"n\\'t\", \" not\", phrase)\n",
    "    phrase = re.sub(r\"\\'re\", \" are\", phrase)\n",
    "    phrase = re.sub(r\"\\'s\", \" is\", phrase)\n",
    "    phrase = re.sub(r\"\\'d\", \" would\", phrase)\n",
    "    phrase = re.sub(r\"\\'ll\", \" will\", phrase)\n",
    "    phrase = re.sub(r\"\\'t\", \" not\", phrase)\n",
    "    phrase = re.sub(r\"\\'ve\", \" have\", phrase)\n",
    "    phrase = re.sub(r\"\\'m\", \" am\", phrase)\n",
    "    return phrase"
   ]
  },
  {
   "cell_type": "code",
   "execution_count": 10,
   "metadata": {
    "slideshow": {
     "slide_type": "fragment"
    }
   },
   "outputs": [],
   "source": [
    "# Deal with contractions\n",
    "\n",
    "df[\"description_simple_contraction_removal\"] = df[\"description\"].apply(decontracted)"
   ]
  },
  {
   "cell_type": "code",
   "execution_count": 11,
   "metadata": {
    "slideshow": {
     "slide_type": "slide"
    }
   },
   "outputs": [
    {
     "data": {
      "text/html": [
       "<div>\n",
       "<style scoped>\n",
       "    .dataframe tbody tr th:only-of-type {\n",
       "        vertical-align: middle;\n",
       "    }\n",
       "\n",
       "    .dataframe tbody tr th {\n",
       "        vertical-align: top;\n",
       "    }\n",
       "\n",
       "    .dataframe thead th {\n",
       "        text-align: right;\n",
       "    }\n",
       "</style>\n",
       "<table border=\"1\" class=\"dataframe\">\n",
       "  <thead>\n",
       "    <tr style=\"text-align: right;\">\n",
       "      <th></th>\n",
       "      <th>description</th>\n",
       "      <th>wine_type</th>\n",
       "      <th>description_simple_contraction_removal</th>\n",
       "    </tr>\n",
       "  </thead>\n",
       "  <tbody>\n",
       "    <tr>\n",
       "      <th>0</th>\n",
       "      <td>Aromas include tropical fruit, broom, brimston...</td>\n",
       "      <td>great_wine</td>\n",
       "      <td>Aromas include tropical fruit, broom, brimston...</td>\n",
       "    </tr>\n",
       "    <tr>\n",
       "      <th>1</th>\n",
       "      <td>This is ripe and fruity, a wine that is smooth...</td>\n",
       "      <td>great_wine</td>\n",
       "      <td>This is ripe and fruity, a wine that is smooth...</td>\n",
       "    </tr>\n",
       "    <tr>\n",
       "      <th>2</th>\n",
       "      <td>Tart and snappy, the flavors of lime flesh and...</td>\n",
       "      <td>great_wine</td>\n",
       "      <td>Tart and snappy, the flavors of lime flesh and...</td>\n",
       "    </tr>\n",
       "    <tr>\n",
       "      <th>3</th>\n",
       "      <td>Pineapple rind, lemon pith and orange blossom ...</td>\n",
       "      <td>great_wine</td>\n",
       "      <td>Pineapple rind, lemon pith and orange blossom ...</td>\n",
       "    </tr>\n",
       "    <tr>\n",
       "      <th>4</th>\n",
       "      <td>Much like the regular bottling from 2012, this...</td>\n",
       "      <td>great_wine</td>\n",
       "      <td>Much like the regular bottling from 2012, this...</td>\n",
       "    </tr>\n",
       "    <tr>\n",
       "      <th>...</th>\n",
       "      <td>...</td>\n",
       "      <td>...</td>\n",
       "      <td>...</td>\n",
       "    </tr>\n",
       "    <tr>\n",
       "      <th>129966</th>\n",
       "      <td>Notes of honeysuckle and cantaloupe sweeten th...</td>\n",
       "      <td>great_wine</td>\n",
       "      <td>Notes of honeysuckle and cantaloupe sweeten th...</td>\n",
       "    </tr>\n",
       "    <tr>\n",
       "      <th>129967</th>\n",
       "      <td>Citation is given as much as a decade of bottl...</td>\n",
       "      <td>great_wine</td>\n",
       "      <td>Citation is given as much as a decade of bottl...</td>\n",
       "    </tr>\n",
       "    <tr>\n",
       "      <th>129968</th>\n",
       "      <td>Well-drained gravel soil gives this wine its c...</td>\n",
       "      <td>great_wine</td>\n",
       "      <td>Well-drained gravel soil gives this wine its c...</td>\n",
       "    </tr>\n",
       "    <tr>\n",
       "      <th>129969</th>\n",
       "      <td>A dry style of Pinot Gris, this is crisp with ...</td>\n",
       "      <td>great_wine</td>\n",
       "      <td>A dry style of Pinot Gris, this is crisp with ...</td>\n",
       "    </tr>\n",
       "    <tr>\n",
       "      <th>129970</th>\n",
       "      <td>Big, rich and off-dry, this is powered by inte...</td>\n",
       "      <td>great_wine</td>\n",
       "      <td>Big, rich and off-dry, this is powered by inte...</td>\n",
       "    </tr>\n",
       "  </tbody>\n",
       "</table>\n",
       "<p>119955 rows × 3 columns</p>\n",
       "</div>"
      ],
      "text/plain": [
       "                                              description   wine_type  \\\n",
       "0       Aromas include tropical fruit, broom, brimston...  great_wine   \n",
       "1       This is ripe and fruity, a wine that is smooth...  great_wine   \n",
       "2       Tart and snappy, the flavors of lime flesh and...  great_wine   \n",
       "3       Pineapple rind, lemon pith and orange blossom ...  great_wine   \n",
       "4       Much like the regular bottling from 2012, this...  great_wine   \n",
       "...                                                   ...         ...   \n",
       "129966  Notes of honeysuckle and cantaloupe sweeten th...  great_wine   \n",
       "129967  Citation is given as much as a decade of bottl...  great_wine   \n",
       "129968  Well-drained gravel soil gives this wine its c...  great_wine   \n",
       "129969  A dry style of Pinot Gris, this is crisp with ...  great_wine   \n",
       "129970  Big, rich and off-dry, this is powered by inte...  great_wine   \n",
       "\n",
       "                   description_simple_contraction_removal  \n",
       "0       Aromas include tropical fruit, broom, brimston...  \n",
       "1       This is ripe and fruity, a wine that is smooth...  \n",
       "2       Tart and snappy, the flavors of lime flesh and...  \n",
       "3       Pineapple rind, lemon pith and orange blossom ...  \n",
       "4       Much like the regular bottling from 2012, this...  \n",
       "...                                                   ...  \n",
       "129966  Notes of honeysuckle and cantaloupe sweeten th...  \n",
       "129967  Citation is given as much as a decade of bottl...  \n",
       "129968  Well-drained gravel soil gives this wine its c...  \n",
       "129969  A dry style of Pinot Gris, this is crisp with ...  \n",
       "129970  Big, rich and off-dry, this is powered by inte...  \n",
       "\n",
       "[119955 rows x 3 columns]"
      ]
     },
     "execution_count": 11,
     "metadata": {},
     "output_type": "execute_result"
    }
   ],
   "source": [
    "# Take a look at the dataframe\n",
    "\n",
    "df"
   ]
  },
  {
   "cell_type": "markdown",
   "metadata": {
    "slideshow": {
     "slide_type": "slide"
    }
   },
   "source": [
    "## Alternative approach: using a dictionary to map contractions\n",
    "\n"
   ]
  },
  {
   "cell_type": "markdown",
   "metadata": {
    "slideshow": {
     "slide_type": "fragment"
    }
   },
   "source": [
    "* if we want to make sure that we take into account all possible contraction, the procedure of replacing them becomes much more complex (but also more precise)"
   ]
  },
  {
   "cell_type": "code",
   "execution_count": 12,
   "metadata": {
    "slideshow": {
     "slide_type": "slide"
    }
   },
   "outputs": [],
   "source": [
    "contractions = { \n",
    "        \"ain't\": \"are not\",\"'s\":\" is\",\"aren't\": \"are not\",\"can't\": \"cannot\",\"can't've\": \"cannot have\",\n",
    "        \"'cause\": \"because\",\"could've\": \"could have\",\"couldn't\": \"could not\",\"couldn't've\": \"could not have\", \n",
    "        \"didn't\": \"did not\",\"doesn't\": \"does not\",\n",
    "        \"don't\": \"do not\",\"hadn't\": \"had not\",\"hadn't've\": \"had not have\",\n",
    "        \"hasn't\": \"has not\",\"haven't\": \"have not\",\"he'd\": \"he would\",\n",
    "        \"he'd've\": \"he would have\",\"he'll\": \"he will\", \"he'll've\": \"he will have\",\n",
    "        \"how'd\": \"how did\",\"how'd'y\": \"how do you\",\"how'll\": \"how will\",\n",
    "        \"I'd\": \"I would\", \"I'd've\": \"I would have\",\"I'll\": \"I will\",\n",
    "        \"I'll've\": \"I will have\",\"I'm\": \"I am\",\"I've\": \"I have\", \"isn't\": \"is not\",\n",
    "        \"it'd\": \"it would\",\"it'd've\": \"it would have\",\"it'll\": \"it will\",\n",
    "        \"it'll've\": \"it will have\", \"let's\": \"let us\",\"ma'am\": \"madam\",\n",
    "        \"mayn't\": \"may not\",\"might've\": \"might have\",\"mightn't\": \"might not\", \n",
    "        \"mightn't've\": \"might not have\",\"must've\": \"must have\",\"mustn't\": \"must not\",\n",
    "        \"mustn't've\": \"must not have\", \"needn't\": \"need not\",\n",
    "        \"needn't've\": \"need not have\",\"o'clock\": \"of the clock\",\"oughtn't\": \"ought not\",\n",
    "        \"oughtn't've\": \"ought not have\",\"shan't\": \"shall not\",\"sha'n't\": \"shall not\",\n",
    "        \"shan't've\": \"shall not have\",\"she'd\": \"she would\",\"she'd've\": \"she would have\",\n",
    "        \"she'll\": \"she will\", \"she'll've\": \"she will have\",\"should've\": \"should have\",\n",
    "        \"shouldn't\": \"should not\", \"shouldn't've\": \"should not have\",\"so've\": \"so have\",\n",
    "        \"that'd\": \"that would\",\"that'd've\": \"that would have\", \"there'd\": \"there would\",\n",
    "        \"there'd've\": \"there would have\", \"they'd\": \"they would\",\n",
    "        \"they'd've\": \"they would have\",\"they'll\": \"they will\",\n",
    "        \"they'll've\": \"they will have\", \"they're\": \"they are\",\"they've\": \"they have\",\n",
    "        \"to've\": \"to have\",\"wasn't\": \"was not\",\"we'd\": \"we would\",\n",
    "        \"we'd've\": \"we would have\",\"we'll\": \"we will\",\"we'll've\": \"we will have\",\n",
    "        \"we're\": \"we are\",\"we've\": \"we have\", \"weren't\": \"were not\",\"what'll\": \"what will\",\n",
    "        \"what'll've\": \"what will have\",\"what're\": \"what are\", \"what've\": \"what have\",\n",
    "        \"when've\": \"when have\",\"where'd\": \"where did\", \"where've\": \"where have\",\n",
    "        \"who'll\": \"who will\",\"who'll've\": \"who will have\",\"who've\": \"who have\",\n",
    "        \"why've\": \"why have\",\"will've\": \"will have\",\"won't\": \"will not\",\n",
    "        \"won't've\": \"will not have\", \"would've\": \"would have\",\"wouldn't\": \"would not\",\n",
    "        \"wouldn't've\": \"would not have\",\"y'all\": \"you all\", \"y'all'd\": \"you all would\",\n",
    "        \"y'all'd've\": \"you all would have\",\"y'all're\": \"you all are\",\n",
    "        \"y'all've\": \"you all have\", \"you'd\": \"you would\",\"you'd've\": \"you would have\",\n",
    "        \"you'll\": \"you will\",\"you'll've\": \"you will have\", \"you're\": \"you are\",\n",
    "        \"you've\": \"you have\"}"
   ]
  },
  {
   "cell_type": "code",
   "execution_count": 13,
   "metadata": {
    "slideshow": {
     "slide_type": "slide"
    }
   },
   "outputs": [],
   "source": [
    "# Find contractions\n",
    "\n",
    "contractions_find = re.compile(\"(%s)\" % \"|\".join(contractions.keys()))\n"
   ]
  },
  {
   "cell_type": "code",
   "execution_count": 14,
   "metadata": {
    "slideshow": {
     "slide_type": "fragment"
    }
   },
   "outputs": [],
   "source": [
    "# Create function for replacing contractions\n",
    "\n",
    "def replace_contraction(text, contractions_dictionary=contractions):\n",
    "    def expand(matched):\n",
    "        return contractions_dictionary[matched.group(0)]\n",
    "    return contractions_find.sub(expand, text)"
   ]
  },
  {
   "cell_type": "code",
   "execution_count": 15,
   "metadata": {
    "slideshow": {
     "slide_type": "fragment"
    }
   },
   "outputs": [],
   "source": [
    "# Replace contractions\n",
    "\n",
    "df[\"description\"] = df[\"description\"].apply(lambda text: replace_contraction(text))"
   ]
  },
  {
   "cell_type": "markdown",
   "metadata": {
    "slideshow": {
     "slide_type": "slide"
    }
   },
   "source": [
    "## One-hot encoding"
   ]
  },
  {
   "cell_type": "markdown",
   "metadata": {
    "slideshow": {
     "slide_type": "fragment"
    }
   },
   "source": [
    "* we want our label column to be numerical, so let's one-hot encode it\n",
    "    <br>\n",
    "    \n",
    "    * we will encode \"great wine\" to 0, and \"superior wine\" to 1"
   ]
  },
  {
   "cell_type": "code",
   "execution_count": 16,
   "metadata": {
    "slideshow": {
     "slide_type": "slide"
    }
   },
   "outputs": [],
   "source": [
    "# One-hot encode data\n",
    "\n",
    "df[\"wine_type\"] = df[\"wine_type\"].map({\"great_wine\":0, \"superior_wine\":1})"
   ]
  },
  {
   "cell_type": "markdown",
   "metadata": {},
   "source": [
    "## Dealing with data imbalance"
   ]
  },
  {
   "cell_type": "code",
   "execution_count": 17,
   "metadata": {},
   "outputs": [],
   "source": [
    " # Select the class you need to undersample\n",
    "sorted_counts = (\n",
    "    df[\"wine_type\"]\n",
    "    .value_counts()\n",
    "    .sort_values(ascending=False)\n",
    "    )"
   ]
  },
  {
   "cell_type": "code",
   "execution_count": 18,
   "metadata": {},
   "outputs": [],
   "source": [
    "# Filter data\n",
    "\n",
    "majority_class = df[df[\"wine_type\"] == sorted_counts.index[0]]\n",
    "minority_class = df[df[\"wine_type\"] == sorted_counts.index[1]]\n"
   ]
  },
  {
   "cell_type": "code",
   "execution_count": 19,
   "metadata": {},
   "outputs": [],
   "source": [
    "# Undersample the majority class\n",
    "\n",
    "majority_class_undersampled = majority_class.sample(sorted_counts[1])"
   ]
  },
  {
   "cell_type": "code",
   "execution_count": 20,
   "metadata": {},
   "outputs": [],
   "source": [
    "# Create modified DataFrame\n",
    "df = pd.concat(\n",
    "    [majority_class_undersampled, minority_class],\n",
    "    axis=0\n",
    "    )"
   ]
  },
  {
   "cell_type": "markdown",
   "metadata": {
    "slideshow": {
     "slide_type": "slide"
    }
   },
   "source": [
    "# `Standard data preprocessing`"
   ]
  },
  {
   "cell_type": "markdown",
   "metadata": {
    "slideshow": {
     "slide_type": "fragment"
    }
   },
   "source": [
    "* **tokenization** - separating documents into sentences and sentences into words\n",
    "\n",
    "\n",
    "* **lowercase data and remove stopwords** - lowercase data to make sure that you will preprocess \"My\" and \"my\" the same (this is especially important for removing stopwords because stopwords corpora that we use to remove stopwords are in lowercase)\n",
    "\n",
    "\n",
    "* **stemming or lemmatization -** performing both is usually redundant, you can decide on one of them by first performing `stemming`, checking your results (e.g. F1 score) and then doing the same for `lemmatization` (take into account that performing `lemmatization` is more complex because you need to supply a `POS tag` for each word you want to preprocess)"
   ]
  },
  {
   "cell_type": "markdown",
   "metadata": {
    "slideshow": {
     "slide_type": "slide"
    }
   },
   "source": [
    "### `Tokenization`"
   ]
  },
  {
   "cell_type": "markdown",
   "metadata": {
    "slideshow": {
     "slide_type": "fragment"
    }
   },
   "source": [
    "* we first need to tokenize our data\n",
    "    * let's also lowercase it since we will need to do that sooner or later anyway"
   ]
  },
  {
   "cell_type": "code",
   "execution_count": 21,
   "metadata": {
    "slideshow": {
     "slide_type": "slide"
    }
   },
   "outputs": [],
   "source": [
    "# Import the necessary libraries\n",
    "\n",
    "import nltk\n",
    "from nltk.corpus import stopwords\n",
    "from nltk.tokenize import RegexpTokenizer"
   ]
  },
  {
   "cell_type": "code",
   "execution_count": 22,
   "metadata": {
    "slideshow": {
     "slide_type": "fragment"
    }
   },
   "outputs": [],
   "source": [
    "df[\"description\"]= df[\"description\"].str.lower()"
   ]
  },
  {
   "cell_type": "code",
   "execution_count": 23,
   "metadata": {
    "slideshow": {
     "slide_type": "fragment"
    }
   },
   "outputs": [],
   "source": [
    "tokenizer = RegexpTokenizer(r\"\\w+\")\n",
    "\n",
    "words = df[\"description\"].apply(tokenizer.tokenize)"
   ]
  },
  {
   "cell_type": "code",
   "execution_count": 24,
   "metadata": {
    "slideshow": {
     "slide_type": "fragment"
    }
   },
   "outputs": [
    {
     "data": {
      "text/plain": [
       "85193    [a, bright, fruity, nose, of, tart, cherry, an...\n",
       "86993    [this, is, a, rich, wine, a, reminder, of, the...\n",
       "68458    [with, a, nose, of, cherry, and, smoked, meats...\n",
       "55022    [a, blend, of, 60, shiraz, and, 40, cinsault, ...\n",
       "4269     [with, 20, merlot, and, 5, cabernet, franc, th...\n",
       "Name: description, dtype: object"
      ]
     },
     "execution_count": 24,
     "metadata": {},
     "output_type": "execute_result"
    }
   ],
   "source": [
    "words.head()"
   ]
  },
  {
   "cell_type": "markdown",
   "metadata": {
    "slideshow": {
     "slide_type": "slide"
    }
   },
   "source": [
    "### `Stopwords removal`"
   ]
  },
  {
   "cell_type": "markdown",
   "metadata": {
    "slideshow": {
     "slide_type": "fragment"
    }
   },
   "source": [
    "* now we can remove stopwords\n",
    "\n",
    "\n",
    "* always remove stopwords to avoid unnecessarily spending resources on stemming or lemmatizing them"
   ]
  },
  {
   "cell_type": "code",
   "execution_count": 25,
   "metadata": {
    "slideshow": {
     "slide_type": "slide"
    }
   },
   "outputs": [],
   "source": [
    "# Define a list of stopwords\n",
    "\n",
    "stopword_list = stopwords.words(\"english\")\n",
    "\n",
    "# Remove stopwords\n",
    "\n",
    "words_without_stopwords = words.apply(lambda i: [word for word in i if not word in stopword_list])"
   ]
  },
  {
   "cell_type": "code",
   "execution_count": 26,
   "metadata": {
    "slideshow": {
     "slide_type": "fragment"
    }
   },
   "outputs": [
    {
     "data": {
      "text/plain": [
       "85193    [a, bright, fruity, nose, of, tart, cherry, an...\n",
       "86993    [this, is, a, rich, wine, a, reminder, of, the...\n",
       "68458    [with, a, nose, of, cherry, and, smoked, meats...\n",
       "55022    [a, blend, of, 60, shiraz, and, 40, cinsault, ...\n",
       "4269     [with, 20, merlot, and, 5, cabernet, franc, th...\n",
       "Name: description, dtype: object"
      ]
     },
     "execution_count": 26,
     "metadata": {},
     "output_type": "execute_result"
    }
   ],
   "source": [
    "# Take a look at the old version of words Series\n",
    "\n",
    "words.head()"
   ]
  },
  {
   "cell_type": "code",
   "execution_count": 27,
   "metadata": {
    "slideshow": {
     "slide_type": "fragment"
    }
   },
   "outputs": [
    {
     "data": {
      "text/plain": [
       "85193    [bright, fruity, nose, tart, cherry, cranberry...\n",
       "86993    [rich, wine, reminder, warmth, alentejo, reinf...\n",
       "68458    [nose, cherry, smoked, meats, wine, offers, fl...\n",
       "55022    [blend, 60, shiraz, 40, cinsault, well, balanc...\n",
       "4269     [20, merlot, 5, cabernet, franc, wine, muted, ...\n",
       "Name: description, dtype: object"
      ]
     },
     "execution_count": 27,
     "metadata": {},
     "output_type": "execute_result"
    }
   ],
   "source": [
    "# Take a look at the new version of words Series\n",
    "\n",
    "words_without_stopwords.head()"
   ]
  },
  {
   "cell_type": "markdown",
   "metadata": {
    "slideshow": {
     "slide_type": "slide"
    }
   },
   "source": [
    "### `Stemming`"
   ]
  },
  {
   "cell_type": "markdown",
   "metadata": {
    "slideshow": {
     "slide_type": "fragment"
    }
   },
   "source": [
    "* we could perform stemming or lemmatization"
   ]
  },
  {
   "cell_type": "markdown",
   "metadata": {
    "slideshow": {
     "slide_type": "fragment"
    }
   },
   "source": [
    "* since lemmatization doesn't really perform satisfactory without POS tags, we will choose to perform stemming (to keep things simple)"
   ]
  },
  {
   "cell_type": "markdown",
   "metadata": {
    "slideshow": {
     "slide_type": "fragment"
    }
   },
   "source": [
    "* we will use the Snowball stemmer from NLTK"
   ]
  },
  {
   "cell_type": "code",
   "execution_count": 28,
   "metadata": {
    "slideshow": {
     "slide_type": "slide"
    }
   },
   "outputs": [],
   "source": [
    "# Import the necessary library\n",
    "\n",
    "from nltk.stem.snowball import SnowballStemmer"
   ]
  },
  {
   "cell_type": "code",
   "execution_count": 29,
   "metadata": {
    "slideshow": {
     "slide_type": "fragment"
    }
   },
   "outputs": [],
   "source": [
    "# Define the stemmer we will use\n",
    "\n",
    "snowball_stemmer = SnowballStemmer(language='english') # for Snowball Stemmer you need to define the language parameter"
   ]
  },
  {
   "cell_type": "code",
   "execution_count": 30,
   "metadata": {
    "slideshow": {
     "slide_type": "fragment"
    }
   },
   "outputs": [],
   "source": [
    "# Perform stemming\n",
    "\n",
    "words_stemmed = words_without_stopwords.apply(lambda i: [snowball_stemmer.stem(word) for word in i])"
   ]
  },
  {
   "cell_type": "code",
   "execution_count": 31,
   "metadata": {
    "slideshow": {
     "slide_type": "fragment"
    }
   },
   "outputs": [
    {
     "data": {
      "text/plain": [
       "85193     [bright, fruiti, nose, tart, cherri, cranberri...\n",
       "86993     [rich, wine, remind, warmth, alentejo, reinfor...\n",
       "68458     [nose, cherri, smoke, meat, wine, offer, flavo...\n",
       "55022     [blend, 60, shiraz, 40, cinsault, well, balanc...\n",
       "4269      [20, merlot, 5, cabernet, franc, wine, mute, y...\n",
       "                                ...                        \n",
       "129936    [blend, sever, premier, cru, vineyard, pommard...\n",
       "129937    [smooth, creami, aroma, follow, rich, concentr...\n",
       "129938    [compar, regular, 2006, malbec, chakana, wine,...\n",
       "129939    [true, tba, rich, toffe, flavor, intens, sweet...\n",
       "129940    [wineri, bell, whistl, chardonnay, grown, inla...\n",
       "Name: description, Length: 63386, dtype: object"
      ]
     },
     "execution_count": 31,
     "metadata": {},
     "output_type": "execute_result"
    }
   ],
   "source": [
    "# Take a look at the resulting Series\n",
    "\n",
    "words_stemmed"
   ]
  },
  {
   "cell_type": "markdown",
   "metadata": {
    "slideshow": {
     "slide_type": "slide"
    }
   },
   "source": [
    "# `Document Term Matrix`"
   ]
  },
  {
   "cell_type": "markdown",
   "metadata": {
    "slideshow": {
     "slide_type": "fragment"
    }
   },
   "source": [
    "* before we create the **`Document Term Matrix`** we usually take a look at how many words we have in our data, and how big is our vocabulary (the number of unique words)"
   ]
  },
  {
   "cell_type": "code",
   "execution_count": 32,
   "metadata": {
    "slideshow": {
     "slide_type": "fragment"
    }
   },
   "outputs": [],
   "source": [
    "# Create a list of all stemmed words\n",
    "\n",
    "all_words_stemmed = []\n",
    "for tokens in words_stemmed:\n",
    "    for word in tokens:\n",
    "        all_words_stemmed.append(word)\n",
    "\n",
    "# Create a vocabulary of unique words\n",
    "\n",
    "vocabulary = sorted(list(set(all_words_stemmed)))"
   ]
  },
  {
   "cell_type": "code",
   "execution_count": 33,
   "metadata": {
    "slideshow": {
     "slide_type": "fragment"
    }
   },
   "outputs": [
    {
     "name": "stdout",
     "output_type": "stream",
     "text": [
      "Total number of words: 1719465\n",
      "Total number of unique words: 18237\n"
     ]
    }
   ],
   "source": [
    "print(\"Total number of words:\", len(all_words_stemmed))\n",
    "\n",
    "print(\"Total number of unique words:\", len(vocabulary))"
   ]
  },
  {
   "cell_type": "markdown",
   "metadata": {
    "slideshow": {
     "slide_type": "slide"
    }
   },
   "source": [
    "* it is always a good idea to take a look at what are the most common words in our data\n",
    "    * sometimes by looking at our data we can remove some words from our vocabulary\n",
    "    * knowing whether it is safe to remove some word is highly dependent on domain knowledge"
   ]
  },
  {
   "cell_type": "code",
   "execution_count": 34,
   "metadata": {
    "slideshow": {
     "slide_type": "fragment"
    }
   },
   "outputs": [
    {
     "data": {
      "text/plain": [
       "[('wine', 43490),\n",
       " ('flavor', 33545),\n",
       " ('fruit', 32477),\n",
       " ('acid', 19284),\n",
       " ('finish', 18989),\n",
       " ('palat', 18935),\n",
       " ('aroma', 18846),\n",
       " ('drink', 17666),\n",
       " ('tannin', 17430),\n",
       " ('cherri', 17162),\n",
       " ('black', 16264),\n",
       " ('ripe', 15337),\n",
       " ('rich', 13519),\n",
       " ('dri', 12722),\n",
       " ('spice', 12485),\n",
       " ('note', 12330),\n",
       " ('fresh', 10901),\n",
       " ('red', 10488),\n",
       " ('show', 10048),\n",
       " ('berri', 9194),\n",
       " ('oak', 9084),\n",
       " ('age', 8790),\n",
       " ('full', 8571),\n",
       " ('textur', 8483),\n",
       " ('nose', 8402)]"
      ]
     },
     "execution_count": 34,
     "metadata": {},
     "output_type": "execute_result"
    }
   ],
   "source": [
    "# Take a look at the 25 most common words\n",
    "\n",
    "from collections import Counter\n",
    "count_stemmed_words = Counter(all_words_stemmed)\n",
    "count_stemmed_words.most_common(25)"
   ]
  },
  {
   "cell_type": "code",
   "execution_count": 35,
   "metadata": {
    "slideshow": {
     "slide_type": "slide"
    }
   },
   "outputs": [],
   "source": [
    "# Add the cleaned data to our original Dataframe\n",
    "\n",
    "df[\"clean_description\"] = words_stemmed.apply(lambda elem: \" \".join(elem))"
   ]
  },
  {
   "cell_type": "code",
   "execution_count": 36,
   "metadata": {
    "slideshow": {
     "slide_type": "fragment"
    }
   },
   "outputs": [
    {
     "data": {
      "text/html": [
       "<div>\n",
       "<style scoped>\n",
       "    .dataframe tbody tr th:only-of-type {\n",
       "        vertical-align: middle;\n",
       "    }\n",
       "\n",
       "    .dataframe tbody tr th {\n",
       "        vertical-align: top;\n",
       "    }\n",
       "\n",
       "    .dataframe thead th {\n",
       "        text-align: right;\n",
       "    }\n",
       "</style>\n",
       "<table border=\"1\" class=\"dataframe\">\n",
       "  <thead>\n",
       "    <tr style=\"text-align: right;\">\n",
       "      <th></th>\n",
       "      <th>description</th>\n",
       "      <th>wine_type</th>\n",
       "      <th>description_simple_contraction_removal</th>\n",
       "      <th>clean_description</th>\n",
       "    </tr>\n",
       "  </thead>\n",
       "  <tbody>\n",
       "    <tr>\n",
       "      <th>85193</th>\n",
       "      <td>a bright fruity nose of tart cherry and cranbe...</td>\n",
       "      <td>0</td>\n",
       "      <td>A bright fruity nose of tart cherry and cranbe...</td>\n",
       "      <td>bright fruiti nose tart cherri cranberri yield...</td>\n",
       "    </tr>\n",
       "    <tr>\n",
       "      <th>86993</th>\n",
       "      <td>this is a rich wine, a reminder of the warmth ...</td>\n",
       "      <td>0</td>\n",
       "      <td>This is a rich wine, a reminder of the warmth ...</td>\n",
       "      <td>rich wine remind warmth alentejo reinforc cork...</td>\n",
       "    </tr>\n",
       "    <tr>\n",
       "      <th>68458</th>\n",
       "      <td>with a nose of cherry and smoked meats, this w...</td>\n",
       "      <td>0</td>\n",
       "      <td>With a nose of cherry and smoked meats, this w...</td>\n",
       "      <td>nose cherri smoke meat wine offer flavor black...</td>\n",
       "    </tr>\n",
       "    <tr>\n",
       "      <th>55022</th>\n",
       "      <td>a blend of 60% shiraz and 40% cinsault, this i...</td>\n",
       "      <td>0</td>\n",
       "      <td>A blend of 60% Shiraz and 40% Cinsault, this i...</td>\n",
       "      <td>blend 60 shiraz 40 cinsault well balanc attrac...</td>\n",
       "    </tr>\n",
       "    <tr>\n",
       "      <th>4269</th>\n",
       "      <td>with 20% merlot and 5% cabernet franc, this wi...</td>\n",
       "      <td>0</td>\n",
       "      <td>With 20% Merlot and 5% Cabernet Franc, this wi...</td>\n",
       "      <td>20 merlot 5 cabernet franc wine mute yet robus...</td>\n",
       "    </tr>\n",
       "    <tr>\n",
       "      <th>...</th>\n",
       "      <td>...</td>\n",
       "      <td>...</td>\n",
       "      <td>...</td>\n",
       "      <td>...</td>\n",
       "    </tr>\n",
       "    <tr>\n",
       "      <th>129936</th>\n",
       "      <td>a blend from several premier cru vineyards in ...</td>\n",
       "      <td>1</td>\n",
       "      <td>A blend from several premier cru vineyards in ...</td>\n",
       "      <td>blend sever premier cru vineyard pommard wine ...</td>\n",
       "    </tr>\n",
       "    <tr>\n",
       "      <th>129937</th>\n",
       "      <td>smooth, creamy aromas are followed by a rich, ...</td>\n",
       "      <td>1</td>\n",
       "      <td>Smooth, creamy aromas are followed by a rich, ...</td>\n",
       "      <td>smooth creami aroma follow rich concentr mouth...</td>\n",
       "    </tr>\n",
       "    <tr>\n",
       "      <th>129938</th>\n",
       "      <td>compared to the regular 2006 malbec from chaka...</td>\n",
       "      <td>1</td>\n",
       "      <td>Compared to the regular 2006 Malbec from Chaka...</td>\n",
       "      <td>compar regular 2006 malbec chakana wine step w...</td>\n",
       "    </tr>\n",
       "    <tr>\n",
       "      <th>129939</th>\n",
       "      <td>a true tba, its very rich, toffee-flavored, in...</td>\n",
       "      <td>1</td>\n",
       "      <td>A true TBA, its very rich, toffee-flavored, in...</td>\n",
       "      <td>true tba rich toffe flavor intens sweet overpo...</td>\n",
       "    </tr>\n",
       "    <tr>\n",
       "      <th>129940</th>\n",
       "      <td>this is the winery is bells and whistles chard...</td>\n",
       "      <td>1</td>\n",
       "      <td>This is the winery is bells and whistles Chard...</td>\n",
       "      <td>wineri bell whistl chardonnay grown inland fru...</td>\n",
       "    </tr>\n",
       "  </tbody>\n",
       "</table>\n",
       "<p>63386 rows × 4 columns</p>\n",
       "</div>"
      ],
      "text/plain": [
       "                                              description  wine_type  \\\n",
       "85193   a bright fruity nose of tart cherry and cranbe...          0   \n",
       "86993   this is a rich wine, a reminder of the warmth ...          0   \n",
       "68458   with a nose of cherry and smoked meats, this w...          0   \n",
       "55022   a blend of 60% shiraz and 40% cinsault, this i...          0   \n",
       "4269    with 20% merlot and 5% cabernet franc, this wi...          0   \n",
       "...                                                   ...        ...   \n",
       "129936  a blend from several premier cru vineyards in ...          1   \n",
       "129937  smooth, creamy aromas are followed by a rich, ...          1   \n",
       "129938  compared to the regular 2006 malbec from chaka...          1   \n",
       "129939  a true tba, its very rich, toffee-flavored, in...          1   \n",
       "129940  this is the winery is bells and whistles chard...          1   \n",
       "\n",
       "                   description_simple_contraction_removal  \\\n",
       "85193   A bright fruity nose of tart cherry and cranbe...   \n",
       "86993   This is a rich wine, a reminder of the warmth ...   \n",
       "68458   With a nose of cherry and smoked meats, this w...   \n",
       "55022   A blend of 60% Shiraz and 40% Cinsault, this i...   \n",
       "4269    With 20% Merlot and 5% Cabernet Franc, this wi...   \n",
       "...                                                   ...   \n",
       "129936  A blend from several premier cru vineyards in ...   \n",
       "129937  Smooth, creamy aromas are followed by a rich, ...   \n",
       "129938  Compared to the regular 2006 Malbec from Chaka...   \n",
       "129939  A true TBA, its very rich, toffee-flavored, in...   \n",
       "129940  This is the winery is bells and whistles Chard...   \n",
       "\n",
       "                                        clean_description  \n",
       "85193   bright fruiti nose tart cherri cranberri yield...  \n",
       "86993   rich wine remind warmth alentejo reinforc cork...  \n",
       "68458   nose cherri smoke meat wine offer flavor black...  \n",
       "55022   blend 60 shiraz 40 cinsault well balanc attrac...  \n",
       "4269    20 merlot 5 cabernet franc wine mute yet robus...  \n",
       "...                                                   ...  \n",
       "129936  blend sever premier cru vineyard pommard wine ...  \n",
       "129937  smooth creami aroma follow rich concentr mouth...  \n",
       "129938  compar regular 2006 malbec chakana wine step w...  \n",
       "129939  true tba rich toffe flavor intens sweet overpo...  \n",
       "129940  wineri bell whistl chardonnay grown inland fru...  \n",
       "\n",
       "[63386 rows x 4 columns]"
      ]
     },
     "execution_count": 36,
     "metadata": {},
     "output_type": "execute_result"
    }
   ],
   "source": [
    "# Take a look at our dataframe\n",
    "\n",
    "df"
   ]
  },
  {
   "cell_type": "code",
   "execution_count": 37,
   "metadata": {
    "slideshow": {
     "slide_type": "slide"
    }
   },
   "outputs": [
    {
     "data": {
      "text/html": [
       "<div>\n",
       "<style scoped>\n",
       "    .dataframe tbody tr th:only-of-type {\n",
       "        vertical-align: middle;\n",
       "    }\n",
       "\n",
       "    .dataframe tbody tr th {\n",
       "        vertical-align: top;\n",
       "    }\n",
       "\n",
       "    .dataframe thead th {\n",
       "        text-align: right;\n",
       "    }\n",
       "</style>\n",
       "<table border=\"1\" class=\"dataframe\">\n",
       "  <thead>\n",
       "    <tr style=\"text-align: right;\">\n",
       "      <th></th>\n",
       "      <th>wine_type</th>\n",
       "      <th>clean_description</th>\n",
       "    </tr>\n",
       "  </thead>\n",
       "  <tbody>\n",
       "    <tr>\n",
       "      <th>85193</th>\n",
       "      <td>0</td>\n",
       "      <td>bright fruiti nose tart cherri cranberri yield...</td>\n",
       "    </tr>\n",
       "    <tr>\n",
       "      <th>86993</th>\n",
       "      <td>0</td>\n",
       "      <td>rich wine remind warmth alentejo reinforc cork...</td>\n",
       "    </tr>\n",
       "    <tr>\n",
       "      <th>68458</th>\n",
       "      <td>0</td>\n",
       "      <td>nose cherri smoke meat wine offer flavor black...</td>\n",
       "    </tr>\n",
       "    <tr>\n",
       "      <th>55022</th>\n",
       "      <td>0</td>\n",
       "      <td>blend 60 shiraz 40 cinsault well balanc attrac...</td>\n",
       "    </tr>\n",
       "    <tr>\n",
       "      <th>4269</th>\n",
       "      <td>0</td>\n",
       "      <td>20 merlot 5 cabernet franc wine mute yet robus...</td>\n",
       "    </tr>\n",
       "    <tr>\n",
       "      <th>...</th>\n",
       "      <td>...</td>\n",
       "      <td>...</td>\n",
       "    </tr>\n",
       "    <tr>\n",
       "      <th>129936</th>\n",
       "      <td>1</td>\n",
       "      <td>blend sever premier cru vineyard pommard wine ...</td>\n",
       "    </tr>\n",
       "    <tr>\n",
       "      <th>129937</th>\n",
       "      <td>1</td>\n",
       "      <td>smooth creami aroma follow rich concentr mouth...</td>\n",
       "    </tr>\n",
       "    <tr>\n",
       "      <th>129938</th>\n",
       "      <td>1</td>\n",
       "      <td>compar regular 2006 malbec chakana wine step w...</td>\n",
       "    </tr>\n",
       "    <tr>\n",
       "      <th>129939</th>\n",
       "      <td>1</td>\n",
       "      <td>true tba rich toffe flavor intens sweet overpo...</td>\n",
       "    </tr>\n",
       "    <tr>\n",
       "      <th>129940</th>\n",
       "      <td>1</td>\n",
       "      <td>wineri bell whistl chardonnay grown inland fru...</td>\n",
       "    </tr>\n",
       "  </tbody>\n",
       "</table>\n",
       "<p>63386 rows × 2 columns</p>\n",
       "</div>"
      ],
      "text/plain": [
       "        wine_type                                  clean_description\n",
       "85193           0  bright fruiti nose tart cherri cranberri yield...\n",
       "86993           0  rich wine remind warmth alentejo reinforc cork...\n",
       "68458           0  nose cherri smoke meat wine offer flavor black...\n",
       "55022           0  blend 60 shiraz 40 cinsault well balanc attrac...\n",
       "4269            0  20 merlot 5 cabernet franc wine mute yet robus...\n",
       "...           ...                                                ...\n",
       "129936          1  blend sever premier cru vineyard pommard wine ...\n",
       "129937          1  smooth creami aroma follow rich concentr mouth...\n",
       "129938          1  compar regular 2006 malbec chakana wine step w...\n",
       "129939          1  true tba rich toffe flavor intens sweet overpo...\n",
       "129940          1  wineri bell whistl chardonnay grown inland fru...\n",
       "\n",
       "[63386 rows x 2 columns]"
      ]
     },
     "execution_count": 37,
     "metadata": {},
     "output_type": "execute_result"
    }
   ],
   "source": [
    "# Let's get rid of useless columnns\n",
    "# we don't need them because we have a column with cleaned data\n",
    "\n",
    "df.drop(columns=[\"description\", \"description_simple_contraction_removal\"], inplace=True)\n",
    "\n",
    "# Now we can see the final form of our Dataframe\n",
    "\n",
    "df"
   ]
  },
  {
   "cell_type": "markdown",
   "metadata": {
    "slideshow": {
     "slide_type": "slide"
    }
   },
   "source": [
    "* now that the Dataframe is ready we can define a vectorizer and use it to create the matrix"
   ]
  },
  {
   "cell_type": "code",
   "execution_count": 38,
   "metadata": {
    "slideshow": {
     "slide_type": "fragment"
    }
   },
   "outputs": [],
   "source": [
    "# First we import the vectorizer\n",
    "# Using the Tfidf Vectorizer usually leads to better results than using the Bag-of-words vectorizer\n",
    "\n",
    "from sklearn.feature_extraction.text import TfidfVectorizer"
   ]
  },
  {
   "cell_type": "code",
   "execution_count": 39,
   "metadata": {
    "slideshow": {
     "slide_type": "fragment"
    }
   },
   "outputs": [],
   "source": [
    "# Let's shuffle the dataset now\n",
    "\n",
    "df = df.sample(frac=1).reset_index(drop=True)"
   ]
  },
  {
   "cell_type": "code",
   "execution_count": 40,
   "metadata": {
    "slideshow": {
     "slide_type": "fragment"
    }
   },
   "outputs": [],
   "source": [
    "# Define the vectorizer\n",
    "\n",
    "vectorizer = TfidfVectorizer(\n",
    "    analyzer=\"word\", \n",
    "    token_pattern=r\"\\w+\",\n",
    "    max_features=500\n",
    ")"
   ]
  },
  {
   "cell_type": "code",
   "execution_count": 41,
   "metadata": {
    "slideshow": {
     "slide_type": "fragment"
    }
   },
   "outputs": [],
   "source": [
    "# Define dependent features\n",
    "\n",
    "X = df[\"clean_description\"]\n",
    "\n",
    "# Define independent feature\n",
    "\n",
    "y = df[\"wine_type\"]"
   ]
  },
  {
   "cell_type": "code",
   "execution_count": 42,
   "metadata": {
    "slideshow": {
     "slide_type": "fragment"
    }
   },
   "outputs": [],
   "source": [
    "# Use the vectorizer to create an array of values\n",
    "# Create a DataFrame that represents the Document Term Matrix\n",
    "\n",
    "vectorized_X = vectorizer.fit_transform(X).toarray()\n",
    "\n",
    "\n",
    "vectorized_X = pd.DataFrame(vectorized_X)"
   ]
  },
  {
   "cell_type": "code",
   "execution_count": 43,
   "metadata": {
    "slideshow": {
     "slide_type": "slide"
    }
   },
   "outputs": [],
   "source": [
    "#vectorized = pd.DataFrame(vectorized, columns = vectorizer.get_feature_names())"
   ]
  },
  {
   "cell_type": "code",
   "execution_count": 44,
   "metadata": {
    "slideshow": {
     "slide_type": "fragment"
    }
   },
   "outputs": [
    {
     "data": {
      "text/html": [
       "<div>\n",
       "<style scoped>\n",
       "    .dataframe tbody tr th:only-of-type {\n",
       "        vertical-align: middle;\n",
       "    }\n",
       "\n",
       "    .dataframe tbody tr th {\n",
       "        vertical-align: top;\n",
       "    }\n",
       "\n",
       "    .dataframe thead th {\n",
       "        text-align: right;\n",
       "    }\n",
       "</style>\n",
       "<table border=\"1\" class=\"dataframe\">\n",
       "  <thead>\n",
       "    <tr style=\"text-align: right;\">\n",
       "      <th></th>\n",
       "      <th>0</th>\n",
       "      <th>1</th>\n",
       "      <th>2</th>\n",
       "      <th>3</th>\n",
       "      <th>4</th>\n",
       "      <th>5</th>\n",
       "      <th>6</th>\n",
       "      <th>7</th>\n",
       "      <th>8</th>\n",
       "      <th>9</th>\n",
       "      <th>...</th>\n",
       "      <th>490</th>\n",
       "      <th>491</th>\n",
       "      <th>492</th>\n",
       "      <th>493</th>\n",
       "      <th>494</th>\n",
       "      <th>495</th>\n",
       "      <th>496</th>\n",
       "      <th>497</th>\n",
       "      <th>498</th>\n",
       "      <th>499</th>\n",
       "    </tr>\n",
       "  </thead>\n",
       "  <tbody>\n",
       "    <tr>\n",
       "      <th>0</th>\n",
       "      <td>0.0</td>\n",
       "      <td>0.000000</td>\n",
       "      <td>0.0</td>\n",
       "      <td>0.0</td>\n",
       "      <td>0.0</td>\n",
       "      <td>0.0</td>\n",
       "      <td>0.000000</td>\n",
       "      <td>0.0</td>\n",
       "      <td>0.0</td>\n",
       "      <td>0.0</td>\n",
       "      <td>...</td>\n",
       "      <td>0.0</td>\n",
       "      <td>0.0</td>\n",
       "      <td>0.0</td>\n",
       "      <td>0.000000</td>\n",
       "      <td>0.0</td>\n",
       "      <td>0.0</td>\n",
       "      <td>0.0</td>\n",
       "      <td>0.000000</td>\n",
       "      <td>0.0</td>\n",
       "      <td>0.0</td>\n",
       "    </tr>\n",
       "    <tr>\n",
       "      <th>1</th>\n",
       "      <td>0.0</td>\n",
       "      <td>0.000000</td>\n",
       "      <td>0.0</td>\n",
       "      <td>0.0</td>\n",
       "      <td>0.0</td>\n",
       "      <td>0.0</td>\n",
       "      <td>0.000000</td>\n",
       "      <td>0.0</td>\n",
       "      <td>0.0</td>\n",
       "      <td>0.0</td>\n",
       "      <td>...</td>\n",
       "      <td>0.0</td>\n",
       "      <td>0.0</td>\n",
       "      <td>0.0</td>\n",
       "      <td>0.000000</td>\n",
       "      <td>0.0</td>\n",
       "      <td>0.0</td>\n",
       "      <td>0.0</td>\n",
       "      <td>0.000000</td>\n",
       "      <td>0.0</td>\n",
       "      <td>0.0</td>\n",
       "    </tr>\n",
       "    <tr>\n",
       "      <th>2</th>\n",
       "      <td>0.0</td>\n",
       "      <td>0.000000</td>\n",
       "      <td>0.0</td>\n",
       "      <td>0.0</td>\n",
       "      <td>0.0</td>\n",
       "      <td>0.0</td>\n",
       "      <td>0.000000</td>\n",
       "      <td>0.0</td>\n",
       "      <td>0.0</td>\n",
       "      <td>0.0</td>\n",
       "      <td>...</td>\n",
       "      <td>0.0</td>\n",
       "      <td>0.0</td>\n",
       "      <td>0.0</td>\n",
       "      <td>0.000000</td>\n",
       "      <td>0.0</td>\n",
       "      <td>0.0</td>\n",
       "      <td>0.0</td>\n",
       "      <td>0.372468</td>\n",
       "      <td>0.0</td>\n",
       "      <td>0.0</td>\n",
       "    </tr>\n",
       "    <tr>\n",
       "      <th>3</th>\n",
       "      <td>0.0</td>\n",
       "      <td>0.261358</td>\n",
       "      <td>0.0</td>\n",
       "      <td>0.0</td>\n",
       "      <td>0.0</td>\n",
       "      <td>0.0</td>\n",
       "      <td>0.221943</td>\n",
       "      <td>0.0</td>\n",
       "      <td>0.0</td>\n",
       "      <td>0.0</td>\n",
       "      <td>...</td>\n",
       "      <td>0.0</td>\n",
       "      <td>0.0</td>\n",
       "      <td>0.0</td>\n",
       "      <td>0.000000</td>\n",
       "      <td>0.0</td>\n",
       "      <td>0.0</td>\n",
       "      <td>0.0</td>\n",
       "      <td>0.000000</td>\n",
       "      <td>0.0</td>\n",
       "      <td>0.0</td>\n",
       "    </tr>\n",
       "    <tr>\n",
       "      <th>4</th>\n",
       "      <td>0.0</td>\n",
       "      <td>0.000000</td>\n",
       "      <td>0.0</td>\n",
       "      <td>0.0</td>\n",
       "      <td>0.0</td>\n",
       "      <td>0.0</td>\n",
       "      <td>0.000000</td>\n",
       "      <td>0.0</td>\n",
       "      <td>0.0</td>\n",
       "      <td>0.0</td>\n",
       "      <td>...</td>\n",
       "      <td>0.0</td>\n",
       "      <td>0.0</td>\n",
       "      <td>0.0</td>\n",
       "      <td>0.000000</td>\n",
       "      <td>0.0</td>\n",
       "      <td>0.0</td>\n",
       "      <td>0.0</td>\n",
       "      <td>0.000000</td>\n",
       "      <td>0.0</td>\n",
       "      <td>0.0</td>\n",
       "    </tr>\n",
       "    <tr>\n",
       "      <th>...</th>\n",
       "      <td>...</td>\n",
       "      <td>...</td>\n",
       "      <td>...</td>\n",
       "      <td>...</td>\n",
       "      <td>...</td>\n",
       "      <td>...</td>\n",
       "      <td>...</td>\n",
       "      <td>...</td>\n",
       "      <td>...</td>\n",
       "      <td>...</td>\n",
       "      <td>...</td>\n",
       "      <td>...</td>\n",
       "      <td>...</td>\n",
       "      <td>...</td>\n",
       "      <td>...</td>\n",
       "      <td>...</td>\n",
       "      <td>...</td>\n",
       "      <td>...</td>\n",
       "      <td>...</td>\n",
       "      <td>...</td>\n",
       "      <td>...</td>\n",
       "    </tr>\n",
       "    <tr>\n",
       "      <th>63381</th>\n",
       "      <td>0.0</td>\n",
       "      <td>0.000000</td>\n",
       "      <td>0.0</td>\n",
       "      <td>0.0</td>\n",
       "      <td>0.0</td>\n",
       "      <td>0.0</td>\n",
       "      <td>0.000000</td>\n",
       "      <td>0.0</td>\n",
       "      <td>0.0</td>\n",
       "      <td>0.0</td>\n",
       "      <td>...</td>\n",
       "      <td>0.0</td>\n",
       "      <td>0.0</td>\n",
       "      <td>0.0</td>\n",
       "      <td>0.000000</td>\n",
       "      <td>0.0</td>\n",
       "      <td>0.0</td>\n",
       "      <td>0.0</td>\n",
       "      <td>0.000000</td>\n",
       "      <td>0.0</td>\n",
       "      <td>0.0</td>\n",
       "    </tr>\n",
       "    <tr>\n",
       "      <th>63382</th>\n",
       "      <td>0.0</td>\n",
       "      <td>0.000000</td>\n",
       "      <td>0.0</td>\n",
       "      <td>0.0</td>\n",
       "      <td>0.0</td>\n",
       "      <td>0.0</td>\n",
       "      <td>0.000000</td>\n",
       "      <td>0.0</td>\n",
       "      <td>0.0</td>\n",
       "      <td>0.0</td>\n",
       "      <td>...</td>\n",
       "      <td>0.0</td>\n",
       "      <td>0.0</td>\n",
       "      <td>0.0</td>\n",
       "      <td>0.000000</td>\n",
       "      <td>0.0</td>\n",
       "      <td>0.0</td>\n",
       "      <td>0.0</td>\n",
       "      <td>0.000000</td>\n",
       "      <td>0.0</td>\n",
       "      <td>0.0</td>\n",
       "    </tr>\n",
       "    <tr>\n",
       "      <th>63383</th>\n",
       "      <td>0.0</td>\n",
       "      <td>0.000000</td>\n",
       "      <td>0.0</td>\n",
       "      <td>0.0</td>\n",
       "      <td>0.0</td>\n",
       "      <td>0.0</td>\n",
       "      <td>0.000000</td>\n",
       "      <td>0.0</td>\n",
       "      <td>0.0</td>\n",
       "      <td>0.0</td>\n",
       "      <td>...</td>\n",
       "      <td>0.0</td>\n",
       "      <td>0.0</td>\n",
       "      <td>0.0</td>\n",
       "      <td>0.172785</td>\n",
       "      <td>0.0</td>\n",
       "      <td>0.0</td>\n",
       "      <td>0.0</td>\n",
       "      <td>0.000000</td>\n",
       "      <td>0.0</td>\n",
       "      <td>0.0</td>\n",
       "    </tr>\n",
       "    <tr>\n",
       "      <th>63384</th>\n",
       "      <td>0.0</td>\n",
       "      <td>0.000000</td>\n",
       "      <td>0.0</td>\n",
       "      <td>0.0</td>\n",
       "      <td>0.0</td>\n",
       "      <td>0.0</td>\n",
       "      <td>0.000000</td>\n",
       "      <td>0.0</td>\n",
       "      <td>0.0</td>\n",
       "      <td>0.0</td>\n",
       "      <td>...</td>\n",
       "      <td>0.0</td>\n",
       "      <td>0.0</td>\n",
       "      <td>0.0</td>\n",
       "      <td>0.000000</td>\n",
       "      <td>0.0</td>\n",
       "      <td>0.0</td>\n",
       "      <td>0.0</td>\n",
       "      <td>0.000000</td>\n",
       "      <td>0.0</td>\n",
       "      <td>0.0</td>\n",
       "    </tr>\n",
       "    <tr>\n",
       "      <th>63385</th>\n",
       "      <td>0.0</td>\n",
       "      <td>0.000000</td>\n",
       "      <td>0.0</td>\n",
       "      <td>0.0</td>\n",
       "      <td>0.0</td>\n",
       "      <td>0.0</td>\n",
       "      <td>0.000000</td>\n",
       "      <td>0.0</td>\n",
       "      <td>0.0</td>\n",
       "      <td>0.0</td>\n",
       "      <td>...</td>\n",
       "      <td>0.0</td>\n",
       "      <td>0.0</td>\n",
       "      <td>0.0</td>\n",
       "      <td>0.000000</td>\n",
       "      <td>0.0</td>\n",
       "      <td>0.0</td>\n",
       "      <td>0.0</td>\n",
       "      <td>0.000000</td>\n",
       "      <td>0.0</td>\n",
       "      <td>0.0</td>\n",
       "    </tr>\n",
       "  </tbody>\n",
       "</table>\n",
       "<p>63386 rows × 500 columns</p>\n",
       "</div>"
      ],
      "text/plain": [
       "       0         1    2    3    4    5         6    7    8    9    ...  490  \\\n",
       "0      0.0  0.000000  0.0  0.0  0.0  0.0  0.000000  0.0  0.0  0.0  ...  0.0   \n",
       "1      0.0  0.000000  0.0  0.0  0.0  0.0  0.000000  0.0  0.0  0.0  ...  0.0   \n",
       "2      0.0  0.000000  0.0  0.0  0.0  0.0  0.000000  0.0  0.0  0.0  ...  0.0   \n",
       "3      0.0  0.261358  0.0  0.0  0.0  0.0  0.221943  0.0  0.0  0.0  ...  0.0   \n",
       "4      0.0  0.000000  0.0  0.0  0.0  0.0  0.000000  0.0  0.0  0.0  ...  0.0   \n",
       "...    ...       ...  ...  ...  ...  ...       ...  ...  ...  ...  ...  ...   \n",
       "63381  0.0  0.000000  0.0  0.0  0.0  0.0  0.000000  0.0  0.0  0.0  ...  0.0   \n",
       "63382  0.0  0.000000  0.0  0.0  0.0  0.0  0.000000  0.0  0.0  0.0  ...  0.0   \n",
       "63383  0.0  0.000000  0.0  0.0  0.0  0.0  0.000000  0.0  0.0  0.0  ...  0.0   \n",
       "63384  0.0  0.000000  0.0  0.0  0.0  0.0  0.000000  0.0  0.0  0.0  ...  0.0   \n",
       "63385  0.0  0.000000  0.0  0.0  0.0  0.0  0.000000  0.0  0.0  0.0  ...  0.0   \n",
       "\n",
       "       491  492       493  494  495  496       497  498  499  \n",
       "0      0.0  0.0  0.000000  0.0  0.0  0.0  0.000000  0.0  0.0  \n",
       "1      0.0  0.0  0.000000  0.0  0.0  0.0  0.000000  0.0  0.0  \n",
       "2      0.0  0.0  0.000000  0.0  0.0  0.0  0.372468  0.0  0.0  \n",
       "3      0.0  0.0  0.000000  0.0  0.0  0.0  0.000000  0.0  0.0  \n",
       "4      0.0  0.0  0.000000  0.0  0.0  0.0  0.000000  0.0  0.0  \n",
       "...    ...  ...       ...  ...  ...  ...       ...  ...  ...  \n",
       "63381  0.0  0.0  0.000000  0.0  0.0  0.0  0.000000  0.0  0.0  \n",
       "63382  0.0  0.0  0.000000  0.0  0.0  0.0  0.000000  0.0  0.0  \n",
       "63383  0.0  0.0  0.172785  0.0  0.0  0.0  0.000000  0.0  0.0  \n",
       "63384  0.0  0.0  0.000000  0.0  0.0  0.0  0.000000  0.0  0.0  \n",
       "63385  0.0  0.0  0.000000  0.0  0.0  0.0  0.000000  0.0  0.0  \n",
       "\n",
       "[63386 rows x 500 columns]"
      ]
     },
     "execution_count": 44,
     "metadata": {},
     "output_type": "execute_result"
    }
   ],
   "source": [
    "# Take a look at the newly created DataFrame\n",
    "# It actually represents our dependent features in\n",
    "# classic Machine Learning terms\n",
    "\n",
    "vectorized_X"
   ]
  },
  {
   "cell_type": "markdown",
   "metadata": {
    "slideshow": {
     "slide_type": "slide"
    }
   },
   "source": [
    "# Picking a model"
   ]
  },
  {
   "cell_type": "markdown",
   "metadata": {
    "slideshow": {
     "slide_type": "fragment"
    }
   },
   "source": [
    "* we will use cross validation to check the results of training the following models:\n",
    "    \n",
    "    <br>\n",
    "    \n",
    "    * Decision Tree Classifier\n",
    "    * Random Forest Classifier"
   ]
  },
  {
   "cell_type": "markdown",
   "metadata": {
    "slideshow": {
     "slide_type": "fragment"
    }
   },
   "source": [
    "* we will later focus on XGBoost"
   ]
  },
  {
   "cell_type": "code",
   "execution_count": 45,
   "metadata": {},
   "outputs": [],
   "source": [
    "# Import the necessary libraries\n",
    "\n",
    "from sklearn.tree import DecisionTreeClassifier\n",
    "from sklearn.ensemble import RandomForestClassifier\n",
    "from sklearn.model_selection import train_test_split\n",
    "from sklearn.model_selection import cross_val_score"
   ]
  },
  {
   "cell_type": "markdown",
   "metadata": {},
   "source": [
    "* to see which of the aforementioned models performs best on our data, we will:\n",
    "    * create a list of the models that we want to use\n",
    "    * define our training and testing data\n",
    "    * create a for loop that will perform cross validation for each of the models and give us the mean result of the different folds"
   ]
  },
  {
   "cell_type": "code",
   "execution_count": 46,
   "metadata": {},
   "outputs": [],
   "source": [
    "# Create a list of models\n",
    "\n",
    "models = []\n",
    "\n",
    "models.append((\"Decision Tree\", DecisionTreeClassifier()))\n",
    "\n",
    "models.append((\"RandomForest\", RandomForestClassifier()))"
   ]
  },
  {
   "cell_type": "markdown",
   "metadata": {},
   "source": [
    "**Warning: running cross validation with the full dataset will take extremely long, so let's use just a small sample for the purposes of demonstration**"
   ]
  },
  {
   "cell_type": "code",
   "execution_count": 47,
   "metadata": {},
   "outputs": [],
   "source": [
    "vectorized_X_sample = vectorized_X[:25_000]\n",
    "\n",
    "y_sample = y[:25_000]"
   ]
  },
  {
   "cell_type": "code",
   "execution_count": 48,
   "metadata": {},
   "outputs": [
    {
     "name": "stdout",
     "output_type": "stream",
     "text": [
      "Decision Tree 0.682519890188456\n",
      "RandomForest 0.7849200073114515\n"
     ]
    }
   ],
   "source": [
    "# Create a lists of results and names \n",
    "results = []\n",
    "names = []\n",
    "\n",
    "# Perform cross validation for the different models\n",
    "for name, model in models:\n",
    "    result = cross_val_score(model, vectorized_X_sample, y_sample,  cv=3)\n",
    "    names.append(name)\n",
    "    results.append(result)\n",
    "    \n",
    "# Display the results \n",
    "for i in range(len(names)):\n",
    "    print(names[i], results[i].mean())"
   ]
  },
  {
   "cell_type": "markdown",
   "metadata": {},
   "source": [
    "* the Decision Tree model seems to perform worse than the Random Forest model\n",
    "\n",
    "\n",
    "* let's perform cross validation for XGBoost and compare the results with the results of the SVM model and the Random Forest model"
   ]
  },
  {
   "cell_type": "markdown",
   "metadata": {},
   "source": [
    "### XGBoost"
   ]
  },
  {
   "cell_type": "code",
   "execution_count": 49,
   "metadata": {},
   "outputs": [
    {
     "name": "stderr",
     "output_type": "stream",
     "text": [
      "C:\\Users\\Korisnik\\.conda\\envs\\nlp_enviroment\\lib\\site-packages\\xgboost\\compat.py:31: FutureWarning: pandas.Int64Index is deprecated and will be removed from pandas in a future version. Use pandas.Index with the appropriate dtype instead.\n",
      "  from pandas import MultiIndex, Int64Index\n"
     ]
    }
   ],
   "source": [
    "# Import the necessary libraries\n",
    "\n",
    "from sklearn.model_selection import KFold\n",
    "from xgboost import XGBClassifier\n",
    "from sklearn import metrics"
   ]
  },
  {
   "cell_type": "code",
   "execution_count": 50,
   "metadata": {},
   "outputs": [
    {
     "name": "stderr",
     "output_type": "stream",
     "text": [
      "C:\\Users\\Korisnik\\.conda\\envs\\nlp_enviroment\\lib\\site-packages\\xgboost\\sklearn.py:1146: UserWarning: The use of label encoder in XGBClassifier is deprecated and will be removed in a future release. To remove this warning, do the following: 1) Pass option use_label_encoder=False when constructing XGBClassifier object; and 2) Encode your labels (y) as integers starting with 0, i.e. 0, 1, 2, ..., [num_class - 1].\n",
      "  warnings.warn(label_encoder_deprecation_msg, UserWarning)\n",
      "C:\\Users\\Korisnik\\.conda\\envs\\nlp_enviroment\\lib\\site-packages\\xgboost\\data.py:208: FutureWarning: pandas.Int64Index is deprecated and will be removed from pandas in a future version. Use pandas.Index with the appropriate dtype instead.\n",
      "  from pandas import MultiIndex, Int64Index\n"
     ]
    },
    {
     "name": "stdout",
     "output_type": "stream",
     "text": [
      "[13:10:02] WARNING: C:/Users/Administrator/workspace/xgboost-win64_release_1.4.0/src/learner.cc:1095: Starting in XGBoost 1.3.0, the default evaluation metric used with the objective 'binary:logistic' was changed from 'error' to 'logloss'. Explicitly set eval_metric if you'd like to restore the old behavior.\n",
      "[13:10:22] WARNING: C:/Users/Administrator/workspace/xgboost-win64_release_1.4.0/src/learner.cc:1095: Starting in XGBoost 1.3.0, the default evaluation metric used with the objective 'binary:logistic' was changed from 'error' to 'logloss'. Explicitly set eval_metric if you'd like to restore the old behavior.\n",
      "[13:10:45] WARNING: C:/Users/Administrator/workspace/xgboost-win64_release_1.4.0/src/learner.cc:1095: Starting in XGBoost 1.3.0, the default evaluation metric used with the objective 'binary:logistic' was changed from 'error' to 'logloss'. Explicitly set eval_metric if you'd like to restore the old behavior.\n"
     ]
    }
   ],
   "source": [
    "# Cross-validation\n",
    "\n",
    "kfold = KFold(n_splits=3)\n",
    "\n",
    "XGBClassifier(eval_metric = \"logloss\")\n",
    "\n",
    "results = cross_val_score(XGBClassifier(), vectorized_X, y, cv=kfold)"
   ]
  },
  {
   "cell_type": "code",
   "execution_count": 51,
   "metadata": {},
   "outputs": [
    {
     "name": "stdout",
     "output_type": "stream",
     "text": [
      "0.802274939503474\n"
     ]
    }
   ],
   "source": [
    "# Let's take a look at the results\n",
    "\n",
    "print(results.mean())"
   ]
  },
  {
   "cell_type": "markdown",
   "metadata": {},
   "source": [
    "* the XGBoost model seems to perform a little bit better than the Random Forest model"
   ]
  },
  {
   "cell_type": "markdown",
   "metadata": {},
   "source": [
    "# Training the choosen model"
   ]
  },
  {
   "cell_type": "markdown",
   "metadata": {},
   "source": [
    "* since the XGBoost model seems to perform best, let's train it and see how well it actually performs\n",
    "    * we will check not only the accuracy, but will also create a classification report and a confusion matrix"
   ]
  },
  {
   "cell_type": "code",
   "execution_count": 52,
   "metadata": {},
   "outputs": [],
   "source": [
    "# Separate data into training data and testing data\n",
    "\n",
    "X_train, X_test, y_train, y_test = train_test_split(\n",
    "    X, y, \n",
    "    test_size=0.3, \n",
    "    random_state=41\n",
    ")"
   ]
  },
  {
   "cell_type": "code",
   "execution_count": 53,
   "metadata": {},
   "outputs": [],
   "source": [
    "# Vectorize data \n",
    "\n",
    "vectorized_train_X = vectorizer.fit_transform(X_train).toarray()\n",
    "vectorized_test_X = vectorizer.transform(X_test).toarray()"
   ]
  },
  {
   "cell_type": "code",
   "execution_count": 54,
   "metadata": {},
   "outputs": [],
   "source": [
    "# Define a simple XGBoost classifier\n",
    "\n",
    "classifier = XGBClassifier()"
   ]
  },
  {
   "cell_type": "code",
   "execution_count": 55,
   "metadata": {},
   "outputs": [
    {
     "name": "stdout",
     "output_type": "stream",
     "text": [
      "[13:11:06] WARNING: C:/Users/Administrator/workspace/xgboost-win64_release_1.4.0/src/learner.cc:1095: Starting in XGBoost 1.3.0, the default evaluation metric used with the objective 'binary:logistic' was changed from 'error' to 'logloss'. Explicitly set eval_metric if you'd like to restore the old behavior.\n"
     ]
    },
    {
     "data": {
      "text/plain": [
       "XGBClassifier(base_score=0.5, booster='gbtree', colsample_bylevel=1,\n",
       "              colsample_bynode=1, colsample_bytree=1, gamma=0, gpu_id=-1,\n",
       "              importance_type='gain', interaction_constraints='',\n",
       "              learning_rate=0.300000012, max_delta_step=0, max_depth=6,\n",
       "              min_child_weight=1, missing=nan, monotone_constraints='()',\n",
       "              n_estimators=100, n_jobs=8, num_parallel_tree=1, random_state=0,\n",
       "              reg_alpha=0, reg_lambda=1, scale_pos_weight=1, subsample=1,\n",
       "              tree_method='exact', validate_parameters=1, verbosity=None)"
      ]
     },
     "execution_count": 55,
     "metadata": {},
     "output_type": "execute_result"
    }
   ],
   "source": [
    "# Train the classifier\n",
    "\n",
    "classifier.fit(vectorized_train_X, y_train)"
   ]
  },
  {
   "cell_type": "code",
   "execution_count": 56,
   "metadata": {},
   "outputs": [],
   "source": [
    "# Predict values from the test dataset\n",
    "# using the trained model\n",
    "\n",
    "y_pred = classifier.predict(vectorized_test_X)"
   ]
  },
  {
   "cell_type": "code",
   "execution_count": 57,
   "metadata": {},
   "outputs": [
    {
     "name": "stdout",
     "output_type": "stream",
     "text": [
      "Accuracy: 0.7979596129575095\n"
     ]
    }
   ],
   "source": [
    "# Print model accuracy by comparing predictions with real values\n",
    "\n",
    "accuracy_score = metrics.accuracy_score(y_test, y_pred)\n",
    "\n",
    "print(\"Accuracy:\", accuracy_score)"
   ]
  },
  {
   "cell_type": "code",
   "execution_count": 58,
   "metadata": {},
   "outputs": [
    {
     "name": "stdout",
     "output_type": "stream",
     "text": [
      "[[7497 1966]\n",
      " [1876 7677]]\n"
     ]
    }
   ],
   "source": [
    "# As mentioned before, precision by itself is not a good enough measure\n",
    "# for our model, so we will create a confusion matrix\n",
    "\n",
    "cm = metrics.confusion_matrix(y_test, y_pred)\n",
    "\n",
    "print(cm)"
   ]
  },
  {
   "cell_type": "code",
   "execution_count": 59,
   "metadata": {},
   "outputs": [
    {
     "data": {
      "text/plain": [
       "Text(0.5, 1.0, 'Accuracy Score: 0.7979596129575095')"
      ]
     },
     "execution_count": 59,
     "metadata": {},
     "output_type": "execute_result"
    },
    {
     "data": {
      "image/png": "[encoded data removed]",
      "text/plain": [
       "<Figure size 648x648 with 2 Axes>"
      ]
     },
     "metadata": {
      "needs_background": "light"
     },
     "output_type": "display_data"
    }
   ],
   "source": [
    "# Useful snippet of code \n",
    "# Used to construct a nicer looking confusion matrix\n",
    "\n",
    "import matplotlib.pyplot as plt\n",
    "import seaborn as sns\n",
    "\n",
    "plt.figure(figsize=(9,9))\n",
    "sns.heatmap(cm, annot=True, fmt=\".3f\", linewidths=.5, square=True, cmap='Reds')\n",
    "plt.ylabel(\"True value\")\n",
    "plt.xlabel(\"Prediction\")\n",
    "all_sample_title = f\"Accuracy Score: {accuracy_score}\"\n",
    "plt.title(all_sample_title, size=20)"
   ]
  },
  {
   "cell_type": "code",
   "execution_count": 60,
   "metadata": {},
   "outputs": [
    {
     "name": "stdout",
     "output_type": "stream",
     "text": [
      "              precision    recall  f1-score   support\n",
      "\n",
      "           0       0.80      0.79      0.80      9463\n",
      "           1       0.80      0.80      0.80      9553\n",
      "\n",
      "    accuracy                           0.80     19016\n",
      "   macro avg       0.80      0.80      0.80     19016\n",
      "weighted avg       0.80      0.80      0.80     19016\n",
      "\n"
     ]
    }
   ],
   "source": [
    "# Let's take a look at the classification report\n",
    "\n",
    "print(metrics.classification_report(y_test, y_pred, labels=[0, 1]))"
   ]
  },
  {
   "cell_type": "code",
   "execution_count": 61,
   "metadata": {},
   "outputs": [],
   "source": [
    "# Get DataFrame of predictions\n",
    "\n",
    "predictions = pd.DataFrame(y_pred, columns=[\"predicted_label\"])\n",
    "\n",
    "results = pd.concat([predictions, y_test.to_frame().reset_index(drop=True)], axis=1)"
   ]
  },
  {
   "cell_type": "code",
   "execution_count": 62,
   "metadata": {},
   "outputs": [
    {
     "data": {
      "text/html": [
       "<div>\n",
       "<style scoped>\n",
       "    .dataframe tbody tr th:only-of-type {\n",
       "        vertical-align: middle;\n",
       "    }\n",
       "\n",
       "    .dataframe tbody tr th {\n",
       "        vertical-align: top;\n",
       "    }\n",
       "\n",
       "    .dataframe thead th {\n",
       "        text-align: right;\n",
       "    }\n",
       "</style>\n",
       "<table border=\"1\" class=\"dataframe\">\n",
       "  <thead>\n",
       "    <tr style=\"text-align: right;\">\n",
       "      <th></th>\n",
       "      <th>predicted_label</th>\n",
       "      <th>wine_type</th>\n",
       "    </tr>\n",
       "  </thead>\n",
       "  <tbody>\n",
       "    <tr>\n",
       "      <th>0</th>\n",
       "      <td>1</td>\n",
       "      <td>0</td>\n",
       "    </tr>\n",
       "    <tr>\n",
       "      <th>1</th>\n",
       "      <td>1</td>\n",
       "      <td>1</td>\n",
       "    </tr>\n",
       "    <tr>\n",
       "      <th>2</th>\n",
       "      <td>1</td>\n",
       "      <td>1</td>\n",
       "    </tr>\n",
       "    <tr>\n",
       "      <th>3</th>\n",
       "      <td>1</td>\n",
       "      <td>1</td>\n",
       "    </tr>\n",
       "    <tr>\n",
       "      <th>4</th>\n",
       "      <td>0</td>\n",
       "      <td>0</td>\n",
       "    </tr>\n",
       "    <tr>\n",
       "      <th>5</th>\n",
       "      <td>0</td>\n",
       "      <td>1</td>\n",
       "    </tr>\n",
       "    <tr>\n",
       "      <th>6</th>\n",
       "      <td>1</td>\n",
       "      <td>1</td>\n",
       "    </tr>\n",
       "    <tr>\n",
       "      <th>7</th>\n",
       "      <td>1</td>\n",
       "      <td>1</td>\n",
       "    </tr>\n",
       "    <tr>\n",
       "      <th>8</th>\n",
       "      <td>1</td>\n",
       "      <td>1</td>\n",
       "    </tr>\n",
       "    <tr>\n",
       "      <th>9</th>\n",
       "      <td>0</td>\n",
       "      <td>0</td>\n",
       "    </tr>\n",
       "    <tr>\n",
       "      <th>10</th>\n",
       "      <td>0</td>\n",
       "      <td>0</td>\n",
       "    </tr>\n",
       "    <tr>\n",
       "      <th>11</th>\n",
       "      <td>0</td>\n",
       "      <td>0</td>\n",
       "    </tr>\n",
       "    <tr>\n",
       "      <th>12</th>\n",
       "      <td>1</td>\n",
       "      <td>1</td>\n",
       "    </tr>\n",
       "    <tr>\n",
       "      <th>13</th>\n",
       "      <td>0</td>\n",
       "      <td>0</td>\n",
       "    </tr>\n",
       "    <tr>\n",
       "      <th>14</th>\n",
       "      <td>1</td>\n",
       "      <td>0</td>\n",
       "    </tr>\n",
       "    <tr>\n",
       "      <th>15</th>\n",
       "      <td>1</td>\n",
       "      <td>1</td>\n",
       "    </tr>\n",
       "    <tr>\n",
       "      <th>16</th>\n",
       "      <td>1</td>\n",
       "      <td>1</td>\n",
       "    </tr>\n",
       "    <tr>\n",
       "      <th>17</th>\n",
       "      <td>1</td>\n",
       "      <td>1</td>\n",
       "    </tr>\n",
       "    <tr>\n",
       "      <th>18</th>\n",
       "      <td>1</td>\n",
       "      <td>1</td>\n",
       "    </tr>\n",
       "    <tr>\n",
       "      <th>19</th>\n",
       "      <td>0</td>\n",
       "      <td>0</td>\n",
       "    </tr>\n",
       "  </tbody>\n",
       "</table>\n",
       "</div>"
      ],
      "text/plain": [
       "    predicted_label  wine_type\n",
       "0                 1          0\n",
       "1                 1          1\n",
       "2                 1          1\n",
       "3                 1          1\n",
       "4                 0          0\n",
       "5                 0          1\n",
       "6                 1          1\n",
       "7                 1          1\n",
       "8                 1          1\n",
       "9                 0          0\n",
       "10                0          0\n",
       "11                0          0\n",
       "12                1          1\n",
       "13                0          0\n",
       "14                1          0\n",
       "15                1          1\n",
       "16                1          1\n",
       "17                1          1\n",
       "18                1          1\n",
       "19                0          0"
      ]
     },
     "execution_count": 62,
     "metadata": {},
     "output_type": "execute_result"
    }
   ],
   "source": [
    "results.head(20)"
   ]
  },
  {
   "cell_type": "code",
   "execution_count": 63,
   "metadata": {},
   "outputs": [
    {
     "data": {
      "text/html": [
       "<div>\n",
       "<style scoped>\n",
       "    .dataframe tbody tr th:only-of-type {\n",
       "        vertical-align: middle;\n",
       "    }\n",
       "\n",
       "    .dataframe tbody tr th {\n",
       "        vertical-align: top;\n",
       "    }\n",
       "\n",
       "    .dataframe thead th {\n",
       "        text-align: right;\n",
       "    }\n",
       "</style>\n",
       "<table border=\"1\" class=\"dataframe\">\n",
       "  <thead>\n",
       "    <tr style=\"text-align: right;\">\n",
       "      <th></th>\n",
       "      <th>predicted_label</th>\n",
       "      <th>wine_type</th>\n",
       "    </tr>\n",
       "  </thead>\n",
       "  <tbody>\n",
       "    <tr>\n",
       "      <th>0</th>\n",
       "      <td>superior_wine</td>\n",
       "      <td>great_wine</td>\n",
       "    </tr>\n",
       "    <tr>\n",
       "      <th>1</th>\n",
       "      <td>superior_wine</td>\n",
       "      <td>superior_wine</td>\n",
       "    </tr>\n",
       "    <tr>\n",
       "      <th>2</th>\n",
       "      <td>superior_wine</td>\n",
       "      <td>superior_wine</td>\n",
       "    </tr>\n",
       "    <tr>\n",
       "      <th>3</th>\n",
       "      <td>superior_wine</td>\n",
       "      <td>superior_wine</td>\n",
       "    </tr>\n",
       "    <tr>\n",
       "      <th>4</th>\n",
       "      <td>great_wine</td>\n",
       "      <td>great_wine</td>\n",
       "    </tr>\n",
       "    <tr>\n",
       "      <th>5</th>\n",
       "      <td>great_wine</td>\n",
       "      <td>superior_wine</td>\n",
       "    </tr>\n",
       "    <tr>\n",
       "      <th>6</th>\n",
       "      <td>superior_wine</td>\n",
       "      <td>superior_wine</td>\n",
       "    </tr>\n",
       "    <tr>\n",
       "      <th>7</th>\n",
       "      <td>superior_wine</td>\n",
       "      <td>superior_wine</td>\n",
       "    </tr>\n",
       "    <tr>\n",
       "      <th>8</th>\n",
       "      <td>superior_wine</td>\n",
       "      <td>superior_wine</td>\n",
       "    </tr>\n",
       "    <tr>\n",
       "      <th>9</th>\n",
       "      <td>great_wine</td>\n",
       "      <td>great_wine</td>\n",
       "    </tr>\n",
       "    <tr>\n",
       "      <th>10</th>\n",
       "      <td>great_wine</td>\n",
       "      <td>great_wine</td>\n",
       "    </tr>\n",
       "    <tr>\n",
       "      <th>11</th>\n",
       "      <td>great_wine</td>\n",
       "      <td>great_wine</td>\n",
       "    </tr>\n",
       "    <tr>\n",
       "      <th>12</th>\n",
       "      <td>superior_wine</td>\n",
       "      <td>superior_wine</td>\n",
       "    </tr>\n",
       "    <tr>\n",
       "      <th>13</th>\n",
       "      <td>great_wine</td>\n",
       "      <td>great_wine</td>\n",
       "    </tr>\n",
       "    <tr>\n",
       "      <th>14</th>\n",
       "      <td>superior_wine</td>\n",
       "      <td>great_wine</td>\n",
       "    </tr>\n",
       "    <tr>\n",
       "      <th>15</th>\n",
       "      <td>superior_wine</td>\n",
       "      <td>superior_wine</td>\n",
       "    </tr>\n",
       "    <tr>\n",
       "      <th>16</th>\n",
       "      <td>superior_wine</td>\n",
       "      <td>superior_wine</td>\n",
       "    </tr>\n",
       "    <tr>\n",
       "      <th>17</th>\n",
       "      <td>superior_wine</td>\n",
       "      <td>superior_wine</td>\n",
       "    </tr>\n",
       "    <tr>\n",
       "      <th>18</th>\n",
       "      <td>superior_wine</td>\n",
       "      <td>superior_wine</td>\n",
       "    </tr>\n",
       "    <tr>\n",
       "      <th>19</th>\n",
       "      <td>great_wine</td>\n",
       "      <td>great_wine</td>\n",
       "    </tr>\n",
       "  </tbody>\n",
       "</table>\n",
       "</div>"
      ],
      "text/plain": [
       "   predicted_label      wine_type\n",
       "0    superior_wine     great_wine\n",
       "1    superior_wine  superior_wine\n",
       "2    superior_wine  superior_wine\n",
       "3    superior_wine  superior_wine\n",
       "4       great_wine     great_wine\n",
       "5       great_wine  superior_wine\n",
       "6    superior_wine  superior_wine\n",
       "7    superior_wine  superior_wine\n",
       "8    superior_wine  superior_wine\n",
       "9       great_wine     great_wine\n",
       "10      great_wine     great_wine\n",
       "11      great_wine     great_wine\n",
       "12   superior_wine  superior_wine\n",
       "13      great_wine     great_wine\n",
       "14   superior_wine     great_wine\n",
       "15   superior_wine  superior_wine\n",
       "16   superior_wine  superior_wine\n",
       "17   superior_wine  superior_wine\n",
       "18   superior_wine  superior_wine\n",
       "19      great_wine     great_wine"
      ]
     },
     "execution_count": 63,
     "metadata": {},
     "output_type": "execute_result"
    }
   ],
   "source": [
    "# Decode predictions\n",
    "\n",
    "results[\"predicted_label\"] = results[\"predicted_label\"].map({0:\"great_wine\", 1:\"superior_wine\"})\n",
    "results[\"wine_type\"] = results[\"wine_type\"].map({0:\"great_wine\", 1:\"superior_wine\"})\n",
    "\n",
    "results.head(20)"
   ]
  },
  {
   "cell_type": "markdown",
   "metadata": {},
   "source": [
    " <div>\n",
    "<img src=\"https://edlitera-images.s3.amazonaws.com/new_edlitera_logo.png\" width=\"500\"/>\n",
    "</div>"
   ]
  }
 ],
 "metadata": {
  "celltoolbar": "Slideshow",
  "kernelspec": {
   "display_name": "Python 3 (ipykernel)",
   "language": "python",
   "name": "python3"
  },
  "language_info": {
   "codemirror_mode": {
    "name": "ipython",
    "version": 3
   },
   "file_extension": ".py",
   "mimetype": "text/x-python",
   "name": "python",
   "nbconvert_exporter": "python",
   "pygments_lexer": "ipython3",
   "version": "3.8.11"
  }
 },
 "nbformat": 4,
 "nbformat_minor": 4
}
