{
 "cells": [
  {
   "cell_type": "markdown",
   "id": "fe74a6e2",
   "metadata": {
    "slideshow": {
     "slide_type": "slide"
    }
   },
   "source": [
    " <div>\n",
    "<img src=\"https://edlitera-images.s3.amazonaws.com/new_edlitera_logo.png\" width=\"500\"/>\n",
    "</div>"
   ]
  },
  {
   "cell_type": "markdown",
   "id": "5686e5b2",
   "metadata": {
    "slideshow": {
     "slide_type": "slide"
    }
   },
   "source": [
    "# `Classification`"
   ]
  },
  {
   "cell_type": "markdown",
   "id": "e6db221b",
   "metadata": {
    "slideshow": {
     "slide_type": "fragment"
    }
   },
   "source": [
    "* supervised learning problem"
   ]
  },
  {
   "cell_type": "markdown",
   "id": "9d25ac50",
   "metadata": {
    "slideshow": {
     "slide_type": "fragment"
    }
   },
   "source": [
    "* **classification** is one of the two most common types of tasks solved using Machine Learning models (alongside **regression**)"
   ]
  },
  {
   "cell_type": "markdown",
   "id": "184c25ba",
   "metadata": {
    "slideshow": {
     "slide_type": "fragment"
    }
   },
   "source": [
    "* there are  3  types of classification problems:\n",
    "   <br>\n",
    "    \n",
    "    * **binary classification** \n",
    "       <br>\n",
    "    \n",
    "    * **multi-class classification**\n",
    "       <br>\n",
    "    \n",
    "    * **multi-label classification**\n",
    "    <br>\n"
   ]
  },
  {
   "cell_type": "markdown",
   "id": "b95475c3",
   "metadata": {
    "slideshow": {
     "slide_type": "slide"
    }
   },
   "source": [
    "### Similarities and differences between classification and regression"
   ]
  },
  {
   "cell_type": "markdown",
   "id": "57ebe463",
   "metadata": {
    "slideshow": {
     "slide_type": "fragment"
    }
   },
   "source": [
    "* **regression** is the process of **predicting a continuous outcome** based on some **given data points (training instances)**\n",
    "    * e.g. predicting the temperature of the following day\n",
    "    * we measure the performance of our models based on how different its predicted temperature is from the real temperature"
   ]
  },
  {
   "cell_type": "markdown",
   "id": "bcb8d275",
   "metadata": {
    "slideshow": {
     "slide_type": "fragment"
    }
   },
   "source": [
    "* **classification** is the process of **predicting the class (target/label)** of some given **data point (training instance)**\n",
    "    * e.g. predicting whether it is going to rain or not the following day\n",
    "    * we measure the performance of our models based on whether its prediction was correct or not"
   ]
  },
  {
   "cell_type": "markdown",
   "id": "480938a7",
   "metadata": {
    "slideshow": {
     "slide_type": "slide"
    }
   },
   "source": [
    "### However:"
   ]
  },
  {
   "cell_type": "markdown",
   "id": "a21451cf",
   "metadata": {
    "slideshow": {
     "slide_type": "fragment"
    }
   },
   "source": [
    "* classification algorithms can predict continuous values in the form of a probability for a class label"
   ]
  },
  {
   "cell_type": "markdown",
   "id": "921e1fa2",
   "metadata": {
    "slideshow": {
     "slide_type": "fragment"
    }
   },
   "source": [
    "* regression algorithms can predict a discrete value in the form of an integer quantity\n"
   ]
  },
  {
   "cell_type": "markdown",
   "id": "18ec4625",
   "metadata": {
    "slideshow": {
     "slide_type": "fragment"
    }
   },
   "source": [
    "* the same models (with minor modifications) can be used to solve both problems"
   ]
  },
  {
   "cell_type": "markdown",
   "id": "bbe5eea0",
   "metadata": {
    "slideshow": {
     "slide_type": "slide"
    }
   },
   "source": [
    "# Types of classification problems"
   ]
  },
  {
   "cell_type": "markdown",
   "id": "f895dc92",
   "metadata": {
    "slideshow": {
     "slide_type": "fragment"
    }
   },
   "source": [
    "### `Binary Classification`"
   ]
  },
  {
   "cell_type": "markdown",
   "id": "7bfad302",
   "metadata": {
    "slideshow": {
     "slide_type": "fragment"
    }
   },
   "source": [
    "* the simplest type of classification problems"
   ]
  },
  {
   "cell_type": "markdown",
   "id": "9cc9b7d0",
   "metadata": {
    "slideshow": {
     "slide_type": "fragment"
    }
   },
   "source": [
    "* classification tasks with two class labels\n"
   ]
  },
  {
   "cell_type": "markdown",
   "id": "07cb86bf",
   "metadata": {
    "slideshow": {
     "slide_type": "fragment"
    }
   },
   "source": [
    "**Binary classification problems:**\n",
    "    <br>\n",
    "    \n",
    "   * classifying text sentiment into positive or negative\n",
    "    <br>\n",
    "    \n",
    "   * whether some used car is in good shape or not"
   ]
  },
  {
   "cell_type": "markdown",
   "id": "cf022417",
   "metadata": {
    "slideshow": {
     "slide_type": "slide"
    }
   },
   "source": [
    "### `Multi-class Classification`"
   ]
  },
  {
   "cell_type": "markdown",
   "id": "5d391d11",
   "metadata": {
    "slideshow": {
     "slide_type": "fragment"
    }
   },
   "source": [
    "* classification tasks with more than two class labels"
   ]
  },
  {
   "cell_type": "markdown",
   "id": "19f7e8da",
   "metadata": {
    "slideshow": {
     "slide_type": "fragment"
    }
   },
   "source": [
    "* each target gets classified into one of the multiple available classes"
   ]
  },
  {
   "cell_type": "markdown",
   "id": "70e7028a",
   "metadata": {
    "slideshow": {
     "slide_type": "fragment"
    }
   },
   "source": [
    "* there are some algorithms (such as **`Logistic Regression`** and **`Support Vector Machines`**) that can't perform multi-class classification  (even though there is a way to create multi-class models from binary models)"
   ]
  },
  {
   "cell_type": "markdown",
   "id": "66144d12",
   "metadata": {
    "slideshow": {
     "slide_type": "fragment"
    }
   },
   "source": [
    "**Multi-class classification problems:**\n",
    "\n",
    "   * predicting which tax bracket a user belongs into\n",
    "   * processing hand-written digits (classifying a handwritten digit as 0, 1, 2, etc.)"
   ]
  },
  {
   "cell_type": "markdown",
   "id": "06011f1c",
   "metadata": {
    "slideshow": {
     "slide_type": "slide"
    }
   },
   "source": [
    "### `Multi-label Classification`"
   ]
  },
  {
   "cell_type": "markdown",
   "id": "4c9fe807",
   "metadata": {
    "slideshow": {
     "slide_type": "fragment"
    }
   },
   "source": [
    "* most likely is also a multi-class problem"
   ]
  },
  {
   "cell_type": "markdown",
   "id": "0da46bee",
   "metadata": {
    "slideshow": {
     "slide_type": "fragment"
    }
   },
   "source": [
    "* classification tasks where we can assign one or more class labels to each data point"
   ]
  },
  {
   "cell_type": "markdown",
   "id": "d70d2e22",
   "metadata": {
    "slideshow": {
     "slide_type": "fragment"
    }
   },
   "source": [
    "* we use modified versions of certain algorithms (**`Decision Trees`, `Random Forests`, `Gradient Boosting algorithms`**) to perform multi-label classifications"
   ]
  },
  {
   "cell_type": "markdown",
   "id": "96acb827",
   "metadata": {
    "slideshow": {
     "slide_type": "fragment"
    }
   },
   "source": [
    "**Multi-label classification problems** \n",
    "    <br>\n",
    "    \n",
    "   * movie genre prediction\n",
    "    <br>\n",
    "    \n",
    "   * tags prediction"
   ]
  },
  {
   "cell_type": "markdown",
   "id": "4c446682",
   "metadata": {
    "slideshow": {
     "slide_type": "slide"
    }
   },
   "source": [
    "# `Performance Measures for Classification Problems`"
   ]
  },
  {
   "cell_type": "markdown",
   "id": "a190745f",
   "metadata": {
    "slideshow": {
     "slide_type": "fragment"
    }
   },
   "source": [
    "* accuracy by itself **is not a good measure** of how well our model performs"
   ]
  },
  {
   "cell_type": "markdown",
   "id": "de190873",
   "metadata": {
    "slideshow": {
     "slide_type": "fragment"
    }
   },
   "source": [
    "**Example:**\n",
    "\n",
    "* we are trying to classify an email message as spam or not, but our dataset has only **only 2% of the emails messages are spam**\n",
    "\n",
    "* our model can predict that nothing is spam, **and it will have an accuracy of 98 % !**"
   ]
  },
  {
   "cell_type": "markdown",
   "id": "2edb1030",
   "metadata": {
    "slideshow": {
     "slide_type": "slide"
    }
   },
   "source": [
    "* it is a much better idea to combine accuracy with the following performance measures:\n",
    "    <br>\n",
    "    \n",
    "    * **Confusion Matrix**\n",
    "    * **F1 Score**\n",
    "    * **Precision/Recall Curve**\n",
    "    * **Receiver Operating Characteristic (ROC) curve**\n",
    "    * **Area Under The Curve (AUC)**"
   ]
  },
  {
   "cell_type": "markdown",
   "id": "7e7dd9de",
   "metadata": {
    "slideshow": {
     "slide_type": "fragment"
    }
   },
   "source": [
    "*  you can get a pretty good idea of how well a model performs by looking at the **F1 score**, you don't need to use all of the aforementioned performance measures"
   ]
  },
  {
   "cell_type": "markdown",
   "id": "765d807d",
   "metadata": {
    "slideshow": {
     "slide_type": "slide"
    }
   },
   "source": [
    "## `Confusion Matrix`"
   ]
  },
  {
   "cell_type": "markdown",
   "id": "c7d8b9d3",
   "metadata": {
    "slideshow": {
     "slide_type": "fragment"
    }
   },
   "source": [
    "* a confusion matrix shows the number of:\n",
    "    <br>\n",
    "    \n",
    "  * **TN - true negatives** (items correctly identified as **not** belonging to a given class)\n",
    "   <br>\n",
    "    \n",
    "  * **TP - true positives** (items correctly identified as belonging to a given class)\n",
    "   <br>\n",
    "    \n",
    "  * **FN - false negatives** (items incorrectly identified as **not** belonging to a given class, but which in fact **do** belong to the given class)\n",
    "   <br>\n",
    "    \n",
    "  * **FP - false positives** (items incorrectly identified as belonging to a given class, but which in fact **do not** belong to the given class)"
   ]
  },
  {
   "cell_type": "markdown",
   "id": "82a9a122",
   "metadata": {
    "slideshow": {
     "slide_type": "slide"
    }
   },
   "source": [
    "**Example:** assume we want to create a model that can identify the digit 3.\n",
    "\n",
    "<center><img src=\"https://edlitera-images.s3.us-east-1.amazonaws.com/confusion_matrix.png\" width=\"1200\"/>"
   ]
  },
  {
   "cell_type": "markdown",
   "id": "e6e7b81e",
   "metadata": {
    "slideshow": {
     "slide_type": "slide"
    }
   },
   "source": [
    "**Image explanation:**\n",
    "\n",
    "<br>\n",
    "\n",
    "* **actual negatives** are digits that are not 3\n",
    "\n",
    "* **actual positives** are digits that are 3\n",
    "\n",
    "* **predicted negatives** are digits that the model predicted **not** to be 3\n",
    "  * some of them were instances of digits that were not 3 - **true negatives** (5, 5, 6, 7)\n",
    "  * some of them were instances of digits that were actually 3, but were identified as not 3 - **false negatives** (3, 3)\n",
    "  \n",
    "* **predicted positives** are digits that the model predicted to be 3\n",
    "  * some of them were instances of digits that were not 3, but were identified as 3 - **false positives** (2, 9)\n",
    "  * some of them were instances of digits that were indeed 3 - **true positives** (3, 3, 3)"
   ]
  },
  {
   "cell_type": "markdown",
   "id": "a1499a83",
   "metadata": {
    "slideshow": {
     "slide_type": "slide"
    }
   },
   "source": [
    "### `Accuracy`\n",
    "\n",
    "* ratio of correct predictions (positive or negative)\n",
    "* does not take into account incorrect predictions (false positives or false negatives)\n",
    "* https://scikit-learn.org/stable/modules/generated/sklearn.metrics.accuracy_score.html\n",
    "\n",
    "<br>\n",
    "\n",
    "\\begin{equation*}\n",
    "\\textrm{accuracy} = \\frac {TP + TN} {TP + TN + FP + FN}\n",
    "\\end{equation*}"
   ]
  },
  {
   "cell_type": "markdown",
   "id": "60683e7b",
   "metadata": {
    "slideshow": {
     "slide_type": "slide"
    }
   },
   "source": [
    "### `Error rate`\n",
    "\n",
    "<br>\n",
    "\n",
    "* ratio of incorrect predictions (positive or negative)\n",
    "\n",
    "<br>\n",
    "\n",
    "\\begin{equation*}\n",
    "\\textrm{error rate} = \\frac {FP + FN} {TP + TN + FP + FN }\n",
    "\\end{equation*}"
   ]
  },
  {
   "cell_type": "markdown",
   "id": "e222bca3",
   "metadata": {
    "slideshow": {
     "slide_type": "slide"
    }
   },
   "source": [
    "### `Precision`\n",
    "\n",
    "<br>\n",
    "\n",
    "* it represents the accuracy of the positive predictions\n",
    "* tipically combined with recall into the F1 Score\n",
    "* https://scikit-learn.org/stable/modules/generated/sklearn.metrics.precision_score.html\n",
    "* **in our example, it is the ratio of the instances we correctly classified as 3 out of all the instances that we predicted to be 3**\n",
    "\n",
    "<br>\n",
    "\n",
    "\\begin{align}\n",
    "\\textrm{precision} = \\frac {TP} {TP \\, + \\, FP}\n",
    "\\end{align}"
   ]
  },
  {
   "cell_type": "markdown",
   "id": "94dc30ac",
   "metadata": {
    "slideshow": {
     "slide_type": "slide"
    }
   },
   "source": [
    "### `Recall (Sensitivity, True Positive Rate)`\n",
    "\n",
    "<br>\n",
    "\n",
    "* it represents the ratio of **positive instances** that are correctly identified\n",
    "* tipically combined with precision into the F1 Score\n",
    "* https://scikit-learn.org/stable/modules/generated/sklearn.metrics.recall_score.html\n",
    "* **in our example, it is the ratio of the instances we correctly identified as 3 out of all the instances that are actually 3**\n",
    "\n",
    "<br>\n",
    "\n",
    "\\begin{align}\n",
    "\\textrm{recall} = \\frac {TP} {TP \\, + \\, FN}\n",
    "\\end{align}"
   ]
  },
  {
   "cell_type": "markdown",
   "id": "307621aa",
   "metadata": {
    "slideshow": {
     "slide_type": "slide"
    }
   },
   "source": [
    "### `Specificity (True Negative Rate)`\n",
    "\n",
    "<br>\n",
    "\n",
    "* it represents the ratio of **negative instances** that are correctly identified\n",
    "* **in our example, it is the ratio of all the instances that we correctly identified as not being 3 out of all the instances that we predicted as 3**\n",
    "\n",
    "<br>\n",
    "\n",
    "\n",
    "\\begin{equation*}\n",
    "\\textrm{specificity} = \\frac {TN} {TN + FP}\n",
    "\\end{equation*}"
   ]
  },
  {
   "cell_type": "markdown",
   "id": "75462cfa",
   "metadata": {
    "slideshow": {
     "slide_type": "slide"
    }
   },
   "source": [
    "# `F1 score`"
   ]
  },
  {
   "cell_type": "markdown",
   "id": "3a3dff61",
   "metadata": {
    "slideshow": {
     "slide_type": "fragment"
    }
   },
   "source": [
    "* **F1 score** is the **harmonic mean** of the **precision**  and **recall**"
   ]
  },
  {
   "cell_type": "markdown",
   "id": "377ff4dc",
   "metadata": {
    "slideshow": {
     "slide_type": "fragment"
    }
   },
   "source": [
    "* https://scikit-learn.org/stable/modules/generated/sklearn.metrics.f1_score.html"
   ]
  },
  {
   "cell_type": "markdown",
   "id": "68b45ffd",
   "metadata": {
    "slideshow": {
     "slide_type": "slide"
    }
   },
   "source": [
    "**Mean**\n",
    "\n",
    "* treats all values equally\n",
    "\n",
    "\\begin{align}\n",
    "\\bar{x} = \\frac {x_1 \\, + \\, x_2 \\, + \\, \\ldots \\, + \\, x_n} {n}\n",
    "\\end{align}"
   ]
  },
  {
   "cell_type": "markdown",
   "id": "0a17a600",
   "metadata": {
    "slideshow": {
     "slide_type": "fragment"
    }
   },
   "source": [
    "**Harmonic mean**\n",
    "\n",
    "* gives more weight to the low values\n",
    "\n",
    "\\begin{align}\n",
    "H = \\frac {n} { \\frac {1}{x_1} \\, + \\frac {1}{x_2} \\, + \\, \\ldots \\, + \\, \\frac {1}{x_n}}\n",
    "\\end{align}"
   ]
  },
  {
   "cell_type": "markdown",
   "id": "6bd7c231",
   "metadata": {
    "slideshow": {
     "slide_type": "fragment"
    }
   },
   "source": [
    "**So, F1 score...**\n",
    "\n",
    "\\begin{align}\n",
    "F_1 = \\frac{2} { \\frac{1}{\\textrm{precision}} \\, + \\, \\frac{1}{\\textrm{recall}} }  = 2 \\times \\frac{\\textrm{precision} \\times \\textrm{recall}} {\\textrm{precision} + \\textrm{recall}}= \\frac{TP} {TP \\, + \\, \\frac{FN \\, + \\, FP}{2}}\n",
    "\\end{align}"
   ]
  },
  {
   "cell_type": "markdown",
   "id": "6d80daea",
   "metadata": {
    "slideshow": {
     "slide_type": "slide"
    }
   },
   "source": [
    "### Notes "
   ]
  },
  {
   "cell_type": "markdown",
   "id": "3f118f1b",
   "metadata": {
    "slideshow": {
     "slide_type": "fragment"
    }
   },
   "source": [
    "* if you increase **precision**, you essentially must reduce the number of **false positives**, which will result in increasing the number of **false negatives**, thus reducing **recall**"
   ]
  },
  {
   "cell_type": "markdown",
   "id": "c48bf810",
   "metadata": {
    "slideshow": {
     "slide_type": "fragment"
    }
   },
   "source": [
    "* vice-versa, if you increase **recall**, you must reduce the number of **false negatives**, which will result in increasing the number of **false positives**, thus reducing **precision**"
   ]
  },
  {
   "cell_type": "markdown",
   "id": "a1e3dba7",
   "metadata": {
    "slideshow": {
     "slide_type": "subslide"
    }
   },
   "source": [
    "* this is called the **_precision / recall tradeoff_**: you can't have both high precision and high recall"
   ]
  },
  {
   "cell_type": "markdown",
   "id": "72947ab7",
   "metadata": {
    "slideshow": {
     "slide_type": "fragment"
    }
   },
   "source": [
    "* **F1 score** will be high when both **precision** and **recall** are high, so **F1 score** favors situations where **precision** and **recall** are equal or close to equal."
   ]
  },
  {
   "cell_type": "markdown",
   "id": "3ac229d2",
   "metadata": {
    "slideshow": {
     "slide_type": "slide"
    }
   },
   "source": [
    "* sometimes you want **high precision**, and you're ok with **low recall**\n",
    "  * e.g. showing inappropriate content to children on Youtube: we want the number of false positives (videos that are considered kid-appropriate, but are not) to be as close to 0 as possible. It's ok if some appropriate content gets banned, provided that we don't show bad content"
   ]
  },
  {
   "cell_type": "markdown",
   "id": "57e0c2a1",
   "metadata": {
    "slideshow": {
     "slide_type": "fragment"
    }
   },
   "source": [
    "* sometimes you want **high recall**, and you're ok with **low precision**\n",
    "  * bank fraud: it's ok to have a higher number of false positives (which leads to low precision), provided that the number of false negatives is as close to 0 as possible. In other words, it's ok if the bank locks your card and gives you a phone call if it suspects fraud, even if it's a false positive, provided that in general it catches most of the fraud attempts."
   ]
  },
  {
   "cell_type": "markdown",
   "id": "8d8d2566",
   "metadata": {
    "slideshow": {
     "slide_type": "fragment"
    }
   },
   "source": [
    "* sometimes you want a balance between **precision** and **recall** and the class distribution is unbalanced - optimize for a high **f1 score**"
   ]
  },
  {
   "cell_type": "markdown",
   "id": "5a385068",
   "metadata": {
    "slideshow": {
     "slide_type": "fragment"
    }
   },
   "source": [
    "* **accuracy** is almost never enough to use on its own\n",
    "    * it is especially bad when you have unbalanced class distributions"
   ]
  },
  {
   "cell_type": "markdown",
   "id": "9a81c311",
   "metadata": {
    "slideshow": {
     "slide_type": "slide"
    }
   },
   "source": [
    "\n",
    "\n",
    "# `Scikit-Learn` Overview"
   ]
  },
  {
   "cell_type": "markdown",
   "id": "a2df5f39",
   "metadata": {
    "slideshow": {
     "slide_type": "fragment"
    }
   },
   "source": [
    "* https://scikit-learn.org/stable/index.html"
   ]
  },
  {
   "cell_type": "markdown",
   "id": "a77d4aba",
   "metadata": {
    "slideshow": {
     "slide_type": "fragment"
    }
   },
   "source": [
    "* open-sourced"
   ]
  },
  {
   "cell_type": "markdown",
   "id": "2f959b47",
   "metadata": {
    "slideshow": {
     "slide_type": "fragment"
    }
   },
   "source": [
    "* built on `NumPy`, `SciPy` and `matplotlib`"
   ]
  },
  {
   "cell_type": "markdown",
   "id": "f95ae27c",
   "metadata": {
    "slideshow": {
     "slide_type": "slide"
    }
   },
   "source": [
    "* has support for:\n",
    "    <br>\n",
    "    \n",
    "    * **`Classification`** \n",
    "    <br>\n",
    "    \n",
    "    * **`Regression`** \n",
    "    <br>\n",
    "    \n",
    "    * **`Clustering`** \n",
    "    <br>\n",
    "    \n",
    "    * **`Dimensionality reduction`** \n",
    "    <br>\n",
    "    \n",
    "    * **`Model selection`** \n",
    "    <br>\n",
    "    \n",
    "    * **`Preprocessing`**"
   ]
  },
  {
   "cell_type": "markdown",
   "id": "ce099973",
   "metadata": {
    "slideshow": {
     "slide_type": "slide"
    }
   },
   "source": [
    "* perfectly suited for classic ML work"
   ]
  },
  {
   "cell_type": "markdown",
   "id": "070e2f5c",
   "metadata": {
    "slideshow": {
     "slide_type": "fragment"
    }
   },
   "source": [
    "* **designed to work well with `NumPy` arrays** \n",
    "<br>\n",
    "    \n",
    "    * if your data is in `Pandas` DataFrames, you may have to convert it to `NumPy` arrays"
   ]
  },
  {
   "cell_type": "markdown",
   "id": "502e04f2",
   "metadata": {
    "slideshow": {
     "slide_type": "fragment"
    }
   },
   "source": [
    "* exposes the `sklearn` namespace"
   ]
  },
  {
   "cell_type": "markdown",
   "id": "962be45b",
   "metadata": {
    "slideshow": {
     "slide_type": "slide"
    }
   },
   "source": [
    "# `Scikit-Learn` design principles"
   ]
  },
  {
   "cell_type": "markdown",
   "id": "6983f858",
   "metadata": {
    "slideshow": {
     "slide_type": "fragment"
    }
   },
   "source": [
    "* very well designed, consistent API: https://arxiv.org/pdf/1309.0238v1.pdf"
   ]
  },
  {
   "cell_type": "markdown",
   "id": "95561487",
   "metadata": {
    "slideshow": {
     "slide_type": "fragment"
    }
   },
   "source": [
    "* all objects share a uniform API consisting of three interfaces:\n",
    "    <br>\n",
    "    \n",
    "  * an **estimator**\n",
    "    <br>\n",
    "    \n",
    "  * a **predictor**\n",
    "    <br>\n",
    "    \n",
    "  * a **transformer**"
   ]
  },
  {
   "cell_type": "markdown",
   "id": "2c80c065",
   "metadata": {
    "slideshow": {
     "slide_type": "fragment"
    }
   },
   "source": [
    "* data is represented as multi-dimensional arrays for dense data and sparse matrices for sparse data"
   ]
  },
  {
   "cell_type": "markdown",
   "id": "eb1b89b8",
   "metadata": {
    "slideshow": {
     "slide_type": "slide"
    }
   },
   "source": [
    "# `Estimator`"
   ]
  },
  {
   "cell_type": "markdown",
   "id": "bf4b8fe4",
   "metadata": {
    "slideshow": {
     "slide_type": "fragment"
    }
   },
   "source": [
    "* interface used to **`estimate`** or learn parameters from a dataset"
   ]
  },
  {
   "cell_type": "markdown",
   "id": "c7c29bd7",
   "metadata": {
    "slideshow": {
     "slide_type": "fragment"
    }
   },
   "source": [
    "* defines the **`fit()`** method, which is used for learning"
   ]
  },
  {
   "cell_type": "markdown",
   "id": "41ef0914",
   "metadata": {
    "slideshow": {
     "slide_type": "fragment"
    }
   },
   "source": [
    "* **defined by interface, not by inheritance**\n",
    "    <br>\n",
    "    \n",
    "  * this means that as long as you implement the required methods / attributes, you can easily create your own estimators"
   ]
  },
  {
   "cell_type": "markdown",
   "id": "c82ee331",
   "metadata": {
    "slideshow": {
     "slide_type": "fragment"
    }
   },
   "source": [
    "**Two main steps:**\n",
    "    \n",
    "   * initialization\n",
    "   * learning"
   ]
  },
  {
   "cell_type": "markdown",
   "id": "4c047a5f",
   "metadata": {
    "slideshow": {
     "slide_type": "slide"
    }
   },
   "source": [
    "## Initialization"
   ]
  },
  {
   "cell_type": "markdown",
   "id": "2539b501",
   "metadata": {
    "slideshow": {
     "slide_type": "fragment"
    }
   },
   "source": [
    "* done **in the constructor**"
   ]
  },
  {
   "cell_type": "markdown",
   "id": "45b9e4bf",
   "metadata": {
    "slideshow": {
     "slide_type": "fragment"
    }
   },
   "source": [
    "* hyperparameters are attached to the estimator object\n",
    "* hyperparameters are model parameters that control the **learning process**\n",
    "    * unlike model parameters (weights) which are discovered through **learning**"
   ]
  },
  {
   "cell_type": "markdown",
   "id": "92999f0b",
   "metadata": {
    "slideshow": {
     "slide_type": "fragment"
    }
   },
   "source": [
    "* sensible defaults are chosen for all hyperparameters that are not specified"
   ]
  },
  {
   "cell_type": "markdown",
   "id": "8e53a4b1",
   "metadata": {
    "slideshow": {
     "slide_type": "fragment"
    }
   },
   "source": [
    "* hyperparameters are available as estimator object attributes"
   ]
  },
  {
   "cell_type": "markdown",
   "id": "564013e9",
   "metadata": {
    "slideshow": {
     "slide_type": "slide"
    }
   },
   "source": [
    "## Learning"
   ]
  },
  {
   "cell_type": "markdown",
   "id": "49c9e065",
   "metadata": {
    "slideshow": {
     "slide_type": "fragment"
    }
   },
   "source": [
    "* done by the **`fit`** method, which is called with the actual training data"
   ]
  },
  {
   "cell_type": "markdown",
   "id": "33df8812",
   "metadata": {
    "slideshow": {
     "slide_type": "fragment"
    }
   },
   "source": [
    "* parameters learned by the estimator are exposed as public attributes on the estimator object, ending with an underscore:\n",
    "    <br>\n",
    "    \n",
    "    * e.g. **`coef_`** for the learned coefficients of a linear model"
   ]
  },
  {
   "cell_type": "markdown",
   "id": "91f9deeb",
   "metadata": {
    "slideshow": {
     "slide_type": "fragment"
    }
   },
   "source": [
    "* the **`fit`** method always returns the estimator object, which has now been trained and can be used to make predictions"
   ]
  },
  {
   "cell_type": "markdown",
   "id": "b84cc3f9",
   "metadata": {
    "slideshow": {
     "slide_type": "slide"
    }
   },
   "source": [
    "### Example:"
   ]
  },
  {
   "cell_type": "code",
   "execution_count": 1,
   "id": "c1fe5172",
   "metadata": {
    "slideshow": {
     "slide_type": "fragment"
    }
   },
   "outputs": [],
   "source": [
    "# Import needed libraries\n",
    "\n",
    "from sklearn import svm"
   ]
  },
  {
   "cell_type": "markdown",
   "id": "f075e5e1",
   "metadata": {
    "slideshow": {
     "slide_type": "fragment"
    }
   },
   "source": [
    "Let's assume that:\n",
    "\n",
    "* we have all our **predictors** in the **`X`** array\n",
    "\n",
    "* we have our **targets** in the **`y`** array"
   ]
  },
  {
   "cell_type": "code",
   "execution_count": 2,
   "id": "7b6ee8be",
   "metadata": {
    "slideshow": {
     "slide_type": "slide"
    }
   },
   "outputs": [
    {
     "data": {
      "image/png": "[encoded data removed]",
      "text/plain": [
       "<Figure size 432x288 with 1 Axes>"
      ]
     },
     "metadata": {
      "needs_background": "light"
     },
     "output_type": "display_data"
    }
   ],
   "source": [
    "# Create random data\n",
    "\n",
    "# You can ignore this block of code, \n",
    "# if just creates some toy data to play around with\n",
    "\n",
    "from sklearn.datasets import make_blobs\n",
    "import matplotlib.pyplot as plt\n",
    "\n",
    "\n",
    "X, y = make_blobs(\n",
    "    n_samples=50, \n",
    "    centers=2, \n",
    "    random_state=0, \n",
    "    cluster_std=0.60\n",
    ")\n",
    "\n",
    "plt.scatter(X[:, 0], X[:, 1], c=y, s=50, cmap='autumn')\n",
    "plt.show()"
   ]
  },
  {
   "cell_type": "markdown",
   "id": "bb663d6d",
   "metadata": {
    "slideshow": {
     "slide_type": "slide"
    }
   },
   "source": [
    "* the code above generates:\n",
    "    * some values (coordinates) in the array `X`\n",
    "    * corresponding classes (1, shown in red and 0, shown in yellow) in the array `y`"
   ]
  },
  {
   "cell_type": "code",
   "execution_count": 3,
   "id": "df5df799",
   "metadata": {
    "scrolled": true,
    "slideshow": {
     "slide_type": "fragment"
    }
   },
   "outputs": [
    {
     "data": {
      "text/plain": [
       "array([[ 1.41281595,  1.5303347 ],\n",
       "       [ 1.81336135,  1.6311307 ],\n",
       "       [ 1.43289271,  4.37679234],\n",
       "       [ 1.87271752,  4.18069237],\n",
       "       [ 2.09517785,  1.0791468 ],\n",
       "       [ 2.73890793,  0.15676817],\n",
       "       [ 3.18515794,  0.08900822],\n",
       "       [ 2.06156753,  1.96918596],\n",
       "       [ 2.03835818,  1.15466278],\n",
       "       [-0.04749204,  5.47425256],\n",
       "       [ 1.71444449,  5.02521524],\n",
       "       [ 0.22459286,  4.77028154],\n",
       "       [ 1.06923853,  4.53068484],\n",
       "       [ 1.53278923,  0.55035386],\n",
       "       [ 1.4949318 ,  3.85848832],\n",
       "       [ 1.1641107 ,  3.79132988],\n",
       "       [ 0.74387399,  4.12240568],\n",
       "       [ 2.29667251,  0.48677761],\n",
       "       [ 0.44359863,  3.11530945],\n",
       "       [ 0.91433877,  4.55014643],\n",
       "       [ 1.67467427,  0.68001896],\n",
       "       [ 2.26908736,  1.32160756],\n",
       "       [ 1.5108885 ,  0.9288309 ],\n",
       "       [ 1.65179125,  0.68193176],\n",
       "       [ 2.49272186,  0.97505341],\n",
       "       [ 2.33812285,  3.43116792],\n",
       "       [ 0.67047877,  4.04094275],\n",
       "       [-0.55552381,  4.69595848],\n",
       "       [ 2.16172321,  0.6565951 ],\n",
       "       [ 2.09680487,  3.7174206 ],\n",
       "       [ 2.18023251,  1.48364708],\n",
       "       [ 0.43899014,  4.53592883],\n",
       "       [ 1.24258802,  4.50399192],\n",
       "       [ 0.00793137,  4.17614316],\n",
       "       [ 1.89593761,  5.18540259],\n",
       "       [ 1.868336  ,  0.93136287],\n",
       "       [ 2.13141478,  1.13885728],\n",
       "       [ 1.06269622,  5.17635143],\n",
       "       [ 2.33466499, -0.02408255],\n",
       "       [ 0.669787  ,  3.59540802],\n",
       "       [ 1.07714851,  1.17533301],\n",
       "       [ 1.54632313,  4.212973  ],\n",
       "       [ 1.56737975, -0.1381059 ],\n",
       "       [ 1.35617762,  1.43815955],\n",
       "       [ 1.00372519,  4.19147702],\n",
       "       [ 1.29297652,  1.47930168],\n",
       "       [ 2.94821884,  2.03519717],\n",
       "       [ 0.3471383 ,  3.45177657],\n",
       "       [ 2.76253526,  0.78970876],\n",
       "       [ 0.76752279,  4.39759671]])"
      ]
     },
     "execution_count": 3,
     "metadata": {},
     "output_type": "execute_result"
    }
   ],
   "source": [
    "X"
   ]
  },
  {
   "cell_type": "code",
   "execution_count": 4,
   "id": "ea1a2e61",
   "metadata": {
    "slideshow": {
     "slide_type": "fragment"
    }
   },
   "outputs": [
    {
     "data": {
      "text/plain": [
       "array([1, 1, 0, 0, 1, 1, 1, 1, 1, 0, 0, 0, 0, 1, 0, 0, 0, 1, 0, 0, 1, 1,\n",
       "       1, 1, 1, 0, 0, 0, 1, 0, 1, 0, 0, 0, 0, 1, 1, 0, 1, 0, 1, 0, 1, 1,\n",
       "       0, 1, 1, 0, 1, 0])"
      ]
     },
     "execution_count": 4,
     "metadata": {},
     "output_type": "execute_result"
    }
   ],
   "source": [
    "y"
   ]
  },
  {
   "cell_type": "markdown",
   "id": "8ddbeadf",
   "metadata": {
    "slideshow": {
     "slide_type": "slide"
    }
   },
   "source": [
    "**IMPORTANT:**\n",
    "\n",
    "* it is important to keep some data aside, for testing purposes\n",
    "* your model **should not** see this data until testing\n",
    "* this testing data will essentially be new to the model\n",
    "    * this will give you an idea of how your model will perform on **unseen data**"
   ]
  },
  {
   "cell_type": "code",
   "execution_count": 5,
   "id": "72573bd5",
   "metadata": {},
   "outputs": [],
   "source": [
    "# Define train and test data\n",
    "\n",
    "X_train = X[:-10]\n",
    "X_test = X[-10:]\n",
    "\n",
    "y_train = y[:-10]\n",
    "y_test = y[-10:]\n"
   ]
  },
  {
   "cell_type": "markdown",
   "id": "05f75060",
   "metadata": {},
   "source": [
    "* we can train a simple SVM classifier to classify the two classes\n",
    "* in other words, we want a model that, given some values for **`X`**, can predict the class **`y`**"
   ]
  },
  {
   "cell_type": "code",
   "execution_count": 6,
   "id": "f0697b76",
   "metadata": {
    "slideshow": {
     "slide_type": "fragment"
    }
   },
   "outputs": [
    {
     "data": {
      "text/plain": [
       "LinearSVC()"
      ]
     },
     "execution_count": 6,
     "metadata": {},
     "output_type": "execute_result"
    }
   ],
   "source": [
    "# Define a simple SVM classifier\n",
    "# The object `classifier` below is a scikit-learn estimator!\n",
    "\n",
    "classifier = svm.LinearSVC()\n",
    "\n",
    "# Train a model\n",
    "\n",
    "classifier.fit(X_train, y_train)"
   ]
  },
  {
   "cell_type": "markdown",
   "id": "a5530611",
   "metadata": {
    "slideshow": {
     "slide_type": "slide"
    }
   },
   "source": [
    "###  `Separating data into datasets using Scikit-Learn`"
   ]
  },
  {
   "cell_type": "markdown",
   "id": "44a460e9",
   "metadata": {
    "slideshow": {
     "slide_type": "fragment"
    }
   },
   "source": [
    "*  **`Scikit-Learn`** makes it very easy to separate data into datasets"
   ]
  },
  {
   "cell_type": "markdown",
   "id": "e1d63354",
   "metadata": {
    "slideshow": {
     "slide_type": "fragment"
    }
   },
   "source": [
    "* in supervised learning we want to train our data on a **training dataset**, and afterward test it on a **test dataset**\n",
    "\n",
    "\n",
    "* testing is very important; without testing we wouldn't know how well our model actually performs!"
   ]
  },
  {
   "cell_type": "markdown",
   "id": "daf50b40",
   "metadata": {
    "slideshow": {
     "slide_type": "fragment"
    }
   },
   "source": [
    "* the easiest way to split a dataset into a train and a test dataset is to use the   **`train_test_split()`** function\n",
    "\n",
    "\n",
    "* **`train_test_split()`**:\n",
    "    * available in **`Scikit-Learn`** \n",
    "    * allows us to split data into train and test dataset by selecting what percentage of our total data we want to use for testing (the rest will get used for training)"
   ]
  },
  {
   "cell_type": "code",
   "execution_count": 7,
   "id": "251ddcd5",
   "metadata": {
    "slideshow": {
     "slide_type": "slide"
    }
   },
   "outputs": [],
   "source": [
    "# Import the needed libraries\n",
    "\n",
    "from sklearn.datasets import make_blobs\n",
    "import matplotlib.pyplot as plt\n",
    "from sklearn import svm\n",
    "from sklearn.model_selection import train_test_split"
   ]
  },
  {
   "cell_type": "code",
   "execution_count": 8,
   "id": "aa897a8f",
   "metadata": {
    "slideshow": {
     "slide_type": "fragment"
    }
   },
   "outputs": [
    {
     "data": {
      "image/png": "[encoded data removed]",
      "text/plain": [
       "<Figure size 432x288 with 1 Axes>"
      ]
     },
     "metadata": {
      "needs_background": "light"
     },
     "output_type": "display_data"
    }
   ],
   "source": [
    "# Create some random data we can use for training\n",
    "\n",
    "X, y = make_blobs(n_samples=50, centers=2,random_state=0, cluster_std=0.60)\n",
    "plt.scatter(X[:, 0], X[:, 1], c=y, s=50, cmap='autumn')\n",
    "plt.show()"
   ]
  },
  {
   "cell_type": "code",
   "execution_count": 9,
   "id": "f6418f73",
   "metadata": {
    "slideshow": {
     "slide_type": "fragment"
    }
   },
   "outputs": [],
   "source": [
    "# Separate data into training data and testing data\n",
    "# 30 % of data will be used for testing, 70 % for training\n",
    "\n",
    "X_train, X_test, y_train, y_test = train_test_split(X, y, test_size=0.3)"
   ]
  },
  {
   "cell_type": "code",
   "execution_count": 10,
   "id": "446346e8",
   "metadata": {
    "slideshow": {
     "slide_type": "slide"
    }
   },
   "outputs": [
    {
     "data": {
      "text/plain": [
       "LinearSVC()"
      ]
     },
     "execution_count": 10,
     "metadata": {},
     "output_type": "execute_result"
    }
   ],
   "source": [
    "# Define a simple SVM classifier\n",
    "\n",
    "classifier = svm.LinearSVC()\n",
    "\n",
    "# Train a model\n",
    "\n",
    "classifier.fit(X_train, y_train)"
   ]
  },
  {
   "cell_type": "markdown",
   "id": "5811dcdb",
   "metadata": {
    "slideshow": {
     "slide_type": "fragment"
    }
   },
   "source": [
    "**The object `classifier` above is an estimator!**"
   ]
  },
  {
   "cell_type": "markdown",
   "id": "d2ef4bc1",
   "metadata": {
    "slideshow": {
     "slide_type": "slide"
    }
   },
   "source": [
    "# `Predictor`"
   ]
  },
  {
   "cell_type": "markdown",
   "id": "3bb03251",
   "metadata": {
    "slideshow": {
     "slide_type": "fragment"
    }
   },
   "source": [
    "* interface that defines the **`predict()`** method\n",
    "    <br>\n",
    "    \n",
    "  * takes an array of unseen values and returns predictions, based on the learned parameters of the estimator"
   ]
  },
  {
   "cell_type": "markdown",
   "id": "2b94da22",
   "metadata": {
    "slideshow": {
     "slide_type": "fragment"
    }
   },
   "source": [
    "* may also implement methods that quantify the confidence of the produced predictions"
   ]
  },
  {
   "cell_type": "markdown",
   "id": "9f2a7d78",
   "metadata": {
    "slideshow": {
     "slide_type": "fragment"
    }
   },
   "source": [
    "* exposes a **`score()`** method that indicates the quality of the produced predictions"
   ]
  },
  {
   "cell_type": "markdown",
   "id": "5c03bdf2",
   "metadata": {
    "slideshow": {
     "slide_type": "slide"
    }
   },
   "source": [
    "## Example:"
   ]
  },
  {
   "cell_type": "code",
   "execution_count": 11,
   "id": "6ee58554",
   "metadata": {
    "slideshow": {
     "slide_type": "fragment"
    }
   },
   "outputs": [],
   "source": [
    "# Define a simple SVM classifier\n",
    "\n",
    "classifier = svm.LinearSVC()\n",
    "\n",
    "# Train a model\n",
    "\n",
    "classifier.fit(X_train, y_train)\n",
    "\n",
    "# Use model to make predictions\n",
    "\n",
    "y_pred = classifier.predict(X_test)"
   ]
  },
  {
   "cell_type": "code",
   "execution_count": 12,
   "id": "92a90369",
   "metadata": {
    "slideshow": {
     "slide_type": "fragment"
    }
   },
   "outputs": [
    {
     "name": "stdout",
     "output_type": "stream",
     "text": [
      "[0 0 1 1 1 0 0 1 0 1 1 1 1 1 0]\n"
     ]
    }
   ],
   "source": [
    "# See predicted values\n",
    "\n",
    "print(y_pred)\n"
   ]
  },
  {
   "cell_type": "code",
   "execution_count": 13,
   "id": "7fb3d166",
   "metadata": {
    "slideshow": {
     "slide_type": "fragment"
    }
   },
   "outputs": [
    {
     "name": "stdout",
     "output_type": "stream",
     "text": [
      "[0 0 1 1 1 0 0 1 0 1 1 1 1 1 0]\n"
     ]
    }
   ],
   "source": [
    "# See real values\n",
    "\n",
    "print(y_test)"
   ]
  },
  {
   "cell_type": "markdown",
   "id": "82997011",
   "metadata": {
    "slideshow": {
     "slide_type": "fragment"
    }
   },
   "source": [
    "* This model seems to get the predictions perfectly right!\n",
    "\n",
    "\n",
    "* Enjoy this moment, because in real life, this will almost never be the case :)"
   ]
  },
  {
   "cell_type": "markdown",
   "id": "d00575f8",
   "metadata": {
    "slideshow": {
     "slide_type": "slide"
    }
   },
   "source": [
    "### `Predicting Probabilities`\n"
   ]
  },
  {
   "cell_type": "markdown",
   "id": "617f1e1a",
   "metadata": {
    "slideshow": {
     "slide_type": "fragment"
    }
   },
   "source": [
    "* classification models can **predict the probability of an instance belonging to a class** (instead of the actual class)\n",
    "   \n",
    "   <br>\n",
    "    \n",
    "  * e.g. for digit recognition, the model internally might come up with a probability that a given digit is 3 or not\n",
    "   \n",
    "   <br>\n",
    "    \n",
    "  * we then use a **threshold**: if the probability is above this **threshold**, we predict that the instance is 3; otherwise we predict it is not"
   ]
  },
  {
   "cell_type": "markdown",
   "id": "5f2dbe89",
   "metadata": {
    "slideshow": {
     "slide_type": "fragment"
    }
   },
   "source": [
    "* why use probabilities?\n",
    " \n",
    "   <br>\n",
    "    \n",
    "  * **thresholds** allow us the flexibility to optimize the model to reduce the rate of errors we want to avoid most (false positives or false negatives)\n",
    "   \n",
    "   <br>\n",
    "    \n",
    "  * we can determine how to interpret a probability, based on what kind of errors we want to minimize (e.g. false positives or false negatives)"
   ]
  },
  {
   "cell_type": "markdown",
   "id": "21816e7a",
   "metadata": {
    "slideshow": {
     "slide_type": "slide"
    }
   },
   "source": [
    "* in **`Scikit-Learn`** you can use **`.predict_proba()`** or **`.decision_function()`** to return the raw probabilities (**`.predict()`** will just return the class)\n",
    " \n",
    "   <br>\n",
    "    \n",
    "  * some models use **`.predict_proba()`** (e.g. **`RandomForestClassifier`**, **`XGBClassifier`**, **`DecisionTreeClassifier`**, etc.)\n",
    "  \n",
    "  * other models also have **`.decision_function()`** available (e.g. **`SVC`** - **Support Vector Classification**)"
   ]
  },
  {
   "cell_type": "markdown",
   "id": "670d9349",
   "metadata": {
    "slideshow": {
     "slide_type": "fragment"
    }
   },
   "source": [
    "* **by default, for binary classification problems, `Scikit-Learn` often uses 0.5 as the threshold for its models**\n",
    " \n",
    "   <br>\n",
    "    \n",
    "  * if the probability of positive class is above 50%, the instance will be classified as a positive class; otherwise, it will be classified as a negative class\n",
    "   \n",
    "   <br>\n",
    "    \n",
    "  * you can control this threshold, which is useful particularly if you're dealing with unbalanced datasets\n",
    "   \n",
    "   <br>\n",
    "    \n",
    "  * therefore, it's worth trying to find the best threshold that fits your needs"
   ]
  },
  {
   "cell_type": "code",
   "execution_count": 14,
   "id": "82f77dc6",
   "metadata": {
    "slideshow": {
     "slide_type": "slide"
    }
   },
   "outputs": [
    {
     "data": {
      "text/plain": [
       "LogisticRegression()"
      ]
     },
     "execution_count": 14,
     "metadata": {},
     "output_type": "execute_result"
    }
   ],
   "source": [
    "from sklearn.linear_model import LogisticRegression\n",
    "\n",
    "classifier = LogisticRegression()\n",
    "\n",
    "classifier.fit(X_train, y_train)"
   ]
  },
  {
   "cell_type": "code",
   "execution_count": 15,
   "id": "38152e2e",
   "metadata": {
    "slideshow": {
     "slide_type": "fragment"
    }
   },
   "outputs": [],
   "source": [
    "# Use model to make predictions\n",
    "\n",
    "y_pred = classifier.predict_proba(X_test)"
   ]
  },
  {
   "cell_type": "code",
   "execution_count": 16,
   "id": "e0901e6a",
   "metadata": {
    "slideshow": {
     "slide_type": "fragment"
    }
   },
   "outputs": [
    {
     "name": "stdout",
     "output_type": "stream",
     "text": [
      "[[0.98472581 0.01527419]\n",
      " [0.99612435 0.00387565]\n",
      " [0.02927257 0.97072743]\n",
      " [0.02034679 0.97965321]\n",
      " [0.00248721 0.99751279]\n",
      " [0.96490717 0.03509283]\n",
      " [0.99614451 0.00385549]\n",
      " [0.01305119 0.98694881]\n",
      " [0.95488317 0.04511683]\n",
      " [0.0037262  0.9962738 ]\n",
      " [0.00330142 0.99669858]\n",
      " [0.04948557 0.95051443]\n",
      " [0.07360152 0.92639848]\n",
      " [0.11727603 0.88272397]\n",
      " [0.98344156 0.01655844]]\n"
     ]
    }
   ],
   "source": [
    "# See probabilities for the test examples\n",
    "\n",
    "print(y_pred)"
   ]
  },
  {
   "cell_type": "markdown",
   "id": "1b7d531c",
   "metadata": {
    "slideshow": {
     "slide_type": "slide"
    }
   },
   "source": [
    "### `Accuracy Score, Confusion Matrix and Classification Report`\n"
   ]
  },
  {
   "cell_type": "markdown",
   "id": "c07c3ad1",
   "metadata": {
    "slideshow": {
     "slide_type": "fragment"
    }
   },
   "source": [
    "* we can calculate accuracy with one line of code using **`Scikit-Learn`**"
   ]
  },
  {
   "cell_type": "code",
   "execution_count": 17,
   "id": "58fdfdbd",
   "metadata": {
    "slideshow": {
     "slide_type": "fragment"
    }
   },
   "outputs": [],
   "source": [
    "# Import metrics from sklearn\n",
    "\n",
    "from sklearn import metrics "
   ]
  },
  {
   "cell_type": "code",
   "execution_count": 18,
   "id": "52bf11cd",
   "metadata": {
    "slideshow": {
     "slide_type": "fragment"
    }
   },
   "outputs": [],
   "source": [
    "# Use model to make predictions\n",
    "\n",
    "y_pred = classifier.predict(X_test)"
   ]
  },
  {
   "cell_type": "code",
   "execution_count": 19,
   "id": "4661ff70",
   "metadata": {
    "slideshow": {
     "slide_type": "slide"
    }
   },
   "outputs": [],
   "source": [
    "# Let's get the accuracy score\n",
    "\n",
    "accuracy_score = metrics.accuracy_score(y_test, y_pred)"
   ]
  },
  {
   "cell_type": "code",
   "execution_count": 20,
   "id": "6d9a49c6",
   "metadata": {
    "slideshow": {
     "slide_type": "fragment"
    }
   },
   "outputs": [
    {
     "data": {
      "text/plain": [
       "1.0"
      ]
     },
     "execution_count": 20,
     "metadata": {},
     "output_type": "execute_result"
    }
   ],
   "source": [
    "accuracy_score"
   ]
  },
  {
   "cell_type": "markdown",
   "id": "1e67fc14",
   "metadata": {
    "slideshow": {
     "slide_type": "fragment"
    }
   },
   "source": [
    "* perfect score, yay!\n",
    "\n",
    "\n",
    "* **be very suspicious when you see this:**\n",
    "    * your model could be overfitting!\n",
    "    * this means that it learns the training set very well, but it might generalize very poorly\n",
    "    \n",
    "    \n",
    "* in this case, the classification is just very easy to do because the two classes are very easy to separate   \n",
    "    * in real life, this is rarely the case"
   ]
  },
  {
   "cell_type": "markdown",
   "id": "481e5b04",
   "metadata": {
    "slideshow": {
     "slide_type": "slide"
    }
   },
   "source": [
    "* it is also very easy to create a **`confusion matrix`** using **`Scikit-Learn`**"
   ]
  },
  {
   "cell_type": "code",
   "execution_count": 21,
   "id": "518ac649",
   "metadata": {
    "scrolled": true,
    "slideshow": {
     "slide_type": "fragment"
    }
   },
   "outputs": [
    {
     "name": "stdout",
     "output_type": "stream",
     "text": [
      "[[6 0]\n",
      " [0 9]]\n"
     ]
    }
   ],
   "source": [
    "# Let's create a confusion matrix\n",
    "\n",
    "cm = metrics.confusion_matrix(y_test, y_pred)\n",
    "\n",
    "print(cm)"
   ]
  },
  {
   "cell_type": "markdown",
   "id": "e7d003f5",
   "metadata": {
    "slideshow": {
     "slide_type": "fragment"
    }
   },
   "source": [
    "**Reminder:**\n",
    "<center><img src=\"https://edlitera-images.s3.us-east-1.amazonaws.com/confusion_matrix.png\" width=\"800\"/>"
   ]
  },
  {
   "cell_type": "markdown",
   "id": "9934d1b6",
   "metadata": {
    "slideshow": {
     "slide_type": "slide"
    }
   },
   "source": [
    "* finally, creating a **`Classification Report`** will let us take a look at the precision, recall and F1 score that our model achieves\n",
    "    <br>\n",
    "    \n",
    "    * **this is usually enough by itself to gauge how well a model performs**"
   ]
  },
  {
   "cell_type": "code",
   "execution_count": 22,
   "id": "c7d5bbc5",
   "metadata": {
    "slideshow": {
     "slide_type": "fragment"
    }
   },
   "outputs": [
    {
     "name": "stdout",
     "output_type": "stream",
     "text": [
      "              precision    recall  f1-score   support\n",
      "\n",
      "           0       1.00      1.00      1.00         6\n",
      "           1       1.00      1.00      1.00         9\n",
      "\n",
      "    accuracy                           1.00        15\n",
      "   macro avg       1.00      1.00      1.00        15\n",
      "weighted avg       1.00      1.00      1.00        15\n",
      "\n"
     ]
    }
   ],
   "source": [
    "# Let's take a look at the classification report\n",
    "\n",
    "print(metrics.classification_report(y_test, y_pred, labels=[0, 1]))"
   ]
  },
  {
   "cell_type": "markdown",
   "id": "499bbc33",
   "metadata": {
    "slideshow": {
     "slide_type": "slide"
    }
   },
   "source": [
    "# `Transformer`"
   ]
  },
  {
   "cell_type": "markdown",
   "id": "23812dc5",
   "metadata": {
    "slideshow": {
     "slide_type": "fragment"
    }
   },
   "source": [
    "* interface that defines the **`transform()`** method"
   ]
  },
  {
   "cell_type": "markdown",
   "id": "cfcc6950",
   "metadata": {
    "slideshow": {
     "slide_type": "fragment"
    }
   },
   "source": [
    "* provides the ability to transform the data"
   ]
  },
  {
   "cell_type": "markdown",
   "id": "998c86b2",
   "metadata": {
    "slideshow": {
     "slide_type": "fragment"
    }
   },
   "source": [
    "* also provides:\n",
    "    <br>\n",
    "    \n",
    "    * **pre-processing**\n",
    "        <br>\n",
    "    \n",
    "    * **feature selection**\n",
    "        <br>\n",
    "    \n",
    "    * **feature extraction**\n",
    "        <br>\n",
    "    \n",
    "    * **dimensionality reduction**"
   ]
  },
  {
   "cell_type": "markdown",
   "id": "4ff11b38",
   "metadata": {
    "slideshow": {
     "slide_type": "slide"
    }
   },
   "source": [
    "## Example:"
   ]
  },
  {
   "cell_type": "code",
   "execution_count": 23,
   "id": "6c3b40d8",
   "metadata": {
    "slideshow": {
     "slide_type": "fragment"
    }
   },
   "outputs": [],
   "source": [
    "# Import needed library\n",
    "\n",
    "from sklearn.preprocessing import StandardScaler"
   ]
  },
  {
   "cell_type": "code",
   "execution_count": 24,
   "id": "ec76ddb8",
   "metadata": {
    "slideshow": {
     "slide_type": "fragment"
    }
   },
   "outputs": [],
   "source": [
    "# Define scaler\n",
    "\n",
    "scaler = StandardScaler()\n",
    "\n",
    "# Scale data\n",
    "\n",
    "data = scaler.fit(X_train,y_train).transform(X_train)"
   ]
  },
  {
   "cell_type": "code",
   "execution_count": 25,
   "id": "c5b85724",
   "metadata": {},
   "outputs": [],
   "source": [
    "data_transform = scaler.transform(X_train)"
   ]
  },
  {
   "cell_type": "code",
   "execution_count": 26,
   "id": "c9ab5d24",
   "metadata": {},
   "outputs": [
    {
     "name": "stdout",
     "output_type": "stream",
     "text": [
      "[[-0.20878047 -0.78887686]\n",
      " [ 0.82217532 -0.98401019]\n",
      " [ 0.31915511 -1.26930818]\n",
      " [-0.38701797  0.60083258]\n",
      " [-1.38995012  1.04839468]\n",
      " [-1.07072929  0.48306825]\n",
      " [ 0.09261897 -1.11975278]\n",
      " [ 0.12291041 -1.34724702]\n",
      " [ 1.23678723  0.38434713]\n",
      " [-1.06977248  0.7508694 ]\n",
      " [ 0.85427674 -0.49441817]\n",
      " [ 0.37416228  1.34249401]\n",
      " [ 0.07054886  0.64120004]\n",
      " [-0.12136547 -0.81360649]\n",
      " [ 1.45061694 -1.09196944]\n",
      " [ 0.90076401 -1.02940119]\n",
      " [ 0.95088419 -0.99351053]\n",
      " [-1.51699267  0.39673453]\n",
      " [ 0.17075342 -1.76106509]\n",
      " [ 0.51097664 -0.69761577]\n",
      " [-0.96825774  0.79983498]\n",
      " [-0.60885113  0.84135225]\n",
      " [ 2.08062606 -0.45474028]\n",
      " [-0.9355485   0.96524628]\n",
      " [-1.68648829  1.18925896]\n",
      " [ 0.6251899   1.43877911]\n",
      " [-0.7324837   1.05694057]\n",
      " [ 1.0184052  -0.78626494]\n",
      " [-1.38357601  0.19449153]\n",
      " [ 0.99280453 -1.28338775]\n",
      " [ 0.90301438  0.55640733]\n",
      " [ 1.17945624 -1.38546132]\n",
      " [-0.01525893  0.95274122]\n",
      " [-0.518238    1.04524263]\n",
      " [-2.06281563  1.6124005 ]]\n"
     ]
    }
   ],
   "source": [
    "print(data_transform)"
   ]
  },
  {
   "cell_type": "code",
   "execution_count": 27,
   "id": "bc38b006",
   "metadata": {},
   "outputs": [
    {
     "name": "stdout",
     "output_type": "stream",
     "text": [
      "[[-0.20878047 -0.78887686]\n",
      " [ 0.82217532 -0.98401019]\n",
      " [ 0.31915511 -1.26930818]\n",
      " [-0.38701797  0.60083258]\n",
      " [-1.38995012  1.04839468]\n",
      " [-1.07072929  0.48306825]\n",
      " [ 0.09261897 -1.11975278]\n",
      " [ 0.12291041 -1.34724702]\n",
      " [ 1.23678723  0.38434713]\n",
      " [-1.06977248  0.7508694 ]\n",
      " [ 0.85427674 -0.49441817]\n",
      " [ 0.37416228  1.34249401]\n",
      " [ 0.07054886  0.64120004]\n",
      " [-0.12136547 -0.81360649]\n",
      " [ 1.45061694 -1.09196944]\n",
      " [ 0.90076401 -1.02940119]\n",
      " [ 0.95088419 -0.99351053]\n",
      " [-1.51699267  0.39673453]\n",
      " [ 0.17075342 -1.76106509]\n",
      " [ 0.51097664 -0.69761577]\n",
      " [-0.96825774  0.79983498]\n",
      " [-0.60885113  0.84135225]\n",
      " [ 2.08062606 -0.45474028]\n",
      " [-0.9355485   0.96524628]\n",
      " [-1.68648829  1.18925896]\n",
      " [ 0.6251899   1.43877911]\n",
      " [-0.7324837   1.05694057]\n",
      " [ 1.0184052  -0.78626494]\n",
      " [-1.38357601  0.19449153]\n",
      " [ 0.99280453 -1.28338775]\n",
      " [ 0.90301438  0.55640733]\n",
      " [ 1.17945624 -1.38546132]\n",
      " [-0.01525893  0.95274122]\n",
      " [-0.518238    1.04524263]\n",
      " [-2.06281563  1.6124005 ]]\n"
     ]
    }
   ],
   "source": [
    "print(data)"
   ]
  },
  {
   "cell_type": "markdown",
   "id": "3f9ada54",
   "metadata": {
    "slideshow": {
     "slide_type": "slide"
    }
   },
   "source": [
    "**Compare:**"
   ]
  },
  {
   "cell_type": "code",
   "execution_count": 28,
   "id": "b2acd0fa",
   "metadata": {
    "slideshow": {
     "slide_type": "fragment"
    }
   },
   "outputs": [
    {
     "data": {
      "text/plain": [
       "array([[ 1.29297652,  1.47930168],\n",
       "       [ 2.03835818,  1.15466278],\n",
       "       [ 1.67467427,  0.68001896],\n",
       "       [ 1.1641107 ,  3.79132988],\n",
       "       [ 0.43899014,  4.53592883],\n",
       "       [ 0.669787  ,  3.59540802],\n",
       "       [ 1.5108885 ,  0.9288309 ],\n",
       "       [ 1.53278923,  0.55035386],\n",
       "       [ 2.33812285,  3.43116792],\n",
       "       [ 0.67047877,  4.04094275],\n",
       "       [ 2.06156753,  1.96918596],\n",
       "       [ 1.71444449,  5.02521524],\n",
       "       [ 1.4949318 ,  3.85848832],\n",
       "       [ 1.35617762,  1.43815955],\n",
       "       [ 2.49272186,  0.97505341],\n",
       "       [ 2.09517785,  1.0791468 ],\n",
       "       [ 2.13141478,  1.13885728],\n",
       "       [ 0.3471383 ,  3.45177657],\n",
       "       [ 1.56737975, -0.1381059 ],\n",
       "       [ 1.81336135,  1.6311307 ],\n",
       "       [ 0.74387399,  4.12240568],\n",
       "       [ 1.00372519,  4.19147702],\n",
       "       [ 2.94821884,  2.03519717],\n",
       "       [ 0.76752279,  4.39759671],\n",
       "       [ 0.22459286,  4.77028154],\n",
       "       [ 1.89593761,  5.18540259],\n",
       "       [ 0.91433877,  4.55014643],\n",
       "       [ 2.18023251,  1.48364708],\n",
       "       [ 0.44359863,  3.11530945],\n",
       "       [ 2.16172321,  0.6565951 ],\n",
       "       [ 2.09680487,  3.7174206 ],\n",
       "       [ 2.29667251,  0.48677761],\n",
       "       [ 1.43289271,  4.37679234],\n",
       "       [ 1.06923853,  4.53068484],\n",
       "       [-0.04749204,  5.47425256]])"
      ]
     },
     "execution_count": 28,
     "metadata": {},
     "output_type": "execute_result"
    }
   ],
   "source": [
    "X_train"
   ]
  },
  {
   "cell_type": "code",
   "execution_count": null,
   "id": "a235e10f",
   "metadata": {
    "slideshow": {
     "slide_type": "fragment"
    }
   },
   "outputs": [],
   "source": [
    "data"
   ]
  },
  {
   "cell_type": "markdown",
   "id": "52655b87",
   "metadata": {
    "slideshow": {
     "slide_type": "slide"
    }
   },
   "source": [
    "### Btw:\n",
    "\n",
    "* **scaling** is a very important step of data preprocessing\n",
    "\n",
    "* most classic ML models will not perform as well if the data is not scaled \n",
    "    * e.g. features that have higher values could end up being judged as more important \n",
    "    \n",
    "* many ways to scale your data\n",
    "    * `StandardScaler` modifies each input variable such that it ends up having a mean of 0 and a standard deviation of 1"
   ]
  },
  {
   "cell_type": "markdown",
   "id": "a111385f",
   "metadata": {
    "slideshow": {
     "slide_type": "slide"
    }
   },
   "source": [
    "**NOTE:** \n",
    "\n",
    "* transformers allow **`fit(train_data).transform(train_data)`** to be written as **`fit_transform(train_data)`**"
   ]
  },
  {
   "cell_type": "code",
   "execution_count": null,
   "id": "5fcdc073",
   "metadata": {
    "slideshow": {
     "slide_type": "fragment"
    }
   },
   "outputs": [],
   "source": [
    "# Define scaler\n",
    "\n",
    "scaler = StandardScaler()\n",
    "\n",
    "# Scale data \n",
    "\n",
    "data = scaler.fit_transform(X_train)"
   ]
  },
  {
   "cell_type": "markdown",
   "id": "ac200cb2",
   "metadata": {
    "slideshow": {
     "slide_type": "slide"
    }
   },
   "source": [
    " <div>\n",
    "<img src=\"https://edlitera-images.s3.amazonaws.com/new_edlitera_logo.png\" width=\"500\"/>\n",
    "</div>"
   ]
  }
 ],
 "metadata": {
  "celltoolbar": "Slideshow",
  "kernelspec": {
   "display_name": "Python 3 (ipykernel)",
   "language": "python",
   "name": "python3"
  },
  "language_info": {
   "codemirror_mode": {
    "name": "ipython",
    "version": 3
   },
   "file_extension": ".py",
   "mimetype": "text/x-python",
   "name": "python",
   "nbconvert_exporter": "python",
   "pygments_lexer": "ipython3",
   "version": "3.9.7"
  }
 },
 "nbformat": 4,
 "nbformat_minor": 5
}
